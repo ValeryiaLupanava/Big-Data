{
 "cells": [
  {
   "cell_type": "markdown",
   "metadata": {},
   "source": [
    "## Импортируем библиотеки и делаем предварительные настройки"
   ]
  },
  {
   "cell_type": "code",
   "execution_count": 48,
   "metadata": {},
   "outputs": [],
   "source": [
    "import pandas as pd\n",
    "import numpy as np\n",
    "import xgboost as xgb\n",
    "from sklearn.ensemble import RandomForestClassifier\n",
    "from sklearn.metrics import precision_score, \\\n",
    "    recall_score, f1_score, accuracy_score, roc_curve, roc_auc_score\n",
    "from sklearn.model_selection import train_test_split"
   ]
  },
  {
   "source": [
    "Настраиваем отображение в Pandas"
   ],
   "cell_type": "markdown",
   "metadata": {}
  },
  {
   "cell_type": "code",
   "execution_count": 49,
   "metadata": {},
   "outputs": [],
   "source": [
    "pd.set_option('display.max_rows', 500)\n",
    "pd.set_option('display.max_columns', 500)\n",
    "pd.set_option('display.width', 150)"
   ]
  },
  {
   "cell_type": "markdown",
   "metadata": {},
   "source": [
    "## Знакомимся с данными"
   ]
  },
  {
   "cell_type": "code",
   "execution_count": 50,
   "metadata": {},
   "outputs": [],
   "source": [
    "data = pd.read_csv('./data/lab04_train.csv', index_col=[0])"
   ]
  },
  {
   "cell_type": "code",
   "execution_count": 51,
   "metadata": {},
   "outputs": [
    {
     "output_type": "execute_result",
     "data": {
      "text/plain": [
       "            ID  CR_PROD_CNT_IL  AMOUNT_RUB_CLO_PRC  PRC_ACCEPTS_A_EMAIL_LINK  APP_REGISTR_RGN_CODE  PRC_ACCEPTS_A_POS  PRC_ACCEPTS_A_TK  \\\n",
       "333149  479990               0                 0.0                       0.0                   NaN                0.0               0.0   \n",
       "303639  450480               0                 0.0                       0.0                   NaN                0.0               0.0   \n",
       "327113  473954               0                 0.0                       0.0                   NaN                0.0               0.0   \n",
       "384197  531038               0                 0.0                       NaN                   NaN                NaN               NaN   \n",
       "202462  349303               0                 0.0                       0.0                   NaN                0.0               0.0   \n",
       "\n",
       "        TURNOVER_DYNAMIC_IL_1M  CNT_TRAN_AUT_TENDENCY1M  SUM_TRAN_AUT_TENDENCY1M  AMOUNT_RUB_SUP_PRC  PRC_ACCEPTS_A_AMOBILE  \\\n",
       "333149                     0.0                      NaN                      NaN            0.000000                    0.0   \n",
       "303639                     0.0                      NaN                      NaN            0.027168                    0.0   \n",
       "327113                     0.0                      NaN                      NaN            0.114951                    0.0   \n",
       "384197                     0.0                      NaN                      NaN            0.000000                    NaN   \n",
       "202462                     0.0                      NaN                      NaN            0.011541                    0.0   \n",
       "\n",
       "        SUM_TRAN_AUT_TENDENCY3M CLNT_TRUST_RELATION  PRC_ACCEPTS_TK  PRC_ACCEPTS_A_MTP  REST_DYNAMIC_FDEP_1M  CNT_TRAN_AUT_TENDENCY3M  \\\n",
       "333149                      NaN                 NaN             0.0                0.0                   0.0                      NaN   \n",
       "303639                      NaN                 NaN             0.0                0.0                   0.0                      NaN   \n",
       "327113                      NaN                 NaN             0.0                0.0                   0.0                      NaN   \n",
       "384197                      NaN                 NaN             NaN                NaN                   0.0                      NaN   \n",
       "202462                      1.0                 NaN             0.0                0.0                   0.0                      1.0   \n",
       "\n",
       "        CNT_ACCEPTS_TK APP_MARITAL_STATUS  REST_DYNAMIC_SAVE_3M  CR_PROD_CNT_VCU   REST_AVG_CUR  CNT_TRAN_MED_TENDENCY1M  \\\n",
       "333149             0.0                NaN                   0.0              0.0   19069.691717                      NaN   \n",
       "303639             0.0                NaN                   0.0              0.0    5951.208683                      NaN   \n",
       "327113             0.0                NaN                   0.0              0.0    3774.582933                     0.25   \n",
       "384197             NaN                NaN                   0.0              0.0  148568.263850                      NaN   \n",
       "202462             0.0                NaN                   0.0              0.0   69233.388700                      NaN   \n",
       "\n",
       "       APP_KIND_OF_PROP_HABITATION CLNT_JOB_POSITION_TYPE  AMOUNT_RUB_NAS_PRC CLNT_JOB_POSITION APP_DRIVING_LICENSE  TRANS_COUNT_SUP_PRC  \\\n",
       "333149                         NaN                    NaN            0.000000               NaN                 NaN             0.000000   \n",
       "303639                         NaN                    NaN            0.048746     офис-менеджер                 NaN             0.030303   \n",
       "327113                         NaN                    NaN            0.004519       консультант                 NaN             0.363636   \n",
       "384197                         NaN                    NaN            0.000000               NaN                 NaN             0.000000   \n",
       "202462                         NaN                    NaN            0.000000         экономист                 NaN             0.083333   \n",
       "\n",
       "       APP_EDUCATION  CNT_TRAN_CLO_TENDENCY1M  SUM_TRAN_MED_TENDENCY1M  PRC_ACCEPTS_A_ATM  PRC_ACCEPTS_MTP  TRANS_COUNT_NAS_PRC APP_TRAVEL_PASS  \\\n",
       "333149           NaN                      NaN                      NaN                0.0              0.0             0.000000             NaN   \n",
       "303639           NaN                      NaN                      NaN                0.0              0.0             0.030303             NaN   \n",
       "327113           NaN                      NaN                 0.279487                0.0              0.0             0.136364             NaN   \n",
       "384197           NaN                      NaN                      NaN                NaN              NaN             0.000000             NaN   \n",
       "202462           NaN                      NaN                      NaN                0.0              0.0             0.000000             NaN   \n",
       "\n",
       "        CNT_ACCEPTS_MTP  CR_PROD_CNT_TOVR APP_CAR  CR_PROD_CNT_PIL  SUM_TRAN_CLO_TENDENCY1M APP_POSITION_TYPE  TURNOVER_CC  TRANS_COUNT_ATM_PRC  \\\n",
       "333149              0.0               1.0     NaN              0.0                      NaN               NaN          0.0             0.981818   \n",
       "303639              0.0               1.0     NaN              0.0                      NaN               NaN          0.0             0.090909   \n",
       "327113              0.0               1.0     NaN              0.0                      NaN               NaN          0.0             0.136364   \n",
       "384197              NaN               0.0     NaN              0.0                      NaN               NaN          0.0             0.666667   \n",
       "202462              0.0               0.0     NaN              0.0                      NaN               NaN          0.0             0.250000   \n",
       "\n",
       "        AMOUNT_RUB_ATM_PRC  TURNOVER_PAYM    AGE  CNT_TRAN_MED_TENDENCY3M  CR_PROD_CNT_CC  SUM_TRAN_MED_TENDENCY3M  REST_DYNAMIC_FDEP_3M  \\\n",
       "333149            0.926472            0.0  324.0                      NaN             0.0                      NaN                   0.0   \n",
       "303639            0.292473            0.0  360.0                      NaN             0.0                      NaN                   0.0   \n",
       "327113            0.533251            0.0  600.0                      1.0             0.0                      1.0                   0.0   \n",
       "384197            0.761035            0.0  732.0                      NaN             0.0                      NaN                   0.0   \n",
       "202462            0.486608            0.0  480.0                      NaN             0.0                      NaN                   0.0   \n",
       "\n",
       "        REST_DYNAMIC_IL_1M APP_EMP_TYPE  SUM_TRAN_CLO_TENDENCY3M  LDEAL_TENOR_MAX  LDEAL_YQZ_CHRG  CR_PROD_CNT_CCFP  DEAL_YQZ_IR_MAX  LDEAL_YQZ_COM  \\\n",
       "333149                 0.0          NaN                      NaN              NaN             NaN               0.0              NaN            NaN   \n",
       "303639                 0.0          NaN                      NaN              NaN             NaN               0.0              NaN            NaN   \n",
       "327113                 0.0          NaN                      NaN              NaN             NaN               0.0              NaN            NaN   \n",
       "384197                 0.0          NaN                      NaN              NaN             NaN               0.0              NaN            NaN   \n",
       "202462                 0.0          NaN                      NaN              NaN             NaN               0.0              NaN            NaN   \n",
       "\n",
       "        DEAL_YQZ_IR_MIN  CNT_TRAN_CLO_TENDENCY3M  REST_DYNAMIC_CUR_1M  REST_AVG_PAYM  LDEAL_TENOR_MIN  LDEAL_AMT_MONTH APP_COMP_TYPE  \\\n",
       "333149              NaN                      NaN             0.139327            0.0              NaN              NaN           NaN   \n",
       "303639              NaN                      NaN             0.163876            0.0              NaN              NaN           NaN   \n",
       "327113              NaN                      NaN             0.073887            0.0              NaN              NaN           NaN   \n",
       "384197              NaN                      NaN             0.165847            0.0              NaN              NaN           NaN   \n",
       "202462              NaN                      NaN             0.055603            0.0              NaN              NaN           NaN   \n",
       "\n",
       "        LDEAL_GRACE_DAYS_PCT_MED  REST_DYNAMIC_CUR_3M  CNT_TRAN_SUP_TENDENCY3M  TURNOVER_DYNAMIC_CUR_1M  REST_DYNAMIC_PAYM_3M  \\\n",
       "333149                       0.0             0.244042                      NaN                 0.144300                   0.0   \n",
       "303639                       0.0             0.465244                    1.000                 0.203484                   0.0   \n",
       "327113                       0.0             0.490018                    0.375                 0.090256                   0.0   \n",
       "384197                       0.0             0.497541                      NaN                 0.000000                   0.0   \n",
       "202462                       0.0             0.247153                      NaN                 0.316277                   0.0   \n",
       "\n",
       "        SUM_TRAN_SUP_TENDENCY3M  REST_DYNAMIC_IL_3M  CNT_TRAN_ATM_TENDENCY3M  CNT_TRAN_ATM_TENDENCY1M  TURNOVER_DYNAMIC_IL_3M  \\\n",
       "333149                      NaN                 0.0                 0.351852                 0.166667                     0.0   \n",
       "303639                 1.000000                 0.0                 0.333333                 0.333333                     0.0   \n",
       "327113                 0.317348                 0.0                      NaN                      NaN                     0.0   \n",
       "384197                      NaN                 0.0                      NaN                      NaN                     0.0   \n",
       "202462                      NaN                 0.0                 0.666667                 0.666667                     0.0   \n",
       "\n",
       "        SUM_TRAN_ATM_TENDENCY3M  DEAL_GRACE_DAYS_ACC_S1X1  AVG_PCT_MONTH_TO_PCLOSE  DEAL_YWZ_IR_MIN  SUM_TRAN_SUP_TENDENCY1M  DEAL_YWZ_IR_MAX  \\\n",
       "333149                 0.329321                       0.0                      NaN             45.0                      NaN             45.0   \n",
       "303639                 0.333333                       0.0                      NaN             45.0                      NaN             45.0   \n",
       "327113                      NaN                       0.0                      NaN             45.0                      NaN             45.0   \n",
       "384197                      NaN                       NaN                      NaN              NaN                      NaN              NaN   \n",
       "202462                 0.416697                       NaN                      NaN              NaN                      NaN              NaN   \n",
       "\n",
       "        SUM_TRAN_ATM_TENDENCY1M  REST_DYNAMIC_PAYM_1M  CNT_TRAN_SUP_TENDENCY1M  DEAL_GRACE_DAYS_ACC_AVG  TURNOVER_DYNAMIC_CUR_3M PACK  \\\n",
       "333149                 0.167901                   0.0                      NaN                      0.0                 0.303750  102   \n",
       "303639                 0.333333                   0.0                      NaN                      0.0                 0.504160  102   \n",
       "327113                      NaN                   0.0                      NaN                      0.0                 0.351398  102   \n",
       "384197                      NaN                   0.0                      NaN                      NaN                 0.000000  K01   \n",
       "202462                 0.416697                   0.0                      NaN                      NaN                 0.735125  K01   \n",
       "\n",
       "        MAX_PCLOSE_DATE  LDEAL_YQZ_PC  CLNT_SETUP_TENOR  DEAL_GRACE_DAYS_ACC_MAX  TURNOVER_DYNAMIC_PAYM_3M  LDEAL_DELINQ_PER_MAXYQZ  \\\n",
       "333149              NaN           NaN          5.480001                      0.0                       0.0                      NaN   \n",
       "303639              NaN           NaN          6.786453                      0.0                       0.0                      NaN   \n",
       "327113              NaN           NaN          8.528388                      0.0                       0.0                      NaN   \n",
       "384197              NaN           NaN          3.291829                      NaN                       0.0                      NaN   \n",
       "202462              NaN           NaN          5.160219                      NaN                       0.0                      NaN   \n",
       "\n",
       "        TURNOVER_DYNAMIC_PAYM_1M  CLNT_SALARY_VALUE  TRANS_AMOUNT_TENDENCY3M  MED_DEBT_PRC_YQZ  TRANS_CNT_TENDENCY3M  LDEAL_USED_AMT_AVG_YQZ  \\\n",
       "333149                       0.0                NaN                 0.305106               NaN              0.345455                     NaN   \n",
       "303639                       0.0                NaN                 0.368799               NaN              0.454545                     NaN   \n",
       "327113                       0.0                NaN                 0.358522               NaN              0.318182                     NaN   \n",
       "384197                       0.0                NaN                      NaN               NaN                   NaN                     NaN   \n",
       "202462                       0.0                NaN                 0.688108               NaN              0.750000                     NaN   \n",
       "\n",
       "        REST_DYNAMIC_CC_1M  LDEAL_USED_AMT_AVG_YWZ  TURNOVER_DYNAMIC_CC_1M  AVG_PCT_DEBT_TO_DEAL_AMT  LDEAL_ACT_DAYS_ACC_PCT_AVG  \\\n",
       "333149                 0.0                     1.0                     0.0                       NaN                    0.003524   \n",
       "303639                 0.0                     1.0                     0.0                       NaN                    0.000618   \n",
       "327113                 0.0                     1.0                     0.0                       NaN                    0.027484   \n",
       "384197                 0.0                     NaN                     0.0                       NaN                         NaN   \n",
       "202462                 0.0                     NaN                     0.0                       NaN                         NaN   \n",
       "\n",
       "        REST_DYNAMIC_CC_3M  MED_DEBT_PRC_YWZ  LDEAL_ACT_DAYS_PCT_TR3  LDEAL_ACT_DAYS_PCT_AAVG  LDEAL_DELINQ_PER_MAXYWZ  TURNOVER_DYNAMIC_CC_3M  \\\n",
       "333149                 0.0               0.0                     0.0                      0.0                      0.0                     0.0   \n",
       "303639                 0.0               0.0                     0.0                      0.0                      0.0                     0.0   \n",
       "327113                 0.0               0.0                     0.0                      0.0                      0.0                     0.0   \n",
       "384197                 0.0               NaN                     NaN                      NaN                      NaN                     0.0   \n",
       "202462                 0.0               NaN                     NaN                      NaN                      NaN                     0.0   \n",
       "\n",
       "        LDEAL_ACT_DAYS_PCT_TR  LDEAL_ACT_DAYS_PCT_TR4  LDEAL_ACT_DAYS_PCT_CURR  TARGET  \n",
       "333149                    0.0                     0.0                      0.0     0.0  \n",
       "303639                    0.0                     0.0                      0.0     0.0  \n",
       "327113                    0.0                     0.0                      0.0     0.0  \n",
       "384197                    NaN                     NaN                      NaN     0.0  \n",
       "202462                    NaN                     NaN                      NaN     0.0  "
      ],
      "text/html": "<div>\n<style scoped>\n    .dataframe tbody tr th:only-of-type {\n        vertical-align: middle;\n    }\n\n    .dataframe tbody tr th {\n        vertical-align: top;\n    }\n\n    .dataframe thead th {\n        text-align: right;\n    }\n</style>\n<table border=\"1\" class=\"dataframe\">\n  <thead>\n    <tr style=\"text-align: right;\">\n      <th></th>\n      <th>ID</th>\n      <th>CR_PROD_CNT_IL</th>\n      <th>AMOUNT_RUB_CLO_PRC</th>\n      <th>PRC_ACCEPTS_A_EMAIL_LINK</th>\n      <th>APP_REGISTR_RGN_CODE</th>\n      <th>PRC_ACCEPTS_A_POS</th>\n      <th>PRC_ACCEPTS_A_TK</th>\n      <th>TURNOVER_DYNAMIC_IL_1M</th>\n      <th>CNT_TRAN_AUT_TENDENCY1M</th>\n      <th>SUM_TRAN_AUT_TENDENCY1M</th>\n      <th>AMOUNT_RUB_SUP_PRC</th>\n      <th>PRC_ACCEPTS_A_AMOBILE</th>\n      <th>SUM_TRAN_AUT_TENDENCY3M</th>\n      <th>CLNT_TRUST_RELATION</th>\n      <th>PRC_ACCEPTS_TK</th>\n      <th>PRC_ACCEPTS_A_MTP</th>\n      <th>REST_DYNAMIC_FDEP_1M</th>\n      <th>CNT_TRAN_AUT_TENDENCY3M</th>\n      <th>CNT_ACCEPTS_TK</th>\n      <th>APP_MARITAL_STATUS</th>\n      <th>REST_DYNAMIC_SAVE_3M</th>\n      <th>CR_PROD_CNT_VCU</th>\n      <th>REST_AVG_CUR</th>\n      <th>CNT_TRAN_MED_TENDENCY1M</th>\n      <th>APP_KIND_OF_PROP_HABITATION</th>\n      <th>CLNT_JOB_POSITION_TYPE</th>\n      <th>AMOUNT_RUB_NAS_PRC</th>\n      <th>CLNT_JOB_POSITION</th>\n      <th>APP_DRIVING_LICENSE</th>\n      <th>TRANS_COUNT_SUP_PRC</th>\n      <th>APP_EDUCATION</th>\n      <th>CNT_TRAN_CLO_TENDENCY1M</th>\n      <th>SUM_TRAN_MED_TENDENCY1M</th>\n      <th>PRC_ACCEPTS_A_ATM</th>\n      <th>PRC_ACCEPTS_MTP</th>\n      <th>TRANS_COUNT_NAS_PRC</th>\n      <th>APP_TRAVEL_PASS</th>\n      <th>CNT_ACCEPTS_MTP</th>\n      <th>CR_PROD_CNT_TOVR</th>\n      <th>APP_CAR</th>\n      <th>CR_PROD_CNT_PIL</th>\n      <th>SUM_TRAN_CLO_TENDENCY1M</th>\n      <th>APP_POSITION_TYPE</th>\n      <th>TURNOVER_CC</th>\n      <th>TRANS_COUNT_ATM_PRC</th>\n      <th>AMOUNT_RUB_ATM_PRC</th>\n      <th>TURNOVER_PAYM</th>\n      <th>AGE</th>\n      <th>CNT_TRAN_MED_TENDENCY3M</th>\n      <th>CR_PROD_CNT_CC</th>\n      <th>SUM_TRAN_MED_TENDENCY3M</th>\n      <th>REST_DYNAMIC_FDEP_3M</th>\n      <th>REST_DYNAMIC_IL_1M</th>\n      <th>APP_EMP_TYPE</th>\n      <th>SUM_TRAN_CLO_TENDENCY3M</th>\n      <th>LDEAL_TENOR_MAX</th>\n      <th>LDEAL_YQZ_CHRG</th>\n      <th>CR_PROD_CNT_CCFP</th>\n      <th>DEAL_YQZ_IR_MAX</th>\n      <th>LDEAL_YQZ_COM</th>\n      <th>DEAL_YQZ_IR_MIN</th>\n      <th>CNT_TRAN_CLO_TENDENCY3M</th>\n      <th>REST_DYNAMIC_CUR_1M</th>\n      <th>REST_AVG_PAYM</th>\n      <th>LDEAL_TENOR_MIN</th>\n      <th>LDEAL_AMT_MONTH</th>\n      <th>APP_COMP_TYPE</th>\n      <th>LDEAL_GRACE_DAYS_PCT_MED</th>\n      <th>REST_DYNAMIC_CUR_3M</th>\n      <th>CNT_TRAN_SUP_TENDENCY3M</th>\n      <th>TURNOVER_DYNAMIC_CUR_1M</th>\n      <th>REST_DYNAMIC_PAYM_3M</th>\n      <th>SUM_TRAN_SUP_TENDENCY3M</th>\n      <th>REST_DYNAMIC_IL_3M</th>\n      <th>CNT_TRAN_ATM_TENDENCY3M</th>\n      <th>CNT_TRAN_ATM_TENDENCY1M</th>\n      <th>TURNOVER_DYNAMIC_IL_3M</th>\n      <th>SUM_TRAN_ATM_TENDENCY3M</th>\n      <th>DEAL_GRACE_DAYS_ACC_S1X1</th>\n      <th>AVG_PCT_MONTH_TO_PCLOSE</th>\n      <th>DEAL_YWZ_IR_MIN</th>\n      <th>SUM_TRAN_SUP_TENDENCY1M</th>\n      <th>DEAL_YWZ_IR_MAX</th>\n      <th>SUM_TRAN_ATM_TENDENCY1M</th>\n      <th>REST_DYNAMIC_PAYM_1M</th>\n      <th>CNT_TRAN_SUP_TENDENCY1M</th>\n      <th>DEAL_GRACE_DAYS_ACC_AVG</th>\n      <th>TURNOVER_DYNAMIC_CUR_3M</th>\n      <th>PACK</th>\n      <th>MAX_PCLOSE_DATE</th>\n      <th>LDEAL_YQZ_PC</th>\n      <th>CLNT_SETUP_TENOR</th>\n      <th>DEAL_GRACE_DAYS_ACC_MAX</th>\n      <th>TURNOVER_DYNAMIC_PAYM_3M</th>\n      <th>LDEAL_DELINQ_PER_MAXYQZ</th>\n      <th>TURNOVER_DYNAMIC_PAYM_1M</th>\n      <th>CLNT_SALARY_VALUE</th>\n      <th>TRANS_AMOUNT_TENDENCY3M</th>\n      <th>MED_DEBT_PRC_YQZ</th>\n      <th>TRANS_CNT_TENDENCY3M</th>\n      <th>LDEAL_USED_AMT_AVG_YQZ</th>\n      <th>REST_DYNAMIC_CC_1M</th>\n      <th>LDEAL_USED_AMT_AVG_YWZ</th>\n      <th>TURNOVER_DYNAMIC_CC_1M</th>\n      <th>AVG_PCT_DEBT_TO_DEAL_AMT</th>\n      <th>LDEAL_ACT_DAYS_ACC_PCT_AVG</th>\n      <th>REST_DYNAMIC_CC_3M</th>\n      <th>MED_DEBT_PRC_YWZ</th>\n      <th>LDEAL_ACT_DAYS_PCT_TR3</th>\n      <th>LDEAL_ACT_DAYS_PCT_AAVG</th>\n      <th>LDEAL_DELINQ_PER_MAXYWZ</th>\n      <th>TURNOVER_DYNAMIC_CC_3M</th>\n      <th>LDEAL_ACT_DAYS_PCT_TR</th>\n      <th>LDEAL_ACT_DAYS_PCT_TR4</th>\n      <th>LDEAL_ACT_DAYS_PCT_CURR</th>\n      <th>TARGET</th>\n    </tr>\n  </thead>\n  <tbody>\n    <tr>\n      <th>333149</th>\n      <td>479990</td>\n      <td>0</td>\n      <td>0.0</td>\n      <td>0.0</td>\n      <td>NaN</td>\n      <td>0.0</td>\n      <td>0.0</td>\n      <td>0.0</td>\n      <td>NaN</td>\n      <td>NaN</td>\n      <td>0.000000</td>\n      <td>0.0</td>\n      <td>NaN</td>\n      <td>NaN</td>\n      <td>0.0</td>\n      <td>0.0</td>\n      <td>0.0</td>\n      <td>NaN</td>\n      <td>0.0</td>\n      <td>NaN</td>\n      <td>0.0</td>\n      <td>0.0</td>\n      <td>19069.691717</td>\n      <td>NaN</td>\n      <td>NaN</td>\n      <td>NaN</td>\n      <td>0.000000</td>\n      <td>NaN</td>\n      <td>NaN</td>\n      <td>0.000000</td>\n      <td>NaN</td>\n      <td>NaN</td>\n      <td>NaN</td>\n      <td>0.0</td>\n      <td>0.0</td>\n      <td>0.000000</td>\n      <td>NaN</td>\n      <td>0.0</td>\n      <td>1.0</td>\n      <td>NaN</td>\n      <td>0.0</td>\n      <td>NaN</td>\n      <td>NaN</td>\n      <td>0.0</td>\n      <td>0.981818</td>\n      <td>0.926472</td>\n      <td>0.0</td>\n      <td>324.0</td>\n      <td>NaN</td>\n      <td>0.0</td>\n      <td>NaN</td>\n      <td>0.0</td>\n      <td>0.0</td>\n      <td>NaN</td>\n      <td>NaN</td>\n      <td>NaN</td>\n      <td>NaN</td>\n      <td>0.0</td>\n      <td>NaN</td>\n      <td>NaN</td>\n      <td>NaN</td>\n      <td>NaN</td>\n      <td>0.139327</td>\n      <td>0.0</td>\n      <td>NaN</td>\n      <td>NaN</td>\n      <td>NaN</td>\n      <td>0.0</td>\n      <td>0.244042</td>\n      <td>NaN</td>\n      <td>0.144300</td>\n      <td>0.0</td>\n      <td>NaN</td>\n      <td>0.0</td>\n      <td>0.351852</td>\n      <td>0.166667</td>\n      <td>0.0</td>\n      <td>0.329321</td>\n      <td>0.0</td>\n      <td>NaN</td>\n      <td>45.0</td>\n      <td>NaN</td>\n      <td>45.0</td>\n      <td>0.167901</td>\n      <td>0.0</td>\n      <td>NaN</td>\n      <td>0.0</td>\n      <td>0.303750</td>\n      <td>102</td>\n      <td>NaN</td>\n      <td>NaN</td>\n      <td>5.480001</td>\n      <td>0.0</td>\n      <td>0.0</td>\n      <td>NaN</td>\n      <td>0.0</td>\n      <td>NaN</td>\n      <td>0.305106</td>\n      <td>NaN</td>\n      <td>0.345455</td>\n      <td>NaN</td>\n      <td>0.0</td>\n      <td>1.0</td>\n      <td>0.0</td>\n      <td>NaN</td>\n      <td>0.003524</td>\n      <td>0.0</td>\n      <td>0.0</td>\n      <td>0.0</td>\n      <td>0.0</td>\n      <td>0.0</td>\n      <td>0.0</td>\n      <td>0.0</td>\n      <td>0.0</td>\n      <td>0.0</td>\n      <td>0.0</td>\n    </tr>\n    <tr>\n      <th>303639</th>\n      <td>450480</td>\n      <td>0</td>\n      <td>0.0</td>\n      <td>0.0</td>\n      <td>NaN</td>\n      <td>0.0</td>\n      <td>0.0</td>\n      <td>0.0</td>\n      <td>NaN</td>\n      <td>NaN</td>\n      <td>0.027168</td>\n      <td>0.0</td>\n      <td>NaN</td>\n      <td>NaN</td>\n      <td>0.0</td>\n      <td>0.0</td>\n      <td>0.0</td>\n      <td>NaN</td>\n      <td>0.0</td>\n      <td>NaN</td>\n      <td>0.0</td>\n      <td>0.0</td>\n      <td>5951.208683</td>\n      <td>NaN</td>\n      <td>NaN</td>\n      <td>NaN</td>\n      <td>0.048746</td>\n      <td>офис-менеджер</td>\n      <td>NaN</td>\n      <td>0.030303</td>\n      <td>NaN</td>\n      <td>NaN</td>\n      <td>NaN</td>\n      <td>0.0</td>\n      <td>0.0</td>\n      <td>0.030303</td>\n      <td>NaN</td>\n      <td>0.0</td>\n      <td>1.0</td>\n      <td>NaN</td>\n      <td>0.0</td>\n      <td>NaN</td>\n      <td>NaN</td>\n      <td>0.0</td>\n      <td>0.090909</td>\n      <td>0.292473</td>\n      <td>0.0</td>\n      <td>360.0</td>\n      <td>NaN</td>\n      <td>0.0</td>\n      <td>NaN</td>\n      <td>0.0</td>\n      <td>0.0</td>\n      <td>NaN</td>\n      <td>NaN</td>\n      <td>NaN</td>\n      <td>NaN</td>\n      <td>0.0</td>\n      <td>NaN</td>\n      <td>NaN</td>\n      <td>NaN</td>\n      <td>NaN</td>\n      <td>0.163876</td>\n      <td>0.0</td>\n      <td>NaN</td>\n      <td>NaN</td>\n      <td>NaN</td>\n      <td>0.0</td>\n      <td>0.465244</td>\n      <td>1.000</td>\n      <td>0.203484</td>\n      <td>0.0</td>\n      <td>1.000000</td>\n      <td>0.0</td>\n      <td>0.333333</td>\n      <td>0.333333</td>\n      <td>0.0</td>\n      <td>0.333333</td>\n      <td>0.0</td>\n      <td>NaN</td>\n      <td>45.0</td>\n      <td>NaN</td>\n      <td>45.0</td>\n      <td>0.333333</td>\n      <td>0.0</td>\n      <td>NaN</td>\n      <td>0.0</td>\n      <td>0.504160</td>\n      <td>102</td>\n      <td>NaN</td>\n      <td>NaN</td>\n      <td>6.786453</td>\n      <td>0.0</td>\n      <td>0.0</td>\n      <td>NaN</td>\n      <td>0.0</td>\n      <td>NaN</td>\n      <td>0.368799</td>\n      <td>NaN</td>\n      <td>0.454545</td>\n      <td>NaN</td>\n      <td>0.0</td>\n      <td>1.0</td>\n      <td>0.0</td>\n      <td>NaN</td>\n      <td>0.000618</td>\n      <td>0.0</td>\n      <td>0.0</td>\n      <td>0.0</td>\n      <td>0.0</td>\n      <td>0.0</td>\n      <td>0.0</td>\n      <td>0.0</td>\n      <td>0.0</td>\n      <td>0.0</td>\n      <td>0.0</td>\n    </tr>\n    <tr>\n      <th>327113</th>\n      <td>473954</td>\n      <td>0</td>\n      <td>0.0</td>\n      <td>0.0</td>\n      <td>NaN</td>\n      <td>0.0</td>\n      <td>0.0</td>\n      <td>0.0</td>\n      <td>NaN</td>\n      <td>NaN</td>\n      <td>0.114951</td>\n      <td>0.0</td>\n      <td>NaN</td>\n      <td>NaN</td>\n      <td>0.0</td>\n      <td>0.0</td>\n      <td>0.0</td>\n      <td>NaN</td>\n      <td>0.0</td>\n      <td>NaN</td>\n      <td>0.0</td>\n      <td>0.0</td>\n      <td>3774.582933</td>\n      <td>0.25</td>\n      <td>NaN</td>\n      <td>NaN</td>\n      <td>0.004519</td>\n      <td>консультант</td>\n      <td>NaN</td>\n      <td>0.363636</td>\n      <td>NaN</td>\n      <td>NaN</td>\n      <td>0.279487</td>\n      <td>0.0</td>\n      <td>0.0</td>\n      <td>0.136364</td>\n      <td>NaN</td>\n      <td>0.0</td>\n      <td>1.0</td>\n      <td>NaN</td>\n      <td>0.0</td>\n      <td>NaN</td>\n      <td>NaN</td>\n      <td>0.0</td>\n      <td>0.136364</td>\n      <td>0.533251</td>\n      <td>0.0</td>\n      <td>600.0</td>\n      <td>1.0</td>\n      <td>0.0</td>\n      <td>1.0</td>\n      <td>0.0</td>\n      <td>0.0</td>\n      <td>NaN</td>\n      <td>NaN</td>\n      <td>NaN</td>\n      <td>NaN</td>\n      <td>0.0</td>\n      <td>NaN</td>\n      <td>NaN</td>\n      <td>NaN</td>\n      <td>NaN</td>\n      <td>0.073887</td>\n      <td>0.0</td>\n      <td>NaN</td>\n      <td>NaN</td>\n      <td>NaN</td>\n      <td>0.0</td>\n      <td>0.490018</td>\n      <td>0.375</td>\n      <td>0.090256</td>\n      <td>0.0</td>\n      <td>0.317348</td>\n      <td>0.0</td>\n      <td>NaN</td>\n      <td>NaN</td>\n      <td>0.0</td>\n      <td>NaN</td>\n      <td>0.0</td>\n      <td>NaN</td>\n      <td>45.0</td>\n      <td>NaN</td>\n      <td>45.0</td>\n      <td>NaN</td>\n      <td>0.0</td>\n      <td>NaN</td>\n      <td>0.0</td>\n      <td>0.351398</td>\n      <td>102</td>\n      <td>NaN</td>\n      <td>NaN</td>\n      <td>8.528388</td>\n      <td>0.0</td>\n      <td>0.0</td>\n      <td>NaN</td>\n      <td>0.0</td>\n      <td>NaN</td>\n      <td>0.358522</td>\n      <td>NaN</td>\n      <td>0.318182</td>\n      <td>NaN</td>\n      <td>0.0</td>\n      <td>1.0</td>\n      <td>0.0</td>\n      <td>NaN</td>\n      <td>0.027484</td>\n      <td>0.0</td>\n      <td>0.0</td>\n      <td>0.0</td>\n      <td>0.0</td>\n      <td>0.0</td>\n      <td>0.0</td>\n      <td>0.0</td>\n      <td>0.0</td>\n      <td>0.0</td>\n      <td>0.0</td>\n    </tr>\n    <tr>\n      <th>384197</th>\n      <td>531038</td>\n      <td>0</td>\n      <td>0.0</td>\n      <td>NaN</td>\n      <td>NaN</td>\n      <td>NaN</td>\n      <td>NaN</td>\n      <td>0.0</td>\n      <td>NaN</td>\n      <td>NaN</td>\n      <td>0.000000</td>\n      <td>NaN</td>\n      <td>NaN</td>\n      <td>NaN</td>\n      <td>NaN</td>\n      <td>NaN</td>\n      <td>0.0</td>\n      <td>NaN</td>\n      <td>NaN</td>\n      <td>NaN</td>\n      <td>0.0</td>\n      <td>0.0</td>\n      <td>148568.263850</td>\n      <td>NaN</td>\n      <td>NaN</td>\n      <td>NaN</td>\n      <td>0.000000</td>\n      <td>NaN</td>\n      <td>NaN</td>\n      <td>0.000000</td>\n      <td>NaN</td>\n      <td>NaN</td>\n      <td>NaN</td>\n      <td>NaN</td>\n      <td>NaN</td>\n      <td>0.000000</td>\n      <td>NaN</td>\n      <td>NaN</td>\n      <td>0.0</td>\n      <td>NaN</td>\n      <td>0.0</td>\n      <td>NaN</td>\n      <td>NaN</td>\n      <td>0.0</td>\n      <td>0.666667</td>\n      <td>0.761035</td>\n      <td>0.0</td>\n      <td>732.0</td>\n      <td>NaN</td>\n      <td>0.0</td>\n      <td>NaN</td>\n      <td>0.0</td>\n      <td>0.0</td>\n      <td>NaN</td>\n      <td>NaN</td>\n      <td>NaN</td>\n      <td>NaN</td>\n      <td>0.0</td>\n      <td>NaN</td>\n      <td>NaN</td>\n      <td>NaN</td>\n      <td>NaN</td>\n      <td>0.165847</td>\n      <td>0.0</td>\n      <td>NaN</td>\n      <td>NaN</td>\n      <td>NaN</td>\n      <td>0.0</td>\n      <td>0.497541</td>\n      <td>NaN</td>\n      <td>0.000000</td>\n      <td>0.0</td>\n      <td>NaN</td>\n      <td>0.0</td>\n      <td>NaN</td>\n      <td>NaN</td>\n      <td>0.0</td>\n      <td>NaN</td>\n      <td>NaN</td>\n      <td>NaN</td>\n      <td>NaN</td>\n      <td>NaN</td>\n      <td>NaN</td>\n      <td>NaN</td>\n      <td>0.0</td>\n      <td>NaN</td>\n      <td>NaN</td>\n      <td>0.000000</td>\n      <td>K01</td>\n      <td>NaN</td>\n      <td>NaN</td>\n      <td>3.291829</td>\n      <td>NaN</td>\n      <td>0.0</td>\n      <td>NaN</td>\n      <td>0.0</td>\n      <td>NaN</td>\n      <td>NaN</td>\n      <td>NaN</td>\n      <td>NaN</td>\n      <td>NaN</td>\n      <td>0.0</td>\n      <td>NaN</td>\n      <td>0.0</td>\n      <td>NaN</td>\n      <td>NaN</td>\n      <td>0.0</td>\n      <td>NaN</td>\n      <td>NaN</td>\n      <td>NaN</td>\n      <td>NaN</td>\n      <td>0.0</td>\n      <td>NaN</td>\n      <td>NaN</td>\n      <td>NaN</td>\n      <td>0.0</td>\n    </tr>\n    <tr>\n      <th>202462</th>\n      <td>349303</td>\n      <td>0</td>\n      <td>0.0</td>\n      <td>0.0</td>\n      <td>NaN</td>\n      <td>0.0</td>\n      <td>0.0</td>\n      <td>0.0</td>\n      <td>NaN</td>\n      <td>NaN</td>\n      <td>0.011541</td>\n      <td>0.0</td>\n      <td>1.0</td>\n      <td>NaN</td>\n      <td>0.0</td>\n      <td>0.0</td>\n      <td>0.0</td>\n      <td>1.0</td>\n      <td>0.0</td>\n      <td>NaN</td>\n      <td>0.0</td>\n      <td>0.0</td>\n      <td>69233.388700</td>\n      <td>NaN</td>\n      <td>NaN</td>\n      <td>NaN</td>\n      <td>0.000000</td>\n      <td>экономист</td>\n      <td>NaN</td>\n      <td>0.083333</td>\n      <td>NaN</td>\n      <td>NaN</td>\n      <td>NaN</td>\n      <td>0.0</td>\n      <td>0.0</td>\n      <td>0.000000</td>\n      <td>NaN</td>\n      <td>0.0</td>\n      <td>0.0</td>\n      <td>NaN</td>\n      <td>0.0</td>\n      <td>NaN</td>\n      <td>NaN</td>\n      <td>0.0</td>\n      <td>0.250000</td>\n      <td>0.486608</td>\n      <td>0.0</td>\n      <td>480.0</td>\n      <td>NaN</td>\n      <td>0.0</td>\n      <td>NaN</td>\n      <td>0.0</td>\n      <td>0.0</td>\n      <td>NaN</td>\n      <td>NaN</td>\n      <td>NaN</td>\n      <td>NaN</td>\n      <td>0.0</td>\n      <td>NaN</td>\n      <td>NaN</td>\n      <td>NaN</td>\n      <td>NaN</td>\n      <td>0.055603</td>\n      <td>0.0</td>\n      <td>NaN</td>\n      <td>NaN</td>\n      <td>NaN</td>\n      <td>0.0</td>\n      <td>0.247153</td>\n      <td>NaN</td>\n      <td>0.316277</td>\n      <td>0.0</td>\n      <td>NaN</td>\n      <td>0.0</td>\n      <td>0.666667</td>\n      <td>0.666667</td>\n      <td>0.0</td>\n      <td>0.416697</td>\n      <td>NaN</td>\n      <td>NaN</td>\n      <td>NaN</td>\n      <td>NaN</td>\n      <td>NaN</td>\n      <td>0.416697</td>\n      <td>0.0</td>\n      <td>NaN</td>\n      <td>NaN</td>\n      <td>0.735125</td>\n      <td>K01</td>\n      <td>NaN</td>\n      <td>NaN</td>\n      <td>5.160219</td>\n      <td>NaN</td>\n      <td>0.0</td>\n      <td>NaN</td>\n      <td>0.0</td>\n      <td>NaN</td>\n      <td>0.688108</td>\n      <td>NaN</td>\n      <td>0.750000</td>\n      <td>NaN</td>\n      <td>0.0</td>\n      <td>NaN</td>\n      <td>0.0</td>\n      <td>NaN</td>\n      <td>NaN</td>\n      <td>0.0</td>\n      <td>NaN</td>\n      <td>NaN</td>\n      <td>NaN</td>\n      <td>NaN</td>\n      <td>0.0</td>\n      <td>NaN</td>\n      <td>NaN</td>\n      <td>NaN</td>\n      <td>0.0</td>\n    </tr>\n  </tbody>\n</table>\n</div>"
     },
     "metadata": {},
     "execution_count": 51
    }
   ],
   "source": [
    "data.head()"
   ]
  },
  {
   "cell_type": "code",
   "execution_count": 52,
   "metadata": {},
   "outputs": [
    {
     "output_type": "execute_result",
     "data": {
      "text/plain": [
       "(320764, 116)"
      ]
     },
     "metadata": {},
     "execution_count": 52
    }
   ],
   "source": [
    "data.shape"
   ]
  },
  {
   "cell_type": "code",
   "execution_count": 53,
   "metadata": {},
   "outputs": [
    {
     "output_type": "execute_result",
     "data": {
      "text/plain": [
       "        72.000000                0.0               0.0   \n",
       "max    590828.000000       11.000000            1.000000                       0.0             89.000000                0.0               0.0   \n",
       "\n",
       "       TURNOVER_DYNAMIC_IL_1M  CNT_TRAN_AUT_TENDENCY1M  SUM_TRAN_AUT_TENDENCY1M  AMOUNT_RUB_SUP_PRC  PRC_ACCEPTS_A_AMOBILE  SUM_TRAN_AUT_TENDENCY3M  \\\n",
       "count           320763.000000             69535.000000             69535.000000       286213.000000               139950.0            100204.000000   \n",
       "mean                 0.001312                 0.416497                 0.414412            0.085295                    0.0                 0.688782   \n",
       "std                  0.029057                 0.315857                 0.338005            0.142432                    0.0                 0.301774   \n",
       "min                  0.000000                 0.006944                 0.000000            0.000000                    0.0                 0.000005   \n",
       "25%                  0.000000                 0.166667                 0.139998            0.000000                    0.0                 0.445047   \n",
       "50%                  0.000000                 0.300000                 0.286365            0.027038                    0.0                 0.722915   \n",
       "75%                  0.000000                 0.571429                 0.658685            0.109981                    0.0                 1.000000   \n",
       "max                  1.000000                 1.000000                 1.000000            1.000000                    0.0                 1.000000   \n",
       "\n",
       "       PRC_ACCEPTS_TK  PRC_ACCEPTS_A_MTP  REST_DYNAMIC_FDEP_1M  CNT_TRAN_AUT_TENDENCY3M  CNT_ACCEPTS_TK  REST_DYNAMIC_SAVE_3M  CR_PROD_CNT_VCU  \\\n",
       "count        139950.0           139950.0         320763.000000            100204.000000        139950.0         320763.000000    320763.000000   \n",
       "mean              0.0                0.0              0.000720                 0.691465             0.0              0.063789         0.031481   \n",
       "std               0.0                0.0              0.014273                 0.276776             0.0              0.203693         0.184595   \n",
       "min               0.0                0.0              0.000000                 0.008000             0.0              0.000000         0.000000   \n",
       "25%               0.0                0.0              0.000000                 0.500000             0.0              0.000000         0.000000   \n",
       "50%               0.0                0.0              0.000000                 0.666667             0.0              0.000000         0.000000   \n",
       "75%               0.0                0.0              0.000000                 1.000000             0.0              0.000000         0.000000   \n",
       "max               0.0                0.0              1.000000                 1.000000             0.0              1.000000         4.000000   \n",
       "\n",
       "       REST_AVG_CUR  CNT_TRAN_MED_TENDENCY1M  AMOUNT_RUB_NAS_PRC  TRANS_COUNT_SUP_PRC  CNT_TRAN_CLO_TENDENCY1M  SUM_TRAN_MED_TENDENCY1M  \\\n",
       "count  3.207630e+05             62457.000000       286213.000000        286213.000000             59823.000000             62457.000000   \n",
       "mean   6.616230e+04                 0.444124            0.024013             0.191106                 0.479673                 0.437011   \n",
       "std    1.835636e+05                 0.324203            0.090904             0.196095                 0.330549                 0.361988   \n",
       "min    0.000000e+00                 0.010309            0.000000             0.000000                 0.010417                 0.000000   \n",
       "25%    4.040222e+03                 0.181818            0.000000             0.000000                 0.200000                 0.118132   \n",
       "50%    1.623043e+04                 0.333333            0.000000             0.146667                 0.363636                 0.308867   \n",
       "75%    5.669653e+04                 0.666667            0.010584             0.310680                 0.750000                 0.802375   \n",
       "max    2.202141e+07                 1.000000            1.000000             1.000000                 1.000000                 1.000000   \n",
       "\n",
       "       PRC_ACCEPTS_A_ATM  PRC_ACCEPTS_MTP  TRANS_COUNT_NAS_PRC  CNT_ACCEPTS_MTP  CR_PROD_CNT_TOVR  CR_PROD_CNT_PIL  SUM_TRAN_CLO_TENDENCY1M  \\\n",
       "count           139950.0         139950.0        286213.000000         139950.0     320763.000000    320763.000000             59823.000000   \n",
       "mean                 0.0              0.0             0.050930              0.0          0.310245         0.057133                 0.472933   \n",
       "std                  0.0              0.0             0.116770              0.0          0.589397         0.297015                 0.361697   \n",
       "min                  0.0              0.0             0.000000              0.0          0.000000         0.000000                 0.000013   \n",
       "25%                  0.0              0.0             0.000000              0.0          0.000000         0.000000                 0.148054   \n",
       "50%                  0.0              0.0             0.000000              0.0          0.000000         0.000000                 0.363181   \n",
       "75%                  0.0              0.0             0.048327              0.0          1.000000         0.000000                 0.899289   \n",
       "max                  0.0              0.0             1.000000              0.0         13.000000         9.000000                 1.000000   \n",
       "\n",
       "        TURNOVER_CC  TRANS_COUNT_ATM_PRC  AMOUNT_RUB_ATM_PRC  TURNOVER_PAYM            AGE  CNT_TRAN_MED_TENDENCY3M  CR_PROD_CNT_CC  \\\n",
       "count  3.207630e+05        286213.000000       286213.000000   3.207630e+05  320763.000000            104645.000000   320763.000000   \n",
       "mean   5.011494e+02             0.370678            0.597960   1.457711e+04     457.107921                 0.701127        0.071657   \n",
       "std    1.288004e+04             0.343569            0.363832   1.495004e+05     136.270133                 0.281698        0.294406   \n",
       "min    0.000000e+00             0.000000            0.000000   0.000000e+00     168.000000                 0.021739        0.000000   \n",
       "25%    0.000000e+00             0.083333            0.267978   0.000000e+00     348.000000                 0.500000        0.000000   \n",
       "50%    0.000000e+00             0.250000            0.690273   0.000000e+00     432.000000                 0.695652        0.000000   \n",
       "75%    0.000000e+00             0.617647            0.954606   0.000000e+00     552.000000                 1.000000        0.000000   \n",
       "max    3.753042e+06             1.000000            1.000000   4.628044e+07    1128.000000                 1.000000        9.000000   \n",
       "\n",
       "       SUM_TRAN_MED_TENDENCY3M  REST_DYNAMIC_FDEP_3M  REST_DYNAMIC_IL_1M  SUM_TRAN_CLO_TENDENCY3M  LDEAL_TENOR_MAX  LDEAL_YQZ_CHRG  \\\n",
       "count            104645.000000         320763.000000       320763.000000            103775.000000      7359.000000    1.135000e+03   \n",
       "mean                  0.696431              0.003865            0.001664                 0.697158        22.367985    4.979336e-03   \n",
       "std                   0.322183              0.045203            0.024330                 0.322507        17.002652    8.089769e-03   \n",
       "min                   0.000000              0.000000            0.000000                 0.000000         0.000000    3.089280e-08   \n",
       "25%                   0.426840              0.000000            0.000000                 0.423239        11.000000    1.999841e-04   \n",
       "50%                   0.795678              0.000000            0.000000                 0.796620        19.000000    1.488095e-03   \n",
       "75%                   1.000000              0.000000            0.000000                 1.000000        36.000000    6.545574e-03   \n",
       "max                   1.000000              1.000000            1.000000                 1.000000       242.000000    8.118109e-02   \n",
       "\n",
       "       CR_PROD_CNT_CCFP  DEAL_YQZ_IR_MAX  LDEAL_YQZ_COM  DEAL_YQZ_IR_MIN  CNT_TRAN_CLO_TENDENCY3M  REST_DYNAMIC_CUR_1M  REST_AVG_PAYM  \\\n",
       "count     320763.000000      7359.000000    1129.000000      7359.000000            103775.000000        320763.000000   3.207630e+05   \n",
       "mean           0.004901        26.272423       0.073558        25.561635                 0.700298             0.212230   7.192127e+03   \n",
       "std            0.075786        14.644676       0.105501        14.166313                 0.289766             0.235844   4.846648e+04   \n",
       "min            0.000000         7.500000       0.000029         7.500000                 0.019608             0.000000   0.000000e+00   \n",
       "25%            0.000000        17.490000       0.008539        17.000000                 0.500000             0.063444   0.000000e+00   \n",
       "50%            0.000000        23.000000       0.017857        22.990000                 0.714286             0.148154   0.000000e+00   \n",
       "75%            0.000000        29.990000       0.166667        29.000000                 1.000000             0.251843   0.000000e+00   \n",
       "max            4.000000        94.000000       1.000000        94.000000                 1.000000             1.000000   5.798600e+06   \n",
       "\n",
       "       LDEAL_TENOR_MIN  LDEAL_AMT_MONTH  LDEAL_GRACE_DAYS_PCT_MED  REST_DYNAMIC_CUR_3M  CNT_TRAN_SUP_TENDENCY3M  TURNOVER_DYNAMIC_CUR_1M  \\\n",
       "count      7359.000000     1.704000e+03             320763.000000        320763.000000            179529.000000            320763.000000   \n",
       "mean         15.760973     1.976579e+05                  0.001814             0.498683                 0.642911                 0.204062   \n",
       "std          12.925722     4.881640e+05                  0.039407             0.299256                 0.267482                 0.254818   \n",
       "min           0.000000     0.000000e+00                  0.000000             0.000000                 0.008696                 0.000000   \n",
       "25%           6.000000     0.000000e+00                  0.000000             0.317284                 0.448276                 0.014378   \n",
       "50%          12.000000     8.372244e+03                  0.000000             0.493034                 0.607143                 0.127399   \n",
       "75%          24.000000     1.842151e+05                  0.000000             0.690834                 0.957447                 0.255519   \n",
       "max         182.000000     7.337638e+06                  1.000000             1.000000                 1.000000                 1.000000   \n",
       "\n",
       "       REST_DYNAMIC_PAYM_3M  SUM_TRAN_SUP_TENDENCY3M  REST_DYNAMIC_IL_3M  CNT_TRAN_ATM_TENDENCY3M  CNT_TRAN_ATM_TENDENCY1M  TURNOVER_DYNAMIC_IL_3M  \\\n",
       "count         320763.000000             1.795290e+05       320763.000000            230841.000000            185911.000000           320763.000000   \n",
       "mean               0.076847             6.275881e-01            0.005753                 0.628779                 0.327133                0.004064   \n",
       "std                0.204462             2.948580e-01            0.057576                 0.262977                 0.274373                0.053342   \n",
       "min                0.000000             5.072087e-07            0.000000                 0.005525                 0.003171                0.000000   \n",
       "25%                0.000000             4.030009e-01            0.000000                 0.434783                 0.142857                0.000000   \n",
       "50%                0.000000             6.050430e-01            0.000000                 0.590909                 0.227273                0.000000   \n",
       "75%                0.000000             9.862055e-01            0.000000                 0.888889                 0.400000                0.000000   \n",
       "max                1.000000             1.000000e+00            1.000000                 1.000000                 1.000000                1.000000   \n",
       "\n",
       "       SUM_TRAN_ATM_TENDENCY3M  DEAL_GRACE_DAYS_ACC_S1X1  AVG_PCT_MONTH_TO_PCLOSE  DEAL_YWZ_IR_MIN  SUM_TRAN_SUP_TENDENCY1M  DEAL_YWZ_IR_MAX  \\\n",
       "count            230841.000000              63615.000000              1468.000000     86488.000000             1.408500e+05     86488.000000   \n",
       "mean                  0.618276                  0.028766                -2.555297        37.185120             3.281287e-01        39.473565   \n",
       "std                   0.302603                  0.144288                 4.354125        12.440642             3.013228e-01        10.503520   \n",
       "min                   0.000056                  0.000000               -33.290323         0.000000             5.072087e-07         0.000000   \n",
       "25%                   0.392297                  0.000000                -3.065188        25.990000             1.118899e-01        45.000000   \n",
       "50%                   0.600000                  0.000000                -0.817742        45.000000             2.125386e-01        45.000000   \n",
       "75%                   0.967483                  0.000000                -0.195968        45.000000             4.418646e-01        45.000000   \n",
       "max                   1.000000                  4.534014                 0.967742        59.900000             1.000000e+00        59.900000   \n",
       "\n",
       "       SUM_TRAN_ATM_TENDENCY1M  REST_DYNAMIC_PAYM_1M  CNT_TRAN_SUP_TENDENCY1M  DEAL_GRACE_DAYS_ACC_AVG  TURNOVER_DYNAMIC_CUR_3M  MAX_PCLOSE_DATE  \\\n",
       "count            185911.000000         320763.000000            140850.000000             62693.000000            320763.000000      1699.000000   \n",
       "mean                  0.321989              0.027698                 0.341151                 0.024430                 0.484424       -20.791243   \n",
       "std                   0.305735              0.097209                 0.281452                 0.138399                 0.331702        28.810907   \n",
       "min                   0.000006              0.000000                 0.004255                 0.000000                 0.000000      -103.354839   \n",
       "25%                   0.100404              0.000000                 0.142857                 0.000000                 0.217069       -31.435484   \n",
       "50%                   0.203791              0.000000                 0.240000                 0.000000                 0.494318        -9.774194   \n",
       "75%                   0.440478              0.000000                 0.444444                 0.000000                 0.726228        -3.532258   \n",
       "max                   1.000000              1.000000                 1.000000                 4.688776                 1.000000       112.193548   \n",
       "\n",
       "       LDEAL_YQZ_PC  CLNT_SETUP_TENOR  DEAL_GRACE_DAYS_ACC_MAX  TURNOVER_DYNAMIC_PAYM_3M  LDEAL_DELINQ_PER_MAXYQZ  TURNOVER_DYNAMIC_PAYM_1M  \\\n",
       "count  2.551000e+03     320763.000000             62693.000000             320763.000000              7359.000000             320763.000000   \n",
       "mean   2.506883e-02          4.377489                 0.029040                  0.072124                 0.195883                  0.025178   \n",
       "std    5.894312e-02          2.936243                 0.165999                  0.207083                 0.386892                  0.104618   \n",
       "min    7.083333e-08          0.345592                 0.000000                  0.000000                 0.000000                  0.000000   \n",
       "25%    6.302498e-03          1.781076                 0.000000                  0.000000                 0.000000                  0.000000   \n",
       "50%    1.722411e-02          3.902163                 0.000000                  0.000000                 0.000000                  0.000000   \n",
       "75%    3.362787e-02          6.555388                 0.000000                  0.000000                 0.000000                  0.000000   \n",
       "max    2.283844e+00         13.748937                 9.377551                  1.000000                 1.000000                  1.000000   \n",
       "\n",
       "       CLNT_SALARY_VALUE  TRANS_AMOUNT_TENDENCY3M  MED_DEBT_PRC_YQZ  TRANS_CNT_TENDENCY3M  LDEAL_USED_AMT_AVG_YQZ  REST_DYNAMIC_CC_1M  \\\n",
       "count         652.000000            273904.000000       7359.000000         273904.000000             7359.000000       320763.000000   \n",
       "mean        36623.100475                 0.582278          0.922748              0.597442                0.436324            0.002243   \n",
       "std         58970.820281                 0.282046          0.261286              0.247120                0.322341            0.026872   \n",
       "min             0.750000                 0.000000          0.000000              0.005714                0.000000            0.000000   \n",
       "25%         11149.287500                 0.383802          1.000000              0.428571                0.134588            0.000000   \n",
       "50%         20015.000000                 0.552487          1.000000              0.558824                0.381376            0.000000   \n",
       "75%         38543.357500                 0.819606          1.000000              0.767442                0.724292            0.000000   \n",
       "max        786218.420000                 1.000000          1.000000              1.000000                1.000000            1.000000   \n",
       "\n",
       "       LDEAL_USED_AMT_AVG_YWZ  TURNOVER_DYNAMIC_CC_1M  AVG_PCT_DEBT_TO_DEAL_AMT  LDEAL_ACT_DAYS_ACC_PCT_AVG  REST_DYNAMIC_CC_3M  MED_DEBT_PRC_YWZ  \\\n",
       "count            86488.000000           320763.000000               1704.000000                84414.000000       320763.000000      86488.000000   \n",
       "mean                 0.900215                0.000957                  0.343218                    0.051560            0.007414          0.055150   \n",
       "std                  0.297102                0.028629                  1.023744                    0.135265            0.067032          0.216123   \n",
       "min                  0.000000                0.000000                  0.000000                    0.000000            0.000000          0.000000   \n",
       "25%                  1.000000                0.000000                  0.000000                    0.000000            0.000000          0.000000   \n",
       "50%                  1.000000                0.000000                  0.084310                    0.008792            0.000000          0.000000   \n",
       "75%                  1.000000                0.000000                  0.684243                    0.033605            0.000000          0.000000   \n",
       "max                  1.000000                1.000000                 39.878468                    1.000000            1.000000          1.000000   \n",
       "\n",
       "       LDEAL_ACT_DAYS_PCT_TR3  LDEAL_ACT_DAYS_PCT_AAVG  LDEAL_DELINQ_PER_MAXYWZ  TURNOVER_DYNAMIC_CC_3M  LDEAL_ACT_DAYS_PCT_TR  \\\n",
       "count            84414.000000             88692.000000             86488.000000           320763.000000           84414.000000   \n",
       "mean                 0.025760                 0.050274                 0.009568                0.004452               0.013922   \n",
       "std                  0.115587                 0.186237                 0.094376                0.060917               0.096966   \n",
       "min                  0.000000                 0.000000                 0.000000                0.000000               0.000000   \n",
       "25%                  0.000000                 0.000000                 0.000000                0.000000               0.000000   \n",
       "50%                  0.000000                 0.000000                 0.000000                0.000000               0.000000   \n",
       "75%                  0.000000                 0.000000                 0.000000                0.000000               0.000000   \n",
       "max                  1.000000                 1.000000                 1.000000                1.000000               1.000000   \n",
       "\n",
       "       LDEAL_ACT_DAYS_PCT_TR4  LDEAL_ACT_DAYS_PCT_CURR         TARGET  \n",
       "count            84414.000000             84414.000000  320763.000000  \n",
       "mean                 0.013922                 0.013922       0.081543  \n",
       "std                  0.096966                 0.096966       0.273668  \n",
       "min                  0.000000                 0.000000       0.000000  \n",
       "25%                  0.000000                 0.000000       0.000000  \n",
       "50%                  0.000000                 0.000000       0.000000  \n",
       "75%                  0.000000                 0.000000       0.000000  \n",
       "max                  1.000000                 1.000000       1.000000  "
      ],
      "text/html": "<div>\n<style scoped>\n    .dataframe tbody tr th:only-of-type {\n        vertical-align: middle;\n    }\n\n    .dataframe tbody tr th {\n        vertical-align: top;\n    }\n\n    .dataframe thead th {\n        text-align: right;\n    }\n</style>\n<table border=\"1\" class=\"dataframe\">\n  <thead>\n    <tr style=\"text-align: right;\">\n      <th></th>\n      <th>ID</th>\n      <th>CR_PROD_CNT_IL</th>\n      <th>AMOUNT_RUB_CLO_PRC</th>\n      <th>PRC_ACCEPTS_A_EMAIL_LINK</th>\n      <th>APP_REGISTR_RGN_CODE</th>\n      <th>PRC_ACCEPTS_A_POS</th>\n      <th>PRC_ACCEPTS_A_TK</th>\n      <th>TURNOVER_DYNAMIC_IL_1M</th>\n      <th>CNT_TRAN_AUT_TENDENCY1M</th>\n      <th>SUM_TRAN_AUT_TENDENCY1M</th>\n      <th>AMOUNT_RUB_SUP_PRC</th>\n      <th>PRC_ACCEPTS_A_AMOBILE</th>\n      <th>SUM_TRAN_AUT_TENDENCY3M</th>\n      <th>PRC_ACCEPTS_TK</th>\n      <th>PRC_ACCEPTS_A_MTP</th>\n      <th>REST_DYNAMIC_FDEP_1M</th>\n      <th>CNT_TRAN_AUT_TENDENCY3M</th>\n      <th>CNT_ACCEPTS_TK</th>\n      <th>REST_DYNAMIC_SAVE_3M</th>\n      <th>CR_PROD_CNT_VCU</th>\n      <th>REST_AVG_CUR</th>\n      <th>CNT_TRAN_MED_TENDENCY1M</th>\n      <th>AMOUNT_RUB_NAS_PRC</th>\n      <th>TRANS_COUNT_SUP_PRC</th>\n      <th>CNT_TRAN_CLO_TENDENCY1M</th>\n      <th>SUM_TRAN_MED_TENDENCY1M</th>\n      <th>PRC_ACCEPTS_A_ATM</th>\n      <th>PRC_ACCEPTS_MTP</th>\n      <th>TRANS_COUNT_NAS_PRC</th>\n      <th>CNT_ACCEPTS_MTP</th>\n      <th>CR_PROD_CNT_TOVR</th>\n      <th>CR_PROD_CNT_PIL</th>\n      <th>SUM_TRAN_CLO_TENDENCY1M</th>\n      <th>TURNOVER_CC</th>\n      <th>TRANS_COUNT_ATM_PRC</th>\n      <th>AMOUNT_RUB_ATM_PRC</th>\n      <th>TURNOVER_PAYM</th>\n      <th>AGE</th>\n      <th>CNT_TRAN_MED_TENDENCY3M</th>\n      <th>CR_PROD_CNT_CC</th>\n      <th>SUM_TRAN_MED_TENDENCY3M</th>\n      <th>REST_DYNAMIC_FDEP_3M</th>\n      <th>REST_DYNAMIC_IL_1M</th>\n      <th>SUM_TRAN_CLO_TENDENCY3M</th>\n      <th>LDEAL_TENOR_MAX</th>\n      <th>LDEAL_YQZ_CHRG</th>\n      <th>CR_PROD_CNT_CCFP</th>\n      <th>DEAL_YQZ_IR_MAX</th>\n      <th>LDEAL_YQZ_COM</th>\n      <th>DEAL_YQZ_IR_MIN</th>\n      <th>CNT_TRAN_CLO_TENDENCY3M</th>\n      <th>REST_DYNAMIC_CUR_1M</th>\n      <th>REST_AVG_PAYM</th>\n      <th>LDEAL_TENOR_MIN</th>\n      <th>LDEAL_AMT_MONTH</th>\n      <th>LDEAL_GRACE_DAYS_PCT_MED</th>\n      <th>REST_DYNAMIC_CUR_3M</th>\n      <th>CNT_TRAN_SUP_TENDENCY3M</th>\n      <th>TURNOVER_DYNAMIC_CUR_1M</th>\n      <th>REST_DYNAMIC_PAYM_3M</th>\n      <th>SUM_TRAN_SUP_TENDENCY3M</th>\n      <th>REST_DYNAMIC_IL_3M</th>\n      <th>CNT_TRAN_ATM_TENDENCY3M</th>\n      <th>CNT_TRAN_ATM_TENDENCY1M</th>\n      <th>TURNOVER_DYNAMIC_IL_3M</th>\n      <th>SUM_TRAN_ATM_TENDENCY3M</th>\n      <th>DEAL_GRACE_DAYS_ACC_S1X1</th>\n      <th>AVG_PCT_MONTH_TO_PCLOSE</th>\n      <th>DEAL_YWZ_IR_MIN</th>\n      <th>SUM_TRAN_SUP_TENDENCY1M</th>\n      <th>DEAL_YWZ_IR_MAX</th>\n      <th>SUM_TRAN_ATM_TENDENCY1M</th>\n      <th>REST_DYNAMIC_PAYM_1M</th>\n      <th>CNT_TRAN_SUP_TENDENCY1M</th>\n      <th>DEAL_GRACE_DAYS_ACC_AVG</th>\n      <th>TURNOVER_DYNAMIC_CUR_3M</th>\n      <th>MAX_PCLOSE_DATE</th>\n      <th>LDEAL_YQZ_PC</th>\n      <th>CLNT_SETUP_TENOR</th>\n      <th>DEAL_GRACE_DAYS_ACC_MAX</th>\n      <th>TURNOVER_DYNAMIC_PAYM_3M</th>\n      <th>LDEAL_DELINQ_PER_MAXYQZ</th>\n      <th>TURNOVER_DYNAMIC_PAYM_1M</th>\n      <th>CLNT_SALARY_VALUE</th>\n      <th>TRANS_AMOUNT_TENDENCY3M</th>\n      <th>MED_DEBT_PRC_YQZ</th>\n      <th>TRANS_CNT_TENDENCY3M</th>\n      <th>LDEAL_USED_AMT_AVG_YQZ</th>\n      <th>REST_DYNAMIC_CC_1M</th>\n      <th>LDEAL_USED_AMT_AVG_YWZ</th>\n      <th>TURNOVER_DYNAMIC_CC_1M</th>\n      <th>AVG_PCT_DEBT_TO_DEAL_AMT</th>\n      <th>LDEAL_ACT_DAYS_ACC_PCT_AVG</th>\n      <th>REST_DYNAMIC_CC_3M</th>\n      <th>MED_DEBT_PRC_YWZ</th>\n      <th>LDEAL_ACT_DAYS_PCT_TR3</th>\n      <th>LDEAL_ACT_DAYS_PCT_AAVG</th>\n      <th>LDEAL_DELINQ_PER_MAXYWZ</th>\n      <th>TURNOVER_DYNAMIC_CC_3M</th>\n      <th>LDEAL_ACT_DAYS_PCT_TR</th>\n      <th>LDEAL_ACT_DAYS_PCT_TR4</th>\n      <th>LDEAL_ACT_DAYS_PCT_CURR</th>\n      <th>TARGET</th>\n    </tr>\n  </thead>\n  <tbody>\n    <tr>\n      <th>count</th>\n      <td>320764.000000</td>\n      <td>320764.000000</td>\n      <td>286214.000000</td>\n      <td>139950.0</td>\n      <td>54850.000000</td>\n      <td>139950.0</td>\n      <td>139950.0</td>\n      <td>320763.000000</td>\n      <td>69535.000000</td>\n      <td>69535.000000</td>\n      <td>286213.000000</td>\n      <td>139950.0</td>\n      <td>100204.000000</td>\n      <td>139950.0</td>\n      <td>139950.0</td>\n      <td>320763.000000</td>\n      <td>100204.000000</td>\n      <td>139950.0</td>\n      <td>320763.000000</td>\n      <td>320763.000000</td>\n      <td>3.207630e+05</td>\n      <td>62457.000000</td>\n      <td>286213.000000</td>\n      <td>286213.000000</td>\n      <td>59823.000000</td>\n      <td>62457.000000</td>\n      <td>139950.0</td>\n      <td>139950.0</td>\n      <td>286213.000000</td>\n      <td>139950.0</td>\n      <td>320763.000000</td>\n      <td>320763.000000</td>\n      <td>59823.000000</td>\n      <td>3.207630e+05</td>\n      <td>286213.000000</td>\n      <td>286213.000000</td>\n      <td>3.207630e+05</td>\n      <td>320763.000000</td>\n      <td>104645.000000</td>\n      <td>320763.000000</td>\n      <td>104645.000000</td>\n      <td>320763.000000</td>\n      <td>320763.000000</td>\n      <td>103775.000000</td>\n      <td>7359.000000</td>\n      <td>1.135000e+03</td>\n      <td>320763.000000</td>\n      <td>7359.000000</td>\n      <td>1129.000000</td>\n      <td>7359.000000</td>\n      <td>103775.000000</td>\n      <td>320763.000000</td>\n      <td>3.207630e+05</td>\n      <td>7359.000000</td>\n      <td>1.704000e+03</td>\n      <td>320763.000000</td>\n      <td>320763.000000</td>\n      <td>179529.000000</td>\n      <td>320763.000000</td>\n      <td>320763.000000</td>\n      <td>1.795290e+05</td>\n      <td>320763.000000</td>\n      <td>230841.000000</td>\n      <td>185911.000000</td>\n      <td>320763.000000</td>\n      <td>230841.000000</td>\n      <td>63615.000000</td>\n      <td>1468.000000</td>\n      <td>86488.000000</td>\n      <td>1.408500e+05</td>\n      <td>86488.000000</td>\n      <td>185911.000000</td>\n      <td>320763.000000</td>\n      <td>140850.000000</td>\n      <td>62693.000000</td>\n      <td>320763.000000</td>\n      <td>1699.000000</td>\n      <td>2.551000e+03</td>\n      <td>320763.000000</td>\n      <td>62693.000000</td>\n      <td>320763.000000</td>\n      <td>7359.000000</td>\n      <td>320763.000000</td>\n      <td>652.000000</td>\n      <td>273904.000000</td>\n      <td>7359.000000</td>\n      <td>273904.000000</td>\n      <td>7359.000000</td>\n      <td>320763.000000</td>\n      <td>86488.000000</td>\n      <td>320763.000000</td>\n      <td>1704.000000</td>\n      <td>84414.000000</td>\n      <td>320763.000000</td>\n      <td>86488.000000</td>\n      <td>84414.000000</td>\n      <td>88692.000000</td>\n      <td>86488.000000</td>\n      <td>320763.000000</td>\n      <td>84414.000000</td>\n      <td>84414.000000</td>\n      <td>84414.000000</td>\n      <td>320763.000000</td>\n    </tr>\n    <tr>\n      <th>mean</th>\n      <td>368822.072125</td>\n      <td>0.105551</td>\n      <td>0.044186</td>\n      <td>0.0</td>\n      <td>50.940510</td>\n      <td>0.0</td>\n      <td>0.0</td>\n      <td>0.001312</td>\n      <td>0.416497</td>\n      <td>0.414412</td>\n      <td>0.085295</td>\n      <td>0.0</td>\n      <td>0.688782</td>\n      <td>0.0</td>\n      <td>0.0</td>\n      <td>0.000720</td>\n      <td>0.691465</td>\n      <td>0.0</td>\n      <td>0.063789</td>\n      <td>0.031481</td>\n      <td>6.616230e+04</td>\n      <td>0.444124</td>\n      <td>0.024013</td>\n      <td>0.191106</td>\n      <td>0.479673</td>\n      <td>0.437011</td>\n      <td>0.0</td>\n      <td>0.0</td>\n      <td>0.050930</td>\n      <td>0.0</td>\n      <td>0.310245</td>\n      <td>0.057133</td>\n      <td>0.472933</td>\n      <td>5.011494e+02</td>\n      <td>0.370678</td>\n      <td>0.597960</td>\n      <td>1.457711e+04</td>\n      <td>457.107921</td>\n      <td>0.701127</td>\n      <td>0.071657</td>\n      <td>0.696431</td>\n      <td>0.003865</td>\n      <td>0.001664</td>\n      <td>0.697158</td>\n      <td>22.367985</td>\n      <td>4.979336e-03</td>\n      <td>0.004901</td>\n      <td>26.272423</td>\n      <td>0.073558</td>\n      <td>25.561635</td>\n      <td>0.700298</td>\n      <td>0.212230</td>\n      <td>7.192127e+03</td>\n      <td>15.760973</td>\n      <td>1.976579e+05</td>\n      <td>0.001814</td>\n      <td>0.498683</td>\n      <td>0.642911</td>\n      <td>0.204062</td>\n      <td>0.076847</td>\n      <td>6.275881e-01</td>\n      <td>0.005753</td>\n      <td>0.628779</td>\n      <td>0.327133</td>\n      <td>0.004064</td>\n      <td>0.618276</td>\n      <td>0.028766</td>\n      <td>-2.555297</td>\n      <td>37.185120</td>\n      <td>3.281287e-01</td>\n      <td>39.473565</td>\n      <td>0.321989</td>\n      <td>0.027698</td>\n      <td>0.341151</td>\n      <td>0.024430</td>\n      <td>0.484424</td>\n      <td>-20.791243</td>\n      <td>2.506883e-02</td>\n      <td>4.377489</td>\n      <td>0.029040</td>\n      <td>0.072124</td>\n      <td>0.195883</td>\n      <td>0.025178</td>\n      <td>36623.100475</td>\n      <td>0.582278</td>\n      <td>0.922748</td>\n      <td>0.597442</td>\n      <td>0.436324</td>\n      <td>0.002243</td>\n      <td>0.900215</td>\n      <td>0.000957</td>\n      <td>0.343218</td>\n      <td>0.051560</td>\n      <td>0.007414</td>\n      <td>0.055150</td>\n      <td>0.025760</td>\n      <td>0.050274</td>\n      <td>0.009568</td>\n      <td>0.004452</td>\n      <td>0.013922</td>\n      <td>0.013922</td>\n      <td>0.013922</td>\n      <td>0.081543</td>\n    </tr>\n    <tr>\n      <th>std</th>\n      <td>128175.410883</td>\n      <td>0.430363</td>\n      <td>0.108817</td>\n      <td>0.0</td>\n      <td>21.776214</td>\n      <td>0.0</td>\n      <td>0.0</td>\n      <td>0.029057</td>\n      <td>0.315857</td>\n      <td>0.338005</td>\n      <td>0.142432</td>\n      <td>0.0</td>\n      <td>0.301774</td>\n      <td>0.0</td>\n      <td>0.0</td>\n      <td>0.014273</td>\n      <td>0.276776</td>\n      <td>0.0</td>\n      <td>0.203693</td>\n      <td>0.184595</td>\n      <td>1.835636e+05</td>\n      <td>0.324203</td>\n      <td>0.090904</td>\n      <td>0.196095</td>\n      <td>0.330549</td>\n      <td>0.361988</td>\n      <td>0.0</td>\n      <td>0.0</td>\n      <td>0.116770</td>\n      <td>0.0</td>\n      <td>0.589397</td>\n      <td>0.297015</td>\n      <td>0.361697</td>\n      <td>1.288004e+04</td>\n      <td>0.343569</td>\n      <td>0.363832</td>\n      <td>1.495004e+05</td>\n      <td>136.270133</td>\n      <td>0.281698</td>\n      <td>0.294406</td>\n      <td>0.322183</td>\n      <td>0.045203</td>\n      <td>0.024330</td>\n      <td>0.322507</td>\n      <td>17.002652</td>\n      <td>8.089769e-03</td>\n      <td>0.075786</td>\n      <td>14.644676</td>\n      <td>0.105501</td>\n      <td>14.166313</td>\n      <td>0.289766</td>\n      <td>0.235844</td>\n      <td>4.846648e+04</td>\n      <td>12.925722</td>\n      <td>4.881640e+05</td>\n      <td>0.039407</td>\n      <td>0.299256</td>\n      <td>0.267482</td>\n      <td>0.254818</td>\n      <td>0.204462</td>\n      <td>2.948580e-01</td>\n      <td>0.057576</td>\n      <td>0.262977</td>\n      <td>0.274373</td>\n      <td>0.053342</td>\n      <td>0.302603</td>\n      <td>0.144288</td>\n      <td>4.354125</td>\n      <td>12.440642</td>\n      <td>3.013228e-01</td>\n      <td>10.503520</td>\n      <td>0.305735</td>\n      <td>0.097209</td>\n      <td>0.281452</td>\n      <td>0.138399</td>\n      <td>0.331702</td>\n      <td>28.810907</td>\n      <td>5.894312e-02</td>\n      <td>2.936243</td>\n      <td>0.165999</td>\n      <td>0.207083</td>\n      <td>0.386892</td>\n      <td>0.104618</td>\n      <td>58970.820281</td>\n      <td>0.282046</td>\n      <td>0.261286</td>\n      <td>0.247120</td>\n      <td>0.322341</td>\n      <td>0.026872</td>\n      <td>0.297102</td>\n      <td>0.028629</td>\n      <td>1.023744</td>\n      <td>0.135265</td>\n      <td>0.067032</td>\n      <td>0.216123</td>\n      <td>0.115587</td>\n      <td>0.186237</td>\n      <td>0.094376</td>\n      <td>0.060917</td>\n      <td>0.096966</td>\n      <td>0.096966</td>\n      <td>0.096966</td>\n      <td>0.273668</td>\n    </tr>\n    <tr>\n      <th>min</th>\n      <td>146841.000000</td>\n      <td>0.000000</td>\n      <td>0.000000</td>\n      <td>0.0</td>\n      <td>0.000000</td>\n      <td>0.0</td>\n      <td>0.0</td>\n      <td>0.000000</td>\n      <td>0.006944</td>\n      <td>0.000000</td>\n      <td>0.000000</td>\n      <td>0.0</td>\n      <td>0.000005</td>\n      <td>0.0</td>\n      <td>0.0</td>\n      <td>0.000000</td>\n      <td>0.008000</td>\n      <td>0.0</td>\n      <td>0.000000</td>\n      <td>0.000000</td>\n      <td>0.000000e+00</td>\n      <td>0.010309</td>\n      <td>0.000000</td>\n      <td>0.000000</td>\n      <td>0.010417</td>\n      <td>0.000000</td>\n      <td>0.0</td>\n      <td>0.0</td>\n      <td>0.000000</td>\n      <td>0.0</td>\n      <td>0.000000</td>\n      <td>0.000000</td>\n      <td>0.000013</td>\n      <td>0.000000e+00</td>\n      <td>0.000000</td>\n      <td>0.000000</td>\n      <td>0.000000e+00</td>\n      <td>168.000000</td>\n      <td>0.021739</td>\n      <td>0.000000</td>\n      <td>0.000000</td>\n      <td>0.000000</td>\n      <td>0.000000</td>\n      <td>0.000000</td>\n      <td>0.000000</td>\n      <td>3.089280e-08</td>\n      <td>0.000000</td>\n      <td>7.500000</td>\n      <td>0.000029</td>\n      <td>7.500000</td>\n      <td>0.019608</td>\n      <td>0.000000</td>\n      <td>0.000000e+00</td>\n      <td>0.000000</td>\n      <td>0.000000e+00</td>\n      <td>0.000000</td>\n      <td>0.000000</td>\n      <td>0.008696</td>\n      <td>0.000000</td>\n      <td>0.000000</td>\n      <td>5.072087e-07</td>\n      <td>0.000000</td>\n      <td>0.005525</td>\n      <td>0.003171</td>\n      <td>0.000000</td>\n      <td>0.000056</td>\n      <td>0.000000</td>\n      <td>-33.290323</td>\n      <td>0.000000</td>\n      <td>5.072087e-07</td>\n      <td>0.000000</td>\n      <td>0.000006</td>\n      <td>0.000000</td>\n      <td>0.004255</td>\n      <td>0.000000</td>\n      <td>0.000000</td>\n      <td>-103.354839</td>\n      <td>7.083333e-08</td>\n      <td>0.345592</td>\n      <td>0.000000</td>\n      <td>0.000000</td>\n      <td>0.000000</td>\n      <td>0.000000</td>\n      <td>0.750000</td>\n      <td>0.000000</td>\n      <td>0.000000</td>\n      <td>0.005714</td>\n      <td>0.000000</td>\n      <td>0.000000</td>\n      <td>0.000000</td>\n      <td>0.000000</td>\n      <td>0.000000</td>\n      <td>0.000000</td>\n      <td>0.000000</td>\n      <td>0.000000</td>\n      <td>0.000000</td>\n      <td>0.000000</td>\n      <td>0.000000</td>\n      <td>0.000000</td>\n      <td>0.000000</td>\n      <td>0.000000</td>\n      <td>0.000000</td>\n      <td>0.000000</td>\n    </tr>\n    <tr>\n      <th>25%</th>\n      <td>257795.750000</td>\n      <td>0.000000</td>\n      <td>0.000000</td>\n      <td>0.0</td>\n      <td>33.000000</td>\n      <td>0.0</td>\n      <td>0.0</td>\n      <td>0.000000</td>\n      <td>0.166667</td>\n      <td>0.139998</td>\n      <td>0.000000</td>\n      <td>0.0</td>\n      <td>0.445047</td>\n      <td>0.0</td>\n      <td>0.0</td>\n      <td>0.000000</td>\n      <td>0.500000</td>\n      <td>0.0</td>\n      <td>0.000000</td>\n      <td>0.000000</td>\n      <td>4.040222e+03</td>\n      <td>0.181818</td>\n      <td>0.000000</td>\n      <td>0.000000</td>\n      <td>0.200000</td>\n      <td>0.118132</td>\n      <td>0.0</td>\n      <td>0.0</td>\n      <td>0.000000</td>\n      <td>0.0</td>\n      <td>0.000000</td>\n      <td>0.000000</td>\n      <td>0.148054</td>\n      <td>0.000000e+00</td>\n      <td>0.083333</td>\n      <td>0.267978</td>\n      <td>0.000000e+00</td>\n      <td>348.000000</td>\n      <td>0.500000</td>\n      <td>0.000000</td>\n      <td>0.426840</td>\n      <td>0.000000</td>\n      <td>0.000000</td>\n      <td>0.423239</td>\n      <td>11.000000</td>\n      <td>1.999841e-04</td>\n      <td>0.000000</td>\n      <td>17.490000</td>\n      <td>0.008539</td>\n      <td>17.000000</td>\n      <td>0.500000</td>\n      <td>0.063444</td>\n      <td>0.000000e+00</td>\n      <td>6.000000</td>\n      <td>0.000000e+00</td>\n      <td>0.000000</td>\n      <td>0.317284</td>\n      <td>0.448276</td>\n      <td>0.014378</td>\n      <td>0.000000</td>\n      <td>4.030009e-01</td>\n      <td>0.000000</td>\n      <td>0.434783</td>\n      <td>0.142857</td>\n      <td>0.000000</td>\n      <td>0.392297</td>\n      <td>0.000000</td>\n      <td>-3.065188</td>\n      <td>25.990000</td>\n      <td>1.118899e-01</td>\n      <td>45.000000</td>\n      <td>0.100404</td>\n      <td>0.000000</td>\n      <td>0.142857</td>\n      <td>0.000000</td>\n      <td>0.217069</td>\n      <td>-31.435484</td>\n      <td>6.302498e-03</td>\n      <td>1.781076</td>\n      <td>0.000000</td>\n      <td>0.000000</td>\n      <td>0.000000</td>\n      <td>0.000000</td>\n      <td>11149.287500</td>\n      <td>0.383802</td>\n      <td>1.000000</td>\n      <td>0.428571</td>\n      <td>0.134588</td>\n      <td>0.000000</td>\n      <td>1.000000</td>\n      <td>0.000000</td>\n      <td>0.000000</td>\n      <td>0.000000</td>\n      <td>0.000000</td>\n      <td>0.000000</td>\n      <td>0.000000</td>\n      <td>0.000000</td>\n      <td>0.000000</td>\n      <td>0.000000</td>\n      <td>0.000000</td>\n      <td>0.000000</td>\n      <td>0.000000</td>\n      <td>0.000000</td>\n    </tr>\n    <tr>\n      <th>50%</th>\n      <td>368869.500000</td>\n      <td>0.000000</td>\n      <td>0.000000</td>\n      <td>0.0</td>\n      <td>54.000000</td>\n      <td>0.0</td>\n      <td>0.0</td>\n      <td>0.000000</td>\n      <td>0.300000</td>\n      <td>0.286365</td>\n      <td>0.027038</td>\n      <td>0.0</td>\n      <td>0.722915</td>\n      <td>0.0</td>\n      <td>0.0</td>\n      <td>0.000000</td>\n      <td>0.666667</td>\n      <td>0.0</td>\n      <td>0.000000</td>\n      <td>0.000000</td>\n      <td>1.623043e+04</td>\n      <td>0.333333</td>\n      <td>0.000000</td>\n      <td>0.146667</td>\n      <td>0.363636</td>\n      <td>0.308867</td>\n      <td>0.0</td>\n      <td>0.0</td>\n      <td>0.000000</td>\n      <td>0.0</td>\n      <td>0.000000</td>\n      <td>0.000000</td>\n      <td>0.363181</td>\n      <td>0.000000e+00</td>\n      <td>0.250000</td>\n      <td>0.690273</td>\n      <td>0.000000e+00</td>\n      <td>432.000000</td>\n      <td>0.695652</td>\n      <td>0.000000</td>\n      <td>0.795678</td>\n      <td>0.000000</td>\n      <td>0.000000</td>\n      <td>0.796620</td>\n      <td>19.000000</td>\n      <td>1.488095e-03</td>\n      <td>0.000000</td>\n      <td>23.000000</td>\n      <td>0.017857</td>\n      <td>22.990000</td>\n      <td>0.714286</td>\n      <td>0.148154</td>\n      <td>0.000000e+00</td>\n      <td>12.000000</td>\n      <td>8.372244e+03</td>\n      <td>0.000000</td>\n      <td>0.493034</td>\n      <td>0.607143</td>\n      <td>0.127399</td>\n      <td>0.000000</td>\n      <td>6.050430e-01</td>\n      <td>0.000000</td>\n      <td>0.590909</td>\n      <td>0.227273</td>\n      <td>0.000000</td>\n      <td>0.600000</td>\n      <td>0.000000</td>\n      <td>-0.817742</td>\n      <td>45.000000</td>\n      <td>2.125386e-01</td>\n      <td>45.000000</td>\n      <td>0.203791</td>\n      <td>0.000000</td>\n      <td>0.240000</td>\n      <td>0.000000</td>\n      <td>0.494318</td>\n      <td>-9.774194</td>\n      <td>1.722411e-02</td>\n      <td>3.902163</td>\n      <td>0.000000</td>\n      <td>0.000000</td>\n      <td>0.000000</td>\n      <td>0.000000</td>\n      <td>20015.000000</td>\n      <td>0.552487</td>\n      <td>1.000000</td>\n      <td>0.558824</td>\n      <td>0.381376</td>\n      <td>0.000000</td>\n      <td>1.000000</td>\n      <td>0.000000</td>\n      <td>0.084310</td>\n      <td>0.008792</td>\n      <td>0.000000</td>\n      <td>0.000000</td>\n      <td>0.000000</td>\n      <td>0.000000</td>\n      <td>0.000000</td>\n      <td>0.000000</td>\n      <td>0.000000</td>\n      <td>0.000000</td>\n      <td>0.000000</td>\n      <td>0.000000</td>\n    </tr>\n    <tr>\n      <th>75%</th>\n      <td>479664.000000</td>\n      <td>0.000000</td>\n      <td>0.036884</td>\n      <td>0.0</td>\n      <td>72.000000</td>\n      <td>0.0</td>\n      <td>0.0</td>\n      <td>0.000000</td>\n      <td>0.571429</td>\n      <td>0.658685</td>\n      <td>0.109981</td>\n      <td>0.0</td>\n      <td>1.000000</td>\n      <td>0.0</td>\n      <td>0.0</td>\n      <td>0.000000</td>\n      <td>1.000000</td>\n      <td>0.0</td>\n      <td>0.000000</td>\n      <td>0.000000</td>\n      <td>5.669653e+04</td>\n      <td>0.666667</td>\n      <td>0.010584</td>\n      <td>0.310680</td>\n      <td>0.750000</td>\n      <td>0.802375</td>\n      <td>0.0</td>\n      <td>0.0</td>\n      <td>0.048327</td>\n      <td>0.0</td>\n      <td>1.000000</td>\n      <td>0.000000</td>\n      <td>0.899289</td>\n      <td>0.000000e+00</td>\n      <td>0.617647</td>\n      <td>0.954606</td>\n      <td>0.000000e+00</td>\n      <td>552.000000</td>\n      <td>1.000000</td>\n      <td>0.000000</td>\n      <td>1.000000</td>\n      <td>0.000000</td>\n      <td>0.000000</td>\n      <td>1.000000</td>\n      <td>36.000000</td>\n      <td>6.545574e-03</td>\n      <td>0.000000</td>\n      <td>29.990000</td>\n      <td>0.166667</td>\n      <td>29.000000</td>\n      <td>1.000000</td>\n      <td>0.251843</td>\n      <td>0.000000e+00</td>\n      <td>24.000000</td>\n      <td>1.842151e+05</td>\n      <td>0.000000</td>\n      <td>0.690834</td>\n      <td>0.957447</td>\n      <td>0.255519</td>\n      <td>0.000000</td>\n      <td>9.862055e-01</td>\n      <td>0.000000</td>\n      <td>0.888889</td>\n      <td>0.400000</td>\n      <td>0.000000</td>\n      <td>0.967483</td>\n      <td>0.000000</td>\n      <td>-0.195968</td>\n      <td>45.000000</td>\n      <td>4.418646e-01</td>\n      <td>45.000000</td>\n      <td>0.440478</td>\n      <td>0.000000</td>\n      <td>0.444444</td>\n      <td>0.000000</td>\n      <td>0.726228</td>\n      <td>-3.532258</td>\n      <td>3.362787e-02</td>\n      <td>6.555388</td>\n      <td>0.000000</td>\n      <td>0.000000</td>\n      <td>0.000000</td>\n      <td>0.000000</td>\n      <td>38543.357500</td>\n      <td>0.819606</td>\n      <td>1.000000</td>\n      <td>0.767442</td>\n      <td>0.724292</td>\n      <td>0.000000</td>\n      <td>1.000000</td>\n      <td>0.000000</td>\n      <td>0.684243</td>\n      <td>0.033605</td>\n      <td>0.000000</td>\n      <td>0.000000</td>\n      <td>0.000000</td>\n      <td>0.000000</td>\n      <td>0.000000</td>\n      <td>0.000000</td>\n      <td>0.000000</td>\n      <td>0.000000</td>\n      <td>0.000000</td>\n      <td>0.000000</td>\n    </tr>\n    <tr>\n      <th>max</th>\n      <td>590828.000000</td>\n      <td>11.000000</td>\n      <td>1.000000</td>\n      <td>0.0</td>\n      <td>89.000000</td>\n      <td>0.0</td>\n      <td>0.0</td>\n      <td>1.000000</td>\n      <td>1.000000</td>\n      <td>1.000000</td>\n      <td>1.000000</td>\n      <td>0.0</td>\n      <td>1.000000</td>\n      <td>0.0</td>\n      <td>0.0</td>\n      <td>1.000000</td>\n      <td>1.000000</td>\n      <td>0.0</td>\n      <td>1.000000</td>\n      <td>4.000000</td>\n      <td>2.202141e+07</td>\n      <td>1.000000</td>\n      <td>1.000000</td>\n      <td>1.000000</td>\n      <td>1.000000</td>\n      <td>1.000000</td>\n      <td>0.0</td>\n      <td>0.0</td>\n      <td>1.000000</td>\n      <td>0.0</td>\n      <td>13.000000</td>\n      <td>9.000000</td>\n      <td>1.000000</td>\n      <td>3.753042e+06</td>\n      <td>1.000000</td>\n      <td>1.000000</td>\n      <td>4.628044e+07</td>\n      <td>1128.000000</td>\n      <td>1.000000</td>\n      <td>9.000000</td>\n      <td>1.000000</td>\n      <td>1.000000</td>\n      <td>1.000000</td>\n      <td>1.000000</td>\n      <td>242.000000</td>\n      <td>8.118109e-02</td>\n      <td>4.000000</td>\n      <td>94.000000</td>\n      <td>1.000000</td>\n      <td>94.000000</td>\n      <td>1.000000</td>\n      <td>1.000000</td>\n      <td>5.798600e+06</td>\n      <td>182.000000</td>\n      <td>7.337638e+06</td>\n      <td>1.000000</td>\n      <td>1.000000</td>\n      <td>1.000000</td>\n      <td>1.000000</td>\n      <td>1.000000</td>\n      <td>1.000000e+00</td>\n      <td>1.000000</td>\n      <td>1.000000</td>\n      <td>1.000000</td>\n      <td>1.000000</td>\n      <td>1.000000</td>\n      <td>4.534014</td>\n      <td>0.967742</td>\n      <td>59.900000</td>\n      <td>1.000000e+00</td>\n      <td>59.900000</td>\n      <td>1.000000</td>\n      <td>1.000000</td>\n      <td>1.000000</td>\n      <td>4.688776</td>\n      <td>1.000000</td>\n      <td>112.193548</td>\n      <td>2.283844e+00</td>\n      <td>13.748937</td>\n      <td>9.377551</td>\n      <td>1.000000</td>\n      <td>1.000000</td>\n      <td>1.000000</td>\n      <td>786218.420000</td>\n      <td>1.000000</td>\n      <td>1.000000</td>\n      <td>1.000000</td>\n      <td>1.000000</td>\n      <td>1.000000</td>\n      <td>1.000000</td>\n      <td>1.000000</td>\n      <td>39.878468</td>\n      <td>1.000000</td>\n      <td>1.000000</td>\n      <td>1.000000</td>\n      <td>1.000000</td>\n      <td>1.000000</td>\n      <td>1.000000</td>\n      <td>1.000000</td>\n      <td>1.000000</td>\n      <td>1.000000</td>\n      <td>1.000000</td>\n      <td>1.000000</td>\n    </tr>\n  </tbody>\n</table>\n</div>"
     },
     "metadata": {},
     "execution_count": 53
    }
   ],
   "source": [
    "data.describe()"
   ]
  },
  {
   "cell_type": "code",
   "execution_count": 54,
   "metadata": {},
   "outputs": [
    {
     "output_type": "stream",
     "name": "stdout",
     "text": [
      "<class 'pandas.core.frame.DataFrame'>\nInt64Index: 320764 entries, 333149 to 222683\nColumns: 116 entries, ID to TARGET\ndtypes: float64(101), int64(2), object(13)\nmemory usage: 286.3+ MB\n"
     ]
    }
   ],
   "source": [
    "data.info()"
   ]
  },
  {
   "source": [
    "Наше обследование выше и `data.info()` показало нам, что у нас 13 столбцов с типом `Object`, которые нам лучше убрать"
   ],
   "cell_type": "markdown",
   "metadata": {}
  },
  {
   "cell_type": "markdown",
   "metadata": {},
   "source": [
    "## Чистим данные"
   ]
  },
  {
   "cell_type": "markdown",
   "metadata": {},
   "source": [
    "### Находим категориальные фичи"
   ]
  },
  {
   "cell_type": "code",
   "execution_count": 55,
   "metadata": {},
   "outputs": [
    {
     "output_type": "stream",
     "name": "stdout",
     "text": [
      "['CLNT_TRUST_RELATION', 'APP_MARITAL_STATUS', 'APP_KIND_OF_PROP_HABITATION', 'CLNT_JOB_POSITION_TYPE', 'CLNT_JOB_POSITION', 'APP_DRIVING_LICENSE', 'APP_EDUCATION', 'APP_TRAVEL_PASS', 'APP_CAR', 'APP_POSITION_TYPE', 'APP_EMP_TYPE', 'APP_COMP_TYPE', 'PACK']\n"
     ]
    }
   ],
   "source": [
    "# Находим строковые фичи\n",
    "cols_to_remove = [col for col in data.columns.values if data[col].dtype=='object']\n",
    "\n",
    "print(cols_to_remove)"
   ]
  },
  {
   "source": [
    "Убираем категориальные фичи"
   ],
   "cell_type": "markdown",
   "metadata": {}
  },
  {
   "cell_type": "code",
   "execution_count": 56,
   "metadata": {},
   "outputs": [],
   "source": [
    "data_cleaned = data.drop(cols_to_remove, axis=1)"
   ]
  },
  {
   "source": [
    "Смотрим новый размер датасета"
   ],
   "cell_type": "markdown",
   "metadata": {}
  },
  {
   "cell_type": "code",
   "execution_count": 57,
   "metadata": {},
   "outputs": [
    {
     "output_type": "execute_result",
     "data": {
      "text/plain": [
       "(320764, 103)"
      ]
     },
     "metadata": {},
     "execution_count": 57
    }
   ],
   "source": [
    "data_cleaned.shape"
   ]
  },
  {
   "source": [
    "Чистим датасет от `NaN` и `Inf`"
   ],
   "cell_type": "markdown",
   "metadata": {}
  },
  {
   "cell_type": "code",
   "execution_count": 58,
   "metadata": {},
   "outputs": [],
   "source": [
    "data_cleaned = data_cleaned.replace([np.inf, -np.inf], np.nan)"
   ]
  },
  {
   "cell_type": "code",
   "execution_count": 59,
   "metadata": {},
   "outputs": [],
   "source": [
    "data_cleaned = data_cleaned.fillna(0)"
   ]
  },
  {
   "source": [
    "Проверяем наш датафрейм после очистки"
   ],
   "cell_type": "markdown",
   "metadata": {}
  },
  {
   "cell_type": "code",
   "execution_count": 60,
   "metadata": {},
   "outputs": [
    {
     "output_type": "execute_result",
     "data": {
      "text/plain": [
       "            ID  CR_PROD_CNT_IL  AMOUNT_RUB_CLO_PRC  PRC_ACCEPTS_A_EMAIL_LINK  APP_REGISTR_RGN_CODE  PRC_ACCEPTS_A_POS  PRC_ACCEPTS_A_TK  \\\n",
       "333149  479990               0                 0.0                       0.0                   0.0                0.0               0.0   \n",
       "303639  450480               0                 0.0                       0.0                   0.0                0.0               0.0   \n",
       "327113  473954               0                 0.0                       0.0                   0.0                0.0               0.0   \n",
       "384197  531038               0                 0.0                       0.0                   0.0                0.0               0.0   \n",
       "202462  349303               0                 0.0                       0.0                   0.0                0.0               0.0   \n",
       "\n",
       "        TURNOVER_DYNAMIC_IL_1M  CNT_TRAN_AUT_TENDENCY1M  SUM_TRAN_AUT_TENDENCY1M  AMOUNT_RUB_SUP_PRC  PRC_ACCEPTS_A_AMOBILE  \\\n",
       "333149                     0.0                      0.0                      0.0            0.000000                    0.0   \n",
       "303639                     0.0                      0.0                      0.0            0.027168                    0.0   \n",
       "327113                     0.0                      0.0                      0.0            0.114951                    0.0   \n",
       "384197                     0.0                      0.0                      0.0            0.000000                    0.0   \n",
       "202462                     0.0                      0.0                      0.0            0.011541                    0.0   \n",
       "\n",
       "        SUM_TRAN_AUT_TENDENCY3M  PRC_ACCEPTS_TK  PRC_ACCEPTS_A_MTP  REST_DYNAMIC_FDEP_1M  CNT_TRAN_AUT_TENDENCY3M  CNT_ACCEPTS_TK  \\\n",
       "333149                      0.0             0.0                0.0                   0.0                      0.0             0.0   \n",
       "303639                      0.0             0.0                0.0                   0.0                      0.0             0.0   \n",
       "327113                      0.0             0.0                0.0                   0.0                      0.0             0.0   \n",
       "384197                      0.0             0.0                0.0                   0.0                      0.0             0.0   \n",
       "202462                      1.0             0.0                0.0                   0.0                      1.0             0.0   \n",
       "\n",
       "        REST_DYNAMIC_SAVE_3M  CR_PROD_CNT_VCU   REST_AVG_CUR  CNT_TRAN_MED_TENDENCY1M  AMOUNT_RUB_NAS_PRC  TRANS_COUNT_SUP_PRC  \\\n",
       "333149                   0.0              0.0   19069.691717                     0.00            0.000000             0.000000   \n",
       "303639                   0.0              0.0    5951.208683                     0.00            0.048746             0.030303   \n",
       "327113                   0.0              0.0    3774.582933                     0.25            0.004519             0.363636   \n",
       "384197                   0.0              0.0  148568.263850                     0.00            0.000000             0.000000   \n",
       "202462                   0.0              0.0   69233.388700                     0.00            0.000000             0.083333   \n",
       "\n",
       "        CNT_TRAN_CLO_TENDENCY1M  SUM_TRAN_MED_TENDENCY1M  PRC_ACCEPTS_A_ATM  PRC_ACCEPTS_MTP  TRANS_COUNT_NAS_PRC  CNT_ACCEPTS_MTP  \\\n",
       "333149                      0.0                 0.000000                0.0              0.0             0.000000              0.0   \n",
       "303639                      0.0                 0.000000                0.0              0.0             0.030303              0.0   \n",
       "327113                      0.0                 0.279487                0.0              0.0             0.136364              0.0   \n",
       "384197                      0.0                 0.000000                0.0              0.0             0.000000              0.0   \n",
       "202462                      0.0                 0.000000                0.0              0.0             0.000000              0.0   \n",
       "\n",
       "        CR_PROD_CNT_TOVR  CR_PROD_CNT_PIL  SUM_TRAN_CLO_TENDENCY1M  TURNOVER_CC  TRANS_COUNT_ATM_PRC  AMOUNT_RUB_ATM_PRC  TURNOVER_PAYM    AGE  \\\n",
       "333149               1.0              0.0                      0.0          0.0             0.981818            0.926472            0.0  324.0   \n",
       "303639               1.0              0.0                      0.0          0.0             0.090909            0.292473            0.0  360.0   \n",
       "327113               1.0              0.0                      0.0          0.0             0.136364            0.533251            0.0  600.0   \n",
       "384197               0.0              0.0                      0.0          0.0             0.666667            0.761035            0.0  732.0   \n",
       "202462               0.0              0.0                      0.0          0.0             0.250000            0.486608            0.0  480.0   \n",
       "\n",
       "        CNT_TRAN_MED_TENDENCY3M  CR_PROD_CNT_CC  SUM_TRAN_MED_TENDENCY3M  REST_DYNAMIC_FDEP_3M  REST_DYNAMIC_IL_1M  SUM_TRAN_CLO_TENDENCY3M  \\\n",
       "333149                      0.0             0.0                      0.0                   0.0                 0.0                      0.0   \n",
       "303639                      0.0             0.0                      0.0                   0.0                 0.0                      0.0   \n",
       "327113                      1.0             0.0                      1.0                   0.0                 0.0                      0.0   \n",
       "384197                      0.0             0.0                      0.0                   0.0                 0.0                      0.0   \n",
       "202462                      0.0             0.0                      0.0                   0.0                 0.0                      0.0   \n",
       "\n",
       "        LDEAL_TENOR_MAX  LDEAL_YQZ_CHRG  CR_PROD_CNT_CCFP  DEAL_YQZ_IR_MAX  LDEAL_YQZ_COM  DEAL_YQZ_IR_MIN  CNT_TRAN_CLO_TENDENCY3M  \\\n",
       "333149              0.0             0.0               0.0              0.0            0.0              0.0                      0.0   \n",
       "303639              0.0             0.0               0.0              0.0            0.0              0.0                      0.0   \n",
       "327113              0.0             0.0               0.0              0.0            0.0              0.0                      0.0   \n",
       "384197              0.0             0.0               0.0              0.0            0.0              0.0                      0.0   \n",
       "202462              0.0             0.0               0.0              0.0            0.0              0.0                      0.0   \n",
       "\n",
       "        REST_DYNAMIC_CUR_1M  REST_AVG_PAYM  LDEAL_TENOR_MIN  LDEAL_AMT_MONTH  LDEAL_GRACE_DAYS_PCT_MED  REST_DYNAMIC_CUR_3M  \\\n",
       "333149             0.139327            0.0              0.0              0.0                       0.0             0.244042   \n",
       "303639             0.163876            0.0              0.0              0.0                       0.0             0.465244   \n",
       "327113             0.073887            0.0              0.0              0.0                       0.0             0.490018   \n",
       "384197             0.165847            0.0              0.0              0.0                       0.0             0.497541   \n",
       "202462             0.055603            0.0              0.0              0.0                       0.0             0.247153   \n",
       "\n",
       "        CNT_TRAN_SUP_TENDENCY3M  TURNOVER_DYNAMIC_CUR_1M  REST_DYNAMIC_PAYM_3M  SUM_TRAN_SUP_TENDENCY3M  REST_DYNAMIC_IL_3M  \\\n",
       "333149                    0.000                 0.144300                   0.0                 0.000000                 0.0   \n",
       "303639                    1.000                 0.203484                   0.0                 1.000000                 0.0   \n",
       "327113                    0.375                 0.090256                   0.0                 0.317348                 0.0   \n",
       "384197                    0.000                 0.000000                   0.0                 0.000000                 0.0   \n",
       "202462                    0.000                 0.316277                   0.0                 0.000000                 0.0   \n",
       "\n",
       "        CNT_TRAN_ATM_TENDENCY3M  CNT_TRAN_ATM_TENDENCY1M  TURNOVER_DYNAMIC_IL_3M  SUM_TRAN_ATM_TENDENCY3M  DEAL_GRACE_DAYS_ACC_S1X1  \\\n",
       "333149                 0.351852                 0.166667                     0.0                 0.329321                       0.0   \n",
       "303639                 0.333333                 0.333333                     0.0                 0.333333                       0.0   \n",
       "327113                 0.000000                 0.000000                     0.0                 0.000000                       0.0   \n",
       "384197                 0.000000                 0.000000                     0.0                 0.000000                       0.0   \n",
       "202462                 0.666667                 0.666667                     0.0                 0.416697                       0.0   \n",
       "\n",
       "        AVG_PCT_MONTH_TO_PCLOSE  DEAL_YWZ_IR_MIN  SUM_TRAN_SUP_TENDENCY1M  DEAL_YWZ_IR_MAX  SUM_TRAN_ATM_TENDENCY1M  REST_DYNAMIC_PAYM_1M  \\\n",
       "333149                      0.0             45.0                      0.0             45.0                 0.167901                   0.0   \n",
       "303639                      0.0             45.0                      0.0             45.0                 0.333333                   0.0   \n",
       "327113                      0.0             45.0                      0.0             45.0                 0.000000                   0.0   \n",
       "384197                      0.0              0.0                      0.0              0.0                 0.000000                   0.0   \n",
       "202462                      0.0              0.0                      0.0              0.0                 0.416697                   0.0   \n",
       "\n",
       "        CNT_TRAN_SUP_TENDENCY1M  DEAL_GRACE_DAYS_ACC_AVG  TURNOVER_DYNAMIC_CUR_3M  MAX_PCLOSE_DATE  LDEAL_YQZ_PC  CLNT_SETUP_TENOR  \\\n",
       "333149                      0.0                      0.0                 0.303750              0.0           0.0          5.480001   \n",
       "303639                      0.0                      0.0                 0.504160              0.0           0.0          6.786453   \n",
       "327113                      0.0                      0.0                 0.351398              0.0           0.0          8.528388   \n",
       "384197                      0.0                      0.0                 0.000000              0.0           0.0          3.291829   \n",
       "202462                      0.0                      0.0                 0.735125              0.0           0.0          5.160219   \n",
       "\n",
       "        DEAL_GRACE_DAYS_ACC_MAX  TURNOVER_DYNAMIC_PAYM_3M  LDEAL_DELINQ_PER_MAXYQZ  TURNOVER_DYNAMIC_PAYM_1M  CLNT_SALARY_VALUE  \\\n",
       "333149                      0.0                       0.0                      0.0                       0.0                0.0   \n",
       "303639                      0.0                       0.0                      0.0                       0.0                0.0   \n",
       "327113                      0.0                       0.0                      0.0                       0.0                0.0   \n",
       "384197                      0.0                       0.0                      0.0                       0.0                0.0   \n",
       "202462                      0.0                       0.0                      0.0                       0.0                0.0   \n",
       "\n",
       "        TRANS_AMOUNT_TENDENCY3M  MED_DEBT_PRC_YQZ  TRANS_CNT_TENDENCY3M  LDEAL_USED_AMT_AVG_YQZ  REST_DYNAMIC_CC_1M  LDEAL_USED_AMT_AVG_YWZ  \\\n",
       "333149                 0.305106               0.0              0.345455                     0.0                 0.0                     1.0   \n",
       "303639                 0.368799               0.0              0.454545                     0.0                 0.0                     1.0   \n",
       "327113                 0.358522               0.0              0.318182                     0.0                 0.0                     1.0   \n",
       "384197                 0.000000               0.0              0.000000                     0.0                 0.0                     0.0   \n",
       "202462                 0.688108               0.0              0.750000                     0.0                 0.0                     0.0   \n",
       "\n",
       "        TURNOVER_DYNAMIC_CC_1M  AVG_PCT_DEBT_TO_DEAL_AMT  LDEAL_ACT_DAYS_ACC_PCT_AVG  REST_DYNAMIC_CC_3M  MED_DEBT_PRC_YWZ  LDEAL_ACT_DAYS_PCT_TR3  \\\n",
       "333149                     0.0                       0.0                    0.003524                 0.0               0.0                     0.0   \n",
       "303639                     0.0                       0.0                    0.000618                 0.0               0.0                     0.0   \n",
       "327113                     0.0                       0.0                    0.027484                 0.0               0.0                     0.0   \n",
       "384197                     0.0                       0.0                    0.000000                 0.0               0.0                     0.0   \n",
       "202462                     0.0                       0.0                    0.000000                 0.0               0.0                     0.0   \n",
       "\n",
       "        LDEAL_ACT_DAYS_PCT_AAVG  LDEAL_DELINQ_PER_MAXYWZ  TURNOVER_DYNAMIC_CC_3M  LDEAL_ACT_DAYS_PCT_TR  LDEAL_ACT_DAYS_PCT_TR4  \\\n",
       "333149                      0.0                      0.0                     0.0                    0.0                     0.0   \n",
       "303639                      0.0                      0.0                     0.0                    0.0                     0.0   \n",
       "327113                      0.0                      0.0                     0.0                    0.0                     0.0   \n",
       "384197                      0.0                      0.0                     0.0                    0.0                     0.0   \n",
       "202462                      0.0                      0.0                     0.0                    0.0                     0.0   \n",
       "\n",
       "        LDEAL_ACT_DAYS_PCT_CURR  TARGET  \n",
       "333149                      0.0     0.0  \n",
       "303639                      0.0     0.0  \n",
       "327113                      0.0     0.0  \n",
       "384197                      0.0     0.0  \n",
       "202462                      0.0     0.0  "
      ],
      "text/html": "<div>\n<style scoped>\n    .dataframe tbody tr th:only-of-type {\n        vertical-align: middle;\n    }\n\n    .dataframe tbody tr th {\n        vertical-align: top;\n    }\n\n    .dataframe thead th {\n        text-align: right;\n    }\n</style>\n<table border=\"1\" class=\"dataframe\">\n  <thead>\n    <tr style=\"text-align: right;\">\n      <th></th>\n      <th>ID</th>\n      <th>CR_PROD_CNT_IL</th>\n      <th>AMOUNT_RUB_CLO_PRC</th>\n      <th>PRC_ACCEPTS_A_EMAIL_LINK</th>\n      <th>APP_REGISTR_RGN_CODE</th>\n      <th>PRC_ACCEPTS_A_POS</th>\n      <th>PRC_ACCEPTS_A_TK</th>\n      <th>TURNOVER_DYNAMIC_IL_1M</th>\n      <th>CNT_TRAN_AUT_TENDENCY1M</th>\n      <th>SUM_TRAN_AUT_TENDENCY1M</th>\n      <th>AMOUNT_RUB_SUP_PRC</th>\n      <th>PRC_ACCEPTS_A_AMOBILE</th>\n      <th>SUM_TRAN_AUT_TENDENCY3M</th>\n      <th>PRC_ACCEPTS_TK</th>\n      <th>PRC_ACCEPTS_A_MTP</th>\n      <th>REST_DYNAMIC_FDEP_1M</th>\n      <th>CNT_TRAN_AUT_TENDENCY3M</th>\n      <th>CNT_ACCEPTS_TK</th>\n      <th>REST_DYNAMIC_SAVE_3M</th>\n      <th>CR_PROD_CNT_VCU</th>\n      <th>REST_AVG_CUR</th>\n      <th>CNT_TRAN_MED_TENDENCY1M</th>\n      <th>AMOUNT_RUB_NAS_PRC</th>\n      <th>TRANS_COUNT_SUP_PRC</th>\n      <th>CNT_TRAN_CLO_TENDENCY1M</th>\n      <th>SUM_TRAN_MED_TENDENCY1M</th>\n      <th>PRC_ACCEPTS_A_ATM</th>\n      <th>PRC_ACCEPTS_MTP</th>\n      <th>TRANS_COUNT_NAS_PRC</th>\n      <th>CNT_ACCEPTS_MTP</th>\n      <th>CR_PROD_CNT_TOVR</th>\n      <th>CR_PROD_CNT_PIL</th>\n      <th>SUM_TRAN_CLO_TENDENCY1M</th>\n      <th>TURNOVER_CC</th>\n      <th>TRANS_COUNT_ATM_PRC</th>\n      <th>AMOUNT_RUB_ATM_PRC</th>\n      <th>TURNOVER_PAYM</th>\n      <th>AGE</th>\n      <th>CNT_TRAN_MED_TENDENCY3M</th>\n      <th>CR_PROD_CNT_CC</th>\n      <th>SUM_TRAN_MED_TENDENCY3M</th>\n      <th>REST_DYNAMIC_FDEP_3M</th>\n      <th>REST_DYNAMIC_IL_1M</th>\n      <th>SUM_TRAN_CLO_TENDENCY3M</th>\n      <th>LDEAL_TENOR_MAX</th>\n      <th>LDEAL_YQZ_CHRG</th>\n      <th>CR_PROD_CNT_CCFP</th>\n      <th>DEAL_YQZ_IR_MAX</th>\n      <th>LDEAL_YQZ_COM</th>\n      <th>DEAL_YQZ_IR_MIN</th>\n      <th>CNT_TRAN_CLO_TENDENCY3M</th>\n      <th>REST_DYNAMIC_CUR_1M</th>\n      <th>REST_AVG_PAYM</th>\n      <th>LDEAL_TENOR_MIN</th>\n      <th>LDEAL_AMT_MONTH</th>\n      <th>LDEAL_GRACE_DAYS_PCT_MED</th>\n      <th>REST_DYNAMIC_CUR_3M</th>\n      <th>CNT_TRAN_SUP_TENDENCY3M</th>\n      <th>TURNOVER_DYNAMIC_CUR_1M</th>\n      <th>REST_DYNAMIC_PAYM_3M</th>\n      <th>SUM_TRAN_SUP_TENDENCY3M</th>\n      <th>REST_DYNAMIC_IL_3M</th>\n      <th>CNT_TRAN_ATM_TENDENCY3M</th>\n      <th>CNT_TRAN_ATM_TENDENCY1M</th>\n      <th>TURNOVER_DYNAMIC_IL_3M</th>\n      <th>SUM_TRAN_ATM_TENDENCY3M</th>\n      <th>DEAL_GRACE_DAYS_ACC_S1X1</th>\n      <th>AVG_PCT_MONTH_TO_PCLOSE</th>\n      <th>DEAL_YWZ_IR_MIN</th>\n      <th>SUM_TRAN_SUP_TENDENCY1M</th>\n      <th>DEAL_YWZ_IR_MAX</th>\n      <th>SUM_TRAN_ATM_TENDENCY1M</th>\n      <th>REST_DYNAMIC_PAYM_1M</th>\n      <th>CNT_TRAN_SUP_TENDENCY1M</th>\n      <th>DEAL_GRACE_DAYS_ACC_AVG</th>\n      <th>TURNOVER_DYNAMIC_CUR_3M</th>\n      <th>MAX_PCLOSE_DATE</th>\n      <th>LDEAL_YQZ_PC</th>\n      <th>CLNT_SETUP_TENOR</th>\n      <th>DEAL_GRACE_DAYS_ACC_MAX</th>\n      <th>TURNOVER_DYNAMIC_PAYM_3M</th>\n      <th>LDEAL_DELINQ_PER_MAXYQZ</th>\n      <th>TURNOVER_DYNAMIC_PAYM_1M</th>\n      <th>CLNT_SALARY_VALUE</th>\n      <th>TRANS_AMOUNT_TENDENCY3M</th>\n      <th>MED_DEBT_PRC_YQZ</th>\n      <th>TRANS_CNT_TENDENCY3M</th>\n      <th>LDEAL_USED_AMT_AVG_YQZ</th>\n      <th>REST_DYNAMIC_CC_1M</th>\n      <th>LDEAL_USED_AMT_AVG_YWZ</th>\n      <th>TURNOVER_DYNAMIC_CC_1M</th>\n      <th>AVG_PCT_DEBT_TO_DEAL_AMT</th>\n      <th>LDEAL_ACT_DAYS_ACC_PCT_AVG</th>\n      <th>REST_DYNAMIC_CC_3M</th>\n      <th>MED_DEBT_PRC_YWZ</th>\n      <th>LDEAL_ACT_DAYS_PCT_TR3</th>\n      <th>LDEAL_ACT_DAYS_PCT_AAVG</th>\n      <th>LDEAL_DELINQ_PER_MAXYWZ</th>\n      <th>TURNOVER_DYNAMIC_CC_3M</th>\n      <th>LDEAL_ACT_DAYS_PCT_TR</th>\n      <th>LDEAL_ACT_DAYS_PCT_TR4</th>\n      <th>LDEAL_ACT_DAYS_PCT_CURR</th>\n      <th>TARGET</th>\n    </tr>\n  </thead>\n  <tbody>\n    <tr>\n      <th>333149</th>\n      <td>479990</td>\n      <td>0</td>\n      <td>0.0</td>\n      <td>0.0</td>\n      <td>0.0</td>\n      <td>0.0</td>\n      <td>0.0</td>\n      <td>0.0</td>\n      <td>0.0</td>\n      <td>0.0</td>\n      <td>0.000000</td>\n      <td>0.0</td>\n      <td>0.0</td>\n      <td>0.0</td>\n      <td>0.0</td>\n      <td>0.0</td>\n      <td>0.0</td>\n      <td>0.0</td>\n      <td>0.0</td>\n      <td>0.0</td>\n      <td>19069.691717</td>\n      <td>0.00</td>\n      <td>0.000000</td>\n      <td>0.000000</td>\n      <td>0.0</td>\n      <td>0.000000</td>\n      <td>0.0</td>\n      <td>0.0</td>\n      <td>0.000000</td>\n      <td>0.0</td>\n      <td>1.0</td>\n      <td>0.0</td>\n      <td>0.0</td>\n      <td>0.0</td>\n      <td>0.981818</td>\n      <td>0.926472</td>\n      <td>0.0</td>\n      <td>324.0</td>\n      <td>0.0</td>\n      <td>0.0</td>\n      <td>0.0</td>\n      <td>0.0</td>\n      <td>0.0</td>\n      <td>0.0</td>\n      <td>0.0</td>\n      <td>0.0</td>\n      <td>0.0</td>\n      <td>0.0</td>\n      <td>0.0</td>\n      <td>0.0</td>\n      <td>0.0</td>\n      <td>0.139327</td>\n      <td>0.0</td>\n      <td>0.0</td>\n      <td>0.0</td>\n      <td>0.0</td>\n      <td>0.244042</td>\n      <td>0.000</td>\n      <td>0.144300</td>\n      <td>0.0</td>\n      <td>0.000000</td>\n      <td>0.0</td>\n      <td>0.351852</td>\n      <td>0.166667</td>\n      <td>0.0</td>\n      <td>0.329321</td>\n      <td>0.0</td>\n      <td>0.0</td>\n      <td>45.0</td>\n      <td>0.0</td>\n      <td>45.0</td>\n      <td>0.167901</td>\n      <td>0.0</td>\n      <td>0.0</td>\n      <td>0.0</td>\n      <td>0.303750</td>\n      <td>0.0</td>\n      <td>0.0</td>\n      <td>5.480001</td>\n      <td>0.0</td>\n      <td>0.0</td>\n      <td>0.0</td>\n      <td>0.0</td>\n      <td>0.0</td>\n      <td>0.305106</td>\n      <td>0.0</td>\n      <td>0.345455</td>\n      <td>0.0</td>\n      <td>0.0</td>\n      <td>1.0</td>\n      <td>0.0</td>\n      <td>0.0</td>\n      <td>0.003524</td>\n      <td>0.0</td>\n      <td>0.0</td>\n      <td>0.0</td>\n      <td>0.0</td>\n      <td>0.0</td>\n      <td>0.0</td>\n      <td>0.0</td>\n      <td>0.0</td>\n      <td>0.0</td>\n      <td>0.0</td>\n    </tr>\n    <tr>\n      <th>303639</th>\n      <td>450480</td>\n      <td>0</td>\n      <td>0.0</td>\n      <td>0.0</td>\n      <td>0.0</td>\n      <td>0.0</td>\n      <td>0.0</td>\n      <td>0.0</td>\n      <td>0.0</td>\n      <td>0.0</td>\n      <td>0.027168</td>\n      <td>0.0</td>\n      <td>0.0</td>\n      <td>0.0</td>\n      <td>0.0</td>\n      <td>0.0</td>\n      <td>0.0</td>\n      <td>0.0</td>\n      <td>0.0</td>\n      <td>0.0</td>\n      <td>5951.208683</td>\n      <td>0.00</td>\n      <td>0.048746</td>\n      <td>0.030303</td>\n      <td>0.0</td>\n      <td>0.000000</td>\n      <td>0.0</td>\n      <td>0.0</td>\n      <td>0.030303</td>\n      <td>0.0</td>\n      <td>1.0</td>\n      <td>0.0</td>\n      <td>0.0</td>\n      <td>0.0</td>\n      <td>0.090909</td>\n      <td>0.292473</td>\n      <td>0.0</td>\n      <td>360.0</td>\n      <td>0.0</td>\n      <td>0.0</td>\n      <td>0.0</td>\n      <td>0.0</td>\n      <td>0.0</td>\n      <td>0.0</td>\n      <td>0.0</td>\n      <td>0.0</td>\n      <td>0.0</td>\n      <td>0.0</td>\n      <td>0.0</td>\n      <td>0.0</td>\n      <td>0.0</td>\n      <td>0.163876</td>\n      <td>0.0</td>\n      <td>0.0</td>\n      <td>0.0</td>\n      <td>0.0</td>\n      <td>0.465244</td>\n      <td>1.000</td>\n      <td>0.203484</td>\n      <td>0.0</td>\n      <td>1.000000</td>\n      <td>0.0</td>\n      <td>0.333333</td>\n      <td>0.333333</td>\n      <td>0.0</td>\n      <td>0.333333</td>\n      <td>0.0</td>\n      <td>0.0</td>\n      <td>45.0</td>\n      <td>0.0</td>\n      <td>45.0</td>\n      <td>0.333333</td>\n      <td>0.0</td>\n      <td>0.0</td>\n      <td>0.0</td>\n      <td>0.504160</td>\n      <td>0.0</td>\n      <td>0.0</td>\n      <td>6.786453</td>\n      <td>0.0</td>\n      <td>0.0</td>\n      <td>0.0</td>\n      <td>0.0</td>\n      <td>0.0</td>\n      <td>0.368799</td>\n      <td>0.0</td>\n      <td>0.454545</td>\n      <td>0.0</td>\n      <td>0.0</td>\n      <td>1.0</td>\n      <td>0.0</td>\n      <td>0.0</td>\n      <td>0.000618</td>\n      <td>0.0</td>\n      <td>0.0</td>\n      <td>0.0</td>\n      <td>0.0</td>\n      <td>0.0</td>\n      <td>0.0</td>\n      <td>0.0</td>\n      <td>0.0</td>\n      <td>0.0</td>\n      <td>0.0</td>\n    </tr>\n    <tr>\n      <th>327113</th>\n      <td>473954</td>\n      <td>0</td>\n      <td>0.0</td>\n      <td>0.0</td>\n      <td>0.0</td>\n      <td>0.0</td>\n      <td>0.0</td>\n      <td>0.0</td>\n      <td>0.0</td>\n      <td>0.0</td>\n      <td>0.114951</td>\n      <td>0.0</td>\n      <td>0.0</td>\n      <td>0.0</td>\n      <td>0.0</td>\n      <td>0.0</td>\n      <td>0.0</td>\n      <td>0.0</td>\n      <td>0.0</td>\n      <td>0.0</td>\n      <td>3774.582933</td>\n      <td>0.25</td>\n      <td>0.004519</td>\n      <td>0.363636</td>\n      <td>0.0</td>\n      <td>0.279487</td>\n      <td>0.0</td>\n      <td>0.0</td>\n      <td>0.136364</td>\n      <td>0.0</td>\n      <td>1.0</td>\n      <td>0.0</td>\n      <td>0.0</td>\n      <td>0.0</td>\n      <td>0.136364</td>\n      <td>0.533251</td>\n      <td>0.0</td>\n      <td>600.0</td>\n      <td>1.0</td>\n      <td>0.0</td>\n      <td>1.0</td>\n      <td>0.0</td>\n      <td>0.0</td>\n      <td>0.0</td>\n      <td>0.0</td>\n      <td>0.0</td>\n      <td>0.0</td>\n      <td>0.0</td>\n      <td>0.0</td>\n      <td>0.0</td>\n      <td>0.0</td>\n      <td>0.073887</td>\n      <td>0.0</td>\n      <td>0.0</td>\n      <td>0.0</td>\n      <td>0.0</td>\n      <td>0.490018</td>\n      <td>0.375</td>\n      <td>0.090256</td>\n      <td>0.0</td>\n      <td>0.317348</td>\n      <td>0.0</td>\n      <td>0.000000</td>\n      <td>0.000000</td>\n      <td>0.0</td>\n      <td>0.000000</td>\n      <td>0.0</td>\n      <td>0.0</td>\n      <td>45.0</td>\n      <td>0.0</td>\n      <td>45.0</td>\n      <td>0.000000</td>\n      <td>0.0</td>\n      <td>0.0</td>\n      <td>0.0</td>\n      <td>0.351398</td>\n      <td>0.0</td>\n      <td>0.0</td>\n      <td>8.528388</td>\n      <td>0.0</td>\n      <td>0.0</td>\n      <td>0.0</td>\n      <td>0.0</td>\n      <td>0.0</td>\n      <td>0.358522</td>\n      <td>0.0</td>\n      <td>0.318182</td>\n      <td>0.0</td>\n      <td>0.0</td>\n      <td>1.0</td>\n      <td>0.0</td>\n      <td>0.0</td>\n      <td>0.027484</td>\n      <td>0.0</td>\n      <td>0.0</td>\n      <td>0.0</td>\n      <td>0.0</td>\n      <td>0.0</td>\n      <td>0.0</td>\n      <td>0.0</td>\n      <td>0.0</td>\n      <td>0.0</td>\n      <td>0.0</td>\n    </tr>\n    <tr>\n      <th>384197</th>\n      <td>531038</td>\n      <td>0</td>\n      <td>0.0</td>\n      <td>0.0</td>\n      <td>0.0</td>\n      <td>0.0</td>\n      <td>0.0</td>\n      <td>0.0</td>\n      <td>0.0</td>\n      <td>0.0</td>\n      <td>0.000000</td>\n      <td>0.0</td>\n      <td>0.0</td>\n      <td>0.0</td>\n      <td>0.0</td>\n      <td>0.0</td>\n      <td>0.0</td>\n      <td>0.0</td>\n      <td>0.0</td>\n      <td>0.0</td>\n      <td>148568.263850</td>\n      <td>0.00</td>\n      <td>0.000000</td>\n      <td>0.000000</td>\n      <td>0.0</td>\n      <td>0.000000</td>\n      <td>0.0</td>\n      <td>0.0</td>\n      <td>0.000000</td>\n      <td>0.0</td>\n      <td>0.0</td>\n      <td>0.0</td>\n      <td>0.0</td>\n      <td>0.0</td>\n      <td>0.666667</td>\n      <td>0.761035</td>\n      <td>0.0</td>\n      <td>732.0</td>\n      <td>0.0</td>\n      <td>0.0</td>\n      <td>0.0</td>\n      <td>0.0</td>\n      <td>0.0</td>\n      <td>0.0</td>\n      <td>0.0</td>\n      <td>0.0</td>\n      <td>0.0</td>\n      <td>0.0</td>\n      <td>0.0</td>\n      <td>0.0</td>\n      <td>0.0</td>\n      <td>0.165847</td>\n      <td>0.0</td>\n      <td>0.0</td>\n      <td>0.0</td>\n      <td>0.0</td>\n      <td>0.497541</td>\n      <td>0.000</td>\n      <td>0.000000</td>\n      <td>0.0</td>\n      <td>0.000000</td>\n      <td>0.0</td>\n      <td>0.000000</td>\n      <td>0.000000</td>\n      <td>0.0</td>\n      <td>0.000000</td>\n      <td>0.0</td>\n      <td>0.0</td>\n      <td>0.0</td>\n      <td>0.0</td>\n      <td>0.0</td>\n      <td>0.000000</td>\n      <td>0.0</td>\n      <td>0.0</td>\n      <td>0.0</td>\n      <td>0.000000</td>\n      <td>0.0</td>\n      <td>0.0</td>\n      <td>3.291829</td>\n      <td>0.0</td>\n      <td>0.0</td>\n      <td>0.0</td>\n      <td>0.0</td>\n      <td>0.0</td>\n      <td>0.000000</td>\n      <td>0.0</td>\n      <td>0.000000</td>\n      <td>0.0</td>\n      <td>0.0</td>\n      <td>0.0</td>\n      <td>0.0</td>\n      <td>0.0</td>\n      <td>0.000000</td>\n      <td>0.0</td>\n      <td>0.0</td>\n      <td>0.0</td>\n      <td>0.0</td>\n      <td>0.0</td>\n      <td>0.0</td>\n      <td>0.0</td>\n      <td>0.0</td>\n      <td>0.0</td>\n      <td>0.0</td>\n    </tr>\n    <tr>\n      <th>202462</th>\n      <td>349303</td>\n      <td>0</td>\n      <td>0.0</td>\n      <td>0.0</td>\n      <td>0.0</td>\n      <td>0.0</td>\n      <td>0.0</td>\n      <td>0.0</td>\n      <td>0.0</td>\n      <td>0.0</td>\n      <td>0.011541</td>\n      <td>0.0</td>\n      <td>1.0</td>\n      <td>0.0</td>\n      <td>0.0</td>\n      <td>0.0</td>\n      <td>1.0</td>\n      <td>0.0</td>\n      <td>0.0</td>\n      <td>0.0</td>\n      <td>69233.388700</td>\n      <td>0.00</td>\n      <td>0.000000</td>\n      <td>0.083333</td>\n      <td>0.0</td>\n      <td>0.000000</td>\n      <td>0.0</td>\n      <td>0.0</td>\n      <td>0.000000</td>\n      <td>0.0</td>\n      <td>0.0</td>\n      <td>0.0</td>\n      <td>0.0</td>\n      <td>0.0</td>\n      <td>0.250000</td>\n      <td>0.486608</td>\n      <td>0.0</td>\n      <td>480.0</td>\n      <td>0.0</td>\n      <td>0.0</td>\n      <td>0.0</td>\n      <td>0.0</td>\n      <td>0.0</td>\n      <td>0.0</td>\n      <td>0.0</td>\n      <td>0.0</td>\n      <td>0.0</td>\n      <td>0.0</td>\n      <td>0.0</td>\n      <td>0.0</td>\n      <td>0.0</td>\n      <td>0.055603</td>\n      <td>0.0</td>\n      <td>0.0</td>\n      <td>0.0</td>\n      <td>0.0</td>\n      <td>0.247153</td>\n      <td>0.000</td>\n      <td>0.316277</td>\n      <td>0.0</td>\n      <td>0.000000</td>\n      <td>0.0</td>\n      <td>0.666667</td>\n      <td>0.666667</td>\n      <td>0.0</td>\n      <td>0.416697</td>\n      <td>0.0</td>\n      <td>0.0</td>\n      <td>0.0</td>\n      <td>0.0</td>\n      <td>0.0</td>\n      <td>0.416697</td>\n      <td>0.0</td>\n      <td>0.0</td>\n      <td>0.0</td>\n      <td>0.735125</td>\n      <td>0.0</td>\n      <td>0.0</td>\n      <td>5.160219</td>\n      <td>0.0</td>\n      <td>0.0</td>\n      <td>0.0</td>\n      <td>0.0</td>\n      <td>0.0</td>\n      <td>0.688108</td>\n      <td>0.0</td>\n      <td>0.750000</td>\n      <td>0.0</td>\n      <td>0.0</td>\n      <td>0.0</td>\n      <td>0.0</td>\n      <td>0.0</td>\n      <td>0.000000</td>\n      <td>0.0</td>\n      <td>0.0</td>\n      <td>0.0</td>\n      <td>0.0</td>\n      <td>0.0</td>\n      <td>0.0</td>\n      <td>0.0</td>\n      <td>0.0</td>\n      <td>0.0</td>\n      <td>0.0</td>\n    </tr>\n  </tbody>\n</table>\n</div>"
     },
     "metadata": {},
     "execution_count": 60
    }
   ],
   "source": [
    "data_cleaned.head()"
   ]
  },
  {
   "cell_type": "code",
   "execution_count": 61,
   "metadata": {},
   "outputs": [
    {
     "output_type": "execute_result",
     "data": {
      "text/plain": [
       "0.000000                0.0               0.0   \n",
       "max    590828.000000       11.000000            1.000000                       0.0             89.000000                0.0               0.0   \n",
       "\n",
       "       TURNOVER_DYNAMIC_IL_1M  CNT_TRAN_AUT_TENDENCY1M  SUM_TRAN_AUT_TENDENCY1M  AMOUNT_RUB_SUP_PRC  PRC_ACCEPTS_A_AMOBILE  SUM_TRAN_AUT_TENDENCY3M  \\\n",
       "count           320764.000000            320764.000000            320764.000000       320764.000000               320764.0            320764.000000   \n",
       "mean                 0.001312                 0.090288                 0.089836            0.076107                    0.0                 0.215170   \n",
       "std                  0.029057                 0.226008                 0.232217            0.137117                    0.0                 0.361048   \n",
       "min                  0.000000                 0.000000                 0.000000            0.000000                    0.0                 0.000000   \n",
       "25%                  0.000000                 0.000000                 0.000000            0.000000                    0.0                 0.000000   \n",
       "50%                  0.000000                 0.000000                 0.000000            0.015898                    0.0                 0.000000   \n",
       "75%                  0.000000                 0.000000                 0.000000            0.095434                    0.0                 0.387258   \n",
       "max                  1.000000                 1.000000                 1.000000            1.000000                    0.0                 1.000000   \n",
       "\n",
       "       PRC_ACCEPTS_TK  PRC_ACCEPTS_A_MTP  REST_DYNAMIC_FDEP_1M  CNT_TRAN_AUT_TENDENCY3M  CNT_ACCEPTS_TK  REST_DYNAMIC_SAVE_3M  CR_PROD_CNT_VCU  \\\n",
       "count        320764.0           320764.0         320764.000000            320764.000000        320764.0         320764.000000    320764.000000   \n",
       "mean              0.0                0.0              0.000720                 0.216008             0.0              0.063789         0.031481   \n",
       "std               0.0                0.0              0.014273                 0.355856             0.0              0.203693         0.184595   \n",
       "min               0.0                0.0              0.000000                 0.000000             0.0              0.000000         0.000000   \n",
       "25%               0.0                0.0              0.000000                 0.000000             0.0              0.000000         0.000000   \n",
       "50%               0.0                0.0              0.000000                 0.000000             0.0              0.000000         0.000000   \n",
       "75%               0.0                0.0              0.000000                 0.428571             0.0              0.000000         0.000000   \n",
       "max               0.0                0.0              1.000000                 1.000000             0.0              1.000000         4.000000   \n",
       "\n",
       "       REST_AVG_CUR  CNT_TRAN_MED_TENDENCY1M  AMOUNT_RUB_NAS_PRC  TRANS_COUNT_SUP_PRC  CNT_TRAN_CLO_TENDENCY1M  SUM_TRAN_MED_TENDENCY1M  \\\n",
       "count  3.207640e+05            320764.000000       320764.000000        320764.000000            320764.000000            320764.000000   \n",
       "mean   6.616209e+04                 0.086477            0.021427             0.170521                 0.089460                 0.085092   \n",
       "std    1.835634e+05                 0.226702            0.086191             0.194477                 0.235129                 0.235499   \n",
       "min    0.000000e+00                 0.000000            0.000000             0.000000                 0.000000                 0.000000   \n",
       "25%    4.040054e+03                 0.000000            0.000000             0.000000                 0.000000                 0.000000   \n",
       "50%    1.623037e+04                 0.000000            0.000000             0.111111                 0.000000                 0.000000   \n",
       "75%    5.669619e+04                 0.000000            0.008018             0.285714                 0.000000                 0.000000   \n",
       "max    2.202141e+07                 1.000000            1.000000             1.000000                 1.000000                 1.000000   \n",
       "\n",
       "       PRC_ACCEPTS_A_ATM  PRC_ACCEPTS_MTP  TRANS_COUNT_NAS_PRC  CNT_ACCEPTS_MTP  CR_PROD_CNT_TOVR  CR_PROD_CNT_PIL  SUM_TRAN_CLO_TENDENCY1M  \\\n",
       "count           320764.0         320764.0        320764.000000         320764.0     320764.000000    320764.000000            320764.000000   \n",
       "mean                 0.0              0.0             0.045444              0.0          0.310244         0.057132                 0.088203   \n",
       "std                  0.0              0.0             0.111427              0.0          0.589396         0.297015                 0.241522   \n",
       "min                  0.0              0.0             0.000000              0.0          0.000000         0.000000                 0.000000   \n",
       "25%                  0.0              0.0             0.000000              0.0          0.000000         0.000000                 0.000000   \n",
       "50%                  0.0              0.0             0.000000              0.0          0.000000         0.000000                 0.000000   \n",
       "75%                  0.0              0.0             0.040000              0.0          1.000000         0.000000                 0.000000   \n",
       "max                  0.0              0.0             1.000000              0.0         13.000000         9.000000                 1.000000   \n",
       "\n",
       "        TURNOVER_CC  TRANS_COUNT_ATM_PRC  AMOUNT_RUB_ATM_PRC  TURNOVER_PAYM            AGE  CNT_TRAN_MED_TENDENCY3M  CR_PROD_CNT_CC  \\\n",
       "count  3.207640e+05        320764.000000       320764.000000   3.207640e+05  320764.000000            320764.000000   320764.000000   \n",
       "mean   5.011479e+02             0.330751            0.533551   1.457707e+04     457.106496                 0.228733        0.071657   \n",
       "std    1.288002e+04             0.344284            0.390488   1.495002e+05     136.272311                 0.365979        0.294405   \n",
       "min    0.000000e+00             0.000000            0.000000   0.000000e+00       0.000000                 0.000000        0.000000   \n",
       "25%    0.000000e+00             0.034483            0.081046   0.000000e+00     348.000000                 0.000000        0.000000   \n",
       "50%    0.000000e+00             0.200000            0.603443   0.000000e+00     432.000000                 0.000000        0.000000   \n",
       "75%    0.000000e+00             0.545455            0.932334   0.000000e+00     552.000000                 0.480000        0.000000   \n",
       "max    3.753042e+06             1.000000            1.000000   4.628044e+07    1128.000000                 1.000000        9.000000   \n",
       "\n",
       "       SUM_TRAN_MED_TENDENCY3M  REST_DYNAMIC_FDEP_3M  REST_DYNAMIC_IL_1M  SUM_TRAN_CLO_TENDENCY3M  LDEAL_TENOR_MAX  LDEAL_YQZ_CHRG  \\\n",
       "count            320764.000000         320764.000000       320764.000000            320764.000000    320764.000000   320764.000000   \n",
       "mean                  0.227202              0.003865            0.001664                 0.225548         0.513169        0.000018   \n",
       "std                   0.374798              0.045203            0.024330                 0.374193         4.224535        0.000565   \n",
       "min                   0.000000              0.000000            0.000000                 0.000000         0.000000        0.000000   \n",
       "25%                   0.000000              0.000000            0.000000                 0.000000         0.000000        0.000000   \n",
       "50%                   0.000000              0.000000            0.000000                 0.000000         0.000000        0.000000   \n",
       "75%                   0.401463              0.000000            0.000000                 0.390279         0.000000        0.000000   \n",
       "max                   1.000000              1.000000            1.000000                 1.000000       242.000000        0.081181   \n",
       "\n",
       "       CR_PROD_CNT_CCFP  DEAL_YQZ_IR_MAX  LDEAL_YQZ_COM  DEAL_YQZ_IR_MIN  CNT_TRAN_CLO_TENDENCY3M  REST_DYNAMIC_CUR_1M  REST_AVG_PAYM  \\\n",
       "count     320764.000000    320764.000000  320764.000000    320764.000000            320764.000000        320764.000000   3.207640e+05   \n",
       "mean           0.004901         0.602745       0.000259         0.586438                 0.226564             0.212229   7.192105e+03   \n",
       "std            0.075786         4.515747       0.007624         4.387477                 0.366737             0.235844   4.846641e+04   \n",
       "min            0.000000         0.000000       0.000000         0.000000                 0.000000             0.000000   0.000000e+00   \n",
       "25%            0.000000         0.000000       0.000000         0.000000                 0.000000             0.063443   0.000000e+00   \n",
       "50%            0.000000         0.000000       0.000000         0.000000                 0.000000             0.148154   0.000000e+00   \n",
       "75%            0.000000         0.000000       0.000000         0.000000                 0.444444             0.251843   0.000000e+00   \n",
       "max            4.000000        94.000000       1.000000        94.000000                 1.000000             1.000000   5.798600e+06   \n",
       "\n",
       "       LDEAL_TENOR_MIN  LDEAL_AMT_MONTH  LDEAL_GRACE_DAYS_PCT_MED  REST_DYNAMIC_CUR_3M  CNT_TRAN_SUP_TENDENCY3M  TURNOVER_DYNAMIC_CUR_1M  \\\n",
       "count    320764.000000     3.207640e+05             320764.000000        320764.000000            320764.000000            320764.000000   \n",
       "mean          0.361590     1.050021e+03                  0.001814             0.498681                 0.359832                 0.204061   \n",
       "std           3.066073     3.836211e+04                  0.039407             0.299257                 0.376703                 0.254818   \n",
       "min           0.000000     0.000000e+00                  0.000000             0.000000                 0.000000                 0.000000   \n",
       "25%           0.000000     0.000000e+00                  0.000000             0.317282                 0.000000                 0.014378   \n",
       "50%           0.000000     0.000000e+00                  0.000000             0.493033                 0.305556                 0.127396   \n",
       "75%           0.000000     0.000000e+00                  0.000000             0.690833                 0.661290                 0.255519   \n",
       "max         182.000000     7.337638e+06                  1.000000             1.000000                 1.000000                 1.000000   \n",
       "\n",
       "       REST_DYNAMIC_PAYM_3M  SUM_TRAN_SUP_TENDENCY3M  REST_DYNAMIC_IL_3M  CNT_TRAN_ATM_TENDENCY3M  CNT_TRAN_ATM_TENDENCY1M  TURNOVER_DYNAMIC_IL_3M  \\\n",
       "count         320764.000000            320764.000000       320764.000000            320764.000000            320764.000000           320764.000000   \n",
       "mean               0.076847                 0.351256            0.005753                 0.452507                 0.189602                0.004064   \n",
       "std                0.204462                 0.381738            0.057576                 0.359908                 0.264023                0.053342   \n",
       "min                0.000000                 0.000000            0.000000                 0.000000                 0.000000                0.000000   \n",
       "25%                0.000000                 0.000000            0.000000                 0.000000                 0.000000                0.000000   \n",
       "50%                0.000000                 0.234298            0.000000                 0.478261                 0.100000                0.000000   \n",
       "75%                0.000000                 0.658637            0.000000                 0.722222                 0.250000                0.000000   \n",
       "max                1.000000                 1.000000            1.000000                 1.000000                 1.000000                1.000000   \n",
       "\n",
       "       SUM_TRAN_ATM_TENDENCY3M  DEAL_GRACE_DAYS_ACC_S1X1  AVG_PCT_MONTH_TO_PCLOSE  DEAL_YWZ_IR_MIN  SUM_TRAN_SUP_TENDENCY1M  DEAL_YWZ_IR_MAX  \\\n",
       "count            320764.000000             320764.000000            320764.000000    320764.000000            320764.000000    320764.000000   \n",
       "mean                  0.444949                  0.005705                -0.011695        10.026271                 0.144084        10.643307   \n",
       "std                   0.378180                  0.065272                 0.341251        17.720981                 0.257656        18.346574   \n",
       "min                   0.000000                  0.000000               -33.290323         0.000000                 0.000000         0.000000   \n",
       "25%                   0.000000                  0.000000                 0.000000         0.000000                 0.000000         0.000000   \n",
       "50%                   0.443408                  0.000000                 0.000000         0.000000                 0.000000         0.000000   \n",
       "75%                   0.785654                  0.000000                 0.000000        20.000000                 0.181172        20.000000   \n",
       "max                   1.000000                  4.534014                 0.967742        59.900000                 1.000000        59.900000   \n",
       "\n",
       "       SUM_TRAN_ATM_TENDENCY1M  REST_DYNAMIC_PAYM_1M  CNT_TRAN_SUP_TENDENCY1M  DEAL_GRACE_DAYS_ACC_AVG  TURNOVER_DYNAMIC_CUR_3M  MAX_PCLOSE_DATE  \\\n",
       "count            320764.000000         320764.000000            320764.000000            320764.000000            320764.000000    320764.000000   \n",
       "mean                  0.186621              0.027698                 0.149802                 0.004775                 0.484422        -0.110126   \n",
       "std                   0.281849              0.097208                 0.251890                 0.061947                 0.331703         2.582944   \n",
       "min                   0.000000              0.000000                 0.000000                 0.000000                 0.000000      -103.354839   \n",
       "25%                   0.000000              0.000000                 0.000000                 0.000000                 0.217064         0.000000   \n",
       "50%                   0.053364              0.000000                 0.000000                 0.000000                 0.494318         0.000000   \n",
       "75%                   0.244031              0.000000                 0.206897                 0.000000                 0.726228         0.000000   \n",
       "max                   1.000000              1.000000                 1.000000                 4.688776                 1.000000       112.193548   \n",
       "\n",
       "        LDEAL_YQZ_PC  CLNT_SETUP_TENOR  DEAL_GRACE_DAYS_ACC_MAX  TURNOVER_DYNAMIC_PAYM_3M  LDEAL_DELINQ_PER_MAXYQZ  TURNOVER_DYNAMIC_PAYM_1M  \\\n",
       "count  320764.000000     320764.000000            320764.000000             320764.000000            320764.000000             320764.000000   \n",
       "mean        0.000199          4.377475                 0.005676                  0.072124                 0.004494                  0.025178   \n",
       "std         0.005708          2.936248                 0.074285                  0.207083                 0.065527                  0.104618   \n",
       "min         0.000000          0.000000                 0.000000                  0.000000                 0.000000                  0.000000   \n",
       "25%         0.000000          1.781076                 0.000000                  0.000000                 0.000000                  0.000000   \n",
       "50%         0.000000          3.902163                 0.000000                  0.000000                 0.000000                  0.000000   \n",
       "75%         0.000000          6.555388                 0.000000                  0.000000                 0.000000                  0.000000   \n",
       "max         2.283844         13.748937                 9.377551                  1.000000                 1.000000                  1.000000   \n",
       "\n",
       "       CLNT_SALARY_VALUE  TRANS_AMOUNT_TENDENCY3M  MED_DEBT_PRC_YQZ  TRANS_CNT_TENDENCY3M  LDEAL_USED_AMT_AVG_YQZ  REST_DYNAMIC_CC_1M  \\\n",
       "count      320764.000000            320764.000000     320764.000000         320764.000000           320764.000000       320764.000000   \n",
       "mean           74.441837                 0.497214          0.021170              0.510162                0.010010            0.002243   \n",
       "std          3127.073010                 0.332000          0.143709              0.310924                0.081553            0.026871   \n",
       "min             0.000000                 0.000000          0.000000              0.000000                0.000000            0.000000   \n",
       "25%             0.000000                 0.239348          0.000000              0.326087                0.000000            0.000000   \n",
       "50%             0.000000                 0.498871          0.000000              0.514286                0.000000            0.000000   \n",
       "75%             0.000000                 0.750903          0.000000              0.714286                0.000000            0.000000   \n",
       "max        786218.420000                 1.000000          1.000000              1.000000                1.000000            1.000000   \n",
       "\n",
       "       LDEAL_USED_AMT_AVG_YWZ  TURNOVER_DYNAMIC_CC_1M  AVG_PCT_DEBT_TO_DEAL_AMT  LDEAL_ACT_DAYS_ACC_PCT_AVG  REST_DYNAMIC_CC_3M  MED_DEBT_PRC_YWZ  \\\n",
       "count           320764.000000           320764.000000             320764.000000               320764.000000       320764.000000     320764.000000   \n",
       "mean                 0.242726                0.000957                  0.001823                    0.013569            0.007414          0.014870   \n",
       "std                  0.428241                0.028629                  0.078656                    0.073010            0.067032          0.114861   \n",
       "min                  0.000000                0.000000                  0.000000                    0.000000            0.000000          0.000000   \n",
       "25%                  0.000000                0.000000                  0.000000                    0.000000            0.000000          0.000000   \n",
       "50%                  0.000000                0.000000                  0.000000                    0.000000            0.000000          0.000000   \n",
       "75%                  0.000000                0.000000                  0.000000                    0.000000            0.000000          0.000000   \n",
       "max                  1.000000                1.000000                 39.878468                    1.000000            1.000000          1.000000   \n",
       "\n",
       "       LDEAL_ACT_DAYS_PCT_TR3  LDEAL_ACT_DAYS_PCT_AAVG  LDEAL_DELINQ_PER_MAXYWZ  TURNOVER_DYNAMIC_CC_3M  LDEAL_ACT_DAYS_PCT_TR  \\\n",
       "count           320764.000000            320764.000000            320764.000000           320764.000000          320764.000000   \n",
       "mean                 0.006779                 0.013901                 0.002580                0.004452               0.003664   \n",
       "std                  0.060371                 0.100478                 0.049189                0.060917               0.050120   \n",
       "min                  0.000000                 0.000000                 0.000000                0.000000               0.000000   \n",
       "25%                  0.000000                 0.000000                 0.000000                0.000000               0.000000   \n",
       "50%                  0.000000                 0.000000                 0.000000                0.000000               0.000000   \n",
       "75%                  0.000000                 0.000000                 0.000000                0.000000               0.000000   \n",
       "max                  1.000000                 1.000000                 1.000000                1.000000               1.000000   \n",
       "\n",
       "       LDEAL_ACT_DAYS_PCT_TR4  LDEAL_ACT_DAYS_PCT_CURR         TARGET  \n",
       "count           320764.000000            320764.000000  320764.000000  \n",
       "mean                 0.003664                 0.003664       0.081543  \n",
       "std                  0.050120                 0.050120       0.273667  \n",
       "min                  0.000000                 0.000000       0.000000  \n",
       "25%                  0.000000                 0.000000       0.000000  \n",
       "50%                  0.000000                 0.000000       0.000000  \n",
       "75%                  0.000000                 0.000000       0.000000  \n",
       "max                  1.000000                 1.000000       1.000000  "
      ],
      "text/html": "<div>\n<style scoped>\n    .dataframe tbody tr th:only-of-type {\n        vertical-align: middle;\n    }\n\n    .dataframe tbody tr th {\n        vertical-align: top;\n    }\n\n    .dataframe thead th {\n        text-align: right;\n    }\n</style>\n<table border=\"1\" class=\"dataframe\">\n  <thead>\n    <tr style=\"text-align: right;\">\n      <th></th>\n      <th>ID</th>\n      <th>CR_PROD_CNT_IL</th>\n      <th>AMOUNT_RUB_CLO_PRC</th>\n      <th>PRC_ACCEPTS_A_EMAIL_LINK</th>\n      <th>APP_REGISTR_RGN_CODE</th>\n      <th>PRC_ACCEPTS_A_POS</th>\n      <th>PRC_ACCEPTS_A_TK</th>\n      <th>TURNOVER_DYNAMIC_IL_1M</th>\n      <th>CNT_TRAN_AUT_TENDENCY1M</th>\n      <th>SUM_TRAN_AUT_TENDENCY1M</th>\n      <th>AMOUNT_RUB_SUP_PRC</th>\n      <th>PRC_ACCEPTS_A_AMOBILE</th>\n      <th>SUM_TRAN_AUT_TENDENCY3M</th>\n      <th>PRC_ACCEPTS_TK</th>\n      <th>PRC_ACCEPTS_A_MTP</th>\n      <th>REST_DYNAMIC_FDEP_1M</th>\n      <th>CNT_TRAN_AUT_TENDENCY3M</th>\n      <th>CNT_ACCEPTS_TK</th>\n      <th>REST_DYNAMIC_SAVE_3M</th>\n      <th>CR_PROD_CNT_VCU</th>\n      <th>REST_AVG_CUR</th>\n      <th>CNT_TRAN_MED_TENDENCY1M</th>\n      <th>AMOUNT_RUB_NAS_PRC</th>\n      <th>TRANS_COUNT_SUP_PRC</th>\n      <th>CNT_TRAN_CLO_TENDENCY1M</th>\n      <th>SUM_TRAN_MED_TENDENCY1M</th>\n      <th>PRC_ACCEPTS_A_ATM</th>\n      <th>PRC_ACCEPTS_MTP</th>\n      <th>TRANS_COUNT_NAS_PRC</th>\n      <th>CNT_ACCEPTS_MTP</th>\n      <th>CR_PROD_CNT_TOVR</th>\n      <th>CR_PROD_CNT_PIL</th>\n      <th>SUM_TRAN_CLO_TENDENCY1M</th>\n      <th>TURNOVER_CC</th>\n      <th>TRANS_COUNT_ATM_PRC</th>\n      <th>AMOUNT_RUB_ATM_PRC</th>\n      <th>TURNOVER_PAYM</th>\n      <th>AGE</th>\n      <th>CNT_TRAN_MED_TENDENCY3M</th>\n      <th>CR_PROD_CNT_CC</th>\n      <th>SUM_TRAN_MED_TENDENCY3M</th>\n      <th>REST_DYNAMIC_FDEP_3M</th>\n      <th>REST_DYNAMIC_IL_1M</th>\n      <th>SUM_TRAN_CLO_TENDENCY3M</th>\n      <th>LDEAL_TENOR_MAX</th>\n      <th>LDEAL_YQZ_CHRG</th>\n      <th>CR_PROD_CNT_CCFP</th>\n      <th>DEAL_YQZ_IR_MAX</th>\n      <th>LDEAL_YQZ_COM</th>\n      <th>DEAL_YQZ_IR_MIN</th>\n      <th>CNT_TRAN_CLO_TENDENCY3M</th>\n      <th>REST_DYNAMIC_CUR_1M</th>\n      <th>REST_AVG_PAYM</th>\n      <th>LDEAL_TENOR_MIN</th>\n      <th>LDEAL_AMT_MONTH</th>\n      <th>LDEAL_GRACE_DAYS_PCT_MED</th>\n      <th>REST_DYNAMIC_CUR_3M</th>\n      <th>CNT_TRAN_SUP_TENDENCY3M</th>\n      <th>TURNOVER_DYNAMIC_CUR_1M</th>\n      <th>REST_DYNAMIC_PAYM_3M</th>\n      <th>SUM_TRAN_SUP_TENDENCY3M</th>\n      <th>REST_DYNAMIC_IL_3M</th>\n      <th>CNT_TRAN_ATM_TENDENCY3M</th>\n      <th>CNT_TRAN_ATM_TENDENCY1M</th>\n      <th>TURNOVER_DYNAMIC_IL_3M</th>\n      <th>SUM_TRAN_ATM_TENDENCY3M</th>\n      <th>DEAL_GRACE_DAYS_ACC_S1X1</th>\n      <th>AVG_PCT_MONTH_TO_PCLOSE</th>\n      <th>DEAL_YWZ_IR_MIN</th>\n      <th>SUM_TRAN_SUP_TENDENCY1M</th>\n      <th>DEAL_YWZ_IR_MAX</th>\n      <th>SUM_TRAN_ATM_TENDENCY1M</th>\n      <th>REST_DYNAMIC_PAYM_1M</th>\n      <th>CNT_TRAN_SUP_TENDENCY1M</th>\n      <th>DEAL_GRACE_DAYS_ACC_AVG</th>\n      <th>TURNOVER_DYNAMIC_CUR_3M</th>\n      <th>MAX_PCLOSE_DATE</th>\n      <th>LDEAL_YQZ_PC</th>\n      <th>CLNT_SETUP_TENOR</th>\n      <th>DEAL_GRACE_DAYS_ACC_MAX</th>\n      <th>TURNOVER_DYNAMIC_PAYM_3M</th>\n      <th>LDEAL_DELINQ_PER_MAXYQZ</th>\n      <th>TURNOVER_DYNAMIC_PAYM_1M</th>\n      <th>CLNT_SALARY_VALUE</th>\n      <th>TRANS_AMOUNT_TENDENCY3M</th>\n      <th>MED_DEBT_PRC_YQZ</th>\n      <th>TRANS_CNT_TENDENCY3M</th>\n      <th>LDEAL_USED_AMT_AVG_YQZ</th>\n      <th>REST_DYNAMIC_CC_1M</th>\n      <th>LDEAL_USED_AMT_AVG_YWZ</th>\n      <th>TURNOVER_DYNAMIC_CC_1M</th>\n      <th>AVG_PCT_DEBT_TO_DEAL_AMT</th>\n      <th>LDEAL_ACT_DAYS_ACC_PCT_AVG</th>\n      <th>REST_DYNAMIC_CC_3M</th>\n      <th>MED_DEBT_PRC_YWZ</th>\n      <th>LDEAL_ACT_DAYS_PCT_TR3</th>\n      <th>LDEAL_ACT_DAYS_PCT_AAVG</th>\n      <th>LDEAL_DELINQ_PER_MAXYWZ</th>\n      <th>TURNOVER_DYNAMIC_CC_3M</th>\n      <th>LDEAL_ACT_DAYS_PCT_TR</th>\n      <th>LDEAL_ACT_DAYS_PCT_TR4</th>\n      <th>LDEAL_ACT_DAYS_PCT_CURR</th>\n      <th>TARGET</th>\n    </tr>\n  </thead>\n  <tbody>\n    <tr>\n      <th>count</th>\n      <td>320764.000000</td>\n      <td>320764.000000</td>\n      <td>320764.000000</td>\n      <td>320764.0</td>\n      <td>320764.000000</td>\n      <td>320764.0</td>\n      <td>320764.0</td>\n      <td>320764.000000</td>\n      <td>320764.000000</td>\n      <td>320764.000000</td>\n      <td>320764.000000</td>\n      <td>320764.0</td>\n      <td>320764.000000</td>\n      <td>320764.0</td>\n      <td>320764.0</td>\n      <td>320764.000000</td>\n      <td>320764.000000</td>\n      <td>320764.0</td>\n      <td>320764.000000</td>\n      <td>320764.000000</td>\n      <td>3.207640e+05</td>\n      <td>320764.000000</td>\n      <td>320764.000000</td>\n      <td>320764.000000</td>\n      <td>320764.000000</td>\n      <td>320764.000000</td>\n      <td>320764.0</td>\n      <td>320764.0</td>\n      <td>320764.000000</td>\n      <td>320764.0</td>\n      <td>320764.000000</td>\n      <td>320764.000000</td>\n      <td>320764.000000</td>\n      <td>3.207640e+05</td>\n      <td>320764.000000</td>\n      <td>320764.000000</td>\n      <td>3.207640e+05</td>\n      <td>320764.000000</td>\n      <td>320764.000000</td>\n      <td>320764.000000</td>\n      <td>320764.000000</td>\n      <td>320764.000000</td>\n      <td>320764.000000</td>\n      <td>320764.000000</td>\n      <td>320764.000000</td>\n      <td>320764.000000</td>\n      <td>320764.000000</td>\n      <td>320764.000000</td>\n      <td>320764.000000</td>\n      <td>320764.000000</td>\n      <td>320764.000000</td>\n      <td>320764.000000</td>\n      <td>3.207640e+05</td>\n      <td>320764.000000</td>\n      <td>3.207640e+05</td>\n      <td>320764.000000</td>\n      <td>320764.000000</td>\n      <td>320764.000000</td>\n      <td>320764.000000</td>\n      <td>320764.000000</td>\n      <td>320764.000000</td>\n      <td>320764.000000</td>\n      <td>320764.000000</td>\n      <td>320764.000000</td>\n      <td>320764.000000</td>\n      <td>320764.000000</td>\n      <td>320764.000000</td>\n      <td>320764.000000</td>\n      <td>320764.000000</td>\n      <td>320764.000000</td>\n      <td>320764.000000</td>\n      <td>320764.000000</td>\n      <td>320764.000000</td>\n      <td>320764.000000</td>\n      <td>320764.000000</td>\n      <td>320764.000000</td>\n      <td>320764.000000</td>\n      <td>320764.000000</td>\n      <td>320764.000000</td>\n      <td>320764.000000</td>\n      <td>320764.000000</td>\n      <td>320764.000000</td>\n      <td>320764.000000</td>\n      <td>320764.000000</td>\n      <td>320764.000000</td>\n      <td>320764.000000</td>\n      <td>320764.000000</td>\n      <td>320764.000000</td>\n      <td>320764.000000</td>\n      <td>320764.000000</td>\n      <td>320764.000000</td>\n      <td>320764.000000</td>\n      <td>320764.000000</td>\n      <td>320764.000000</td>\n      <td>320764.000000</td>\n      <td>320764.000000</td>\n      <td>320764.000000</td>\n      <td>320764.000000</td>\n      <td>320764.000000</td>\n      <td>320764.000000</td>\n      <td>320764.000000</td>\n      <td>320764.000000</td>\n      <td>320764.000000</td>\n    </tr>\n    <tr>\n      <th>mean</th>\n      <td>368822.072125</td>\n      <td>0.105551</td>\n      <td>0.039427</td>\n      <td>0.0</td>\n      <td>8.710725</td>\n      <td>0.0</td>\n      <td>0.0</td>\n      <td>0.001312</td>\n      <td>0.090288</td>\n      <td>0.089836</td>\n      <td>0.076107</td>\n      <td>0.0</td>\n      <td>0.215170</td>\n      <td>0.0</td>\n      <td>0.0</td>\n      <td>0.000720</td>\n      <td>0.216008</td>\n      <td>0.0</td>\n      <td>0.063789</td>\n      <td>0.031481</td>\n      <td>6.616209e+04</td>\n      <td>0.086477</td>\n      <td>0.021427</td>\n      <td>0.170521</td>\n      <td>0.089460</td>\n      <td>0.085092</td>\n      <td>0.0</td>\n      <td>0.0</td>\n      <td>0.045444</td>\n      <td>0.0</td>\n      <td>0.310244</td>\n      <td>0.057132</td>\n      <td>0.088203</td>\n      <td>5.011479e+02</td>\n      <td>0.330751</td>\n      <td>0.533551</td>\n      <td>1.457707e+04</td>\n      <td>457.106496</td>\n      <td>0.228733</td>\n      <td>0.071657</td>\n      <td>0.227202</td>\n      <td>0.003865</td>\n      <td>0.001664</td>\n      <td>0.225548</td>\n      <td>0.513169</td>\n      <td>0.000018</td>\n      <td>0.004901</td>\n      <td>0.602745</td>\n      <td>0.000259</td>\n      <td>0.586438</td>\n      <td>0.226564</td>\n      <td>0.212229</td>\n      <td>7.192105e+03</td>\n      <td>0.361590</td>\n      <td>1.050021e+03</td>\n      <td>0.001814</td>\n      <td>0.498681</td>\n      <td>0.359832</td>\n      <td>0.204061</td>\n      <td>0.076847</td>\n      <td>0.351256</td>\n      <td>0.005753</td>\n      <td>0.452507</td>\n      <td>0.189602</td>\n      <td>0.004064</td>\n      <td>0.444949</td>\n      <td>0.005705</td>\n      <td>-0.011695</td>\n      <td>10.026271</td>\n      <td>0.144084</td>\n      <td>10.643307</td>\n      <td>0.186621</td>\n      <td>0.027698</td>\n      <td>0.149802</td>\n      <td>0.004775</td>\n      <td>0.484422</td>\n      <td>-0.110126</td>\n      <td>0.000199</td>\n      <td>4.377475</td>\n      <td>0.005676</td>\n      <td>0.072124</td>\n      <td>0.004494</td>\n      <td>0.025178</td>\n      <td>74.441837</td>\n      <td>0.497214</td>\n      <td>0.021170</td>\n      <td>0.510162</td>\n      <td>0.010010</td>\n      <td>0.002243</td>\n      <td>0.242726</td>\n      <td>0.000957</td>\n      <td>0.001823</td>\n      <td>0.013569</td>\n      <td>0.007414</td>\n      <td>0.014870</td>\n      <td>0.006779</td>\n      <td>0.013901</td>\n      <td>0.002580</td>\n      <td>0.004452</td>\n      <td>0.003664</td>\n      <td>0.003664</td>\n      <td>0.003664</td>\n      <td>0.081543</td>\n    </tr>\n    <tr>\n      <th>std</th>\n      <td>128175.410883</td>\n      <td>0.430363</td>\n      <td>0.103698</td>\n      <td>0.0</td>\n      <td>21.188200</td>\n      <td>0.0</td>\n      <td>0.0</td>\n      <td>0.029057</td>\n      <td>0.226008</td>\n      <td>0.232217</td>\n      <td>0.137117</td>\n      <td>0.0</td>\n      <td>0.361048</td>\n      <td>0.0</td>\n      <td>0.0</td>\n      <td>0.014273</td>\n      <td>0.355856</td>\n      <td>0.0</td>\n      <td>0.203693</td>\n      <td>0.184595</td>\n      <td>1.835634e+05</td>\n      <td>0.226702</td>\n      <td>0.086191</td>\n      <td>0.194477</td>\n      <td>0.235129</td>\n      <td>0.235499</td>\n      <td>0.0</td>\n      <td>0.0</td>\n      <td>0.111427</td>\n      <td>0.0</td>\n      <td>0.589396</td>\n      <td>0.297015</td>\n      <td>0.241522</td>\n      <td>1.288002e+04</td>\n      <td>0.344284</td>\n      <td>0.390488</td>\n      <td>1.495002e+05</td>\n      <td>136.272311</td>\n      <td>0.365979</td>\n      <td>0.294405</td>\n      <td>0.374798</td>\n      <td>0.045203</td>\n      <td>0.024330</td>\n      <td>0.374193</td>\n      <td>4.224535</td>\n      <td>0.000565</td>\n      <td>0.075786</td>\n      <td>4.515747</td>\n      <td>0.007624</td>\n      <td>4.387477</td>\n      <td>0.366737</td>\n      <td>0.235844</td>\n      <td>4.846641e+04</td>\n      <td>3.066073</td>\n      <td>3.836211e+04</td>\n      <td>0.039407</td>\n      <td>0.299257</td>\n      <td>0.376703</td>\n      <td>0.254818</td>\n      <td>0.204462</td>\n      <td>0.381738</td>\n      <td>0.057576</td>\n      <td>0.359908</td>\n      <td>0.264023</td>\n      <td>0.053342</td>\n      <td>0.378180</td>\n      <td>0.065272</td>\n      <td>0.341251</td>\n      <td>17.720981</td>\n      <td>0.257656</td>\n      <td>18.346574</td>\n      <td>0.281849</td>\n      <td>0.097208</td>\n      <td>0.251890</td>\n      <td>0.061947</td>\n      <td>0.331703</td>\n      <td>2.582944</td>\n      <td>0.005708</td>\n      <td>2.936248</td>\n      <td>0.074285</td>\n      <td>0.207083</td>\n      <td>0.065527</td>\n      <td>0.104618</td>\n      <td>3127.073010</td>\n      <td>0.332000</td>\n      <td>0.143709</td>\n      <td>0.310924</td>\n      <td>0.081553</td>\n      <td>0.026871</td>\n      <td>0.428241</td>\n      <td>0.028629</td>\n      <td>0.078656</td>\n      <td>0.073010</td>\n      <td>0.067032</td>\n      <td>0.114861</td>\n      <td>0.060371</td>\n      <td>0.100478</td>\n      <td>0.049189</td>\n      <td>0.060917</td>\n      <td>0.050120</td>\n      <td>0.050120</td>\n      <td>0.050120</td>\n      <td>0.273667</td>\n    </tr>\n    <tr>\n      <th>min</th>\n      <td>146841.000000</td>\n      <td>0.000000</td>\n      <td>0.000000</td>\n      <td>0.0</td>\n      <td>0.000000</td>\n      <td>0.0</td>\n      <td>0.0</td>\n      <td>0.000000</td>\n      <td>0.000000</td>\n      <td>0.000000</td>\n      <td>0.000000</td>\n      <td>0.0</td>\n      <td>0.000000</td>\n      <td>0.0</td>\n      <td>0.0</td>\n      <td>0.000000</td>\n      <td>0.000000</td>\n      <td>0.0</td>\n      <td>0.000000</td>\n      <td>0.000000</td>\n      <td>0.000000e+00</td>\n      <td>0.000000</td>\n      <td>0.000000</td>\n      <td>0.000000</td>\n      <td>0.000000</td>\n      <td>0.000000</td>\n      <td>0.0</td>\n      <td>0.0</td>\n      <td>0.000000</td>\n      <td>0.0</td>\n      <td>0.000000</td>\n      <td>0.000000</td>\n      <td>0.000000</td>\n      <td>0.000000e+00</td>\n      <td>0.000000</td>\n      <td>0.000000</td>\n      <td>0.000000e+00</td>\n      <td>0.000000</td>\n      <td>0.000000</td>\n      <td>0.000000</td>\n      <td>0.000000</td>\n      <td>0.000000</td>\n      <td>0.000000</td>\n      <td>0.000000</td>\n      <td>0.000000</td>\n      <td>0.000000</td>\n      <td>0.000000</td>\n      <td>0.000000</td>\n      <td>0.000000</td>\n      <td>0.000000</td>\n      <td>0.000000</td>\n      <td>0.000000</td>\n      <td>0.000000e+00</td>\n      <td>0.000000</td>\n      <td>0.000000e+00</td>\n      <td>0.000000</td>\n      <td>0.000000</td>\n      <td>0.000000</td>\n      <td>0.000000</td>\n      <td>0.000000</td>\n      <td>0.000000</td>\n      <td>0.000000</td>\n      <td>0.000000</td>\n      <td>0.000000</td>\n      <td>0.000000</td>\n      <td>0.000000</td>\n      <td>0.000000</td>\n      <td>-33.290323</td>\n      <td>0.000000</td>\n      <td>0.000000</td>\n      <td>0.000000</td>\n      <td>0.000000</td>\n      <td>0.000000</td>\n      <td>0.000000</td>\n      <td>0.000000</td>\n      <td>0.000000</td>\n      <td>-103.354839</td>\n      <td>0.000000</td>\n      <td>0.000000</td>\n      <td>0.000000</td>\n      <td>0.000000</td>\n      <td>0.000000</td>\n      <td>0.000000</td>\n      <td>0.000000</td>\n      <td>0.000000</td>\n      <td>0.000000</td>\n      <td>0.000000</td>\n      <td>0.000000</td>\n      <td>0.000000</td>\n      <td>0.000000</td>\n      <td>0.000000</td>\n      <td>0.000000</td>\n      <td>0.000000</td>\n      <td>0.000000</td>\n      <td>0.000000</td>\n      <td>0.000000</td>\n      <td>0.000000</td>\n      <td>0.000000</td>\n      <td>0.000000</td>\n      <td>0.000000</td>\n      <td>0.000000</td>\n      <td>0.000000</td>\n      <td>0.000000</td>\n    </tr>\n    <tr>\n      <th>25%</th>\n      <td>257795.750000</td>\n      <td>0.000000</td>\n      <td>0.000000</td>\n      <td>0.0</td>\n      <td>0.000000</td>\n      <td>0.0</td>\n      <td>0.0</td>\n      <td>0.000000</td>\n      <td>0.000000</td>\n      <td>0.000000</td>\n      <td>0.000000</td>\n      <td>0.0</td>\n      <td>0.000000</td>\n      <td>0.0</td>\n      <td>0.0</td>\n      <td>0.000000</td>\n      <td>0.000000</td>\n      <td>0.0</td>\n      <td>0.000000</td>\n      <td>0.000000</td>\n      <td>4.040054e+03</td>\n      <td>0.000000</td>\n      <td>0.000000</td>\n      <td>0.000000</td>\n      <td>0.000000</td>\n      <td>0.000000</td>\n      <td>0.0</td>\n      <td>0.0</td>\n      <td>0.000000</td>\n      <td>0.0</td>\n      <td>0.000000</td>\n      <td>0.000000</td>\n      <td>0.000000</td>\n      <td>0.000000e+00</td>\n      <td>0.034483</td>\n      <td>0.081046</td>\n      <td>0.000000e+00</td>\n      <td>348.000000</td>\n      <td>0.000000</td>\n      <td>0.000000</td>\n      <td>0.000000</td>\n      <td>0.000000</td>\n      <td>0.000000</td>\n      <td>0.000000</td>\n      <td>0.000000</td>\n      <td>0.000000</td>\n      <td>0.000000</td>\n      <td>0.000000</td>\n      <td>0.000000</td>\n      <td>0.000000</td>\n      <td>0.000000</td>\n      <td>0.063443</td>\n      <td>0.000000e+00</td>\n      <td>0.000000</td>\n      <td>0.000000e+00</td>\n      <td>0.000000</td>\n      <td>0.317282</td>\n      <td>0.000000</td>\n      <td>0.014378</td>\n      <td>0.000000</td>\n      <td>0.000000</td>\n      <td>0.000000</td>\n      <td>0.000000</td>\n      <td>0.000000</td>\n      <td>0.000000</td>\n      <td>0.000000</td>\n      <td>0.000000</td>\n      <td>0.000000</td>\n      <td>0.000000</td>\n      <td>0.000000</td>\n      <td>0.000000</td>\n      <td>0.000000</td>\n      <td>0.000000</td>\n      <td>0.000000</td>\n      <td>0.000000</td>\n      <td>0.217064</td>\n      <td>0.000000</td>\n      <td>0.000000</td>\n      <td>1.781076</td>\n      <td>0.000000</td>\n      <td>0.000000</td>\n      <td>0.000000</td>\n      <td>0.000000</td>\n      <td>0.000000</td>\n      <td>0.239348</td>\n      <td>0.000000</td>\n      <td>0.326087</td>\n      <td>0.000000</td>\n      <td>0.000000</td>\n      <td>0.000000</td>\n      <td>0.000000</td>\n      <td>0.000000</td>\n      <td>0.000000</td>\n      <td>0.000000</td>\n      <td>0.000000</td>\n      <td>0.000000</td>\n      <td>0.000000</td>\n      <td>0.000000</td>\n      <td>0.000000</td>\n      <td>0.000000</td>\n      <td>0.000000</td>\n      <td>0.000000</td>\n      <td>0.000000</td>\n    </tr>\n    <tr>\n      <th>50%</th>\n      <td>368869.500000</td>\n      <td>0.000000</td>\n      <td>0.000000</td>\n      <td>0.0</td>\n      <td>0.000000</td>\n      <td>0.0</td>\n      <td>0.0</td>\n      <td>0.000000</td>\n      <td>0.000000</td>\n      <td>0.000000</td>\n      <td>0.015898</td>\n      <td>0.0</td>\n      <td>0.000000</td>\n      <td>0.0</td>\n      <td>0.0</td>\n      <td>0.000000</td>\n      <td>0.000000</td>\n      <td>0.0</td>\n      <td>0.000000</td>\n      <td>0.000000</td>\n      <td>1.623037e+04</td>\n      <td>0.000000</td>\n      <td>0.000000</td>\n      <td>0.111111</td>\n      <td>0.000000</td>\n      <td>0.000000</td>\n      <td>0.0</td>\n      <td>0.0</td>\n      <td>0.000000</td>\n      <td>0.0</td>\n      <td>0.000000</td>\n      <td>0.000000</td>\n      <td>0.000000</td>\n      <td>0.000000e+00</td>\n      <td>0.200000</td>\n      <td>0.603443</td>\n      <td>0.000000e+00</td>\n      <td>432.000000</td>\n      <td>0.000000</td>\n      <td>0.000000</td>\n      <td>0.000000</td>\n      <td>0.000000</td>\n      <td>0.000000</td>\n      <td>0.000000</td>\n      <td>0.000000</td>\n      <td>0.000000</td>\n      <td>0.000000</td>\n      <td>0.000000</td>\n      <td>0.000000</td>\n      <td>0.000000</td>\n      <td>0.000000</td>\n      <td>0.148154</td>\n      <td>0.000000e+00</td>\n      <td>0.000000</td>\n      <td>0.000000e+00</td>\n      <td>0.000000</td>\n      <td>0.493033</td>\n      <td>0.305556</td>\n      <td>0.127396</td>\n      <td>0.000000</td>\n      <td>0.234298</td>\n      <td>0.000000</td>\n      <td>0.478261</td>\n      <td>0.100000</td>\n      <td>0.000000</td>\n      <td>0.443408</td>\n      <td>0.000000</td>\n      <td>0.000000</td>\n      <td>0.000000</td>\n      <td>0.000000</td>\n      <td>0.000000</td>\n      <td>0.053364</td>\n      <td>0.000000</td>\n      <td>0.000000</td>\n      <td>0.000000</td>\n      <td>0.494318</td>\n      <td>0.000000</td>\n      <td>0.000000</td>\n      <td>3.902163</td>\n      <td>0.000000</td>\n      <td>0.000000</td>\n      <td>0.000000</td>\n      <td>0.000000</td>\n      <td>0.000000</td>\n      <td>0.498871</td>\n      <td>0.000000</td>\n      <td>0.514286</td>\n      <td>0.000000</td>\n      <td>0.000000</td>\n      <td>0.000000</td>\n      <td>0.000000</td>\n      <td>0.000000</td>\n      <td>0.000000</td>\n      <td>0.000000</td>\n      <td>0.000000</td>\n      <td>0.000000</td>\n      <td>0.000000</td>\n      <td>0.000000</td>\n      <td>0.000000</td>\n      <td>0.000000</td>\n      <td>0.000000</td>\n      <td>0.000000</td>\n      <td>0.000000</td>\n    </tr>\n    <tr>\n      <th>75%</th>\n      <td>479664.000000</td>\n      <td>0.000000</td>\n      <td>0.028669</td>\n      <td>0.0</td>\n      <td>0.000000</td>\n      <td>0.0</td>\n      <td>0.0</td>\n      <td>0.000000</td>\n      <td>0.000000</td>\n      <td>0.000000</td>\n      <td>0.095434</td>\n      <td>0.0</td>\n      <td>0.387258</td>\n      <td>0.0</td>\n      <td>0.0</td>\n      <td>0.000000</td>\n      <td>0.428571</td>\n      <td>0.0</td>\n      <td>0.000000</td>\n      <td>0.000000</td>\n      <td>5.669619e+04</td>\n      <td>0.000000</td>\n      <td>0.008018</td>\n      <td>0.285714</td>\n      <td>0.000000</td>\n      <td>0.000000</td>\n      <td>0.0</td>\n      <td>0.0</td>\n      <td>0.040000</td>\n      <td>0.0</td>\n      <td>1.000000</td>\n      <td>0.000000</td>\n      <td>0.000000</td>\n      <td>0.000000e+00</td>\n      <td>0.545455</td>\n      <td>0.932334</td>\n      <td>0.000000e+00</td>\n      <td>552.000000</td>\n      <td>0.480000</td>\n      <td>0.000000</td>\n      <td>0.401463</td>\n      <td>0.000000</td>\n      <td>0.000000</td>\n      <td>0.390279</td>\n      <td>0.000000</td>\n      <td>0.000000</td>\n      <td>0.000000</td>\n      <td>0.000000</td>\n      <td>0.000000</td>\n      <td>0.000000</td>\n      <td>0.444444</td>\n      <td>0.251843</td>\n      <td>0.000000e+00</td>\n      <td>0.000000</td>\n      <td>0.000000e+00</td>\n      <td>0.000000</td>\n      <td>0.690833</td>\n      <td>0.661290</td>\n      <td>0.255519</td>\n      <td>0.000000</td>\n      <td>0.658637</td>\n      <td>0.000000</td>\n      <td>0.722222</td>\n      <td>0.250000</td>\n      <td>0.000000</td>\n      <td>0.785654</td>\n      <td>0.000000</td>\n      <td>0.000000</td>\n      <td>20.000000</td>\n      <td>0.181172</td>\n      <td>20.000000</td>\n      <td>0.244031</td>\n      <td>0.000000</td>\n      <td>0.206897</td>\n      <td>0.000000</td>\n      <td>0.726228</td>\n      <td>0.000000</td>\n      <td>0.000000</td>\n      <td>6.555388</td>\n      <td>0.000000</td>\n      <td>0.000000</td>\n      <td>0.000000</td>\n      <td>0.000000</td>\n      <td>0.000000</td>\n      <td>0.750903</td>\n      <td>0.000000</td>\n      <td>0.714286</td>\n      <td>0.000000</td>\n      <td>0.000000</td>\n      <td>0.000000</td>\n      <td>0.000000</td>\n      <td>0.000000</td>\n      <td>0.000000</td>\n      <td>0.000000</td>\n      <td>0.000000</td>\n      <td>0.000000</td>\n      <td>0.000000</td>\n      <td>0.000000</td>\n      <td>0.000000</td>\n      <td>0.000000</td>\n      <td>0.000000</td>\n      <td>0.000000</td>\n      <td>0.000000</td>\n    </tr>\n    <tr>\n      <th>max</th>\n      <td>590828.000000</td>\n      <td>11.000000</td>\n      <td>1.000000</td>\n      <td>0.0</td>\n      <td>89.000000</td>\n      <td>0.0</td>\n      <td>0.0</td>\n      <td>1.000000</td>\n      <td>1.000000</td>\n      <td>1.000000</td>\n      <td>1.000000</td>\n      <td>0.0</td>\n      <td>1.000000</td>\n      <td>0.0</td>\n      <td>0.0</td>\n      <td>1.000000</td>\n      <td>1.000000</td>\n      <td>0.0</td>\n      <td>1.000000</td>\n      <td>4.000000</td>\n      <td>2.202141e+07</td>\n      <td>1.000000</td>\n      <td>1.000000</td>\n      <td>1.000000</td>\n      <td>1.000000</td>\n      <td>1.000000</td>\n      <td>0.0</td>\n      <td>0.0</td>\n      <td>1.000000</td>\n      <td>0.0</td>\n      <td>13.000000</td>\n      <td>9.000000</td>\n      <td>1.000000</td>\n      <td>3.753042e+06</td>\n      <td>1.000000</td>\n      <td>1.000000</td>\n      <td>4.628044e+07</td>\n      <td>1128.000000</td>\n      <td>1.000000</td>\n      <td>9.000000</td>\n      <td>1.000000</td>\n      <td>1.000000</td>\n      <td>1.000000</td>\n      <td>1.000000</td>\n      <td>242.000000</td>\n      <td>0.081181</td>\n      <td>4.000000</td>\n      <td>94.000000</td>\n      <td>1.000000</td>\n      <td>94.000000</td>\n      <td>1.000000</td>\n      <td>1.000000</td>\n      <td>5.798600e+06</td>\n      <td>182.000000</td>\n      <td>7.337638e+06</td>\n      <td>1.000000</td>\n      <td>1.000000</td>\n      <td>1.000000</td>\n      <td>1.000000</td>\n      <td>1.000000</td>\n      <td>1.000000</td>\n      <td>1.000000</td>\n      <td>1.000000</td>\n      <td>1.000000</td>\n      <td>1.000000</td>\n      <td>1.000000</td>\n      <td>4.534014</td>\n      <td>0.967742</td>\n      <td>59.900000</td>\n      <td>1.000000</td>\n      <td>59.900000</td>\n      <td>1.000000</td>\n      <td>1.000000</td>\n      <td>1.000000</td>\n      <td>4.688776</td>\n      <td>1.000000</td>\n      <td>112.193548</td>\n      <td>2.283844</td>\n      <td>13.748937</td>\n      <td>9.377551</td>\n      <td>1.000000</td>\n      <td>1.000000</td>\n      <td>1.000000</td>\n      <td>786218.420000</td>\n      <td>1.000000</td>\n      <td>1.000000</td>\n      <td>1.000000</td>\n      <td>1.000000</td>\n      <td>1.000000</td>\n      <td>1.000000</td>\n      <td>1.000000</td>\n      <td>39.878468</td>\n      <td>1.000000</td>\n      <td>1.000000</td>\n      <td>1.000000</td>\n      <td>1.000000</td>\n      <td>1.000000</td>\n      <td>1.000000</td>\n      <td>1.000000</td>\n      <td>1.000000</td>\n      <td>1.000000</td>\n      <td>1.000000</td>\n      <td>1.000000</td>\n    </tr>\n  </tbody>\n</table>\n</div>"
     },
     "metadata": {},
     "execution_count": 61
    }
   ],
   "source": [
    "data_cleaned.describe()"
   ]
  },
  {
   "cell_type": "code",
   "execution_count": 62,
   "metadata": {},
   "outputs": [
    {
     "output_type": "stream",
     "name": "stdout",
     "text": [
      "<class 'pandas.core.frame.DataFrame'>\nInt64Index: 320764 entries, 333149 to 222683\nColumns: 103 entries, ID to TARGET\ndtypes: float64(101), int64(2)\nmemory usage: 254.5 MB\n"
     ]
    }
   ],
   "source": [
    "data_cleaned.info()"
   ]
  },
  {
   "cell_type": "markdown",
   "source": [
    "Достаточный EDA. Считаю, что за некоторые категориальные данные можно было побороться.\n",
    "Вопрос времени и сил. Задача выполнена +"
   ],
   "metadata": {
    "collapsed": false
   }
  },
  {
   "cell_type": "markdown",
   "metadata": {},
   "source": [
    "## Строим модель RandomFortest"
   ]
  },
  {
   "source": [
    "Отделяем таргет от датафрема"
   ],
   "cell_type": "markdown",
   "metadata": {}
  },
  {
   "cell_type": "code",
   "execution_count": 63,
   "metadata": {},
   "outputs": [],
   "source": [
    "y = data_cleaned['TARGET']\n",
    "data_cleaned_no_target = data_cleaned.drop('TARGET', axis=1)"
   ]
  },
  {
   "source": [
    "Определяем выборки для тренировки модели"
   ],
   "cell_type": "markdown",
   "metadata": {}
  },
  {
   "cell_type": "code",
   "execution_count": 64,
   "metadata": {},
   "outputs": [],
   "source": [
    "X_train, X_test, y_train, y_test = train_test_split(\n",
    "    data_cleaned_no_target,\n",
    "    y,\n",
    "    test_size=0.5,\n",
    "    random_state=20\n",
    ")"
   ]
  },
  {
   "cell_type": "code",
   "execution_count": 75,
   "metadata": {},
   "outputs": [],
   "source": [
    "model = RandomForestClassifier(n_estimators=100, max_depth=15, n_jobs=4, random_state=20)\n",
    "model.fit(X_train, y_train)\n",
    "\n",
    "pred = model.predict_proba(X_test)[:,1]"
   ]
  },
  {
   "source": [
    "Проверяем результаты по метрике ROC_AUC"
   ],
   "cell_type": "markdown",
   "metadata": {}
  },
  {
   "cell_type": "code",
   "execution_count": 67,
   "metadata": {},
   "outputs": [
    {
     "output_type": "execute_result",
     "data": {
      "text/plain": [
       "0.8279576384014686"
      ]
     },
     "metadata": {},
     "execution_count": 67
    }
   ],
   "source": [
    "roc_auc_score(y_test, pred)"
   ]
  },
  {
   "cell_type": "markdown",
   "metadata": {},
   "source": [
    "### Прогоняем на тестовых данных"
   ]
  },
  {
   "cell_type": "code",
   "execution_count": 68,
   "metadata": {},
   "outputs": [],
   "source": [
    "test_data = pd.read_csv('./data/lab04_test.csv', index_col=[0])"
   ]
  },
  {
   "source": [
    "Чистим данные аналогично основному датафрейму"
   ],
   "cell_type": "markdown",
   "metadata": {}
  },
  {
   "cell_type": "code",
   "execution_count": 69,
   "metadata": {},
   "outputs": [],
   "source": [
    "cols_to_remove = [col for col in test_data.columns.values if test_data[col].dtype=='object']\n",
    "\n",
    "test_data_cleaned = test_data.drop(cols_to_remove, axis=1)\n",
    "test_data_cleaned = test_data_cleaned.replace([np.inf, -np.inf], np.nan)\n",
    "test_data_cleaned = test_data_cleaned.fillna(0)"
   ]
  },
  {
   "cell_type": "code",
   "execution_count": 70,
   "metadata": {},
   "outputs": [],
   "source": [
    "y_test_result = model.predict_proba(test_data_cleaned)[:,1]"
   ]
  },
  {
   "cell_type": "markdown",
   "metadata": {},
   "source": [
    "## Строим модель XGBoost"
   ]
  },
  {
   "cell_type": "code",
   "execution_count": 71,
   "metadata": {},
   "outputs": [],
   "source": [
    "xgb_model = xgb.XGBClassifier(objective=\"binary:logistic\", random_state=20)\n",
    "xgb_model.fit(X_train, y_train)\n",
    "\n",
    "pred = xgb_model.predict_proba(X_test)[:,1]"
   ]
  },
  {
   "source": [
    "Проверяем результаты по метрике ROC_AUC"
   ],
   "cell_type": "markdown",
   "metadata": {}
  },
  {
   "cell_type": "code",
   "execution_count": 72,
   "metadata": {},
   "outputs": [
    {
     "output_type": "execute_result",
     "data": {
      "text/plain": [
       "0.8440109534645336"
      ]
     },
     "metadata": {},
     "execution_count": 72
    }
   ],
   "source": [
    "roc_auc_score(y_test, pred)"
   ]
  },
  {
   "cell_type": "code",
   "execution_count": 73,
   "metadata": {},
   "outputs": [],
   "source": [
    "y_test_result = xgb_model.predict_proba(test_data_cleaned)[:,1]"
   ]
  },
  {
   "cell_type": "markdown",
   "metadata": {},
   "source": [
    "## Выгружаем результаты"
   ]
  },
  {
   "cell_type": "code",
   "execution_count": 74,
   "metadata": {},
   "outputs": [],
   "source": [
    "submission = pd.DataFrame()\n",
    "submission['id'] = test_data_cleaned['ID']\n",
    "submission['target'] = y_test_result\n",
    "submission['target'] = submission['target'].astype(float)\n",
    "submission.to_csv(f'./results/lab04s.csv', sep='\\t', index=False)"
   ]
  },
  {
   "cell_type": "markdown",
   "source": [
    "Хороший, последовательный, структурированный код. 5+"
   ],
   "metadata": {
    "collapsed": false
   }
  }
 ],
 "metadata": {
  "kernelspec": {
   "display_name": "Python 3",
   "language": "python",
   "name": "python3"
  },
  "language_info": {
   "codemirror_mode": {
    "name": "ipython",
    "version": 3
   },
   "file_extension": ".py",
   "mimetype": "text/x-python",
   "name": "python",
   "nbconvert_exporter": "python",
   "pygments_lexer": "ipython3",
   "version": "3.8.6-final"
  }
 },
 "nbformat": 4,
 "nbformat_minor": 4
}
