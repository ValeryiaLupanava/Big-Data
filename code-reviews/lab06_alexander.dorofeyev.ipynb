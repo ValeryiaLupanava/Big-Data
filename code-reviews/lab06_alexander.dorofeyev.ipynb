{
 "cells": [
  {
   "cell_type": "markdown",
   "metadata": {},
   "source": [
    "# Code review Lab06 for Alexander Vertyagin"
   ]
  },
  {
   "cell_type": "markdown",
   "metadata": {},
   "source": [
    "Код на Python прекрасен, но мне кажется, что данную лабораторную работу нужно было деланть на Spark."
   ]
  },
  {
   "cell_type": "markdown",
   "metadata": {},
   "source": [
    "### Окончание Code review"
   ]
  },
  {
   "cell_type": "markdown",
   "metadata": {},
   "source": [
    "import os\n",
    "import sys\n",
    "import pandas as pd\n",
    "import json"
   ]
  },
  {
   "cell_type": "code",
   "execution_count": null,
   "metadata": {},
   "outputs": [],
   "source": [
    "pathData = '/data/home/alexander.vertyagin/lab06/u.data'\n",
    "pathItem = '/data/home/alexander.vertyagin/lab06/u.item'\n",
    "pathRes  = '/data/home/alexander.vertyagin/lab06.json'"
   ]
  },
  {
   "cell_type": "code",
   "execution_count": null,
   "metadata": {},
   "outputs": [],
   "source": [
    "dfData = pd.read_csv(pathData, sep = '\\t', header = None)"
   ]
  },
  {
   "cell_type": "code",
   "execution_count": null,
   "metadata": {},
   "outputs": [],
   "source": [
    "dfItem = pd.read_csv(pathItem, sep='|', header = None, encoding = 'ISO-8859-1')"
   ]
  },
  {
   "cell_type": "code",
   "execution_count": null,
   "metadata": {},
   "outputs": [],
   "source": [
    "dfItem = dfItem.rename(columns = {0:  'movieId',   1: 'title',     2:  'releaseDate',  3: 'videoReleaseDate', 4: 'IMDbUrl',\n",
    "                                  5:  'unknown',   6: 'action',    7:  'adventure',    8: 'animation',        9: 'childrens',\n",
    "                                 10: 'comedy',    11: 'crime',    12:  'documentary', 13: 'drama',           14: 'fantasy',\n",
    "                                 15: 'filmNoir',  16: 'horror',   17:  'musical',     18: 'mystery',         19: 'romance',\n",
    "                                 20: 'sciFi',     21: 'thriller', 22:  'war',         23: 'western'})"
   ]
  },
  {
   "cell_type": "code",
   "execution_count": null,
   "metadata": {},
   "outputs": [],
   "source": [
    "df222 = dfData[dfData['itemId'] == 222]"
   ]
  },
  {
   "cell_type": "code",
   "execution_count": null,
   "metadata": {},
   "outputs": [],
   "source": [
    "histFilm = df222.groupby('rating').count()"
   ]
  },
  {
   "cell_type": "code",
   "execution_count": null,
   "metadata": {},
   "outputs": [],
   "source": [
    "histAll = dfData.groupby('rating').count()"
   ]
  },
  {
   "cell_type": "code",
   "execution_count": null,
   "metadata": {},
   "outputs": [],
   "source": [
    "histFilmAppr = [int(x) for x in list(histFilm['userId'].values)]"
   ]
  },
  {
   "cell_type": "code",
   "execution_count": null,
   "metadata": {},
   "outputs": [],
   "source": [
    "jsonData = { 'hist_film' : histFilmAppr,\n",
    "             'hist_all'  : histAllAppr  }"
   ]
  },
  {
   "cell_type": "code",
   "execution_count": null,
   "metadata": {},
   "outputs": [],
   "source": [
    "resFile = open(pathRes, 'w')\n",
    "json.dump(jsonData, resFile)\n",
    "resFile.close()"
   ]
  },
  {
   "cell_type": "code",
   "execution_count": null,
   "metadata": {},
   "outputs": [],
   "source": []
  }
 ],
 "metadata": {
  "kernelspec": {
   "display_name": "Python 3",
   "language": "python",
   "name": "python3"
  },
  "language_info": {
   "codemirror_mode": {
    "name": "ipython",
    "version": 3
   },
   "file_extension": ".py",
   "mimetype": "text/x-python",
   "name": "python",
   "nbconvert_exporter": "python",
   "pygments_lexer": "ipython3",
   "version": "3.6.5"
  }
 },
 "nbformat": 4,
 "nbformat_minor": 2
}
