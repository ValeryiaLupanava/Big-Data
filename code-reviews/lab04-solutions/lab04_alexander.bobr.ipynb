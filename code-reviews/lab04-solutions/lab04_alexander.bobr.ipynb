{
 "cells": [
  {
   "cell_type": "code",
   "execution_count": 2,
   "metadata": {},
   "outputs": [],
   "source": [
    "import pandas as pd\n",
    "import numpy as np"
   ]
  },
  {
   "cell_type": "code",
   "execution_count": 3,
   "metadata": {},
   "outputs": [],
   "source": [
    "df_train = pd.read_csv('./lab04data/lab04_train.csv')\n",
    "df_test = pd.read_csv('./lab04data/lab04_test.csv')"
   ]
  },
  {
   "cell_type": "code",
   "execution_count": 4,
   "metadata": {},
   "outputs": [],
   "source": [
    "#drop null row\n",
    "df_train=df_train.drop([320763])"
   ]
  },
  {
   "cell_type": "code",
   "execution_count": 5,
   "metadata": {},
   "outputs": [],
   "source": [
    "y = df_train['TARGET']"
   ]
  },
  {
   "cell_type": "code",
   "execution_count": 6,
   "metadata": {},
   "outputs": [],
   "source": [
    "df_clean=df_train.drop('TARGET', axis=1)"
   ]
  },
  {
   "cell_type": "code",
   "execution_count": 7,
   "metadata": {},
   "outputs": [],
   "source": [
    "#Replace category-attributes Y/N\n",
    "df_clean['APP_CAR'].replace({\"N\": 0, \"Y\": 1}, inplace=True)\n",
    "df_clean['APP_DRIVING_LICENSE'].replace({\"N\": 0, \"Y\": 1}, inplace=True)\n",
    "df_clean['APP_TRAVEL_PASS'].replace({\"N\": 0, \"Y\": 1}, inplace=True)\n",
    "df_test['APP_CAR'].replace({\"N\": 0, \"Y\": 1}, inplace=True)\n",
    "df_test['APP_DRIVING_LICENSE'].replace({\"N\": 0, \"Y\": 1}, inplace=True)\n",
    "df_test['APP_TRAVEL_PASS'].replace({\"N\": 0, \"Y\": 1}, inplace=True)"
   ]
  },
  {
   "cell_type": "code",
   "execution_count": 8,
   "metadata": {},
   "outputs": [],
   "source": [
    "#Drop category-attributes with more than 2 possible values\n",
    "df_clean=df_clean.drop('APP_COMP_TYPE', axis=1)\n",
    "df_clean=df_clean.drop('APP_EDUCATION', axis=1)\n",
    "df_clean=df_clean.drop('APP_EMP_TYPE', axis=1)\n",
    "df_clean=df_clean.drop('APP_KIND_OF_PROP_HABITATION', axis=1)\n",
    "df_clean=df_clean.drop('APP_MARITAL_STATUS', axis=1)\n",
    "df_clean=df_clean.drop('APP_POSITION_TYPE', axis=1)\n",
    "df_clean=df_clean.drop('CLNT_JOB_POSITION', axis=1)\n",
    "df_clean=df_clean.drop('CLNT_JOB_POSITION_TYPE', axis=1)\n",
    "df_clean=df_clean.drop('CLNT_TRUST_RELATION', axis=1)\n",
    "df_clean=df_clean.drop('PACK', axis=1)\n",
    "df_test=df_test.drop('APP_COMP_TYPE', axis=1)\n",
    "df_test=df_test.drop('APP_EDUCATION', axis=1)\n",
    "df_test=df_test.drop('APP_EMP_TYPE', axis=1)\n",
    "df_test=df_test.drop('APP_KIND_OF_PROP_HABITATION', axis=1)\n",
    "df_test=df_test.drop('APP_MARITAL_STATUS', axis=1)\n",
    "df_test=df_test.drop('APP_POSITION_TYPE', axis=1)\n",
    "df_test=df_test.drop('CLNT_JOB_POSITION', axis=1)\n",
    "df_test=df_test.drop('CLNT_JOB_POSITION_TYPE', axis=1)\n",
    "df_test=df_test.drop('CLNT_TRUST_RELATION', axis=1)\n",
    "df_test=df_test.drop('PACK', axis=1)"
   ]
  },
  {
   "cell_type": "code",
   "execution_count": 9,
   "metadata": {},
   "outputs": [],
   "source": [
    "#Replace all numeric-attributes to 0 for both dataframes\n",
    "df_numeric = df_clean.select_dtypes(include=[np.number])\n",
    "numeric_cols = df_numeric.columns.values\n",
    "for col in numeric_cols:\n",
    "    missing = df_clean[col].isnull()\n",
    "    num_missing = np.sum(missing)\n",
    "    \n",
    "    if num_missing > 0:  # only do the imputation for the columns that have missing values.\n",
    "        med = 0\n",
    "        df_clean[col] = df_clean[col].fillna(med)\n",
    "        \n",
    "df_numeric = df_test.select_dtypes(include=[np.number])\n",
    "numeric_cols = df_numeric.columns.values\n",
    "for col in numeric_cols:\n",
    "    missing = df_test[col].isnull()\n",
    "    num_missing = np.sum(missing)\n",
    "    \n",
    "    if num_missing > 0:  # only do the imputation for the columns that have missing values.\n",
    "        med = 0\n",
    "        df_test[col] = df_test[col].fillna(med)"
   ]
  },
  {
   "cell_type": "code",
   "execution_count": 12,
   "metadata": {},
   "outputs": [],
   "source": [
    "from sklearn.tree import DecisionTreeClassifier as BlackBox\n",
    "from sklearn.model_selection import train_test_split\n",
    "\n",
    "x_train, x_test, y_train, y_test = train_test_split(\n",
    "    df_clean,\n",
    "    y,\n",
    "    test_size = 0.4,\n",
    "    random_state = 29\n",
    ")"
   ]
  },
  {
   "cell_type": "code",
   "execution_count": 13,
   "metadata": {},
   "outputs": [],
   "source": [
    "model=BlackBox(max_depth=10)\n",
    "model.fit(x_train, y_train)\n",
    "pred = model.predict_proba(x_test)[:,1]\n",
    "pred_fin = model.predict_proba(df_test)[:,1]"
   ]
  },
  {
   "cell_type": "code",
   "execution_count": 59,
   "metadata": {},
   "outputs": [
    {
     "data": {
      "text/plain": [
       "0.7957947242248092"
      ]
     },
     "execution_count": 59,
     "metadata": {},
     "output_type": "execute_result"
    }
   ],
   "source": [
    "from sklearn.metrics import roc_auc_score\n",
    "roc_auc_score(y_test, pred)"
   ]
  },
  {
   "cell_type": "code",
   "execution_count": 14,
   "metadata": {},
   "outputs": [],
   "source": [
    "result = pd.DataFrame(list(zip(df_test['ID'], pred_fin)))\n",
    "result.to_csv('lab04.csv', sep='\\t', header = ['id', 'target'], index=False)"
   ]
  }
 ],
 "metadata": {
  "kernelspec": {
   "display_name": "Python 3",
   "language": "python",
   "name": "python3"
  },
  "language_info": {
   "codemirror_mode": {
    "name": "ipython",
    "version": 3
   },
   "file_extension": ".py",
   "mimetype": "text/x-python",
   "name": "python",
   "nbconvert_exporter": "python",
   "pygments_lexer": "ipython3",
   "version": "3.6.5"
  }
 },
 "nbformat": 4,
 "nbformat_minor": 2
}
