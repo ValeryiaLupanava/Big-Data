{
 "cells": [
  {
   "cell_type": "code",
   "execution_count": 1,
   "metadata": {
    "ExecuteTime": {
     "end_time": "2020-11-02T08:02:09.016790Z",
     "start_time": "2020-11-02T08:01:33.320832Z"
    }
   },
   "outputs": [],
   "source": [
    "import pandas as pd\n",
    "from sklearn.ensemble import RandomForestClassifier # Достаточно для прохождения лабы\n",
    "import numpy as np\n",
    "import xgboost as xgb # Достаточно для прохождения ачивки\n",
    "#pip install --upgrade xgboost"
   ]
  },
  {
   "cell_type": "code",
   "execution_count": 3,
   "metadata": {
    "ExecuteTime": {
     "end_time": "2020-11-02T08:02:14.224516Z",
     "start_time": "2020-11-02T08:02:10.499796Z"
    }
   },
   "outputs": [],
   "source": [
    "def prepare_df(path_to_file: str, is_train: bool = True):\n",
    "    # читаем исходный массив\n",
    "    df = pd.read_csv(path_to_file)\n",
    "\n",
    "    if is_train:\n",
    "        # удалили строку с NaN'ами (в Y тоже был NaN)\n",
    "        df = df.drop(df[(df['TARGET'].isnull())].index)\n",
    "\n",
    "    # бестолковая колонка\n",
    "    df = df.drop('CLNT_JOB_POSITION', axis=1)\n",
    "\n",
    "    # удалили колонки с нулевой дисперсией\n",
    "    df = df.drop(df.describe().T[(df.describe().T['std'] == 0)].index, axis=1)\n",
    "\n",
    "    if is_train:\n",
    "        # удалили 90% случайных значений с TARGET=0 чтобы уравновесить выборку\n",
    "        df = df[df['TARGET'] == 0].sample(frac=.1).append(df[df['TARGET'] == 1])\n",
    "\n",
    "        # выделяем из основного массива X и Y\n",
    "        df_y = df['TARGET']\n",
    "        df_x = df[df.columns.to_list()[:-1]]\n",
    "    else:\n",
    "        df_x = df\n",
    "\n",
    "    non_text_columns = (df_x.dtypes != object)\n",
    "    non_text_columns_names = non_text_columns[non_text_columns == True].index\n",
    "\n",
    "    non_text_columns_names\n",
    "\n",
    "    # заполнили нулями числовые колонки\n",
    "    df_x[non_text_columns_names] = df_x[non_text_columns_names].fillna(0)\n",
    "\n",
    "    # перекодировка для CLNT_TRUST_RELATION\n",
    "    replace_map = {item: item for item in list(df_x['CLNT_TRUST_RELATION'].value_counts(dropna=False).index)}\n",
    "    replace_mp_ = {'Друг': 'FRIEND', \n",
    "                   'Близкий ро': 'RELATIVE', \n",
    "                   'Дальний ро': 'RELATIVE',\n",
    "                   'Мать': 'MOTHER',\n",
    "                   'Брат': 'BROTHER',\n",
    "                   'Отец': 'FATHER',\n",
    "                   'Сестра': 'SISTER',\n",
    "                   'Дочь': 'DAUGHTER',\n",
    "                   'Сын': 'SON',\n",
    "                   'Жена': 'RELATIVE',\n",
    "                   'Муж': 'RELATIVE',\n",
    "                   'мать': 'MOTHER',\n",
    "                   'мама': 'MOTHER'\n",
    "                  }\n",
    "    for k, v in replace_mp_.items():\n",
    "        replace_map[k] = v\n",
    "    df_x['CLNT_TRUST_RELATION'] = df_x['CLNT_TRUST_RELATION'].map(replace_map)\n",
    "    df_x['CLNT_TRUST_RELATION'].value_counts(dropna=False)\n",
    "\n",
    "    df_x['APP_MARITAL_STATUS'] = df_x['APP_MARITAL_STATUS'].map(str.lower, na_action='ignore')\n",
    "    df_x['APP_MARITAL_STATUS'].value_counts()\n",
    "\n",
    "    # перекодировка для APP_MARITAL_STATUS\n",
    "    replace_map = {item: item for item in list(df_x['APP_MARITAL_STATUS'].value_counts(dropna=False).index)}\n",
    "    replace_mp_ = {' ': np.nan\n",
    "                  }\n",
    "    for k, v in replace_mp_.items():\n",
    "        replace_map[k] = v\n",
    "    df_x['APP_MARITAL_STATUS'] = df_x['APP_MARITAL_STATUS'].map(replace_map)\n",
    "    df_x['APP_MARITAL_STATUS'].value_counts(dropna=False)\n",
    "\n",
    "    df_x['APP_EDUCATION'] = df_x['APP_EDUCATION'].map(str.lower, na_action='ignore')\n",
    "    df_x['APP_EDUCATION'].value_counts()\n",
    "\n",
    "\n",
    "    # количество пропусков в колонке + тип колонки\n",
    "    #with pd.option_context('display.max_rows', 150, 'display.max_columns', 150):  # more options can be specified also\n",
    "    #    num_of_nulls = df_x.isnull().sum(axis=0)\n",
    "    #    column_types = df_x.dtypes\n",
    "    #    df_loc = pd.concat([num_of_nulls], axis=1)\n",
    "    #    print(df_loc.join(pd.concat([column_types], axis=1), rsuffix='_other').sort_values(by=['0'], ascending=True))\n",
    "\n",
    "    text_columns = (df_x.dtypes == object)\n",
    "    text_columns_names = text_columns[text_columns == True].index.to_list()\n",
    "    text_columns_names\n",
    "\n",
    "    df_x = pd.get_dummies(data=df_x, columns=text_columns_names)\n",
    "    \n",
    "    if is_train:\n",
    "        return df_x, df_y\n",
    "    else:\n",
    "        return df_x, None"
   ]
  },
  {
   "cell_type": "code",
   "execution_count": 4,
   "metadata": {
    "ExecuteTime": {
     "end_time": "2020-11-02T08:02:55.999668Z",
     "start_time": "2020-11-02T08:02:37.181319Z"
    }
   },
   "outputs": [
    {
     "name": "stderr",
     "output_type": "stream",
     "text": [
      "/home/kit-kat/.virtualenvs/NovikovMS Lab1/lib/python3.6/site-packages/pandas/core/frame.py:3065: SettingWithCopyWarning: \n",
      "A value is trying to be set on a copy of a slice from a DataFrame.\n",
      "Try using .loc[row_indexer,col_indexer] = value instead\n",
      "\n",
      "See the caveats in the documentation: https://pandas.pydata.org/pandas-docs/stable/user_guide/indexing.html#returning-a-view-versus-a-copy\n",
      "  self[k1] = value[k2]\n",
      "/home/kit-kat/.virtualenvs/NovikovMS Lab1/lib/python3.6/site-packages/ipykernel_launcher.py:51: SettingWithCopyWarning: \n",
      "A value is trying to be set on a copy of a slice from a DataFrame.\n",
      "Try using .loc[row_indexer,col_indexer] = value instead\n",
      "\n",
      "See the caveats in the documentation: https://pandas.pydata.org/pandas-docs/stable/user_guide/indexing.html#returning-a-view-versus-a-copy\n",
      "/home/kit-kat/.virtualenvs/NovikovMS Lab1/lib/python3.6/site-packages/ipykernel_launcher.py:54: SettingWithCopyWarning: \n",
      "A value is trying to be set on a copy of a slice from a DataFrame.\n",
      "Try using .loc[row_indexer,col_indexer] = value instead\n",
      "\n",
      "See the caveats in the documentation: https://pandas.pydata.org/pandas-docs/stable/user_guide/indexing.html#returning-a-view-versus-a-copy\n",
      "/home/kit-kat/.virtualenvs/NovikovMS Lab1/lib/python3.6/site-packages/ipykernel_launcher.py:63: SettingWithCopyWarning: \n",
      "A value is trying to be set on a copy of a slice from a DataFrame.\n",
      "Try using .loc[row_indexer,col_indexer] = value instead\n",
      "\n",
      "See the caveats in the documentation: https://pandas.pydata.org/pandas-docs/stable/user_guide/indexing.html#returning-a-view-versus-a-copy\n",
      "/home/kit-kat/.virtualenvs/NovikovMS Lab1/lib/python3.6/site-packages/ipykernel_launcher.py:66: SettingWithCopyWarning: \n",
      "A value is trying to be set on a copy of a slice from a DataFrame.\n",
      "Try using .loc[row_indexer,col_indexer] = value instead\n",
      "\n",
      "See the caveats in the documentation: https://pandas.pydata.org/pandas-docs/stable/user_guide/indexing.html#returning-a-view-versus-a-copy\n"
     ]
    }
   ],
   "source": [
    "#df_x_train, df_y_train = prepare_df('/mnt/Video/Лекции по машинному обучению/NewProLab/BigData 13/data/lab04data/lab04_train.csv', is_train=True)\n",
    "df_x_train, df_y_train = prepare_df('/home/kit-kat/PycharmProjects/NPL/lab04/lab04data/lab04_train.csv', is_train=True)"
   ]
  },
  {
   "cell_type": "code",
   "execution_count": 5,
   "metadata": {
    "ExecuteTime": {
     "end_time": "2020-11-02T08:02:59.422774Z",
     "start_time": "2020-11-02T08:02:56.063278Z"
    }
   },
   "outputs": [],
   "source": [
    "df_x_test, _ = prepare_df('/home/kit-kat/PycharmProjects/NPL/lab04/lab04data/lab04_test.csv', is_train=False)"
   ]
  },
  {
   "cell_type": "code",
   "execution_count": null,
   "metadata": {},
   "outputs": [],
   "source": []
  },
  {
   "cell_type": "code",
   "execution_count": 28,
   "metadata": {
    "ExecuteTime": {
     "end_time": "2020-11-02T08:16:59.589651Z",
     "start_time": "2020-11-02T08:16:59.584275Z"
    }
   },
   "outputs": [
    {
     "name": "stdout",
     "output_type": "stream",
     "text": [
      "tst - trn: set()\n",
      "trn - tst: set()\n"
     ]
    }
   ],
   "source": [
    "tst_set = set(df_x_test.columns.to_list())\n",
    "trn_set = set(df_x_train.columns.to_list())\n",
    "print('tst - trn: {0}'.format(tst_set.difference(trn_set)))\n",
    "print('trn - tst: {0}'.format(trn_set.difference(tst_set)))\n"
   ]
  },
  {
   "cell_type": "code",
   "execution_count": 21,
   "metadata": {
    "ExecuteTime": {
     "end_time": "2020-11-02T08:15:21.124511Z",
     "start_time": "2020-11-02T08:15:21.114612Z"
    }
   },
   "outputs": [],
   "source": [
    "# добавляем к выборке отсутствующие столбцы\n",
    "df_x_test['PACK_108'] = 0  \n",
    "df_x_test['APP_EDUCATION_ac'] = 0\n",
    "df_x_test['APP_EDUCATION_av'] = 0\n"
   ]
  },
  {
   "cell_type": "code",
   "execution_count": 9,
   "metadata": {
    "ExecuteTime": {
     "end_time": "2020-11-02T08:03:30.161644Z",
     "start_time": "2020-11-02T08:03:25.225113Z"
    }
   },
   "outputs": [
    {
     "data": {
      "text/plain": [
       "RandomForestClassifier(max_depth=9, n_jobs=3, random_state=42)"
      ]
     },
     "execution_count": 9,
     "metadata": {},
     "output_type": "execute_result"
    }
   ],
   "source": [
    "# рандом форест\n",
    "dtc = RandomForestClassifier(n_estimators=100, max_depth=9, n_jobs=3, random_state=42)\n",
    "\n",
    "dtc.fit(\n",
    "    df_x_train,\n",
    "    df_y_train\n",
    ")\n",
    "# value of your auc: 0.800140839615"
   ]
  },
  {
   "cell_type": "code",
   "execution_count": 36,
   "metadata": {
    "ExecuteTime": {
     "end_time": "2020-11-02T08:22:17.893519Z",
     "start_time": "2020-11-02T08:22:17.887024Z"
    },
    "pycharm": {
     "name": "#%%\n"
    }
   },
   "outputs": [],
   "source": [
    "# xg boost \n",
    "xgb_classifier = xgb.XGBClassifier(n_estimators = 100, max_depth=9, n_jobs=7, random_state=42)\n",
    "\n",
    "xgb_classifier.fit(df_x_train, df_y_train)\n",
    "\n",
    "# value of your auc: 0.837408909531"
   ]
  },
  {
   "cell_type": "code",
   "execution_count": 96,
   "metadata": {},
   "outputs": [],
   "source": [
    "df_y_test = dtc.predict_proba(df_x_test)\n",
    "df_y_train = dtc.predict(df_x_train)"
   ]
  },
  {
   "cell_type": "code",
   "execution_count": 38,
   "metadata": {
    "ExecuteTime": {
     "end_time": "2020-11-02T08:23:07.914341Z",
     "start_time": "2020-11-02T08:23:06.247777Z"
    }
   },
   "outputs": [],
   "source": [
    "df_y_test = xgb_classifier.predict_proba(df_x_test)\n",
    "df_y_train = xgb_classifier.predict(df_x_train)"
   ]
  },
  {
   "cell_type": "code",
   "execution_count": 39,
   "metadata": {
    "ExecuteTime": {
     "end_time": "2020-11-02T08:23:08.028635Z",
     "start_time": "2020-11-02T08:23:08.013346Z"
    }
   },
   "outputs": [
    {
     "data": {
      "text/html": [
       "<div>\n",
       "<style scoped>\n",
       "    .dataframe tbody tr th:only-of-type {\n",
       "        vertical-align: middle;\n",
       "    }\n",
       "\n",
       "    .dataframe tbody tr th {\n",
       "        vertical-align: top;\n",
       "    }\n",
       "\n",
       "    .dataframe thead th {\n",
       "        text-align: right;\n",
       "    }\n",
       "</style>\n",
       "<table border=\"1\" class=\"dataframe\">\n",
       "  <thead>\n",
       "    <tr style=\"text-align: right;\">\n",
       "      <th></th>\n",
       "      <th>0</th>\n",
       "      <th>1</th>\n",
       "    </tr>\n",
       "  </thead>\n",
       "  <tbody>\n",
       "    <tr>\n",
       "      <th>0</th>\n",
       "      <td>0.069635</td>\n",
       "      <td>0.930365</td>\n",
       "    </tr>\n",
       "    <tr>\n",
       "      <th>1</th>\n",
       "      <td>0.999943</td>\n",
       "      <td>0.000057</td>\n",
       "    </tr>\n",
       "    <tr>\n",
       "      <th>2</th>\n",
       "      <td>0.999952</td>\n",
       "      <td>0.000048</td>\n",
       "    </tr>\n",
       "    <tr>\n",
       "      <th>3</th>\n",
       "      <td>0.999559</td>\n",
       "      <td>0.000441</td>\n",
       "    </tr>\n",
       "    <tr>\n",
       "      <th>4</th>\n",
       "      <td>0.999960</td>\n",
       "      <td>0.000040</td>\n",
       "    </tr>\n",
       "    <tr>\n",
       "      <th>...</th>\n",
       "      <td>...</td>\n",
       "      <td>...</td>\n",
       "    </tr>\n",
       "    <tr>\n",
       "      <th>44394</th>\n",
       "      <td>0.993066</td>\n",
       "      <td>0.006934</td>\n",
       "    </tr>\n",
       "    <tr>\n",
       "      <th>44395</th>\n",
       "      <td>0.067450</td>\n",
       "      <td>0.932550</td>\n",
       "    </tr>\n",
       "    <tr>\n",
       "      <th>44396</th>\n",
       "      <td>0.113779</td>\n",
       "      <td>0.886221</td>\n",
       "    </tr>\n",
       "    <tr>\n",
       "      <th>44397</th>\n",
       "      <td>0.688926</td>\n",
       "      <td>0.311074</td>\n",
       "    </tr>\n",
       "    <tr>\n",
       "      <th>44398</th>\n",
       "      <td>0.012271</td>\n",
       "      <td>0.987729</td>\n",
       "    </tr>\n",
       "  </tbody>\n",
       "</table>\n",
       "<p>44399 rows × 2 columns</p>\n",
       "</div>"
      ],
      "text/plain": [
       "              0         1\n",
       "0      0.069635  0.930365\n",
       "1      0.999943  0.000057\n",
       "2      0.999952  0.000048\n",
       "3      0.999559  0.000441\n",
       "4      0.999960  0.000040\n",
       "...         ...       ...\n",
       "44394  0.993066  0.006934\n",
       "44395  0.067450  0.932550\n",
       "44396  0.113779  0.886221\n",
       "44397  0.688926  0.311074\n",
       "44398  0.012271  0.987729\n",
       "\n",
       "[44399 rows x 2 columns]"
      ]
     },
     "execution_count": 39,
     "metadata": {},
     "output_type": "execute_result"
    }
   ],
   "source": [
    "pd.DataFrame(df_y_test)"
   ]
  },
  {
   "cell_type": "code",
   "execution_count": 40,
   "metadata": {
    "ExecuteTime": {
     "end_time": "2020-11-02T08:23:08.638948Z",
     "start_time": "2020-11-02T08:23:08.106559Z"
    }
   },
   "outputs": [],
   "source": [
    "result_df = pd.DataFrame(df_y_test)\n",
    "result_df['ID'] = df_x_test['ID']"
   ]
  },
  {
   "cell_type": "code",
   "execution_count": 41,
   "metadata": {
    "ExecuteTime": {
     "end_time": "2020-11-02T08:23:09.801018Z",
     "start_time": "2020-11-02T08:23:09.775156Z"
    }
   },
   "outputs": [
    {
     "data": {
      "text/html": [
       "<div>\n",
       "<style scoped>\n",
       "    .dataframe tbody tr th:only-of-type {\n",
       "        vertical-align: middle;\n",
       "    }\n",
       "\n",
       "    .dataframe tbody tr th {\n",
       "        vertical-align: top;\n",
       "    }\n",
       "\n",
       "    .dataframe thead th {\n",
       "        text-align: right;\n",
       "    }\n",
       "</style>\n",
       "<table border=\"1\" class=\"dataframe\">\n",
       "  <thead>\n",
       "    <tr style=\"text-align: right;\">\n",
       "      <th></th>\n",
       "      <th>0</th>\n",
       "      <th>1</th>\n",
       "      <th>ID</th>\n",
       "    </tr>\n",
       "  </thead>\n",
       "  <tbody>\n",
       "    <tr>\n",
       "      <th>0</th>\n",
       "      <td>0.069635</td>\n",
       "      <td>0.930365</td>\n",
       "      <td>519130</td>\n",
       "    </tr>\n",
       "    <tr>\n",
       "      <th>1</th>\n",
       "      <td>0.999943</td>\n",
       "      <td>0.000057</td>\n",
       "      <td>234045</td>\n",
       "    </tr>\n",
       "    <tr>\n",
       "      <th>2</th>\n",
       "      <td>0.999952</td>\n",
       "      <td>0.000048</td>\n",
       "      <td>401256</td>\n",
       "    </tr>\n",
       "    <tr>\n",
       "      <th>3</th>\n",
       "      <td>0.999559</td>\n",
       "      <td>0.000441</td>\n",
       "      <td>551070</td>\n",
       "    </tr>\n",
       "    <tr>\n",
       "      <th>4</th>\n",
       "      <td>0.999960</td>\n",
       "      <td>0.000040</td>\n",
       "      <td>367285</td>\n",
       "    </tr>\n",
       "    <tr>\n",
       "      <th>...</th>\n",
       "      <td>...</td>\n",
       "      <td>...</td>\n",
       "      <td>...</td>\n",
       "    </tr>\n",
       "    <tr>\n",
       "      <th>44394</th>\n",
       "      <td>0.993066</td>\n",
       "      <td>0.006934</td>\n",
       "      <td>262122</td>\n",
       "    </tr>\n",
       "    <tr>\n",
       "      <th>44395</th>\n",
       "      <td>0.067450</td>\n",
       "      <td>0.932550</td>\n",
       "      <td>435918</td>\n",
       "    </tr>\n",
       "    <tr>\n",
       "      <th>44396</th>\n",
       "      <td>0.113779</td>\n",
       "      <td>0.886221</td>\n",
       "      <td>491359</td>\n",
       "    </tr>\n",
       "    <tr>\n",
       "      <th>44397</th>\n",
       "      <td>0.688926</td>\n",
       "      <td>0.311074</td>\n",
       "      <td>372969</td>\n",
       "    </tr>\n",
       "    <tr>\n",
       "      <th>44398</th>\n",
       "      <td>0.012271</td>\n",
       "      <td>0.987729</td>\n",
       "      <td>460448</td>\n",
       "    </tr>\n",
       "  </tbody>\n",
       "</table>\n",
       "<p>44399 rows × 3 columns</p>\n",
       "</div>"
      ],
      "text/plain": [
       "              0         1      ID\n",
       "0      0.069635  0.930365  519130\n",
       "1      0.999943  0.000057  234045\n",
       "2      0.999952  0.000048  401256\n",
       "3      0.999559  0.000441  551070\n",
       "4      0.999960  0.000040  367285\n",
       "...         ...       ...     ...\n",
       "44394  0.993066  0.006934  262122\n",
       "44395  0.067450  0.932550  435918\n",
       "44396  0.113779  0.886221  491359\n",
       "44397  0.688926  0.311074  372969\n",
       "44398  0.012271  0.987729  460448\n",
       "\n",
       "[44399 rows x 3 columns]"
      ]
     },
     "execution_count": 41,
     "metadata": {},
     "output_type": "execute_result"
    }
   ],
   "source": [
    "result_df"
   ]
  },
  {
   "cell_type": "code",
   "execution_count": 42,
   "metadata": {
    "ExecuteTime": {
     "end_time": "2020-11-02T08:23:09.926644Z",
     "start_time": "2020-11-02T08:23:09.911214Z"
    }
   },
   "outputs": [],
   "source": [
    "result_df.columns = [0, 'target', 'id']"
   ]
  },
  {
   "cell_type": "code",
   "execution_count": 43,
   "metadata": {
    "ExecuteTime": {
     "end_time": "2020-11-02T08:23:10.653264Z",
     "start_time": "2020-11-02T08:23:09.997163Z"
    },
    "pycharm": {
     "name": "#%%\n"
    }
   },
   "outputs": [],
   "source": [
    "result_df[['id', 'target']].to_csv('/home/kit-kat/PycharmProjects/NPL/lab04/lab04data/lab04s.csv', index=False, sep='\\t')\n",
    "\n",
    "\n"
   ]
  }
 ],
 "metadata": {
  "kernelspec": {
   "display_name": "Python 3",
   "language": "python",
   "name": "python3"
  },
  "language_info": {
   "codemirror_mode": {
    "name": "ipython",
    "version": 3
   },
   "file_extension": ".py",
   "mimetype": "text/x-python",
   "name": "python",
   "nbconvert_exporter": "python",
   "pygments_lexer": "ipython3",
   "version": "3.6.9"
  },
  "varInspector": {
   "cols": {
    "lenName": 16,
    "lenType": 16,
    "lenVar": 40
   },
   "kernels_config": {
    "python": {
     "delete_cmd_postfix": "",
     "delete_cmd_prefix": "del ",
     "library": "var_list.py",
     "varRefreshCmd": "print(var_dic_list())"
    },
    "r": {
     "delete_cmd_postfix": ") ",
     "delete_cmd_prefix": "rm(",
     "library": "var_list.r",
     "varRefreshCmd": "cat(var_dic_list()) "
    }
   },
   "types_to_exclude": [
    "module",
    "function",
    "builtin_function_or_method",
    "instance",
    "_Feature"
   ],
   "window_display": false
  }
 },
 "nbformat": 4,
 "nbformat_minor": 4
}
