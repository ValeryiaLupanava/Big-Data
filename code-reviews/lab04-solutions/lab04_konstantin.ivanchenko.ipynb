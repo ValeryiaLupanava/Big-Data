{
 "cells": [
  {
   "cell_type": "markdown",
   "metadata": {},
   "source": [
    "### Решение лабы 04"
   ]
  },
  {
   "cell_type": "code",
   "execution_count": 17,
   "metadata": {},
   "outputs": [],
   "source": [
    "# импортируем необходимые пакеты\n",
    "import numpy as np\n",
    "import pandas as pd\n",
    "from xgboost import XGBClassifier"
   ]
  },
  {
   "cell_type": "code",
   "execution_count": 18,
   "metadata": {},
   "outputs": [],
   "source": [
    "# просмотр всех колонок без многоточий\n",
    "pd.set_option('display.max_columns', 120)"
   ]
  },
  {
   "cell_type": "code",
   "execution_count": 19,
   "metadata": {},
   "outputs": [],
   "source": [
    "# чтение файла в DataFrame\n",
    "df = pd.read_csv(\"/data/share/lab04data/lab04_train.csv\", index_col=0)"
   ]
  },
  {
   "cell_type": "code",
   "execution_count": 20,
   "metadata": {},
   "outputs": [],
   "source": [
    "# удаляем строки с пустым значением в поле TARGET\n",
    "df = df[(~df['TARGET'].isnull())]"
   ]
  },
  {
   "cell_type": "code",
   "execution_count": 23,
   "metadata": {},
   "outputs": [],
   "source": [
    "# заполняем пустые значения нулями\n",
    "df = df.fillna(0)"
   ]
  },
  {
   "cell_type": "code",
   "execution_count": 26,
   "metadata": {},
   "outputs": [
    {
     "data": {
      "text/plain": [
       "['CLNT_TRUST_RELATION',\n",
       " 'APP_MARITAL_STATUS',\n",
       " 'APP_KIND_OF_PROP_HABITATION',\n",
       " 'CLNT_JOB_POSITION_TYPE',\n",
       " 'CLNT_JOB_POSITION',\n",
       " 'APP_DRIVING_LICENSE',\n",
       " 'APP_EDUCATION',\n",
       " 'APP_TRAVEL_PASS',\n",
       " 'APP_CAR',\n",
       " 'APP_POSITION_TYPE',\n",
       " 'APP_EMP_TYPE',\n",
       " 'APP_COMP_TYPE',\n",
       " 'PACK']"
      ]
     },
     "execution_count": 26,
     "metadata": {},
     "output_type": "execute_result"
    }
   ],
   "source": [
    "# список столбцов с категорийными значениями\n",
    "df.select_dtypes(['object']).columns.tolist()"
   ]
  },
  {
   "cell_type": "code",
   "execution_count": 27,
   "metadata": {},
   "outputs": [],
   "source": [
    "# удаляем колонки с категорийными значениями\n",
    "df.drop(df.select_dtypes(['object']).columns.tolist(), axis=1, inplace=True)"
   ]
  },
  {
   "cell_type": "code",
   "execution_count": 28,
   "metadata": {},
   "outputs": [],
   "source": [
    "# формируем датасет для обучения\n",
    "df_train = df.drop('TARGET', axis=1)\n",
    "# формируем target для обучения\n",
    "y_train = df['TARGET']"
   ]
  },
  {
   "cell_type": "code",
   "execution_count": 29,
   "metadata": {},
   "outputs": [
    {
     "data": {
      "text/plain": [
       "XGBClassifier(base_score=0.5, booster='gbtree', colsample_bylevel=1,\n",
       "       colsample_bytree=1, gamma=0, learning_rate=0.1, max_delta_step=0,\n",
       "       max_depth=3, min_child_weight=1, missing=None, n_estimators=100,\n",
       "       n_jobs=1, nthread=None, objective='binary:logistic', random_state=0,\n",
       "       reg_alpha=0, reg_lambda=1, scale_pos_weight=1, seed=None,\n",
       "       silent=True, subsample=1)"
      ]
     },
     "execution_count": 29,
     "metadata": {},
     "output_type": "execute_result"
    }
   ],
   "source": [
    "# обучаем модель\n",
    "model = XGBClassifier()\n",
    "model.fit(df_train, y_train)"
   ]
  },
  {
   "cell_type": "code",
   "execution_count": 30,
   "metadata": {},
   "outputs": [],
   "source": [
    "# загружаем тестовый датасет\n",
    "df_test = pd.read_csv(\"/data/share/lab04data/lab04_test.csv\", index_col=0)"
   ]
  },
  {
   "cell_type": "code",
   "execution_count": 31,
   "metadata": {},
   "outputs": [],
   "source": [
    "# приводим структура тестового датасета к структуре тренировочного (удаляем категорийные столбцы)\n",
    "df_test.drop(df_test.select_dtypes(['object']).columns.tolist(), axis=1, inplace=True)"
   ]
  },
  {
   "cell_type": "code",
   "execution_count": 32,
   "metadata": {},
   "outputs": [],
   "source": [
    "# формируем результат предсказания на нашей модели\n",
    "pred = pd.Series(model.predict_proba(df_test)[:, 1])"
   ]
  },
  {
   "cell_type": "code",
   "execution_count": 33,
   "metadata": {},
   "outputs": [],
   "source": [
    "# соединяем тестовый датасет и результат предсказания\n",
    "df_res = df_test.assign(TARGET=pred.values)"
   ]
  },
  {
   "cell_type": "code",
   "execution_count": 34,
   "metadata": {},
   "outputs": [],
   "source": [
    "# подготовка к формированию результирующего файла\n",
    "df_result=df_res[['ID','TARGET']].rename({'ID':'id','TARGET':'target'}, axis=1)"
   ]
  },
  {
   "cell_type": "code",
   "execution_count": 36,
   "metadata": {},
   "outputs": [],
   "source": [
    "# выгрузка результатов в файл в домашнюю директорию\n",
    "df_result.to_csv('lab04.csv', sep='\\t', index=False, header = True)"
   ]
  }
 ],
 "metadata": {
  "kernelspec": {
   "display_name": "Python 3",
   "language": "python",
   "name": "python3"
  },
  "language_info": {
   "codemirror_mode": {
    "name": "ipython",
    "version": 3
   },
   "file_extension": ".py",
   "mimetype": "text/x-python",
   "name": "python",
   "nbconvert_exporter": "python",
   "pygments_lexer": "ipython3",
   "version": "3.6.5"
  }
 },
 "nbformat": 4,
 "nbformat_minor": 2
}
