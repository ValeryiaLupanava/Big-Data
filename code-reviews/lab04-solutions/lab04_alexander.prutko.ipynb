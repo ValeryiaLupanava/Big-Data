{
 "cells": [
  {
   "cell_type": "markdown",
   "metadata": {
    "toc": true
   },
   "source": [
    "<h1>Table of Contents<span class=\"tocSkip\"></span></h1>\n",
    "<div class=\"toc\"><ul class=\"toc-item\"><li><span><a href=\"#Imports\" data-toc-modified-id=\"Imports-1\"><span class=\"toc-item-num\">1&nbsp;&nbsp;</span>Imports</a></span></li><li><span><a href=\"#Обзор-данных\" data-toc-modified-id=\"Обзор-данных-2\"><span class=\"toc-item-num\">2&nbsp;&nbsp;</span>Обзор данных</a></span></li><li><span><a href=\"#Модель\" data-toc-modified-id=\"Модель-3\"><span class=\"toc-item-num\">3&nbsp;&nbsp;</span>Модель</a></span></li><li><span><a href=\"#Predict\" data-toc-modified-id=\"Predict-4\"><span class=\"toc-item-num\">4&nbsp;&nbsp;</span>Predict</a></span></li></ul></div>"
   ]
  },
  {
   "cell_type": "markdown",
   "metadata": {},
   "source": [
    "# Imports"
   ]
  },
  {
   "cell_type": "code",
   "execution_count": 1,
   "metadata": {
    "ExecuteTime": {
     "end_time": "2020-11-04T12:20:15.695158Z",
     "start_time": "2020-11-04T12:20:15.222471Z"
    }
   },
   "outputs": [
    {
     "name": "stdout",
     "output_type": "stream",
     "text": [
      "Populating the interactive namespace from numpy and matplotlib\n"
     ]
    }
   ],
   "source": [
    "%pylab inline"
   ]
  },
  {
   "cell_type": "code",
   "execution_count": 2,
   "metadata": {
    "ExecuteTime": {
     "end_time": "2020-11-04T12:20:17.359041Z",
     "start_time": "2020-11-04T12:20:16.232118Z"
    }
   },
   "outputs": [],
   "source": [
    "from scipy.stats import mode\n",
    "import numpy as np\n",
    "import pandas as pd\n",
    "from sklearn.metrics import roc_curve, auc\n",
    "from sklearn.ensemble import RandomForestClassifier\n",
    "from sklearn.metrics import roc_auc_score\n",
    "from sklearn.model_selection import train_test_split, RandomizedSearchCV\n",
    "from sklearn.metrics import make_scorer"
   ]
  },
  {
   "cell_type": "markdown",
   "metadata": {},
   "source": [
    "Кастомная функция для вычисления roc-auc в RandomizedSearch"
   ]
  },
  {
   "cell_type": "code",
   "execution_count": 3,
   "metadata": {
    "ExecuteTime": {
     "end_time": "2020-11-04T12:20:18.898799Z",
     "start_time": "2020-11-04T12:20:18.894698Z"
    }
   },
   "outputs": [],
   "source": [
    "def custom_auc(ground_truth, predictions):\n",
    "    # I need only one column of predictions[\"0\" and \"1\"]. You can get an error here\n",
    "    # while trying to return both columns at once\n",
    "    fpr, tpr, _ = roc_curve(ground_truth, predictions[:, 1], pos_label=1)\n",
    "    return auc(fpr, tpr)\n",
    "\n",
    "\n",
    "my_auc = make_scorer(custom_auc, greater_is_better=True, needs_proba=True)"
   ]
  },
  {
   "cell_type": "markdown",
   "metadata": {},
   "source": [
    "# Обзор данных"
   ]
  },
  {
   "cell_type": "markdown",
   "metadata": {},
   "source": [
    "Загружаем данные"
   ]
  },
  {
   "cell_type": "code",
   "execution_count": 7,
   "metadata": {
    "ExecuteTime": {
     "end_time": "2020-11-04T12:21:48.076780Z",
     "start_time": "2020-11-04T12:21:41.977995Z"
    }
   },
   "outputs": [
    {
     "name": "stdout",
     "output_type": "stream",
     "text": [
      "Число строк: 320764\n",
      "Число столбцов: 117\n"
     ]
    }
   ],
   "source": [
    "file_path = '/data/share/lab04data/lab04_train.csv'\n",
    "df = pd.read_csv(file_path)\n",
    "print(\"Число строк: {}\\nЧисло столбцов: {}\".format(*df.shape))"
   ]
  },
  {
   "cell_type": "markdown",
   "metadata": {},
   "source": [
    "Посмотрим на содержимое"
   ]
  },
  {
   "cell_type": "code",
   "execution_count": 10,
   "metadata": {
    "ExecuteTime": {
     "end_time": "2020-11-04T12:44:54.292892Z",
     "start_time": "2020-11-04T12:44:53.905980Z"
    }
   },
   "outputs": [
    {
     "name": "stdout",
     "output_type": "stream",
     "text": [
      "<class 'pandas.core.frame.DataFrame'>\n",
      "RangeIndex: 320764 entries, 0 to 320763\n",
      "Columns: 117 entries, Unnamed: 0 to TARGET\n",
      "dtypes: float64(101), int64(3), object(13)\n",
      "memory usage: 286.3+ MB\n"
     ]
    }
   ],
   "source": [
    "df.info()"
   ]
  },
  {
   "cell_type": "markdown",
   "metadata": {
    "ExecuteTime": {
     "end_time": "2020-11-04T12:24:39.247188Z",
     "start_time": "2020-11-04T12:24:39.242493Z"
    }
   },
   "source": [
    "Видим, что присутствуют числовые (действительные и целые) и категорриальные признаки"
   ]
  },
  {
   "cell_type": "markdown",
   "metadata": {
    "ExecuteTime": {
     "end_time": "2020-10-26T20:55:43.051332Z",
     "start_time": "2020-10-26T20:55:43.022490Z"
    }
   },
   "source": [
    "Выделим имена столбцов с действительными значениями (float_cols), целыми (int_cols) и строковыми (obj_cols)"
   ]
  },
  {
   "cell_type": "code",
   "execution_count": 11,
   "metadata": {
    "ExecuteTime": {
     "end_time": "2020-11-04T12:45:03.892733Z",
     "start_time": "2020-11-04T12:44:55.471485Z"
    }
   },
   "outputs": [],
   "source": [
    "float_cols = df.select_dtypes(include=float64).columns.values\n",
    "int_cols = df.select_dtypes(include=int64).columns.values\n",
    "obj_cols = df.select_dtypes(include=object).columns.values\n",
    "\n",
    "zero_cols = np.where((df[float_cols].fillna(0)).sum()==0)[0]\n",
    "nonzero_cols = np.array([i for i in range(float_cols.shape[0]) if i not in zero_cols])\n",
    "float_cols_ = float_cols[nonzero_cols]"
   ]
  },
  {
   "cell_type": "markdown",
   "metadata": {
    "ExecuteTime": {
     "end_time": "2020-11-04T12:37:47.297487Z",
     "start_time": "2020-11-04T12:37:47.284646Z"
    }
   },
   "source": [
    "zero_cols - действительные столбцы, у которых все значения равны 0 (индексы)\n",
    "\n",
    "nonzero_cols - действительные столбцы, у которых есть значения не равные 0 (индексы)\n",
    "\n",
    "float_cols_ - действительные столбцы, у которых есть значения не равные 0 (имена)"
   ]
  },
  {
   "cell_type": "code",
   "execution_count": 12,
   "metadata": {
    "ExecuteTime": {
     "end_time": "2020-11-04T12:45:05.279758Z",
     "start_time": "2020-11-04T12:45:05.273452Z"
    }
   },
   "outputs": [],
   "source": [
    "# Тут перечислены индексы с фичами, у которых мода равна нулю\n",
    "# Почему-то на сервере scipy.stats.mode считается невыносимо долго, поэтому посчитал на своем компьютере и скопировал сюда\n",
    "zero_mode = np.array([ 0,  2,  5,  7,  9, 10, 11, 13, 14, 17, 18, 19, 21, 24, 27, 29, 30,\n",
    "       34, 39, 40, 42, 43, 44, 46, 47, 49, 52, 54, 60, 62, 63, 67, 68, 69,\n",
    "       70, 75, 76, 78, 79, 80, 81, 82, 83, 84, 85, 86, 87, 88, 89, 90])\n",
    "#np.where(np.array([mode(df[i]).mode[0] for i in float_cols_]) == 0)[0]\n",
    "nonzero_mode = np.array([i for i in range(float_cols_.shape[0]) if i not in zero_mode])\n",
    "zero_mode_cols = float_cols_[zero_mode]\n",
    "nonzero_mode_cols = float_cols_[nonzero_mode]"
   ]
  },
  {
   "cell_type": "markdown",
   "metadata": {},
   "source": [
    "zero_mode - действительные столбцы, у которых мода равна 0 (индексы)\n",
    "\n",
    "nonzero_mode - действительные столбцы, у которых мода не равна 0 (индексы)\n",
    "\n",
    "zero_mode_cols - действительные столбцы, у которых мода равна 0 (имена)\n",
    "\n",
    "nonzero_mode_cols - действительные столбцы, у которых мода не равна 0 (имена)\n",
    "\n",
    "Заполняем нулями пропущенные значения у столбцов, мода которых равна 0"
   ]
  },
  {
   "cell_type": "code",
   "execution_count": 14,
   "metadata": {
    "ExecuteTime": {
     "end_time": "2020-11-04T12:48:04.759539Z",
     "start_time": "2020-11-04T12:48:03.601414Z"
    }
   },
   "outputs": [],
   "source": [
    "df[zero_mode_cols] = df[zero_mode_cols].fillna(0)"
   ]
  },
  {
   "cell_type": "markdown",
   "metadata": {
    "ExecuteTime": {
     "end_time": "2020-11-04T12:47:26.896231Z",
     "start_time": "2020-11-04T12:47:26.891450Z"
    }
   },
   "source": [
    "Заполняем модами пропущенные значения у столбцов, мода которых не равна 0"
   ]
  },
  {
   "cell_type": "code",
   "execution_count": 15,
   "metadata": {
    "ExecuteTime": {
     "end_time": "2020-11-04T12:48:06.891594Z",
     "start_time": "2020-11-04T12:48:06.400240Z"
    }
   },
   "outputs": [],
   "source": [
    "# Почему-то на сервере scipy.stats.mode считается очень долго, поэтому тут заполнял не модами, а средними\n",
    "for i in nonzero_mode_cols:\n",
    "    df[i] = df[i].fillna(mean(df[i]))\n",
    "# [mode(df[i]).mode[0] for i in nonzero_mode_cols]"
   ]
  },
  {
   "cell_type": "markdown",
   "metadata": {},
   "source": [
    "Посмотрим теперь на данные\n",
    "\n",
    "Столбцы с действительными значениями"
   ]
  },
  {
   "cell_type": "code",
   "execution_count": 16,
   "metadata": {
    "ExecuteTime": {
     "end_time": "2020-11-04T12:48:08.099727Z",
     "start_time": "2020-11-04T12:48:08.077471Z"
    }
   },
   "outputs": [
    {
     "data": {
      "text/plain": [
       "60"
      ]
     },
     "execution_count": 16,
     "metadata": {},
     "output_type": "execute_result"
    }
   ],
   "source": [
    "max_rows=pd.get_option(\"max_rows\")\n",
    "pd.set_option(\"max_rows\", 101)\n",
    "max_rows"
   ]
  },
  {
   "cell_type": "code",
   "execution_count": 17,
   "metadata": {
    "ExecuteTime": {
     "end_time": "2020-11-04T12:48:13.250546Z",
     "start_time": "2020-11-04T12:48:08.676558Z"
    },
    "scrolled": false
   },
   "outputs": [
    {
     "data": {
      "text/html": [
       "<div>\n",
       "<style scoped>\n",
       "    .dataframe tbody tr th:only-of-type {\n",
       "        vertical-align: middle;\n",
       "    }\n",
       "\n",
       "    .dataframe tbody tr th {\n",
       "        vertical-align: top;\n",
       "    }\n",
       "\n",
       "    .dataframe thead th {\n",
       "        text-align: right;\n",
       "    }\n",
       "</style>\n",
       "<table border=\"1\" class=\"dataframe\">\n",
       "  <thead>\n",
       "    <tr style=\"text-align: right;\">\n",
       "      <th></th>\n",
       "      <th>count</th>\n",
       "      <th>mean</th>\n",
       "      <th>std</th>\n",
       "      <th>min</th>\n",
       "      <th>25%</th>\n",
       "      <th>50%</th>\n",
       "      <th>75%</th>\n",
       "      <th>max</th>\n",
       "    </tr>\n",
       "  </thead>\n",
       "  <tbody>\n",
       "    <tr>\n",
       "      <th>AMOUNT_RUB_CLO_PRC</th>\n",
       "      <td>320764.0</td>\n",
       "      <td>0.039427</td>\n",
       "      <td>0.103698</td>\n",
       "      <td>0.000000e+00</td>\n",
       "      <td>0.000000</td>\n",
       "      <td>0.000000</td>\n",
       "      <td>0.028669</td>\n",
       "      <td>1.000000e+00</td>\n",
       "    </tr>\n",
       "    <tr>\n",
       "      <th>APP_REGISTR_RGN_CODE</th>\n",
       "      <td>320764.0</td>\n",
       "      <td>50.940510</td>\n",
       "      <td>9.004811</td>\n",
       "      <td>0.000000e+00</td>\n",
       "      <td>50.940510</td>\n",
       "      <td>50.940510</td>\n",
       "      <td>50.940510</td>\n",
       "      <td>8.900000e+01</td>\n",
       "    </tr>\n",
       "    <tr>\n",
       "      <th>TURNOVER_DYNAMIC_IL_1M</th>\n",
       "      <td>320764.0</td>\n",
       "      <td>0.001312</td>\n",
       "      <td>0.029057</td>\n",
       "      <td>0.000000e+00</td>\n",
       "      <td>0.000000</td>\n",
       "      <td>0.000000</td>\n",
       "      <td>0.000000</td>\n",
       "      <td>1.000000e+00</td>\n",
       "    </tr>\n",
       "    <tr>\n",
       "      <th>CNT_TRAN_AUT_TENDENCY1M</th>\n",
       "      <td>320764.0</td>\n",
       "      <td>0.416497</td>\n",
       "      <td>0.147061</td>\n",
       "      <td>6.944444e-03</td>\n",
       "      <td>0.416497</td>\n",
       "      <td>0.416497</td>\n",
       "      <td>0.416497</td>\n",
       "      <td>1.000000e+00</td>\n",
       "    </tr>\n",
       "    <tr>\n",
       "      <th>SUM_TRAN_AUT_TENDENCY1M</th>\n",
       "      <td>320764.0</td>\n",
       "      <td>0.414412</td>\n",
       "      <td>0.157373</td>\n",
       "      <td>0.000000e+00</td>\n",
       "      <td>0.414412</td>\n",
       "      <td>0.414412</td>\n",
       "      <td>0.414412</td>\n",
       "      <td>1.000000e+00</td>\n",
       "    </tr>\n",
       "    <tr>\n",
       "      <th>AMOUNT_RUB_SUP_PRC</th>\n",
       "      <td>320764.0</td>\n",
       "      <td>0.076107</td>\n",
       "      <td>0.137117</td>\n",
       "      <td>0.000000e+00</td>\n",
       "      <td>0.000000</td>\n",
       "      <td>0.015898</td>\n",
       "      <td>0.095434</td>\n",
       "      <td>1.000000e+00</td>\n",
       "    </tr>\n",
       "    <tr>\n",
       "      <th>SUM_TRAN_AUT_TENDENCY3M</th>\n",
       "      <td>320764.0</td>\n",
       "      <td>0.688782</td>\n",
       "      <td>0.168667</td>\n",
       "      <td>4.713157e-06</td>\n",
       "      <td>0.688782</td>\n",
       "      <td>0.688782</td>\n",
       "      <td>0.688782</td>\n",
       "      <td>1.000000e+00</td>\n",
       "    </tr>\n",
       "    <tr>\n",
       "      <th>REST_DYNAMIC_FDEP_1M</th>\n",
       "      <td>320764.0</td>\n",
       "      <td>0.000720</td>\n",
       "      <td>0.014273</td>\n",
       "      <td>0.000000e+00</td>\n",
       "      <td>0.000000</td>\n",
       "      <td>0.000000</td>\n",
       "      <td>0.000000</td>\n",
       "      <td>1.000000e+00</td>\n",
       "    </tr>\n",
       "    <tr>\n",
       "      <th>CNT_TRAN_AUT_TENDENCY3M</th>\n",
       "      <td>320764.0</td>\n",
       "      <td>0.691465</td>\n",
       "      <td>0.154695</td>\n",
       "      <td>8.000000e-03</td>\n",
       "      <td>0.691465</td>\n",
       "      <td>0.691465</td>\n",
       "      <td>0.691465</td>\n",
       "      <td>1.000000e+00</td>\n",
       "    </tr>\n",
       "    <tr>\n",
       "      <th>REST_DYNAMIC_SAVE_3M</th>\n",
       "      <td>320764.0</td>\n",
       "      <td>0.063789</td>\n",
       "      <td>0.203693</td>\n",
       "      <td>0.000000e+00</td>\n",
       "      <td>0.000000</td>\n",
       "      <td>0.000000</td>\n",
       "      <td>0.000000</td>\n",
       "      <td>1.000000e+00</td>\n",
       "    </tr>\n",
       "    <tr>\n",
       "      <th>CR_PROD_CNT_VCU</th>\n",
       "      <td>320764.0</td>\n",
       "      <td>0.031481</td>\n",
       "      <td>0.184595</td>\n",
       "      <td>0.000000e+00</td>\n",
       "      <td>0.000000</td>\n",
       "      <td>0.000000</td>\n",
       "      <td>0.000000</td>\n",
       "      <td>4.000000e+00</td>\n",
       "    </tr>\n",
       "    <tr>\n",
       "      <th>REST_AVG_CUR</th>\n",
       "      <td>320764.0</td>\n",
       "      <td>66162.093082</td>\n",
       "      <td>183563.392555</td>\n",
       "      <td>0.000000e+00</td>\n",
       "      <td>4040.053762</td>\n",
       "      <td>16230.369058</td>\n",
       "      <td>56696.186750</td>\n",
       "      <td>2.202141e+07</td>\n",
       "    </tr>\n",
       "    <tr>\n",
       "      <th>CNT_TRAN_MED_TENDENCY1M</th>\n",
       "      <td>320764.0</td>\n",
       "      <td>0.444124</td>\n",
       "      <td>0.143058</td>\n",
       "      <td>1.030928e-02</td>\n",
       "      <td>0.444124</td>\n",
       "      <td>0.444124</td>\n",
       "      <td>0.444124</td>\n",
       "      <td>1.000000e+00</td>\n",
       "    </tr>\n",
       "    <tr>\n",
       "      <th>AMOUNT_RUB_NAS_PRC</th>\n",
       "      <td>320764.0</td>\n",
       "      <td>0.021427</td>\n",
       "      <td>0.086191</td>\n",
       "      <td>0.000000e+00</td>\n",
       "      <td>0.000000</td>\n",
       "      <td>0.000000</td>\n",
       "      <td>0.008018</td>\n",
       "      <td>1.000000e+00</td>\n",
       "    </tr>\n",
       "    <tr>\n",
       "      <th>TRANS_COUNT_SUP_PRC</th>\n",
       "      <td>320764.0</td>\n",
       "      <td>0.170521</td>\n",
       "      <td>0.194477</td>\n",
       "      <td>0.000000e+00</td>\n",
       "      <td>0.000000</td>\n",
       "      <td>0.111111</td>\n",
       "      <td>0.285714</td>\n",
       "      <td>1.000000e+00</td>\n",
       "    </tr>\n",
       "    <tr>\n",
       "      <th>CNT_TRAN_CLO_TENDENCY1M</th>\n",
       "      <td>320764.0</td>\n",
       "      <td>0.479673</td>\n",
       "      <td>0.142749</td>\n",
       "      <td>1.041667e-02</td>\n",
       "      <td>0.479673</td>\n",
       "      <td>0.479673</td>\n",
       "      <td>0.479673</td>\n",
       "      <td>1.000000e+00</td>\n",
       "    </tr>\n",
       "    <tr>\n",
       "      <th>SUM_TRAN_MED_TENDENCY1M</th>\n",
       "      <td>320764.0</td>\n",
       "      <td>0.437011</td>\n",
       "      <td>0.159731</td>\n",
       "      <td>0.000000e+00</td>\n",
       "      <td>0.437011</td>\n",
       "      <td>0.437011</td>\n",
       "      <td>0.437011</td>\n",
       "      <td>1.000000e+00</td>\n",
       "    </tr>\n",
       "    <tr>\n",
       "      <th>TRANS_COUNT_NAS_PRC</th>\n",
       "      <td>320764.0</td>\n",
       "      <td>0.045444</td>\n",
       "      <td>0.111427</td>\n",
       "      <td>0.000000e+00</td>\n",
       "      <td>0.000000</td>\n",
       "      <td>0.000000</td>\n",
       "      <td>0.040000</td>\n",
       "      <td>1.000000e+00</td>\n",
       "    </tr>\n",
       "    <tr>\n",
       "      <th>CR_PROD_CNT_TOVR</th>\n",
       "      <td>320764.0</td>\n",
       "      <td>0.310244</td>\n",
       "      <td>0.589396</td>\n",
       "      <td>0.000000e+00</td>\n",
       "      <td>0.000000</td>\n",
       "      <td>0.000000</td>\n",
       "      <td>1.000000</td>\n",
       "      <td>1.300000e+01</td>\n",
       "    </tr>\n",
       "    <tr>\n",
       "      <th>CR_PROD_CNT_PIL</th>\n",
       "      <td>320764.0</td>\n",
       "      <td>0.057132</td>\n",
       "      <td>0.297015</td>\n",
       "      <td>0.000000e+00</td>\n",
       "      <td>0.000000</td>\n",
       "      <td>0.000000</td>\n",
       "      <td>0.000000</td>\n",
       "      <td>9.000000e+00</td>\n",
       "    </tr>\n",
       "    <tr>\n",
       "      <th>SUM_TRAN_CLO_TENDENCY1M</th>\n",
       "      <td>320764.0</td>\n",
       "      <td>0.472933</td>\n",
       "      <td>0.156201</td>\n",
       "      <td>1.259525e-05</td>\n",
       "      <td>0.472933</td>\n",
       "      <td>0.472933</td>\n",
       "      <td>0.472933</td>\n",
       "      <td>1.000000e+00</td>\n",
       "    </tr>\n",
       "    <tr>\n",
       "      <th>TURNOVER_CC</th>\n",
       "      <td>320764.0</td>\n",
       "      <td>501.147864</td>\n",
       "      <td>12880.016724</td>\n",
       "      <td>0.000000e+00</td>\n",
       "      <td>0.000000</td>\n",
       "      <td>0.000000</td>\n",
       "      <td>0.000000</td>\n",
       "      <td>3.753042e+06</td>\n",
       "    </tr>\n",
       "    <tr>\n",
       "      <th>TRANS_COUNT_ATM_PRC</th>\n",
       "      <td>320764.0</td>\n",
       "      <td>0.370678</td>\n",
       "      <td>0.324539</td>\n",
       "      <td>0.000000e+00</td>\n",
       "      <td>0.100000</td>\n",
       "      <td>0.305556</td>\n",
       "      <td>0.545455</td>\n",
       "      <td>1.000000e+00</td>\n",
       "    </tr>\n",
       "    <tr>\n",
       "      <th>AMOUNT_RUB_ATM_PRC</th>\n",
       "      <td>320764.0</td>\n",
       "      <td>0.597960</td>\n",
       "      <td>0.343679</td>\n",
       "      <td>0.000000e+00</td>\n",
       "      <td>0.328837</td>\n",
       "      <td>0.603443</td>\n",
       "      <td>0.932334</td>\n",
       "      <td>1.000000e+00</td>\n",
       "    </tr>\n",
       "    <tr>\n",
       "      <th>TURNOVER_PAYM</th>\n",
       "      <td>320764.0</td>\n",
       "      <td>14577.066558</td>\n",
       "      <td>149500.164867</td>\n",
       "      <td>0.000000e+00</td>\n",
       "      <td>0.000000</td>\n",
       "      <td>0.000000</td>\n",
       "      <td>0.000000</td>\n",
       "      <td>4.628044e+07</td>\n",
       "    </tr>\n",
       "    <tr>\n",
       "      <th>AGE</th>\n",
       "      <td>320764.0</td>\n",
       "      <td>457.107921</td>\n",
       "      <td>136.269921</td>\n",
       "      <td>1.680000e+02</td>\n",
       "      <td>348.000000</td>\n",
       "      <td>432.000000</td>\n",
       "      <td>552.000000</td>\n",
       "      <td>1.128000e+03</td>\n",
       "    </tr>\n",
       "    <tr>\n",
       "      <th>CNT_TRAN_MED_TENDENCY3M</th>\n",
       "      <td>320764.0</td>\n",
       "      <td>0.701127</td>\n",
       "      <td>0.160897</td>\n",
       "      <td>2.173913e-02</td>\n",
       "      <td>0.701127</td>\n",
       "      <td>0.701127</td>\n",
       "      <td>0.701127</td>\n",
       "      <td>1.000000e+00</td>\n",
       "    </tr>\n",
       "    <tr>\n",
       "      <th>CR_PROD_CNT_CC</th>\n",
       "      <td>320764.0</td>\n",
       "      <td>0.071657</td>\n",
       "      <td>0.294405</td>\n",
       "      <td>0.000000e+00</td>\n",
       "      <td>0.000000</td>\n",
       "      <td>0.000000</td>\n",
       "      <td>0.000000</td>\n",
       "      <td>9.000000e+00</td>\n",
       "    </tr>\n",
       "    <tr>\n",
       "      <th>SUM_TRAN_MED_TENDENCY3M</th>\n",
       "      <td>320764.0</td>\n",
       "      <td>0.696431</td>\n",
       "      <td>0.184021</td>\n",
       "      <td>0.000000e+00</td>\n",
       "      <td>0.696431</td>\n",
       "      <td>0.696431</td>\n",
       "      <td>0.696431</td>\n",
       "      <td>1.000000e+00</td>\n",
       "    </tr>\n",
       "    <tr>\n",
       "      <th>REST_DYNAMIC_FDEP_3M</th>\n",
       "      <td>320764.0</td>\n",
       "      <td>0.003865</td>\n",
       "      <td>0.045203</td>\n",
       "      <td>0.000000e+00</td>\n",
       "      <td>0.000000</td>\n",
       "      <td>0.000000</td>\n",
       "      <td>0.000000</td>\n",
       "      <td>1.000000e+00</td>\n",
       "    </tr>\n",
       "    <tr>\n",
       "      <th>REST_DYNAMIC_IL_1M</th>\n",
       "      <td>320764.0</td>\n",
       "      <td>0.001664</td>\n",
       "      <td>0.024330</td>\n",
       "      <td>0.000000e+00</td>\n",
       "      <td>0.000000</td>\n",
       "      <td>0.000000</td>\n",
       "      <td>0.000000</td>\n",
       "      <td>1.000000e+00</td>\n",
       "    </tr>\n",
       "    <tr>\n",
       "      <th>SUM_TRAN_CLO_TENDENCY3M</th>\n",
       "      <td>320764.0</td>\n",
       "      <td>0.697158</td>\n",
       "      <td>0.183439</td>\n",
       "      <td>0.000000e+00</td>\n",
       "      <td>0.697158</td>\n",
       "      <td>0.697158</td>\n",
       "      <td>0.697158</td>\n",
       "      <td>1.000000e+00</td>\n",
       "    </tr>\n",
       "    <tr>\n",
       "      <th>LDEAL_TENOR_MAX</th>\n",
       "      <td>320764.0</td>\n",
       "      <td>22.367985</td>\n",
       "      <td>2.575161</td>\n",
       "      <td>0.000000e+00</td>\n",
       "      <td>22.367985</td>\n",
       "      <td>22.367985</td>\n",
       "      <td>22.367985</td>\n",
       "      <td>2.420000e+02</td>\n",
       "    </tr>\n",
       "    <tr>\n",
       "      <th>LDEAL_YQZ_CHRG</th>\n",
       "      <td>320764.0</td>\n",
       "      <td>0.004979</td>\n",
       "      <td>0.000481</td>\n",
       "      <td>3.089280e-08</td>\n",
       "      <td>0.004979</td>\n",
       "      <td>0.004979</td>\n",
       "      <td>0.004979</td>\n",
       "      <td>8.118109e-02</td>\n",
       "    </tr>\n",
       "    <tr>\n",
       "      <th>CR_PROD_CNT_CCFP</th>\n",
       "      <td>320764.0</td>\n",
       "      <td>0.004901</td>\n",
       "      <td>0.075786</td>\n",
       "      <td>0.000000e+00</td>\n",
       "      <td>0.000000</td>\n",
       "      <td>0.000000</td>\n",
       "      <td>0.000000</td>\n",
       "      <td>4.000000e+00</td>\n",
       "    </tr>\n",
       "    <tr>\n",
       "      <th>DEAL_YQZ_IR_MAX</th>\n",
       "      <td>320764.0</td>\n",
       "      <td>26.272423</td>\n",
       "      <td>2.218031</td>\n",
       "      <td>7.500000e+00</td>\n",
       "      <td>26.272423</td>\n",
       "      <td>26.272423</td>\n",
       "      <td>26.272423</td>\n",
       "      <td>9.400000e+01</td>\n",
       "    </tr>\n",
       "    <tr>\n",
       "      <th>LDEAL_YQZ_COM</th>\n",
       "      <td>320764.0</td>\n",
       "      <td>0.073558</td>\n",
       "      <td>0.006256</td>\n",
       "      <td>2.866667e-05</td>\n",
       "      <td>0.073558</td>\n",
       "      <td>0.073558</td>\n",
       "      <td>0.073558</td>\n",
       "      <td>1.000000e+00</td>\n",
       "    </tr>\n",
       "    <tr>\n",
       "      <th>DEAL_YQZ_IR_MIN</th>\n",
       "      <td>320764.0</td>\n",
       "      <td>25.561635</td>\n",
       "      <td>2.145579</td>\n",
       "      <td>7.500000e+00</td>\n",
       "      <td>25.561635</td>\n",
       "      <td>25.561635</td>\n",
       "      <td>25.561635</td>\n",
       "      <td>9.400000e+01</td>\n",
       "    </tr>\n",
       "    <tr>\n",
       "      <th>CNT_TRAN_CLO_TENDENCY3M</th>\n",
       "      <td>320764.0</td>\n",
       "      <td>0.700298</td>\n",
       "      <td>0.164816</td>\n",
       "      <td>1.960784e-02</td>\n",
       "      <td>0.700298</td>\n",
       "      <td>0.700298</td>\n",
       "      <td>0.700298</td>\n",
       "      <td>1.000000e+00</td>\n",
       "    </tr>\n",
       "    <tr>\n",
       "      <th>REST_DYNAMIC_CUR_1M</th>\n",
       "      <td>320764.0</td>\n",
       "      <td>0.212229</td>\n",
       "      <td>0.235844</td>\n",
       "      <td>0.000000e+00</td>\n",
       "      <td>0.063443</td>\n",
       "      <td>0.148154</td>\n",
       "      <td>0.251843</td>\n",
       "      <td>1.000000e+00</td>\n",
       "    </tr>\n",
       "    <tr>\n",
       "      <th>REST_AVG_PAYM</th>\n",
       "      <td>320764.0</td>\n",
       "      <td>7192.104604</td>\n",
       "      <td>48466.406852</td>\n",
       "      <td>0.000000e+00</td>\n",
       "      <td>0.000000</td>\n",
       "      <td>0.000000</td>\n",
       "      <td>0.000000</td>\n",
       "      <td>5.798600e+06</td>\n",
       "    </tr>\n",
       "    <tr>\n",
       "      <th>LDEAL_TENOR_MIN</th>\n",
       "      <td>320764.0</td>\n",
       "      <td>15.760973</td>\n",
       "      <td>1.957684</td>\n",
       "      <td>0.000000e+00</td>\n",
       "      <td>15.760973</td>\n",
       "      <td>15.760973</td>\n",
       "      <td>15.760973</td>\n",
       "      <td>1.820000e+02</td>\n",
       "    </tr>\n",
       "    <tr>\n",
       "      <th>LDEAL_AMT_MONTH</th>\n",
       "      <td>320764.0</td>\n",
       "      <td>1050.021430</td>\n",
       "      <td>38362.106878</td>\n",
       "      <td>0.000000e+00</td>\n",
       "      <td>0.000000</td>\n",
       "      <td>0.000000</td>\n",
       "      <td>0.000000</td>\n",
       "      <td>7.337638e+06</td>\n",
       "    </tr>\n",
       "    <tr>\n",
       "      <th>LDEAL_GRACE_DAYS_PCT_MED</th>\n",
       "      <td>320764.0</td>\n",
       "      <td>0.001814</td>\n",
       "      <td>0.039407</td>\n",
       "      <td>0.000000e+00</td>\n",
       "      <td>0.000000</td>\n",
       "      <td>0.000000</td>\n",
       "      <td>0.000000</td>\n",
       "      <td>1.000000e+00</td>\n",
       "    </tr>\n",
       "    <tr>\n",
       "      <th>REST_DYNAMIC_CUR_3M</th>\n",
       "      <td>320764.0</td>\n",
       "      <td>0.498681</td>\n",
       "      <td>0.299257</td>\n",
       "      <td>0.000000e+00</td>\n",
       "      <td>0.317282</td>\n",
       "      <td>0.493033</td>\n",
       "      <td>0.690833</td>\n",
       "      <td>1.000000e+00</td>\n",
       "    </tr>\n",
       "    <tr>\n",
       "      <th>CNT_TRAN_SUP_TENDENCY3M</th>\n",
       "      <td>320764.0</td>\n",
       "      <td>0.642911</td>\n",
       "      <td>0.200110</td>\n",
       "      <td>8.695652e-03</td>\n",
       "      <td>0.571429</td>\n",
       "      <td>0.642911</td>\n",
       "      <td>0.661290</td>\n",
       "      <td>1.000000e+00</td>\n",
       "    </tr>\n",
       "    <tr>\n",
       "      <th>TURNOVER_DYNAMIC_CUR_1M</th>\n",
       "      <td>320764.0</td>\n",
       "      <td>0.204061</td>\n",
       "      <td>0.254818</td>\n",
       "      <td>0.000000e+00</td>\n",
       "      <td>0.014378</td>\n",
       "      <td>0.127396</td>\n",
       "      <td>0.255519</td>\n",
       "      <td>1.000000e+00</td>\n",
       "    </tr>\n",
       "    <tr>\n",
       "      <th>REST_DYNAMIC_PAYM_3M</th>\n",
       "      <td>320764.0</td>\n",
       "      <td>0.076847</td>\n",
       "      <td>0.204462</td>\n",
       "      <td>0.000000e+00</td>\n",
       "      <td>0.000000</td>\n",
       "      <td>0.000000</td>\n",
       "      <td>0.000000</td>\n",
       "      <td>1.000000e+00</td>\n",
       "    </tr>\n",
       "    <tr>\n",
       "      <th>SUM_TRAN_SUP_TENDENCY3M</th>\n",
       "      <td>320764.0</td>\n",
       "      <td>0.627588</td>\n",
       "      <td>0.220591</td>\n",
       "      <td>5.072087e-07</td>\n",
       "      <td>0.559588</td>\n",
       "      <td>0.627588</td>\n",
       "      <td>0.658637</td>\n",
       "      <td>1.000000e+00</td>\n",
       "    </tr>\n",
       "    <tr>\n",
       "      <th>REST_DYNAMIC_IL_3M</th>\n",
       "      <td>320764.0</td>\n",
       "      <td>0.005753</td>\n",
       "      <td>0.057576</td>\n",
       "      <td>0.000000e+00</td>\n",
       "      <td>0.000000</td>\n",
       "      <td>0.000000</td>\n",
       "      <td>0.000000</td>\n",
       "      <td>1.000000e+00</td>\n",
       "    </tr>\n",
       "    <tr>\n",
       "      <th>CNT_TRAN_ATM_TENDENCY3M</th>\n",
       "      <td>320764.0</td>\n",
       "      <td>0.628779</td>\n",
       "      <td>0.223090</td>\n",
       "      <td>5.524862e-03</td>\n",
       "      <td>0.500000</td>\n",
       "      <td>0.628779</td>\n",
       "      <td>0.722222</td>\n",
       "      <td>1.000000e+00</td>\n",
       "    </tr>\n",
       "    <tr>\n",
       "      <th>CNT_TRAN_ATM_TENDENCY1M</th>\n",
       "      <td>320764.0</td>\n",
       "      <td>0.327133</td>\n",
       "      <td>0.208882</td>\n",
       "      <td>3.170577e-03</td>\n",
       "      <td>0.200000</td>\n",
       "      <td>0.327133</td>\n",
       "      <td>0.327133</td>\n",
       "      <td>1.000000e+00</td>\n",
       "    </tr>\n",
       "    <tr>\n",
       "      <th>TURNOVER_DYNAMIC_IL_3M</th>\n",
       "      <td>320764.0</td>\n",
       "      <td>0.004064</td>\n",
       "      <td>0.053342</td>\n",
       "      <td>0.000000e+00</td>\n",
       "      <td>0.000000</td>\n",
       "      <td>0.000000</td>\n",
       "      <td>0.000000</td>\n",
       "      <td>1.000000e+00</td>\n",
       "    </tr>\n",
       "    <tr>\n",
       "      <th>SUM_TRAN_ATM_TENDENCY3M</th>\n",
       "      <td>320764.0</td>\n",
       "      <td>0.618276</td>\n",
       "      <td>0.256707</td>\n",
       "      <td>5.649000e-05</td>\n",
       "      <td>0.477520</td>\n",
       "      <td>0.618276</td>\n",
       "      <td>0.785654</td>\n",
       "      <td>1.000000e+00</td>\n",
       "    </tr>\n",
       "    <tr>\n",
       "      <th>DEAL_GRACE_DAYS_ACC_S1X1</th>\n",
       "      <td>320764.0</td>\n",
       "      <td>0.005705</td>\n",
       "      <td>0.065272</td>\n",
       "      <td>0.000000e+00</td>\n",
       "      <td>0.000000</td>\n",
       "      <td>0.000000</td>\n",
       "      <td>0.000000</td>\n",
       "      <td>4.534014e+00</td>\n",
       "    </tr>\n",
       "    <tr>\n",
       "      <th>AVG_PCT_MONTH_TO_PCLOSE</th>\n",
       "      <td>320764.0</td>\n",
       "      <td>-2.555297</td>\n",
       "      <td>0.294458</td>\n",
       "      <td>-3.329032e+01</td>\n",
       "      <td>-2.555297</td>\n",
       "      <td>-2.555297</td>\n",
       "      <td>-2.555297</td>\n",
       "      <td>9.677419e-01</td>\n",
       "    </tr>\n",
       "    <tr>\n",
       "      <th>DEAL_YWZ_IR_MIN</th>\n",
       "      <td>320764.0</td>\n",
       "      <td>37.185120</td>\n",
       "      <td>6.459904</td>\n",
       "      <td>0.000000e+00</td>\n",
       "      <td>37.185120</td>\n",
       "      <td>37.185120</td>\n",
       "      <td>37.185120</td>\n",
       "      <td>5.990000e+01</td>\n",
       "    </tr>\n",
       "    <tr>\n",
       "      <th>SUM_TRAN_SUP_TENDENCY1M</th>\n",
       "      <td>320764.0</td>\n",
       "      <td>0.328129</td>\n",
       "      <td>0.199672</td>\n",
       "      <td>5.072087e-07</td>\n",
       "      <td>0.251054</td>\n",
       "      <td>0.328129</td>\n",
       "      <td>0.328129</td>\n",
       "      <td>1.000000e+00</td>\n",
       "    </tr>\n",
       "    <tr>\n",
       "      <th>DEAL_YWZ_IR_MAX</th>\n",
       "      <td>320764.0</td>\n",
       "      <td>39.473565</td>\n",
       "      <td>5.454038</td>\n",
       "      <td>0.000000e+00</td>\n",
       "      <td>39.473565</td>\n",
       "      <td>39.473565</td>\n",
       "      <td>39.473565</td>\n",
       "      <td>5.990000e+01</td>\n",
       "    </tr>\n",
       "    <tr>\n",
       "      <th>SUM_TRAN_ATM_TENDENCY1M</th>\n",
       "      <td>320764.0</td>\n",
       "      <td>0.321989</td>\n",
       "      <td>0.232758</td>\n",
       "      <td>6.347709e-06</td>\n",
       "      <td>0.172977</td>\n",
       "      <td>0.321989</td>\n",
       "      <td>0.321989</td>\n",
       "      <td>1.000000e+00</td>\n",
       "    </tr>\n",
       "    <tr>\n",
       "      <th>REST_DYNAMIC_PAYM_1M</th>\n",
       "      <td>320764.0</td>\n",
       "      <td>0.027698</td>\n",
       "      <td>0.097208</td>\n",
       "      <td>0.000000e+00</td>\n",
       "      <td>0.000000</td>\n",
       "      <td>0.000000</td>\n",
       "      <td>0.000000</td>\n",
       "      <td>1.000000e+00</td>\n",
       "    </tr>\n",
       "    <tr>\n",
       "      <th>CNT_TRAN_SUP_TENDENCY1M</th>\n",
       "      <td>320764.0</td>\n",
       "      <td>0.341151</td>\n",
       "      <td>0.186505</td>\n",
       "      <td>4.255319e-03</td>\n",
       "      <td>0.272727</td>\n",
       "      <td>0.341151</td>\n",
       "      <td>0.341151</td>\n",
       "      <td>1.000000e+00</td>\n",
       "    </tr>\n",
       "    <tr>\n",
       "      <th>DEAL_GRACE_DAYS_ACC_AVG</th>\n",
       "      <td>320764.0</td>\n",
       "      <td>0.004775</td>\n",
       "      <td>0.061947</td>\n",
       "      <td>0.000000e+00</td>\n",
       "      <td>0.000000</td>\n",
       "      <td>0.000000</td>\n",
       "      <td>0.000000</td>\n",
       "      <td>4.688776e+00</td>\n",
       "    </tr>\n",
       "    <tr>\n",
       "      <th>TURNOVER_DYNAMIC_CUR_3M</th>\n",
       "      <td>320764.0</td>\n",
       "      <td>0.484422</td>\n",
       "      <td>0.331703</td>\n",
       "      <td>0.000000e+00</td>\n",
       "      <td>0.217064</td>\n",
       "      <td>0.494318</td>\n",
       "      <td>0.726228</td>\n",
       "      <td>1.000000e+00</td>\n",
       "    </tr>\n",
       "    <tr>\n",
       "      <th>MAX_PCLOSE_DATE</th>\n",
       "      <td>320764.0</td>\n",
       "      <td>-20.791243</td>\n",
       "      <td>2.096204</td>\n",
       "      <td>-1.033548e+02</td>\n",
       "      <td>-20.791243</td>\n",
       "      <td>-20.791243</td>\n",
       "      <td>-20.791243</td>\n",
       "      <td>1.121935e+02</td>\n",
       "    </tr>\n",
       "    <tr>\n",
       "      <th>LDEAL_YQZ_PC</th>\n",
       "      <td>320764.0</td>\n",
       "      <td>0.025069</td>\n",
       "      <td>0.005255</td>\n",
       "      <td>7.083333e-08</td>\n",
       "      <td>0.025069</td>\n",
       "      <td>0.025069</td>\n",
       "      <td>0.025069</td>\n",
       "      <td>2.283844e+00</td>\n",
       "    </tr>\n",
       "    <tr>\n",
       "      <th>CLNT_SETUP_TENOR</th>\n",
       "      <td>320764.0</td>\n",
       "      <td>4.377489</td>\n",
       "      <td>2.936238</td>\n",
       "      <td>3.455925e-01</td>\n",
       "      <td>1.781076</td>\n",
       "      <td>3.902163</td>\n",
       "      <td>6.555388</td>\n",
       "      <td>1.374894e+01</td>\n",
       "    </tr>\n",
       "    <tr>\n",
       "      <th>DEAL_GRACE_DAYS_ACC_MAX</th>\n",
       "      <td>320764.0</td>\n",
       "      <td>0.005676</td>\n",
       "      <td>0.074285</td>\n",
       "      <td>0.000000e+00</td>\n",
       "      <td>0.000000</td>\n",
       "      <td>0.000000</td>\n",
       "      <td>0.000000</td>\n",
       "      <td>9.377551e+00</td>\n",
       "    </tr>\n",
       "    <tr>\n",
       "      <th>TURNOVER_DYNAMIC_PAYM_3M</th>\n",
       "      <td>320764.0</td>\n",
       "      <td>0.072124</td>\n",
       "      <td>0.207083</td>\n",
       "      <td>0.000000e+00</td>\n",
       "      <td>0.000000</td>\n",
       "      <td>0.000000</td>\n",
       "      <td>0.000000</td>\n",
       "      <td>1.000000e+00</td>\n",
       "    </tr>\n",
       "    <tr>\n",
       "      <th>LDEAL_DELINQ_PER_MAXYQZ</th>\n",
       "      <td>320764.0</td>\n",
       "      <td>0.004494</td>\n",
       "      <td>0.065527</td>\n",
       "      <td>0.000000e+00</td>\n",
       "      <td>0.000000</td>\n",
       "      <td>0.000000</td>\n",
       "      <td>0.000000</td>\n",
       "      <td>1.000000e+00</td>\n",
       "    </tr>\n",
       "    <tr>\n",
       "      <th>TURNOVER_DYNAMIC_PAYM_1M</th>\n",
       "      <td>320764.0</td>\n",
       "      <td>0.025178</td>\n",
       "      <td>0.104618</td>\n",
       "      <td>0.000000e+00</td>\n",
       "      <td>0.000000</td>\n",
       "      <td>0.000000</td>\n",
       "      <td>0.000000</td>\n",
       "      <td>1.000000e+00</td>\n",
       "    </tr>\n",
       "    <tr>\n",
       "      <th>CLNT_SALARY_VALUE</th>\n",
       "      <td>320764.0</td>\n",
       "      <td>36623.100475</td>\n",
       "      <td>2656.657265</td>\n",
       "      <td>7.500000e-01</td>\n",
       "      <td>36623.100475</td>\n",
       "      <td>36623.100475</td>\n",
       "      <td>36623.100475</td>\n",
       "      <td>7.862184e+05</td>\n",
       "    </tr>\n",
       "    <tr>\n",
       "      <th>TRANS_AMOUNT_TENDENCY3M</th>\n",
       "      <td>320764.0</td>\n",
       "      <td>0.582278</td>\n",
       "      <td>0.260631</td>\n",
       "      <td>0.000000e+00</td>\n",
       "      <td>0.418107</td>\n",
       "      <td>0.582278</td>\n",
       "      <td>0.750903</td>\n",
       "      <td>1.000000e+00</td>\n",
       "    </tr>\n",
       "    <tr>\n",
       "      <th>MED_DEBT_PRC_YQZ</th>\n",
       "      <td>320764.0</td>\n",
       "      <td>0.922748</td>\n",
       "      <td>0.039573</td>\n",
       "      <td>0.000000e+00</td>\n",
       "      <td>0.922748</td>\n",
       "      <td>0.922748</td>\n",
       "      <td>0.922748</td>\n",
       "      <td>1.000000e+00</td>\n",
       "    </tr>\n",
       "    <tr>\n",
       "      <th>TRANS_CNT_TENDENCY3M</th>\n",
       "      <td>320764.0</td>\n",
       "      <td>0.597442</td>\n",
       "      <td>0.228357</td>\n",
       "      <td>5.714286e-03</td>\n",
       "      <td>0.455882</td>\n",
       "      <td>0.597442</td>\n",
       "      <td>0.714286</td>\n",
       "      <td>1.000000e+00</td>\n",
       "    </tr>\n",
       "    <tr>\n",
       "      <th>LDEAL_USED_AMT_AVG_YQZ</th>\n",
       "      <td>320764.0</td>\n",
       "      <td>0.010010</td>\n",
       "      <td>0.081553</td>\n",
       "      <td>0.000000e+00</td>\n",
       "      <td>0.000000</td>\n",
       "      <td>0.000000</td>\n",
       "      <td>0.000000</td>\n",
       "      <td>1.000000e+00</td>\n",
       "    </tr>\n",
       "    <tr>\n",
       "      <th>REST_DYNAMIC_CC_1M</th>\n",
       "      <td>320764.0</td>\n",
       "      <td>0.002243</td>\n",
       "      <td>0.026871</td>\n",
       "      <td>0.000000e+00</td>\n",
       "      <td>0.000000</td>\n",
       "      <td>0.000000</td>\n",
       "      <td>0.000000</td>\n",
       "      <td>1.000000e+00</td>\n",
       "    </tr>\n",
       "    <tr>\n",
       "      <th>LDEAL_USED_AMT_AVG_YWZ</th>\n",
       "      <td>320764.0</td>\n",
       "      <td>0.900215</td>\n",
       "      <td>0.154273</td>\n",
       "      <td>0.000000e+00</td>\n",
       "      <td>0.900215</td>\n",
       "      <td>0.900215</td>\n",
       "      <td>0.900215</td>\n",
       "      <td>1.000000e+00</td>\n",
       "    </tr>\n",
       "    <tr>\n",
       "      <th>TURNOVER_DYNAMIC_CC_1M</th>\n",
       "      <td>320764.0</td>\n",
       "      <td>0.000957</td>\n",
       "      <td>0.028629</td>\n",
       "      <td>0.000000e+00</td>\n",
       "      <td>0.000000</td>\n",
       "      <td>0.000000</td>\n",
       "      <td>0.000000</td>\n",
       "      <td>1.000000e+00</td>\n",
       "    </tr>\n",
       "    <tr>\n",
       "      <th>AVG_PCT_DEBT_TO_DEAL_AMT</th>\n",
       "      <td>320764.0</td>\n",
       "      <td>0.001823</td>\n",
       "      <td>0.078656</td>\n",
       "      <td>0.000000e+00</td>\n",
       "      <td>0.000000</td>\n",
       "      <td>0.000000</td>\n",
       "      <td>0.000000</td>\n",
       "      <td>3.987847e+01</td>\n",
       "    </tr>\n",
       "    <tr>\n",
       "      <th>LDEAL_ACT_DAYS_ACC_PCT_AVG</th>\n",
       "      <td>320764.0</td>\n",
       "      <td>0.013569</td>\n",
       "      <td>0.073010</td>\n",
       "      <td>0.000000e+00</td>\n",
       "      <td>0.000000</td>\n",
       "      <td>0.000000</td>\n",
       "      <td>0.000000</td>\n",
       "      <td>1.000000e+00</td>\n",
       "    </tr>\n",
       "    <tr>\n",
       "      <th>REST_DYNAMIC_CC_3M</th>\n",
       "      <td>320764.0</td>\n",
       "      <td>0.007414</td>\n",
       "      <td>0.067032</td>\n",
       "      <td>0.000000e+00</td>\n",
       "      <td>0.000000</td>\n",
       "      <td>0.000000</td>\n",
       "      <td>0.000000</td>\n",
       "      <td>1.000000e+00</td>\n",
       "    </tr>\n",
       "    <tr>\n",
       "      <th>MED_DEBT_PRC_YWZ</th>\n",
       "      <td>320764.0</td>\n",
       "      <td>0.014870</td>\n",
       "      <td>0.114861</td>\n",
       "      <td>0.000000e+00</td>\n",
       "      <td>0.000000</td>\n",
       "      <td>0.000000</td>\n",
       "      <td>0.000000</td>\n",
       "      <td>1.000000e+00</td>\n",
       "    </tr>\n",
       "    <tr>\n",
       "      <th>LDEAL_ACT_DAYS_PCT_TR3</th>\n",
       "      <td>320764.0</td>\n",
       "      <td>0.006779</td>\n",
       "      <td>0.060371</td>\n",
       "      <td>0.000000e+00</td>\n",
       "      <td>0.000000</td>\n",
       "      <td>0.000000</td>\n",
       "      <td>0.000000</td>\n",
       "      <td>1.000000e+00</td>\n",
       "    </tr>\n",
       "    <tr>\n",
       "      <th>LDEAL_ACT_DAYS_PCT_AAVG</th>\n",
       "      <td>320764.0</td>\n",
       "      <td>0.013901</td>\n",
       "      <td>0.100478</td>\n",
       "      <td>0.000000e+00</td>\n",
       "      <td>0.000000</td>\n",
       "      <td>0.000000</td>\n",
       "      <td>0.000000</td>\n",
       "      <td>1.000000e+00</td>\n",
       "    </tr>\n",
       "    <tr>\n",
       "      <th>LDEAL_DELINQ_PER_MAXYWZ</th>\n",
       "      <td>320764.0</td>\n",
       "      <td>0.002580</td>\n",
       "      <td>0.049189</td>\n",
       "      <td>0.000000e+00</td>\n",
       "      <td>0.000000</td>\n",
       "      <td>0.000000</td>\n",
       "      <td>0.000000</td>\n",
       "      <td>1.000000e+00</td>\n",
       "    </tr>\n",
       "    <tr>\n",
       "      <th>TURNOVER_DYNAMIC_CC_3M</th>\n",
       "      <td>320764.0</td>\n",
       "      <td>0.004452</td>\n",
       "      <td>0.060917</td>\n",
       "      <td>0.000000e+00</td>\n",
       "      <td>0.000000</td>\n",
       "      <td>0.000000</td>\n",
       "      <td>0.000000</td>\n",
       "      <td>1.000000e+00</td>\n",
       "    </tr>\n",
       "    <tr>\n",
       "      <th>LDEAL_ACT_DAYS_PCT_TR</th>\n",
       "      <td>320764.0</td>\n",
       "      <td>0.003664</td>\n",
       "      <td>0.050120</td>\n",
       "      <td>0.000000e+00</td>\n",
       "      <td>0.000000</td>\n",
       "      <td>0.000000</td>\n",
       "      <td>0.000000</td>\n",
       "      <td>1.000000e+00</td>\n",
       "    </tr>\n",
       "    <tr>\n",
       "      <th>LDEAL_ACT_DAYS_PCT_TR4</th>\n",
       "      <td>320764.0</td>\n",
       "      <td>0.003664</td>\n",
       "      <td>0.050120</td>\n",
       "      <td>0.000000e+00</td>\n",
       "      <td>0.000000</td>\n",
       "      <td>0.000000</td>\n",
       "      <td>0.000000</td>\n",
       "      <td>1.000000e+00</td>\n",
       "    </tr>\n",
       "    <tr>\n",
       "      <th>LDEAL_ACT_DAYS_PCT_CURR</th>\n",
       "      <td>320764.0</td>\n",
       "      <td>0.003664</td>\n",
       "      <td>0.050120</td>\n",
       "      <td>0.000000e+00</td>\n",
       "      <td>0.000000</td>\n",
       "      <td>0.000000</td>\n",
       "      <td>0.000000</td>\n",
       "      <td>1.000000e+00</td>\n",
       "    </tr>\n",
       "    <tr>\n",
       "      <th>TARGET</th>\n",
       "      <td>320764.0</td>\n",
       "      <td>0.081543</td>\n",
       "      <td>0.273667</td>\n",
       "      <td>0.000000e+00</td>\n",
       "      <td>0.000000</td>\n",
       "      <td>0.000000</td>\n",
       "      <td>0.000000</td>\n",
       "      <td>1.000000e+00</td>\n",
       "    </tr>\n",
       "  </tbody>\n",
       "</table>\n",
       "</div>"
      ],
      "text/plain": [
       "                               count          mean            std  \\\n",
       "AMOUNT_RUB_CLO_PRC          320764.0      0.039427       0.103698   \n",
       "APP_REGISTR_RGN_CODE        320764.0     50.940510       9.004811   \n",
       "TURNOVER_DYNAMIC_IL_1M      320764.0      0.001312       0.029057   \n",
       "CNT_TRAN_AUT_TENDENCY1M     320764.0      0.416497       0.147061   \n",
       "SUM_TRAN_AUT_TENDENCY1M     320764.0      0.414412       0.157373   \n",
       "AMOUNT_RUB_SUP_PRC          320764.0      0.076107       0.137117   \n",
       "SUM_TRAN_AUT_TENDENCY3M     320764.0      0.688782       0.168667   \n",
       "REST_DYNAMIC_FDEP_1M        320764.0      0.000720       0.014273   \n",
       "CNT_TRAN_AUT_TENDENCY3M     320764.0      0.691465       0.154695   \n",
       "REST_DYNAMIC_SAVE_3M        320764.0      0.063789       0.203693   \n",
       "CR_PROD_CNT_VCU             320764.0      0.031481       0.184595   \n",
       "REST_AVG_CUR                320764.0  66162.093082  183563.392555   \n",
       "CNT_TRAN_MED_TENDENCY1M     320764.0      0.444124       0.143058   \n",
       "AMOUNT_RUB_NAS_PRC          320764.0      0.021427       0.086191   \n",
       "TRANS_COUNT_SUP_PRC         320764.0      0.170521       0.194477   \n",
       "CNT_TRAN_CLO_TENDENCY1M     320764.0      0.479673       0.142749   \n",
       "SUM_TRAN_MED_TENDENCY1M     320764.0      0.437011       0.159731   \n",
       "TRANS_COUNT_NAS_PRC         320764.0      0.045444       0.111427   \n",
       "CR_PROD_CNT_TOVR            320764.0      0.310244       0.589396   \n",
       "CR_PROD_CNT_PIL             320764.0      0.057132       0.297015   \n",
       "SUM_TRAN_CLO_TENDENCY1M     320764.0      0.472933       0.156201   \n",
       "TURNOVER_CC                 320764.0    501.147864   12880.016724   \n",
       "TRANS_COUNT_ATM_PRC         320764.0      0.370678       0.324539   \n",
       "AMOUNT_RUB_ATM_PRC          320764.0      0.597960       0.343679   \n",
       "TURNOVER_PAYM               320764.0  14577.066558  149500.164867   \n",
       "AGE                         320764.0    457.107921     136.269921   \n",
       "CNT_TRAN_MED_TENDENCY3M     320764.0      0.701127       0.160897   \n",
       "CR_PROD_CNT_CC              320764.0      0.071657       0.294405   \n",
       "SUM_TRAN_MED_TENDENCY3M     320764.0      0.696431       0.184021   \n",
       "REST_DYNAMIC_FDEP_3M        320764.0      0.003865       0.045203   \n",
       "REST_DYNAMIC_IL_1M          320764.0      0.001664       0.024330   \n",
       "SUM_TRAN_CLO_TENDENCY3M     320764.0      0.697158       0.183439   \n",
       "LDEAL_TENOR_MAX             320764.0     22.367985       2.575161   \n",
       "LDEAL_YQZ_CHRG              320764.0      0.004979       0.000481   \n",
       "CR_PROD_CNT_CCFP            320764.0      0.004901       0.075786   \n",
       "DEAL_YQZ_IR_MAX             320764.0     26.272423       2.218031   \n",
       "LDEAL_YQZ_COM               320764.0      0.073558       0.006256   \n",
       "DEAL_YQZ_IR_MIN             320764.0     25.561635       2.145579   \n",
       "CNT_TRAN_CLO_TENDENCY3M     320764.0      0.700298       0.164816   \n",
       "REST_DYNAMIC_CUR_1M         320764.0      0.212229       0.235844   \n",
       "REST_AVG_PAYM               320764.0   7192.104604   48466.406852   \n",
       "LDEAL_TENOR_MIN             320764.0     15.760973       1.957684   \n",
       "LDEAL_AMT_MONTH             320764.0   1050.021430   38362.106878   \n",
       "LDEAL_GRACE_DAYS_PCT_MED    320764.0      0.001814       0.039407   \n",
       "REST_DYNAMIC_CUR_3M         320764.0      0.498681       0.299257   \n",
       "CNT_TRAN_SUP_TENDENCY3M     320764.0      0.642911       0.200110   \n",
       "TURNOVER_DYNAMIC_CUR_1M     320764.0      0.204061       0.254818   \n",
       "REST_DYNAMIC_PAYM_3M        320764.0      0.076847       0.204462   \n",
       "SUM_TRAN_SUP_TENDENCY3M     320764.0      0.627588       0.220591   \n",
       "REST_DYNAMIC_IL_3M          320764.0      0.005753       0.057576   \n",
       "CNT_TRAN_ATM_TENDENCY3M     320764.0      0.628779       0.223090   \n",
       "CNT_TRAN_ATM_TENDENCY1M     320764.0      0.327133       0.208882   \n",
       "TURNOVER_DYNAMIC_IL_3M      320764.0      0.004064       0.053342   \n",
       "SUM_TRAN_ATM_TENDENCY3M     320764.0      0.618276       0.256707   \n",
       "DEAL_GRACE_DAYS_ACC_S1X1    320764.0      0.005705       0.065272   \n",
       "AVG_PCT_MONTH_TO_PCLOSE     320764.0     -2.555297       0.294458   \n",
       "DEAL_YWZ_IR_MIN             320764.0     37.185120       6.459904   \n",
       "SUM_TRAN_SUP_TENDENCY1M     320764.0      0.328129       0.199672   \n",
       "DEAL_YWZ_IR_MAX             320764.0     39.473565       5.454038   \n",
       "SUM_TRAN_ATM_TENDENCY1M     320764.0      0.321989       0.232758   \n",
       "REST_DYNAMIC_PAYM_1M        320764.0      0.027698       0.097208   \n",
       "CNT_TRAN_SUP_TENDENCY1M     320764.0      0.341151       0.186505   \n",
       "DEAL_GRACE_DAYS_ACC_AVG     320764.0      0.004775       0.061947   \n",
       "TURNOVER_DYNAMIC_CUR_3M     320764.0      0.484422       0.331703   \n",
       "MAX_PCLOSE_DATE             320764.0    -20.791243       2.096204   \n",
       "LDEAL_YQZ_PC                320764.0      0.025069       0.005255   \n",
       "CLNT_SETUP_TENOR            320764.0      4.377489       2.936238   \n",
       "DEAL_GRACE_DAYS_ACC_MAX     320764.0      0.005676       0.074285   \n",
       "TURNOVER_DYNAMIC_PAYM_3M    320764.0      0.072124       0.207083   \n",
       "LDEAL_DELINQ_PER_MAXYQZ     320764.0      0.004494       0.065527   \n",
       "TURNOVER_DYNAMIC_PAYM_1M    320764.0      0.025178       0.104618   \n",
       "CLNT_SALARY_VALUE           320764.0  36623.100475    2656.657265   \n",
       "TRANS_AMOUNT_TENDENCY3M     320764.0      0.582278       0.260631   \n",
       "MED_DEBT_PRC_YQZ            320764.0      0.922748       0.039573   \n",
       "TRANS_CNT_TENDENCY3M        320764.0      0.597442       0.228357   \n",
       "LDEAL_USED_AMT_AVG_YQZ      320764.0      0.010010       0.081553   \n",
       "REST_DYNAMIC_CC_1M          320764.0      0.002243       0.026871   \n",
       "LDEAL_USED_AMT_AVG_YWZ      320764.0      0.900215       0.154273   \n",
       "TURNOVER_DYNAMIC_CC_1M      320764.0      0.000957       0.028629   \n",
       "AVG_PCT_DEBT_TO_DEAL_AMT    320764.0      0.001823       0.078656   \n",
       "LDEAL_ACT_DAYS_ACC_PCT_AVG  320764.0      0.013569       0.073010   \n",
       "REST_DYNAMIC_CC_3M          320764.0      0.007414       0.067032   \n",
       "MED_DEBT_PRC_YWZ            320764.0      0.014870       0.114861   \n",
       "LDEAL_ACT_DAYS_PCT_TR3      320764.0      0.006779       0.060371   \n",
       "LDEAL_ACT_DAYS_PCT_AAVG     320764.0      0.013901       0.100478   \n",
       "LDEAL_DELINQ_PER_MAXYWZ     320764.0      0.002580       0.049189   \n",
       "TURNOVER_DYNAMIC_CC_3M      320764.0      0.004452       0.060917   \n",
       "LDEAL_ACT_DAYS_PCT_TR       320764.0      0.003664       0.050120   \n",
       "LDEAL_ACT_DAYS_PCT_TR4      320764.0      0.003664       0.050120   \n",
       "LDEAL_ACT_DAYS_PCT_CURR     320764.0      0.003664       0.050120   \n",
       "TARGET                      320764.0      0.081543       0.273667   \n",
       "\n",
       "                                     min           25%           50%  \\\n",
       "AMOUNT_RUB_CLO_PRC          0.000000e+00      0.000000      0.000000   \n",
       "APP_REGISTR_RGN_CODE        0.000000e+00     50.940510     50.940510   \n",
       "TURNOVER_DYNAMIC_IL_1M      0.000000e+00      0.000000      0.000000   \n",
       "CNT_TRAN_AUT_TENDENCY1M     6.944444e-03      0.416497      0.416497   \n",
       "SUM_TRAN_AUT_TENDENCY1M     0.000000e+00      0.414412      0.414412   \n",
       "AMOUNT_RUB_SUP_PRC          0.000000e+00      0.000000      0.015898   \n",
       "SUM_TRAN_AUT_TENDENCY3M     4.713157e-06      0.688782      0.688782   \n",
       "REST_DYNAMIC_FDEP_1M        0.000000e+00      0.000000      0.000000   \n",
       "CNT_TRAN_AUT_TENDENCY3M     8.000000e-03      0.691465      0.691465   \n",
       "REST_DYNAMIC_SAVE_3M        0.000000e+00      0.000000      0.000000   \n",
       "CR_PROD_CNT_VCU             0.000000e+00      0.000000      0.000000   \n",
       "REST_AVG_CUR                0.000000e+00   4040.053762  16230.369058   \n",
       "CNT_TRAN_MED_TENDENCY1M     1.030928e-02      0.444124      0.444124   \n",
       "AMOUNT_RUB_NAS_PRC          0.000000e+00      0.000000      0.000000   \n",
       "TRANS_COUNT_SUP_PRC         0.000000e+00      0.000000      0.111111   \n",
       "CNT_TRAN_CLO_TENDENCY1M     1.041667e-02      0.479673      0.479673   \n",
       "SUM_TRAN_MED_TENDENCY1M     0.000000e+00      0.437011      0.437011   \n",
       "TRANS_COUNT_NAS_PRC         0.000000e+00      0.000000      0.000000   \n",
       "CR_PROD_CNT_TOVR            0.000000e+00      0.000000      0.000000   \n",
       "CR_PROD_CNT_PIL             0.000000e+00      0.000000      0.000000   \n",
       "SUM_TRAN_CLO_TENDENCY1M     1.259525e-05      0.472933      0.472933   \n",
       "TURNOVER_CC                 0.000000e+00      0.000000      0.000000   \n",
       "TRANS_COUNT_ATM_PRC         0.000000e+00      0.100000      0.305556   \n",
       "AMOUNT_RUB_ATM_PRC          0.000000e+00      0.328837      0.603443   \n",
       "TURNOVER_PAYM               0.000000e+00      0.000000      0.000000   \n",
       "AGE                         1.680000e+02    348.000000    432.000000   \n",
       "CNT_TRAN_MED_TENDENCY3M     2.173913e-02      0.701127      0.701127   \n",
       "CR_PROD_CNT_CC              0.000000e+00      0.000000      0.000000   \n",
       "SUM_TRAN_MED_TENDENCY3M     0.000000e+00      0.696431      0.696431   \n",
       "REST_DYNAMIC_FDEP_3M        0.000000e+00      0.000000      0.000000   \n",
       "REST_DYNAMIC_IL_1M          0.000000e+00      0.000000      0.000000   \n",
       "SUM_TRAN_CLO_TENDENCY3M     0.000000e+00      0.697158      0.697158   \n",
       "LDEAL_TENOR_MAX             0.000000e+00     22.367985     22.367985   \n",
       "LDEAL_YQZ_CHRG              3.089280e-08      0.004979      0.004979   \n",
       "CR_PROD_CNT_CCFP            0.000000e+00      0.000000      0.000000   \n",
       "DEAL_YQZ_IR_MAX             7.500000e+00     26.272423     26.272423   \n",
       "LDEAL_YQZ_COM               2.866667e-05      0.073558      0.073558   \n",
       "DEAL_YQZ_IR_MIN             7.500000e+00     25.561635     25.561635   \n",
       "CNT_TRAN_CLO_TENDENCY3M     1.960784e-02      0.700298      0.700298   \n",
       "REST_DYNAMIC_CUR_1M         0.000000e+00      0.063443      0.148154   \n",
       "REST_AVG_PAYM               0.000000e+00      0.000000      0.000000   \n",
       "LDEAL_TENOR_MIN             0.000000e+00     15.760973     15.760973   \n",
       "LDEAL_AMT_MONTH             0.000000e+00      0.000000      0.000000   \n",
       "LDEAL_GRACE_DAYS_PCT_MED    0.000000e+00      0.000000      0.000000   \n",
       "REST_DYNAMIC_CUR_3M         0.000000e+00      0.317282      0.493033   \n",
       "CNT_TRAN_SUP_TENDENCY3M     8.695652e-03      0.571429      0.642911   \n",
       "TURNOVER_DYNAMIC_CUR_1M     0.000000e+00      0.014378      0.127396   \n",
       "REST_DYNAMIC_PAYM_3M        0.000000e+00      0.000000      0.000000   \n",
       "SUM_TRAN_SUP_TENDENCY3M     5.072087e-07      0.559588      0.627588   \n",
       "REST_DYNAMIC_IL_3M          0.000000e+00      0.000000      0.000000   \n",
       "CNT_TRAN_ATM_TENDENCY3M     5.524862e-03      0.500000      0.628779   \n",
       "CNT_TRAN_ATM_TENDENCY1M     3.170577e-03      0.200000      0.327133   \n",
       "TURNOVER_DYNAMIC_IL_3M      0.000000e+00      0.000000      0.000000   \n",
       "SUM_TRAN_ATM_TENDENCY3M     5.649000e-05      0.477520      0.618276   \n",
       "DEAL_GRACE_DAYS_ACC_S1X1    0.000000e+00      0.000000      0.000000   \n",
       "AVG_PCT_MONTH_TO_PCLOSE    -3.329032e+01     -2.555297     -2.555297   \n",
       "DEAL_YWZ_IR_MIN             0.000000e+00     37.185120     37.185120   \n",
       "SUM_TRAN_SUP_TENDENCY1M     5.072087e-07      0.251054      0.328129   \n",
       "DEAL_YWZ_IR_MAX             0.000000e+00     39.473565     39.473565   \n",
       "SUM_TRAN_ATM_TENDENCY1M     6.347709e-06      0.172977      0.321989   \n",
       "REST_DYNAMIC_PAYM_1M        0.000000e+00      0.000000      0.000000   \n",
       "CNT_TRAN_SUP_TENDENCY1M     4.255319e-03      0.272727      0.341151   \n",
       "DEAL_GRACE_DAYS_ACC_AVG     0.000000e+00      0.000000      0.000000   \n",
       "TURNOVER_DYNAMIC_CUR_3M     0.000000e+00      0.217064      0.494318   \n",
       "MAX_PCLOSE_DATE            -1.033548e+02    -20.791243    -20.791243   \n",
       "LDEAL_YQZ_PC                7.083333e-08      0.025069      0.025069   \n",
       "CLNT_SETUP_TENOR            3.455925e-01      1.781076      3.902163   \n",
       "DEAL_GRACE_DAYS_ACC_MAX     0.000000e+00      0.000000      0.000000   \n",
       "TURNOVER_DYNAMIC_PAYM_3M    0.000000e+00      0.000000      0.000000   \n",
       "LDEAL_DELINQ_PER_MAXYQZ     0.000000e+00      0.000000      0.000000   \n",
       "TURNOVER_DYNAMIC_PAYM_1M    0.000000e+00      0.000000      0.000000   \n",
       "CLNT_SALARY_VALUE           7.500000e-01  36623.100475  36623.100475   \n",
       "TRANS_AMOUNT_TENDENCY3M     0.000000e+00      0.418107      0.582278   \n",
       "MED_DEBT_PRC_YQZ            0.000000e+00      0.922748      0.922748   \n",
       "TRANS_CNT_TENDENCY3M        5.714286e-03      0.455882      0.597442   \n",
       "LDEAL_USED_AMT_AVG_YQZ      0.000000e+00      0.000000      0.000000   \n",
       "REST_DYNAMIC_CC_1M          0.000000e+00      0.000000      0.000000   \n",
       "LDEAL_USED_AMT_AVG_YWZ      0.000000e+00      0.900215      0.900215   \n",
       "TURNOVER_DYNAMIC_CC_1M      0.000000e+00      0.000000      0.000000   \n",
       "AVG_PCT_DEBT_TO_DEAL_AMT    0.000000e+00      0.000000      0.000000   \n",
       "LDEAL_ACT_DAYS_ACC_PCT_AVG  0.000000e+00      0.000000      0.000000   \n",
       "REST_DYNAMIC_CC_3M          0.000000e+00      0.000000      0.000000   \n",
       "MED_DEBT_PRC_YWZ            0.000000e+00      0.000000      0.000000   \n",
       "LDEAL_ACT_DAYS_PCT_TR3      0.000000e+00      0.000000      0.000000   \n",
       "LDEAL_ACT_DAYS_PCT_AAVG     0.000000e+00      0.000000      0.000000   \n",
       "LDEAL_DELINQ_PER_MAXYWZ     0.000000e+00      0.000000      0.000000   \n",
       "TURNOVER_DYNAMIC_CC_3M      0.000000e+00      0.000000      0.000000   \n",
       "LDEAL_ACT_DAYS_PCT_TR       0.000000e+00      0.000000      0.000000   \n",
       "LDEAL_ACT_DAYS_PCT_TR4      0.000000e+00      0.000000      0.000000   \n",
       "LDEAL_ACT_DAYS_PCT_CURR     0.000000e+00      0.000000      0.000000   \n",
       "TARGET                      0.000000e+00      0.000000      0.000000   \n",
       "\n",
       "                                     75%           max  \n",
       "AMOUNT_RUB_CLO_PRC              0.028669  1.000000e+00  \n",
       "APP_REGISTR_RGN_CODE           50.940510  8.900000e+01  \n",
       "TURNOVER_DYNAMIC_IL_1M          0.000000  1.000000e+00  \n",
       "CNT_TRAN_AUT_TENDENCY1M         0.416497  1.000000e+00  \n",
       "SUM_TRAN_AUT_TENDENCY1M         0.414412  1.000000e+00  \n",
       "AMOUNT_RUB_SUP_PRC              0.095434  1.000000e+00  \n",
       "SUM_TRAN_AUT_TENDENCY3M         0.688782  1.000000e+00  \n",
       "REST_DYNAMIC_FDEP_1M            0.000000  1.000000e+00  \n",
       "CNT_TRAN_AUT_TENDENCY3M         0.691465  1.000000e+00  \n",
       "REST_DYNAMIC_SAVE_3M            0.000000  1.000000e+00  \n",
       "CR_PROD_CNT_VCU                 0.000000  4.000000e+00  \n",
       "REST_AVG_CUR                56696.186750  2.202141e+07  \n",
       "CNT_TRAN_MED_TENDENCY1M         0.444124  1.000000e+00  \n",
       "AMOUNT_RUB_NAS_PRC              0.008018  1.000000e+00  \n",
       "TRANS_COUNT_SUP_PRC             0.285714  1.000000e+00  \n",
       "CNT_TRAN_CLO_TENDENCY1M         0.479673  1.000000e+00  \n",
       "SUM_TRAN_MED_TENDENCY1M         0.437011  1.000000e+00  \n",
       "TRANS_COUNT_NAS_PRC             0.040000  1.000000e+00  \n",
       "CR_PROD_CNT_TOVR                1.000000  1.300000e+01  \n",
       "CR_PROD_CNT_PIL                 0.000000  9.000000e+00  \n",
       "SUM_TRAN_CLO_TENDENCY1M         0.472933  1.000000e+00  \n",
       "TURNOVER_CC                     0.000000  3.753042e+06  \n",
       "TRANS_COUNT_ATM_PRC             0.545455  1.000000e+00  \n",
       "AMOUNT_RUB_ATM_PRC              0.932334  1.000000e+00  \n",
       "TURNOVER_PAYM                   0.000000  4.628044e+07  \n",
       "AGE                           552.000000  1.128000e+03  \n",
       "CNT_TRAN_MED_TENDENCY3M         0.701127  1.000000e+00  \n",
       "CR_PROD_CNT_CC                  0.000000  9.000000e+00  \n",
       "SUM_TRAN_MED_TENDENCY3M         0.696431  1.000000e+00  \n",
       "REST_DYNAMIC_FDEP_3M            0.000000  1.000000e+00  \n",
       "REST_DYNAMIC_IL_1M              0.000000  1.000000e+00  \n",
       "SUM_TRAN_CLO_TENDENCY3M         0.697158  1.000000e+00  \n",
       "LDEAL_TENOR_MAX                22.367985  2.420000e+02  \n",
       "LDEAL_YQZ_CHRG                  0.004979  8.118109e-02  \n",
       "CR_PROD_CNT_CCFP                0.000000  4.000000e+00  \n",
       "DEAL_YQZ_IR_MAX                26.272423  9.400000e+01  \n",
       "LDEAL_YQZ_COM                   0.073558  1.000000e+00  \n",
       "DEAL_YQZ_IR_MIN                25.561635  9.400000e+01  \n",
       "CNT_TRAN_CLO_TENDENCY3M         0.700298  1.000000e+00  \n",
       "REST_DYNAMIC_CUR_1M             0.251843  1.000000e+00  \n",
       "REST_AVG_PAYM                   0.000000  5.798600e+06  \n",
       "LDEAL_TENOR_MIN                15.760973  1.820000e+02  \n",
       "LDEAL_AMT_MONTH                 0.000000  7.337638e+06  \n",
       "LDEAL_GRACE_DAYS_PCT_MED        0.000000  1.000000e+00  \n",
       "REST_DYNAMIC_CUR_3M             0.690833  1.000000e+00  \n",
       "CNT_TRAN_SUP_TENDENCY3M         0.661290  1.000000e+00  \n",
       "TURNOVER_DYNAMIC_CUR_1M         0.255519  1.000000e+00  \n",
       "REST_DYNAMIC_PAYM_3M            0.000000  1.000000e+00  \n",
       "SUM_TRAN_SUP_TENDENCY3M         0.658637  1.000000e+00  \n",
       "REST_DYNAMIC_IL_3M              0.000000  1.000000e+00  \n",
       "CNT_TRAN_ATM_TENDENCY3M         0.722222  1.000000e+00  \n",
       "CNT_TRAN_ATM_TENDENCY1M         0.327133  1.000000e+00  \n",
       "TURNOVER_DYNAMIC_IL_3M          0.000000  1.000000e+00  \n",
       "SUM_TRAN_ATM_TENDENCY3M         0.785654  1.000000e+00  \n",
       "DEAL_GRACE_DAYS_ACC_S1X1        0.000000  4.534014e+00  \n",
       "AVG_PCT_MONTH_TO_PCLOSE        -2.555297  9.677419e-01  \n",
       "DEAL_YWZ_IR_MIN                37.185120  5.990000e+01  \n",
       "SUM_TRAN_SUP_TENDENCY1M         0.328129  1.000000e+00  \n",
       "DEAL_YWZ_IR_MAX                39.473565  5.990000e+01  \n",
       "SUM_TRAN_ATM_TENDENCY1M         0.321989  1.000000e+00  \n",
       "REST_DYNAMIC_PAYM_1M            0.000000  1.000000e+00  \n",
       "CNT_TRAN_SUP_TENDENCY1M         0.341151  1.000000e+00  \n",
       "DEAL_GRACE_DAYS_ACC_AVG         0.000000  4.688776e+00  \n",
       "TURNOVER_DYNAMIC_CUR_3M         0.726228  1.000000e+00  \n",
       "MAX_PCLOSE_DATE               -20.791243  1.121935e+02  \n",
       "LDEAL_YQZ_PC                    0.025069  2.283844e+00  \n",
       "CLNT_SETUP_TENOR                6.555388  1.374894e+01  \n",
       "DEAL_GRACE_DAYS_ACC_MAX         0.000000  9.377551e+00  \n",
       "TURNOVER_DYNAMIC_PAYM_3M        0.000000  1.000000e+00  \n",
       "LDEAL_DELINQ_PER_MAXYQZ         0.000000  1.000000e+00  \n",
       "TURNOVER_DYNAMIC_PAYM_1M        0.000000  1.000000e+00  \n",
       "CLNT_SALARY_VALUE           36623.100475  7.862184e+05  \n",
       "TRANS_AMOUNT_TENDENCY3M         0.750903  1.000000e+00  \n",
       "MED_DEBT_PRC_YQZ                0.922748  1.000000e+00  \n",
       "TRANS_CNT_TENDENCY3M            0.714286  1.000000e+00  \n",
       "LDEAL_USED_AMT_AVG_YQZ          0.000000  1.000000e+00  \n",
       "REST_DYNAMIC_CC_1M              0.000000  1.000000e+00  \n",
       "LDEAL_USED_AMT_AVG_YWZ          0.900215  1.000000e+00  \n",
       "TURNOVER_DYNAMIC_CC_1M          0.000000  1.000000e+00  \n",
       "AVG_PCT_DEBT_TO_DEAL_AMT        0.000000  3.987847e+01  \n",
       "LDEAL_ACT_DAYS_ACC_PCT_AVG      0.000000  1.000000e+00  \n",
       "REST_DYNAMIC_CC_3M              0.000000  1.000000e+00  \n",
       "MED_DEBT_PRC_YWZ                0.000000  1.000000e+00  \n",
       "LDEAL_ACT_DAYS_PCT_TR3          0.000000  1.000000e+00  \n",
       "LDEAL_ACT_DAYS_PCT_AAVG         0.000000  1.000000e+00  \n",
       "LDEAL_DELINQ_PER_MAXYWZ         0.000000  1.000000e+00  \n",
       "TURNOVER_DYNAMIC_CC_3M          0.000000  1.000000e+00  \n",
       "LDEAL_ACT_DAYS_PCT_TR           0.000000  1.000000e+00  \n",
       "LDEAL_ACT_DAYS_PCT_TR4          0.000000  1.000000e+00  \n",
       "LDEAL_ACT_DAYS_PCT_CURR         0.000000  1.000000e+00  \n",
       "TARGET                          0.000000  1.000000e+00  "
      ]
     },
     "execution_count": 17,
     "metadata": {},
     "output_type": "execute_result"
    }
   ],
   "source": [
    "df[float_cols_].describe().T"
   ]
  },
  {
   "cell_type": "code",
   "execution_count": 18,
   "metadata": {
    "ExecuteTime": {
     "end_time": "2020-11-04T12:48:13.412684Z",
     "start_time": "2020-11-04T12:48:13.409554Z"
    }
   },
   "outputs": [],
   "source": [
    "pd.set_option(\"max_rows\", max_rows)"
   ]
  },
  {
   "cell_type": "markdown",
   "metadata": {
    "ExecuteTime": {
     "end_time": "2020-11-04T12:49:50.329302Z",
     "start_time": "2020-11-04T12:49:50.317282Z"
    }
   },
   "source": [
    "Столбцы с целочисленными значениями"
   ]
  },
  {
   "cell_type": "code",
   "execution_count": 19,
   "metadata": {
    "ExecuteTime": {
     "end_time": "2020-11-04T12:48:17.039983Z",
     "start_time": "2020-11-04T12:48:16.798769Z"
    }
   },
   "outputs": [
    {
     "data": {
      "text/html": [
       "<div>\n",
       "<style scoped>\n",
       "    .dataframe tbody tr th:only-of-type {\n",
       "        vertical-align: middle;\n",
       "    }\n",
       "\n",
       "    .dataframe tbody tr th {\n",
       "        vertical-align: top;\n",
       "    }\n",
       "\n",
       "    .dataframe thead th {\n",
       "        text-align: right;\n",
       "    }\n",
       "</style>\n",
       "<table border=\"1\" class=\"dataframe\">\n",
       "  <thead>\n",
       "    <tr style=\"text-align: right;\">\n",
       "      <th></th>\n",
       "      <th>count</th>\n",
       "      <th>mean</th>\n",
       "      <th>std</th>\n",
       "      <th>min</th>\n",
       "      <th>25%</th>\n",
       "      <th>50%</th>\n",
       "      <th>75%</th>\n",
       "      <th>max</th>\n",
       "    </tr>\n",
       "  </thead>\n",
       "  <tbody>\n",
       "    <tr>\n",
       "      <th>Unnamed: 0</th>\n",
       "      <td>320764.0</td>\n",
       "      <td>221981.072125</td>\n",
       "      <td>128175.410883</td>\n",
       "      <td>0.0</td>\n",
       "      <td>110954.75</td>\n",
       "      <td>222028.5</td>\n",
       "      <td>332823.0</td>\n",
       "      <td>443987.0</td>\n",
       "    </tr>\n",
       "    <tr>\n",
       "      <th>ID</th>\n",
       "      <td>320764.0</td>\n",
       "      <td>368822.072125</td>\n",
       "      <td>128175.410883</td>\n",
       "      <td>146841.0</td>\n",
       "      <td>257795.75</td>\n",
       "      <td>368869.5</td>\n",
       "      <td>479664.0</td>\n",
       "      <td>590828.0</td>\n",
       "    </tr>\n",
       "    <tr>\n",
       "      <th>CR_PROD_CNT_IL</th>\n",
       "      <td>320764.0</td>\n",
       "      <td>0.105551</td>\n",
       "      <td>0.430363</td>\n",
       "      <td>0.0</td>\n",
       "      <td>0.00</td>\n",
       "      <td>0.0</td>\n",
       "      <td>0.0</td>\n",
       "      <td>11.0</td>\n",
       "    </tr>\n",
       "  </tbody>\n",
       "</table>\n",
       "</div>"
      ],
      "text/plain": [
       "                   count           mean            std       min        25%  \\\n",
       "Unnamed: 0      320764.0  221981.072125  128175.410883       0.0  110954.75   \n",
       "ID              320764.0  368822.072125  128175.410883  146841.0  257795.75   \n",
       "CR_PROD_CNT_IL  320764.0       0.105551       0.430363       0.0       0.00   \n",
       "\n",
       "                     50%       75%       max  \n",
       "Unnamed: 0      222028.5  332823.0  443987.0  \n",
       "ID              368869.5  479664.0  590828.0  \n",
       "CR_PROD_CNT_IL       0.0       0.0      11.0  "
      ]
     },
     "execution_count": 19,
     "metadata": {},
     "output_type": "execute_result"
    }
   ],
   "source": [
    "df[int_cols].describe().T"
   ]
  },
  {
   "cell_type": "markdown",
   "metadata": {
    "ExecuteTime": {
     "end_time": "2020-11-04T12:50:09.751578Z",
     "start_time": "2020-11-04T12:50:09.747150Z"
    }
   },
   "source": [
    "Столбцы со строковыми значениями\n",
    "\n",
    "В итоге я их не использовал, поэтому никакой обработки категориальных данных не привожу"
   ]
  },
  {
   "cell_type": "code",
   "execution_count": 20,
   "metadata": {
    "ExecuteTime": {
     "end_time": "2020-11-04T12:48:18.285358Z",
     "start_time": "2020-11-04T12:48:17.415762Z"
    }
   },
   "outputs": [
    {
     "data": {
      "text/html": [
       "<div>\n",
       "<style scoped>\n",
       "    .dataframe tbody tr th:only-of-type {\n",
       "        vertical-align: middle;\n",
       "    }\n",
       "\n",
       "    .dataframe tbody tr th {\n",
       "        vertical-align: top;\n",
       "    }\n",
       "\n",
       "    .dataframe thead th {\n",
       "        text-align: right;\n",
       "    }\n",
       "</style>\n",
       "<table border=\"1\" class=\"dataframe\">\n",
       "  <thead>\n",
       "    <tr style=\"text-align: right;\">\n",
       "      <th></th>\n",
       "      <th>count</th>\n",
       "      <th>unique</th>\n",
       "      <th>top</th>\n",
       "      <th>freq</th>\n",
       "    </tr>\n",
       "  </thead>\n",
       "  <tbody>\n",
       "    <tr>\n",
       "      <th>CLNT_TRUST_RELATION</th>\n",
       "      <td>62935</td>\n",
       "      <td>22</td>\n",
       "      <td>FRIEND</td>\n",
       "      <td>22613</td>\n",
       "    </tr>\n",
       "    <tr>\n",
       "      <th>APP_MARITAL_STATUS</th>\n",
       "      <td>61775</td>\n",
       "      <td>13</td>\n",
       "      <td>M</td>\n",
       "      <td>27848</td>\n",
       "    </tr>\n",
       "    <tr>\n",
       "      <th>APP_KIND_OF_PROP_HABITATION</th>\n",
       "      <td>53722</td>\n",
       "      <td>5</td>\n",
       "      <td>SO</td>\n",
       "      <td>25461</td>\n",
       "    </tr>\n",
       "    <tr>\n",
       "      <th>CLNT_JOB_POSITION_TYPE</th>\n",
       "      <td>40522</td>\n",
       "      <td>4</td>\n",
       "      <td>SPECIALIST</td>\n",
       "      <td>22741</td>\n",
       "    </tr>\n",
       "    <tr>\n",
       "      <th>CLNT_JOB_POSITION</th>\n",
       "      <td>190393</td>\n",
       "      <td>19053</td>\n",
       "      <td>ДИРЕКТОР</td>\n",
       "      <td>10075</td>\n",
       "    </tr>\n",
       "    <tr>\n",
       "      <th>APP_DRIVING_LICENSE</th>\n",
       "      <td>51896</td>\n",
       "      <td>2</td>\n",
       "      <td>N</td>\n",
       "      <td>32938</td>\n",
       "    </tr>\n",
       "    <tr>\n",
       "      <th>APP_EDUCATION</th>\n",
       "      <td>61665</td>\n",
       "      <td>17</td>\n",
       "      <td>H</td>\n",
       "      <td>38499</td>\n",
       "    </tr>\n",
       "    <tr>\n",
       "      <th>APP_TRAVEL_PASS</th>\n",
       "      <td>51896</td>\n",
       "      <td>2</td>\n",
       "      <td>N</td>\n",
       "      <td>47829</td>\n",
       "    </tr>\n",
       "    <tr>\n",
       "      <th>APP_CAR</th>\n",
       "      <td>51895</td>\n",
       "      <td>2</td>\n",
       "      <td>N</td>\n",
       "      <td>29760</td>\n",
       "    </tr>\n",
       "    <tr>\n",
       "      <th>APP_POSITION_TYPE</th>\n",
       "      <td>54780</td>\n",
       "      <td>4</td>\n",
       "      <td>SPECIALIST</td>\n",
       "      <td>33154</td>\n",
       "    </tr>\n",
       "    <tr>\n",
       "      <th>APP_EMP_TYPE</th>\n",
       "      <td>60986</td>\n",
       "      <td>4</td>\n",
       "      <td>PRIVATE</td>\n",
       "      <td>53529</td>\n",
       "    </tr>\n",
       "    <tr>\n",
       "      <th>APP_COMP_TYPE</th>\n",
       "      <td>60986</td>\n",
       "      <td>4</td>\n",
       "      <td>PRIVATE</td>\n",
       "      <td>53529</td>\n",
       "    </tr>\n",
       "    <tr>\n",
       "      <th>PACK</th>\n",
       "      <td>320763</td>\n",
       "      <td>12</td>\n",
       "      <td>102</td>\n",
       "      <td>105756</td>\n",
       "    </tr>\n",
       "  </tbody>\n",
       "</table>\n",
       "</div>"
      ],
      "text/plain": [
       "                              count unique         top    freq\n",
       "CLNT_TRUST_RELATION           62935     22      FRIEND   22613\n",
       "APP_MARITAL_STATUS            61775     13           M   27848\n",
       "APP_KIND_OF_PROP_HABITATION   53722      5          SO   25461\n",
       "CLNT_JOB_POSITION_TYPE        40522      4  SPECIALIST   22741\n",
       "CLNT_JOB_POSITION            190393  19053    ДИРЕКТОР   10075\n",
       "APP_DRIVING_LICENSE           51896      2           N   32938\n",
       "APP_EDUCATION                 61665     17           H   38499\n",
       "APP_TRAVEL_PASS               51896      2           N   47829\n",
       "APP_CAR                       51895      2           N   29760\n",
       "APP_POSITION_TYPE             54780      4  SPECIALIST   33154\n",
       "APP_EMP_TYPE                  60986      4     PRIVATE   53529\n",
       "APP_COMP_TYPE                 60986      4     PRIVATE   53529\n",
       "PACK                         320763     12         102  105756"
      ]
     },
     "execution_count": 20,
     "metadata": {},
     "output_type": "execute_result"
    }
   ],
   "source": [
    "df[obj_cols].describe().T"
   ]
  },
  {
   "cell_type": "markdown",
   "metadata": {},
   "source": [
    "# Модель"
   ]
  },
  {
   "cell_type": "markdown",
   "metadata": {},
   "source": [
    "Выделим датасет X со стоблбцами X_cols, на котором будем обучать модель"
   ]
  },
  {
   "cell_type": "code",
   "execution_count": 23,
   "metadata": {
    "ExecuteTime": {
     "end_time": "2020-11-04T12:55:03.914768Z",
     "start_time": "2020-11-04T12:55:03.030938Z"
    }
   },
   "outputs": [
    {
     "name": "stdout",
     "output_type": "stream",
     "text": [
      "Число строк: 320764\n",
      "Число столбцов: 91\n"
     ]
    }
   ],
   "source": [
    "X_cols = ['CR_PROD_CNT_IL']\n",
    "X_cols.extend(float_cols_[:-1])\n",
    "X = df[X_cols]\n",
    "print(\"Число строк: {}\\nЧисло столбцов: {}\".format(*X.shape))"
   ]
  },
  {
   "cell_type": "markdown",
   "metadata": {
    "ExecuteTime": {
     "end_time": "2020-11-04T12:55:30.121272Z",
     "start_time": "2020-11-04T12:55:30.110288Z"
    }
   },
   "source": [
    "Столбец с таргетами"
   ]
  },
  {
   "cell_type": "code",
   "execution_count": 25,
   "metadata": {
    "ExecuteTime": {
     "end_time": "2020-11-04T12:55:35.024227Z",
     "start_time": "2020-11-04T12:55:35.020859Z"
    }
   },
   "outputs": [],
   "source": [
    "y = df['TARGET']\n",
    "# y.shape"
   ]
  },
  {
   "cell_type": "markdown",
   "metadata": {},
   "source": [
    "Разделим датасет на обучающую и отложенную выборку"
   ]
  },
  {
   "cell_type": "code",
   "execution_count": 29,
   "metadata": {
    "ExecuteTime": {
     "end_time": "2020-10-27T23:27:32.412357Z",
     "start_time": "2020-10-27T23:27:32.048921Z"
    }
   },
   "outputs": [],
   "source": [
    "X_train, X_test, y_train, y_test =\\\n",
    "                train_test_split(X, y, test_size=0.25, random_state = 0)"
   ]
  },
  {
   "cell_type": "markdown",
   "metadata": {},
   "source": [
    "Настроим параметры, которые будет перебирать RandomizedSearch для RandomForest"
   ]
  },
  {
   "cell_type": "code",
   "execution_count": 58,
   "metadata": {
    "ExecuteTime": {
     "end_time": "2020-10-28T05:09:56.509775Z",
     "start_time": "2020-10-28T05:09:56.496072Z"
    }
   },
   "outputs": [],
   "source": [
    "# Number of trees in Random Forest\n",
    "rf_n_estimators = [int(x) for x in np.linspace(10, 50, 5)]\n",
    "rf_n_estimators.append(100)\n",
    "# rf_n_estimators.append(2000)\n",
    "\n",
    "# Maximum number of levels in tree\n",
    "rf_max_depth = [int(x) for x in np.linspace(5, 55, 11)]\n",
    "# Add the default as a possible value\n",
    "rf_max_depth.append(None)\n",
    "\n",
    "# Number of features to consider at every split\n",
    "rf_max_features = ['auto', 'sqrt', 'log2']\n",
    "\n",
    "# Criterion to split on\n",
    "rf_criterion = ['mse', 'mae']\n",
    "\n",
    "# Minimum number of samples required to split a node\n",
    "rf_min_samples_split = [int(x) for x in np.linspace(2, 10, 9)]\n",
    "\n",
    "# Minimum decrease in impurity required for split to happen\n",
    "rf_min_impurity_decrease = [0.0, 0.05, 0.1]\n",
    "\n",
    "# Method of selecting samples for training each tree\n",
    "rf_bootstrap = [True, False]\n",
    "\n",
    "# Create the grid\n",
    "rf_grid = {'n_estimators': rf_n_estimators,\n",
    "               'max_depth': rf_max_depth,\n",
    "               'max_features': rf_max_features,\n",
    "#                'criterion': rf_criterion,\n",
    "               'min_samples_split': rf_min_samples_split,\n",
    "               'min_impurity_decrease': rf_min_impurity_decrease,\n",
    "               'bootstrap': rf_bootstrap}"
   ]
  },
  {
   "cell_type": "markdown",
   "metadata": {},
   "source": [
    "Запускаем перебор гиперпараметров (удалил вывод, чтобы не засорять ноутбук)"
   ]
  },
  {
   "cell_type": "code",
   "execution_count": null,
   "metadata": {
    "ExecuteTime": {
     "start_time": "2020-10-28T05:10:06.630Z"
    },
    "scrolled": true
   },
   "outputs": [],
   "source": [
    "# Create the model to be tuned\n",
    "rf_base = RandomForestClassifier(class_weight='balanced')\n",
    "\n",
    "# Create the random search Random Forest\n",
    "rf_random = RandomizedSearchCV(estimator = rf_base, param_distributions = rf_grid, \n",
    "                               n_iter = 200, cv = 5, verbose = 2, random_state = 0, scoring=my_auc,\n",
    "                               n_jobs = 8)\n",
    "\n",
    "# Fit the random search model\n",
    "rf_random.fit(X_train, y_train)\n",
    "\n",
    "# View the best parameters from the random search\n",
    "rf_random.best_params_"
   ]
  },
  {
   "cell_type": "markdown",
   "metadata": {},
   "source": [
    "Оптимальные параметры:"
   ]
  },
  {
   "cell_type": "code",
   "execution_count": 67,
   "metadata": {
    "ExecuteTime": {
     "end_time": "2020-10-28T06:18:03.624783Z",
     "start_time": "2020-10-28T06:18:03.620004Z"
    }
   },
   "outputs": [
    {
     "data": {
      "text/plain": [
       "{'n_estimators': 100,\n",
       " 'min_samples_split': 8,\n",
       " 'min_impurity_decrease': 0.0,\n",
       " 'max_features': 'sqrt',\n",
       " 'max_depth': 55,\n",
       " 'bootstrap': True}"
      ]
     },
     "execution_count": 67,
     "metadata": {},
     "output_type": "execute_result"
    }
   ],
   "source": [
    "rf_random.best_params_"
   ]
  },
  {
   "cell_type": "markdown",
   "metadata": {},
   "source": [
    "Лучший roc-auc на валидации:"
   ]
  },
  {
   "cell_type": "code",
   "execution_count": 61,
   "metadata": {
    "ExecuteTime": {
     "end_time": "2020-10-28T06:15:27.132949Z",
     "start_time": "2020-10-28T06:15:27.127502Z"
    }
   },
   "outputs": [
    {
     "data": {
      "text/plain": [
       "0.829233119959743"
      ]
     },
     "execution_count": 61,
     "metadata": {},
     "output_type": "execute_result"
    }
   ],
   "source": [
    "rf_random.best_score_"
   ]
  },
  {
   "cell_type": "markdown",
   "metadata": {},
   "source": [
    "roc-auc на обучающей выборке:"
   ]
  },
  {
   "cell_type": "code",
   "execution_count": 62,
   "metadata": {
    "ExecuteTime": {
     "end_time": "2020-10-28T06:16:32.003098Z",
     "start_time": "2020-10-28T06:16:17.558781Z"
    }
   },
   "outputs": [
    {
     "data": {
      "text/plain": [
       "0.9996240567189194"
      ]
     },
     "execution_count": 62,
     "metadata": {},
     "output_type": "execute_result"
    }
   ],
   "source": [
    "proba_train = rf_random.best_estimator_.predict_proba(X_train)\n",
    "roc_auc_score(y_train, proba_train[:,1])"
   ]
  },
  {
   "cell_type": "markdown",
   "metadata": {
    "ExecuteTime": {
     "end_time": "2020-11-04T13:00:39.060035Z",
     "start_time": "2020-11-04T13:00:39.049255Z"
    }
   },
   "source": [
    "roc-auc на отложенной выборке:"
   ]
  },
  {
   "cell_type": "code",
   "execution_count": 63,
   "metadata": {
    "ExecuteTime": {
     "end_time": "2020-10-28T06:17:00.252780Z",
     "start_time": "2020-10-28T06:16:56.462526Z"
    }
   },
   "outputs": [
    {
     "data": {
      "text/plain": [
       "0.8333447903067965"
      ]
     },
     "execution_count": 63,
     "metadata": {},
     "output_type": "execute_result"
    }
   ],
   "source": [
    "proba_test = rf_random.best_estimator_.predict_proba(X_test)\n",
    "roc_auc_score(y_test, proba_test[:,1])"
   ]
  },
  {
   "cell_type": "markdown",
   "metadata": {},
   "source": [
    "# Predict"
   ]
  },
  {
   "cell_type": "markdown",
   "metadata": {},
   "source": [
    "Загрузим тестовую выборку"
   ]
  },
  {
   "cell_type": "code",
   "execution_count": 27,
   "metadata": {
    "ExecuteTime": {
     "end_time": "2020-11-04T13:01:17.243746Z",
     "start_time": "2020-11-04T13:01:15.836419Z"
    }
   },
   "outputs": [
    {
     "name": "stdout",
     "output_type": "stream",
     "text": [
      "Число строк: 44399\n",
      "Число столбцов: 116\n"
     ]
    }
   ],
   "source": [
    "filet_path = '/data/share/lab04data/lab04_test.csv'\n",
    "tdf = pd.read_csv(filet_path)\n",
    "print(\"Число строк: {}\\nЧисло столбцов: {}\".format(*tdf.shape))"
   ]
  },
  {
   "cell_type": "markdown",
   "metadata": {},
   "source": [
    "Проделаем те же преобразования, что и при подготовке обучающей выборки\n",
    "\n",
    "Заполняем нулями пропущенные значения у столбцов, мода которых равна 0\n",
    "\n",
    "Заполняем модами пропущенные значения у столбцов, мода которых не равна 0"
   ]
  },
  {
   "cell_type": "code",
   "execution_count": 28,
   "metadata": {
    "ExecuteTime": {
     "end_time": "2020-11-04T13:03:28.923211Z",
     "start_time": "2020-11-04T13:03:28.291321Z"
    }
   },
   "outputs": [],
   "source": [
    "tdf[zero_mode_cols[:-1]] = tdf[zero_mode_cols[:-1]].fillna(0)\n",
    "# Почему-то на сервере scipy.stats.mode считается очень долго, поэтому тут заполнял не модами, а средними\n",
    "for i in nonzero_mode_cols:\n",
    "    tdf[i] = tdf[i].fillna(mean(df[i]))\n",
    "# for i in nonzero_mode_cols:\n",
    "#     tdf[i] = tdf[i].fillna(mode(df[i]).mode[0]) # моды df !!!"
   ]
  },
  {
   "cell_type": "markdown",
   "metadata": {},
   "source": [
    "Выделим необходимые для предикта фичи"
   ]
  },
  {
   "cell_type": "code",
   "execution_count": 29,
   "metadata": {
    "ExecuteTime": {
     "end_time": "2020-11-04T13:04:04.122613Z",
     "start_time": "2020-11-04T13:04:04.103420Z"
    }
   },
   "outputs": [
    {
     "name": "stdout",
     "output_type": "stream",
     "text": [
      "Число строк: 44399\n",
      "Число столбцов: 91\n"
     ]
    }
   ],
   "source": [
    "X_cols = ['CR_PROD_CNT_IL']\n",
    "X_cols.extend(float_cols_[:-1])\n",
    "X_p = tdf[X_cols]\n",
    "print(\"Число строк: {}\\nЧисло столбцов: {}\".format(*X_p.shape))"
   ]
  },
  {
   "cell_type": "markdown",
   "metadata": {},
   "source": [
    "Делаем прогноз на лучшем получившемся классификаторе"
   ]
  },
  {
   "cell_type": "code",
   "execution_count": 72,
   "metadata": {
    "ExecuteTime": {
     "end_time": "2020-10-28T06:22:18.986897Z",
     "start_time": "2020-10-28T06:22:17.077974Z"
    }
   },
   "outputs": [],
   "source": [
    "target = rf_random.best_estimator_.predict_proba(X_p)"
   ]
  },
  {
   "cell_type": "code",
   "execution_count": 76,
   "metadata": {
    "ExecuteTime": {
     "end_time": "2020-10-28T06:23:23.174456Z",
     "start_time": "2020-10-28T06:23:23.162242Z"
    }
   },
   "outputs": [],
   "source": [
    "res = tdf[[\"ID\"]]"
   ]
  },
  {
   "cell_type": "code",
   "execution_count": 79,
   "metadata": {
    "ExecuteTime": {
     "end_time": "2020-10-28T06:23:47.370731Z",
     "start_time": "2020-10-28T06:23:47.160114Z"
    }
   },
   "outputs": [
    {
     "name": "stderr",
     "output_type": "stream",
     "text": [
      "/opt/anaconda/envs/bd9/lib/python3.6/site-packages/ipykernel_launcher.py:1: SettingWithCopyWarning: \n",
      "A value is trying to be set on a copy of a slice from a DataFrame.\n",
      "Try using .loc[row_indexer,col_indexer] = value instead\n",
      "\n",
      "See the caveats in the documentation: http://pandas.pydata.org/pandas-docs/stable/indexing.html#indexing-view-versus-copy\n",
      "  \"\"\"Entry point for launching an IPython kernel.\n"
     ]
    }
   ],
   "source": [
    "res[\"target\"] = target[:,1]"
   ]
  },
  {
   "cell_type": "code",
   "execution_count": 81,
   "metadata": {
    "ExecuteTime": {
     "end_time": "2020-10-28T06:24:05.599787Z",
     "start_time": "2020-10-28T06:24:05.596045Z"
    }
   },
   "outputs": [],
   "source": [
    "res.columns = [\"id\", \"target\"]"
   ]
  },
  {
   "cell_type": "code",
   "execution_count": 83,
   "metadata": {
    "ExecuteTime": {
     "end_time": "2020-10-28T06:24:19.982408Z",
     "start_time": "2020-10-28T06:24:19.972906Z"
    }
   },
   "outputs": [
    {
     "data": {
      "text/html": [
       "<div>\n",
       "<style scoped>\n",
       "    .dataframe tbody tr th:only-of-type {\n",
       "        vertical-align: middle;\n",
       "    }\n",
       "\n",
       "    .dataframe tbody tr th {\n",
       "        vertical-align: top;\n",
       "    }\n",
       "\n",
       "    .dataframe thead th {\n",
       "        text-align: right;\n",
       "    }\n",
       "</style>\n",
       "<table border=\"1\" class=\"dataframe\">\n",
       "  <thead>\n",
       "    <tr style=\"text-align: right;\">\n",
       "      <th></th>\n",
       "      <th>id</th>\n",
       "      <th>target</th>\n",
       "    </tr>\n",
       "  </thead>\n",
       "  <tbody>\n",
       "    <tr>\n",
       "      <th>0</th>\n",
       "      <td>519130</td>\n",
       "      <td>0.500440</td>\n",
       "    </tr>\n",
       "    <tr>\n",
       "      <th>1</th>\n",
       "      <td>234045</td>\n",
       "      <td>0.012965</td>\n",
       "    </tr>\n",
       "    <tr>\n",
       "      <th>2</th>\n",
       "      <td>401256</td>\n",
       "      <td>0.034848</td>\n",
       "    </tr>\n",
       "    <tr>\n",
       "      <th>3</th>\n",
       "      <td>551070</td>\n",
       "      <td>0.053722</td>\n",
       "    </tr>\n",
       "    <tr>\n",
       "      <th>4</th>\n",
       "      <td>367285</td>\n",
       "      <td>0.000000</td>\n",
       "    </tr>\n",
       "  </tbody>\n",
       "</table>\n",
       "</div>"
      ],
      "text/plain": [
       "       id    target\n",
       "0  519130  0.500440\n",
       "1  234045  0.012965\n",
       "2  401256  0.034848\n",
       "3  551070  0.053722\n",
       "4  367285  0.000000"
      ]
     },
     "execution_count": 83,
     "metadata": {},
     "output_type": "execute_result"
    }
   ],
   "source": [
    "res.head()"
   ]
  },
  {
   "cell_type": "markdown",
   "metadata": {},
   "source": [
    "Записываем в файл"
   ]
  },
  {
   "cell_type": "code",
   "execution_count": 85,
   "metadata": {
    "ExecuteTime": {
     "end_time": "2020-10-28T06:25:33.653584Z",
     "start_time": "2020-10-28T06:25:33.325695Z"
    }
   },
   "outputs": [],
   "source": [
    "res.to_csv(\"lab04.csv\", sep='\\t', index=False)"
   ]
  },
  {
   "cell_type": "markdown",
   "metadata": {
    "ExecuteTime": {
     "end_time": "2020-11-04T13:06:14.062659Z",
     "start_time": "2020-11-04T13:06:14.050562Z"
    }
   },
   "source": [
    "Результат: `value of your auc: 0.829503514995`"
   ]
  },
  {
   "cell_type": "markdown",
   "metadata": {},
   "source": [
    "Немного не хватило для суперачивки :)\n",
    "\n",
    "Попробуем теперь обучить модель на всем датасете и посмотрим что получится"
   ]
  },
  {
   "cell_type": "code",
   "execution_count": 31,
   "metadata": {
    "ExecuteTime": {
     "end_time": "2020-11-04T13:07:29.850242Z",
     "start_time": "2020-11-04T13:07:29.845401Z"
    }
   },
   "outputs": [],
   "source": [
    "clf = RandomForestClassifier(class_weight='balanced',n_estimators= 100,\n",
    " min_samples_split=8,\n",
    " min_impurity_decrease=0.0,\n",
    " max_features='sqrt',\n",
    " max_depth=55,\n",
    " bootstrap=True)"
   ]
  },
  {
   "cell_type": "code",
   "execution_count": 32,
   "metadata": {
    "ExecuteTime": {
     "end_time": "2020-11-04T13:10:55.663747Z",
     "start_time": "2020-11-04T13:07:30.275923Z"
    }
   },
   "outputs": [
    {
     "data": {
      "text/plain": [
       "RandomForestClassifier(bootstrap=True, class_weight='balanced',\n",
       "            criterion='gini', max_depth=55, max_features='sqrt',\n",
       "            max_leaf_nodes=None, min_impurity_decrease=0.0,\n",
       "            min_impurity_split=None, min_samples_leaf=1,\n",
       "            min_samples_split=8, min_weight_fraction_leaf=0.0,\n",
       "            n_estimators=100, n_jobs=1, oob_score=False, random_state=None,\n",
       "            verbose=0, warm_start=False)"
      ]
     },
     "execution_count": 32,
     "metadata": {},
     "output_type": "execute_result"
    }
   ],
   "source": [
    "clf.fit(X, y)"
   ]
  },
  {
   "cell_type": "markdown",
   "metadata": {},
   "source": [
    "Делаем прогноз на лучшем получившемся классификаторе"
   ]
  },
  {
   "cell_type": "code",
   "execution_count": 33,
   "metadata": {
    "ExecuteTime": {
     "end_time": "2020-11-04T13:12:08.637470Z",
     "start_time": "2020-11-04T13:12:05.481192Z"
    }
   },
   "outputs": [],
   "source": [
    "target = clf.predict_proba(X_p)"
   ]
  },
  {
   "cell_type": "code",
   "execution_count": 34,
   "metadata": {
    "ExecuteTime": {
     "end_time": "2020-11-04T13:12:09.478648Z",
     "start_time": "2020-11-04T13:12:09.474343Z"
    }
   },
   "outputs": [],
   "source": [
    "res = tdf[[\"ID\"]]"
   ]
  },
  {
   "cell_type": "code",
   "execution_count": 35,
   "metadata": {
    "ExecuteTime": {
     "end_time": "2020-11-04T13:12:10.417726Z",
     "start_time": "2020-11-04T13:12:10.092652Z"
    }
   },
   "outputs": [
    {
     "name": "stderr",
     "output_type": "stream",
     "text": [
      "/opt/anaconda/envs/bd9/lib/python3.6/site-packages/ipykernel_launcher.py:1: SettingWithCopyWarning: \n",
      "A value is trying to be set on a copy of a slice from a DataFrame.\n",
      "Try using .loc[row_indexer,col_indexer] = value instead\n",
      "\n",
      "See the caveats in the documentation: http://pandas.pydata.org/pandas-docs/stable/indexing.html#indexing-view-versus-copy\n",
      "  \"\"\"Entry point for launching an IPython kernel.\n"
     ]
    }
   ],
   "source": [
    "res[\"target\"] = target[:,1]"
   ]
  },
  {
   "cell_type": "code",
   "execution_count": 36,
   "metadata": {
    "ExecuteTime": {
     "end_time": "2020-11-04T13:12:11.298432Z",
     "start_time": "2020-11-04T13:12:11.294464Z"
    }
   },
   "outputs": [],
   "source": [
    "res.columns = [\"id\", \"target\"]"
   ]
  },
  {
   "cell_type": "code",
   "execution_count": 37,
   "metadata": {
    "ExecuteTime": {
     "end_time": "2020-11-04T13:12:11.961918Z",
     "start_time": "2020-11-04T13:12:11.953014Z"
    }
   },
   "outputs": [
    {
     "data": {
      "text/html": [
       "<div>\n",
       "<style scoped>\n",
       "    .dataframe tbody tr th:only-of-type {\n",
       "        vertical-align: middle;\n",
       "    }\n",
       "\n",
       "    .dataframe tbody tr th {\n",
       "        vertical-align: top;\n",
       "    }\n",
       "\n",
       "    .dataframe thead th {\n",
       "        text-align: right;\n",
       "    }\n",
       "</style>\n",
       "<table border=\"1\" class=\"dataframe\">\n",
       "  <thead>\n",
       "    <tr style=\"text-align: right;\">\n",
       "      <th></th>\n",
       "      <th>id</th>\n",
       "      <th>target</th>\n",
       "    </tr>\n",
       "  </thead>\n",
       "  <tbody>\n",
       "    <tr>\n",
       "      <th>0</th>\n",
       "      <td>519130</td>\n",
       "      <td>0.522827</td>\n",
       "    </tr>\n",
       "    <tr>\n",
       "      <th>1</th>\n",
       "      <td>234045</td>\n",
       "      <td>0.000000</td>\n",
       "    </tr>\n",
       "    <tr>\n",
       "      <th>2</th>\n",
       "      <td>401256</td>\n",
       "      <td>0.015559</td>\n",
       "    </tr>\n",
       "    <tr>\n",
       "      <th>3</th>\n",
       "      <td>551070</td>\n",
       "      <td>0.048945</td>\n",
       "    </tr>\n",
       "    <tr>\n",
       "      <th>4</th>\n",
       "      <td>367285</td>\n",
       "      <td>0.000000</td>\n",
       "    </tr>\n",
       "  </tbody>\n",
       "</table>\n",
       "</div>"
      ],
      "text/plain": [
       "       id    target\n",
       "0  519130  0.522827\n",
       "1  234045  0.000000\n",
       "2  401256  0.015559\n",
       "3  551070  0.048945\n",
       "4  367285  0.000000"
      ]
     },
     "execution_count": 37,
     "metadata": {},
     "output_type": "execute_result"
    }
   ],
   "source": [
    "res.head()"
   ]
  },
  {
   "cell_type": "markdown",
   "metadata": {},
   "source": [
    "Записываем в файл"
   ]
  },
  {
   "cell_type": "code",
   "execution_count": 38,
   "metadata": {
    "ExecuteTime": {
     "end_time": "2020-11-04T13:12:17.745015Z",
     "start_time": "2020-11-04T13:12:17.513505Z"
    }
   },
   "outputs": [],
   "source": [
    "res.to_csv(\"lab04s.csv\", sep='\\t', index=False)"
   ]
  },
  {
   "cell_type": "markdown",
   "metadata": {},
   "source": [
    "Результат: `value of your auc: 0.832428125013`"
   ]
  }
 ],
 "metadata": {
  "hide_input": false,
  "kernelspec": {
   "display_name": "Python 3",
   "language": "python",
   "name": "python3"
  },
  "language_info": {
   "codemirror_mode": {
    "name": "ipython",
    "version": 3
   },
   "file_extension": ".py",
   "mimetype": "text/x-python",
   "name": "python",
   "nbconvert_exporter": "python",
   "pygments_lexer": "ipython3",
   "version": "3.6.5"
  },
  "toc": {
   "base_numbering": 1,
   "nav_menu": {},
   "number_sections": true,
   "sideBar": true,
   "skip_h1_title": false,
   "title_cell": "Table of Contents",
   "title_sidebar": "Contents",
   "toc_cell": true,
   "toc_position": {
    "height": "calc(100% - 180px)",
    "left": "10px",
    "top": "150px",
    "width": "384px"
   },
   "toc_section_display": true,
   "toc_window_display": true
  },
  "varInspector": {
   "cols": {
    "lenName": 16,
    "lenType": 16,
    "lenVar": 40
   },
   "kernels_config": {
    "python": {
     "delete_cmd_postfix": "",
     "delete_cmd_prefix": "del ",
     "library": "var_list.py",
     "varRefreshCmd": "print(var_dic_list())"
    },
    "r": {
     "delete_cmd_postfix": ") ",
     "delete_cmd_prefix": "rm(",
     "library": "var_list.r",
     "varRefreshCmd": "cat(var_dic_list()) "
    }
   },
   "types_to_exclude": [
    "module",
    "function",
    "builtin_function_or_method",
    "instance",
    "_Feature"
   ],
   "window_display": false
  }
 },
 "nbformat": 4,
 "nbformat_minor": 2
}
