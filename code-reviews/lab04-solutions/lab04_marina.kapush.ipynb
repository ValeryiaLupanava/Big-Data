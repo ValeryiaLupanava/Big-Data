{
 "cells": [
  {
   "cell_type": "markdown",
   "metadata": {},
   "source": [
    "# Библиотеки и исходный фрейм"
   ]
  },
  {
   "cell_type": "code",
   "execution_count": 47,
   "metadata": {},
   "outputs": [],
   "source": [
    "import numpy as np\n",
    "import matplotlib.pyplot as plt\n",
    "import pandas as pd\n",
    "import re\n",
    "import math\n",
    "\n",
    "import warnings\n",
    "warnings.filterwarnings(\"ignore\")\n",
    "\n",
    "from sklearn.tree import DecisionTreeClassifier, export_graphviz\n",
    "from sklearn.model_selection import train_test_split\n",
    "from sklearn.metrics import precision_score, recall_score,f1_score,accuracy_score,precision_recall_curve,\\\n",
    "roc_curve,roc_auc_score\n",
    "\n",
    "import graphviz\n",
    "import pydotplus"
   ]
  },
  {
   "cell_type": "code",
   "execution_count": 2,
   "metadata": {},
   "outputs": [
    {
     "data": {
      "text/html": [
       "<div>\n",
       "<style scoped>\n",
       "    .dataframe tbody tr th:only-of-type {\n",
       "        vertical-align: middle;\n",
       "    }\n",
       "\n",
       "    .dataframe tbody tr th {\n",
       "        vertical-align: top;\n",
       "    }\n",
       "\n",
       "    .dataframe thead th {\n",
       "        text-align: right;\n",
       "    }\n",
       "</style>\n",
       "<table border=\"1\" class=\"dataframe\">\n",
       "  <thead>\n",
       "    <tr style=\"text-align: right;\">\n",
       "      <th></th>\n",
       "      <th>ID</th>\n",
       "      <th>CR_PROD_CNT_IL</th>\n",
       "      <th>AMOUNT_RUB_CLO_PRC</th>\n",
       "      <th>PRC_ACCEPTS_A_EMAIL_LINK</th>\n",
       "      <th>APP_REGISTR_RGN_CODE</th>\n",
       "      <th>PRC_ACCEPTS_A_POS</th>\n",
       "      <th>PRC_ACCEPTS_A_TK</th>\n",
       "      <th>TURNOVER_DYNAMIC_IL_1M</th>\n",
       "      <th>CNT_TRAN_AUT_TENDENCY1M</th>\n",
       "      <th>SUM_TRAN_AUT_TENDENCY1M</th>\n",
       "      <th>...</th>\n",
       "      <th>REST_DYNAMIC_CC_3M</th>\n",
       "      <th>MED_DEBT_PRC_YWZ</th>\n",
       "      <th>LDEAL_ACT_DAYS_PCT_TR3</th>\n",
       "      <th>LDEAL_ACT_DAYS_PCT_AAVG</th>\n",
       "      <th>LDEAL_DELINQ_PER_MAXYWZ</th>\n",
       "      <th>TURNOVER_DYNAMIC_CC_3M</th>\n",
       "      <th>LDEAL_ACT_DAYS_PCT_TR</th>\n",
       "      <th>LDEAL_ACT_DAYS_PCT_TR4</th>\n",
       "      <th>LDEAL_ACT_DAYS_PCT_CURR</th>\n",
       "      <th>TARGET</th>\n",
       "    </tr>\n",
       "  </thead>\n",
       "  <tbody>\n",
       "    <tr>\n",
       "      <th>0</th>\n",
       "      <td>479990</td>\n",
       "      <td>0</td>\n",
       "      <td>0.0</td>\n",
       "      <td>0.0</td>\n",
       "      <td>NaN</td>\n",
       "      <td>0.0</td>\n",
       "      <td>0.0</td>\n",
       "      <td>0.0</td>\n",
       "      <td>NaN</td>\n",
       "      <td>NaN</td>\n",
       "      <td>...</td>\n",
       "      <td>0.0</td>\n",
       "      <td>0.0</td>\n",
       "      <td>0.0</td>\n",
       "      <td>0.0</td>\n",
       "      <td>0.0</td>\n",
       "      <td>0.0</td>\n",
       "      <td>0.0</td>\n",
       "      <td>0.0</td>\n",
       "      <td>0.0</td>\n",
       "      <td>0.0</td>\n",
       "    </tr>\n",
       "    <tr>\n",
       "      <th>1</th>\n",
       "      <td>450480</td>\n",
       "      <td>0</td>\n",
       "      <td>0.0</td>\n",
       "      <td>0.0</td>\n",
       "      <td>NaN</td>\n",
       "      <td>0.0</td>\n",
       "      <td>0.0</td>\n",
       "      <td>0.0</td>\n",
       "      <td>NaN</td>\n",
       "      <td>NaN</td>\n",
       "      <td>...</td>\n",
       "      <td>0.0</td>\n",
       "      <td>0.0</td>\n",
       "      <td>0.0</td>\n",
       "      <td>0.0</td>\n",
       "      <td>0.0</td>\n",
       "      <td>0.0</td>\n",
       "      <td>0.0</td>\n",
       "      <td>0.0</td>\n",
       "      <td>0.0</td>\n",
       "      <td>0.0</td>\n",
       "    </tr>\n",
       "    <tr>\n",
       "      <th>2</th>\n",
       "      <td>473954</td>\n",
       "      <td>0</td>\n",
       "      <td>0.0</td>\n",
       "      <td>0.0</td>\n",
       "      <td>NaN</td>\n",
       "      <td>0.0</td>\n",
       "      <td>0.0</td>\n",
       "      <td>0.0</td>\n",
       "      <td>NaN</td>\n",
       "      <td>NaN</td>\n",
       "      <td>...</td>\n",
       "      <td>0.0</td>\n",
       "      <td>0.0</td>\n",
       "      <td>0.0</td>\n",
       "      <td>0.0</td>\n",
       "      <td>0.0</td>\n",
       "      <td>0.0</td>\n",
       "      <td>0.0</td>\n",
       "      <td>0.0</td>\n",
       "      <td>0.0</td>\n",
       "      <td>0.0</td>\n",
       "    </tr>\n",
       "    <tr>\n",
       "      <th>3</th>\n",
       "      <td>531038</td>\n",
       "      <td>0</td>\n",
       "      <td>0.0</td>\n",
       "      <td>NaN</td>\n",
       "      <td>NaN</td>\n",
       "      <td>NaN</td>\n",
       "      <td>NaN</td>\n",
       "      <td>0.0</td>\n",
       "      <td>NaN</td>\n",
       "      <td>NaN</td>\n",
       "      <td>...</td>\n",
       "      <td>0.0</td>\n",
       "      <td>NaN</td>\n",
       "      <td>NaN</td>\n",
       "      <td>NaN</td>\n",
       "      <td>NaN</td>\n",
       "      <td>0.0</td>\n",
       "      <td>NaN</td>\n",
       "      <td>NaN</td>\n",
       "      <td>NaN</td>\n",
       "      <td>0.0</td>\n",
       "    </tr>\n",
       "    <tr>\n",
       "      <th>4</th>\n",
       "      <td>349303</td>\n",
       "      <td>0</td>\n",
       "      <td>0.0</td>\n",
       "      <td>0.0</td>\n",
       "      <td>NaN</td>\n",
       "      <td>0.0</td>\n",
       "      <td>0.0</td>\n",
       "      <td>0.0</td>\n",
       "      <td>NaN</td>\n",
       "      <td>NaN</td>\n",
       "      <td>...</td>\n",
       "      <td>0.0</td>\n",
       "      <td>NaN</td>\n",
       "      <td>NaN</td>\n",
       "      <td>NaN</td>\n",
       "      <td>NaN</td>\n",
       "      <td>0.0</td>\n",
       "      <td>NaN</td>\n",
       "      <td>NaN</td>\n",
       "      <td>NaN</td>\n",
       "      <td>0.0</td>\n",
       "    </tr>\n",
       "  </tbody>\n",
       "</table>\n",
       "<p>5 rows × 116 columns</p>\n",
       "</div>"
      ],
      "text/plain": [
       "       ID  CR_PROD_CNT_IL  AMOUNT_RUB_CLO_PRC  PRC_ACCEPTS_A_EMAIL_LINK  \\\n",
       "0  479990               0                 0.0                       0.0   \n",
       "1  450480               0                 0.0                       0.0   \n",
       "2  473954               0                 0.0                       0.0   \n",
       "3  531038               0                 0.0                       NaN   \n",
       "4  349303               0                 0.0                       0.0   \n",
       "\n",
       "   APP_REGISTR_RGN_CODE  PRC_ACCEPTS_A_POS  PRC_ACCEPTS_A_TK  \\\n",
       "0                   NaN                0.0               0.0   \n",
       "1                   NaN                0.0               0.0   \n",
       "2                   NaN                0.0               0.0   \n",
       "3                   NaN                NaN               NaN   \n",
       "4                   NaN                0.0               0.0   \n",
       "\n",
       "   TURNOVER_DYNAMIC_IL_1M  CNT_TRAN_AUT_TENDENCY1M  SUM_TRAN_AUT_TENDENCY1M  \\\n",
       "0                     0.0                      NaN                      NaN   \n",
       "1                     0.0                      NaN                      NaN   \n",
       "2                     0.0                      NaN                      NaN   \n",
       "3                     0.0                      NaN                      NaN   \n",
       "4                     0.0                      NaN                      NaN   \n",
       "\n",
       "   ...    REST_DYNAMIC_CC_3M  MED_DEBT_PRC_YWZ  LDEAL_ACT_DAYS_PCT_TR3  \\\n",
       "0  ...                   0.0               0.0                     0.0   \n",
       "1  ...                   0.0               0.0                     0.0   \n",
       "2  ...                   0.0               0.0                     0.0   \n",
       "3  ...                   0.0               NaN                     NaN   \n",
       "4  ...                   0.0               NaN                     NaN   \n",
       "\n",
       "  LDEAL_ACT_DAYS_PCT_AAVG  LDEAL_DELINQ_PER_MAXYWZ  TURNOVER_DYNAMIC_CC_3M  \\\n",
       "0                     0.0                      0.0                     0.0   \n",
       "1                     0.0                      0.0                     0.0   \n",
       "2                     0.0                      0.0                     0.0   \n",
       "3                     NaN                      NaN                     0.0   \n",
       "4                     NaN                      NaN                     0.0   \n",
       "\n",
       "   LDEAL_ACT_DAYS_PCT_TR  LDEAL_ACT_DAYS_PCT_TR4  LDEAL_ACT_DAYS_PCT_CURR  \\\n",
       "0                    0.0                     0.0                      0.0   \n",
       "1                    0.0                     0.0                      0.0   \n",
       "2                    0.0                     0.0                      0.0   \n",
       "3                    NaN                     NaN                      NaN   \n",
       "4                    NaN                     NaN                      NaN   \n",
       "\n",
       "  TARGET  \n",
       "0    0.0  \n",
       "1    0.0  \n",
       "2    0.0  \n",
       "3    0.0  \n",
       "4    0.0  \n",
       "\n",
       "[5 rows x 116 columns]"
      ]
     },
     "execution_count": 2,
     "metadata": {},
     "output_type": "execute_result"
    }
   ],
   "source": [
    "file_path = '/data/share/lab04data/lab04_train.csv'\n",
    "df = pd.read_csv(file_path)\n",
    "df=df.drop('Unnamed: 0',axis=1)\n",
    "df.head()"
   ]
  },
  {
   "cell_type": "code",
   "execution_count": 3,
   "metadata": {},
   "outputs": [
    {
     "data": {
      "text/plain": [
       "320764"
      ]
     },
     "execution_count": 3,
     "metadata": {},
     "output_type": "execute_result"
    }
   ],
   "source": [
    "len(df)"
   ]
  },
  {
   "cell_type": "markdown",
   "metadata": {},
   "source": [
    "# Задание\n",
    "\n",
    "Для предоставленного вам тестового набора данных lab04_test.csv построить бинарный классификатор вероятного оттока клиентов. Критерий качества оценки – ROC AUC.\n",
    "\n",
    "Выходной файл должен быть расположен в корне вашей домашней директории в файле lab04.csv. Файл должен содержать два поля, разделённых табом, а также шапку: id target.  \n",
    "\n",
    "**Поле id** — идентично тому, что представлено в lab04_test.csv.  \n",
    "**Поле target** — вероятность в пределах [0, 1] того, что данный клиент окажется отточным. Соответственно, 0 означает, что вы полностью уверены, что клиент останется с банком, а 1 — то, что клиент точно окажется в оттоке.\n",
    "\n",
    "Для успешного прохождения лабы вы должны получить ROC AUC не меньше 0.75."
   ]
  },
  {
   "cell_type": "markdown",
   "metadata": {},
   "source": [
    "# Предобработка данных\n",
    "## Чистка пустых строк и \"мусорных\" переменных"
   ]
  },
  {
   "cell_type": "code",
   "execution_count": 6,
   "metadata": {},
   "outputs": [
    {
     "data": {
      "text/html": [
       "<div>\n",
       "<style scoped>\n",
       "    .dataframe tbody tr th:only-of-type {\n",
       "        vertical-align: middle;\n",
       "    }\n",
       "\n",
       "    .dataframe tbody tr th {\n",
       "        vertical-align: top;\n",
       "    }\n",
       "\n",
       "    .dataframe thead th {\n",
       "        text-align: right;\n",
       "    }\n",
       "</style>\n",
       "<table border=\"1\" class=\"dataframe\">\n",
       "  <thead>\n",
       "    <tr style=\"text-align: right;\">\n",
       "      <th></th>\n",
       "      <th>ID</th>\n",
       "      <th>CR_PROD_CNT_IL</th>\n",
       "      <th>AMOUNT_RUB_CLO_PRC</th>\n",
       "      <th>PRC_ACCEPTS_A_EMAIL_LINK</th>\n",
       "      <th>APP_REGISTR_RGN_CODE</th>\n",
       "      <th>PRC_ACCEPTS_A_POS</th>\n",
       "      <th>PRC_ACCEPTS_A_TK</th>\n",
       "      <th>TURNOVER_DYNAMIC_IL_1M</th>\n",
       "      <th>CNT_TRAN_AUT_TENDENCY1M</th>\n",
       "      <th>SUM_TRAN_AUT_TENDENCY1M</th>\n",
       "      <th>...</th>\n",
       "      <th>REST_DYNAMIC_CC_3M</th>\n",
       "      <th>MED_DEBT_PRC_YWZ</th>\n",
       "      <th>LDEAL_ACT_DAYS_PCT_TR3</th>\n",
       "      <th>LDEAL_ACT_DAYS_PCT_AAVG</th>\n",
       "      <th>LDEAL_DELINQ_PER_MAXYWZ</th>\n",
       "      <th>TURNOVER_DYNAMIC_CC_3M</th>\n",
       "      <th>LDEAL_ACT_DAYS_PCT_TR</th>\n",
       "      <th>LDEAL_ACT_DAYS_PCT_TR4</th>\n",
       "      <th>LDEAL_ACT_DAYS_PCT_CURR</th>\n",
       "      <th>TARGET</th>\n",
       "    </tr>\n",
       "  </thead>\n",
       "  <tbody>\n",
       "    <tr>\n",
       "      <th>147382</th>\n",
       "      <td>491971</td>\n",
       "      <td>0</td>\n",
       "      <td>0.017246</td>\n",
       "      <td>NaN</td>\n",
       "      <td>NaN</td>\n",
       "      <td>NaN</td>\n",
       "      <td>NaN</td>\n",
       "      <td>0.0</td>\n",
       "      <td>0.136364</td>\n",
       "      <td>0.107835</td>\n",
       "      <td>...</td>\n",
       "      <td>0.0</td>\n",
       "      <td>NaN</td>\n",
       "      <td>NaN</td>\n",
       "      <td>NaN</td>\n",
       "      <td>NaN</td>\n",
       "      <td>0.0</td>\n",
       "      <td>NaN</td>\n",
       "      <td>NaN</td>\n",
       "      <td>NaN</td>\n",
       "      <td>0.0</td>\n",
       "    </tr>\n",
       "    <tr>\n",
       "      <th>300283</th>\n",
       "      <td>587513</td>\n",
       "      <td>0</td>\n",
       "      <td>0.058532</td>\n",
       "      <td>NaN</td>\n",
       "      <td>NaN</td>\n",
       "      <td>NaN</td>\n",
       "      <td>NaN</td>\n",
       "      <td>0.0</td>\n",
       "      <td>0.437500</td>\n",
       "      <td>0.584533</td>\n",
       "      <td>...</td>\n",
       "      <td>0.0</td>\n",
       "      <td>0.0</td>\n",
       "      <td>0.0</td>\n",
       "      <td>0.0</td>\n",
       "      <td>0.0</td>\n",
       "      <td>0.0</td>\n",
       "      <td>0.0</td>\n",
       "      <td>0.0</td>\n",
       "      <td>0.0</td>\n",
       "      <td>0.0</td>\n",
       "    </tr>\n",
       "    <tr>\n",
       "      <th>34967</th>\n",
       "      <td>207303</td>\n",
       "      <td>0</td>\n",
       "      <td>0.001314</td>\n",
       "      <td>0.0</td>\n",
       "      <td>NaN</td>\n",
       "      <td>0.0</td>\n",
       "      <td>0.0</td>\n",
       "      <td>0.0</td>\n",
       "      <td>NaN</td>\n",
       "      <td>NaN</td>\n",
       "      <td>...</td>\n",
       "      <td>0.0</td>\n",
       "      <td>0.0</td>\n",
       "      <td>0.0</td>\n",
       "      <td>0.0</td>\n",
       "      <td>0.0</td>\n",
       "      <td>0.0</td>\n",
       "      <td>0.0</td>\n",
       "      <td>0.0</td>\n",
       "      <td>0.0</td>\n",
       "      <td>0.0</td>\n",
       "    </tr>\n",
       "    <tr>\n",
       "      <th>124869</th>\n",
       "      <td>584143</td>\n",
       "      <td>0</td>\n",
       "      <td>0.000000</td>\n",
       "      <td>0.0</td>\n",
       "      <td>NaN</td>\n",
       "      <td>0.0</td>\n",
       "      <td>0.0</td>\n",
       "      <td>0.0</td>\n",
       "      <td>NaN</td>\n",
       "      <td>NaN</td>\n",
       "      <td>...</td>\n",
       "      <td>0.0</td>\n",
       "      <td>NaN</td>\n",
       "      <td>NaN</td>\n",
       "      <td>NaN</td>\n",
       "      <td>NaN</td>\n",
       "      <td>0.0</td>\n",
       "      <td>NaN</td>\n",
       "      <td>NaN</td>\n",
       "      <td>NaN</td>\n",
       "      <td>0.0</td>\n",
       "    </tr>\n",
       "    <tr>\n",
       "      <th>118066</th>\n",
       "      <td>511823</td>\n",
       "      <td>0</td>\n",
       "      <td>0.073723</td>\n",
       "      <td>0.0</td>\n",
       "      <td>25.0</td>\n",
       "      <td>0.0</td>\n",
       "      <td>0.0</td>\n",
       "      <td>0.0</td>\n",
       "      <td>NaN</td>\n",
       "      <td>NaN</td>\n",
       "      <td>...</td>\n",
       "      <td>0.0</td>\n",
       "      <td>NaN</td>\n",
       "      <td>NaN</td>\n",
       "      <td>NaN</td>\n",
       "      <td>NaN</td>\n",
       "      <td>0.0</td>\n",
       "      <td>NaN</td>\n",
       "      <td>NaN</td>\n",
       "      <td>NaN</td>\n",
       "      <td>0.0</td>\n",
       "    </tr>\n",
       "  </tbody>\n",
       "</table>\n",
       "<p>5 rows × 116 columns</p>\n",
       "</div>"
      ],
      "text/plain": [
       "            ID  CR_PROD_CNT_IL  AMOUNT_RUB_CLO_PRC  PRC_ACCEPTS_A_EMAIL_LINK  \\\n",
       "147382  491971               0            0.017246                       NaN   \n",
       "300283  587513               0            0.058532                       NaN   \n",
       "34967   207303               0            0.001314                       0.0   \n",
       "124869  584143               0            0.000000                       0.0   \n",
       "118066  511823               0            0.073723                       0.0   \n",
       "\n",
       "        APP_REGISTR_RGN_CODE  PRC_ACCEPTS_A_POS  PRC_ACCEPTS_A_TK  \\\n",
       "147382                   NaN                NaN               NaN   \n",
       "300283                   NaN                NaN               NaN   \n",
       "34967                    NaN                0.0               0.0   \n",
       "124869                   NaN                0.0               0.0   \n",
       "118066                  25.0                0.0               0.0   \n",
       "\n",
       "        TURNOVER_DYNAMIC_IL_1M  CNT_TRAN_AUT_TENDENCY1M  \\\n",
       "147382                     0.0                 0.136364   \n",
       "300283                     0.0                 0.437500   \n",
       "34967                      0.0                      NaN   \n",
       "124869                     0.0                      NaN   \n",
       "118066                     0.0                      NaN   \n",
       "\n",
       "        SUM_TRAN_AUT_TENDENCY1M  ...    REST_DYNAMIC_CC_3M  MED_DEBT_PRC_YWZ  \\\n",
       "147382                 0.107835  ...                   0.0               NaN   \n",
       "300283                 0.584533  ...                   0.0               0.0   \n",
       "34967                       NaN  ...                   0.0               0.0   \n",
       "124869                      NaN  ...                   0.0               NaN   \n",
       "118066                      NaN  ...                   0.0               NaN   \n",
       "\n",
       "        LDEAL_ACT_DAYS_PCT_TR3 LDEAL_ACT_DAYS_PCT_AAVG  \\\n",
       "147382                     NaN                     NaN   \n",
       "300283                     0.0                     0.0   \n",
       "34967                      0.0                     0.0   \n",
       "124869                     NaN                     NaN   \n",
       "118066                     NaN                     NaN   \n",
       "\n",
       "        LDEAL_DELINQ_PER_MAXYWZ  TURNOVER_DYNAMIC_CC_3M  \\\n",
       "147382                      NaN                     0.0   \n",
       "300283                      0.0                     0.0   \n",
       "34967                       0.0                     0.0   \n",
       "124869                      NaN                     0.0   \n",
       "118066                      NaN                     0.0   \n",
       "\n",
       "        LDEAL_ACT_DAYS_PCT_TR  LDEAL_ACT_DAYS_PCT_TR4  \\\n",
       "147382                    NaN                     NaN   \n",
       "300283                    0.0                     0.0   \n",
       "34967                     0.0                     0.0   \n",
       "124869                    NaN                     NaN   \n",
       "118066                    NaN                     NaN   \n",
       "\n",
       "        LDEAL_ACT_DAYS_PCT_CURR TARGET  \n",
       "147382                      NaN    0.0  \n",
       "300283                      0.0    0.0  \n",
       "34967                       0.0    0.0  \n",
       "124869                      NaN    0.0  \n",
       "118066                      NaN    0.0  \n",
       "\n",
       "[5 rows x 116 columns]"
      ]
     },
     "execution_count": 6,
     "metadata": {},
     "output_type": "execute_result"
    }
   ],
   "source": [
    "# Сбалансируем классы \"в лоб\" - возьмем все строки, где таргет = 1 и рандомно, где таргет = 0 \n",
    "\n",
    "targets=df[df.TARGET ==1]\n",
    "Other_set1,other_set2 = train_test_split(\\\n",
    "                                                df[df.TARGET == 0],test_size=0.43,\n",
    "                                                 random_state=10)\n",
    "\n",
    "df2=pd.concat([other_set2,targets])#.iloc[:20000]\n",
    "\n",
    "df2.head()"
   ]
  },
  {
   "cell_type": "code",
   "execution_count": 9,
   "metadata": {},
   "outputs": [
    {
     "data": {
      "text/plain": [
       "116"
      ]
     },
     "execution_count": 9,
     "metadata": {},
     "output_type": "execute_result"
    }
   ],
   "source": [
    "len(df2.columns.tolist())"
   ]
  },
  {
   "cell_type": "code",
   "execution_count": 10,
   "metadata": {},
   "outputs": [],
   "source": [
    "# Если в переменной более 75тыс пустых строк - считаем ее бесполезной и выкидываем\n",
    "\n",
    "for col in (df2.columns.tolist()):\n",
    "    if df2[col].isnull().sum()>75000:\n",
    "        df2=df2.drop(col,axis=1)"
   ]
  },
  {
   "cell_type": "code",
   "execution_count": 11,
   "metadata": {},
   "outputs": [
    {
     "data": {
      "text/plain": [
       "51"
      ]
     },
     "execution_count": 11,
     "metadata": {},
     "output_type": "execute_result"
    }
   ],
   "source": [
    "# Половину переменных удалили\n",
    "\n",
    "len(df2.columns.tolist())"
   ]
  },
  {
   "cell_type": "code",
   "execution_count": 12,
   "metadata": {},
   "outputs": [],
   "source": [
    "# Разделим переменные по типу данных\n",
    "columns_float=[]\n",
    "columns_str=[]\n",
    "columns_bins=[]\n",
    "for i in (df2.columns.tolist()):\n",
    "    if ((df2[i].dtypes=='int64')|(df2[i].dtypes=='float64')) and len(df2[i].dropna().unique())>2:\n",
    "        columns_float.append(i)\n",
    "    elif (df2[i].dtypes=='object'):\n",
    "        columns_str.append(i)\n",
    "    else:\n",
    "        columns_bins.append(i)\n",
    "\n",
    "# Численные переменные заполним средним значением, где пусто\n",
    "for col in columns_float:\n",
    "    df2[col]=df[col].fillna(df[col].dropna().mean())\n",
    "    \n",
    "for col in columns_bins:\n",
    "    df2[col]=df[col].fillna(df[col].dropna().mode())"
   ]
  },
  {
   "cell_type": "code",
   "execution_count": 14,
   "metadata": {
    "scrolled": true
   },
   "outputs": [
    {
     "data": {
      "text/plain": [
       "ID                              0\n",
       "CR_PROD_CNT_IL                  0\n",
       "AMOUNT_RUB_CLO_PRC              0\n",
       "TURNOVER_DYNAMIC_IL_1M          0\n",
       "AMOUNT_RUB_SUP_PRC              0\n",
       "REST_DYNAMIC_FDEP_1M            0\n",
       "REST_DYNAMIC_SAVE_3M            0\n",
       "CR_PROD_CNT_VCU                 0\n",
       "REST_AVG_CUR                    0\n",
       "AMOUNT_RUB_NAS_PRC              0\n",
       "CLNT_JOB_POSITION           62613\n",
       "TRANS_COUNT_SUP_PRC             0\n",
       "TRANS_COUNT_NAS_PRC             0\n",
       "CR_PROD_CNT_TOVR                0\n",
       "CR_PROD_CNT_PIL                 0\n",
       "TURNOVER_CC                     0\n",
       "TRANS_COUNT_ATM_PRC             0\n",
       "AMOUNT_RUB_ATM_PRC              0\n",
       "TURNOVER_PAYM                   0\n",
       "AGE                             0\n",
       "CR_PROD_CNT_CC                  0\n",
       "REST_DYNAMIC_FDEP_3M            0\n",
       "REST_DYNAMIC_IL_1M              0\n",
       "CR_PROD_CNT_CCFP                0\n",
       "REST_DYNAMIC_CUR_1M             0\n",
       "REST_AVG_PAYM                   0\n",
       "LDEAL_GRACE_DAYS_PCT_MED        0\n",
       "REST_DYNAMIC_CUR_3M             0\n",
       "CNT_TRAN_SUP_TENDENCY3M         0\n",
       "TURNOVER_DYNAMIC_CUR_1M         0\n",
       "REST_DYNAMIC_PAYM_3M            0\n",
       "SUM_TRAN_SUP_TENDENCY3M         0\n",
       "REST_DYNAMIC_IL_3M              0\n",
       "CNT_TRAN_ATM_TENDENCY3M         0\n",
       "CNT_TRAN_ATM_TENDENCY1M         0\n",
       "TURNOVER_DYNAMIC_IL_3M          0\n",
       "SUM_TRAN_ATM_TENDENCY3M         0\n",
       "SUM_TRAN_ATM_TENDENCY1M         0\n",
       "REST_DYNAMIC_PAYM_1M            0\n",
       "TURNOVER_DYNAMIC_CUR_3M         0\n",
       "PACK                            0\n",
       "CLNT_SETUP_TENOR                0\n",
       "TURNOVER_DYNAMIC_PAYM_3M        0\n",
       "TURNOVER_DYNAMIC_PAYM_1M        0\n",
       "TRANS_AMOUNT_TENDENCY3M         0\n",
       "TRANS_CNT_TENDENCY3M            0\n",
       "REST_DYNAMIC_CC_1M              0\n",
       "TURNOVER_DYNAMIC_CC_1M          0\n",
       "REST_DYNAMIC_CC_3M              0\n",
       "TURNOVER_DYNAMIC_CC_3M          0\n",
       "TARGET                          0\n",
       "dtype: int64"
      ]
     },
     "execution_count": 14,
     "metadata": {},
     "output_type": "execute_result"
    }
   ],
   "source": [
    "df2.isnull().sum()"
   ]
  },
  {
   "cell_type": "code",
   "execution_count": 15,
   "metadata": {},
   "outputs": [],
   "source": [
    "# Попробуем сделать \"пользовательские\" переменные из текстовой\n",
    "ft_head=[]\n",
    "ft_low=[]\n",
    "ft_free=[]\n",
    "for val in df2['CLNT_JOB_POSITION']:\n",
    "    #x = float('nan')\n",
    "    #print(val,type(val))\n",
    "    if type(val)=='str':\n",
    "        if math.isnan(val):\n",
    "            ft_head.append(0)\n",
    "        elif (re.search('менеджер',str.lower(val)))|(re.search('глав',str.lower(val)))\\\n",
    "        |(re.search('начальни',str.lower(val)))|(re.search('руковод',str.lower(val)))\\\n",
    "        |(re.search('директ',str.lower(val)))|(re.search('зам',str.lower(val))):\n",
    "            ft_head.append(1)\n",
    "        else:\n",
    "            ft_head.append(0)\n",
    "\n",
    "        if math.isnan(val):\n",
    "            ft_low.append(0)\n",
    "        elif (re.search('пенси',str.lower(val)))|(re.search('грузч',str.lower(val)))\\\n",
    "        |(re.search('рабоч',str.lower(val)))|(re.search('продав',str.lower(val)))\\\n",
    "        |(re.search('водит',str.lower(val)))|(re.search('повар',str.lower(val)))\\\n",
    "        |(re.search('студент',str.lower(val)))|(re.search('слесарь',str.lower(val)))\\\n",
    "        |(re.search('техник',str.lower(val)))|(re.search('механик',str.lower(val)))\\\n",
    "        |(re.search('охран',str.lower(val))):\n",
    "            ft_low.append(1)\n",
    "        else:\n",
    "            ft_low.append(0)\n",
    "\n",
    "        if math.isnan(val):\n",
    "            ft_free.append(0)   \n",
    "        elif (re.search('ИП',val))|(re.search('предпринимат',str.lower(val)))\\\n",
    "        |(re.search('учредит',str.lower(val))):\n",
    "            ft_free.append(1)\n",
    "        else:\n",
    "            ft_free.append(0)\n",
    "    else:\n",
    "        ft_head.append(0)\n",
    "        ft_low.append(0)\n",
    "        ft_free.append(0)\n"
   ]
  },
  {
   "cell_type": "code",
   "execution_count": 16,
   "metadata": {},
   "outputs": [],
   "source": [
    "df2=df2.drop('CLNT_JOB_POSITION',1)\n",
    "df2['IS_HEAD_JOB']=ft_head\n",
    "df2['IS_LOW_JOB']=ft_low\n",
    "df2['IS_IP_JOB']=ft_free"
   ]
  },
  {
   "cell_type": "code",
   "execution_count": 17,
   "metadata": {
    "scrolled": true
   },
   "outputs": [],
   "source": [
    "#Т.к в строковой переменной не много уникальных значений - создадим под каждое флаг\n",
    "df2.PACK.unique()\n",
    "t = pd.get_dummies(df2.PACK, prefix='PACK')\n",
    "df2=df2.join(t)\n",
    "df2=df2.drop('PACK',1)"
   ]
  },
  {
   "cell_type": "code",
   "execution_count": 18,
   "metadata": {},
   "outputs": [
    {
     "data": {
      "text/plain": [
       "0.0    126682\n",
       "1.0     26156\n",
       "Name: TARGET, dtype: int64"
      ]
     },
     "execution_count": 18,
     "metadata": {},
     "output_type": "execute_result"
    }
   ],
   "source": [
    "#Попробуем обучить на соотношении 20/80\n",
    "df2.TARGET.value_counts()"
   ]
  },
  {
   "cell_type": "markdown",
   "metadata": {},
   "source": [
    "## Выбор и обучение модели "
   ]
  },
  {
   "cell_type": "code",
   "execution_count": 19,
   "metadata": {},
   "outputs": [],
   "source": [
    "# Разбили фичи и таргет\n",
    "y =df2.TARGET\n",
    "X = df2.drop('TARGET',1)"
   ]
  },
  {
   "cell_type": "code",
   "execution_count": 20,
   "metadata": {
    "scrolled": true
   },
   "outputs": [
    {
     "name": "stdout",
     "output_type": "stream",
     "text": [
      "<class 'pandas.core.frame.DataFrame'>\n",
      "Int64Index: 152838 entries, 147382 to 320761\n",
      "Data columns (total 63 columns):\n",
      "ID                          152838 non-null int64\n",
      "CR_PROD_CNT_IL              152838 non-null int64\n",
      "AMOUNT_RUB_CLO_PRC          152838 non-null float64\n",
      "TURNOVER_DYNAMIC_IL_1M      152838 non-null float64\n",
      "AMOUNT_RUB_SUP_PRC          152838 non-null float64\n",
      "REST_DYNAMIC_FDEP_1M        152838 non-null float64\n",
      "REST_DYNAMIC_SAVE_3M        152838 non-null float64\n",
      "CR_PROD_CNT_VCU             152838 non-null float64\n",
      "REST_AVG_CUR                152838 non-null float64\n",
      "AMOUNT_RUB_NAS_PRC          152838 non-null float64\n",
      "TRANS_COUNT_SUP_PRC         152838 non-null float64\n",
      "TRANS_COUNT_NAS_PRC         152838 non-null float64\n",
      "CR_PROD_CNT_TOVR            152838 non-null float64\n",
      "CR_PROD_CNT_PIL             152838 non-null float64\n",
      "TURNOVER_CC                 152838 non-null float64\n",
      "TRANS_COUNT_ATM_PRC         152838 non-null float64\n",
      "AMOUNT_RUB_ATM_PRC          152838 non-null float64\n",
      "TURNOVER_PAYM               152838 non-null float64\n",
      "AGE                         152838 non-null float64\n",
      "CR_PROD_CNT_CC              152838 non-null float64\n",
      "REST_DYNAMIC_FDEP_3M        152838 non-null float64\n",
      "REST_DYNAMIC_IL_1M          152838 non-null float64\n",
      "CR_PROD_CNT_CCFP            152838 non-null float64\n",
      "REST_DYNAMIC_CUR_1M         152838 non-null float64\n",
      "REST_AVG_PAYM               152838 non-null float64\n",
      "LDEAL_GRACE_DAYS_PCT_MED    152838 non-null float64\n",
      "REST_DYNAMIC_CUR_3M         152838 non-null float64\n",
      "CNT_TRAN_SUP_TENDENCY3M     152838 non-null float64\n",
      "TURNOVER_DYNAMIC_CUR_1M     152838 non-null float64\n",
      "REST_DYNAMIC_PAYM_3M        152838 non-null float64\n",
      "SUM_TRAN_SUP_TENDENCY3M     152838 non-null float64\n",
      "REST_DYNAMIC_IL_3M          152838 non-null float64\n",
      "CNT_TRAN_ATM_TENDENCY3M     152838 non-null float64\n",
      "CNT_TRAN_ATM_TENDENCY1M     152838 non-null float64\n",
      "TURNOVER_DYNAMIC_IL_3M      152838 non-null float64\n",
      "SUM_TRAN_ATM_TENDENCY3M     152838 non-null float64\n",
      "SUM_TRAN_ATM_TENDENCY1M     152838 non-null float64\n",
      "REST_DYNAMIC_PAYM_1M        152838 non-null float64\n",
      "TURNOVER_DYNAMIC_CUR_3M     152838 non-null float64\n",
      "CLNT_SETUP_TENOR            152838 non-null float64\n",
      "TURNOVER_DYNAMIC_PAYM_3M    152838 non-null float64\n",
      "TURNOVER_DYNAMIC_PAYM_1M    152838 non-null float64\n",
      "TRANS_AMOUNT_TENDENCY3M     152838 non-null float64\n",
      "TRANS_CNT_TENDENCY3M        152838 non-null float64\n",
      "REST_DYNAMIC_CC_1M          152838 non-null float64\n",
      "TURNOVER_DYNAMIC_CC_1M      152838 non-null float64\n",
      "REST_DYNAMIC_CC_3M          152838 non-null float64\n",
      "TURNOVER_DYNAMIC_CC_3M      152838 non-null float64\n",
      "IS_HEAD_JOB                 152838 non-null int64\n",
      "IS_LOW_JOB                  152838 non-null int64\n",
      "IS_IP_JOB                   152838 non-null int64\n",
      "PACK_101                    152838 non-null uint8\n",
      "PACK_102                    152838 non-null uint8\n",
      "PACK_103                    152838 non-null uint8\n",
      "PACK_104                    152838 non-null uint8\n",
      "PACK_105                    152838 non-null uint8\n",
      "PACK_107                    152838 non-null uint8\n",
      "PACK_108                    152838 non-null uint8\n",
      "PACK_109                    152838 non-null uint8\n",
      "PACK_301                    152838 non-null uint8\n",
      "PACK_K01                    152838 non-null uint8\n",
      "PACK_M01                    152838 non-null uint8\n",
      "PACK_O01                    152838 non-null uint8\n",
      "dtypes: float64(46), int64(5), uint8(12)\n",
      "memory usage: 67.4 MB\n"
     ]
    }
   ],
   "source": [
    "X.info()"
   ]
  },
  {
   "cell_type": "code",
   "execution_count": null,
   "metadata": {},
   "outputs": [],
   "source": []
  },
  {
   "cell_type": "code",
   "execution_count": 78,
   "metadata": {},
   "outputs": [],
   "source": [
    "# Разбили на train/ test\n",
    "X_train,X_test,y_train,y_test = train_test_split(\\\n",
    "                                                X,y,test_size=0.33,\n",
    "                                                 random_state=10)"
   ]
  },
  {
   "cell_type": "code",
   "execution_count": 79,
   "metadata": {},
   "outputs": [
    {
     "data": {
      "text/plain": [
       "62"
      ]
     },
     "execution_count": 79,
     "metadata": {},
     "output_type": "execute_result"
    }
   ],
   "source": [
    "# Для инфо - кол-во переменных, на которых строим модель\n",
    "len(X_test.drop('ID',1).columns)"
   ]
  },
  {
   "cell_type": "code",
   "execution_count": 92,
   "metadata": {},
   "outputs": [],
   "source": [
    "# Попробуем самое простое - бинароное дерево с максимальной глубиной = 5 и минимальным кол-вом сэмплов в листе = 30\n",
    "model = DecisionTreeClassifier(max_depth=5,min_samples_leaf=30)\n",
    "\n",
    "model.fit(X_train.drop('ID',1),y_train)\n",
    "\n",
    "pred = model.predict_proba(X_test.drop('ID',1))[:,1]"
   ]
  },
  {
   "cell_type": "code",
   "execution_count": 93,
   "metadata": {},
   "outputs": [
    {
     "data": {
      "text/plain": [
       "array([0.03103709, 0.18666873, 0.11669058, ..., 0.09769837, 0.02665976,\n",
       "       0.09769837])"
      ]
     },
     "execution_count": 93,
     "metadata": {},
     "output_type": "execute_result"
    }
   ],
   "source": [
    "pred"
   ]
  },
  {
   "cell_type": "code",
   "execution_count": null,
   "metadata": {},
   "outputs": [],
   "source": []
  },
  {
   "cell_type": "code",
   "execution_count": 82,
   "metadata": {},
   "outputs": [],
   "source": [
    "# В исходном фрейме была 1 битая строка, это был кусок для того, чтобы отловить ее\n",
    "for i in (y_test):\n",
    "    if (i!=0) & (i!=1) :\n",
    "        print(i)"
   ]
  },
  {
   "cell_type": "code",
   "execution_count": 83,
   "metadata": {},
   "outputs": [
    {
     "data": {
      "text/plain": [
       "[<matplotlib.lines.Line2D at 0x7f021d50d438>]"
      ]
     },
     "execution_count": 83,
     "metadata": {},
     "output_type": "execute_result"
    },
    {
     "data": {
      "image/png": "[encoded data removed]",
      "text/plain": [
       "<Figure size 360x360 with 1 Axes>"
      ]
     },
     "metadata": {},
     "output_type": "display_data"
    }
   ],
   "source": [
    "# ROC - кривая\n",
    "fpr,tpr,thresholds = roc_curve (y_test,pred)\n",
    "\n",
    "_,ax =plt.subplots(figsize = (5,5))\n",
    "ax.plot(fpr,tpr)"
   ]
  },
  {
   "cell_type": "markdown",
   "metadata": {},
   "source": [
    "**Метрики**\n",
    "\n",
    "$$\n",
    "Precision = {TP \\over TP + FP}\n",
    "$$\n",
    "\n",
    "$$\n",
    "Recall = {TP \\over TP + FN}\n",
    "$$\n",
    "\n",
    "$$\n",
    "F1 = {2* precision * recall \\over precision + recall}\n",
    "$$\n",
    "\n",
    "$$\n",
    "Accuracy = {TP + TN \\over TP + FN + TN + FP}\n",
    "$$"
   ]
  },
  {
   "cell_type": "code",
   "execution_count": 84,
   "metadata": {},
   "outputs": [
    {
     "data": {
      "text/html": [
       "<div>\n",
       "<style scoped>\n",
       "    .dataframe tbody tr th:only-of-type {\n",
       "        vertical-align: middle;\n",
       "    }\n",
       "\n",
       "    .dataframe tbody tr th {\n",
       "        vertical-align: top;\n",
       "    }\n",
       "\n",
       "    .dataframe thead th {\n",
       "        text-align: right;\n",
       "    }\n",
       "</style>\n",
       "<table border=\"1\" class=\"dataframe\">\n",
       "  <thead>\n",
       "    <tr style=\"text-align: right;\">\n",
       "      <th></th>\n",
       "      <th>TPR</th>\n",
       "      <th>FPR</th>\n",
       "      <th>thresholds</th>\n",
       "    </tr>\n",
       "  </thead>\n",
       "  <tbody>\n",
       "    <tr>\n",
       "      <th>26</th>\n",
       "      <td>0.816423</td>\n",
       "      <td>0.373059</td>\n",
       "      <td>0.122112</td>\n",
       "    </tr>\n",
       "    <tr>\n",
       "      <th>27</th>\n",
       "      <td>0.829395</td>\n",
       "      <td>0.395761</td>\n",
       "      <td>0.120658</td>\n",
       "    </tr>\n",
       "    <tr>\n",
       "      <th>28</th>\n",
       "      <td>0.842483</td>\n",
       "      <td>0.416118</td>\n",
       "      <td>0.116691</td>\n",
       "    </tr>\n",
       "    <tr>\n",
       "      <th>29</th>\n",
       "      <td>0.869354</td>\n",
       "      <td>0.462096</td>\n",
       "      <td>0.098545</td>\n",
       "    </tr>\n",
       "    <tr>\n",
       "      <th>30</th>\n",
       "      <td>0.938731</td>\n",
       "      <td>0.594766</td>\n",
       "      <td>0.097698</td>\n",
       "    </tr>\n",
       "    <tr>\n",
       "      <th>31</th>\n",
       "      <td>0.943479</td>\n",
       "      <td>0.625218</td>\n",
       "      <td>0.031037</td>\n",
       "    </tr>\n",
       "    <tr>\n",
       "      <th>32</th>\n",
       "      <td>1.000000</td>\n",
       "      <td>1.000000</td>\n",
       "      <td>0.026660</td>\n",
       "    </tr>\n",
       "  </tbody>\n",
       "</table>\n",
       "</div>"
      ],
      "text/plain": [
       "         TPR       FPR  thresholds\n",
       "26  0.816423  0.373059    0.122112\n",
       "27  0.829395  0.395761    0.120658\n",
       "28  0.842483  0.416118    0.116691\n",
       "29  0.869354  0.462096    0.098545\n",
       "30  0.938731  0.594766    0.097698\n",
       "31  0.943479  0.625218    0.031037\n",
       "32  1.000000  1.000000    0.026660"
      ]
     },
     "execution_count": 84,
     "metadata": {},
     "output_type": "execute_result"
    }
   ],
   "source": [
    "# Для инфо трешхолды при TRP >=80%\n",
    "answer= pd.DataFrame()\n",
    "answer['TPR']=tpr\n",
    "answer['FPR']=fpr\n",
    "answer['thresholds']=thresholds\n",
    "answer[answer.TPR>=0.8]"
   ]
  },
  {
   "cell_type": "code",
   "execution_count": 85,
   "metadata": {},
   "outputs": [
    {
     "data": {
      "text/plain": [
       "0.7868817163527941"
      ]
     },
     "execution_count": 85,
     "metadata": {},
     "output_type": "execute_result"
    }
   ],
   "source": [
    "# Целевая метрика \n",
    "roc_auc_score(y_test,pred)"
   ]
  },
  {
   "cell_type": "code",
   "execution_count": null,
   "metadata": {},
   "outputs": [],
   "source": []
  },
  {
   "cell_type": "code",
   "execution_count": 86,
   "metadata": {
    "scrolled": true
   },
   "outputs": [
    {
     "data": {
      "text/plain": [
       "REST_AVG_CUR                0.477717\n",
       "REST_DYNAMIC_CUR_1M         0.196033\n",
       "REST_AVG_PAYM               0.092246\n",
       "AMOUNT_RUB_ATM_PRC          0.073177\n",
       "REST_DYNAMIC_PAYM_1M        0.061291\n",
       "CLNT_SETUP_TENOR            0.026032\n",
       "SUM_TRAN_ATM_TENDENCY1M     0.020856\n",
       "TURNOVER_DYNAMIC_CUR_3M     0.019515\n",
       "AMOUNT_RUB_NAS_PRC          0.009910\n",
       "REST_DYNAMIC_CUR_3M         0.007404\n",
       "PACK_K01                    0.007025\n",
       "TRANS_CNT_TENDENCY3M        0.005397\n",
       "TURNOVER_DYNAMIC_PAYM_1M    0.003397\n",
       "Name: 0, dtype: float64"
      ]
     },
     "execution_count": 86,
     "metadata": {},
     "output_type": "execute_result"
    }
   ],
   "source": [
    "# Какие переменные важны\n",
    "ans=pd.DataFrame()\n",
    "ans=pd.DataFrame(\n",
    "        model.feature_importances_, X_test.drop('ID',1).columns\n",
    ")\n",
    "ans.iloc[:,0].sort_values(ascending=False)[ans.iloc[:,0]>0]#.index.tolist"
   ]
  },
  {
   "cell_type": "code",
   "execution_count": 107,
   "metadata": {},
   "outputs": [
    {
     "data": {
      "text/plain": [
       "['REST_AVG_CUR',\n",
       " 'REST_DYNAMIC_CUR_1M',\n",
       " 'REST_AVG_PAYM',\n",
       " 'AMOUNT_RUB_ATM_PRC',\n",
       " 'REST_DYNAMIC_PAYM_1M',\n",
       " 'CLNT_SETUP_TENOR',\n",
       " 'SUM_TRAN_ATM_TENDENCY1M',\n",
       " 'TURNOVER_DYNAMIC_CUR_3M',\n",
       " 'ID']"
      ]
     },
     "execution_count": 107,
     "metadata": {},
     "output_type": "execute_result"
    }
   ],
   "source": [
    "# Важными оказались всего 13 фичей, попробуем обучить модель только на них, причем только на самых важных \n",
    "# и посмотреть на скор\n",
    "featues=[]\n",
    "featues=ans.iloc[:,0].sort_values(ascending=False)[ans.iloc[:,0]>0.01].index.tolist()\n",
    "featues.append('ID')\n",
    "featues"
   ]
  },
  {
   "cell_type": "code",
   "execution_count": 109,
   "metadata": {},
   "outputs": [],
   "source": [
    "model2 = DecisionTreeClassifier(max_depth=5,min_samples_leaf=30)\n",
    "\n",
    "model2.fit(X_train[featues].drop('ID',1),y_train)\n",
    "\n",
    "pred2 = model2.predict_proba(X_test[featues].drop('ID',1))[:,1]"
   ]
  },
  {
   "cell_type": "code",
   "execution_count": 110,
   "metadata": {},
   "outputs": [
    {
     "data": {
      "text/plain": [
       "0.7868345904930133"
      ]
     },
     "execution_count": 110,
     "metadata": {},
     "output_type": "execute_result"
    }
   ],
   "source": [
    "# Ничего :) и ладно\n",
    "roc_auc_score(y_test,pred2)"
   ]
  },
  {
   "cell_type": "code",
   "execution_count": null,
   "metadata": {},
   "outputs": [],
   "source": []
  },
  {
   "cell_type": "markdown",
   "metadata": {},
   "source": [
    "## Визуализация дерева"
   ]
  },
  {
   "cell_type": "code",
   "execution_count": 94,
   "metadata": {},
   "outputs": [
    {
     "data": {
      "text/plain": [
       "True"
      ]
     },
     "execution_count": 94,
     "metadata": {},
     "output_type": "execute_result"
    }
   ],
   "source": [
    "# Export resulting tree to DOT source code string\n",
    "dot_data = export_graphviz(model,\n",
    "                                feature_names=X_train.drop('ID',1).columns,\n",
    "                                out_file=None,\n",
    "                                filled=True,\n",
    "                                rounded=True)\n",
    "\n",
    "pydot_graph = pydotplus.graph_from_dot_data(dot_data)\n",
    "pydot_graph.write_png('original_tree.png')\n",
    "pydot_graph.set_size('\"40,40!\"')\n",
    "pydot_graph.write_png('resized_tree.png')"
   ]
  },
  {
   "cell_type": "markdown",
   "metadata": {},
   "source": [
    "# PREDICT"
   ]
  },
  {
   "cell_type": "code",
   "execution_count": 96,
   "metadata": {},
   "outputs": [],
   "source": [
    "file_path_final='/data/share/lab04data/lab04_test.csv'\n",
    "df_final= pd.read_csv(file_path_final)\n",
    "df_final=df_final.drop('Unnamed: 0',axis=1)"
   ]
  },
  {
   "cell_type": "code",
   "execution_count": 97,
   "metadata": {},
   "outputs": [],
   "source": [
    "df_final.PACK.unique()\n",
    "t = pd.get_dummies(df_final.PACK, prefix='PACK')\n",
    "df_final=df_final.join(t)\n",
    "df_final=df_final.drop('PACK',1)"
   ]
  },
  {
   "cell_type": "code",
   "execution_count": 101,
   "metadata": {},
   "outputs": [],
   "source": [
    "# Для простоты теста - пойдем по второй модели с усеченным списком фичей\n",
    "df_final=df_final[featues]"
   ]
  },
  {
   "cell_type": "code",
   "execution_count": 102,
   "metadata": {},
   "outputs": [],
   "source": [
    "columns_float=[]\n",
    "columns_str=[]\n",
    "columns_bins=[]\n",
    "for i in (df_final.columns.tolist()):\n",
    "    if ((df_final[i].dtypes=='int64')\\\n",
    "        |(df_final[i].dtypes=='float64'))\\\n",
    "    and len(df_final[i].dropna().unique())>2:\n",
    "        columns_float.append(i)\n",
    "    elif (df_final[i].dtypes=='object'):\n",
    "        columns_str.append(i)\n",
    "    else:\n",
    "        columns_bins.append(i)"
   ]
  },
  {
   "cell_type": "code",
   "execution_count": 103,
   "metadata": {},
   "outputs": [],
   "source": [
    "for col in columns_float:\n",
    "    df_final[col]=df_final[col].fillna(df_final[col].dropna().mean())\n",
    "for col in columns_bins:\n",
    "    df_final[col]=df_final[col].fillna(df_final[col].dropna().mean())"
   ]
  },
  {
   "cell_type": "code",
   "execution_count": 104,
   "metadata": {
    "scrolled": true
   },
   "outputs": [
    {
     "data": {
      "text/plain": [
       "REST_AVG_CUR               0\n",
       "REST_DYNAMIC_CUR_1M        0\n",
       "REST_AVG_PAYM              0\n",
       "AMOUNT_RUB_ATM_PRC         0\n",
       "REST_DYNAMIC_PAYM_1M       0\n",
       "CLNT_SETUP_TENOR           0\n",
       "SUM_TRAN_ATM_TENDENCY1M    0\n",
       "TURNOVER_DYNAMIC_CUR_3M    0\n",
       "ID                         0\n",
       "dtype: int64"
      ]
     },
     "execution_count": 104,
     "metadata": {},
     "output_type": "execute_result"
    }
   ],
   "source": [
    "df_final.isnull().sum()"
   ]
  },
  {
   "cell_type": "code",
   "execution_count": 111,
   "metadata": {},
   "outputs": [],
   "source": [
    "pred = model2.predict_proba(df_final.drop('ID',1))[:,1]"
   ]
  },
  {
   "cell_type": "code",
   "execution_count": 112,
   "metadata": {},
   "outputs": [
    {
     "data": {
      "text/plain": [
       "array([0.26031237, 0.02683292, 0.02683292, ..., 0.46189024, 0.14419226,\n",
       "       0.18666873])"
      ]
     },
     "execution_count": 112,
     "metadata": {},
     "output_type": "execute_result"
    }
   ],
   "source": [
    "pred"
   ]
  },
  {
   "cell_type": "code",
   "execution_count": 113,
   "metadata": {},
   "outputs": [],
   "source": [
    "df_final['target']=pred\n",
    "Answer = df_final[['ID','target']]\n",
    "#.join(df2.ID).head()"
   ]
  },
  {
   "cell_type": "code",
   "execution_count": 114,
   "metadata": {},
   "outputs": [
    {
     "data": {
      "text/html": [
       "<div>\n",
       "<style scoped>\n",
       "    .dataframe tbody tr th:only-of-type {\n",
       "        vertical-align: middle;\n",
       "    }\n",
       "\n",
       "    .dataframe tbody tr th {\n",
       "        vertical-align: top;\n",
       "    }\n",
       "\n",
       "    .dataframe thead th {\n",
       "        text-align: right;\n",
       "    }\n",
       "</style>\n",
       "<table border=\"1\" class=\"dataframe\">\n",
       "  <thead>\n",
       "    <tr style=\"text-align: right;\">\n",
       "      <th></th>\n",
       "      <th>ID</th>\n",
       "      <th>target</th>\n",
       "    </tr>\n",
       "  </thead>\n",
       "  <tbody>\n",
       "    <tr>\n",
       "      <th>0</th>\n",
       "      <td>519130</td>\n",
       "      <td>0.260312</td>\n",
       "    </tr>\n",
       "    <tr>\n",
       "      <th>1</th>\n",
       "      <td>234045</td>\n",
       "      <td>0.026833</td>\n",
       "    </tr>\n",
       "    <tr>\n",
       "      <th>2</th>\n",
       "      <td>401256</td>\n",
       "      <td>0.026833</td>\n",
       "    </tr>\n",
       "    <tr>\n",
       "      <th>3</th>\n",
       "      <td>551070</td>\n",
       "      <td>0.031037</td>\n",
       "    </tr>\n",
       "    <tr>\n",
       "      <th>4</th>\n",
       "      <td>367285</td>\n",
       "      <td>0.097698</td>\n",
       "    </tr>\n",
       "  </tbody>\n",
       "</table>\n",
       "</div>"
      ],
      "text/plain": [
       "       ID    target\n",
       "0  519130  0.260312\n",
       "1  234045  0.026833\n",
       "2  401256  0.026833\n",
       "3  551070  0.031037\n",
       "4  367285  0.097698"
      ]
     },
     "execution_count": 114,
     "metadata": {},
     "output_type": "execute_result"
    }
   ],
   "source": [
    "Answer.head()"
   ]
  },
  {
   "cell_type": "code",
   "execution_count": 116,
   "metadata": {},
   "outputs": [],
   "source": [
    "# Save result\n",
    "with open('lab04.csv', 'a') as file:\n",
    "    #file.write('Custom String\\n')\n",
    "    Answer.to_csv(file, header=True, index=False, sep = '\\t')\n",
    "\n",
    "file.close()"
   ]
  },
  {
   "cell_type": "code",
   "execution_count": 117,
   "metadata": {},
   "outputs": [],
   "source": [
    "# Результат 0.78977905293 - даже с учетеом отсутствия каких-либо преобразований и сложных моделей, порог преодолен"
   ]
  }
 ],
 "metadata": {
  "kernelspec": {
   "display_name": "Python 3",
   "language": "python",
   "name": "python3"
  },
  "language_info": {
   "codemirror_mode": {
    "name": "ipython",
    "version": 3
   },
   "file_extension": ".py",
   "mimetype": "text/x-python",
   "name": "python",
   "nbconvert_exporter": "python",
   "pygments_lexer": "ipython3",
   "version": "3.6.5"
  },
  "toc": {
   "base_numbering": 1,
   "nav_menu": {},
   "number_sections": true,
   "sideBar": true,
   "skip_h1_title": false,
   "title_cell": "Table of Contents",
   "title_sidebar": "Contents",
   "toc_cell": false,
   "toc_position": {},
   "toc_section_display": true,
   "toc_window_display": false
  }
 },
 "nbformat": 4,
 "nbformat_minor": 2
}
