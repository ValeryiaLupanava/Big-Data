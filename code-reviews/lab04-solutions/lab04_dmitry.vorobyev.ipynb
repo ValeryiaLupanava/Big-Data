#%% md

### 4 лаба dmitry.vorobyev

#%%

import pandas as pd
import numpy as np
pd.set_option('display.max_columns', 5000) #show all columns for examining data

#%%

print("raw dataset")
df_train_raw = pd.read_csv('data/lab04_train.csv')
print('shape: {0}'.format(df_train_raw.shape))

#%%

print("top records")
df_train_raw.head(3)

#%%

# examine data in rows to get the list of columns to remove
# for c in df_train.columns:
#     print ("---- {0} ---".format(c))
#     print (df_train[c].value_counts())
#     print ('\n')

#%% md

start cleaning values

#%%

# let's remove non-number columns or which have a single value
def prepare_data(data_frame: pd.DataFrame) -> pd.DataFrame:
    drop_columns = ['PRC_ACCEPTS_A_EMAIL_LINK', 'PRC_ACCEPTS_A_POS', 'PRC_ACCEPTS_A_AMOBILE',
                   'CLNT_TRUST_RELATION', 'PRC_ACCEPTS_TK', 'PRC_ACCEPTS_A_MTP', 'CNT_ACCEPTS_TK',
                   'APP_MARITAL_STATUS', 'APP_KIND_OF_PROP_HABITATION', 'CLNT_JOB_POSITION_TYPE',
                   'CLNT_JOB_POSITION', 'APP_EDUCATION', 'PRC_ACCEPTS_A_ATM', 'PRC_ACCEPTS_MTP', 'CNT_ACCEPTS_MTP',
                   'APP_POSITION_TYPE', 'APP_EMP_TYPE', 'LDEAL_YQZ_CHRG', 'APP_COMP_TYPE', 'PACK']
    yn_columns = ['APP_DRIVING_LICENSE', 'APP_TRAVEL_PASS', 'APP_CAR']
    # remove unnecessary columns
    result: pd.DataFrame = data_frame.drop(axis='columns', columns=drop_columns)
    # replace values in YN rows
    for yn_col in yn_columns:
        result[yn_col] = result[yn_col].map({ 'Y': 1, 'N': 0 })
    # replace NaN with zeroes
    result = result.fillna(0)
    return result

#%%

print('cleared data')
df_clean = prepare_data(df_train_raw)
df_clean.head(3)

#%%

# get data for train
df_train_target = df_clean['TARGET']
df_train = df_clean.drop(axis='columns', columns=['TARGET'])

#%%

from sklearn.model_selection import train_test_split
X_train, X_test, y_train, y_test = train_test_split(
    df_train,
    df_train_target,
    test_size=0.33,
    random_state=1
)

from sklearn.ensemble import RandomForestRegressor
lr = RandomForestRegressor(n_estimators=20, max_depth=10, random_state=42)
lr.fit(X_train, y_train)


pred = lr.predict(X_test)

from sklearn.metrics import roc_curve, roc_auc_score
roc_auc_score(y_test, pred)

#%%

# calculate test from csv
df_csv = pd.read_csv('data/lab04_test.csv')
df_csv_cleaned = prepare_data(df_csv)
pred_csv = lr.predict(df_csv_cleaned)
result_csv: pd.DataFrame = df_csv['ID']
result_csv = pd.DataFrame({ 'id': df_csv['ID'], 'target': pred_csv })
result_csv.head()

#%%

result_csv.to_csv('data/lab04s.csv', sep='\t', index=False)
