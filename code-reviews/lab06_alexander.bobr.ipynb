{
 "cells": [
  {
   "cell_type": "markdown",
   "metadata": {
    "toc": true
   },
   "source": [
    "<h1>Table of Contents<span class=\"tocSkip\"></span></h1>\n",
    "<div class=\"toc\"><ul class=\"toc-item\"><li><span><a href=\"#Запуск-Spark\" data-toc-modified-id=\"Запуск-Spark-1\"><span class=\"toc-item-num\">1&nbsp;&nbsp;</span>Запуск Spark</a></span></li><li><span><a href=\"#Обзор\" data-toc-modified-id=\"Обзор-2\"><span class=\"toc-item-num\">2&nbsp;&nbsp;</span>Обзор</a></span></li><li><span><a href=\"#RDD\" data-toc-modified-id=\"RDD-3\"><span class=\"toc-item-num\">3&nbsp;&nbsp;</span>RDD</a></span></li><li><span><a href=\"#hist\" data-toc-modified-id=\"hist-4\"><span class=\"toc-item-num\">4&nbsp;&nbsp;</span>hist</a></span></li><li><span><a href=\"#Завершение\" data-toc-modified-id=\"Завершение-5\"><span class=\"toc-item-num\">5&nbsp;&nbsp;</span>Завершение</a></span></li></ul></div>"
   ]
  },
  {
   "cell_type": "markdown",
   "metadata": {},
   "source": [
    "### Запуск Spark"
   ]
  },
  {
   "cell_type": "code",
   "execution_count": 61,
   "metadata": {
    "ExecuteTime": {
     "end_time": "2020-11-10T21:37:44.760893Z",
     "start_time": "2020-11-10T21:37:44.757753Z"
    }
   },
   "outputs": [],
   "source": [
    "import json"
   ]
  },
  {
   "cell_type": "code",
   "execution_count": 1,
   "metadata": {
    "ExecuteTime": {
     "end_time": "2020-11-10T20:46:55.815849Z",
     "start_time": "2020-11-10T20:46:55.810204Z"
    },
    "scrolled": true
   },
   "outputs": [],
   "source": [
    "import os\n",
    "import sys\n",
    "os.environ[\"PYSPARK_PYTHON\"]='/opt/anaconda/envs/bd9/bin/python'\n",
    "os.environ[\"SPARK_HOME\"]='/usr/hdp/current/spark2-client'\n",
    "os.environ[\"PYSPARK_SUBMIT_ARGS\"]='--num-executors 3 pyspark-shell'\n",
    "\n",
    "spark_home = os.environ.get('SPARK_HOME', None)\n",
    "\n",
    "sys.path.insert(0, os.path.join(spark_home, 'python'))\n",
    "sys.path.insert(0, os.path.join(spark_home, 'python/lib/py4j-0.10.7-src.zip'))"
   ]
  },
  {
   "cell_type": "code",
   "execution_count": 2,
   "metadata": {
    "ExecuteTime": {
     "end_time": "2020-11-10T20:47:14.341284Z",
     "start_time": "2020-11-10T20:47:01.582570Z"
    }
   },
   "outputs": [],
   "source": [
    "from pyspark import SparkContext, SparkConf\n",
    "\n",
    "conf = SparkConf()\n",
    "conf.set(\"spark.app.name\", \"alexander.prutko Spark RDD app\") \n",
    "\n",
    "sc = SparkContext(conf=conf)"
   ]
  },
  {
   "cell_type": "code",
   "execution_count": 3,
   "metadata": {
    "ExecuteTime": {
     "end_time": "2020-11-10T20:47:17.495320Z",
     "start_time": "2020-11-10T20:47:17.481416Z"
    }
   },
   "outputs": [
    {
     "data": {
      "text/html": [
       "\n",
       "        <div>\n",
       "            <p><b>SparkContext</b></p>\n",
       "\n",
       "            <p><a href=\"http://bd-master.newprolab.com:4044\">Spark UI</a></p>\n",
       "\n",
       "            <dl>\n",
       "              <dt>Version</dt>\n",
       "                <dd><code>v2.4.7</code></dd>\n",
       "              <dt>Master</dt>\n",
       "                <dd><code>yarn</code></dd>\n",
       "              <dt>AppName</dt>\n",
       "                <dd><code>alexander.prutko Spark RDD app</code></dd>\n",
       "            </dl>\n",
       "        </div>\n",
       "        "
      ],
      "text/plain": [
       "<SparkContext master=yarn appName=alexander.prutko Spark RDD app>"
      ]
     },
     "execution_count": 3,
     "metadata": {},
     "output_type": "execute_result"
    }
   ],
   "source": [
    "sc"
   ]
  },
  {
   "cell_type": "markdown",
   "metadata": {},
   "source": [
    "### Обзор"
   ]
  },
  {
   "cell_type": "code",
   "execution_count": 4,
   "metadata": {
    "ExecuteTime": {
     "end_time": "2020-11-10T21:00:55.592470Z",
     "start_time": "2020-11-10T21:00:52.235024Z"
    }
   },
   "outputs": [
    {
     "name": "stdout",
     "output_type": "stream",
     "text": [
      "Found 23 items\r\n",
      "-rw-r--r--   2 hdfs hdfs       6403 2020-09-30 12:16 /labs/lab06data/ml-100k/README\r\n",
      "-rw-r--r--   2 hdfs hdfs        716 2020-09-30 12:16 /labs/lab06data/ml-100k/allbut.pl\r\n",
      "-rw-r--r--   2 hdfs hdfs        643 2020-09-30 12:16 /labs/lab06data/ml-100k/mku.sh\r\n",
      "-rw-r--r--   2 hdfs hdfs    1979173 2020-09-30 12:16 /labs/lab06data/ml-100k/u.data\r\n",
      "-rw-r--r--   2 hdfs hdfs        202 2020-09-30 12:16 /labs/lab06data/ml-100k/u.genre\r\n",
      "-rw-r--r--   2 hdfs hdfs         36 2020-09-30 12:16 /labs/lab06data/ml-100k/u.info\r\n",
      "-rw-r--r--   2 hdfs hdfs     236344 2020-09-30 12:16 /labs/lab06data/ml-100k/u.item\r\n",
      "-rw-r--r--   2 hdfs hdfs        193 2020-09-30 12:16 /labs/lab06data/ml-100k/u.occupation\r\n",
      "-rw-r--r--   2 hdfs hdfs      22628 2020-09-30 12:16 /labs/lab06data/ml-100k/u.user\r\n",
      "-rw-r--r--   2 hdfs hdfs    1586544 2020-09-30 12:16 /labs/lab06data/ml-100k/u1.base\r\n",
      "-rw-r--r--   2 hdfs hdfs     392629 2020-09-30 12:16 /labs/lab06data/ml-100k/u1.test\r\n",
      "-rw-r--r--   2 hdfs hdfs    1583948 2020-09-30 12:16 /labs/lab06data/ml-100k/u2.base\r\n",
      "-rw-r--r--   2 hdfs hdfs     395225 2020-09-30 12:16 /labs/lab06data/ml-100k/u2.test\r\n",
      "-rw-r--r--   2 hdfs hdfs    1582546 2020-09-30 12:16 /labs/lab06data/ml-100k/u3.base\r\n",
      "-rw-r--r--   2 hdfs hdfs     396627 2020-09-30 12:16 /labs/lab06data/ml-100k/u3.test\r\n",
      "-rw-r--r--   2 hdfs hdfs    1581878 2020-09-30 12:16 /labs/lab06data/ml-100k/u4.base\r\n",
      "-rw-r--r--   2 hdfs hdfs     397295 2020-09-30 12:16 /labs/lab06data/ml-100k/u4.test\r\n",
      "-rw-r--r--   2 hdfs hdfs    1581776 2020-09-30 12:16 /labs/lab06data/ml-100k/u5.base\r\n",
      "-rw-r--r--   2 hdfs hdfs     397397 2020-09-30 12:16 /labs/lab06data/ml-100k/u5.test\r\n",
      "-rw-r--r--   2 hdfs hdfs    1792501 2020-09-30 12:16 /labs/lab06data/ml-100k/ua.base\r\n",
      "-rw-r--r--   2 hdfs hdfs     186672 2020-09-30 12:16 /labs/lab06data/ml-100k/ua.test\r\n",
      "-rw-r--r--   2 hdfs hdfs    1792476 2020-09-30 12:16 /labs/lab06data/ml-100k/ub.base\r\n",
      "-rw-r--r--   2 hdfs hdfs     186697 2020-09-30 12:16 /labs/lab06data/ml-100k/ub.test\r\n"
     ]
    }
   ],
   "source": [
    "!hdfs dfs -ls /labs/lab06data/ml-100k"
   ]
  },
  {
   "cell_type": "code",
   "execution_count": null,
   "metadata": {
    "ExecuteTime": {
     "end_time": "2020-11-10T21:02:17.412701Z",
     "start_time": "2020-11-10T21:02:14.654657Z"
    },
    "scrolled": false
   },
   "outputs": [],
   "source": [
    "!hdfs dfs -head /labs/lab06data/ml-100k/u.data"
   ]
  },
  {
   "cell_type": "code",
   "execution_count": 18,
   "metadata": {
    "ExecuteTime": {
     "end_time": "2020-11-10T21:09:08.454995Z",
     "start_time": "2020-11-10T21:09:04.198426Z"
    }
   },
   "outputs": [
    {
     "name": "stdout",
     "output_type": "stream",
     "text": [
      "96|Terminator 2: Judgment Day (1991)|01-Jan-1991||http://us.imdb.com/M/title-exact?Terminator%202:%20Judgment%20Day%20(1991)|0|1|0|0|0|0|0|0|0|0|0|0|0|0|0|1|1|0|0\r\n"
     ]
    }
   ],
   "source": [
    "!hdfs dfs -cat /labs/lab06data/ml-100k/u.item | grep -P \"^96\\|\""
   ]
  },
  {
   "cell_type": "markdown",
   "metadata": {},
   "source": [
    "Мне попался \"Терминатор 2: Судный День\""
   ]
  },
  {
   "cell_type": "markdown",
   "metadata": {},
   "source": [
    "### RDD"
   ]
  },
  {
   "cell_type": "code",
   "execution_count": 25,
   "metadata": {
    "ExecuteTime": {
     "end_time": "2020-11-10T21:19:02.822034Z",
     "start_time": "2020-11-10T21:19:02.773504Z"
    }
   },
   "outputs": [],
   "source": [
    "data = sc.textFile(\"/labs/lab06data/ml-100k/u.data\")"
   ]
  },
  {
   "cell_type": "code",
   "execution_count": 27,
   "metadata": {
    "ExecuteTime": {
     "end_time": "2020-11-10T21:19:12.541719Z",
     "start_time": "2020-11-10T21:19:12.537764Z"
    }
   },
   "outputs": [],
   "source": [
    "data_splitted = data.map(lambda x: x.split(\"\\t\"))"
   ]
  },
  {
   "cell_type": "code",
   "execution_count": 28,
   "metadata": {
    "ExecuteTime": {
     "end_time": "2020-11-10T21:19:17.158467Z",
     "start_time": "2020-11-10T21:19:17.068148Z"
    }
   },
   "outputs": [
    {
     "data": {
      "text/plain": [
       "[['196', '242', '3', '881250949'],\n",
       " ['186', '302', '3', '891717742'],\n",
       " ['22', '377', '1', '878887116'],\n",
       " ['244', '51', '2', '880606923'],\n",
       " ['166', '346', '1', '886397596']]"
      ]
     },
     "execution_count": 28,
     "metadata": {},
     "output_type": "execute_result"
    }
   ],
   "source": [
    "data_splitted.take(5)"
   ]
  },
  {
   "cell_type": "markdown",
   "metadata": {},
   "source": [
    "### hist"
   ]
  },
  {
   "cell_type": "code",
   "execution_count": 53,
   "metadata": {
    "ExecuteTime": {
     "end_time": "2020-11-10T21:35:50.268129Z",
     "start_time": "2020-11-10T21:35:49.945372Z"
    }
   },
   "outputs": [],
   "source": [
    "hist_film = (data_splitted.filter(lambda x: x[1] == \"96\")\n",
    "    .map(lambda x: (x[2], 1))\n",
    "    .countByKey()\n",
    "    .items())"
   ]
  },
  {
   "cell_type": "code",
   "execution_count": 57,
   "metadata": {
    "ExecuteTime": {
     "end_time": "2020-11-10T21:36:52.793675Z",
     "start_time": "2020-11-10T21:36:52.289479Z"
    }
   },
   "outputs": [],
   "source": [
    "hist_all = (data_splitted\n",
    "    .map(lambda x: (x[2], 1))\n",
    "    .countByKey()\n",
    "    .items())"
   ]
  },
  {
   "cell_type": "code",
   "execution_count": 64,
   "metadata": {
    "ExecuteTime": {
     "end_time": "2020-11-10T21:41:42.836683Z",
     "start_time": "2020-11-10T21:41:42.829377Z"
    }
   },
   "outputs": [
    {
     "data": {
      "text/plain": [
       "{'hist_film': [6, 20, 43, 123, 103],\n",
       " 'hist_all': [6110, 11370, 27145, 34174, 21201]}"
      ]
     },
     "execution_count": 64,
     "metadata": {},
     "output_type": "execute_result"
    }
   ],
   "source": [
    "result = {\"hist_film\": [i[1] for i in sorted(hist_film, key=lambda x: x[0])],\n",
    "          \"hist_all\" : [i[1] for i in sorted(hist_all,  key=lambda x: x[0])]}\n",
    "result"
   ]
  },
  {
   "cell_type": "code",
   "execution_count": 66,
   "metadata": {
    "ExecuteTime": {
     "end_time": "2020-11-10T21:42:51.807709Z",
     "start_time": "2020-11-10T21:42:51.803699Z"
    }
   },
   "outputs": [],
   "source": [
    "with open(\"lab06.json\", \"w\") as f:\n",
    "    f.write(json.dumps(result))"
   ]
  },
  {
   "cell_type": "markdown",
   "metadata": {},
   "source": [
    "### Завершение"
   ]
  },
  {
   "cell_type": "code",
   "execution_count": 67,
   "metadata": {
    "ExecuteTime": {
     "end_time": "2020-11-10T21:46:11.335522Z",
     "start_time": "2020-11-10T21:46:10.741800Z"
    }
   },
   "outputs": [],
   "source": [
    "sc.stop()"
   ]
  },
  {
   "cell_type": "markdown",
   "metadata": {},
   "source": [
    "## Code review"
   ]
  },
  {
   "cell_type": "code",
   "execution_count": null,
   "metadata": {},
   "outputs": [],
   "source": [
    "Всё чётко и лаконично.\n",
    "Единственное можно было data_splitted не выделять в отдельную переменную, а сразу добавить map в hist_film/hist_all:\n",
    "data_splitted = data.map(lambda x: x.split(\"\\t\"))\n",
    "+\n",
    "hist_film = (data_splitted.filter(lambda x: x[1] == \"96\")\n",
    "    .map(lambda x: (x[2], 1))\n",
    "    .countByKey()\n",
    "    .items())\n",
    "\n",
    "Превращаем в:\n",
    "hist_film = (data.map(lambda x: x.split(\"\\t\"))\n",
    "                 .filter(lambda x: x[1] == \"96\")\n",
    "                 .map(lambda x: (x[2], 1))\n",
    "                 .countByKey()\n",
    "                 .items())\n",
    "\n",
    "Но это чисто косметика."
   ]
  }
 ],
 "metadata": {
  "hide_input": false,
  "kernelspec": {
   "display_name": "Python 3",
   "language": "python",
   "name": "python3"
  },
  "language_info": {
   "codemirror_mode": {
    "name": "ipython",
    "version": 3
   },
   "file_extension": ".py",
   "mimetype": "text/x-python",
   "name": "python",
   "nbconvert_exporter": "python",
   "pygments_lexer": "ipython3",
   "version": "3.6.5"
  },
  "toc": {
   "base_numbering": 1,
   "nav_menu": {},
   "number_sections": true,
   "sideBar": true,
   "skip_h1_title": false,
   "title_cell": "Table of Contents",
   "title_sidebar": "Contents",
   "toc_cell": true,
   "toc_position": {},
   "toc_section_display": true,
   "toc_window_display": true
  },
  "varInspector": {
   "cols": {
    "lenName": 16,
    "lenType": 16,
    "lenVar": 40
   },
   "kernels_config": {
    "python": {
     "delete_cmd_postfix": "",
     "delete_cmd_prefix": "del ",
     "library": "var_list.py",
     "varRefreshCmd": "print(var_dic_list())"
    },
    "r": {
     "delete_cmd_postfix": ") ",
     "delete_cmd_prefix": "rm(",
     "library": "var_list.r",
     "varRefreshCmd": "cat(var_dic_list()) "
    }
   },
   "types_to_exclude": [
    "module",
    "function",
    "builtin_function_or_method",
    "instance",
    "_Feature"
   ],
   "window_display": false
  }
 },
 "nbformat": 4,
 "nbformat_minor": 2
}
