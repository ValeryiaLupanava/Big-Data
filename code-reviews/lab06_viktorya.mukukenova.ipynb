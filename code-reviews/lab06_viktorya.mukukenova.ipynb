{
 "cells": [
  {
   "cell_type": "code",
   "execution_count": 1,
   "metadata": {},
   "outputs": [],
   "source": [
    "import os\n",
    "import sys\n",
    "os.environ[\"PYSPARK_PYTHON\"]='/opt/anaconda/envs/bd9/bin/python'\n",
    "os.environ[\"SPARK_HOME\"]='/usr/hdp/current/spark2-client'\n",
    "os.environ[\"PYSPARK_SUBMIT_ARGS\"]='--num-executors 3 pyspark-shell'\n",
    "\n",
    "spark_home = os.environ.get('SPARK_HOME', None)\n",
    "\n",
    "sys.path.insert(0, os.path.join(spark_home, 'python'))\n",
    "sys.path.insert(0, os.path.join(spark_home, 'python/lib/py4j-0.10.7-src.zip'))"
   ]
  },
  {
   "cell_type": "code",
   "execution_count": 2,
   "metadata": {},
   "outputs": [
    {
     "data": {
      "text/html": [
       "\n",
       "            <div>\n",
       "                <p><b>SparkSession - in-memory</b></p>\n",
       "                \n",
       "        <div>\n",
       "            <p><b>SparkContext</b></p>\n",
       "\n",
       "            <p><a href=\"http://bd-master.newprolab.com:4047\">Spark UI</a></p>\n",
       "\n",
       "            <dl>\n",
       "              <dt>Version</dt>\n",
       "                <dd><code>v2.4.7</code></dd>\n",
       "              <dt>Master</dt>\n",
       "                <dd><code>yarn</code></dd>\n",
       "              <dt>AppName</dt>\n",
       "                <dd><code>alexander.alexandrov</code></dd>\n",
       "            </dl>\n",
       "        </div>\n",
       "        \n",
       "            </div>\n",
       "        "
      ],
      "text/plain": [
       "<pyspark.sql.session.SparkSession at 0x7f5b74f69e10>"
      ]
     },
     "execution_count": 2,
     "metadata": {},
     "output_type": "execute_result"
    }
   ],
   "source": [
    "from pyspark.sql import SparkSession\n",
    "\n",
    "spark = SparkSession.builder.appName(\"alexander.alexandrov\").getOrCreate()\n",
    "sc = spark.sparkContext\n",
    "\n",
    "spark"
   ]
  },
  {
   "cell_type": "code",
   "execution_count": 3,
   "metadata": {},
   "outputs": [
    {
     "name": "stdout",
     "output_type": "stream",
     "text": [
      "Found 23 items\r\n",
      "-rw-r--r--   2 hdfs hdfs       6403 2020-09-30 12:16 /labs/lab06data/ml-100k/README\r\n",
      "-rw-r--r--   2 hdfs hdfs        716 2020-09-30 12:16 /labs/lab06data/ml-100k/allbut.pl\r\n",
      "-rw-r--r--   2 hdfs hdfs        643 2020-09-30 12:16 /labs/lab06data/ml-100k/mku.sh\r\n",
      "-rw-r--r--   2 hdfs hdfs    1979173 2020-09-30 12:16 /labs/lab06data/ml-100k/u.data\r\n",
      "-rw-r--r--   2 hdfs hdfs        202 2020-09-30 12:16 /labs/lab06data/ml-100k/u.genre\r\n",
      "-rw-r--r--   2 hdfs hdfs         36 2020-09-30 12:16 /labs/lab06data/ml-100k/u.info\r\n",
      "-rw-r--r--   2 hdfs hdfs     236344 2020-09-30 12:16 /labs/lab06data/ml-100k/u.item\r\n",
      "-rw-r--r--   2 hdfs hdfs        193 2020-09-30 12:16 /labs/lab06data/ml-100k/u.occupation\r\n",
      "-rw-r--r--   2 hdfs hdfs      22628 2020-09-30 12:16 /labs/lab06data/ml-100k/u.user\r\n",
      "-rw-r--r--   2 hdfs hdfs    1586544 2020-09-30 12:16 /labs/lab06data/ml-100k/u1.base\r\n",
      "-rw-r--r--   2 hdfs hdfs     392629 2020-09-30 12:16 /labs/lab06data/ml-100k/u1.test\r\n",
      "-rw-r--r--   2 hdfs hdfs    1583948 2020-09-30 12:16 /labs/lab06data/ml-100k/u2.base\r\n",
      "-rw-r--r--   2 hdfs hdfs     395225 2020-09-30 12:16 /labs/lab06data/ml-100k/u2.test\r\n",
      "-rw-r--r--   2 hdfs hdfs    1582546 2020-09-30 12:16 /labs/lab06data/ml-100k/u3.base\r\n",
      "-rw-r--r--   2 hdfs hdfs     396627 2020-09-30 12:16 /labs/lab06data/ml-100k/u3.test\r\n",
      "-rw-r--r--   2 hdfs hdfs    1581878 2020-09-30 12:16 /labs/lab06data/ml-100k/u4.base\r\n",
      "-rw-r--r--   2 hdfs hdfs     397295 2020-09-30 12:16 /labs/lab06data/ml-100k/u4.test\r\n",
      "-rw-r--r--   2 hdfs hdfs    1581776 2020-09-30 12:16 /labs/lab06data/ml-100k/u5.base\r\n",
      "-rw-r--r--   2 hdfs hdfs     397397 2020-09-30 12:16 /labs/lab06data/ml-100k/u5.test\r\n",
      "-rw-r--r--   2 hdfs hdfs    1792501 2020-09-30 12:16 /labs/lab06data/ml-100k/ua.base\r\n",
      "-rw-r--r--   2 hdfs hdfs     186672 2020-09-30 12:16 /labs/lab06data/ml-100k/ua.test\r\n",
      "-rw-r--r--   2 hdfs hdfs    1792476 2020-09-30 12:16 /labs/lab06data/ml-100k/ub.base\r\n",
      "-rw-r--r--   2 hdfs hdfs     186697 2020-09-30 12:16 /labs/lab06data/ml-100k/ub.test\r\n"
     ]
    }
   ],
   "source": [
    "!hdfs dfs -ls /labs/lab06data/ml-100k"
   ]
  },
  {
   "cell_type": "code",
   "execution_count": 8,
   "metadata": {},
   "outputs": [],
   "source": [
    "columns = [\"user_id\", \"item_id\", \"rating\", \"timestamp\"]\n",
    "udata = spark \\\n",
    "    .read \\\n",
    "    .format(\"csv\") \\\n",
    "    .option(\"sep\", \"\\t\") \\\n",
    "    .option(\"header\", \"false\") \\\n",
    "    .load(\"/labs/lab06data/ml-100k/u.data\") \\\n",
    "    .toDF(*columns)"
   ]
  },
  {
   "cell_type": "code",
   "execution_count": 10,
   "metadata": {},
   "outputs": [
    {
     "name": "stdout",
     "output_type": "stream",
     "text": [
      "+-------+-------+------+---------+\n",
      "|user_id|item_id|rating|timestamp|\n",
      "+-------+-------+------+---------+\n",
      "|    196|    242|     3|881250949|\n",
      "|    186|    302|     3|891717742|\n",
      "|     22|    377|     1|878887116|\n",
      "|    244|     51|     2|880606923|\n",
      "|    166|    346|     1|886397596|\n",
      "|    298|    474|     4|884182806|\n",
      "|    115|    265|     2|881171488|\n",
      "|    253|    465|     5|891628467|\n",
      "|    305|    451|     3|886324817|\n",
      "|      6|     86|     3|883603013|\n",
      "+-------+-------+------+---------+\n",
      "only showing top 10 rows\n",
      "\n"
     ]
    }
   ],
   "source": [
    "udata.show(10)"
   ]
  },
  {
   "cell_type": "code",
   "execution_count": 21,
   "metadata": {},
   "outputs": [],
   "source": [
    "from pyspark.sql.functions import count\n",
    "\n",
    "film_id = 286\n",
    "\n",
    "hist_film = udata \\\n",
    "    .where(f\"item_id = {film_id}\") \\\n",
    "    .groupby(\"rating\") \\\n",
    "    .agg(count(\"user_id\").alias(\"cnt\")) \\\n",
    "    .orderBy(\"rating\") \\\n",
    "    .collect()"
   ]
  },
  {
   "cell_type": "code",
   "execution_count": 22,
   "metadata": {},
   "outputs": [
    {
     "data": {
      "text/plain": [
       "[Row(rating='1', cnt=30),\n",
       " Row(rating='2', cnt=53),\n",
       " Row(rating='3', cnt=100),\n",
       " Row(rating='4', cnt=167),\n",
       " Row(rating='5', cnt=131)]"
      ]
     },
     "execution_count": 22,
     "metadata": {},
     "output_type": "execute_result"
    }
   ],
   "source": [
    "hist_film"
   ]
  },
  {
   "cell_type": "code",
   "execution_count": 23,
   "metadata": {},
   "outputs": [],
   "source": [
    "hist_all = udata \\\n",
    "    .groupby(\"rating\") \\\n",
    "    .agg(count(\"user_id\").alias(\"cnt\")) \\\n",
    "    .orderBy(\"rating\") \\\n",
    "    .collect()"
   ]
  },
  {
   "cell_type": "code",
   "execution_count": 24,
   "metadata": {},
   "outputs": [
    {
     "data": {
      "text/plain": [
       "[Row(rating='1', cnt=6110),\n",
       " Row(rating='2', cnt=11370),\n",
       " Row(rating='3', cnt=27145),\n",
       " Row(rating='4', cnt=34174),\n",
       " Row(rating='5', cnt=21201)]"
      ]
     },
     "execution_count": 24,
     "metadata": {},
     "output_type": "execute_result"
    }
   ],
   "source": [
    "hist_all"
   ]
  },
  {
   "cell_type": "code",
   "execution_count": 31,
   "metadata": {},
   "outputs": [],
   "source": [
    "import json\n",
    "\n",
    "output = {\n",
    "    'hist_film' : [row['cnt'] for row in hist_film],\n",
    "    'hist_all' : [row['cnt'] for row in hist_all],\n",
    "}\n",
    "\n",
    "with open('/data/home/alexander.alexandrov/lab06.json', 'w') as outfile:\n",
    "    json.dump(output, outfile)"
   ]
  },
  {
   "cell_type": "code",
   "execution_count": 33,
   "metadata": {},
   "outputs": [
    {
     "name": "stdout",
     "output_type": "stream",
     "text": [
      "{\"hist_film\": [30, 53, 100, 167, 131], \"hist_all\": [6110, 11370, 27145, 34174, 21201]}"
     ]
    }
   ],
   "source": [
    "!cat ~/lab06.json"
   ]
  },
  {
   "cell_type": "code",
   "execution_count": 34,
   "metadata": {},
   "outputs": [],
   "source": [
    "spark.stop()"
   ]
  },
  {
   "cell_type": "markdown",
   "metadata": {},
   "source": [
    "# Review"
   ]
  },
  {
   "cell_type": "code",
   "execution_count": null,
   "metadata": {},
   "outputs": [],
   "source": [
    "Читаемая и удобная реализация лабы.\n",
    "Более эталонный вариант, чем у меня."
   ]
  }
 ],
 "metadata": {
  "kernelspec": {
   "display_name": "Python 3",
   "language": "python",
   "name": "python3"
  },
  "language_info": {
   "codemirror_mode": {
    "name": "ipython",
    "version": 3
   },
   "file_extension": ".py",
   "mimetype": "text/x-python",
   "name": "python",
   "nbconvert_exporter": "python",
   "pygments_lexer": "ipython3",
   "version": "3.7.1"
  }
 },
 "nbformat": 4,
 "nbformat_minor": 2
}
