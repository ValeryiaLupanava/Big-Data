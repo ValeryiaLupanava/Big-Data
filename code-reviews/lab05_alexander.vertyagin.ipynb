{
  "nbformat": 4,
  "nbformat_minor": 0,
  "metadata": {
    "colab": {
      "name": "Untitled0.ipynb",
      "provenance": [],
      "collapsed_sections": []
    },
    "kernelspec": {
      "name": "python3",
      "display_name": "Python 3"
    }
  },
  "cells": [
    {
      "cell_type": "code",
      "metadata": {
        "id": "UvPUVmJ3OdcT"
      },
      "source": [
        "#почти отсутсвуют комментарии\n",
        "#остались закомментированные не актуальные строки кода\n",
        "#!pip install googletrans\n",
        "from googletrans import Translator\n",
        "import re\n",
        "translator = Translator()\n",
        "from bs4 import BeautifulSoup"
      ],
      "execution_count": null,
      "outputs": []
    },
    {
      "cell_type": "code",
      "metadata": {
        "id": "1Wk_HQyMOevK"
      },
      "source": [
        "# функция для перевода текстов с английского на русский\n",
        "def translate(text):\n",
        "    text = ' '.join(text)\n",
        "    soup = BeautifulSoup(text)\n",
        "    text = soup.get_text() \n",
        "    chunk_size = 2048\n",
        "    to_tran = [ text[i:i+chunk_size].strip() for i in range(0, len(text), chunk_size) if len(text[i:i+chunk_size].strip())>2 ]\n",
        "    t = ''\n",
        "    for item in to_tran:\n",
        "        result = translator.translate(item, src='en', dest='ru')\n",
        "        t = t + ' ' + result.text\n",
        "    return t"
      ],
      "execution_count": null,
      "outputs": []
    },
    {
      "cell_type": "code",
      "metadata": {
        "id": "fBj0epGyOiQL"
      },
      "source": [
        "# l - не очень информативное название переменной\n",
        "l = [2049, 5, 1740, 3593, 3085, 3086, 3600, 1553, 2067, 22, 3607, 536, 25, 538, 3612, 2079, 2592, 2084, 1232, 2602, 3627, 1072, 777, 1076, 3125, 56, 570, 572, 1599, 3649, 1602, 2628, 1608, 586, 587, 78, 1550, 3665, 85, 89, 1626, 1115, 1131, 1647, 2676, 633, 1658, 2174, 1152, 1710, 3715, 2692, 645, 646, 1160, 1674, 3212, 3730, 1174, 2200, 3738, 1692, 1695, 1188, 1302, 678, 3239, 174, 1200, 177, 3763, 180, 3253, 2230, 2744, 1209, 1723, 701, 1214, 1217, 196, 887, 3272, 3788, 2582, 2255, 720, 3795, 1748, 1146, 2265, 1244, 1759, 3808, 3299, 3300, 3818, 3822, 241, 1269, 1270, 2688, 1277, 766, 2816, 3842, 262, 1289, 3850, 3340, 3343, 275, 2326, 1305, 2332, 1311, 3362, 3292, 808, 298, 2861, 2350, 3375, 2526, 2355, 822, 301, 1849, 3387, 1347, 1860, 3398, 3913, 2386, 3925, 2902, 3415, 2618, 869, 2918, 2450, 3433, 2411, 3438, 1911, 888, 383, 1920, 2436, 2950, 907, 909, 1423, 1936, 1425, 402, 836, 3067, 2457, 496, 2973, 414, 2374, 1441, 2467, 668, 1961, 1963, 943, 2377, 2634, 3001, 2492, 3007, 3009, 450, 1991, 2504, 971, 3030, 3545, 3547, 1616, 989, 1019, 479, 482, 2812, 307, 2030, 1519, 3052, 498, 2035, 1262, 503, 504, 2043, 2044, 3564]\n",
        "\n",
        "text_test = []\n",
        "text_base = []\n",
        "\n",
        "for i in l:\n",
        "  # f, t, s - не очень информативные названия переменных\n",
        "  f = open('./test_'+str(i)+\".txt\", 'r', encoding='utf-8')\n",
        "  t = f.readlines()\n",
        "  \n",
        "\n",
        "  text_test.append(t)\n",
        "\n",
        "for j in range(1, 21):\n",
        "  s = open('./base_'+str(j)+\".txt\", 'r', encoding='utf-8')\n",
        "  t2s.readlines()\n",
        "  text_base.append(t2)\n",
        "all_text = text_base + text_test"
      ],
      "execution_count": null,
      "outputs": []
    },
    {
      "cell_type": "code",
      "metadata": {
        "id": "i7eqdTq2Q5Pb"
      },
      "source": [
        "text_test, text_base"
      ],
      "execution_count": null,
      "outputs": []
    },
    {
      "cell_type": "code",
      "metadata": {
        "id": "mGT-NQpHUGX2"
      },
      "source": [
        "#!pip install nltk\n"
      ],
      "execution_count": null,
      "outputs": []
    },
    {
      "cell_type": "code",
      "metadata": {
        "id": "gNkVZjKZUSBM"
      },
      "source": [
        "#nltk.download('stopwords')"
      ],
      "execution_count": null,
      "outputs": []
    },
    {
      "cell_type": "code",
      "metadata": {
        "id": "VcqgR182Ok3R"
      },
      "source": [
        "import nltk\n",
        "from nltk.corpus import stopwords\n",
        "stops = set(stopwords.words('russian'))"
      ],
      "execution_count": null,
      "outputs": []
    },
    {
      "cell_type": "code",
      "metadata": {
        "id": "KcYz16J5UYtL"
      },
      "source": [
        "stops"
      ],
      "execution_count": null,
      "outputs": []
    },
    {
      "cell_type": "code",
      "metadata": {
        "id": "RdTzUv7BOlaB"
      },
      "source": [
        "import re\n",
        "GROUPING_SPACE_REGEX = re.compile(r'([^\\w]|[+])', re.UNICODE)\n",
        "def simple_word_tokenize(text, _split=GROUPING_SPACE_REGEX.split):\n",
        "    return [t for t in _split(text.lower()) if t and not t.isspace()]"
      ],
      "execution_count": null,
      "outputs": []
    },
    {
      "cell_type": "code",
      "metadata": {
        "id": "SzbvfdQgUZpL"
      },
      "source": [
        "#!pip install pymorphy2"
      ],
      "execution_count": null,
      "outputs": []
    },
    {
      "cell_type": "code",
      "metadata": {
        "id": "vAexKxkQOlxZ"
      },
      "source": [
        "import pymorphy2\n",
        "m = pymorphy2.MorphAnalyzer()"
      ],
      "execution_count": null,
      "outputs": []
    },
    {
      "cell_type": "code",
      "metadata": {
        "id": "JOkG1QCFOtZD"
      },
      "source": [
        "def token_r(text):\n",
        "    words = simple_word_tokenize(text)\n",
        "    return [m.parse(x)[0].normal_form for x in words if len(x)>=4]"
      ],
      "execution_count": null,
      "outputs": []
    },
    {
      "cell_type": "code",
      "metadata": {
        "id": "AJw_OhzOOtn5"
      },
      "source": [
        "from sklearn.feature_extraction.text import CountVectorizer\n",
        "cv = CountVectorizer(tokenizer=token_r, stop_words=list(stops))"
      ],
      "execution_count": null,
      "outputs": []
    },
    {
      "cell_type": "code",
      "metadata": {
        "id": "80lfoiQWVylE"
      },
      "source": [
        "words = [y[0] for y in sorted(cv.vocabulary_.items(), key=lambda x: x[1])]"
      ],
      "execution_count": null,
      "outputs": []
    },
    {
      "cell_type": "code",
      "metadata": {
        "id": "T0rq2kaJVy0j"
      },
      "source": [
        "c_words = zip(words, sum(matrix))"
      ],
      "execution_count": null,
      "outputs": []
    },
    {
      "cell_type": "code",
      "metadata": {
        "id": "JmsODWkQVHSM"
      },
      "source": [
        "c_words = sorted(c_words, key=lambda x: x[1], reverse=True)\n",
        "c_words[:25]"
      ],
      "execution_count": null,
      "outputs": []
    },
    {
      "cell_type": "code",
      "metadata": {
        "id": "QGTIAHgPWb0F"
      },
      "source": [
        "stop_w = set([x[0] for x in c_words[:4]])\n",
        "stop_w = list(stop_w | stops)"
      ],
      "execution_count": null,
      "outputs": []
    },
    {
      "cell_type": "code",
      "metadata": {
        "id": "usZdV5egWeCr"
      },
      "source": [
        "stop_w"
      ],
      "execution_count": null,
      "outputs": []
    },
    {
      "cell_type": "code",
      "metadata": {
        "id": "ORhgDXoyWjdU"
      },
      "source": [
        "cv = CountVectorizer(tokenizer=token_r, stop_words=stop_w)"
      ],
      "execution_count": null,
      "outputs": []
    },
    {
      "cell_type": "code",
      "metadata": {
        "id": "AxX-gwlMOtcJ"
      },
      "source": [
        "matrix = cv.fit_transform(all_text).toarray()"
      ],
      "execution_count": null,
      "outputs": []
    },
    {
      "cell_type": "code",
      "metadata": {
        "id": "KNAbXMfWO4NE"
      },
      "source": [
        "from sklearn.metrics.pairwise import cosine_similarity\n",
        "# s0 - не очень информативное название переменной\n",
        "s0=cosine_similarity(matrix[20:], matrix[0:20])\n",
        "# для читаемости кода лучше делать отступы перед и после знака равно"
      ],
      "execution_count": null,
      "outputs": []
    },
    {
      "cell_type": "code",
      "metadata": {
        "id": "a1zU7KjDO67a"
      },
      "source": [
        "import numpy as np\n",
        "n = 0\n",
        "mn = np.asarray([i.sum() for i in s0]).mean()\n",
        "#не актуальная строка кода, можно удалить\n",
        "#print (mn)\n",
        "defined = []\n",
        "other = []\n",
        "for i in s0:\n",
        "    if i.sum()>mn:\n",
        "        defined.append(l[n])\n",
        "    else:\n",
        "        other.append(l[n])    \n",
        "    n +=1"
      ],
      "execution_count": null,
      "outputs": []
    },
    {
      "cell_type": "code",
      "metadata": {
        "id": "F4C77VhiOYrM",
        "outputId": "9da4b79f-62f4-4acc-fbd6-b66c5edcdf6a",
        "colab": {
          "base_uri": "https://localhost:8080/"
        }
      },
      "source": [
        "import json\n",
        "js = json.dumps({\"defined\": defined, \"other\": other})\n",
        "print(js) "
      ],
      "execution_count": null,
      "outputs": [
        {
          "output_type": "stream",
          "text": [
            "{\"defined\": [2049, 5, 3085, 3086, 3600, 22, 3607, 536, 3612, 2592, 2084, 2602, 3627, 1072, 1076, 570, 572, 3649, 1602, 2628, 1608, 78, 89, 1647, 1658, 1152, 2692, 645, 646, 1160, 1674, 3730, 3738, 1692, 1188, 678, 3239, 3763, 3253, 2230, 2744, 1209, 1723, 701, 1214, 3272, 1748, 1244, 1759, 3808, 3818, 3822, 241, 1270, 2816, 3842, 262, 3340, 3343, 2326, 2332, 1311, 3362, 2861, 2350, 3375, 2355, 822, 3387, 1347, 3415, 869, 2918, 2450, 3433, 2411, 3438, 1920, 2436, 2950, 907, 909, 1423, 1936, 402, 1963, 943, 2492, 3007, 450, 2504, 971, 3030, 479, 2030, 1519, 2035, 1262, 2043, 2044], \"other\": [1740, 3593, 1553, 2067, 25, 538, 2079, 1232, 777, 3125, 56, 1599, 586, 587, 1550, 3665, 85, 1626, 1115, 1131, 2676, 633, 2174, 1710, 3715, 3212, 1174, 2200, 1695, 1302, 174, 1200, 177, 180, 1217, 196, 887, 3788, 2582, 2255, 720, 3795, 1146, 2265, 3299, 3300, 1269, 2688, 1277, 766, 1289, 3850, 275, 1305, 3292, 808, 298, 2526, 301, 1849, 1860, 3398, 3913, 2386, 3925, 2902, 2618, 1911, 888, 383, 1425, 836, 3067, 2457, 496, 2973, 414, 2374, 1441, 2467, 668, 1961, 2377, 2634, 3001, 3009, 1991, 3545, 3547, 1616, 989, 1019, 482, 2812, 307, 3052, 498, 503, 504, 3564]}\n"
          ],
          "name": "stdout"
        }
      ]
    },
    {
      "cell_type": "code",
      "execution_count": null,
      "metadata": {},
      "outputs": [],
      "source": [
        "# нет вывода в файл с результатами"
      ]
    }
  ]
}