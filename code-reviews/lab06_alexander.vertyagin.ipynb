{
 "cells": [
  {
   "cell_type": "markdown",
   "metadata": {},
   "source": [
    "# Лаббораторная работа 6"
   ]
  },
  {
   "cell_type": "code",
   "execution_count": null,
   "metadata": {},
   "outputs": [],
   "source": [
    "import os\n",
    "import sys\n",
    "import json\n",
    "os.environ[\"PYSPARK_PYTHON\"]='/opt/anaconda/envs/bd9/bin/python'\n",
    "os.environ[\"SPARK_HOME\"]='/usr/hdp/current/spark2-client'\n",
    "os.environ[\"PYSPARK_SUBMIT_ARGS\"]='--num-executors 3 pyspark-shell'\n",
    "\n",
    "spark_home = os.environ.get('SPARK_HOME', None)\n",
    "\n",
    "sys.path.insert(0, os.path.join(spark_home, 'python'))\n",
    "sys.path.insert(0, os.path.join(spark_home, 'python/lib/py4j-0.10.7-src.zip'))"
   ]
  },
  {
   "cell_type": "code",
   "execution_count": 15,
   "metadata": {},
   "outputs": [],
   "source": [
    "from pyspark import SparkContext, SparkConf\n",
    "\n",
    "conf = SparkConf()\n",
    "conf.set(\"spark.app.name\", \"Alexander Dorofeyev. Spark app for lab06\") \n",
    "\n",
    "sc = SparkContext(conf=conf)"
   ]
  },
  {
   "cell_type": "code",
   "execution_count": 16,
   "metadata": {},
   "outputs": [
    {
     "data": {
      "text/html": [
       "\n",
       "        <div>\n",
       "            <p><b>SparkContext</b></p>\n",
       "\n",
       "            <p><a href=\"http://bd-master.newprolab.com:4041\">Spark UI</a></p>\n",
       "\n",
       "            <dl>\n",
       "              <dt>Version</dt>\n",
       "                <dd><code>v2.4.7</code></dd>\n",
       "              <dt>Master</dt>\n",
       "                <dd><code>yarn</code></dd>\n",
       "              <dt>AppName</dt>\n",
       "                <dd><code>Alexander Dorofeyev. Spark app for lab05</code></dd>\n",
       "            </dl>\n",
       "        </div>\n",
       "        "
      ],
      "text/plain": [
       "<SparkContext master=yarn appName=Alexander Dorofeyev. Spark app for lab05>"
      ]
     },
     "execution_count": 16,
     "metadata": {},
     "output_type": "execute_result"
    }
   ],
   "source": [
    "# Проверяем, что все работает\n",
    "sc"
   ]
  },
  {
   "cell_type": "code",
   "execution_count": 17,
   "metadata": {},
   "outputs": [],
   "source": [
    "# лишнаяя строка, лучше удалить\n",
    "#sc.stop()"
   ]
  },
  {
   "cell_type": "markdown",
   "metadata": {},
   "source": [
    "### 1. Загрузка данных"
   ]
  },
  {
   "cell_type": "code",
   "execution_count": 18,
   "metadata": {},
   "outputs": [],
   "source": [
    "# данные по оценкам\n",
    "user_row_data = sc.textFile(\"/labs/lab06data/ml-100k/u.data\")"
   ]
  },
  {
   "cell_type": "code",
   "execution_count": 21,
   "metadata": {
    "scrolled": true
   },
   "outputs": [
    {
     "data": {
      "text/plain": [
       "['652\\t395\\t3\\t882567383',\n",
       " '597\\t235\\t4\\t875340062',\n",
       " '361\\t657\\t5\\t879441253',\n",
       " '826\\t399\\t4\\t885690790',\n",
       " '551\\t17\\t5\\t892784942',\n",
       " '264\\t655\\t4\\t886123530',\n",
       " '63\\t333\\t4\\t875746917',\n",
       " '933\\t238\\t2\\t874853819',\n",
       " '16\\t95\\t5\\t877728417',\n",
       " '313\\t22\\t3\\t891014870']"
      ]
     },
     "execution_count": 21,
     "metadata": {},
     "output_type": "execute_result"
    }
   ],
   "source": [
    "# добавить пробелы полсле знака равно для читаемости\n",
    "user_row_data.takeSample(withReplacement=False, num=10, seed=7007)"
   ]
  },
  {
   "cell_type": "code",
   "execution_count": 19,
   "metadata": {},
   "outputs": [],
   "source": [
    "# данные по фильмам\n",
    "movie_raw_data = sc.textFile(\"/labs/lab06data/ml-100k/u.item\")"
   ]
  },
  {
   "cell_type": "code",
   "execution_count": 22,
   "metadata": {
    "scrolled": true
   },
   "outputs": [
    {
     "data": {
      "text/plain": [
       "['1044|Paper, The (1994)|01-Jan-1994||http://us.imdb.com/M/title-exact?Paper,%20The%20(1994)|0|0|0|0|0|1|0|0|1|0|0|0|0|0|0|0|0|0|0',\n",
       " '933|Funeral, The (1996)|25-Oct-1996||http://us.imdb.com/M/title-exact?Funeral,%20The%20(1996)|0|0|0|0|0|0|0|0|1|0|0|0|0|0|0|0|0|0|0',\n",
       " '616|Night of the Living Dead (1968)|01-Jan-1968||http://us.imdb.com/M/title-exact?Night%20of%20the%20Living%20Dead%20(1968)|0|0|0|0|0|0|0|0|0|0|0|1|0|0|0|1|0|0|0',\n",
       " '1446|Bye Bye, Love (1995)|01-Jan-1995||http://us.imdb.com/M/title-exact?Bye%20Bye,%20Love%20(1995)|0|0|0|0|0|1|0|0|0|0|0|0|0|0|0|0|0|0|0',\n",
       " '658|Pump Up the Volume (1990)|01-Jan-1990||http://us.imdb.com/M/title-exact?Pump%20Up%20the%20Volume%20(1990)|0|0|0|0|0|0|0|0|1|0|0|0|0|0|0|0|0|0|0',\n",
       " '54|Outbreak (1995)|01-Jan-1995||http://us.imdb.com/M/title-exact?Outbreak%20(1995)|0|1|0|0|0|0|0|0|1|0|0|0|0|0|0|0|1|0|0',\n",
       " '522|Down by Law (1986)|01-Jan-1986||http://us.imdb.com/M/title-exact?Down%20by%20Law%20(1986)|0|0|0|0|0|1|0|0|1|0|0|0|0|0|0|0|0|0|0',\n",
       " '732|Dave (1993)|01-Jan-1993||http://us.imdb.com/M/title-exact?Dave%20(1993)|0|0|0|0|0|1|0|0|0|0|0|0|0|0|1|0|0|0|0',\n",
       " '471|Courage Under Fire (1996)|08-Mar-1996||http://us.imdb.com/M/title-exact?Courage%20Under%20Fire%20(1996)|0|0|0|0|0|0|0|0|1|0|0|0|0|0|0|0|0|1|0',\n",
       " '80|Hot Shots! Part Deux (1993)|01-Jan-1993||http://us.imdb.com/M/title-exact?Hot%20Shots!%20Part%20Deux%20(1993)|0|1|0|0|0|1|0|0|0|0|0|0|0|0|0|0|0|1|0']"
      ]
     },
     "execution_count": 22,
     "metadata": {},
     "output_type": "execute_result"
    }
   ],
   "source": [
    "#добавить пробелы полсле знака равно для читаемости\n",
    "movie_raw_data.takeSample(withReplacement=False, num=10, seed=7007)"
   ]
  },
  {
   "cell_type": "markdown",
   "metadata": {},
   "source": [
    "### 2. Обработка данных на выход"
   ]
  },
  {
   "cell_type": "code",
   "execution_count": 28,
   "metadata": {},
   "outputs": [],
   "source": [
    "# нет комментария, не понятно откуда константа\n",
    "film_id = '168'"
   ]
  },
  {
   "cell_type": "code",
   "execution_count": 33,
   "metadata": {},
   "outputs": [],
   "source": [
    "# добавить пробелы полсле знака равно для читаемости\n",
    "# расчет индивидуальных характеристик \"моего фильма\" в разрезе оценок 1,2,3,4,5\n",
    "my_film_data = user_row_data.map(lambda x: x.split(\"\\t\")).filter(lambda x: x[1]==film_id)\\\n",
    ".map(lambda x: (x[2], 1)).reduceByKey(lambda a,b : a+b).sortByKey().map(lambda x: x[1]).collect()"
   ]
  },
  {
   "cell_type": "code",
   "execution_count": 35,
   "metadata": {},
   "outputs": [
    {
     "data": {
      "text/plain": [
       "[12, 6, 56, 117, 125]"
      ]
     },
     "execution_count": 35,
     "metadata": {},
     "output_type": "execute_result"
    }
   ],
   "source": [
    "my_film_data"
   ]
  },
  {
   "cell_type": "code",
   "execution_count": 34,
   "metadata": {},
   "outputs": [],
   "source": [
    "# статистика оценок по всем фильмам в разрезе оценок 1,2,3,4,5\n",
    "all_film_data = user_row_data.map(lambda x: x.split(\"\\t\"))\\\n",
    ".map(lambda x: (x[2], 1)).reduceByKey(lambda a,b : a+b).sortByKey().map(lambda x: x[1]).collect()"
   ]
  },
  {
   "cell_type": "code",
   "execution_count": 36,
   "metadata": {},
   "outputs": [
    {
     "data": {
      "text/plain": [
       "[6110, 11370, 27145, 34174, 21201]"
      ]
     },
     "execution_count": 36,
     "metadata": {},
     "output_type": "execute_result"
    }
   ],
   "source": [
    "all_film_data"
   ]
  },
  {
   "cell_type": "code",
   "execution_count": 37,
   "metadata": {},
   "outputs": [],
   "source": [
    "# добавить пробелы полсле двоеточия для читаемости\n",
    "final_result = {\"hist_film\":my_film_data, \"hist_all\":all_film_data}"
   ]
  },
  {
   "cell_type": "code",
   "execution_count": 38,
   "metadata": {},
   "outputs": [
    {
     "data": {
      "text/plain": [
       "{'hist_film': [12, 6, 56, 117, 125],\n",
       " 'hist_all': [6110, 11370, 27145, 34174, 21201]}"
      ]
     },
     "execution_count": 38,
     "metadata": {},
     "output_type": "execute_result"
    }
   ],
   "source": [
    "final_result"
   ]
  },
  {
   "cell_type": "code",
   "execution_count": 41,
   "metadata": {},
   "outputs": [],
   "source": [
    "# сохраняем в json\n",
    "with open(\"/data/home/alexander.dorofeyev/lab06.json\", 'w') as file:\n",
    "    json.dump(final_result, file)"
   ]
  },
  {
   "cell_type": "code",
   "execution_count": 42,
   "metadata": {},
   "outputs": [],
   "source": [
    "sc.stop()"
   ]
  },
  {
   "cell_type": "code",
   "execution_count": null,
   "metadata": {},
   "outputs": [],
   "source": []
  }
 ],
 "metadata": {
  "kernelspec": {
   "display_name": "Python 3",
   "language": "python",
   "name": "python3"
  },
  "language_info": {
   "codemirror_mode": {
    "name": "ipython",
    "version": 3
   },
   "file_extension": ".py",
   "mimetype": "text/x-python",
   "name": "python",
   "nbconvert_exporter": "python",
   "pygments_lexer": "ipython3",
   "version": "3.6.5"
  }
 },
 "nbformat": 4,
 "nbformat_minor": 2
}