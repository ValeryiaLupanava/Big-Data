{
 "cells": [
  {
   "cell_type": "code",
   "execution_count": 1,
   "metadata": {},
   "outputs": [],
   "source": [
    "from IPython.display import IFrame, Image"
   ]
  },
  {
   "cell_type": "code",
   "execution_count": 2,
   "metadata": {},
   "outputs": [],
   "source": [
    "import os\n",
    "import sys\n",
    "os.environ[\"PYSPARK_PYTHON\"]='/opt/anaconda/envs/bd9/bin/python'\n",
    "os.environ[\"SPARK_HOME\"]='/usr/hdp/current/spark2-client'\n",
    "os.environ[\"PYSPARK_SUBMIT_ARGS\"]='--num-executors 3 pyspark-shell'\n",
    "\n",
    "spark_home = os.environ.get('SPARK_HOME', None)\n",
    "\n",
    "sys.path.insert(0, os.path.join(spark_home, 'python'))\n",
    "sys.path.insert(0, os.path.join(spark_home, 'python/lib/py4j-0.10.7-src.zip'))"
   ]
  },
  {
   "cell_type": "code",
   "execution_count": 3,
   "metadata": {},
   "outputs": [],
   "source": [
    "from pyspark import SparkContext, SparkConf\n",
    "\n",
    "conf = SparkConf()\n",
    "conf.set(\"spark.app.name\", \"valeria.lupanova Spark RDD app\") \n",
    "\n",
    "sc = SparkContext(conf=conf)"
   ]
  },
  {
   "cell_type": "code",
   "execution_count": 4,
   "metadata": {},
   "outputs": [
    {
     "data": {
      "text/plain": [
       "[('spark.history.kerberos.keytab', 'none'),\n",
       " ('spark.eventLog.enabled', 'true'),\n",
       " ('spark.submit.pyFiles',\n",
       "  '/data/home/valeria.lupanova/.ivy2/jars/org.apache.spark_spark-sql-kafka-0-10_2.11-2.4.5.jar,/data/home/valeria.lupanova/.ivy2/jars/graphframes_graphframes-0.7.0-spark2.4-s_2.11.jar,/data/home/valeria.lupanova/.ivy2/jars/databricks_spark-sklearn-0.2.3.jar,/data/home/valeria.lupanova/.ivy2/jars/org.apache.kafka_kafka-clients-2.0.0.jar,/data/home/valeria.lupanova/.ivy2/jars/org.spark-project.spark_unused-1.0.0.jar,/data/home/valeria.lupanova/.ivy2/jars/org.lz4_lz4-java-1.4.0.jar,/data/home/valeria.lupanova/.ivy2/jars/org.xerial.snappy_snappy-java-1.1.7.3.jar,/data/home/valeria.lupanova/.ivy2/jars/org.slf4j_slf4j-api-1.7.16.jar'),\n",
       " ('spark.history.ui.port', '18081'),\n",
       " ('spark.driver.extraLibraryPath',\n",
       "  '/usr/hdp/current/hadoop-client/lib/native:/usr/hdp/current/hadoop-client/lib/native/Linux-amd64-64'),\n",
       " ('spark.history.fs.cleaner.interval', '7d'),\n",
       " ('spark.shuffle.io.serverThreads', '128'),\n",
       " ('spark.sql.streaming.streamingQueryListeners', ''),\n",
       " ('spark.executor.extraLibraryPath',\n",
       "  '/usr/hdp/current/hadoop-client/lib/native:/usr/hdp/current/hadoop-client/lib/native/Linux-amd64-64'),\n",
       " ('spark.serializer', 'org.apache.spark.serializer.KryoSerializer'),\n",
       " ('spark.shuffle.file.buffer', '1m'),\n",
       " ('spark.sql.hive.convertMetastoreOrc', 'true'),\n",
       " ('spark.yarn.dist.files', ''),\n",
       " ('spark.sql.autoBroadcastJoinThreshold', '26214400'),\n",
       " ('spark.yarn.dist.pyFiles',\n",
       "  'file:///data/home/valeria.lupanova/.ivy2/jars/org.apache.spark_spark-sql-kafka-0-10_2.11-2.4.5.jar,file:///data/home/valeria.lupanova/.ivy2/jars/graphframes_graphframes-0.7.0-spark2.4-s_2.11.jar,file:///data/home/valeria.lupanova/.ivy2/jars/databricks_spark-sklearn-0.2.3.jar,file:///data/home/valeria.lupanova/.ivy2/jars/org.apache.kafka_kafka-clients-2.0.0.jar,file:///data/home/valeria.lupanova/.ivy2/jars/org.spark-project.spark_unused-1.0.0.jar,file:///data/home/valeria.lupanova/.ivy2/jars/org.lz4_lz4-java-1.4.0.jar,file:///data/home/valeria.lupanova/.ivy2/jars/org.xerial.snappy_snappy-java-1.1.7.3.jar,file:///data/home/valeria.lupanova/.ivy2/jars/org.slf4j_slf4j-api-1.7.16.jar'),\n",
       " ('spark.ui.filters',\n",
       "  'org.apache.hadoop.yarn.server.webproxy.amfilter.AmIpFilter'),\n",
       " ('spark.driver.port', '44827'),\n",
       " ('spark.eventLog.dir', 'hdfs:///spark2-history/'),\n",
       " ('spark.sql.catalogImplementation', 'in-memory'),\n",
       " ('spark.yarn.dist.jars',\n",
       "  'file:///data/home/valeria.lupanova/.ivy2/jars/org.apache.spark_spark-sql-kafka-0-10_2.11-2.4.5.jar,file:///data/home/valeria.lupanova/.ivy2/jars/graphframes_graphframes-0.7.0-spark2.4-s_2.11.jar,file:///data/home/valeria.lupanova/.ivy2/jars/databricks_spark-sklearn-0.2.3.jar,file:///data/home/valeria.lupanova/.ivy2/jars/org.apache.kafka_kafka-clients-2.0.0.jar,file:///data/home/valeria.lupanova/.ivy2/jars/org.spark-project.spark_unused-1.0.0.jar,file:///data/home/valeria.lupanova/.ivy2/jars/org.lz4_lz4-java-1.4.0.jar,file:///data/home/valeria.lupanova/.ivy2/jars/org.xerial.snappy_snappy-java-1.1.7.3.jar,file:///data/home/valeria.lupanova/.ivy2/jars/org.slf4j_slf4j-api-1.7.16.jar'),\n",
       " ('spark.executor.memory', '4g'),\n",
       " ('spark.executor.id', 'driver'),\n",
       " ('spark.sql.orc.impl', 'native'),\n",
       " ('spark.app.name', 'valeria.lupanova Spark RDD app'),\n",
       " ('spark.history.fs.logDirectory', 'hdfs:///spark2-history/'),\n",
       " ('spark.history.fs.cleaner.maxAge', '90d'),\n",
       " ('spark.extraListeners', ''),\n",
       " ('spark.sql.warehouse.dir', '/apps/spark/warehouse'),\n",
       " ('spark.history.store.path', '/var/lib/spark2/shs_db'),\n",
       " ('spark.executorEnv.PYTHONPATH',\n",
       "  '{{PWD}}/pyspark.zip<CPS>{{PWD}}/py4j-0.10.7-src.zip<CPS>{{PWD}}/org.apache.spark_spark-sql-kafka-0-10_2.11-2.4.5.jar<CPS>{{PWD}}/graphframes_graphframes-0.7.0-spark2.4-s_2.11.jar<CPS>{{PWD}}/databricks_spark-sklearn-0.2.3.jar<CPS>{{PWD}}/org.apache.kafka_kafka-clients-2.0.0.jar<CPS>{{PWD}}/org.spark-project.spark_unused-1.0.0.jar<CPS>{{PWD}}/org.lz4_lz4-java-1.4.0.jar<CPS>{{PWD}}/org.xerial.snappy_snappy-java-1.1.7.3.jar<CPS>{{PWD}}/org.slf4j_slf4j-api-1.7.16.jar'),\n",
       " ('spark.jars.packages',\n",
       "  'org.apache.spark:spark-sql-kafka-0-10_2.11:2.4.5,graphframes:graphframes:0.7.0-spark2.4-s_2.11,databricks:spark-sklearn:0.2.3'),\n",
       " ('spark.executor.instances', '3'),\n",
       " ('spark.sql.execution.arrow.enabled', 'true'),\n",
       " ('spark.driver.memory', '4g'),\n",
       " ('spark.kryoserializer.buffer.max', '512m'),\n",
       " ('spark.app.id', 'application_1604852613786_0070'),\n",
       " ('spark.ui.proxyBase', '/proxy/application_1604852613786_0070'),\n",
       " ('spark.sql.statistics.fallBackToHdfs', 'true'),\n",
       " ('spark.yarn.archive', 'hdfs:///tmp/spark-archive.zip'),\n",
       " ('spark.history.provider',\n",
       "  'org.apache.spark.deploy.history.FsHistoryProvider'),\n",
       " ('spark.serializer.objectStreamReset', '100'),\n",
       " ('spark.yarn.historyServer.address', 'bd-master.newprolab.com:18081'),\n",
       " ('spark.driver.host', 'bd-master.newprolab.com'),\n",
       " ('spark.repl.local.jars',\n",
       "  'file:///data/home/valeria.lupanova/.ivy2/jars/org.apache.spark_spark-sql-kafka-0-10_2.11-2.4.5.jar,file:///data/home/valeria.lupanova/.ivy2/jars/graphframes_graphframes-0.7.0-spark2.4-s_2.11.jar,file:///data/home/valeria.lupanova/.ivy2/jars/databricks_spark-sklearn-0.2.3.jar,file:///data/home/valeria.lupanova/.ivy2/jars/org.apache.kafka_kafka-clients-2.0.0.jar,file:///data/home/valeria.lupanova/.ivy2/jars/org.spark-project.spark_unused-1.0.0.jar,file:///data/home/valeria.lupanova/.ivy2/jars/org.lz4_lz4-java-1.4.0.jar,file:///data/home/valeria.lupanova/.ivy2/jars/org.xerial.snappy_snappy-java-1.1.7.3.jar,file:///data/home/valeria.lupanova/.ivy2/jars/org.slf4j_slf4j-api-1.7.16.jar'),\n",
       " ('spark.submit.deployMode', 'client'),\n",
       " ('spark.driver.extraClassPath', ''),\n",
       " ('spark.sql.hive.metastore.jars',\n",
       "  '/usr/hdp/current/spark2-client/standalone-metastore/*'),\n",
       " ('spark.driver.maxResultSize', '3900m'),\n",
       " ('spark.deploy-mode', 'client'),\n",
       " ('spark.yarn.queue', 'default'),\n",
       " ('spark.port.maxRetries', '50'),\n",
       " ('spark.org.apache.hadoop.yarn.server.webproxy.amfilter.AmIpFilter.param.PROXY_HOSTS',\n",
       "  'bd-master.newprolab.com'),\n",
       " ('spark.history.fs.cleaner.enabled', 'true'),\n",
       " ('spark.sql.queryExecutionListeners', ''),\n",
       " ('spark.yarn.secondary.jars',\n",
       "  'org.apache.spark_spark-sql-kafka-0-10_2.11-2.4.5.jar,graphframes_graphframes-0.7.0-spark2.4-s_2.11.jar,databricks_spark-sklearn-0.2.3.jar,org.apache.kafka_kafka-clients-2.0.0.jar,org.spark-project.spark_unused-1.0.0.jar,org.lz4_lz4-java-1.4.0.jar,org.xerial.snappy_snappy-java-1.1.7.3.jar,org.slf4j_slf4j-api-1.7.16.jar'),\n",
       " ('spark.master', 'yarn'),\n",
       " ('spark.org.apache.hadoop.yarn.server.webproxy.amfilter.AmIpFilter.param.PROXY_URI_BASES',\n",
       "  'http://bd-master.newprolab.com:8088/proxy/application_1604852613786_0070'),\n",
       " ('spark.io.compression.lz4.blockSize', '128kb'),\n",
       " ('spark.history.kerberos.principal', 'none'),\n",
       " ('spark.sql.orc.filterPushdown', 'true'),\n",
       " ('spark.rdd.compress', 'True'),\n",
       " ('spark.shuffle.io.backLog', '8192'),\n",
       " ('spark.driver.appUIAddress', 'http://bd-master.newprolab.com:4042'),\n",
       " ('spark.unsafe.sorter.spill.reader.buffer.size', '1m'),\n",
       " ('spark.yarn.isPython', 'true'),\n",
       " ('spark.shuffle.unsafe.file.output.buffer', '5m'),\n",
       " ('spark.executor.cores', '1'),\n",
       " ('spark.executor.extraJavaOptions', '-XX:+UseNUMA'),\n",
       " ('spark.ui.showConsoleProgress', 'true'),\n",
       " ('spark.sql.hive.metastore.version', '3.0')]"
      ]
     },
     "execution_count": 4,
     "metadata": {},
     "output_type": "execute_result"
    }
   ],
   "source": [
    "sc.getConf().getAll()"
   ]
  },
  {
   "cell_type": "code",
   "execution_count": 6,
   "metadata": {},
   "outputs": [],
   "source": [
    "film_id_ = '191'"
   ]
  },
  {
   "cell_type": "code",
   "execution_count": 7,
   "metadata": {},
   "outputs": [
    {
     "name": "stdout",
     "output_type": "stream",
     "text": [
      "Found 23 items\r\n",
      "-rw-r--r--   2 valeria.lupanova valeria.lupanova       6403 2020-11-13 11:21 /user/valeria.lupanova/lab06/ml-100k/README\r\n",
      "-rw-r--r--   2 valeria.lupanova valeria.lupanova        716 2020-11-13 11:21 /user/valeria.lupanova/lab06/ml-100k/allbut.pl\r\n",
      "-rw-r--r--   2 valeria.lupanova valeria.lupanova        643 2020-11-13 11:21 /user/valeria.lupanova/lab06/ml-100k/mku.sh\r\n",
      "-rw-r--r--   2 valeria.lupanova valeria.lupanova    1979173 2020-11-13 11:21 /user/valeria.lupanova/lab06/ml-100k/u.data\r\n",
      "-rw-r--r--   2 valeria.lupanova valeria.lupanova        202 2020-11-13 11:21 /user/valeria.lupanova/lab06/ml-100k/u.genre\r\n",
      "-rw-r--r--   2 valeria.lupanova valeria.lupanova         36 2020-11-13 11:21 /user/valeria.lupanova/lab06/ml-100k/u.info\r\n",
      "-rw-r--r--   2 valeria.lupanova valeria.lupanova     236344 2020-11-13 11:21 /user/valeria.lupanova/lab06/ml-100k/u.item\r\n",
      "-rw-r--r--   2 valeria.lupanova valeria.lupanova        193 2020-11-13 11:21 /user/valeria.lupanova/lab06/ml-100k/u.occupation\r\n",
      "-rw-r--r--   2 valeria.lupanova valeria.lupanova      22628 2020-11-13 11:21 /user/valeria.lupanova/lab06/ml-100k/u.user\r\n",
      "-rw-r--r--   2 valeria.lupanova valeria.lupanova    1586544 2020-11-13 11:21 /user/valeria.lupanova/lab06/ml-100k/u1.base\r\n",
      "-rw-r--r--   2 valeria.lupanova valeria.lupanova     392629 2020-11-13 11:21 /user/valeria.lupanova/lab06/ml-100k/u1.test\r\n",
      "-rw-r--r--   2 valeria.lupanova valeria.lupanova    1583948 2020-11-13 11:21 /user/valeria.lupanova/lab06/ml-100k/u2.base\r\n",
      "-rw-r--r--   2 valeria.lupanova valeria.lupanova     395225 2020-11-13 11:21 /user/valeria.lupanova/lab06/ml-100k/u2.test\r\n",
      "-rw-r--r--   2 valeria.lupanova valeria.lupanova    1582546 2020-11-13 11:21 /user/valeria.lupanova/lab06/ml-100k/u3.base\r\n",
      "-rw-r--r--   2 valeria.lupanova valeria.lupanova     396627 2020-11-13 11:21 /user/valeria.lupanova/lab06/ml-100k/u3.test\r\n",
      "-rw-r--r--   2 valeria.lupanova valeria.lupanova    1581878 2020-11-13 11:21 /user/valeria.lupanova/lab06/ml-100k/u4.base\r\n",
      "-rw-r--r--   2 valeria.lupanova valeria.lupanova     397295 2020-11-13 11:21 /user/valeria.lupanova/lab06/ml-100k/u4.test\r\n",
      "-rw-r--r--   2 valeria.lupanova valeria.lupanova    1581776 2020-11-13 11:21 /user/valeria.lupanova/lab06/ml-100k/u5.base\r\n",
      "-rw-r--r--   2 valeria.lupanova valeria.lupanova     397397 2020-11-13 11:21 /user/valeria.lupanova/lab06/ml-100k/u5.test\r\n",
      "-rw-r--r--   2 valeria.lupanova valeria.lupanova    1792501 2020-11-13 11:21 /user/valeria.lupanova/lab06/ml-100k/ua.base\r\n",
      "-rw-r--r--   2 valeria.lupanova valeria.lupanova     186672 2020-11-13 11:21 /user/valeria.lupanova/lab06/ml-100k/ua.test\r\n",
      "-rw-r--r--   2 valeria.lupanova valeria.lupanova    1792476 2020-11-13 11:21 /user/valeria.lupanova/lab06/ml-100k/ub.base\r\n",
      "-rw-r--r--   2 valeria.lupanova valeria.lupanova     186697 2020-11-13 11:21 /user/valeria.lupanova/lab06/ml-100k/ub.test\r\n"
     ]
    }
   ],
   "source": [
    "!hdfs dfs -ls /user/valeria.lupanova/lab06/ml-100k"
   ]
  },
  {
   "cell_type": "code",
   "execution_count": 8,
   "metadata": {},
   "outputs": [
    {
     "data": {
      "text/plain": [
       "/user/valeria.lupanova/lab06/ml-100k/u.item MapPartitionsRDD[1] at textFile at NativeMethodAccessorImpl.java:0"
      ]
     },
     "execution_count": 8,
     "metadata": {},
     "output_type": "execute_result"
    }
   ],
   "source": [
    "u_item_ = sc.textFile(\"/user/valeria.lupanova/lab06/ml-100k/u.item\")\n",
    "u_item_"
   ]
  },
  {
   "cell_type": "code",
   "execution_count": 9,
   "metadata": {},
   "outputs": [
    {
     "data": {
      "text/plain": [
       "['1|Toy Story (1995)|01-Jan-1995||http://us.imdb.com/M/title-exact?Toy%20Story%20(1995)|0|0|0|1|1|1|0|0|0|0|0|0|0|0|0|0|0|0|0',\n",
       " '2|GoldenEye (1995)|01-Jan-1995||http://us.imdb.com/M/title-exact?GoldenEye%20(1995)|0|1|1|0|0|0|0|0|0|0|0|0|0|0|0|0|1|0|0',\n",
       " '3|Four Rooms (1995)|01-Jan-1995||http://us.imdb.com/M/title-exact?Four%20Rooms%20(1995)|0|0|0|0|0|0|0|0|0|0|0|0|0|0|0|0|1|0|0',\n",
       " '4|Get Shorty (1995)|01-Jan-1995||http://us.imdb.com/M/title-exact?Get%20Shorty%20(1995)|0|1|0|0|0|1|0|0|1|0|0|0|0|0|0|0|0|0|0',\n",
       " '5|Copycat (1995)|01-Jan-1995||http://us.imdb.com/M/title-exact?Copycat%20(1995)|0|0|0|0|0|0|1|0|1|0|0|0|0|0|0|0|1|0|0']"
      ]
     },
     "execution_count": 9,
     "metadata": {},
     "output_type": "execute_result"
    }
   ],
   "source": [
    "u_item_.take(5)"
   ]
  },
  {
   "cell_type": "code",
   "execution_count": 10,
   "metadata": {},
   "outputs": [],
   "source": [
    "u_item_ = u_item_.map(lambda x: x.split(\"|\"))"
   ]
  },
  {
   "cell_type": "code",
   "execution_count": 11,
   "metadata": {},
   "outputs": [
    {
     "data": {
      "text/plain": [
       "[['1',\n",
       "  'Toy Story (1995)',\n",
       "  '01-Jan-1995',\n",
       "  '',\n",
       "  'http://us.imdb.com/M/title-exact?Toy%20Story%20(1995)',\n",
       "  '0',\n",
       "  '0',\n",
       "  '0',\n",
       "  '1',\n",
       "  '1',\n",
       "  '1',\n",
       "  '0',\n",
       "  '0',\n",
       "  '0',\n",
       "  '0',\n",
       "  '0',\n",
       "  '0',\n",
       "  '0',\n",
       "  '0',\n",
       "  '0',\n",
       "  '0',\n",
       "  '0',\n",
       "  '0',\n",
       "  '0'],\n",
       " ['2',\n",
       "  'GoldenEye (1995)',\n",
       "  '01-Jan-1995',\n",
       "  '',\n",
       "  'http://us.imdb.com/M/title-exact?GoldenEye%20(1995)',\n",
       "  '0',\n",
       "  '1',\n",
       "  '1',\n",
       "  '0',\n",
       "  '0',\n",
       "  '0',\n",
       "  '0',\n",
       "  '0',\n",
       "  '0',\n",
       "  '0',\n",
       "  '0',\n",
       "  '0',\n",
       "  '0',\n",
       "  '0',\n",
       "  '0',\n",
       "  '0',\n",
       "  '1',\n",
       "  '0',\n",
       "  '0'],\n",
       " ['3',\n",
       "  'Four Rooms (1995)',\n",
       "  '01-Jan-1995',\n",
       "  '',\n",
       "  'http://us.imdb.com/M/title-exact?Four%20Rooms%20(1995)',\n",
       "  '0',\n",
       "  '0',\n",
       "  '0',\n",
       "  '0',\n",
       "  '0',\n",
       "  '0',\n",
       "  '0',\n",
       "  '0',\n",
       "  '0',\n",
       "  '0',\n",
       "  '0',\n",
       "  '0',\n",
       "  '0',\n",
       "  '0',\n",
       "  '0',\n",
       "  '0',\n",
       "  '1',\n",
       "  '0',\n",
       "  '0'],\n",
       " ['4',\n",
       "  'Get Shorty (1995)',\n",
       "  '01-Jan-1995',\n",
       "  '',\n",
       "  'http://us.imdb.com/M/title-exact?Get%20Shorty%20(1995)',\n",
       "  '0',\n",
       "  '1',\n",
       "  '0',\n",
       "  '0',\n",
       "  '0',\n",
       "  '1',\n",
       "  '0',\n",
       "  '0',\n",
       "  '1',\n",
       "  '0',\n",
       "  '0',\n",
       "  '0',\n",
       "  '0',\n",
       "  '0',\n",
       "  '0',\n",
       "  '0',\n",
       "  '0',\n",
       "  '0',\n",
       "  '0'],\n",
       " ['5',\n",
       "  'Copycat (1995)',\n",
       "  '01-Jan-1995',\n",
       "  '',\n",
       "  'http://us.imdb.com/M/title-exact?Copycat%20(1995)',\n",
       "  '0',\n",
       "  '0',\n",
       "  '0',\n",
       "  '0',\n",
       "  '0',\n",
       "  '0',\n",
       "  '1',\n",
       "  '0',\n",
       "  '1',\n",
       "  '0',\n",
       "  '0',\n",
       "  '0',\n",
       "  '0',\n",
       "  '0',\n",
       "  '0',\n",
       "  '0',\n",
       "  '1',\n",
       "  '0',\n",
       "  '0']]"
      ]
     },
     "execution_count": 11,
     "metadata": {},
     "output_type": "execute_result"
    }
   ],
   "source": [
    "u_item_.take(5)"
   ]
  },
  {
   "cell_type": "code",
   "execution_count": 12,
   "metadata": {},
   "outputs": [
    {
     "data": {
      "text/plain": [
       "/user/valeria.lupanova/lab06/ml-100k/u.data MapPartitionsRDD[5] at textFile at NativeMethodAccessorImpl.java:0"
      ]
     },
     "execution_count": 12,
     "metadata": {},
     "output_type": "execute_result"
    }
   ],
   "source": [
    "u_data_ = sc.textFile(\"/user/valeria.lupanova/lab06/ml-100k/u.data\")\n",
    "u_data_"
   ]
  },
  {
   "cell_type": "code",
   "execution_count": 13,
   "metadata": {},
   "outputs": [
    {
     "data": {
      "text/plain": [
       "['196\\t242\\t3\\t881250949',\n",
       " '186\\t302\\t3\\t891717742',\n",
       " '22\\t377\\t1\\t878887116',\n",
       " '244\\t51\\t2\\t880606923',\n",
       " '166\\t346\\t1\\t886397596']"
      ]
     },
     "execution_count": 13,
     "metadata": {},
     "output_type": "execute_result"
    }
   ],
   "source": [
    "u_data_.take(5)"
   ]
  },
  {
   "cell_type": "code",
   "execution_count": 14,
   "metadata": {},
   "outputs": [],
   "source": [
    "u_data_ = u_data_.map(lambda x: x.split(\"\\t\"))"
   ]
  },
  {
   "cell_type": "code",
   "execution_count": 15,
   "metadata": {},
   "outputs": [
    {
     "data": {
      "text/plain": [
       "[['196', '242', '3', '881250949'],\n",
       " ['186', '302', '3', '891717742'],\n",
       " ['22', '377', '1', '878887116'],\n",
       " ['244', '51', '2', '880606923'],\n",
       " ['166', '346', '1', '886397596']]"
      ]
     },
     "execution_count": 15,
     "metadata": {},
     "output_type": "execute_result"
    }
   ],
   "source": [
    "u_data_.take(5)"
   ]
  },
  {
   "cell_type": "code",
   "execution_count": 16,
   "metadata": {},
   "outputs": [],
   "source": [
    "u_data_191_ = u_data_.filter(lambda x: x[1] == film_id_)"
   ]
  },
  {
   "cell_type": "code",
   "execution_count": 17,
   "metadata": {},
   "outputs": [
    {
     "data": {
      "text/plain": [
       "[['301', '191', '3', '882075672'],\n",
       " ['285', '191', '4', '890595859'],\n",
       " ['24', '191', '5', '875323003']]"
      ]
     },
     "execution_count": 17,
     "metadata": {},
     "output_type": "execute_result"
    }
   ],
   "source": [
    "u_data_191_.take(3)"
   ]
  },
  {
   "cell_type": "code",
   "execution_count": 18,
   "metadata": {},
   "outputs": [],
   "source": [
    "hist_film_ = u_data_191_.flatMap(lambda x: x[2].split())"
   ]
  },
  {
   "cell_type": "code",
   "execution_count": 19,
   "metadata": {},
   "outputs": [
    {
     "data": {
      "text/plain": [
       "['3',\n",
       " '4',\n",
       " '5',\n",
       " '4',\n",
       " '4',\n",
       " '4',\n",
       " '4',\n",
       " '5',\n",
       " '5',\n",
       " '4',\n",
       " '3',\n",
       " '3',\n",
       " '5',\n",
       " '5',\n",
       " '4',\n",
       " '4',\n",
       " '4',\n",
       " '4',\n",
       " '4',\n",
       " '3',\n",
       " '4',\n",
       " '4',\n",
       " '5',\n",
       " '4',\n",
       " '3',\n",
       " '5',\n",
       " '5',\n",
       " '5',\n",
       " '4',\n",
       " '5',\n",
       " '5',\n",
       " '5',\n",
       " '5',\n",
       " '5',\n",
       " '4',\n",
       " '5',\n",
       " '4',\n",
       " '4',\n",
       " '3',\n",
       " '3',\n",
       " '4',\n",
       " '4',\n",
       " '5',\n",
       " '5',\n",
       " '5',\n",
       " '5',\n",
       " '3',\n",
       " '4',\n",
       " '4',\n",
       " '4',\n",
       " '3',\n",
       " '4',\n",
       " '2',\n",
       " '5',\n",
       " '4',\n",
       " '4',\n",
       " '5',\n",
       " '5',\n",
       " '5',\n",
       " '5',\n",
       " '4',\n",
       " '5',\n",
       " '4',\n",
       " '4',\n",
       " '4',\n",
       " '4',\n",
       " '4',\n",
       " '5',\n",
       " '4',\n",
       " '4',\n",
       " '4',\n",
       " '5',\n",
       " '5',\n",
       " '4',\n",
       " '3',\n",
       " '4',\n",
       " '4',\n",
       " '4',\n",
       " '3',\n",
       " '4',\n",
       " '4',\n",
       " '4',\n",
       " '4',\n",
       " '4',\n",
       " '4',\n",
       " '4',\n",
       " '5',\n",
       " '4',\n",
       " '5',\n",
       " '5',\n",
       " '4',\n",
       " '4',\n",
       " '5',\n",
       " '3',\n",
       " '5',\n",
       " '5',\n",
       " '5',\n",
       " '4',\n",
       " '4',\n",
       " '4',\n",
       " '5',\n",
       " '5',\n",
       " '4',\n",
       " '4',\n",
       " '4',\n",
       " '3',\n",
       " '4',\n",
       " '5',\n",
       " '3',\n",
       " '2',\n",
       " '5',\n",
       " '3',\n",
       " '5',\n",
       " '4',\n",
       " '5',\n",
       " '5',\n",
       " '5',\n",
       " '5',\n",
       " '5',\n",
       " '2',\n",
       " '5',\n",
       " '4',\n",
       " '3',\n",
       " '4',\n",
       " '5',\n",
       " '4',\n",
       " '5',\n",
       " '3',\n",
       " '4',\n",
       " '5',\n",
       " '2',\n",
       " '4',\n",
       " '3',\n",
       " '4',\n",
       " '3',\n",
       " '3',\n",
       " '4',\n",
       " '5',\n",
       " '3',\n",
       " '4',\n",
       " '4',\n",
       " '5',\n",
       " '4',\n",
       " '4',\n",
       " '3',\n",
       " '4',\n",
       " '5',\n",
       " '4',\n",
       " '3',\n",
       " '4',\n",
       " '4',\n",
       " '4',\n",
       " '5',\n",
       " '3',\n",
       " '3',\n",
       " '5',\n",
       " '3',\n",
       " '3',\n",
       " '5',\n",
       " '5',\n",
       " '5',\n",
       " '5',\n",
       " '1',\n",
       " '5',\n",
       " '5',\n",
       " '5',\n",
       " '5',\n",
       " '4',\n",
       " '5',\n",
       " '4',\n",
       " '2',\n",
       " '4',\n",
       " '4',\n",
       " '3',\n",
       " '5',\n",
       " '4',\n",
       " '5',\n",
       " '5',\n",
       " '5',\n",
       " '3',\n",
       " '5',\n",
       " '4',\n",
       " '5',\n",
       " '4',\n",
       " '4',\n",
       " '3',\n",
       " '3',\n",
       " '5',\n",
       " '4',\n",
       " '3',\n",
       " '5',\n",
       " '4',\n",
       " '1',\n",
       " '5',\n",
       " '3',\n",
       " '4',\n",
       " '4',\n",
       " '5',\n",
       " '4',\n",
       " '3',\n",
       " '5',\n",
       " '5',\n",
       " '4',\n",
       " '3',\n",
       " '4',\n",
       " '4',\n",
       " '5',\n",
       " '3',\n",
       " '5',\n",
       " '3',\n",
       " '4',\n",
       " '5',\n",
       " '4',\n",
       " '2',\n",
       " '4',\n",
       " '5',\n",
       " '4',\n",
       " '4',\n",
       " '4',\n",
       " '3',\n",
       " '4',\n",
       " '5',\n",
       " '4',\n",
       " '4',\n",
       " '4',\n",
       " '3',\n",
       " '4',\n",
       " '4',\n",
       " '5',\n",
       " '3',\n",
       " '4',\n",
       " '4',\n",
       " '4',\n",
       " '5',\n",
       " '5',\n",
       " '5',\n",
       " '4',\n",
       " '4',\n",
       " '5',\n",
       " '5',\n",
       " '4',\n",
       " '5',\n",
       " '4',\n",
       " '5',\n",
       " '5',\n",
       " '3',\n",
       " '5',\n",
       " '5',\n",
       " '4',\n",
       " '3',\n",
       " '4',\n",
       " '4',\n",
       " '5',\n",
       " '4',\n",
       " '3',\n",
       " '4',\n",
       " '5',\n",
       " '4',\n",
       " '5',\n",
       " '5',\n",
       " '5',\n",
       " '4',\n",
       " '5',\n",
       " '5',\n",
       " '3',\n",
       " '5',\n",
       " '5',\n",
       " '5',\n",
       " '5',\n",
       " '5',\n",
       " '5',\n",
       " '4',\n",
       " '5',\n",
       " '4',\n",
       " '5',\n",
       " '5']"
      ]
     },
     "execution_count": 19,
     "metadata": {},
     "output_type": "execute_result"
    }
   ],
   "source": [
    "hist_film_.collect()"
   ]
  },
  {
   "cell_type": "code",
   "execution_count": 20,
   "metadata": {},
   "outputs": [
    {
     "data": {
      "text/plain": [
       "5"
      ]
     },
     "execution_count": 20,
     "metadata": {},
     "output_type": "execute_result"
    }
   ],
   "source": [
    "hist_film_.groupBy(lambda x: x).count()"
   ]
  },
  {
   "cell_type": "code",
   "execution_count": 21,
   "metadata": {},
   "outputs": [
    {
     "data": {
      "text/plain": [
       "['3', '4', '5', '4', '4', '4', '4', '5', '5', '4']"
      ]
     },
     "execution_count": 21,
     "metadata": {},
     "output_type": "execute_result"
    }
   ],
   "source": [
    "hist_film_.take(10)"
   ]
  },
  {
   "cell_type": "code",
   "execution_count": 22,
   "metadata": {},
   "outputs": [
    {
     "data": {
      "text/plain": [
       "pyspark.rdd.PipelinedRDD"
      ]
     },
     "execution_count": 22,
     "metadata": {},
     "output_type": "execute_result"
    }
   ],
   "source": [
    "type(hist_film_)"
   ]
  },
  {
   "cell_type": "code",
   "execution_count": 23,
   "metadata": {},
   "outputs": [
    {
     "data": {
      "text/plain": [
       "276"
      ]
     },
     "execution_count": 23,
     "metadata": {},
     "output_type": "execute_result"
    }
   ],
   "source": [
    "hist_film_.count()"
   ]
  },
  {
   "cell_type": "code",
   "execution_count": 24,
   "metadata": {},
   "outputs": [],
   "source": [
    "f_ = hist_film_.countByValue()"
   ]
  },
  {
   "cell_type": "code",
   "execution_count": 25,
   "metadata": {},
   "outputs": [
    {
     "data": {
      "text/plain": [
       "{'3': 44, '4': 117, '5': 107, '2': 6, '1': 2}"
      ]
     },
     "execution_count": 25,
     "metadata": {},
     "output_type": "execute_result"
    }
   ],
   "source": [
    "hist_film_ = dict(f_)\n",
    "hist_film_"
   ]
  },
  {
   "cell_type": "code",
   "execution_count": 26,
   "metadata": {},
   "outputs": [],
   "source": [
    "r_hist_film_ = [hist_film_[key] for key in sorted(hist_film_.keys(), reverse=False)]"
   ]
  },
  {
   "cell_type": "code",
   "execution_count": 27,
   "metadata": {},
   "outputs": [
    {
     "data": {
      "text/plain": [
       "[2, 6, 44, 117, 107]"
      ]
     },
     "execution_count": 27,
     "metadata": {},
     "output_type": "execute_result"
    }
   ],
   "source": [
    "r_hist_film_"
   ]
  },
  {
   "cell_type": "code",
   "execution_count": 28,
   "metadata": {},
   "outputs": [],
   "source": [
    "hist_all_ = u_data_.flatMap(lambda x: x[2].split())"
   ]
  },
  {
   "cell_type": "code",
   "execution_count": 29,
   "metadata": {},
   "outputs": [
    {
     "data": {
      "text/plain": [
       "defaultdict(int, {'3': 27145, '1': 6110, '2': 11370, '4': 34174, '5': 21201})"
      ]
     },
     "execution_count": 29,
     "metadata": {},
     "output_type": "execute_result"
    }
   ],
   "source": [
    "hist_all_.countByKey()"
   ]
  },
  {
   "cell_type": "code",
   "execution_count": 30,
   "metadata": {},
   "outputs": [],
   "source": [
    "h_ = hist_all_.countByValue()"
   ]
  },
  {
   "cell_type": "code",
   "execution_count": 31,
   "metadata": {},
   "outputs": [
    {
     "data": {
      "text/plain": [
       "{'3': 27145, '1': 6110, '2': 11370, '4': 34174, '5': 21201}"
      ]
     },
     "execution_count": 31,
     "metadata": {},
     "output_type": "execute_result"
    }
   ],
   "source": [
    "hist_all_ = dict(h_)\n",
    "hist_all_"
   ]
  },
  {
   "cell_type": "code",
   "execution_count": 32,
   "metadata": {},
   "outputs": [],
   "source": [
    "r_hist_all_= [hist_all_[key] for key in sorted(hist_all_.keys(), reverse=False)]"
   ]
  },
  {
   "cell_type": "code",
   "execution_count": 33,
   "metadata": {},
   "outputs": [
    {
     "data": {
      "text/plain": [
       "[6110, 11370, 27145, 34174, 21201]"
      ]
     },
     "execution_count": 33,
     "metadata": {},
     "output_type": "execute_result"
    }
   ],
   "source": [
    "r_hist_all_"
   ]
  },
  {
   "cell_type": "code",
   "execution_count": 34,
   "metadata": {},
   "outputs": [
    {
     "name": "stdout",
     "output_type": "stream",
     "text": [
      "{'hist_film': [2, 6, 44, 117, 107], 'hist_all': [6110, 11370, 27145, 34174, 21201]}\n"
     ]
    }
   ],
   "source": [
    "result_dict_ = {} \n",
    "result_dict_[\"hist_film\"] = r_hist_film_\n",
    "result_dict_[\"hist_all\"] = r_hist_all_\n",
    "  \n",
    "print(result_dict_) "
   ]
  },
  {
   "cell_type": "code",
   "execution_count": 35,
   "metadata": {},
   "outputs": [],
   "source": [
    "import json\n",
    "\n",
    "with open('lab06.json', 'w') as fp:\n",
    "    json.dump(result_dict_, fp)"
   ]
  },
  {
   "cell_type": "code",
   "execution_count": null,
   "metadata": {},
   "outputs": [],
   "source": []
  }
 ],
 "metadata": {
  "kernelspec": {
   "display_name": "Python 3",
   "language": "python",
   "name": "python3"
  },
  "language_info": {
   "codemirror_mode": {
    "name": "ipython",
    "version": 3
   },
   "file_extension": ".py",
   "mimetype": "text/x-python",
   "name": "python",
   "nbconvert_exporter": "python",
   "pygments_lexer": "ipython3",
   "version": "3.6.5"
  },
  "toc": {
   "base_numbering": 1,
   "nav_menu": {},
   "number_sections": true,
   "sideBar": true,
   "skip_h1_title": false,
   "title_cell": "Table of Contents",
   "title_sidebar": "Contents",
   "toc_cell": false,
   "toc_position": {},
   "toc_section_display": true,
   "toc_window_display": false
  }
 },
 "nbformat": 4,
 "nbformat_minor": 2
}
