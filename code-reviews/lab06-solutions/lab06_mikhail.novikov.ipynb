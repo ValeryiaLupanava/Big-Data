{
 "cells": [
  {
   "cell_type": "code",
   "execution_count": 33,
   "metadata": {
    "ExecuteTime": {
     "end_time": "2020-11-13T12:45:55.049141Z",
     "start_time": "2020-11-13T12:45:55.045349Z"
    }
   },
   "outputs": [],
   "source": [
    "import pandas as pd"
   ]
  },
  {
   "cell_type": "code",
   "execution_count": 51,
   "metadata": {
    "ExecuteTime": {
     "end_time": "2020-11-13T13:00:24.409285Z",
     "start_time": "2020-11-13T13:00:24.275140Z"
    }
   },
   "outputs": [],
   "source": [
    "dir_with_files = '~/lab06/lab06data/ml-100k/'\n",
    "data_fname = 'u.data'\n",
    "item_fname = 'u.item'\n",
    "film_id = 294  # id для задания\n",
    "\n",
    "# загрузили датасеты ~4мб и прочитали доки к датасетам из ml-100k-README.txt\n",
    "# Знаю, что проходим тему спарка. Но 4мб в спарк... делал у себя на пандасе.\n",
    "\n",
    "# u.data     -- The full u data set, 100000 ratings by 943 users on 1682 items.\n",
    "#               Each user has rated at least 20 movies.  Users and items are\n",
    "#               numbered consecutively from 1.  The data is randomly\n",
    "#               ordered. This is a tab separated list of \n",
    "#               user id | item id | rating | timestamp. \n",
    "#               The time stamps are unix seconds since 1/1/1970 UTC \n",
    "\n",
    "# в документе запись идет так:\n",
    "# 196\t242\t3\t881250949\n",
    "# 186\t302\t3\t891717742\n",
    "# 22\t377\t1\t878887116\n",
    "# 244\t51\t2\t880606923\n",
    "\n",
    "\n",
    "#\n",
    "# u.item     -- Information about the items (movies); this is a tab separated\n",
    "#               list of\n",
    "#               movie id | movie title | release date | video release date |\n",
    "#               IMDb URL | unknown | Action | Adventure | Animation |\n",
    "#               Children's | Comedy | Crime | Documentary | Drama | Fantasy |\n",
    "#               Film-Noir | Horror | Musical | Mystery | Romance | Sci-Fi |\n",
    "#               Thriller | War | Western |\n",
    "#               The last 19 fields are the genres, a 1 indicates the movie\n",
    "#               is of that genre, a 0 indicates it is not; movies can be in\n",
    "#               several genres at once.\n",
    "#               The movie ids are the ones used in the u.data data set.\n",
    "\n",
    "# в документе запись идет так:  на tab separated не похоже.... \n",
    "# но его не испольуем в задании, зачем озвучили непонятно... \n",
    "# 1|Toy Story (1995)|01-Jan-1995||http://us.imdb.com/M/title-exact?Toy%20Story%20(1995)|0|0|0|1|1|1|0|0|0|0|0|0|0|0|0|0|0|0|0\n",
    "# 2|GoldenEye (1995)|01-Jan-1995||http://us.imdb.com/M/title-exact?GoldenEye%20(1995)|0|1|1|0|0|0|0|0|0|0|0|0|0|0|0|0|1|0|0\n",
    "# 3|Four Rooms (1995)|01-Jan-1995||http://us.imdb.com/M/title-exact?Four%20Rooms%20(1995)|0|0|0|0|0|0|0|0|0|0|0|0|0|0|0|0|1|0|0\n",
    "# 4|Get Shorty (1995)|01-Jan-1995||http://us.imdb.com/M/title-exact?Get%20Shorty%20(1995)|0|1|0|0|0|1|0|0|1|0|0|0|0|0|0|0|0|0|0\n",
    "\n",
    "\n",
    "data_df = pd.read_table(dir_with_files+data_fname, \n",
    "                        sep='\\t', \n",
    "                        names=['user_id',\n",
    "                               'item_id',\n",
    "                               'rating',\n",
    "                               'timestamp'])\n",
    "\n",
    "item_df = pd.read_table(dir_with_files+item_fname, \n",
    "                        sep='|',\n",
    "                        engine='python',\n",
    "                        names=['movie_id',\n",
    "                               'movie_title',\n",
    "                               'release_date',\n",
    "                               'video_release_date',\n",
    "                               'IMDb_URL',\n",
    "                               'unknown',\n",
    "                               'Action',\n",
    "                               'Adventure',\n",
    "                               'Animation',\n",
    "                               \"Children's\",\n",
    "                               'Comedy',\n",
    "                               'Crime',\n",
    "                               'Documentary',\n",
    "                               'Drama',\n",
    "                               'Fantasy',\n",
    "                               'Film-Noir',\n",
    "                               'Horror',\n",
    "                               'Musical',\n",
    "                               'Mystery',\n",
    "                               'Romance',\n",
    "                               'Sci-Fi',\n",
    "                               'Thriller',\n",
    "                               'War',\n",
    "                               'Western'\n",
    "                              ])"
   ]
  },
  {
   "cell_type": "code",
   "execution_count": 45,
   "metadata": {
    "ExecuteTime": {
     "end_time": "2020-11-13T12:49:01.352302Z",
     "start_time": "2020-11-13T12:49:01.336907Z"
    }
   },
   "outputs": [
    {
     "data": {
      "text/plain": [
       "[47, 73, 168, 151, 46]"
      ]
     },
     "execution_count": 45,
     "metadata": {},
     "output_type": "execute_result"
    }
   ],
   "source": [
    "# hist_film\n",
    "hist_film = data_df[data_df['item_id'] == film_id]['rating'].value_counts()\\\n",
    "                                                            .sort_index()\\\n",
    "                                                            .tolist()\n",
    "hist_film"
   ]
  },
  {
   "cell_type": "code",
   "execution_count": 46,
   "metadata": {
    "ExecuteTime": {
     "end_time": "2020-11-13T12:49:03.664418Z",
     "start_time": "2020-11-13T12:49:03.657125Z"
    }
   },
   "outputs": [
    {
     "data": {
      "text/plain": [
       "[6110, 11370, 27145, 34174, 21201]"
      ]
     },
     "execution_count": 46,
     "metadata": {},
     "output_type": "execute_result"
    }
   ],
   "source": [
    "# hist_all\n",
    "hist_all = data_df['rating'].value_counts()\\\n",
    "                            .sort_index()\\\n",
    "                            .tolist()\n",
    "hist_all"
   ]
  },
  {
   "cell_type": "code",
   "execution_count": 42,
   "metadata": {
    "ExecuteTime": {
     "end_time": "2020-11-13T12:46:49.071386Z",
     "start_time": "2020-11-13T12:46:49.067094Z"
    }
   },
   "outputs": [],
   "source": [
    "# сохранили файл. Его нужно положить на сервер и отдать чекеру\n",
    "with open(file='lab06.json', mode='wt') as file:\n",
    "    file.write(json.dumps({'hist_film': hist_film.tolist(), 'hist_all': hist_all.tolist()}) + '\\n')"
   ]
  }
 ],
 "metadata": {
  "kernelspec": {
   "display_name": "Python 3",
   "language": "python",
   "name": "python3"
  },
  "language_info": {
   "codemirror_mode": {
    "name": "ipython",
    "version": 3
   },
   "file_extension": ".py",
   "mimetype": "text/x-python",
   "name": "python",
   "nbconvert_exporter": "python",
   "pygments_lexer": "ipython3",
   "version": "3.6.5"
  },
  "toc": {
   "base_numbering": 1,
   "nav_menu": {},
   "number_sections": true,
   "sideBar": true,
   "skip_h1_title": false,
   "title_cell": "Table of Contents",
   "title_sidebar": "Contents",
   "toc_cell": false,
   "toc_position": {},
   "toc_section_display": true,
   "toc_window_display": false
  },
  "varInspector": {
   "cols": {
    "lenName": 16,
    "lenType": 16,
    "lenVar": 40
   },
   "kernels_config": {
    "python": {
     "delete_cmd_postfix": "",
     "delete_cmd_prefix": "del ",
     "library": "var_list.py",
     "varRefreshCmd": "print(var_dic_list())"
    },
    "r": {
     "delete_cmd_postfix": ") ",
     "delete_cmd_prefix": "rm(",
     "library": "var_list.r",
     "varRefreshCmd": "cat(var_dic_list()) "
    }
   },
   "types_to_exclude": [
    "module",
    "function",
    "builtin_function_or_method",
    "instance",
    "_Feature"
   ],
   "window_display": false
  }
 },
 "nbformat": 4,
 "nbformat_minor": 2
}
