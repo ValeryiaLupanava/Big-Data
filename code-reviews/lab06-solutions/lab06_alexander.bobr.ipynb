{
 "cells": [
  {
   "cell_type": "code",
   "execution_count": 1,
   "metadata": {},
   "outputs": [],
   "source": [
    "import os\n",
    "import sys\n",
    "os.environ[\"PYSPARK_PYTHON\"]='/opt/anaconda/envs/bd9/bin/python'\n",
    "os.environ[\"SPARK_HOME\"]='/usr/hdp/current/spark2-client'\n",
    "os.environ[\"PYSPARK_SUBMIT_ARGS\"]='--num-executors 3 pyspark-shell'\n",
    "\n",
    "spark_home = os.environ.get('SPARK_HOME', None)\n",
    "\n",
    "sys.path.insert(0, os.path.join(spark_home, 'python'))\n",
    "sys.path.insert(0, os.path.join(spark_home, 'python/lib/py4j-0.10.7-src.zip'))"
   ]
  },
  {
   "cell_type": "code",
   "execution_count": 2,
   "metadata": {},
   "outputs": [],
   "source": [
    "from pyspark import SparkContext, SparkConf\n",
    "from pyspark.sql import SparkSession\n",
    "\n",
    "conf = SparkConf()\n",
    "conf.set(\"spark.app.name\", \"alexander.bobr Spark RDD lab06 app\") \n",
    "\n",
    "sc = SparkContext(conf=conf)"
   ]
  },
  {
   "cell_type": "code",
   "execution_count": 3,
   "metadata": {},
   "outputs": [],
   "source": [
    "rdd_data = sc.textFile('/labs/lab06data/ml-100k/u.data')"
   ]
  },
  {
   "cell_type": "code",
   "execution_count": 12,
   "metadata": {},
   "outputs": [],
   "source": [
    "rdd_film = (rdd_data.map(lambda x:(x.split(\"\\t\")))\n",
    "                    .filter(lambda x: x[1] == '204')\n",
    "                    .map(lambda x: (x[2], x[1]))\n",
    "                    .groupByKey()\n",
    "                    .map(lambda x: (x[0], len(x[1])))\n",
    "                    .sortByKey()\n",
    "                    .collect())\n",
    "rdd_all = (rdd_data.map(lambda x:(x.split(\"\\t\")))\n",
    "                   .map(lambda x: (x[2], x[1]))\n",
    "                   .groupByKey()\n",
    "                   .map(lambda x: (x[0], len(x[1])))\n",
    "                   .sortByKey()\n",
    "                   .collect())"
   ]
  },
  {
   "cell_type": "code",
   "execution_count": 15,
   "metadata": {},
   "outputs": [],
   "source": [
    "hist_film = [v for k, v in rdd_film]\n",
    "hist_all =  [v for k, v in rdd_all]"
   ]
  },
  {
   "cell_type": "code",
   "execution_count": 16,
   "metadata": {},
   "outputs": [],
   "source": [
    "import json\n",
    "response = {'hist_film': hist_film, 'hist_all': hist_all}\n",
    "with open('lab06.json', 'wt') as file:\n",
    "    file.writelines(json.dumps(response))"
   ]
  },
  {
   "cell_type": "code",
   "execution_count": 18,
   "metadata": {},
   "outputs": [],
   "source": [
    "sc.stop()"
   ]
  }
 ],
 "metadata": {
  "kernelspec": {
   "display_name": "Python 3",
   "language": "python",
   "name": "python3"
  },
  "language_info": {
   "codemirror_mode": {
    "name": "ipython",
    "version": 3
   },
   "file_extension": ".py",
   "mimetype": "text/x-python",
   "name": "python",
   "nbconvert_exporter": "python",
   "pygments_lexer": "ipython3",
   "version": "3.6.5"
  }
 },
 "nbformat": 4,
 "nbformat_minor": 2
}
