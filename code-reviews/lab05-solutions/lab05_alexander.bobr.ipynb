{
 "cells": [
  {
   "cell_type": "code",
   "execution_count": 31,
   "metadata": {},
   "outputs": [],
   "source": [
    "import pandas as pd\n",
    "import re\n",
    "from sklearn.feature_extraction.text import CountVectorizer\n",
    "from bs4 import BeautifulSoup\n",
    "import nltk\n",
    "from sklearn.metrics.pairwise import cosine_similarity"
   ]
  },
  {
   "cell_type": "code",
   "execution_count": 41,
   "metadata": {},
   "outputs": [],
   "source": [
    "base_filemask = '/data/share/lab05data/base_{}.txt'\n",
    "base_df = pd.DataFrame(columns=['id', 'text'])\n",
    "for i in range(1, 21):\n",
    "    base_filename = base_filemask.format(i)\n",
    "    with open(base_filename, 'r') as file:\n",
    "        base_df = base_df.append({'id': i, 'text': re.sub('<[^<]+?>', '', str(file.readline()))}, ignore_index=True)"
   ]
  },
  {
   "cell_type": "code",
   "execution_count": 100,
   "metadata": {},
   "outputs": [],
   "source": [
    "test_filemask = '/data/share/lab05data/test_{}.txt'\n",
    "test_df = pd.DataFrame(columns=['id', 'text'])\n",
    "for i in (2049, 3587, 3588, 5, 3078, 2570, 3600, 2579, 4, 533, 3607, 1560, 3610, 2076, 30, 2591, 2457, 2084, \n",
    "          776, 46, 1586, 3123, 3125, 3639, 2621, 2622, 70, 2634, 587, 588, 2126, 1616, 3668, 1622, 88, 2649, \n",
    "          869, 3175, 1632, 1121, 1126, 1639, 189, 1644, 1647, 2238, 1651, 630, 3708, 3198, 3713, 1154, 3203, \n",
    "          2668, 1669, 2183, 1674, 3728, 2194, 147, 665, 1690, 624, 2206, 672, 1188, 678, 1626, 1704, 2731, 173, \n",
    "          1054, 180, 2230, 695, 3256, 1211, 701, 2411, 1728, 1217, 3780, 2758, 3783, 2253, 2763, 1741, 2255, \n",
    "          1150, 1747, 213, 3292, 3296, 636, 2280, 3265, 1406, 241, 3317, 758, 3833, 2816, 1281, 3332, 775, 1800, \n",
    "          1289, 3850, 2828, 783, 2323, 1305, 3420, 3376, 1311, 800, 1829, 2855, 808, 2861, 2864, 2353, 1331, 3892, \n",
    "          3551, 3722, 3387, 3808, 2878, 1344, 833, 2884, 2374, 3913, 336, 1361, 2389, 1367, 656, 1885, 2398, 1892, \n",
    "          357, 2406, 2450, 1387, 3438, 1911, 382, 1407, 1345, 2438, 1419, 1932, 909, 399, 913, 402, 917, 406, 409, \n",
    "          3824, 414, 1439, 3489, 2467, 421, 2984, 1961, 427, 3959, 1967, 3067, 2463, 3001, 955, 958, 715, 972, 978, \n",
    "          562, 3544, 3547, 1500, 3038, 479, 2215, 2535, 3562, 3564, 1006, 2544, 3570, 1013, 887, 3066, 2043, 3580, 510, 2134):\n",
    "    test_filename = test_filemask.format(i)\n",
    "    with open(test_filename, 'r') as file:\n",
    "        test_df = test_df.append({'id': i, 'text': re.sub('<[^<]+?>', '', str(file.readline()))}, ignore_index=True)"
   ]
  },
  {
   "cell_type": "code",
   "execution_count": 119,
   "metadata": {},
   "outputs": [],
   "source": [
    "import pymorphy2\n",
    "m = pymorphy2.MorphAnalyzer()\n",
    "\n",
    "GROUPING_SPACE_REGEX = re.compile(r'([^\\w]|[+])', re.UNICODE)\n",
    "def simple_word_tokenize(text, _split=GROUPING_SPACE_REGEX.split):\n",
    "    return(t for t in _split(text.lower()) if t and not t.isspace())\n",
    "\n",
    "def token_r(text):\n",
    "    words = simple_word_tokenize(text)\n",
    "    return [m.parse(x)[0].normal_form for x in words if len(x)>=4]\n",
    "\n",
    "cv = CountVectorizer(tokenizer=token_r)"
   ]
  },
  {
   "cell_type": "code",
   "execution_count": 120,
   "metadata": {},
   "outputs": [],
   "source": [
    "matrix_base = cv.fit_transform(base_df['text'])\n",
    "matrix_test = cv.transform(test_df['text'])\n",
    "\n",
    "cos_m = cosine_similarity(matrix_base,matrix_test)\n",
    "sum_cos = np.sum(cos_m, axis=0)\n",
    "avg_cos = np.sum(sum_cos)/200"
   ]
  },
  {
   "cell_type": "code",
   "execution_count": 104,
   "metadata": {},
   "outputs": [],
   "source": [
    "sum_cos_df = pd.DataFrame(sum_cos)\n",
    "test_df['sum_cos'] = sum_cos_df[0]"
   ]
  },
  {
   "cell_type": "code",
   "execution_count": 109,
   "metadata": {},
   "outputs": [],
   "source": [
    "test_df['result'] = np.where(test_df['sum_cos']>=avg_cos,'1','0')\n",
    "sum_cos = np.sum(cos_m, axis=0)\n",
    "avg_cos = np.sum(sum_cos)/200\n",
    "result_json = {'defined': defined, 'other': other}\n",
    "import json\n",
    "with open('lab05.json', 'w') as outfile:\n",
    "    json.dump(result_json, outfile)"
   ]
  }
 ],
 "metadata": {
  "kernelspec": {
   "display_name": "Python 3",
   "language": "python",
   "name": "python3"
  },
  "language_info": {
   "codemirror_mode": {
    "name": "ipython",
    "version": 3
   },
   "file_extension": ".py",
   "mimetype": "text/x-python",
   "name": "python",
   "nbconvert_exporter": "python",
   "pygments_lexer": "ipython3",
   "version": "3.6.5"
  }
 },
 "nbformat": 4,
 "nbformat_minor": 2
}
