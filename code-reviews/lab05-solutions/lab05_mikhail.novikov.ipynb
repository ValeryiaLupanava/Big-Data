{
 "cells": [
  {
   "cell_type": "code",
   "execution_count": 1,
   "metadata": {
    "ExecuteTime": {
     "end_time": "2020-11-09T11:28:51.654976Z",
     "start_time": "2020-11-09T11:28:48.032001Z"
    }
   },
   "outputs": [],
   "source": [
    "import re\n",
    "from typing import List\n",
    "from io import StringIO\n",
    "from html.parser import HTMLParser\n",
    "import pymorphy2\n",
    "from tqdm import tqdm\n",
    "import gensim\n",
    "import pandas as pd\n",
    "import logging\n",
    "from sklearn.cluster import AgglomerativeClustering\n",
    "from matplotlib import pyplot as plt\n",
    "import re\n",
    "import nltk\n",
    "from nltk.corpus import stopwords\n",
    "import json"
   ]
  },
  {
   "cell_type": "code",
   "execution_count": 2,
   "metadata": {
    "ExecuteTime": {
     "end_time": "2020-11-09T11:28:56.486821Z",
     "start_time": "2020-11-09T11:28:56.481426Z"
    }
   },
   "outputs": [],
   "source": [
    "from sklearn.metrics.pairwise import cosine_similarity"
   ]
  },
  {
   "cell_type": "code",
   "execution_count": 3,
   "metadata": {
    "ExecuteTime": {
     "end_time": "2020-11-09T11:28:58.492333Z",
     "start_time": "2020-11-09T11:28:58.358857Z"
    }
   },
   "outputs": [],
   "source": [
    "import seaborn as sns"
   ]
  },
  {
   "cell_type": "code",
   "execution_count": null,
   "metadata": {
    "ExecuteTime": {
     "end_time": "2020-11-09T11:20:43.440329Z",
     "start_time": "2020-11-09T11:20:43.378594Z"
    }
   },
   "outputs": [],
   "source": [
    "# pd.set_option('display.max_columns', None)\n",
    "# pd.set_option('display.max_rows', None)"
   ]
  },
  {
   "cell_type": "code",
   "execution_count": null,
   "metadata": {
    "ExecuteTime": {
     "end_time": "2020-11-09T11:20:43.507395Z",
     "start_time": "2020-11-09T11:20:43.444996Z"
    }
   },
   "outputs": [],
   "source": [
    "# !pip install nltk"
   ]
  },
  {
   "cell_type": "code",
   "execution_count": null,
   "metadata": {
    "ExecuteTime": {
     "end_time": "2020-11-09T11:20:43.572384Z",
     "start_time": "2020-11-09T11:20:43.512658Z"
    }
   },
   "outputs": [],
   "source": [
    "# nltk.download('stopwords')"
   ]
  },
  {
   "cell_type": "code",
   "execution_count": null,
   "metadata": {},
   "outputs": [],
   "source": []
  },
  {
   "cell_type": "code",
   "execution_count": null,
   "metadata": {
    "ExecuteTime": {
     "end_time": "2020-11-09T11:20:43.640721Z",
     "start_time": "2020-11-09T11:20:43.577676Z"
    }
   },
   "outputs": [],
   "source": [
    "#from googletrans import Translator\n",
    "#translator = Translator()"
   ]
  },
  {
   "cell_type": "code",
   "execution_count": 4,
   "metadata": {
    "ExecuteTime": {
     "end_time": "2020-11-09T11:29:07.025687Z",
     "start_time": "2020-11-09T11:29:06.997411Z"
    }
   },
   "outputs": [],
   "source": [
    "# https://towardsdatascience.com/journey-to-the-center-of-multi-label-classification-384c40229bff\n",
    "# https://www.machinelearningmastery.ru/journey-to-the-center-of-multi-label-classification-384c40229bff/#\n",
    "\n",
    "logging.basicConfig(format='%(asctime)s : %(levelname)s : %(message)s', level=logging.INFO)\n",
    "\n",
    "GROUPING_SPACE_REGEX = re.compile(r'([^\\w]|[+])', re.UNICODE)\n",
    "\n",
    "dir_with_files = './lab05data/'\n",
    "\n",
    "train_file_numbers = [1, 2, 3, 4, 5, 6, 7, 8, 9, 10, 11, 12, 13, 14, 15, 16, 17, 18, 19, 20]\n",
    "#train_file_numbers =  [1, 2,    4, 5, 6, 7, 8,            12,     14, 15, 16, 17, 18, 19, 20]\n",
    "# возможно, не все документы нужны - №3 на английском, № 9-10 дубли\n",
    "# но на bag of words это не влияет\n",
    "train_file_pattern = dir_with_files + 'base_{0}.txt'\n",
    "test_file_numbers = [2561, 2049, 4, 2565, 2562, 2062, 3600, 3603, 3588, 534, 3607, 24, 25, 3612, 3102, 2591, 3804, 3627, 1580, 46, 1074, 2100, 3125, 56, 1593, 2485, 2621, 63, 3139, 2316, 610, 2121, 1098, 1099, 588, 2126, 2639, 88, 2140, 607, 1634, 2067, 612, 3175, 3178, 531, 1647, 1136, 1137, 1139, 1146, 1151, 22, 1710, 2692, 1160, 1674, 1560, 3729, 623, 3224, 153, 2206, 1183, 160, 3235, 3748, 684, 1651, 1711, 30, 1714, 2079, 695, 2232, 698, 189, 1227, 1025, 711, 3784, 2253, 2763, 3788, 1741, 2255, 1232, 3283, 383, 2775, 2265, 1829, 1244, 3300, 1767, 1257, 1320, 1747, 3830, 1152, 1279, 3030, 913, 3332, 1798, 2311, 386, 1289, 3340, 269, 1806, 274, 1425, 789, 2863, 1305, 2332, 800, 1825, 2339, 292, 293, 2855, 3368, 562, 2861, 3886, 2351, 2864, 307, 2356, 822, 1019, 3722, 2101, 3387, 2688, 829, 3904, 833, 2279, 3398, 2887, 336, 337, 3473, 854, 3420, 2398, 3426, 3939, 3940, 357, 2918, 1387, 2924, 879, 3442, 1396, 2421, 2427, 1407, 1345, 2438, 1928, 1419, 2456, 1054, 2030, 1937, 402, 2628, 2968, 409, 1437, 1956, 421, 1963, 943, 2481, 3509, 955, 2635, 2496, 455, 972, 3025, 1188, 3542, 3544, 3550, 482, 3699, 2812, 2534, 3566, 1521, 3570, 1525, 2043]\n",
    "test_file_pattern = dir_with_files + 'test_{0}.txt'"
   ]
  },
  {
   "cell_type": "code",
   "execution_count": 5,
   "metadata": {
    "ExecuteTime": {
     "end_time": "2020-11-09T11:29:10.461828Z",
     "start_time": "2020-11-09T11:29:10.447190Z"
    }
   },
   "outputs": [],
   "source": [
    "# стырено здесь: https://stackoverflow.com/questions/753052/strip-html-from-strings-in-python\n",
    "# убирает HTML-тэги из текста\n",
    "class MLStripper(HTMLParser):\n",
    "    def __init__(self):\n",
    "        super().__init__()\n",
    "        self.reset()\n",
    "        self.strict = False\n",
    "        self.convert_charrefs= True\n",
    "        self.text = StringIO()\n",
    "\n",
    "    def handle_data(self, d):\n",
    "        self.text.write(d)\n",
    "\n",
    "    def get_data(self):\n",
    "        return self.text.getvalue()\n",
    "\n",
    "\n",
    "def strip_tags(html):\n",
    "    s = MLStripper()\n",
    "    s.feed(html)\n",
    "    return s.get_data()"
   ]
  },
  {
   "cell_type": "code",
   "execution_count": 6,
   "metadata": {
    "ExecuteTime": {
     "end_time": "2020-11-09T11:29:12.941838Z",
     "start_time": "2020-11-09T11:29:12.923737Z"
    },
    "pycharm": {
     "name": "#%%\n"
    }
   },
   "outputs": [],
   "source": [
    "def read_text_files_to_pandas(num_of_files: List[int], file_pattern: str):\n",
    "    \"\"\"Самодельная читалка файлов.\n",
    "    Читает их и заполняет ими pd.DataFrame\n",
    "\n",
    "    :param num_of_files: Список номеров файлов\n",
    "    :param file_pattern: Шаблон пути к файлу. В него подставляются номера из первого параметра.\n",
    "    \"\"\"\n",
    "    cnt = 0\n",
    "    df = pd.DataFrame(columns=['id', 'text'])  # колонки в результирующем датафрейме\n",
    "    for idx in tqdm(num_of_files):\n",
    "        file_name = file_pattern.format(idx)\n",
    "        with open(file=file_name, mode='rt') as file:\n",
    "            txt = file.read()\n",
    "            txt = strip_tags(txt)\n",
    "            txt = txt.lower().replace('\\n', ' ').replace('\\r', ' ').replace('\\t', ' ')\n",
    "            txt = re.sub(r'[\\.\\,\\;\\!\\?\\(\\)\\[\\]\\:\\\\\\/\\-]+', ' ', txt)\n",
    "            txt = re.sub(r'[\\s]+', ' ', txt)\n",
    "            df.loc[cnt] = [idx, txt]\n",
    "        cnt += 1\n",
    "    return df"
   ]
  },
  {
   "cell_type": "code",
   "execution_count": 7,
   "metadata": {
    "ExecuteTime": {
     "end_time": "2020-11-09T11:29:16.176001Z",
     "start_time": "2020-11-09T11:29:16.165778Z"
    },
    "pycharm": {
     "name": "#%%\n"
    }
   },
   "outputs": [],
   "source": [
    "# куски кода из лекции - для превращения текста в мешок слов\n",
    "def simple_word_tokenize(text: str, _split=GROUPING_SPACE_REGEX.split):\n",
    "    return [t for t in _split(text.lower()) if t and not t.isspace()]\n",
    "\n",
    "\n",
    "def token_r(m: pymorphy2.MorphAnalyzer, text: str):\n",
    "    words = simple_word_tokenize(text)\n",
    "    return [m.parse(x)[0].normal_form for x in words if len(x) >= 4]"
   ]
  },
  {
   "cell_type": "markdown",
   "metadata": {
    "pycharm": {
     "name": "#%% md\n"
    }
   },
   "source": [
    "### Готовим наши массивы"
   ]
  },
  {
   "cell_type": "code",
   "execution_count": 8,
   "metadata": {
    "ExecuteTime": {
     "end_time": "2020-11-09T11:29:28.642054Z",
     "start_time": "2020-11-09T11:29:27.226607Z"
    }
   },
   "outputs": [
    {
     "name": "stderr",
     "output_type": "stream",
     "text": [
      "100%|██████████| 20/20 [00:00<00:00, 84.71it/s]\n",
      "100%|██████████| 200/200 [00:01<00:00, 172.75it/s]\n"
     ]
    }
   ],
   "source": [
    "# готовим наши массивы\n",
    "df = read_text_files_to_pandas(train_file_numbers, train_file_pattern)\n",
    "df_test = read_text_files_to_pandas(test_file_numbers, test_file_pattern)"
   ]
  },
  {
   "cell_type": "code",
   "execution_count": 10,
   "metadata": {
    "ExecuteTime": {
     "end_time": "2020-11-09T11:29:42.832194Z",
     "start_time": "2020-11-09T11:29:42.811392Z"
    }
   },
   "outputs": [
    {
     "data": {
      "text/html": [
       "<div>\n",
       "<style scoped>\n",
       "    .dataframe tbody tr th:only-of-type {\n",
       "        vertical-align: middle;\n",
       "    }\n",
       "\n",
       "    .dataframe tbody tr th {\n",
       "        vertical-align: top;\n",
       "    }\n",
       "\n",
       "    .dataframe thead th {\n",
       "        text-align: right;\n",
       "    }\n",
       "</style>\n",
       "<table border=\"1\" class=\"dataframe\">\n",
       "  <thead>\n",
       "    <tr style=\"text-align: right;\">\n",
       "      <th></th>\n",
       "      <th>id</th>\n",
       "      <th>text</th>\n",
       "    </tr>\n",
       "  </thead>\n",
       "  <tbody>\n",
       "    <tr>\n",
       "      <th>0</th>\n",
       "      <td>1</td>\n",
       "      <td>ищем прекрасного программиста 1с в дружный отд...</td>\n",
       "    </tr>\n",
       "    <tr>\n",
       "      <th>1</th>\n",
       "      <td>2</td>\n",
       "      <td>предлагаем уникальную возможность присоединить...</td>\n",
       "    </tr>\n",
       "    <tr>\n",
       "      <th>2</th>\n",
       "      <td>3</td>\n",
       "      <td>netcracker technology corp a large software de...</td>\n",
       "    </tr>\n",
       "    <tr>\n",
       "      <th>3</th>\n",
       "      <td>4</td>\n",
       "      <td>senior java software engineer в отдел разработ...</td>\n",
       "    </tr>\n",
       "    <tr>\n",
       "      <th>4</th>\n",
       "      <td>5</td>\n",
       "      <td>netcracker technology corp a large software de...</td>\n",
       "    </tr>\n",
       "  </tbody>\n",
       "</table>\n",
       "</div>"
      ],
      "text/plain": [
       "  id                                               text\n",
       "0  1  ищем прекрасного программиста 1с в дружный отд...\n",
       "1  2  предлагаем уникальную возможность присоединить...\n",
       "2  3  netcracker technology corp a large software de...\n",
       "3  4  senior java software engineer в отдел разработ...\n",
       "4  5  netcracker technology corp a large software de..."
      ]
     },
     "execution_count": 10,
     "metadata": {},
     "output_type": "execute_result"
    }
   ],
   "source": [
    "df.head()"
   ]
  },
  {
   "cell_type": "code",
   "execution_count": 11,
   "metadata": {
    "ExecuteTime": {
     "end_time": "2020-11-09T11:29:54.811012Z",
     "start_time": "2020-11-09T11:29:54.782073Z"
    }
   },
   "outputs": [
    {
     "data": {
      "text/html": [
       "<div>\n",
       "<style scoped>\n",
       "    .dataframe tbody tr th:only-of-type {\n",
       "        vertical-align: middle;\n",
       "    }\n",
       "\n",
       "    .dataframe tbody tr th {\n",
       "        vertical-align: top;\n",
       "    }\n",
       "\n",
       "    .dataframe thead th {\n",
       "        text-align: right;\n",
       "    }\n",
       "</style>\n",
       "<table border=\"1\" class=\"dataframe\">\n",
       "  <thead>\n",
       "    <tr style=\"text-align: right;\">\n",
       "      <th></th>\n",
       "      <th>id</th>\n",
       "      <th>text</th>\n",
       "    </tr>\n",
       "  </thead>\n",
       "  <tbody>\n",
       "    <tr>\n",
       "      <th>0</th>\n",
       "      <td>2561</td>\n",
       "      <td>мы ищем талантливых и целеустремленных специал...</td>\n",
       "    </tr>\n",
       "    <tr>\n",
       "      <th>1</th>\n",
       "      <td>2049</td>\n",
       "      <td>чем придется заниматься интаро — лидер в разра...</td>\n",
       "    </tr>\n",
       "    <tr>\n",
       "      <th>2</th>\n",
       "      <td>4</td>\n",
       "      <td>обязанности проектирование и реализация web ин...</td>\n",
       "    </tr>\n",
       "    <tr>\n",
       "      <th>3</th>\n",
       "      <td>2565</td>\n",
       "      <td>ищем опытных разработчиков под android для реа...</td>\n",
       "    </tr>\n",
       "    <tr>\n",
       "      <th>4</th>\n",
       "      <td>2562</td>\n",
       "      <td>работа в германии молодая софт компания evolut...</td>\n",
       "    </tr>\n",
       "  </tbody>\n",
       "</table>\n",
       "</div>"
      ],
      "text/plain": [
       "     id                                               text\n",
       "0  2561  мы ищем талантливых и целеустремленных специал...\n",
       "1  2049  чем придется заниматься интаро — лидер в разра...\n",
       "2     4  обязанности проектирование и реализация web ин...\n",
       "3  2565  ищем опытных разработчиков под android для реа...\n",
       "4  2562  работа в германии молодая софт компания evolut..."
      ]
     },
     "execution_count": 11,
     "metadata": {},
     "output_type": "execute_result"
    }
   ],
   "source": [
    "df_test.head()"
   ]
  },
  {
   "cell_type": "code",
   "execution_count": null,
   "metadata": {
    "ExecuteTime": {
     "end_time": "2020-11-09T11:20:45.596129Z",
     "start_time": "2020-11-09T11:20:45.516524Z"
    }
   },
   "outputs": [],
   "source": [
    "df_test"
   ]
  },
  {
   "cell_type": "code",
   "execution_count": null,
   "metadata": {
    "ExecuteTime": {
     "end_time": "2020-11-09T11:20:45.697478Z",
     "start_time": "2020-11-09T11:20:45.600308Z"
    }
   },
   "outputs": [],
   "source": [
    "# переводим исходные тексты на русский (есть лимит в сколько-то символов в день)\n",
    "#translations = translator.translate(df['text'].tolist(), src='en', dest='ru')\n",
    "#translated = [translation.text for translation in translations]\n",
    "#df['text'] = translated"
   ]
  },
  {
   "cell_type": "code",
   "execution_count": 12,
   "metadata": {
    "ExecuteTime": {
     "end_time": "2020-11-09T11:30:15.987430Z",
     "start_time": "2020-11-09T11:30:06.337748Z"
    }
   },
   "outputs": [
    {
     "name": "stderr",
     "output_type": "stream",
     "text": [
      "2020-11-09 14:30:06,420 : INFO : Loading dictionaries from /home/kit-kat/.virtualenvs/NovikovMS Lab1/lib/python3.6/site-packages/pymorphy2_dicts_ru/data\n",
      "2020-11-09 14:30:06,526 : INFO : format: 2.4, revision: 417127, updated: 2020-10-11T15:05:51.070345\n",
      "100%|██████████| 20/20 [00:00<00:00, 21.20it/s]\n",
      "100%|██████████| 200/200 [00:08<00:00, 23.54it/s]\n"
     ]
    }
   ],
   "source": [
    "m = pymorphy2.MorphAnalyzer()\n",
    "\n",
    "# в обучающем наборе текстов нормализовали все слова (BOW = Bag Of Words)\n",
    "bow_txts = [token_r(m, str(txt)) for txt in tqdm(df.text)]\n",
    "bow_txts_test = [token_r(m, str(txt)) for txt in tqdm(df_test.text)]"
   ]
  },
  {
   "cell_type": "code",
   "execution_count": 13,
   "metadata": {
    "ExecuteTime": {
     "end_time": "2020-11-09T11:30:19.651946Z",
     "start_time": "2020-11-09T11:30:19.584169Z"
    }
   },
   "outputs": [
    {
     "name": "stderr",
     "output_type": "stream",
     "text": [
      "2020-11-09 14:30:19,585 : INFO : adding document #0 to Dictionary(0 unique tokens: [])\n",
      "2020-11-09 14:30:19,648 : INFO : built Dictionary(3950 unique tokens: ['база', 'бухгалтерия', 'вторник', 'данные', 'делать']...) from 220 documents (total 25382 corpus positions)\n"
     ]
    }
   ],
   "source": [
    "# строим словарь по неочищенным текстам\n",
    "wrd_index = gensim.corpora.Dictionary(bow_txts + bow_txts_test)"
   ]
  },
  {
   "cell_type": "code",
   "execution_count": 14,
   "metadata": {
    "ExecuteTime": {
     "end_time": "2020-11-09T11:31:27.122961Z",
     "start_time": "2020-11-09T11:31:27.095867Z"
    }
   },
   "outputs": [
    {
     "data": {
      "text/plain": [
       "{'работа': 0.9409090909090909,\n",
       " 'опыт': 0.7454545454545455,\n",
       " 'условие': 0.6590909090909091,\n",
       " 'требование': 0.7681818181818182,\n",
       " 'обязанность': 0.6590909090909091}"
      ]
     },
     "execution_count": 14,
     "metadata": {},
     "output_type": "execute_result"
    }
   ],
   "source": [
    "# вычисляем бесполезные слова\n",
    "no_above = 0.6\n",
    "buzzwords = {}\n",
    "for key, val in wrd_index.items():\n",
    "    if wrd_index.dfs[key] > no_above * wrd_index.num_docs:\n",
    "        buzzwords[val] = wrd_index.dfs[key]/wrd_index.num_docs\n",
    "buzzwords"
   ]
  },
  {
   "cell_type": "code",
   "execution_count": 15,
   "metadata": {
    "ExecuteTime": {
     "end_time": "2020-11-09T11:31:34.120559Z",
     "start_time": "2020-11-09T11:31:34.111290Z"
    }
   },
   "outputs": [],
   "source": [
    "# получаем стоп-слова\n",
    "ru_stopwords = set(stopwords.words('russian')).union(buzzwords.keys())"
   ]
  },
  {
   "cell_type": "code",
   "execution_count": 16,
   "metadata": {
    "ExecuteTime": {
     "end_time": "2020-11-09T11:31:37.552306Z",
     "start_time": "2020-11-09T11:31:37.525790Z"
    },
    "pycharm": {
     "name": "#%%\n"
    }
   },
   "outputs": [
    {
     "name": "stderr",
     "output_type": "stream",
     "text": [
      "100%|██████████| 20/20 [00:00<00:00, 14990.36it/s]\n",
      "100%|██████████| 200/200 [00:00<00:00, 26675.38it/s]\n"
     ]
    }
   ],
   "source": [
    "# убираем из bagofwords стоп-слова\n",
    "bow_txts_nostop = [list(set(txt).difference(ru_stopwords)) for txt in tqdm(bow_txts)]  \n",
    "bow_txts_test_nostop = [list(set(txt).difference(ru_stopwords)) for txt in tqdm(bow_txts_test)]"
   ]
  },
  {
   "cell_type": "code",
   "execution_count": null,
   "metadata": {
    "pycharm": {
     "name": "#%%\n"
    }
   },
   "outputs": [],
   "source": []
  },
  {
   "cell_type": "code",
   "execution_count": 17,
   "metadata": {
    "ExecuteTime": {
     "end_time": "2020-11-09T11:31:42.695097Z",
     "start_time": "2020-11-09T11:31:42.673644Z"
    },
    "scrolled": true
   },
   "outputs": [
    {
     "name": "stderr",
     "output_type": "stream",
     "text": [
      "2020-11-09 14:31:42,676 : INFO : adding document #0 to Dictionary(0 unique tokens: [])\n",
      "2020-11-09 14:31:42,690 : INFO : built Dictionary(998 unique tokens: ['база', 'бухгалтерия', 'вторник', 'данные', 'делать']...) from 20 documents (total 2318 corpus positions)\n"
     ]
    }
   ],
   "source": [
    "# построили словарь по очищенным текстам (только по train выборке!!!)\n",
    "wrd_index_nostop = gensim.corpora.Dictionary(bow_txts_nostop)  "
   ]
  },
  {
   "cell_type": "code",
   "execution_count": 18,
   "metadata": {
    "ExecuteTime": {
     "end_time": "2020-11-09T11:31:46.211338Z",
     "start_time": "2020-11-09T11:31:46.157109Z"
    },
    "pycharm": {
     "name": "#%%\n"
    }
   },
   "outputs": [
    {
     "name": "stderr",
     "output_type": "stream",
     "text": [
      "100%|██████████| 20/20 [00:00<00:00, 3244.11it/s]\n",
      "100%|██████████| 200/200 [00:00<00:00, 6227.21it/s]\n"
     ]
    }
   ],
   "source": [
    "# в обучающих текстах слова заменены на индексы слов из словаря их количество в тексте\n",
    "corpus = [wrd_index_nostop.doc2bow(txt) for txt in tqdm(bow_txts_nostop)]\n",
    "corpus_test = [wrd_index_nostop.doc2bow(txt) for txt in tqdm(bow_txts_test_nostop)]"
   ]
  },
  {
   "cell_type": "code",
   "execution_count": 20,
   "metadata": {
    "ExecuteTime": {
     "end_time": "2020-11-09T11:32:18.343475Z",
     "start_time": "2020-11-09T11:32:18.334105Z"
    }
   },
   "outputs": [
    {
     "data": {
      "text/plain": [
       "<gensim.corpora.dictionary.Dictionary at 0x7fdf0b327b00>"
      ]
     },
     "execution_count": 20,
     "metadata": {},
     "output_type": "execute_result"
    }
   ],
   "source": []
  },
  {
   "cell_type": "markdown",
   "metadata": {
    "pycharm": {
     "name": "#%% md\n"
    }
   },
   "source": [
    "## Без выделения тематик из текстов"
   ]
  },
  {
   "cell_type": "markdown",
   "metadata": {
    "pycharm": {
     "name": "#%% md\n"
    }
   },
   "source": [
    "#### Создаём массивы из 0/1 для подсчёта корреляции"
   ]
  },
  {
   "cell_type": "code",
   "execution_count": 21,
   "metadata": {
    "ExecuteTime": {
     "end_time": "2020-11-09T11:32:48.797414Z",
     "start_time": "2020-11-09T11:32:48.535320Z"
    }
   },
   "outputs": [],
   "source": [
    "# количество столбцов = количеству оставшихся уникальных слов в словаре после вычета стоп-слов\n",
    "num_of_topics = len(wrd_index_nostop)\n",
    "words_only_columns = ['t_{0}'.format(i) for i in range(num_of_topics)]\n",
    "columns = ['id', 'df_num'] + words_only_columns\n",
    "\n",
    "# собрали dataframe'ы - в строках - номера текстов, в столбцах - номера слов в словаре. На пересечении - 0 или 1.\n",
    "df_bow_orig = pd.DataFrame(columns=columns)\n",
    "df_bow_unknown = pd.DataFrame(columns=columns)"
   ]
  },
  {
   "cell_type": "markdown",
   "metadata": {
    "pycharm": {
     "name": "#%% md\n"
    }
   },
   "source": [
    "#### Заполняем массивы 0/1"
   ]
  },
  {
   "cell_type": "code",
   "execution_count": 22,
   "metadata": {
    "ExecuteTime": {
     "end_time": "2020-11-09T11:32:56.190961Z",
     "start_time": "2020-11-09T11:32:56.044742Z"
    }
   },
   "outputs": [],
   "source": [
    "for i in range(len(corpus)):\n",
    "    lst = [0]*num_of_topics\n",
    "    for k, v in corpus[i]:\n",
    "        lst[k] = v\n",
    "    df_bow_orig.loc[i] = [train_file_numbers[i], 1] + lst  # заполняем df для кластерного анализа"
   ]
  },
  {
   "cell_type": "code",
   "execution_count": 23,
   "metadata": {
    "ExecuteTime": {
     "end_time": "2020-11-09T11:33:02.858448Z",
     "start_time": "2020-11-09T11:33:01.431747Z"
    }
   },
   "outputs": [],
   "source": [
    "for i in range(len(corpus_test)):\n",
    "    lst = [0]*num_of_topics\n",
    "    for k, v in corpus_test[i]:\n",
    "        lst[k] = v\n",
    "    df_bow_unknown.loc[i] = [test_file_numbers[i], 0] + lst  # заполняем df для кластерного анализа"
   ]
  },
  {
   "cell_type": "code",
   "execution_count": 26,
   "metadata": {
    "ExecuteTime": {
     "end_time": "2020-11-09T11:33:44.301991Z",
     "start_time": "2020-11-09T11:33:43.418667Z"
    },
    "jupyter": {
     "outputs_hidden": false
    },
    "pycharm": {
     "name": "#%%\n"
    }
   },
   "outputs": [
    {
     "data": {
      "text/plain": [
       "<AxesSubplot:>"
      ]
     },
     "execution_count": 26,
     "metadata": {},
     "output_type": "execute_result"
    },
    {
     "data": {
      "image/png": "[encoded data removed]",
      "text/plain": [
       "<Figure size 432x288 with 2 Axes>"
      ]
     },
     "metadata": {
      "needs_background": "light"
     },
     "output_type": "display_data"
    }
   ],
   "source": [
    "# это, чтобы посмотреть корреляции train * train\n",
    "cos_matrix = cosine_similarity(df_bow_orig[words_only_columns], \n",
    "                               df_bow_orig[words_only_columns])\n",
    "cos_matrix.shape\n",
    "\n",
    "sns.heatmap(cos_matrix)"
   ]
  },
  {
   "cell_type": "code",
   "execution_count": 27,
   "metadata": {
    "ExecuteTime": {
     "end_time": "2020-11-09T11:33:54.678941Z",
     "start_time": "2020-11-09T11:33:54.615174Z"
    }
   },
   "outputs": [
    {
     "data": {
      "text/plain": [
       "(200, 20)"
      ]
     },
     "execution_count": 27,
     "metadata": {},
     "output_type": "execute_result"
    }
   ],
   "source": [
    "# строим корреляционную матрицу: тексты из test (в строках) vs. тексты из train (в столбцах)\n",
    "cos_matrix = cosine_similarity(df_bow_unknown[words_only_columns], \n",
    "                               df_bow_orig[words_only_columns])\n",
    "cos_matrix.shape"
   ]
  },
  {
   "cell_type": "code",
   "execution_count": 28,
   "metadata": {
    "ExecuteTime": {
     "end_time": "2020-11-09T11:33:59.855005Z",
     "start_time": "2020-11-09T11:33:59.839654Z"
    },
    "jupyter": {
     "outputs_hidden": false
    },
    "pycharm": {
     "name": "#%%\n"
    }
   },
   "outputs": [
    {
     "data": {
      "text/plain": [
       "(200, 998)"
      ]
     },
     "execution_count": 28,
     "metadata": {},
     "output_type": "execute_result"
    }
   ],
   "source": [
    "df_bow_unknown[words_only_columns].shape"
   ]
  },
  {
   "cell_type": "code",
   "execution_count": 29,
   "metadata": {
    "ExecuteTime": {
     "end_time": "2020-11-09T11:34:02.839365Z",
     "start_time": "2020-11-09T11:34:02.827034Z"
    },
    "jupyter": {
     "outputs_hidden": false
    },
    "pycharm": {
     "name": "#%%\n"
    }
   },
   "outputs": [
    {
     "data": {
      "text/plain": [
       "(20, 998)"
      ]
     },
     "execution_count": 29,
     "metadata": {},
     "output_type": "execute_result"
    }
   ],
   "source": [
    "df_bow_orig[words_only_columns].shape"
   ]
  },
  {
   "cell_type": "code",
   "execution_count": 30,
   "metadata": {
    "ExecuteTime": {
     "end_time": "2020-11-09T11:34:09.397402Z",
     "start_time": "2020-11-09T11:34:09.391323Z"
    },
    "jupyter": {
     "outputs_hidden": false
    },
    "pycharm": {
     "name": "#%%\n"
    }
   },
   "outputs": [],
   "source": [
    "com_m = pd.DataFrame(cos_matrix)"
   ]
  },
  {
   "cell_type": "code",
   "execution_count": 31,
   "metadata": {
    "ExecuteTime": {
     "end_time": "2020-11-09T11:34:12.686985Z",
     "start_time": "2020-11-09T11:34:12.597218Z"
    },
    "jupyter": {
     "outputs_hidden": false
    },
    "pycharm": {
     "name": "#%%\n"
    }
   },
   "outputs": [
    {
     "data": {
      "text/html": [
       "<div>\n",
       "<style scoped>\n",
       "    .dataframe tbody tr th:only-of-type {\n",
       "        vertical-align: middle;\n",
       "    }\n",
       "\n",
       "    .dataframe tbody tr th {\n",
       "        vertical-align: top;\n",
       "    }\n",
       "\n",
       "    .dataframe thead th {\n",
       "        text-align: right;\n",
       "    }\n",
       "</style>\n",
       "<table border=\"1\" class=\"dataframe\">\n",
       "  <thead>\n",
       "    <tr style=\"text-align: right;\">\n",
       "      <th></th>\n",
       "      <th>0</th>\n",
       "      <th>1</th>\n",
       "      <th>2</th>\n",
       "      <th>3</th>\n",
       "      <th>4</th>\n",
       "      <th>5</th>\n",
       "      <th>6</th>\n",
       "      <th>7</th>\n",
       "      <th>8</th>\n",
       "      <th>9</th>\n",
       "      <th>...</th>\n",
       "      <th>12</th>\n",
       "      <th>13</th>\n",
       "      <th>14</th>\n",
       "      <th>15</th>\n",
       "      <th>16</th>\n",
       "      <th>17</th>\n",
       "      <th>18</th>\n",
       "      <th>19</th>\n",
       "      <th>cos_max</th>\n",
       "      <th>cos_sum</th>\n",
       "    </tr>\n",
       "  </thead>\n",
       "  <tbody>\n",
       "    <tr>\n",
       "      <th>0</th>\n",
       "      <td>0.095077</td>\n",
       "      <td>0.161479</td>\n",
       "      <td>0.024175</td>\n",
       "      <td>0.237375</td>\n",
       "      <td>0.028242</td>\n",
       "      <td>0.172224</td>\n",
       "      <td>0.026856</td>\n",
       "      <td>0.127661</td>\n",
       "      <td>0.127661</td>\n",
       "      <td>0.127661</td>\n",
       "      <td>...</td>\n",
       "      <td>0.117170</td>\n",
       "      <td>0.119864</td>\n",
       "      <td>0.159120</td>\n",
       "      <td>0.227611</td>\n",
       "      <td>0.230144</td>\n",
       "      <td>0.189453</td>\n",
       "      <td>0.192635</td>\n",
       "      <td>0.211021</td>\n",
       "      <td>0.237375</td>\n",
       "      <td>2.820260</td>\n",
       "    </tr>\n",
       "    <tr>\n",
       "      <th>1</th>\n",
       "      <td>0.087287</td>\n",
       "      <td>0.177900</td>\n",
       "      <td>0.000000</td>\n",
       "      <td>0.252796</td>\n",
       "      <td>0.012964</td>\n",
       "      <td>0.237171</td>\n",
       "      <td>0.012328</td>\n",
       "      <td>0.222683</td>\n",
       "      <td>0.222683</td>\n",
       "      <td>0.222683</td>\n",
       "      <td>...</td>\n",
       "      <td>0.227093</td>\n",
       "      <td>0.144433</td>\n",
       "      <td>0.252326</td>\n",
       "      <td>0.290227</td>\n",
       "      <td>0.190160</td>\n",
       "      <td>0.241571</td>\n",
       "      <td>0.197659</td>\n",
       "      <td>0.170941</td>\n",
       "      <td>0.290227</td>\n",
       "      <td>3.612684</td>\n",
       "    </tr>\n",
       "    <tr>\n",
       "      <th>2</th>\n",
       "      <td>0.022473</td>\n",
       "      <td>0.244282</td>\n",
       "      <td>0.000000</td>\n",
       "      <td>0.269321</td>\n",
       "      <td>0.000000</td>\n",
       "      <td>0.232621</td>\n",
       "      <td>0.000000</td>\n",
       "      <td>0.217262</td>\n",
       "      <td>0.217262</td>\n",
       "      <td>0.217262</td>\n",
       "      <td>...</td>\n",
       "      <td>0.233874</td>\n",
       "      <td>0.205410</td>\n",
       "      <td>0.177799</td>\n",
       "      <td>0.251070</td>\n",
       "      <td>0.206717</td>\n",
       "      <td>0.189076</td>\n",
       "      <td>0.203561</td>\n",
       "      <td>0.199517</td>\n",
       "      <td>0.269321</td>\n",
       "      <td>3.538644</td>\n",
       "    </tr>\n",
       "    <tr>\n",
       "      <th>3</th>\n",
       "      <td>0.059235</td>\n",
       "      <td>0.201211</td>\n",
       "      <td>0.015062</td>\n",
       "      <td>0.177468</td>\n",
       "      <td>0.017595</td>\n",
       "      <td>0.091971</td>\n",
       "      <td>0.016732</td>\n",
       "      <td>0.174978</td>\n",
       "      <td>0.174978</td>\n",
       "      <td>0.174978</td>\n",
       "      <td>...</td>\n",
       "      <td>0.178444</td>\n",
       "      <td>0.149357</td>\n",
       "      <td>0.324443</td>\n",
       "      <td>0.283614</td>\n",
       "      <td>0.129046</td>\n",
       "      <td>0.183608</td>\n",
       "      <td>0.211793</td>\n",
       "      <td>0.139205</td>\n",
       "      <td>0.324443</td>\n",
       "      <td>3.057140</td>\n",
       "    </tr>\n",
       "    <tr>\n",
       "      <th>4</th>\n",
       "      <td>0.000000</td>\n",
       "      <td>0.189466</td>\n",
       "      <td>0.020261</td>\n",
       "      <td>0.111406</td>\n",
       "      <td>0.023669</td>\n",
       "      <td>0.123718</td>\n",
       "      <td>0.022507</td>\n",
       "      <td>0.085592</td>\n",
       "      <td>0.085592</td>\n",
       "      <td>0.085592</td>\n",
       "      <td>...</td>\n",
       "      <td>0.087287</td>\n",
       "      <td>0.125570</td>\n",
       "      <td>0.048493</td>\n",
       "      <td>0.169562</td>\n",
       "      <td>0.077152</td>\n",
       "      <td>0.105851</td>\n",
       "      <td>0.056980</td>\n",
       "      <td>0.062419</td>\n",
       "      <td>0.189466</td>\n",
       "      <td>1.653997</td>\n",
       "    </tr>\n",
       "    <tr>\n",
       "      <th>...</th>\n",
       "      <td>...</td>\n",
       "      <td>...</td>\n",
       "      <td>...</td>\n",
       "      <td>...</td>\n",
       "      <td>...</td>\n",
       "      <td>...</td>\n",
       "      <td>...</td>\n",
       "      <td>...</td>\n",
       "      <td>...</td>\n",
       "      <td>...</td>\n",
       "      <td>...</td>\n",
       "      <td>...</td>\n",
       "      <td>...</td>\n",
       "      <td>...</td>\n",
       "      <td>...</td>\n",
       "      <td>...</td>\n",
       "      <td>...</td>\n",
       "      <td>...</td>\n",
       "      <td>...</td>\n",
       "      <td>...</td>\n",
       "      <td>...</td>\n",
       "    </tr>\n",
       "    <tr>\n",
       "      <th>195</th>\n",
       "      <td>0.120060</td>\n",
       "      <td>0.122347</td>\n",
       "      <td>0.030528</td>\n",
       "      <td>0.239801</td>\n",
       "      <td>0.035663</td>\n",
       "      <td>0.170877</td>\n",
       "      <td>0.033913</td>\n",
       "      <td>0.112845</td>\n",
       "      <td>0.112845</td>\n",
       "      <td>0.112845</td>\n",
       "      <td>...</td>\n",
       "      <td>0.131519</td>\n",
       "      <td>0.141901</td>\n",
       "      <td>0.127866</td>\n",
       "      <td>0.159678</td>\n",
       "      <td>0.188902</td>\n",
       "      <td>0.172781</td>\n",
       "      <td>0.143091</td>\n",
       "      <td>0.094049</td>\n",
       "      <td>0.239801</td>\n",
       "      <td>2.495875</td>\n",
       "    </tr>\n",
       "    <tr>\n",
       "      <th>196</th>\n",
       "      <td>0.118470</td>\n",
       "      <td>0.100605</td>\n",
       "      <td>0.000000</td>\n",
       "      <td>0.153806</td>\n",
       "      <td>0.000000</td>\n",
       "      <td>0.168613</td>\n",
       "      <td>0.000000</td>\n",
       "      <td>0.079536</td>\n",
       "      <td>0.079536</td>\n",
       "      <td>0.079536</td>\n",
       "      <td>...</td>\n",
       "      <td>0.113555</td>\n",
       "      <td>0.130687</td>\n",
       "      <td>0.090123</td>\n",
       "      <td>0.078782</td>\n",
       "      <td>0.157723</td>\n",
       "      <td>0.183608</td>\n",
       "      <td>0.169435</td>\n",
       "      <td>0.185606</td>\n",
       "      <td>0.185606</td>\n",
       "      <td>2.082711</td>\n",
       "    </tr>\n",
       "    <tr>\n",
       "      <th>197</th>\n",
       "      <td>0.057735</td>\n",
       "      <td>0.078446</td>\n",
       "      <td>0.000000</td>\n",
       "      <td>0.092253</td>\n",
       "      <td>0.000000</td>\n",
       "      <td>0.089642</td>\n",
       "      <td>0.000000</td>\n",
       "      <td>0.031009</td>\n",
       "      <td>0.031009</td>\n",
       "      <td>0.031009</td>\n",
       "      <td>...</td>\n",
       "      <td>0.031623</td>\n",
       "      <td>0.072787</td>\n",
       "      <td>0.105409</td>\n",
       "      <td>0.030715</td>\n",
       "      <td>0.055902</td>\n",
       "      <td>0.076696</td>\n",
       "      <td>0.110096</td>\n",
       "      <td>0.060302</td>\n",
       "      <td>0.110096</td>\n",
       "      <td>1.017265</td>\n",
       "    </tr>\n",
       "    <tr>\n",
       "      <th>198</th>\n",
       "      <td>0.076139</td>\n",
       "      <td>0.077589</td>\n",
       "      <td>0.000000</td>\n",
       "      <td>0.121660</td>\n",
       "      <td>0.000000</td>\n",
       "      <td>0.098514</td>\n",
       "      <td>0.000000</td>\n",
       "      <td>0.020447</td>\n",
       "      <td>0.020447</td>\n",
       "      <td>0.020447</td>\n",
       "      <td>...</td>\n",
       "      <td>0.083406</td>\n",
       "      <td>0.071992</td>\n",
       "      <td>0.023168</td>\n",
       "      <td>0.040505</td>\n",
       "      <td>0.092151</td>\n",
       "      <td>0.118002</td>\n",
       "      <td>0.145191</td>\n",
       "      <td>0.059643</td>\n",
       "      <td>0.145191</td>\n",
       "      <td>1.173152</td>\n",
       "    </tr>\n",
       "    <tr>\n",
       "      <th>199</th>\n",
       "      <td>0.141134</td>\n",
       "      <td>0.246552</td>\n",
       "      <td>0.030760</td>\n",
       "      <td>0.314108</td>\n",
       "      <td>0.047912</td>\n",
       "      <td>0.271305</td>\n",
       "      <td>0.045561</td>\n",
       "      <td>0.216574</td>\n",
       "      <td>0.216574</td>\n",
       "      <td>0.216574</td>\n",
       "      <td>...</td>\n",
       "      <td>0.176690</td>\n",
       "      <td>0.184284</td>\n",
       "      <td>0.233133</td>\n",
       "      <td>0.246699</td>\n",
       "      <td>0.204978</td>\n",
       "      <td>0.205341</td>\n",
       "      <td>0.173013</td>\n",
       "      <td>0.168468</td>\n",
       "      <td>0.314108</td>\n",
       "      <td>3.732924</td>\n",
       "    </tr>\n",
       "  </tbody>\n",
       "</table>\n",
       "<p>200 rows × 22 columns</p>\n",
       "</div>"
      ],
      "text/plain": [
       "            0         1         2         3         4         5         6  \\\n",
       "0    0.095077  0.161479  0.024175  0.237375  0.028242  0.172224  0.026856   \n",
       "1    0.087287  0.177900  0.000000  0.252796  0.012964  0.237171  0.012328   \n",
       "2    0.022473  0.244282  0.000000  0.269321  0.000000  0.232621  0.000000   \n",
       "3    0.059235  0.201211  0.015062  0.177468  0.017595  0.091971  0.016732   \n",
       "4    0.000000  0.189466  0.020261  0.111406  0.023669  0.123718  0.022507   \n",
       "..        ...       ...       ...       ...       ...       ...       ...   \n",
       "195  0.120060  0.122347  0.030528  0.239801  0.035663  0.170877  0.033913   \n",
       "196  0.118470  0.100605  0.000000  0.153806  0.000000  0.168613  0.000000   \n",
       "197  0.057735  0.078446  0.000000  0.092253  0.000000  0.089642  0.000000   \n",
       "198  0.076139  0.077589  0.000000  0.121660  0.000000  0.098514  0.000000   \n",
       "199  0.141134  0.246552  0.030760  0.314108  0.047912  0.271305  0.045561   \n",
       "\n",
       "            7         8         9  ...        12        13        14  \\\n",
       "0    0.127661  0.127661  0.127661  ...  0.117170  0.119864  0.159120   \n",
       "1    0.222683  0.222683  0.222683  ...  0.227093  0.144433  0.252326   \n",
       "2    0.217262  0.217262  0.217262  ...  0.233874  0.205410  0.177799   \n",
       "3    0.174978  0.174978  0.174978  ...  0.178444  0.149357  0.324443   \n",
       "4    0.085592  0.085592  0.085592  ...  0.087287  0.125570  0.048493   \n",
       "..        ...       ...       ...  ...       ...       ...       ...   \n",
       "195  0.112845  0.112845  0.112845  ...  0.131519  0.141901  0.127866   \n",
       "196  0.079536  0.079536  0.079536  ...  0.113555  0.130687  0.090123   \n",
       "197  0.031009  0.031009  0.031009  ...  0.031623  0.072787  0.105409   \n",
       "198  0.020447  0.020447  0.020447  ...  0.083406  0.071992  0.023168   \n",
       "199  0.216574  0.216574  0.216574  ...  0.176690  0.184284  0.233133   \n",
       "\n",
       "           15        16        17        18        19   cos_max   cos_sum  \n",
       "0    0.227611  0.230144  0.189453  0.192635  0.211021  0.237375  2.820260  \n",
       "1    0.290227  0.190160  0.241571  0.197659  0.170941  0.290227  3.612684  \n",
       "2    0.251070  0.206717  0.189076  0.203561  0.199517  0.269321  3.538644  \n",
       "3    0.283614  0.129046  0.183608  0.211793  0.139205  0.324443  3.057140  \n",
       "4    0.169562  0.077152  0.105851  0.056980  0.062419  0.189466  1.653997  \n",
       "..        ...       ...       ...       ...       ...       ...       ...  \n",
       "195  0.159678  0.188902  0.172781  0.143091  0.094049  0.239801  2.495875  \n",
       "196  0.078782  0.157723  0.183608  0.169435  0.185606  0.185606  2.082711  \n",
       "197  0.030715  0.055902  0.076696  0.110096  0.060302  0.110096  1.017265  \n",
       "198  0.040505  0.092151  0.118002  0.145191  0.059643  0.145191  1.173152  \n",
       "199  0.246699  0.204978  0.205341  0.173013  0.168468  0.314108  3.732924  \n",
       "\n",
       "[200 rows x 22 columns]"
      ]
     },
     "execution_count": 31,
     "metadata": {},
     "output_type": "execute_result"
    }
   ],
   "source": [
    "# выводим матрицу корреляции текстов( в строках test, в столбцах - train)\n",
    "com_m['cos_max'] = com_m[list(range(cos_matrix.shape[1]))].max(axis=1)  # максимум по строке\n",
    "com_m['cos_sum'] = com_m[list(range(cos_matrix.shape[1]))].sum(axis=1)  # сумма по строке\n",
    "com_m"
   ]
  },
  {
   "cell_type": "code",
   "execution_count": 32,
   "metadata": {
    "ExecuteTime": {
     "end_time": "2020-11-09T11:34:16.318618Z",
     "start_time": "2020-11-09T11:34:16.299174Z"
    },
    "jupyter": {
     "outputs_hidden": false
    },
    "pycharm": {
     "name": "#%%\n"
    }
   },
   "outputs": [],
   "source": [
    "# делим тексты на две кучки - выше среднего по выборке и ниже среднего по выборке\n",
    "distr = pd.DataFrame(data=cos_matrix).sum(axis=1)  # столбец с суммами корреляций вытаскиваем отдельно\n",
    "df_bow_unknown['cosine'] = distr  \n",
    "df_bow_unknown['flag'] = 1*(df_bow_unknown['cosine'] > distr.mean())  # проверка на больше/меньше средней по выборке"
   ]
  },
  {
   "cell_type": "code",
   "execution_count": 33,
   "metadata": {
    "ExecuteTime": {
     "end_time": "2020-11-09T11:34:20.972252Z",
     "start_time": "2020-11-09T11:34:20.887281Z"
    },
    "jupyter": {
     "outputs_hidden": false
    },
    "pycharm": {
     "name": "#%%\n"
    }
   },
   "outputs": [
    {
     "data": {
      "text/html": [
       "<div>\n",
       "<style scoped>\n",
       "    .dataframe tbody tr th:only-of-type {\n",
       "        vertical-align: middle;\n",
       "    }\n",
       "\n",
       "    .dataframe tbody tr th {\n",
       "        vertical-align: top;\n",
       "    }\n",
       "\n",
       "    .dataframe thead th {\n",
       "        text-align: right;\n",
       "    }\n",
       "</style>\n",
       "<table border=\"1\" class=\"dataframe\">\n",
       "  <thead>\n",
       "    <tr style=\"text-align: right;\">\n",
       "      <th></th>\n",
       "      <th>id</th>\n",
       "      <th>df_num</th>\n",
       "      <th>t_0</th>\n",
       "      <th>t_1</th>\n",
       "      <th>t_2</th>\n",
       "      <th>t_3</th>\n",
       "      <th>t_4</th>\n",
       "      <th>t_5</th>\n",
       "      <th>t_6</th>\n",
       "      <th>t_7</th>\n",
       "      <th>...</th>\n",
       "      <th>t_990</th>\n",
       "      <th>t_991</th>\n",
       "      <th>t_992</th>\n",
       "      <th>t_993</th>\n",
       "      <th>t_994</th>\n",
       "      <th>t_995</th>\n",
       "      <th>t_996</th>\n",
       "      <th>t_997</th>\n",
       "      <th>cosine</th>\n",
       "      <th>flag</th>\n",
       "    </tr>\n",
       "  </thead>\n",
       "  <tbody>\n",
       "    <tr>\n",
       "      <th>0</th>\n",
       "      <td>2561</td>\n",
       "      <td>0</td>\n",
       "      <td>0</td>\n",
       "      <td>0</td>\n",
       "      <td>0</td>\n",
       "      <td>0</td>\n",
       "      <td>0</td>\n",
       "      <td>0</td>\n",
       "      <td>0</td>\n",
       "      <td>1</td>\n",
       "      <td>...</td>\n",
       "      <td>0</td>\n",
       "      <td>0</td>\n",
       "      <td>0</td>\n",
       "      <td>0</td>\n",
       "      <td>0</td>\n",
       "      <td>0</td>\n",
       "      <td>0</td>\n",
       "      <td>0</td>\n",
       "      <td>2.820260</td>\n",
       "      <td>1</td>\n",
       "    </tr>\n",
       "    <tr>\n",
       "      <th>1</th>\n",
       "      <td>2049</td>\n",
       "      <td>0</td>\n",
       "      <td>0</td>\n",
       "      <td>0</td>\n",
       "      <td>0</td>\n",
       "      <td>1</td>\n",
       "      <td>0</td>\n",
       "      <td>0</td>\n",
       "      <td>0</td>\n",
       "      <td>0</td>\n",
       "      <td>...</td>\n",
       "      <td>0</td>\n",
       "      <td>1</td>\n",
       "      <td>0</td>\n",
       "      <td>0</td>\n",
       "      <td>0</td>\n",
       "      <td>0</td>\n",
       "      <td>0</td>\n",
       "      <td>0</td>\n",
       "      <td>3.612684</td>\n",
       "      <td>1</td>\n",
       "    </tr>\n",
       "    <tr>\n",
       "      <th>2</th>\n",
       "      <td>4</td>\n",
       "      <td>0</td>\n",
       "      <td>0</td>\n",
       "      <td>0</td>\n",
       "      <td>0</td>\n",
       "      <td>0</td>\n",
       "      <td>0</td>\n",
       "      <td>0</td>\n",
       "      <td>0</td>\n",
       "      <td>0</td>\n",
       "      <td>...</td>\n",
       "      <td>0</td>\n",
       "      <td>0</td>\n",
       "      <td>0</td>\n",
       "      <td>0</td>\n",
       "      <td>0</td>\n",
       "      <td>0</td>\n",
       "      <td>0</td>\n",
       "      <td>0</td>\n",
       "      <td>3.538644</td>\n",
       "      <td>1</td>\n",
       "    </tr>\n",
       "    <tr>\n",
       "      <th>3</th>\n",
       "      <td>2565</td>\n",
       "      <td>0</td>\n",
       "      <td>0</td>\n",
       "      <td>0</td>\n",
       "      <td>0</td>\n",
       "      <td>1</td>\n",
       "      <td>0</td>\n",
       "      <td>0</td>\n",
       "      <td>0</td>\n",
       "      <td>1</td>\n",
       "      <td>...</td>\n",
       "      <td>0</td>\n",
       "      <td>0</td>\n",
       "      <td>0</td>\n",
       "      <td>0</td>\n",
       "      <td>0</td>\n",
       "      <td>0</td>\n",
       "      <td>0</td>\n",
       "      <td>0</td>\n",
       "      <td>3.057140</td>\n",
       "      <td>1</td>\n",
       "    </tr>\n",
       "    <tr>\n",
       "      <th>4</th>\n",
       "      <td>2562</td>\n",
       "      <td>0</td>\n",
       "      <td>0</td>\n",
       "      <td>0</td>\n",
       "      <td>0</td>\n",
       "      <td>0</td>\n",
       "      <td>0</td>\n",
       "      <td>0</td>\n",
       "      <td>0</td>\n",
       "      <td>0</td>\n",
       "      <td>...</td>\n",
       "      <td>0</td>\n",
       "      <td>0</td>\n",
       "      <td>0</td>\n",
       "      <td>0</td>\n",
       "      <td>0</td>\n",
       "      <td>0</td>\n",
       "      <td>0</td>\n",
       "      <td>0</td>\n",
       "      <td>1.653997</td>\n",
       "      <td>0</td>\n",
       "    </tr>\n",
       "    <tr>\n",
       "      <th>...</th>\n",
       "      <td>...</td>\n",
       "      <td>...</td>\n",
       "      <td>...</td>\n",
       "      <td>...</td>\n",
       "      <td>...</td>\n",
       "      <td>...</td>\n",
       "      <td>...</td>\n",
       "      <td>...</td>\n",
       "      <td>...</td>\n",
       "      <td>...</td>\n",
       "      <td>...</td>\n",
       "      <td>...</td>\n",
       "      <td>...</td>\n",
       "      <td>...</td>\n",
       "      <td>...</td>\n",
       "      <td>...</td>\n",
       "      <td>...</td>\n",
       "      <td>...</td>\n",
       "      <td>...</td>\n",
       "      <td>...</td>\n",
       "      <td>...</td>\n",
       "    </tr>\n",
       "    <tr>\n",
       "      <th>195</th>\n",
       "      <td>3566</td>\n",
       "      <td>0</td>\n",
       "      <td>1</td>\n",
       "      <td>0</td>\n",
       "      <td>0</td>\n",
       "      <td>1</td>\n",
       "      <td>0</td>\n",
       "      <td>0</td>\n",
       "      <td>0</td>\n",
       "      <td>0</td>\n",
       "      <td>...</td>\n",
       "      <td>0</td>\n",
       "      <td>0</td>\n",
       "      <td>0</td>\n",
       "      <td>0</td>\n",
       "      <td>0</td>\n",
       "      <td>0</td>\n",
       "      <td>0</td>\n",
       "      <td>0</td>\n",
       "      <td>2.495875</td>\n",
       "      <td>1</td>\n",
       "    </tr>\n",
       "    <tr>\n",
       "      <th>196</th>\n",
       "      <td>1521</td>\n",
       "      <td>0</td>\n",
       "      <td>0</td>\n",
       "      <td>0</td>\n",
       "      <td>0</td>\n",
       "      <td>0</td>\n",
       "      <td>0</td>\n",
       "      <td>0</td>\n",
       "      <td>0</td>\n",
       "      <td>0</td>\n",
       "      <td>...</td>\n",
       "      <td>0</td>\n",
       "      <td>0</td>\n",
       "      <td>0</td>\n",
       "      <td>0</td>\n",
       "      <td>0</td>\n",
       "      <td>0</td>\n",
       "      <td>0</td>\n",
       "      <td>0</td>\n",
       "      <td>2.082711</td>\n",
       "      <td>0</td>\n",
       "    </tr>\n",
       "    <tr>\n",
       "      <th>197</th>\n",
       "      <td>3570</td>\n",
       "      <td>0</td>\n",
       "      <td>1</td>\n",
       "      <td>0</td>\n",
       "      <td>0</td>\n",
       "      <td>0</td>\n",
       "      <td>0</td>\n",
       "      <td>0</td>\n",
       "      <td>0</td>\n",
       "      <td>0</td>\n",
       "      <td>...</td>\n",
       "      <td>0</td>\n",
       "      <td>0</td>\n",
       "      <td>0</td>\n",
       "      <td>0</td>\n",
       "      <td>0</td>\n",
       "      <td>0</td>\n",
       "      <td>0</td>\n",
       "      <td>0</td>\n",
       "      <td>1.017265</td>\n",
       "      <td>0</td>\n",
       "    </tr>\n",
       "    <tr>\n",
       "      <th>198</th>\n",
       "      <td>1525</td>\n",
       "      <td>0</td>\n",
       "      <td>0</td>\n",
       "      <td>0</td>\n",
       "      <td>0</td>\n",
       "      <td>0</td>\n",
       "      <td>0</td>\n",
       "      <td>0</td>\n",
       "      <td>0</td>\n",
       "      <td>0</td>\n",
       "      <td>...</td>\n",
       "      <td>0</td>\n",
       "      <td>0</td>\n",
       "      <td>0</td>\n",
       "      <td>0</td>\n",
       "      <td>0</td>\n",
       "      <td>0</td>\n",
       "      <td>0</td>\n",
       "      <td>0</td>\n",
       "      <td>1.173152</td>\n",
       "      <td>0</td>\n",
       "    </tr>\n",
       "    <tr>\n",
       "      <th>199</th>\n",
       "      <td>2043</td>\n",
       "      <td>0</td>\n",
       "      <td>1</td>\n",
       "      <td>0</td>\n",
       "      <td>0</td>\n",
       "      <td>1</td>\n",
       "      <td>0</td>\n",
       "      <td>0</td>\n",
       "      <td>0</td>\n",
       "      <td>0</td>\n",
       "      <td>...</td>\n",
       "      <td>0</td>\n",
       "      <td>0</td>\n",
       "      <td>0</td>\n",
       "      <td>0</td>\n",
       "      <td>0</td>\n",
       "      <td>0</td>\n",
       "      <td>0</td>\n",
       "      <td>0</td>\n",
       "      <td>3.732924</td>\n",
       "      <td>1</td>\n",
       "    </tr>\n",
       "  </tbody>\n",
       "</table>\n",
       "<p>200 rows × 1002 columns</p>\n",
       "</div>"
      ],
      "text/plain": [
       "       id df_num t_0 t_1 t_2 t_3 t_4 t_5 t_6 t_7  ... t_990 t_991 t_992 t_993  \\\n",
       "0    2561      0   0   0   0   0   0   0   0   1  ...     0     0     0     0   \n",
       "1    2049      0   0   0   0   1   0   0   0   0  ...     0     1     0     0   \n",
       "2       4      0   0   0   0   0   0   0   0   0  ...     0     0     0     0   \n",
       "3    2565      0   0   0   0   1   0   0   0   1  ...     0     0     0     0   \n",
       "4    2562      0   0   0   0   0   0   0   0   0  ...     0     0     0     0   \n",
       "..    ...    ...  ..  ..  ..  ..  ..  ..  ..  ..  ...   ...   ...   ...   ...   \n",
       "195  3566      0   1   0   0   1   0   0   0   0  ...     0     0     0     0   \n",
       "196  1521      0   0   0   0   0   0   0   0   0  ...     0     0     0     0   \n",
       "197  3570      0   1   0   0   0   0   0   0   0  ...     0     0     0     0   \n",
       "198  1525      0   0   0   0   0   0   0   0   0  ...     0     0     0     0   \n",
       "199  2043      0   1   0   0   1   0   0   0   0  ...     0     0     0     0   \n",
       "\n",
       "    t_994 t_995 t_996 t_997    cosine flag  \n",
       "0       0     0     0     0  2.820260    1  \n",
       "1       0     0     0     0  3.612684    1  \n",
       "2       0     0     0     0  3.538644    1  \n",
       "3       0     0     0     0  3.057140    1  \n",
       "4       0     0     0     0  1.653997    0  \n",
       "..    ...   ...   ...   ...       ...  ...  \n",
       "195     0     0     0     0  2.495875    1  \n",
       "196     0     0     0     0  2.082711    0  \n",
       "197     0     0     0     0  1.017265    0  \n",
       "198     0     0     0     0  1.173152    0  \n",
       "199     0     0     0     0  3.732924    1  \n",
       "\n",
       "[200 rows x 1002 columns]"
      ]
     },
     "execution_count": 33,
     "metadata": {},
     "output_type": "execute_result"
    }
   ],
   "source": [
    "df_bow_unknown"
   ]
  },
  {
   "cell_type": "code",
   "execution_count": 34,
   "metadata": {
    "ExecuteTime": {
     "end_time": "2020-11-09T11:34:32.019364Z",
     "start_time": "2020-11-09T11:34:32.011199Z"
    },
    "jupyter": {
     "outputs_hidden": false
    },
    "pycharm": {
     "name": "#%%\n"
    }
   },
   "outputs": [
    {
     "data": {
      "text/plain": [
       "2.412251975948125"
      ]
     },
     "execution_count": 34,
     "metadata": {},
     "output_type": "execute_result"
    }
   ],
   "source": [
    "# пороговое значение\n",
    "distr.mean()"
   ]
  },
  {
   "cell_type": "code",
   "execution_count": 36,
   "metadata": {
    "ExecuteTime": {
     "end_time": "2020-11-09T11:34:45.037455Z",
     "start_time": "2020-11-09T11:34:44.603056Z"
    },
    "pycharm": {
     "name": "#%%\n"
    }
   },
   "outputs": [
    {
     "data": {
      "text/plain": [
       "<AxesSubplot:ylabel='Count'>"
      ]
     },
     "execution_count": 36,
     "metadata": {},
     "output_type": "execute_result"
    },
    {
     "data": {
      "image/png": "[encoded data removed]",
      "text/plain": [
       "<Figure size 432x288 with 1 Axes>"
      ]
     },
     "metadata": {
      "needs_background": "light"
     },
     "output_type": "display_data"
    }
   ],
   "source": [
    "# выводим сумму корреляций\n",
    "sns.histplot(distr, bins=50)"
   ]
  },
  {
   "cell_type": "code",
   "execution_count": 37,
   "metadata": {
    "ExecuteTime": {
     "end_time": "2020-11-09T11:35:09.245581Z",
     "start_time": "2020-11-09T11:35:09.232081Z"
    },
    "pycharm": {
     "name": "#%%\n"
    }
   },
   "outputs": [],
   "source": [
    "threshhold = distr.mean()  # distr.mean()\n",
    "defined = list(map(int, df_bow_unknown.loc[df_bow_unknown['cosine'] >= threshhold, 'id'].to_list()))\n",
    "other = list(map(int, df_bow_unknown.loc[df_bow_unknown['cosine'] < threshhold, 'id'].to_list()))"
   ]
  },
  {
   "cell_type": "code",
   "execution_count": 38,
   "metadata": {
    "ExecuteTime": {
     "end_time": "2020-11-09T11:35:11.093724Z",
     "start_time": "2020-11-09T11:35:11.086621Z"
    },
    "pycharm": {
     "name": "#%%\n"
    }
   },
   "outputs": [
    {
     "name": "stdout",
     "output_type": "stream",
     "text": [
      "len(defined) = 101, len(other) = 99\n"
     ]
    }
   ],
   "source": [
    "print('len(defined) = {0}, len(other) = {1}'.format(len(defined), len(other)))"
   ]
  },
  {
   "cell_type": "code",
   "execution_count": 39,
   "metadata": {
    "ExecuteTime": {
     "end_time": "2020-11-09T11:35:14.089307Z",
     "start_time": "2020-11-09T11:35:14.076175Z"
    },
    "pycharm": {
     "name": "#%%\n"
    }
   },
   "outputs": [],
   "source": [
    "# сохранили файл. Его нужно положить на сервер и отдать чекеру\n",
    "with open(file='lab05.json', mode='wt') as file:\n",
    "    file.write(json.dumps({'defined': defined, 'other': other}) + '\\n')"
   ]
  }
 ],
 "metadata": {
  "kernelspec": {
   "display_name": "Python 3",
   "language": "python",
   "name": "python3"
  },
  "language_info": {
   "codemirror_mode": {
    "name": "ipython",
    "version": 3
   },
   "file_extension": ".py",
   "mimetype": "text/x-python",
   "name": "python",
   "nbconvert_exporter": "python",
   "pygments_lexer": "ipython3",
   "version": "3.6.9"
  },
  "varInspector": {
   "cols": {
    "lenName": 16,
    "lenType": 16,
    "lenVar": 40
   },
   "kernels_config": {
    "python": {
     "delete_cmd_postfix": "",
     "delete_cmd_prefix": "del ",
     "library": "var_list.py",
     "varRefreshCmd": "print(var_dic_list())"
    },
    "r": {
     "delete_cmd_postfix": ") ",
     "delete_cmd_prefix": "rm(",
     "library": "var_list.r",
     "varRefreshCmd": "cat(var_dic_list()) "
    }
   },
   "types_to_exclude": [
    "module",
    "function",
    "builtin_function_or_method",
    "instance",
    "_Feature"
   ],
   "window_display": false
  }
 },
 "nbformat": 4,
 "nbformat_minor": 4
}
