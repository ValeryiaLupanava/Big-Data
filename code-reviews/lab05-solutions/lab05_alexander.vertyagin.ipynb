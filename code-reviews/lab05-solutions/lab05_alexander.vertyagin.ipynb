{
 "metadata": {
  "language_info": {
   "codemirror_mode": {
    "name": "ipython",
    "version": 3
   },
   "file_extension": ".py",
   "mimetype": "text/x-python",
   "name": "python",
   "nbconvert_exporter": "python",
   "pygments_lexer": "ipython3",
   "version": "3.7.2-final"
  },
  "orig_nbformat": 2,
  "kernelspec": {
   "name": "python3",
   "display_name": "Python 3"
  }
 },
 "nbformat": 4,
 "nbformat_minor": 2,
 "cells": [
  {
   "cell_type": "code",
   "execution_count": 64,
   "metadata": {},
   "outputs": [],
   "source": [
    "import pandas as pd\n",
    "import numpy as np\n",
    "import re\n",
    "import pymorphy2\n",
    "import gensim\n",
    "import os\n",
    "import nltk\n",
    "import json\n",
    "\n",
    "\n",
    "from sklearn.metrics.pairwise import cosine_similarity\n",
    "from nltk.stem import WordNetLemmatizer\n",
    "from pymystem3 import Mystem\n",
    "from nltk.tokenize import RegexpTokenizer\n",
    "from nltk.corpus import stopwords\n",
    "from bs4 import BeautifulSoup\n",
    "from pymystem3 import Mystem\n",
    "from sklearn.feature_extraction.text import TfidfVectorizer\n",
    "from sklearn.metrics.pairwise import pairwise_distances\n",
    "import pymorphy2\n",
    "from tqdm import tqdm_notebook as tqdm\n",
    "from matplotlib import pyplot as plt\n",
    "from json import JSONEncoder\n",
    "\n",
    "pathBase = '/data/share/lab05data/'\n"
   ]
  },
  {
   "cell_type": "code",
   "execution_count": 65,
   "metadata": {},
   "outputs": [],
   "source": [
    "# номера файлов для классификации\n",
    "idTexts = [514, 3489, 9, 2570, 3084, 3086, 1040, 1113, 3603, 2582, 1559, 2591, 2081, 2602, 1281, 1289, 1076, 569, 2618, 572, 2622, 1599, 2100, 579, 581, 586, 1720, 78, 1616, 3665, 174, 85, 598, 599, 89, 1626, 2139, 3600, 2144, 1121, 1123, 2374, 2066, 3178, 1131, 2067, 624, 3433, 1139, 1658, 1659, 2173, 1151, 1664, 3719, 2696, 2185, 1932, 3214, 656, 1174, 3224, 665, 1691, 160, 161, 3041, 3239, 1704, 683, 1651, 1200, 2225, 2232, 695, 3256, 698,            1211, 1215, 1728, 3268, 2758, 3783, 715, 1230, 1232, 2258, 1806, 219, 1244, 1757, 808, 1262, 2799, 3824, 60, 1779, 1441, 1270, 1697, 257, 3332,       1798, 775, 2313, 1294, 273, 275, 2324, 3349, 3352, 1331, 1831, 3368, 3293, 307, 2864, 2353, 2579, 3892, 2869, 2362, 2876, 1343, 3904, 322, 836, 2885, 3398, 3913, 1355, 3405, 1360, 2386, 3925, 2902, 3415, 857, 347, 144, 2806, 3940, 999, 402, 2921, 1909, 1911, 377, 1406, 1407, 384, 2950, 903, 1928, 3468, 910, 1423, 3472, 2450, 406, 409, 2973, 2462, 1439, 2464, 2977, 2896, 1956, 1961, 1437, 427, 429, 1524, 950, 958, 758, 3233, 3524, 3013, 2504, 3530, 3020, 464, 2517, 3030, 3545, 336, 989, 3550, 479, 1951, 482, 2535, 2538, 1501, 3570, 2036, 887, 1016, 2200]"
   ]
  },
  {
   "cell_type": "code",
   "execution_count": 66,
   "metadata": {},
   "outputs": [],
   "source": [
    "# список файлов файлов для классификации\n",
    "testList = []\n",
    "for i in idTexts:\n",
    "    testList.append(pathBase + 'test_'+ str(i) + '.txt')"
   ]
  },
  {
   "cell_type": "code",
   "execution_count": 67,
   "metadata": {},
   "outputs": [],
   "source": [
    "testDict = {}\n",
    "for file in testList:\n",
    "    with open (file, \"r\") as testfile:\n",
    "        testDict[file] = testfile.read()\n",
    "# датафрейм текстов для классификации\n",
    "dfTest = (pd.DataFrame.from_dict(testDict, orient = 'index').reset_index().rename(index = str, columns = {'index': 'file_name', 0: 'text'})) "
   ]
  },
  {
   "cell_type": "code",
   "execution_count": 68,
   "metadata": {},
   "outputs": [],
   "source": [
    "baseFiles = []\n",
    "for root, dirs, files in os.walk(pathBase):  \n",
    "    for filename in files:\n",
    "        if filename[:4] == 'base': \n",
    "           baseFiles.append(pathBase + filename)"
   ]
  },
  {
   "cell_type": "code",
   "execution_count": 69,
   "metadata": {},
   "outputs": [],
   "source": [
    "textDict = {}\n",
    "for file in baseFiles:\n",
    "    with open (file, 'r') as bFile:\n",
    "       textDict[file] = bFile.read()\n",
    "# датафрейм текстов известной тематики\n",
    "dfBase = (pd.DataFrame.from_dict(textDict, orient = 'index').reset_index().rename(index = str, columns = {'index': 'file_name', 0: 'text'}))    "
   ]
  },
  {
   "cell_type": "code",
   "execution_count": 70,
   "metadata": {},
   "outputs": [
    {
     "output_type": "stream",
     "name": "stdout",
     "text": [
      "20\n200\n"
     ]
    }
   ],
   "source": [
    "print(len(dfBase))\n",
    "print(len(dfTest))"
   ]
  },
  {
   "cell_type": "code",
   "execution_count": 71,
   "metadata": {},
   "outputs": [],
   "source": [
    "dfText = dfBase.copy()\n",
    "dfTst  = dfTest.copy()"
   ]
  },
  {
   "cell_type": "code",
   "execution_count": 72,
   "metadata": {},
   "outputs": [
    {
     "output_type": "execute_result",
     "data": {
      "text/plain": [
       "'<p>В Группе компаний InfoWatch, которая объединяет ряд российских и зарубежных разработчиков программных продуктов и решений для обеспечения информационной безопасности организаций, противодействия внешним и внутренним угрозам, на конкурсной основе, открыта вакансия <strong>Старший программист C++ (лингвистические технологии).</strong></p> <p><strong>Обязанности:</strong></p> <ul> </ul> <ul> <li>разработка алгоритмов и их реализация на C++;</li> <li>составление технической документации по разрабатываемым компонентам;</li> <li>разработка unit-тестов;</li> <li>разработка, отладка, модификация и оптимизация отдельных сложных компонентов программной системы в соответствии с заданиями, выданными непосредственным руководителем;</li> <li>обзоры кода других разработчиков и рекомендации по его улучшению.</li> </ul> <p> </p> <p><strong>Требования:</strong></p> <ul> <li>знание <strong>С++ </strong>(опыт программирования от 3 лет);</li> <li>знания алгоритмов и структуры данных;</li> <li>высокая культура программирования;</li> <li>опыт работы в команде, умение быстро разбираться в чужом коде;</li> </ul> <p><strong><em>Желательно:</em></strong></p> <ul> <li>опыт программирования под Linux;</li> <li>желателен опыт в обработке текстовой информации и разработке алгоритмов машинного обучения;</li> <li>желательно наличие математического образования, умения статистически обрабатывать данные, хорошая общая алгоритмическая подготовка;</li> <li>обработка изображений и компьютерное зрение.</li> </ul> <p><strong>Условия</strong>:</p> <ul> <li>конкурентоспособная оплата труда;</li> <li>полное соблюдение ТК РФ;</li> <li>работа в сплоченной команде единомышленников;</li> <li>самореализация;</li> <li>ориентация на результат;</li> <li>забота о здоровье: мини-спортзал в офисе, оплачиваемое питание, возможность оформления льготного ДМС, велопарковка;</li> <li>уютный офис: зоны отдыха с настольным теннисом, аэрохоккеем и видеоиграми, чай-кофе-плюшки-печеньки в течение дня, снековые автоматы;</li> <li>интересные события и активный отдых: регулярные фотовыставки, творческие конкурсы для сотрудников и их детей, корпоративные мероприятия;</li> <li> <p>и многое другое...</p> </li> </ul> <p><strong>ЖДЕМ ВАС В НАШЕЙ КОМАНДЕ!</strong></p>'"
      ]
     },
     "metadata": {},
     "execution_count": 72
    }
   ],
   "source": [
    "dfText.iloc[0].text"
   ]
  },
  {
   "cell_type": "code",
   "execution_count": 73,
   "metadata": {},
   "outputs": [],
   "source": [
    "# функция очисткт тегов HTML, пустых сторок\n",
    "def textBS(text):\n",
    "   html = ''\n",
    "   html = text\n",
    "   soup = BeautifulSoup(html, features = 'html.parser')\n",
    "   for script in soup(['script', 'style']):\n",
    "       script.extract()    # rip it out  \n",
    "   text = soup.get_text() \n",
    "   # break into lines and remove leading and trailing space on each\n",
    "   lines = (line.strip() for line in text.splitlines())   \n",
    "   # break multi-headlines into a line each\n",
    "   chunks = (phrase.strip() for line in lines for phrase in line.split(\"  \"))\n",
    "   # drop blank lines\n",
    "   txt= '\\n'.join(chunk for chunk in chunks if chunk)\n",
    "   return txt.lower()\n"
   ]
  },
  {
   "cell_type": "code",
   "execution_count": 74,
   "metadata": {},
   "outputs": [],
   "source": [
    "# очиска текстов известной тематики\n",
    "for i in range(len(dfText)):\n",
    "    dfText.iloc[i].text = textBS(dfText.iloc[i].text)"
   ]
  },
  {
   "cell_type": "code",
   "execution_count": 75,
   "metadata": {},
   "outputs": [],
   "source": [
    "# очиска текстов неизвестной тематики\n",
    "for i in range(len(dfTst)):\n",
    "    dfTst.iloc[i].text = textBS(dfTst.iloc[i].text)"
   ]
  },
  {
   "cell_type": "code",
   "execution_count": 76,
   "metadata": {},
   "outputs": [
    {
     "output_type": "execute_result",
     "data": {
      "text/plain": [
       "'в группе компаний infowatch, которая объединяет ряд российских и зарубежных разработчиков программных продуктов и решений для обеспечения информационной безопасности организаций, противодействия внешним и внутренним угрозам, на конкурсной основе, открыта вакансия старший программист c++ (лингвистические технологии). обязанности:\\nразработка алгоритмов и их реализация на c++; составление технической документации по разрабатываемым компонентам; разработка unit-тестов; разработка, отладка, модификация и оптимизация отдельных сложных компонентов программной системы в соответствии с заданиями, выданными непосредственным руководителем; обзоры кода других разработчиков и рекомендации по его улучшению.\\nтребования:\\nзнание с++ (опыт программирования от 3 лет); знания алгоритмов и структуры данных; высокая культура программирования; опыт работы в команде, умение быстро разбираться в чужом коде;\\nжелательно:\\nопыт программирования под linux; желателен опыт в обработке текстовой информации и разработке алгоритмов машинного обучения; желательно наличие математического образования, умения статистически обрабатывать данные, хорошая общая алгоритмическая подготовка; обработка изображений и компьютерное зрение.\\nусловия:\\nконкурентоспособная оплата труда; полное соблюдение тк рф; работа в сплоченной команде единомышленников; самореализация; ориентация на результат; забота о здоровье: мини-спортзал в офисе, оплачиваемое питание, возможность оформления льготного дмс, велопарковка; уютный офис: зоны отдыха с настольным теннисом, аэрохоккеем и видеоиграми, чай-кофе-плюшки-печеньки в течение дня, снековые автоматы; интересные события и активный отдых: регулярные фотовыставки, творческие конкурсы для сотрудников и их детей, корпоративные мероприятия;\\nи многое другое...\\nждем вас в нашей команде!'"
      ]
     },
     "metadata": {},
     "execution_count": 76
    }
   ],
   "source": [
    "dfText.iloc[0].text"
   ]
  },
  {
   "cell_type": "code",
   "execution_count": 77,
   "metadata": {},
   "outputs": [],
   "source": [
    "tokenizer = RegexpTokenizer('[A-Za-zА-Яа-яёЁ]+')\n",
    "mystem = Mystem()\n",
    "# функция токенизации\n",
    "def tokenize(text):\n",
    "    tokens = tokenizer.tokenize(text)\n",
    "    return tokens \n"
   ]
  },
  {
   "cell_type": "code",
   "execution_count": 78,
   "metadata": {},
   "outputs": [],
   "source": [
    "# формирование списка стоп-слов\n",
    "stopEn = set(nltk.corpus.stopwords.words('english'))\n",
    "stopRu = set(nltk.corpus.stopwords.words('russian'))\n",
    "stopWords = set(['чтобы', 'p', 'li', 'ul', 'url',  'компания', 'через','стать', 'зарплата', 'зарп', 'уже', 'от'])\n",
    "stopWords.update(stopEn, stopRu)\n"
   ]
  },
  {
   "cell_type": "code",
   "execution_count": 79,
   "metadata": {},
   "outputs": [],
   "source": [
    "# функция токенизации, удаления стоп-слов\n",
    "def processText(text):\n",
    "    text = re.sub('[^a-zA-Zа-яА-Я]', ' ', text) \n",
    "    text = re.sub('\\-\\s\\r\\n\\s{1,}|\\-\\s\\r\\n|\\r\\n', '', text)\n",
    "    text = re.sub('[.,:;%©?*,!@#$%^&()\\d]|[+=]|[[]|[]]|[/]|\"|\\s{2,}|-', ' ', text) \n",
    "\n",
    "    tokens = tokenize(text.lower())\n",
    "    \n",
    "    # удаление стоп-слов\n",
    "    keywords = [token for token in tokens if token not in stopWords and len(token)>3]\n",
    "    \n",
    "    morph  = pymorphy2.MorphAnalyzer()\n",
    "    lemmas = [morph.parse(keyword)[0].normal_form for keyword in keywords]\n",
    "    \n",
    "    lemmatiser = WordNetLemmatizer()\n",
    "    words      = [lemmatiser.lemmatize(token) for token in lemmas]\n",
    "    \n",
    "    return words\n"
   ]
  },
  {
   "cell_type": "code",
   "execution_count": 80,
   "metadata": {},
   "outputs": [
    {
     "output_type": "execute_result",
     "data": {
      "text/plain": [
       "20"
      ]
     },
     "metadata": {},
     "execution_count": 80
    }
   ],
   "source": [
    "# формируем общий массив текстов\n",
    "texts = []\n",
    "for i in range(len(dfText)):\n",
    "    texts.append(dfText.iloc[i].text)\n",
    "                            \n",
    "len(texts)"
   ]
  },
  {
   "cell_type": "code",
   "execution_count": 81,
   "metadata": {},
   "outputs": [
    {
     "output_type": "execute_result",
     "data": {
      "text/plain": [
       "220"
      ]
     },
     "metadata": {},
     "execution_count": 81
    }
   ],
   "source": [
    "for i in range(len(dfTst)):\n",
    "    texts.append(dfTst.iloc[i].text)\n",
    "                            \n",
    "len(texts)"
   ]
  },
  {
   "cell_type": "code",
   "execution_count": 82,
   "metadata": {},
   "outputs": [],
   "source": [
    "# вычислим матрицу TFIDF\n",
    "tfidf_vec = TfidfVectorizer(analyzer = processText)\n",
    "tfidf = tfidf_vec.fit_transform(texts)\n",
    "matrTFIDF = tfidf.toarray()\n",
    "\n"
   ]
  },
  {
   "cell_type": "code",
   "execution_count": 83,
   "metadata": {},
   "outputs": [
    {
     "output_type": "execute_result",
     "data": {
      "text/plain": [
       "array([[0.        , 0.        , 0.        , ..., 0.        , 0.        ,\n",
       "        0.        ],\n",
       "       [0.22837539, 0.07612513, 0.        , ..., 0.        , 0.        ,\n",
       "        0.        ],\n",
       "       [0.        , 0.        , 0.        , ..., 0.        , 0.        ,\n",
       "        0.        ],\n",
       "       ...,\n",
       "       [0.        , 0.        , 0.        , ..., 0.        , 0.        ,\n",
       "        0.        ],\n",
       "       [0.        , 0.        , 0.        , ..., 0.        , 0.        ,\n",
       "        0.        ],\n",
       "       [0.        , 0.        , 0.        , ..., 0.        , 0.        ,\n",
       "        0.        ]])"
      ]
     },
     "metadata": {},
     "execution_count": 83
    }
   ],
   "source": [
    "matrTFIDF"
   ]
  },
  {
   "cell_type": "code",
   "execution_count": 84,
   "metadata": {},
   "outputs": [
    {
     "output_type": "stream",
     "name": "stdout",
     "text": [
      "CPU times: user 1.35 s, sys: 244 ms, total: 1.6 s\nWall time: 57.2 ms\n"
     ]
    }
   ],
   "source": [
    "%%time\n",
    "distPair = pairwise_distances(matrTFIDF, metric = 'cosine')"
   ]
  },
  {
   "cell_type": "code",
   "execution_count": null,
   "metadata": {},
   "outputs": [],
   "source": [
    "distPair.shape"
   ]
  },
  {
   "cell_type": "code",
   "execution_count": 24,
   "metadata": {},
   "outputs": [],
   "source": [
    "distPairInv   = 1 - abs(distPair[ : len(dfText)][ : ])"
   ]
  },
  {
   "cell_type": "code",
   "execution_count": 25,
   "metadata": {},
   "outputs": [
    {
     "output_type": "execute_result",
     "data": {
      "text/plain": [
       "(20, 220)"
      ]
     },
     "metadata": {},
     "execution_count": 25
    }
   ],
   "source": [
    "distPairInv.shape"
   ]
  },
  {
   "cell_type": "code",
   "execution_count": 26,
   "metadata": {},
   "outputs": [],
   "source": [
    "# косинусное расстояние текстов\n",
    "lst   = list(distPairInv.sum(axis = 0)[len(dfText) : ])"
   ]
  },
  {
   "cell_type": "code",
   "execution_count": 27,
   "metadata": {},
   "outputs": [
    {
     "output_type": "stream",
     "name": "stdout",
     "text": [
      "1.4193323727532638\n3.03454002226346\n"
     ]
    }
   ],
   "source": [
    "# средняя величина отклонения\n",
    "avrg = sum((lst)) / len(dfTst)\n",
    "print(avrg)\n",
    "print(max(lst))"
   ]
  },
  {
   "cell_type": "code",
   "execution_count": 63,
   "metadata": {},
   "outputs": [
    {
     "output_type": "display_data",
     "data": {
      "text/plain": "<Figure size 720x504 with 1 Axes>",
      "image/svg+xml": "<?xml version=\"1.0\" encoding=\"utf-8\" standalone=\"no\"?>\n<!DOCTYPE svg PUBLIC \"-//W3C//DTD SVG 1.1//EN\"\n  \"http://www.w3.org/Graphics/SVG/1.1/DTD/svg11.dtd\">\n<!-- Created with matplotlib (http://matplotlib.org/) -->\n<svg height=\"426.71625pt\" version=\"1.1\" viewBox=\"0 0 598.803125 426.71625\" width=\"598.803125pt\" xmlns=\"http://www.w3.org/2000/svg\" xmlns:xlink=\"http://www.w3.org/1999/xlink\">\n <defs>\n  <style type=\"text/css\">\n*{stroke-linecap:butt;stroke-linejoin:round;}\n  </style>\n </defs>\n <g id=\"figure_1\">\n  <g id=\"patch_1\">\n   <path d=\"M -0 426.71625 \nL 598.803125 426.71625 \nL 598.803125 0 \nL -0 0 \nz\n\" style=\"fill:none;\"/>\n  </g>\n  <g id=\"axes_1\">\n   <g id=\"patch_2\">\n    <path d=\"M 30.103125 402.838125 \nL 588.103125 402.838125 \nL 588.103125 22.318125 \nL 30.103125 22.318125 \nz\n\" style=\"fill:#ffffff;\"/>\n   </g>\n   <g id=\"matplotlib.axis_1\">\n    <g id=\"xtick_1\">\n     <g id=\"line2d_1\">\n      <path clip-path=\"url(#p1b0a60b164)\" d=\"M 43.388839 402.838125 \nL 43.388839 22.318125 \n\" style=\"fill:none;stroke:#b0b0b0;stroke-linecap:square;stroke-width:0.8;\"/>\n     </g>\n     <g id=\"line2d_2\">\n      <defs>\n       <path d=\"M 0 0 \nL 0 3.5 \n\" id=\"m81a7c0460e\" style=\"stroke:#000000;stroke-width:0.8;\"/>\n      </defs>\n      <g>\n       <use style=\"stroke:#000000;stroke-width:0.8;\" x=\"43.388839\" xlink:href=\"#m81a7c0460e\" y=\"402.838125\"/>\n      </g>\n     </g>\n     <g id=\"text_1\">\n      <!-- 0 -->\n      <defs>\n       <path d=\"M 31.78125 66.40625 \nQ 24.171875 66.40625 20.328125 58.90625 \nQ 16.5 51.421875 16.5 36.375 \nQ 16.5 21.390625 20.328125 13.890625 \nQ 24.171875 6.390625 31.78125 6.390625 \nQ 39.453125 6.390625 43.28125 13.890625 \nQ 47.125 21.390625 47.125 36.375 \nQ 47.125 51.421875 43.28125 58.90625 \nQ 39.453125 66.40625 31.78125 66.40625 \nz\nM 31.78125 74.21875 \nQ 44.046875 74.21875 50.515625 64.515625 \nQ 56.984375 54.828125 56.984375 36.375 \nQ 56.984375 17.96875 50.515625 8.265625 \nQ 44.046875 -1.421875 31.78125 -1.421875 \nQ 19.53125 -1.421875 13.0625 8.265625 \nQ 6.59375 17.96875 6.59375 36.375 \nQ 6.59375 54.828125 13.0625 64.515625 \nQ 19.53125 74.21875 31.78125 74.21875 \nz\n\" id=\"DejaVuSans-30\"/>\n      </defs>\n      <g transform=\"translate(40.207589 417.436562)scale(0.1 -0.1)\">\n       <use xlink:href=\"#DejaVuSans-30\"/>\n      </g>\n     </g>\n    </g>\n    <g id=\"xtick_2\">\n     <g id=\"line2d_3\">\n      <path clip-path=\"url(#p1b0a60b164)\" d=\"M 109.817411 402.838125 \nL 109.817411 22.318125 \n\" style=\"fill:none;stroke:#b0b0b0;stroke-linecap:square;stroke-width:0.8;\"/>\n     </g>\n     <g id=\"line2d_4\">\n      <g>\n       <use style=\"stroke:#000000;stroke-width:0.8;\" x=\"109.817411\" xlink:href=\"#m81a7c0460e\" y=\"402.838125\"/>\n      </g>\n     </g>\n     <g id=\"text_2\">\n      <!-- 25 -->\n      <defs>\n       <path d=\"M 19.1875 8.296875 \nL 53.609375 8.296875 \nL 53.609375 0 \nL 7.328125 0 \nL 7.328125 8.296875 \nQ 12.9375 14.109375 22.625 23.890625 \nQ 32.328125 33.6875 34.8125 36.53125 \nQ 39.546875 41.84375 41.421875 45.53125 \nQ 43.3125 49.21875 43.3125 52.78125 \nQ 43.3125 58.59375 39.234375 62.25 \nQ 35.15625 65.921875 28.609375 65.921875 \nQ 23.96875 65.921875 18.8125 64.3125 \nQ 13.671875 62.703125 7.8125 59.421875 \nL 7.8125 69.390625 \nQ 13.765625 71.78125 18.9375 73 \nQ 24.125 74.21875 28.421875 74.21875 \nQ 39.75 74.21875 46.484375 68.546875 \nQ 53.21875 62.890625 53.21875 53.421875 \nQ 53.21875 48.921875 51.53125 44.890625 \nQ 49.859375 40.875 45.40625 35.40625 \nQ 44.1875 33.984375 37.640625 27.21875 \nQ 31.109375 20.453125 19.1875 8.296875 \nz\n\" id=\"DejaVuSans-32\"/>\n       <path d=\"M 10.796875 72.90625 \nL 49.515625 72.90625 \nL 49.515625 64.59375 \nL 19.828125 64.59375 \nL 19.828125 46.734375 \nQ 21.96875 47.46875 24.109375 47.828125 \nQ 26.265625 48.1875 28.421875 48.1875 \nQ 40.625 48.1875 47.75 41.5 \nQ 54.890625 34.8125 54.890625 23.390625 \nQ 54.890625 11.625 47.5625 5.09375 \nQ 40.234375 -1.421875 26.90625 -1.421875 \nQ 22.3125 -1.421875 17.546875 -0.640625 \nQ 12.796875 0.140625 7.71875 1.703125 \nL 7.71875 11.625 \nQ 12.109375 9.234375 16.796875 8.0625 \nQ 21.484375 6.890625 26.703125 6.890625 \nQ 35.15625 6.890625 40.078125 11.328125 \nQ 45.015625 15.765625 45.015625 23.390625 \nQ 45.015625 31 40.078125 35.4375 \nQ 35.15625 39.890625 26.703125 39.890625 \nQ 22.75 39.890625 18.8125 39.015625 \nQ 14.890625 38.140625 10.796875 36.28125 \nz\n\" id=\"DejaVuSans-35\"/>\n      </defs>\n      <g transform=\"translate(103.454911 417.436562)scale(0.1 -0.1)\">\n       <use xlink:href=\"#DejaVuSans-32\"/>\n       <use x=\"63.623047\" xlink:href=\"#DejaVuSans-35\"/>\n      </g>\n     </g>\n    </g>\n    <g id=\"xtick_3\">\n     <g id=\"line2d_5\">\n      <path clip-path=\"url(#p1b0a60b164)\" d=\"M 176.245982 402.838125 \nL 176.245982 22.318125 \n\" style=\"fill:none;stroke:#b0b0b0;stroke-linecap:square;stroke-width:0.8;\"/>\n     </g>\n     <g id=\"line2d_6\">\n      <g>\n       <use style=\"stroke:#000000;stroke-width:0.8;\" x=\"176.245982\" xlink:href=\"#m81a7c0460e\" y=\"402.838125\"/>\n      </g>\n     </g>\n     <g id=\"text_3\">\n      <!-- 50 -->\n      <g transform=\"translate(169.883482 417.436562)scale(0.1 -0.1)\">\n       <use xlink:href=\"#DejaVuSans-35\"/>\n       <use x=\"63.623047\" xlink:href=\"#DejaVuSans-30\"/>\n      </g>\n     </g>\n    </g>\n    <g id=\"xtick_4\">\n     <g id=\"line2d_7\">\n      <path clip-path=\"url(#p1b0a60b164)\" d=\"M 242.674554 402.838125 \nL 242.674554 22.318125 \n\" style=\"fill:none;stroke:#b0b0b0;stroke-linecap:square;stroke-width:0.8;\"/>\n     </g>\n     <g id=\"line2d_8\">\n      <g>\n       <use style=\"stroke:#000000;stroke-width:0.8;\" x=\"242.674554\" xlink:href=\"#m81a7c0460e\" y=\"402.838125\"/>\n      </g>\n     </g>\n     <g id=\"text_4\">\n      <!-- 75 -->\n      <defs>\n       <path d=\"M 8.203125 72.90625 \nL 55.078125 72.90625 \nL 55.078125 68.703125 \nL 28.609375 0 \nL 18.3125 0 \nL 43.21875 64.59375 \nL 8.203125 64.59375 \nz\n\" id=\"DejaVuSans-37\"/>\n      </defs>\n      <g transform=\"translate(236.312054 417.436562)scale(0.1 -0.1)\">\n       <use xlink:href=\"#DejaVuSans-37\"/>\n       <use x=\"63.623047\" xlink:href=\"#DejaVuSans-35\"/>\n      </g>\n     </g>\n    </g>\n    <g id=\"xtick_5\">\n     <g id=\"line2d_9\">\n      <path clip-path=\"url(#p1b0a60b164)\" d=\"M 309.103125 402.838125 \nL 309.103125 22.318125 \n\" style=\"fill:none;stroke:#b0b0b0;stroke-linecap:square;stroke-width:0.8;\"/>\n     </g>\n     <g id=\"line2d_10\">\n      <g>\n       <use style=\"stroke:#000000;stroke-width:0.8;\" x=\"309.103125\" xlink:href=\"#m81a7c0460e\" y=\"402.838125\"/>\n      </g>\n     </g>\n     <g id=\"text_5\">\n      <!-- 100 -->\n      <defs>\n       <path d=\"M 12.40625 8.296875 \nL 28.515625 8.296875 \nL 28.515625 63.921875 \nL 10.984375 60.40625 \nL 10.984375 69.390625 \nL 28.421875 72.90625 \nL 38.28125 72.90625 \nL 38.28125 8.296875 \nL 54.390625 8.296875 \nL 54.390625 0 \nL 12.40625 0 \nz\n\" id=\"DejaVuSans-31\"/>\n      </defs>\n      <g transform=\"translate(299.559375 417.436562)scale(0.1 -0.1)\">\n       <use xlink:href=\"#DejaVuSans-31\"/>\n       <use x=\"63.623047\" xlink:href=\"#DejaVuSans-30\"/>\n       <use x=\"127.246094\" xlink:href=\"#DejaVuSans-30\"/>\n      </g>\n     </g>\n    </g>\n    <g id=\"xtick_6\">\n     <g id=\"line2d_11\">\n      <path clip-path=\"url(#p1b0a60b164)\" d=\"M 375.531696 402.838125 \nL 375.531696 22.318125 \n\" style=\"fill:none;stroke:#b0b0b0;stroke-linecap:square;stroke-width:0.8;\"/>\n     </g>\n     <g id=\"line2d_12\">\n      <g>\n       <use style=\"stroke:#000000;stroke-width:0.8;\" x=\"375.531696\" xlink:href=\"#m81a7c0460e\" y=\"402.838125\"/>\n      </g>\n     </g>\n     <g id=\"text_6\">\n      <!-- 125 -->\n      <g transform=\"translate(365.987946 417.436562)scale(0.1 -0.1)\">\n       <use xlink:href=\"#DejaVuSans-31\"/>\n       <use x=\"63.623047\" xlink:href=\"#DejaVuSans-32\"/>\n       <use x=\"127.246094\" xlink:href=\"#DejaVuSans-35\"/>\n      </g>\n     </g>\n    </g>\n    <g id=\"xtick_7\">\n     <g id=\"line2d_13\">\n      <path clip-path=\"url(#p1b0a60b164)\" d=\"M 441.960268 402.838125 \nL 441.960268 22.318125 \n\" style=\"fill:none;stroke:#b0b0b0;stroke-linecap:square;stroke-width:0.8;\"/>\n     </g>\n     <g id=\"line2d_14\">\n      <g>\n       <use style=\"stroke:#000000;stroke-width:0.8;\" x=\"441.960268\" xlink:href=\"#m81a7c0460e\" y=\"402.838125\"/>\n      </g>\n     </g>\n     <g id=\"text_7\">\n      <!-- 150 -->\n      <g transform=\"translate(432.416518 417.436562)scale(0.1 -0.1)\">\n       <use xlink:href=\"#DejaVuSans-31\"/>\n       <use x=\"63.623047\" xlink:href=\"#DejaVuSans-35\"/>\n       <use x=\"127.246094\" xlink:href=\"#DejaVuSans-30\"/>\n      </g>\n     </g>\n    </g>\n    <g id=\"xtick_8\">\n     <g id=\"line2d_15\">\n      <path clip-path=\"url(#p1b0a60b164)\" d=\"M 508.388839 402.838125 \nL 508.388839 22.318125 \n\" style=\"fill:none;stroke:#b0b0b0;stroke-linecap:square;stroke-width:0.8;\"/>\n     </g>\n     <g id=\"line2d_16\">\n      <g>\n       <use style=\"stroke:#000000;stroke-width:0.8;\" x=\"508.388839\" xlink:href=\"#m81a7c0460e\" y=\"402.838125\"/>\n      </g>\n     </g>\n     <g id=\"text_8\">\n      <!-- 175 -->\n      <g transform=\"translate(498.845089 417.436562)scale(0.1 -0.1)\">\n       <use xlink:href=\"#DejaVuSans-31\"/>\n       <use x=\"63.623047\" xlink:href=\"#DejaVuSans-37\"/>\n       <use x=\"127.246094\" xlink:href=\"#DejaVuSans-35\"/>\n      </g>\n     </g>\n    </g>\n    <g id=\"xtick_9\">\n     <g id=\"line2d_17\">\n      <path clip-path=\"url(#p1b0a60b164)\" d=\"M 574.817411 402.838125 \nL 574.817411 22.318125 \n\" style=\"fill:none;stroke:#b0b0b0;stroke-linecap:square;stroke-width:0.8;\"/>\n     </g>\n     <g id=\"line2d_18\">\n      <g>\n       <use style=\"stroke:#000000;stroke-width:0.8;\" x=\"574.817411\" xlink:href=\"#m81a7c0460e\" y=\"402.838125\"/>\n      </g>\n     </g>\n     <g id=\"text_9\">\n      <!-- 200 -->\n      <g transform=\"translate(565.273661 417.436562)scale(0.1 -0.1)\">\n       <use xlink:href=\"#DejaVuSans-32\"/>\n       <use x=\"63.623047\" xlink:href=\"#DejaVuSans-30\"/>\n       <use x=\"127.246094\" xlink:href=\"#DejaVuSans-30\"/>\n      </g>\n     </g>\n    </g>\n   </g>\n   <g id=\"matplotlib.axis_2\">\n    <g id=\"ytick_1\">\n     <g id=\"line2d_19\">\n      <path clip-path=\"url(#p1b0a60b164)\" d=\"M 30.103125 391.073856 \nL 588.103125 391.073856 \n\" style=\"fill:none;stroke:#b0b0b0;stroke-linecap:square;stroke-width:0.8;\"/>\n     </g>\n     <g id=\"line2d_20\">\n      <defs>\n       <path d=\"M 0 0 \nL -3.5 0 \n\" id=\"m068afd738e\" style=\"stroke:#000000;stroke-width:0.8;\"/>\n      </defs>\n      <g>\n       <use style=\"stroke:#000000;stroke-width:0.8;\" x=\"30.103125\" xlink:href=\"#m068afd738e\" y=\"391.073856\"/>\n      </g>\n     </g>\n     <g id=\"text_10\">\n      <!-- 0.0 -->\n      <defs>\n       <path d=\"M 10.6875 12.40625 \nL 21 12.40625 \nL 21 0 \nL 10.6875 0 \nz\n\" id=\"DejaVuSans-2e\"/>\n      </defs>\n      <g transform=\"translate(7.2 394.873074)scale(0.1 -0.1)\">\n       <use xlink:href=\"#DejaVuSans-30\"/>\n       <use x=\"63.623047\" xlink:href=\"#DejaVuSans-2e\"/>\n       <use x=\"95.410156\" xlink:href=\"#DejaVuSans-30\"/>\n      </g>\n     </g>\n    </g>\n    <g id=\"ytick_2\">\n     <g id=\"line2d_21\">\n      <path clip-path=\"url(#p1b0a60b164)\" d=\"M 30.103125 332.252509 \nL 588.103125 332.252509 \n\" style=\"fill:none;stroke:#b0b0b0;stroke-linecap:square;stroke-width:0.8;\"/>\n     </g>\n     <g id=\"line2d_22\">\n      <g>\n       <use style=\"stroke:#000000;stroke-width:0.8;\" x=\"30.103125\" xlink:href=\"#m068afd738e\" y=\"332.252509\"/>\n      </g>\n     </g>\n     <g id=\"text_11\">\n      <!-- 0.5 -->\n      <g transform=\"translate(7.2 336.051728)scale(0.1 -0.1)\">\n       <use xlink:href=\"#DejaVuSans-30\"/>\n       <use x=\"63.623047\" xlink:href=\"#DejaVuSans-2e\"/>\n       <use x=\"95.410156\" xlink:href=\"#DejaVuSans-35\"/>\n      </g>\n     </g>\n    </g>\n    <g id=\"ytick_3\">\n     <g id=\"line2d_23\">\n      <path clip-path=\"url(#p1b0a60b164)\" d=\"M 30.103125 273.431162 \nL 588.103125 273.431162 \n\" style=\"fill:none;stroke:#b0b0b0;stroke-linecap:square;stroke-width:0.8;\"/>\n     </g>\n     <g id=\"line2d_24\">\n      <g>\n       <use style=\"stroke:#000000;stroke-width:0.8;\" x=\"30.103125\" xlink:href=\"#m068afd738e\" y=\"273.431162\"/>\n      </g>\n     </g>\n     <g id=\"text_12\">\n      <!-- 1.0 -->\n      <g transform=\"translate(7.2 277.230381)scale(0.1 -0.1)\">\n       <use xlink:href=\"#DejaVuSans-31\"/>\n       <use x=\"63.623047\" xlink:href=\"#DejaVuSans-2e\"/>\n       <use x=\"95.410156\" xlink:href=\"#DejaVuSans-30\"/>\n      </g>\n     </g>\n    </g>\n    <g id=\"ytick_4\">\n     <g id=\"line2d_25\">\n      <path clip-path=\"url(#p1b0a60b164)\" d=\"M 30.103125 214.609816 \nL 588.103125 214.609816 \n\" style=\"fill:none;stroke:#b0b0b0;stroke-linecap:square;stroke-width:0.8;\"/>\n     </g>\n     <g id=\"line2d_26\">\n      <g>\n       <use style=\"stroke:#000000;stroke-width:0.8;\" x=\"30.103125\" xlink:href=\"#m068afd738e\" y=\"214.609816\"/>\n      </g>\n     </g>\n     <g id=\"text_13\">\n      <!-- 1.5 -->\n      <g transform=\"translate(7.2 218.409034)scale(0.1 -0.1)\">\n       <use xlink:href=\"#DejaVuSans-31\"/>\n       <use x=\"63.623047\" xlink:href=\"#DejaVuSans-2e\"/>\n       <use x=\"95.410156\" xlink:href=\"#DejaVuSans-35\"/>\n      </g>\n     </g>\n    </g>\n    <g id=\"ytick_5\">\n     <g id=\"line2d_27\">\n      <path clip-path=\"url(#p1b0a60b164)\" d=\"M 30.103125 155.788469 \nL 588.103125 155.788469 \n\" style=\"fill:none;stroke:#b0b0b0;stroke-linecap:square;stroke-width:0.8;\"/>\n     </g>\n     <g id=\"line2d_28\">\n      <g>\n       <use style=\"stroke:#000000;stroke-width:0.8;\" x=\"30.103125\" xlink:href=\"#m068afd738e\" y=\"155.788469\"/>\n      </g>\n     </g>\n     <g id=\"text_14\">\n      <!-- 2.0 -->\n      <g transform=\"translate(7.2 159.587688)scale(0.1 -0.1)\">\n       <use xlink:href=\"#DejaVuSans-32\"/>\n       <use x=\"63.623047\" xlink:href=\"#DejaVuSans-2e\"/>\n       <use x=\"95.410156\" xlink:href=\"#DejaVuSans-30\"/>\n      </g>\n     </g>\n    </g>\n    <g id=\"ytick_6\">\n     <g id=\"line2d_29\">\n      <path clip-path=\"url(#p1b0a60b164)\" d=\"M 30.103125 96.967122 \nL 588.103125 96.967122 \n\" style=\"fill:none;stroke:#b0b0b0;stroke-linecap:square;stroke-width:0.8;\"/>\n     </g>\n     <g id=\"line2d_30\">\n      <g>\n       <use style=\"stroke:#000000;stroke-width:0.8;\" x=\"30.103125\" xlink:href=\"#m068afd738e\" y=\"96.967122\"/>\n      </g>\n     </g>\n     <g id=\"text_15\">\n      <!-- 2.5 -->\n      <g transform=\"translate(7.2 100.766341)scale(0.1 -0.1)\">\n       <use xlink:href=\"#DejaVuSans-32\"/>\n       <use x=\"63.623047\" xlink:href=\"#DejaVuSans-2e\"/>\n       <use x=\"95.410156\" xlink:href=\"#DejaVuSans-35\"/>\n      </g>\n     </g>\n    </g>\n    <g id=\"ytick_7\">\n     <g id=\"line2d_31\">\n      <path clip-path=\"url(#p1b0a60b164)\" d=\"M 30.103125 38.145776 \nL 588.103125 38.145776 \n\" style=\"fill:none;stroke:#b0b0b0;stroke-linecap:square;stroke-width:0.8;\"/>\n     </g>\n     <g id=\"line2d_32\">\n      <g>\n       <use style=\"stroke:#000000;stroke-width:0.8;\" x=\"30.103125\" xlink:href=\"#m068afd738e\" y=\"38.145776\"/>\n      </g>\n     </g>\n     <g id=\"text_16\">\n      <!-- 3.0 -->\n      <defs>\n       <path d=\"M 40.578125 39.3125 \nQ 47.65625 37.796875 51.625 33 \nQ 55.609375 28.21875 55.609375 21.1875 \nQ 55.609375 10.40625 48.1875 4.484375 \nQ 40.765625 -1.421875 27.09375 -1.421875 \nQ 22.515625 -1.421875 17.65625 -0.515625 \nQ 12.796875 0.390625 7.625 2.203125 \nL 7.625 11.71875 \nQ 11.71875 9.328125 16.59375 8.109375 \nQ 21.484375 6.890625 26.8125 6.890625 \nQ 36.078125 6.890625 40.9375 10.546875 \nQ 45.796875 14.203125 45.796875 21.1875 \nQ 45.796875 27.640625 41.28125 31.265625 \nQ 36.765625 34.90625 28.71875 34.90625 \nL 20.21875 34.90625 \nL 20.21875 43.015625 \nL 29.109375 43.015625 \nQ 36.375 43.015625 40.234375 45.921875 \nQ 44.09375 48.828125 44.09375 54.296875 \nQ 44.09375 59.90625 40.109375 62.90625 \nQ 36.140625 65.921875 28.71875 65.921875 \nQ 24.65625 65.921875 20.015625 65.03125 \nQ 15.375 64.15625 9.8125 62.3125 \nL 9.8125 71.09375 \nQ 15.4375 72.65625 20.34375 73.4375 \nQ 25.25 74.21875 29.59375 74.21875 \nQ 40.828125 74.21875 47.359375 69.109375 \nQ 53.90625 64.015625 53.90625 55.328125 \nQ 53.90625 49.265625 50.4375 45.09375 \nQ 46.96875 40.921875 40.578125 39.3125 \nz\n\" id=\"DejaVuSans-33\"/>\n      </defs>\n      <g transform=\"translate(7.2 41.944994)scale(0.1 -0.1)\">\n       <use xlink:href=\"#DejaVuSans-33\"/>\n       <use x=\"63.623047\" xlink:href=\"#DejaVuSans-2e\"/>\n       <use x=\"95.410156\" xlink:href=\"#DejaVuSans-30\"/>\n      </g>\n     </g>\n    </g>\n   </g>\n   <g id=\"LineCollection_1\">\n    <path clip-path=\"url(#p1b0a60b164)\" d=\"M 43.388839 224.099773 \nL 574.817411 224.099773 \n\" style=\"fill:none;stroke:#ff0000;stroke-width:1.5;\"/>\n   </g>\n   <g id=\"line2d_33\">\n    <path clip-path=\"url(#p1b0a60b164)\" d=\"M 43.388839 371.731255 \nL 46.045982 365.829997 \nL 48.703125 362.582097 \nL 51.360268 361.668178 \nL 54.017411 360.179027 \nL 56.674554 357.059218 \nL 59.331696 356.580644 \nL 61.988839 355.972912 \nL 64.645982 355.859969 \nL 67.303125 354.822205 \nL 69.960268 354.152743 \nL 72.617411 353.961863 \nL 75.274554 350.592149 \nL 88.560268 347.694178 \nL 91.217411 347.474598 \nL 93.874554 345.18207 \nL 96.531696 343.666663 \nL 99.188839 341.609373 \nL 101.845982 339.328435 \nL 104.503125 338.223378 \nL 107.160268 335.349219 \nL 112.474554 335.056809 \nL 115.131696 333.038862 \nL 117.788839 332.6766 \nL 120.445982 331.876962 \nL 123.103125 329.757834 \nL 125.760268 329.464246 \nL 128.417411 327.224091 \nL 131.074554 326.521621 \nL 133.731696 326.034897 \nL 136.388839 325.847709 \nL 139.045982 325.300755 \nL 141.703125 324.411269 \nL 144.360268 322.948733 \nL 147.017411 322.124598 \nL 149.674554 320.195777 \nL 157.645982 319.954455 \nL 160.303125 318.576902 \nL 162.960268 318.441334 \nL 165.617411 318.156451 \nL 168.274554 317.420213 \nL 170.931696 316.413785 \nL 176.245982 316.113136 \nL 178.903125 315.086038 \nL 181.560268 314.178399 \nL 184.217411 313.604839 \nL 186.874554 313.585997 \nL 189.531696 313.430905 \nL 194.845982 312.898732 \nL 197.503125 311.857085 \nL 200.160268 311.744042 \nL 202.817411 311.124346 \nL 205.474554 310.253671 \nL 208.131696 310.150634 \nL 210.788839 308.603633 \nL 216.103125 308.392078 \nL 218.760268 307.416051 \nL 221.417411 307.06909 \nL 224.074554 306.836527 \nL 234.703125 306.481748 \nL 237.360268 305.916312 \nL 240.017411 304.336579 \nL 242.674554 304.121953 \nL 247.988839 303.042713 \nL 250.645982 302.531255 \nL 253.303125 301.528292 \nL 255.960268 300.871991 \nL 261.274554 300.203891 \nL 266.588839 299.369206 \nL 271.903125 298.344425 \nL 285.188839 297.554948 \nL 287.845982 296.621342 \nL 290.503125 294.244 \nL 293.160268 294.11296 \nL 295.817411 291.295733 \nL 298.474554 290.320109 \nL 301.131696 288.986606 \nL 303.788839 287.14861 \nL 306.445982 287.14861 \nL 309.103125 203.73314 \nL 311.760268 200.752087 \nL 314.417411 185.764807 \nL 317.074554 176.31017 \nL 322.388839 174.281039 \nL 325.045982 170.450339 \nL 327.703125 169.323313 \nL 330.360268 164.969994 \nL 333.017411 164.094309 \nL 335.674554 160.93071 \nL 338.331696 159.780657 \nL 340.988839 158.938278 \nL 343.645982 158.860123 \nL 346.303125 157.962877 \nL 348.960268 157.709403 \nL 351.617411 157.236163 \nL 356.931696 155.931078 \nL 362.245982 155.780672 \nL 364.903125 155.464821 \nL 370.217411 155.38331 \nL 372.874554 154.761539 \nL 375.531696 154.438737 \nL 378.188839 152.757966 \nL 383.503125 150.441974 \nL 386.160268 147.553871 \nL 391.474554 147.429881 \nL 394.131696 147.405403 \nL 396.788839 146.971315 \nL 399.445982 145.983917 \nL 402.103125 143.466033 \nL 404.760268 143.094306 \nL 407.417411 142.51356 \nL 410.074554 139.350073 \nL 412.731696 138.792998 \nL 415.388839 138.39107 \nL 418.045982 136.764608 \nL 426.017411 136.145177 \nL 428.674554 134.791427 \nL 431.331696 133.811809 \nL 433.988839 133.321396 \nL 439.303125 133.107985 \nL 441.960268 130.523633 \nL 444.617411 128.210848 \nL 447.274554 128.07571 \nL 452.588839 127.082 \nL 455.245982 125.208967 \nL 457.903125 125.096792 \nL 460.560268 124.307251 \nL 463.217411 122.332993 \nL 468.531696 121.888589 \nL 471.188839 121.700279 \nL 473.845982 120.672145 \nL 476.503125 120.114694 \nL 479.160268 118.468991 \nL 481.817411 117.871957 \nL 484.474554 117.867496 \nL 487.131696 116.810733 \nL 492.445982 116.341958 \nL 495.103125 115.249346 \nL 497.760268 113.926002 \nL 500.417411 112.471736 \nL 503.074554 111.638386 \nL 505.731696 109.910676 \nL 511.045982 108.534174 \nL 513.703125 108.251659 \nL 516.360268 104.09334 \nL 519.017411 103.329573 \nL 521.674554 102.19157 \nL 524.331696 98.951906 \nL 526.988839 97.673045 \nL 529.645982 95.491127 \nL 532.303125 94.592494 \nL 534.960268 94.492079 \nL 537.617411 86.787398 \nL 540.274554 85.438798 \nL 542.931696 84.262626 \nL 545.588839 83.844891 \nL 548.245982 78.983326 \nL 550.903125 77.717228 \nL 553.560268 73.455657 \nL 556.217411 61.063544 \nL 558.874554 57.27001 \nL 561.531696 50.628403 \nL 564.188839 46.666801 \nL 566.845982 44.864748 \nL 569.503125 41.14426 \nL 572.160268 34.082394 \nL 572.160268 34.082394 \n\" style=\"fill:none;stroke:#1f77b4;stroke-linecap:square;stroke-width:1.5;\"/>\n   </g>\n   <g id=\"patch_3\">\n    <path d=\"M 30.103125 402.838125 \nL 30.103125 22.318125 \n\" style=\"fill:none;stroke:#000000;stroke-linecap:square;stroke-linejoin:miter;stroke-width:0.8;\"/>\n   </g>\n   <g id=\"patch_4\">\n    <path d=\"M 588.103125 402.838125 \nL 588.103125 22.318125 \n\" style=\"fill:none;stroke:#000000;stroke-linecap:square;stroke-linejoin:miter;stroke-width:0.8;\"/>\n   </g>\n   <g id=\"patch_5\">\n    <path d=\"M 30.103125 402.838125 \nL 588.103125 402.838125 \n\" style=\"fill:none;stroke:#000000;stroke-linecap:square;stroke-linejoin:miter;stroke-width:0.8;\"/>\n   </g>\n   <g id=\"patch_6\">\n    <path d=\"M 30.103125 22.318125 \nL 588.103125 22.318125 \n\" style=\"fill:none;stroke:#000000;stroke-linecap:square;stroke-linejoin:miter;stroke-width:0.8;\"/>\n   </g>\n   <g id=\"text_17\">\n    <!-- Выше красной линии - тексты известной тематики -->\n    <defs>\n     <path d=\"M 19.671875 34.8125 \nL 19.671875 8.109375 \nL 35.5 8.109375 \nQ 43.453125 8.109375 47.28125 11.40625 \nQ 51.125 14.703125 51.125 21.484375 \nQ 51.125 28.328125 47.28125 31.5625 \nQ 43.453125 34.8125 35.5 34.8125 \nz\nM 19.671875 64.796875 \nL 19.671875 42.828125 \nL 34.28125 42.828125 \nQ 41.5 42.828125 45.03125 45.53125 \nQ 48.578125 48.25 48.578125 53.8125 \nQ 48.578125 59.328125 45.03125 62.0625 \nQ 41.5 64.796875 34.28125 64.796875 \nz\nM 9.8125 72.90625 \nL 35.015625 72.90625 \nQ 46.296875 72.90625 52.390625 68.21875 \nQ 58.5 63.53125 58.5 54.890625 \nQ 58.5 48.1875 55.375 44.234375 \nQ 52.25 40.28125 46.1875 39.3125 \nQ 53.46875 37.75 57.5 32.78125 \nQ 61.53125 27.828125 61.53125 20.40625 \nQ 61.53125 10.640625 54.890625 5.3125 \nQ 48.25 0 35.984375 0 \nL 9.8125 0 \nz\n\" id=\"DejaVuSans-412\"/>\n     <path d=\"M 61.046875 54.6875 \nL 70.03125 54.6875 \nL 70.03125 0 \nL 61.046875 0 \nz\nM 65.546875 56 \nz\nM 43.453125 16.21875 \nQ 43.453125 20.609375 40.25 22.90625 \nQ 37.0625 25.203125 30.90625 25.203125 \nL 18.109375 25.203125 \nL 18.109375 7.171875 \nL 30.90625 7.171875 \nQ 37.0625 7.171875 40.25 9.484375 \nQ 43.453125 11.8125 43.453125 16.21875 \nz\nM 9.078125 54.6875 \nL 18.109375 54.6875 \nL 18.109375 32.375 \nL 31.296875 32.375 \nQ 41.75 32.375 47.390625 28.390625 \nQ 53.03125 24.421875 53.03125 16.21875 \nQ 53.03125 8.015625 47.390625 4 \nQ 41.75 0 31.296875 0 \nL 9.078125 0 \nz\n\" id=\"DejaVuSans-44b\"/>\n     <path d=\"M 50.25 7.171875 \nL 73.390625 7.171875 \nL 73.390625 54.6875 \nL 82.421875 54.6875 \nL 82.421875 0 \nL 9.078125 0 \nL 9.078125 54.6875 \nL 18.109375 54.6875 \nL 18.109375 7.171875 \nL 41.21875 7.171875 \nL 41.21875 54.6875 \nL 50.25 54.6875 \nz\n\" id=\"DejaVuSans-448\"/>\n     <path d=\"M 56.203125 29.59375 \nL 56.203125 25.203125 \nL 14.890625 25.203125 \nQ 15.484375 15.921875 20.484375 11.0625 \nQ 25.484375 6.203125 34.421875 6.203125 \nQ 39.59375 6.203125 44.453125 7.46875 \nQ 49.3125 8.734375 54.109375 11.28125 \nL 54.109375 2.78125 \nQ 49.265625 0.734375 44.1875 -0.34375 \nQ 39.109375 -1.421875 33.890625 -1.421875 \nQ 20.796875 -1.421875 13.15625 6.1875 \nQ 5.515625 13.8125 5.515625 26.8125 \nQ 5.515625 40.234375 12.765625 48.109375 \nQ 20.015625 56 32.328125 56 \nQ 43.359375 56 49.78125 48.890625 \nQ 56.203125 41.796875 56.203125 29.59375 \nz\nM 47.21875 32.234375 \nQ 47.125 39.59375 43.09375 43.984375 \nQ 39.0625 48.390625 32.421875 48.390625 \nQ 24.90625 48.390625 20.390625 44.140625 \nQ 15.875 39.890625 15.1875 32.171875 \nz\n\" id=\"DejaVuSans-435\"/>\n     <path id=\"DejaVuSans-20\"/>\n     <path d=\"M 9.078125 54.6875 \nL 18.015625 54.6875 \nL 18.015625 29 \nL 43.359375 54.6875 \nL 54.390625 54.6875 \nL 33.5 33.546875 \nL 57.078125 0 \nL 47.015625 0 \nL 27.640625 27.59375 \nL 18.015625 17.828125 \nL 18.015625 0 \nL 9.078125 0 \nz\n\" id=\"DejaVuSans-43a\"/>\n     <path d=\"M 18.109375 8.203125 \nL 18.109375 -20.796875 \nL 9.078125 -20.796875 \nL 9.078125 54.6875 \nL 18.109375 54.6875 \nL 18.109375 46.390625 \nQ 20.953125 51.265625 25.265625 53.625 \nQ 29.59375 56 35.59375 56 \nQ 45.5625 56 51.78125 48.09375 \nQ 58.015625 40.1875 58.015625 27.296875 \nQ 58.015625 14.40625 51.78125 6.484375 \nQ 45.5625 -1.421875 35.59375 -1.421875 \nQ 29.59375 -1.421875 25.265625 0.953125 \nQ 20.953125 3.328125 18.109375 8.203125 \nz\nM 48.6875 27.296875 \nQ 48.6875 37.203125 44.609375 42.84375 \nQ 40.53125 48.484375 33.40625 48.484375 \nQ 26.265625 48.484375 22.1875 42.84375 \nQ 18.109375 37.203125 18.109375 27.296875 \nQ 18.109375 17.390625 22.1875 11.75 \nQ 26.265625 6.109375 33.40625 6.109375 \nQ 40.53125 6.109375 44.609375 11.75 \nQ 48.6875 17.390625 48.6875 27.296875 \nz\n\" id=\"DejaVuSans-440\"/>\n     <path d=\"M 34.28125 27.484375 \nQ 23.390625 27.484375 19.1875 25 \nQ 14.984375 22.515625 14.984375 16.5 \nQ 14.984375 11.71875 18.140625 8.90625 \nQ 21.296875 6.109375 26.703125 6.109375 \nQ 34.1875 6.109375 38.703125 11.40625 \nQ 43.21875 16.703125 43.21875 25.484375 \nL 43.21875 27.484375 \nz\nM 52.203125 31.203125 \nL 52.203125 0 \nL 43.21875 0 \nL 43.21875 8.296875 \nQ 40.140625 3.328125 35.546875 0.953125 \nQ 30.953125 -1.421875 24.3125 -1.421875 \nQ 15.921875 -1.421875 10.953125 3.296875 \nQ 6 8.015625 6 15.921875 \nQ 6 25.140625 12.171875 29.828125 \nQ 18.359375 34.515625 30.609375 34.515625 \nL 43.21875 34.515625 \nL 43.21875 35.40625 \nQ 43.21875 41.609375 39.140625 45 \nQ 35.0625 48.390625 27.6875 48.390625 \nQ 23 48.390625 18.546875 47.265625 \nQ 14.109375 46.140625 10.015625 43.890625 \nL 10.015625 52.203125 \nQ 14.9375 54.109375 19.578125 55.046875 \nQ 24.21875 56 28.609375 56 \nQ 40.484375 56 46.34375 49.84375 \nQ 52.203125 43.703125 52.203125 31.203125 \nz\n\" id=\"DejaVuSans-430\"/>\n     <path d=\"M 48.78125 52.59375 \nL 48.78125 44.1875 \nQ 44.96875 46.296875 41.140625 47.34375 \nQ 37.3125 48.390625 33.40625 48.390625 \nQ 24.65625 48.390625 19.8125 42.84375 \nQ 14.984375 37.3125 14.984375 27.296875 \nQ 14.984375 17.28125 19.8125 11.734375 \nQ 24.65625 6.203125 33.40625 6.203125 \nQ 37.3125 6.203125 41.140625 7.25 \nQ 44.96875 8.296875 48.78125 10.40625 \nL 48.78125 2.09375 \nQ 45.015625 0.34375 40.984375 -0.53125 \nQ 36.96875 -1.421875 32.421875 -1.421875 \nQ 20.0625 -1.421875 12.78125 6.34375 \nQ 5.515625 14.109375 5.515625 27.296875 \nQ 5.515625 40.671875 12.859375 48.328125 \nQ 20.21875 56 33.015625 56 \nQ 37.15625 56 41.109375 55.140625 \nQ 45.0625 54.296875 48.78125 52.59375 \nz\n\" id=\"DejaVuSans-441\"/>\n     <path d=\"M 9.078125 54.6875 \nL 18.109375 54.6875 \nL 18.109375 32.375 \nL 47.265625 32.375 \nL 47.265625 54.6875 \nL 56.296875 54.6875 \nL 56.296875 0 \nL 47.265625 0 \nL 47.265625 25.203125 \nL 18.109375 25.203125 \nL 18.109375 0 \nL 9.078125 0 \nz\n\" id=\"DejaVuSans-43d\"/>\n     <path d=\"M 30.609375 48.390625 \nQ 23.390625 48.390625 19.1875 42.75 \nQ 14.984375 37.109375 14.984375 27.296875 \nQ 14.984375 17.484375 19.15625 11.84375 \nQ 23.34375 6.203125 30.609375 6.203125 \nQ 37.796875 6.203125 41.984375 11.859375 \nQ 46.1875 17.53125 46.1875 27.296875 \nQ 46.1875 37.015625 41.984375 42.703125 \nQ 37.796875 48.390625 30.609375 48.390625 \nz\nM 30.609375 56 \nQ 42.328125 56 49.015625 48.375 \nQ 55.71875 40.765625 55.71875 27.296875 \nQ 55.71875 13.875 49.015625 6.21875 \nQ 42.328125 -1.421875 30.609375 -1.421875 \nQ 18.84375 -1.421875 12.171875 6.21875 \nQ 5.515625 13.875 5.515625 27.296875 \nQ 5.515625 40.765625 12.171875 48.375 \nQ 18.84375 56 30.609375 56 \nz\n\" id=\"DejaVuSans-43e\"/>\n     <path d=\"M 55.90625 54.6875 \nL 55.90625 0 \nL 46.96875 0 \nL 46.96875 43.890625 \nL 20.609375 0 \nL 9.078125 0 \nL 9.078125 54.6875 \nL 18.015625 54.6875 \nL 18.015625 10.890625 \nL 44.34375 54.6875 \nz\nM 17.21875 75.515625 \nL 22.984375 75.515625 \nQ 23.515625 71.859375 25.875 70.015625 \nQ 28.25 68.1875 32.5 68.1875 \nQ 36.703125 68.1875 39.046875 70 \nQ 41.390625 71.8125 42.015625 75.515625 \nL 47.78125 75.515625 \nQ 47.296875 68.53125 43.4375 65.015625 \nQ 39.578125 61.5 32.5 61.5 \nQ 25.421875 61.5 21.5625 65.015625 \nQ 17.703125 68.53125 17.21875 75.515625 \nz\n\" id=\"DejaVuSans-439\"/>\n     <path d=\"M 3.71875 0 \nL 3.71875 7.46875 \nQ 12.59375 8.84375 15.328125 14.984375 \nQ 18.65625 23.640625 18.65625 45.75 \nL 18.65625 54.6875 \nL 55.609375 54.6875 \nL 55.609375 0 \nL 46.625 0 \nL 46.625 47.515625 \nL 27.640625 47.515625 \nL 27.640625 42.09375 \nQ 27.640625 21 23.34375 11.53125 \nQ 18.75 1.421875 3.71875 0 \nz\n\" id=\"DejaVuSans-43b\"/>\n     <path d=\"M 55.90625 54.6875 \nL 55.90625 0 \nL 46.96875 0 \nL 46.96875 43.890625 \nL 20.609375 0 \nL 9.078125 0 \nL 9.078125 54.6875 \nL 18.015625 54.6875 \nL 18.015625 10.890625 \nL 44.34375 54.6875 \nz\n\" id=\"DejaVuSans-438\"/>\n     <path d=\"M 4.890625 31.390625 \nL 31.203125 31.390625 \nL 31.203125 23.390625 \nL 4.890625 23.390625 \nz\n\" id=\"DejaVuSans-2d\"/>\n     <path d=\"M 2.9375 54.6875 \nL 55.328125 54.6875 \nL 55.328125 47.515625 \nL 33.546875 47.515625 \nL 33.546875 0 \nL 24.703125 0 \nL 24.703125 47.515625 \nL 2.9375 47.515625 \nz\n\" id=\"DejaVuSans-442\"/>\n     <path d=\"M 34.46875 29.5 \nQ 40.53125 28.328125 43.890625 24.75 \nQ 47.265625 21.1875 47.265625 15.921875 \nQ 47.265625 7.46875 40.96875 3.015625 \nQ 34.671875 -1.421875 23.046875 -1.421875 \nQ 19.140625 -1.421875 15.015625 -0.734375 \nQ 10.890625 -0.046875 6.5 1.3125 \nL 6.5 9.671875 \nQ 9.96875 7.859375 14.109375 6.953125 \nQ 18.265625 6.0625 22.796875 6.0625 \nQ 30.171875 6.0625 34.296875 8.796875 \nQ 38.421875 11.53125 38.421875 15.921875 \nQ 38.421875 20.21875 34.765625 22.828125 \nQ 31.109375 25.4375 24.421875 25.4375 \nL 17.1875 25.4375 \nL 17.1875 32.859375 \nL 24.75 32.859375 \nQ 30.421875 32.859375 33.71875 35.03125 \nQ 37.015625 37.203125 37.015625 40.625 \nQ 37.015625 43.75 33.609375 46 \nQ 30.21875 48.25 24.421875 48.25 \nQ 20.953125 48.25 17.015625 47.609375 \nQ 13.09375 46.96875 8.34375 45.5625 \nL 8.34375 53.71875 \nQ 13.140625 54.890625 17.28125 55.46875 \nQ 21.4375 56.0625 25.140625 56.0625 \nQ 34.71875 56.0625 40.25 52.21875 \nQ 45.796875 48.390625 45.796875 41.5 \nQ 45.796875 36.96875 42.859375 33.8125 \nQ 39.9375 30.671875 34.46875 29.5 \nz\n\" id=\"DejaVuSans-437\"/>\n     <path d=\"M 18.0625 25.203125 \nL 18.0625 7.171875 \nL 30.859375 7.171875 \nQ 37.015625 7.171875 40.234375 9.484375 \nQ 43.453125 11.8125 43.453125 16.21875 \nQ 43.453125 20.609375 40.234375 22.90625 \nQ 37.015625 25.203125 30.859375 25.203125 \nz\nM 18.0625 47.515625 \nL 18.0625 32.375 \nL 29.890625 32.375 \nQ 34.96875 32.375 38.1875 34.390625 \nQ 41.40625 36.421875 41.40625 40.046875 \nQ 41.40625 43.65625 38.1875 45.578125 \nQ 34.96875 47.515625 29.890625 47.515625 \nz\nM 9.078125 54.6875 \nL 30.46875 54.6875 \nQ 40.09375 54.6875 45.265625 51.171875 \nQ 50.4375 47.65625 50.4375 41.15625 \nQ 50.4375 36.140625 47.796875 33.171875 \nQ 45.171875 30.21875 39.984375 29.5 \nQ 46.1875 28.328125 49.609375 24.609375 \nQ 53.03125 20.90625 53.03125 15.328125 \nQ 53.03125 8.015625 47.390625 4 \nQ 41.75 0 31.296875 0 \nL 9.078125 0 \nz\n\" id=\"DejaVuSans-432\"/>\n     <path d=\"M 9.078125 54.6875 \nL 22.21875 54.6875 \nL 37.75 18.0625 \nL 53.328125 54.6875 \nL 66.359375 54.6875 \nL 66.359375 0 \nL 57.328125 0 \nL 57.328125 46.09375 \nL 42.234375 10.5 \nL 33.25 10.5 \nL 18.109375 46.09375 \nL 18.109375 0 \nL 9.078125 0 \nz\n\" id=\"DejaVuSans-43c\"/>\n    </defs>\n    <g transform=\"translate(146.85 16.318125)scale(0.12 -0.12)\">\n     <use xlink:href=\"#DejaVuSans-412\"/>\n     <use x=\"68.603516\" xlink:href=\"#DejaVuSans-44b\"/>\n     <use x=\"147.558594\" xlink:href=\"#DejaVuSans-448\"/>\n     <use x=\"239.0625\" xlink:href=\"#DejaVuSans-435\"/>\n     <use x=\"300.585938\" xlink:href=\"#DejaVuSans-20\"/>\n     <use x=\"332.373047\" xlink:href=\"#DejaVuSans-43a\"/>\n     <use x=\"392.773438\" xlink:href=\"#DejaVuSans-440\"/>\n     <use x=\"456.25\" xlink:href=\"#DejaVuSans-430\"/>\n     <use x=\"517.529297\" xlink:href=\"#DejaVuSans-441\"/>\n     <use x=\"572.509766\" xlink:href=\"#DejaVuSans-43d\"/>\n     <use x=\"637.890625\" xlink:href=\"#DejaVuSans-43e\"/>\n     <use x=\"699.072266\" xlink:href=\"#DejaVuSans-439\"/>\n     <use x=\"764.0625\" xlink:href=\"#DejaVuSans-20\"/>\n     <use x=\"795.849609\" xlink:href=\"#DejaVuSans-43b\"/>\n     <use x=\"859.765625\" xlink:href=\"#DejaVuSans-438\"/>\n     <use x=\"924.755859\" xlink:href=\"#DejaVuSans-43d\"/>\n     <use x=\"990.136719\" xlink:href=\"#DejaVuSans-438\"/>\n     <use x=\"1055.126953\" xlink:href=\"#DejaVuSans-438\"/>\n     <use x=\"1120.117188\" xlink:href=\"#DejaVuSans-20\"/>\n     <use x=\"1151.904297\" xlink:href=\"#DejaVuSans-2d\"/>\n     <use x=\"1187.988281\" xlink:href=\"#DejaVuSans-20\"/>\n     <use x=\"1219.775391\" xlink:href=\"#DejaVuSans-442\"/>\n     <use x=\"1278.027344\" xlink:href=\"#DejaVuSans-435\"/>\n     <use x=\"1339.550781\" xlink:href=\"#DejaVuSans-43a\"/>\n     <use x=\"1399.951172\" xlink:href=\"#DejaVuSans-441\"/>\n     <use x=\"1454.931641\" xlink:href=\"#DejaVuSans-442\"/>\n     <use x=\"1513.183594\" xlink:href=\"#DejaVuSans-44b\"/>\n     <use x=\"1592.138672\" xlink:href=\"#DejaVuSans-20\"/>\n     <use x=\"1623.925781\" xlink:href=\"#DejaVuSans-438\"/>\n     <use x=\"1688.916016\" xlink:href=\"#DejaVuSans-437\"/>\n     <use x=\"1742.089844\" xlink:href=\"#DejaVuSans-432\"/>\n     <use x=\"1801.025391\" xlink:href=\"#DejaVuSans-435\"/>\n     <use x=\"1862.548828\" xlink:href=\"#DejaVuSans-441\"/>\n     <use x=\"1917.529297\" xlink:href=\"#DejaVuSans-442\"/>\n     <use x=\"1975.78125\" xlink:href=\"#DejaVuSans-43d\"/>\n     <use x=\"2041.162109\" xlink:href=\"#DejaVuSans-43e\"/>\n     <use x=\"2102.34375\" xlink:href=\"#DejaVuSans-439\"/>\n     <use x=\"2167.333984\" xlink:href=\"#DejaVuSans-20\"/>\n     <use x=\"2199.121094\" xlink:href=\"#DejaVuSans-442\"/>\n     <use x=\"2257.373047\" xlink:href=\"#DejaVuSans-435\"/>\n     <use x=\"2318.896484\" xlink:href=\"#DejaVuSans-43c\"/>\n     <use x=\"2394.335938\" xlink:href=\"#DejaVuSans-430\"/>\n     <use x=\"2455.615234\" xlink:href=\"#DejaVuSans-442\"/>\n     <use x=\"2513.867188\" xlink:href=\"#DejaVuSans-438\"/>\n     <use x=\"2578.857422\" xlink:href=\"#DejaVuSans-43a\"/>\n     <use x=\"2639.257812\" xlink:href=\"#DejaVuSans-438\"/>\n    </g>\n   </g>\n  </g>\n </g>\n <defs>\n  <clipPath id=\"p1b0a60b164\">\n   <rect height=\"380.52\" width=\"558\" x=\"30.103125\" y=\"22.318125\"/>\n  </clipPath>\n </defs>\n</svg>\n",
      "image/png": "[encoded data removed]"
     },
     "metadata": {}
    }
   ],
   "source": [
    "plt.figure(figsize = (10, 7) )\n",
    "plt.plot(sorted(lst))\n",
    "plt.ylim((-0.1, max(lst) + 0.1))\n",
    "plt.xlim((-5, len(dfTst) + 5))\n",
    "plt.hlines(avrg, 0, len(dfTst), color = 'r')\n",
    "plt.title('Выше красной линии - тексты известной тематики')\n",
    "plt.grid(True)\n"
   ]
  },
  {
   "cell_type": "code",
   "execution_count": 29,
   "metadata": {},
   "outputs": [],
   "source": [
    "# инициализируем словарь списков номеров текстов\n",
    "result = {\n",
    "          'defined': [],\n",
    "          'other'  : []\n",
    "}\n"
   ]
  },
  {
   "cell_type": "code",
   "execution_count": 30,
   "metadata": {},
   "outputs": [
    {
     "output_type": "stream",
     "name": "stdout",
     "text": [
      "{'defined': [514, 9, 2570, 3086, 1040, 1113, 3603, 2591, 2081, 2602, 1281, 1076, 569, 572, 2622, 78, 599, 89, 2139, 3600, 2144, 1121, 1123, 3433, 1139, 1658, 2173, 1664, 3719, 2185, 3214, 3224, 161, 3239, 1704, 683, 3256, 1211, 1215, 1728, 3268, 2758, 715, 2258, 219, 1244, 1757, 1262, 2799, 3824, 1779, 1270, 257, 3332, 775, 2313, 1294, 2324, 3349, 3368, 3293, 2864, 2353, 3892, 2869, 2362, 3904, 2885, 1355, 3405, 1360, 3415, 857, 347, 3940, 402, 2921, 1406, 2950, 1928, 3468, 1423, 3472, 2450, 2464, 2977, 2896, 427, 429, 958, 3524, 3013, 2504, 3020, 464, 2517, 3030, 336, 479, 2535], 'other': [3489, 3084, 2582, 1559, 1289, 2618, 1599, 2100, 579, 581, 586, 1720, 1616, 3665, 174, 85, 598, 1626, 2374, 2066, 3178, 1131, 2067, 624, 1659, 1151, 2696, 1932, 656, 1174, 665, 1691, 160, 3041, 1651, 1200, 2225, 2232, 695, 698, 3783, 1230, 1232, 1806, 808, 60, 1441, 1697, 1798, 273, 275, 3352, 1331, 1831, 307, 2579, 2876, 1343, 322, 836, 3398, 3913, 2386, 3925, 2902, 144, 2806, 999, 1909, 1911, 377, 1407, 384, 903, 910, 406, 409, 2973, 2462, 1439, 1956, 1961, 1437, 1524, 950, 758, 3233, 3530, 3545, 989, 3550, 1951, 482, 2538, 1501, 3570, 2036, 887, 1016, 2200]}\n"
     ]
    }
   ],
   "source": [
    "# заполним результирующие группы текстов 'defined' и 'other' \n",
    "j = 0\n",
    "for i in lst:\n",
    "    if i > avrg: \n",
    "        result['defined'].append(idTexts[j])\n",
    "    else: \n",
    "        result['other'].append(idTexts[j])\n",
    "    j += 1    \n",
    "\n",
    "print(result)"
   ]
  },
  {
   "cell_type": "code",
   "execution_count": 31,
   "metadata": {},
   "outputs": [],
   "source": [
    "class NumpyArrayEncoder(JSONEncoder):\n",
    "    def default(self, obj):\n",
    "        if isinstance(obj, numpy.ndarray):\n",
    "            return obj.tolist()\n",
    "        return JSONEncoder.default(self, obj)"
   ]
  },
  {
   "cell_type": "code",
   "execution_count": 32,
   "metadata": {},
   "outputs": [],
   "source": [
    "# запишем результат в JSON-файл\n",
    "with open('/data/home/alexander.vertyagin/lab05.json', 'w') as write_file:\n",
    "    json.dump(result, write_file, cls = NumpyArrayEncoder)"
   ]
  },
  {
   "source": [],
   "cell_type": "code",
   "metadata": {},
   "execution_count": null,
   "outputs": []
  },
  {
   "cell_type": "code",
   "execution_count": null,
   "metadata": {},
   "outputs": [],
   "source": []
  }
 ]
}