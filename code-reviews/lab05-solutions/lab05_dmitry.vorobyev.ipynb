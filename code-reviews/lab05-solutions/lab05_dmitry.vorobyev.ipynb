{
 "cells": [
  {
   "cell_type": "code",
   "execution_count": null,
   "outputs": [],
   "source": [
    "# 5 lab\n",
    "import re\n",
    "import numpy as np"
   ],
   "metadata": {
    "collapsed": false,
    "pycharm": {
     "name": "#%%\n"
    }
   }
  },
  {
   "cell_type": "code",
   "execution_count": null,
   "outputs": [],
   "source": [
    "# 5 lab\n",
    "ids = [2049, 3587, 3588, 5, 3078, 2570, 3600, 2579, 4, 533, 3607, 1560, 3610, 2076, 30, 2591, 2457, 2084, 776, 46, 1586, 3123, 3125, 3639, 2621, 2622, 70, 2634, 587, 588, 2126, 1616, 3668, 1622, 88, 2649, 869, 3175, 1632, 1121, 1126, 1639, 189, 1644, 1647, 2238, 1651, 630, 3708, 3198, 3713, 1154, 3203, 2668, 1669, 2183, 1674, 3728, 2194, 147, 665, 1690, 624, 2206, 672, 1188, 678, 1626, 1704, 2731, 173, 1054, 180, 2230, 695, 3256, 1211, 701, 2411, 1728, 1217, 3780, 2758, 3783, 2253, 2763, 1741, 2255, 1150, 1747, 213, 3292, 3296, 636, 2280, 3265, 1406, 241, 3317, 758, 3833, 2816, 1281, 3332, 775, 1800, 1289, 3850, 2828, 783, 2323, 1305, 3420, 3376, 1311, 800, 1829, 2855, 808, 2861, 2864, 2353, 1331, 3892, 3551, 3722, 3387, 3808, 2878, 1344, 833, 2884, 2374, 3913, 336, 1361, 2389, 1367, 656, 1885, 2398, 1892, 357, 2406, 2450, 1387, 3438, 1911, 382, 1407, 1345, 2438, 1419, 1932, 909, 399, 913, 402, 917, 406, 409, 3824, 414, 1439, 3489, 2467, 421, 2984, 1961, 427, 3959, 1967, 3067, 2463, 3001, 955, 958, 715, 972, 978, 562, 3544, 3547, 1500, 3038, 479, 2215, 2535, 3562, 3564, 1006, 2544, 3570, 1013, 887, 3066, 2043, 3580, 510, 2134]"
   ],
   "metadata": {
    "collapsed": false,
    "pycharm": {
     "name": "#%%\n"
    }
   }
  },
  {
   "cell_type": "code",
   "execution_count": null,
   "outputs": [],
   "source": [
    "def strip_html(input_str: str) -> str:\n",
    "    clean = re.compile('<.*?>')\n",
    "    return re.sub(clean, '', input_str)"
   ],
   "metadata": {
    "collapsed": false,
    "pycharm": {
     "name": "#%%\n"
    }
   }
  },
  {
   "cell_type": "code",
   "execution_count": null,
   "outputs": [],
   "source": [
    "# загрузим все тексты в память и очистим от html тегов\n",
    "base_texts = [] # 1: текст, 2: текст\n",
    "for i in range(1, 21):\n",
    "    with open('lab05data/base_{0}.txt'.format(i), 'r') as file:\n",
    "        base_texts.append(strip_html(file.read()))\n",
    "\n",
    "base_texts[:5]"
   ],
   "metadata": {
    "collapsed": false,
    "pycharm": {
     "name": "#%%\n"
    }
   }
  },
  {
   "cell_type": "code",
   "execution_count": null,
   "outputs": [],
   "source": [
    "# load test texts\n",
    "test_texts = {}\n",
    "for i in ids:\n",
    "    with open('lab05data/test_{0}.txt'.format(i), 'r') as file:\n",
    "        txt = strip_html(file.read())\n",
    "        test_texts[i] = txt\n",
    "\n",
    "# top 5 records for checking\n",
    "# {k: test_texts[k] for k in list(test_texts)[:5]}\n",
    "[test_texts[k] for k in list(test_texts)][:5]"
   ],
   "metadata": {
    "collapsed": false,
    "pycharm": {
     "name": "#%%\n"
    }
   }
  },
  {
   "cell_type": "code",
   "execution_count": null,
   "outputs": [],
   "source": [
    "# токенизируем слова\n",
    "GROUPING_SPACE_REGEX = re.compile(r'([^\\w]|[+])', re.UNICODE)\n",
    "def simple_word_tokenize(text, _split=GROUPING_SPACE_REGEX.split):\n",
    "    return [t for t in _split(text.lower()) if t and not t.isspace()]"
   ],
   "metadata": {
    "collapsed": false,
    "pycharm": {
     "name": "#%%\n"
    }
   }
  },
  {
   "cell_type": "code",
   "execution_count": null,
   "outputs": [],
   "source": [
    "# import nltk\n",
    "# import ssl\n",
    "#\n",
    "# try:\n",
    "#     _create_unverified_https_context = ssl._create_unverified_context\n",
    "# except AttributeError:\n",
    "#     pass\n",
    "# else:\n",
    "#     ssl._create_default_https_context = _create_unverified_https_context\n",
    "#\n",
    "# nltk.download('stopwords')\n"
   ],
   "metadata": {
    "collapsed": false,
    "pycharm": {
     "name": "#%%\n"
    }
   }
  },
  {
   "cell_type": "code",
   "execution_count": null,
   "outputs": [],
   "source": [
    "import pymorphy2\n",
    "m = pymorphy2.MorphAnalyzer()\n",
    "def token_r(text):\n",
    "    var_words = simple_word_tokenize(text)\n",
    "    return [m.parse(x)[0].normal_form for x in var_words if len(x) > 3]"
   ],
   "metadata": {
    "collapsed": false,
    "pycharm": {
     "name": "#%%\n"
    }
   }
  },
  {
   "cell_type": "code",
   "execution_count": null,
   "outputs": [],
   "source": [
    "from sklearn.feature_extraction.text import CountVectorizer\n",
    "cv = CountVectorizer(tokenizer=token_r)\n",
    "matrix = cv.fit_transform(base_texts).toarray()"
   ],
   "metadata": {
    "collapsed": false,
    "pycharm": {
     "name": "#%%\n"
    }
   }
  },
  {
   "cell_type": "code",
   "execution_count": null,
   "outputs": [],
   "source": [
    "# выделим стоп-слова и добавим 5 самых встречающихся\n",
    "from nltk.corpus import stopwords\n",
    "stops = set(stopwords.words('russian'))\n",
    "words = [y[0] for y in sorted(cv.vocabulary_.items(), key=lambda x: x[1])]\n",
    "c_words = zip(words, sum(matrix))\n",
    "c_words = sorted(c_words, key=lambda x: x[1], reverse=True)\n",
    "stop_w = set([x[0] for x in c_words[:5]])\n",
    "stop_w = list(stop_w | stops)\n",
    "str(stop_w)"
   ],
   "metadata": {
    "collapsed": false,
    "pycharm": {
     "name": "#%%\n"
    }
   }
  },
  {
   "cell_type": "code",
   "execution_count": null,
   "outputs": [],
   "source": [
    "# token_r(base_texts[0])"
   ],
   "metadata": {
    "collapsed": false,
    "pycharm": {
     "name": "#%%\n"
    }
   }
  },
  {
   "cell_type": "code",
   "execution_count": null,
   "outputs": [],
   "source": [
    "# переопределим каунт-векторайзер с учетом стоп-слов\n",
    "cv = CountVectorizer(tokenizer=token_r, stop_words=stop_w)"
   ],
   "metadata": {
    "collapsed": false,
    "pycharm": {
     "name": "#%%\n"
    }
   }
  },
  {
   "cell_type": "code",
   "execution_count": null,
   "outputs": [],
   "source": [
    "%%time\n",
    "matrix = cv.fit_transform(base_texts).toarray()"
   ],
   "metadata": {
    "collapsed": false,
    "pycharm": {
     "name": "#%%\n"
    }
   }
  },
  {
   "cell_type": "code",
   "execution_count": null,
   "outputs": [],
   "source": [
    "matrix.shape"
   ],
   "metadata": {
    "collapsed": false,
    "pycharm": {
     "name": "#%%\n"
    }
   }
  },
  {
   "cell_type": "code",
   "execution_count": null,
   "outputs": [],
   "source": [
    "matrix_test = cv.transform([test_texts[k] for k in list(test_texts)])"
   ],
   "metadata": {
    "collapsed": false,
    "pycharm": {
     "name": "#%%\n"
    }
   }
  },
  {
   "cell_type": "code",
   "execution_count": null,
   "outputs": [],
   "source": [
    "matrix_test[0]"
   ],
   "metadata": {
    "collapsed": false,
    "pycharm": {
     "name": "#%%\n"
    }
   }
  },
  {
   "cell_type": "code",
   "execution_count": null,
   "outputs": [],
   "source": [
    "# просто тест косинусной близости на одном и том же тексте\n",
    "from sklearn.metrics.pairwise import cosine_similarity\n",
    "cosine_similarity(matrix[0].reshape(1,-1), matrix[0].reshape(1,-1))\n"
   ],
   "metadata": {
    "collapsed": false,
    "pycharm": {
     "name": "#%%\n"
    }
   }
  },
  {
   "cell_type": "code",
   "execution_count": null,
   "outputs": [],
   "source": [
    "# %matplotlib inline\n",
    "# from matplotlib import pyplot as plt\n",
    "# plt.figure(figsize=(17,10))\n",
    "# plt.plot(cos_m[0][1:])"
   ],
   "metadata": {
    "collapsed": false,
    "pycharm": {
     "name": "#%%\n"
    }
   }
  },
  {
   "cell_type": "code",
   "execution_count": null,
   "outputs": [],
   "source": [
    "# посчитаем данные\n",
    "# берем по очереди каждый тестовый текст и считаем по нему косинусную меру для каждого из 20 базовых\n",
    "test_scores = {} # test_id, [score_array]\n",
    "for id_index in range(len(ids)):\n",
    "    test_scores[ids[id_index]] = []\n",
    "    for base_index in range(len(base_texts)):\n",
    "        # посчитаем скоры\n",
    "        score = cosine_similarity(matrix[base_index].reshape(1,-1), matrix_test[id_index])[0][0]\n",
    "        test_scores[ids[id_index]].append(score)\n",
    "\n",
    "{k: test_scores[k] for k in list(test_scores)[:1]}"
   ],
   "metadata": {
    "collapsed": false,
    "pycharm": {
     "name": "#%%\n"
    }
   }
  },
  {
   "cell_type": "code",
   "execution_count": null,
   "outputs": [],
   "source": [
    "# посчитаем среднее со всех скоров\n",
    "all_scores = []\n",
    "for test_score_id in test_scores:\n",
    "    for score in test_scores[test_score_id]:\n",
    "        all_scores.append(score)\n",
    "avg_value = np.mean(all_scores)\n",
    "avg_value"
   ],
   "metadata": {
    "collapsed": false,
    "pycharm": {
     "name": "#%%\n"
    }
   }
  },
  {
   "cell_type": "code",
   "execution_count": null,
   "outputs": [],
   "source": [
    "# посчитаем среднее по кажому айтему\n",
    "test_scores_avg = {}\n",
    "for test_score_id in test_scores:\n",
    "    arr = test_scores[test_score_id]\n",
    "    test_scores_avg[test_score_id] = np.mean(arr)\n",
    "\n",
    "{k: test_scores_avg[k] for k in list(test_scores_avg)[:5]}"
   ],
   "metadata": {
    "collapsed": false,
    "pycharm": {
     "name": "#%%\n"
    }
   }
  },
  {
   "cell_type": "code",
   "execution_count": null,
   "outputs": [],
   "source": [
    "# разделим выборку относительно этого среднего\n",
    "good_ids = [k for k in list(test_scores_avg) if test_scores_avg[k] > avg_value]\n",
    "bad_ids = [k for k in list(test_scores_avg) if test_scores_avg[k] <= avg_value]\n",
    "(str(good_ids), str(bad_ids))\n",
    "# руками копировал в json"
   ],
   "metadata": {
    "collapsed": false,
    "pycharm": {
     "name": "#%%\n"
    }
   }
  }
 ],
 "metadata": {
  "kernelspec": {
   "display_name": "Python 3",
   "language": "python",
   "name": "python3"
  },
  "language_info": {
   "codemirror_mode": {
    "name": "ipython",
    "version": 2
   },
   "file_extension": ".py",
   "mimetype": "text/x-python",
   "name": "python",
   "nbconvert_exporter": "python",
   "pygments_lexer": "ipython2",
   "version": "2.7.6"
  }
 },
 "nbformat": 4,
 "nbformat_minor": 0
}