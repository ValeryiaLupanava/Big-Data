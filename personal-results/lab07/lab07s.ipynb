{
 "cells": [
  {
   "cell_type": "code",
   "execution_count": 1,
   "metadata": {},
   "outputs": [],
   "source": [
    "from IPython.display import IFrame, Image"
   ]
  },
  {
   "cell_type": "code",
   "execution_count": 2,
   "metadata": {},
   "outputs": [],
   "source": [
    "import os\n",
    "import sys\n",
    "os.environ[\"PYSPARK_PYTHON\"]='/opt/anaconda/envs/bd9/bin/python'\n",
    "os.environ[\"SPARK_HOME\"]='/usr/hdp/current/spark2-client'\n",
    "os.environ[\"PYSPARK_SUBMIT_ARGS\"]='--num-executors 3 pyspark-shell'\n",
    "\n",
    "spark_home = os.environ.get('SPARK_HOME', None)\n",
    "\n",
    "sys.path.insert(0, os.path.join(spark_home, 'python'))\n",
    "sys.path.insert(0, os.path.join(spark_home, 'python/lib/py4j-0.10.7-src.zip'))"
   ]
  },
  {
   "cell_type": "code",
   "execution_count": 3,
   "metadata": {},
   "outputs": [],
   "source": [
    "from pyspark import SparkContext, SparkConf\n",
    "\n",
    "conf = SparkConf()\n",
    "conf.set(\"spark.app.name\", \"valeria.lupanova Spark RDD app\") \n",
    "\n",
    "sc = SparkContext(conf=conf)"
   ]
  },
  {
   "cell_type": "code",
   "execution_count": 4,
   "metadata": {},
   "outputs": [
    {
     "data": {
      "text/plain": [
       "[('spark.history.kerberos.keytab', 'none'),\n",
       " ('spark.eventLog.enabled', 'true'),\n",
       " ('spark.submit.pyFiles',\n",
       "  '/data/home/valeria.lupanova/.ivy2/jars/org.apache.spark_spark-sql-kafka-0-10_2.11-2.4.5.jar,/data/home/valeria.lupanova/.ivy2/jars/graphframes_graphframes-0.7.0-spark2.4-s_2.11.jar,/data/home/valeria.lupanova/.ivy2/jars/databricks_spark-sklearn-0.2.3.jar,/data/home/valeria.lupanova/.ivy2/jars/org.apache.kafka_kafka-clients-2.0.0.jar,/data/home/valeria.lupanova/.ivy2/jars/org.spark-project.spark_unused-1.0.0.jar,/data/home/valeria.lupanova/.ivy2/jars/org.lz4_lz4-java-1.4.0.jar,/data/home/valeria.lupanova/.ivy2/jars/org.xerial.snappy_snappy-java-1.1.7.3.jar,/data/home/valeria.lupanova/.ivy2/jars/org.slf4j_slf4j-api-1.7.16.jar'),\n",
       " ('spark.history.ui.port', '18081'),\n",
       " ('spark.driver.extraLibraryPath',\n",
       "  '/usr/hdp/current/hadoop-client/lib/native:/usr/hdp/current/hadoop-client/lib/native/Linux-amd64-64'),\n",
       " ('spark.history.fs.cleaner.interval', '7d'),\n",
       " ('spark.driver.port', '40983'),\n",
       " ('spark.shuffle.io.serverThreads', '128'),\n",
       " ('spark.sql.streaming.streamingQueryListeners', ''),\n",
       " ('spark.executor.extraLibraryPath',\n",
       "  '/usr/hdp/current/hadoop-client/lib/native:/usr/hdp/current/hadoop-client/lib/native/Linux-amd64-64'),\n",
       " ('spark.serializer', 'org.apache.spark.serializer.KryoSerializer'),\n",
       " ('spark.shuffle.file.buffer', '1m'),\n",
       " ('spark.sql.hive.convertMetastoreOrc', 'true'),\n",
       " ('spark.yarn.dist.files', ''),\n",
       " ('spark.sql.autoBroadcastJoinThreshold', '26214400'),\n",
       " ('spark.yarn.dist.pyFiles',\n",
       "  'file:///data/home/valeria.lupanova/.ivy2/jars/org.apache.spark_spark-sql-kafka-0-10_2.11-2.4.5.jar,file:///data/home/valeria.lupanova/.ivy2/jars/graphframes_graphframes-0.7.0-spark2.4-s_2.11.jar,file:///data/home/valeria.lupanova/.ivy2/jars/databricks_spark-sklearn-0.2.3.jar,file:///data/home/valeria.lupanova/.ivy2/jars/org.apache.kafka_kafka-clients-2.0.0.jar,file:///data/home/valeria.lupanova/.ivy2/jars/org.spark-project.spark_unused-1.0.0.jar,file:///data/home/valeria.lupanova/.ivy2/jars/org.lz4_lz4-java-1.4.0.jar,file:///data/home/valeria.lupanova/.ivy2/jars/org.xerial.snappy_snappy-java-1.1.7.3.jar,file:///data/home/valeria.lupanova/.ivy2/jars/org.slf4j_slf4j-api-1.7.16.jar'),\n",
       " ('spark.ui.filters',\n",
       "  'org.apache.hadoop.yarn.server.webproxy.amfilter.AmIpFilter'),\n",
       " ('spark.eventLog.dir', 'hdfs:///spark2-history/'),\n",
       " ('spark.sql.catalogImplementation', 'in-memory'),\n",
       " ('spark.yarn.dist.jars',\n",
       "  'file:///data/home/valeria.lupanova/.ivy2/jars/org.apache.spark_spark-sql-kafka-0-10_2.11-2.4.5.jar,file:///data/home/valeria.lupanova/.ivy2/jars/graphframes_graphframes-0.7.0-spark2.4-s_2.11.jar,file:///data/home/valeria.lupanova/.ivy2/jars/databricks_spark-sklearn-0.2.3.jar,file:///data/home/valeria.lupanova/.ivy2/jars/org.apache.kafka_kafka-clients-2.0.0.jar,file:///data/home/valeria.lupanova/.ivy2/jars/org.spark-project.spark_unused-1.0.0.jar,file:///data/home/valeria.lupanova/.ivy2/jars/org.lz4_lz4-java-1.4.0.jar,file:///data/home/valeria.lupanova/.ivy2/jars/org.xerial.snappy_snappy-java-1.1.7.3.jar,file:///data/home/valeria.lupanova/.ivy2/jars/org.slf4j_slf4j-api-1.7.16.jar'),\n",
       " ('spark.executor.memory', '4g'),\n",
       " ('spark.executor.id', 'driver'),\n",
       " ('spark.sql.orc.impl', 'native'),\n",
       " ('spark.app.name', 'valeria.lupanova Spark RDD app'),\n",
       " ('spark.history.fs.logDirectory', 'hdfs:///spark2-history/'),\n",
       " ('spark.history.fs.cleaner.maxAge', '90d'),\n",
       " ('spark.extraListeners', ''),\n",
       " ('spark.sql.warehouse.dir', '/apps/spark/warehouse'),\n",
       " ('spark.history.store.path', '/var/lib/spark2/shs_db'),\n",
       " ('spark.executorEnv.PYTHONPATH',\n",
       "  '{{PWD}}/pyspark.zip<CPS>{{PWD}}/py4j-0.10.7-src.zip<CPS>{{PWD}}/org.apache.spark_spark-sql-kafka-0-10_2.11-2.4.5.jar<CPS>{{PWD}}/graphframes_graphframes-0.7.0-spark2.4-s_2.11.jar<CPS>{{PWD}}/databricks_spark-sklearn-0.2.3.jar<CPS>{{PWD}}/org.apache.kafka_kafka-clients-2.0.0.jar<CPS>{{PWD}}/org.spark-project.spark_unused-1.0.0.jar<CPS>{{PWD}}/org.lz4_lz4-java-1.4.0.jar<CPS>{{PWD}}/org.xerial.snappy_snappy-java-1.1.7.3.jar<CPS>{{PWD}}/org.slf4j_slf4j-api-1.7.16.jar'),\n",
       " ('spark.jars.packages',\n",
       "  'org.apache.spark:spark-sql-kafka-0-10_2.11:2.4.5,graphframes:graphframes:0.7.0-spark2.4-s_2.11,databricks:spark-sklearn:0.2.3'),\n",
       " ('spark.executor.instances', '3'),\n",
       " ('spark.sql.execution.arrow.enabled', 'true'),\n",
       " ('spark.driver.memory', '4g'),\n",
       " ('spark.kryoserializer.buffer.max', '512m'),\n",
       " ('spark.sql.statistics.fallBackToHdfs', 'true'),\n",
       " ('spark.yarn.archive', 'hdfs:///tmp/spark-archive.zip'),\n",
       " ('spark.app.id', 'application_1604852613786_0750'),\n",
       " ('spark.history.provider',\n",
       "  'org.apache.spark.deploy.history.FsHistoryProvider'),\n",
       " ('spark.serializer.objectStreamReset', '100'),\n",
       " ('spark.yarn.historyServer.address', 'bd-master.newprolab.com:18081'),\n",
       " ('spark.driver.host', 'bd-master.newprolab.com'),\n",
       " ('spark.repl.local.jars',\n",
       "  'file:///data/home/valeria.lupanova/.ivy2/jars/org.apache.spark_spark-sql-kafka-0-10_2.11-2.4.5.jar,file:///data/home/valeria.lupanova/.ivy2/jars/graphframes_graphframes-0.7.0-spark2.4-s_2.11.jar,file:///data/home/valeria.lupanova/.ivy2/jars/databricks_spark-sklearn-0.2.3.jar,file:///data/home/valeria.lupanova/.ivy2/jars/org.apache.kafka_kafka-clients-2.0.0.jar,file:///data/home/valeria.lupanova/.ivy2/jars/org.spark-project.spark_unused-1.0.0.jar,file:///data/home/valeria.lupanova/.ivy2/jars/org.lz4_lz4-java-1.4.0.jar,file:///data/home/valeria.lupanova/.ivy2/jars/org.xerial.snappy_snappy-java-1.1.7.3.jar,file:///data/home/valeria.lupanova/.ivy2/jars/org.slf4j_slf4j-api-1.7.16.jar'),\n",
       " ('spark.submit.deployMode', 'client'),\n",
       " ('spark.driver.extraClassPath', ''),\n",
       " ('spark.ui.proxyBase', '/proxy/application_1604852613786_0750'),\n",
       " ('spark.sql.hive.metastore.jars',\n",
       "  '/usr/hdp/current/spark2-client/standalone-metastore/*'),\n",
       " ('spark.org.apache.hadoop.yarn.server.webproxy.amfilter.AmIpFilter.param.PROXY_URI_BASES',\n",
       "  'http://bd-master.newprolab.com:8088/proxy/application_1604852613786_0750'),\n",
       " ('spark.driver.maxResultSize', '3900m'),\n",
       " ('spark.deploy-mode', 'client'),\n",
       " ('spark.yarn.queue', 'default'),\n",
       " ('spark.port.maxRetries', '50'),\n",
       " ('spark.org.apache.hadoop.yarn.server.webproxy.amfilter.AmIpFilter.param.PROXY_HOSTS',\n",
       "  'bd-master.newprolab.com'),\n",
       " ('spark.history.fs.cleaner.enabled', 'true'),\n",
       " ('spark.sql.queryExecutionListeners', ''),\n",
       " ('spark.yarn.secondary.jars',\n",
       "  'org.apache.spark_spark-sql-kafka-0-10_2.11-2.4.5.jar,graphframes_graphframes-0.7.0-spark2.4-s_2.11.jar,databricks_spark-sklearn-0.2.3.jar,org.apache.kafka_kafka-clients-2.0.0.jar,org.spark-project.spark_unused-1.0.0.jar,org.lz4_lz4-java-1.4.0.jar,org.xerial.snappy_snappy-java-1.1.7.3.jar,org.slf4j_slf4j-api-1.7.16.jar'),\n",
       " ('spark.master', 'yarn'),\n",
       " ('spark.io.compression.lz4.blockSize', '128kb'),\n",
       " ('spark.history.kerberos.principal', 'none'),\n",
       " ('spark.sql.orc.filterPushdown', 'true'),\n",
       " ('spark.rdd.compress', 'True'),\n",
       " ('spark.shuffle.io.backLog', '8192'),\n",
       " ('spark.driver.appUIAddress', 'http://bd-master.newprolab.com:4049'),\n",
       " ('spark.unsafe.sorter.spill.reader.buffer.size', '1m'),\n",
       " ('spark.yarn.isPython', 'true'),\n",
       " ('spark.shuffle.unsafe.file.output.buffer', '5m'),\n",
       " ('spark.executor.cores', '1'),\n",
       " ('spark.executor.extraJavaOptions', '-XX:+UseNUMA'),\n",
       " ('spark.ui.showConsoleProgress', 'true'),\n",
       " ('spark.sql.hive.metastore.version', '3.0')]"
      ]
     },
     "execution_count": 4,
     "metadata": {},
     "output_type": "execute_result"
    }
   ],
   "source": [
    "sc.getConf().getAll()"
   ]
  },
  {
   "cell_type": "code",
   "execution_count": 5,
   "metadata": {},
   "outputs": [],
   "source": [
    "from pyspark.sql import SparkSession\n",
    "\n",
    "spark = SparkSession(sc)"
   ]
  },
  {
   "cell_type": "code",
   "execution_count": 6,
   "metadata": {},
   "outputs": [
    {
     "name": "stdout",
     "output_type": "stream",
     "text": [
      "-rw-r--r--   2 hdfs hdfs   69519728 2020-09-30 12:22 /labs/lab07data/DO_record_per_line.json\r\n"
     ]
    }
   ],
   "source": [
    "!hdfs dfs -ls /labs/lab07data/DO_record_per_line.json"
   ]
  },
  {
   "cell_type": "code",
   "execution_count": 7,
   "metadata": {},
   "outputs": [],
   "source": [
    "from pyspark.sql.types import StructType, StructField, IntegerType, StringType, FloatType\n",
    "\n",
    "schema = StructType([\n",
    "    StructField('cat', StringType(), True),\n",
    "    StructField('desc', StringType(), True),\n",
    "    StructField('id', IntegerType(), True),\n",
    "    StructField('lang', StringType(), True),\n",
    "    StructField('name', StringType(), True),\n",
    "    StructField('provider', StringType(), True)\n",
    "])"
   ]
  },
  {
   "cell_type": "code",
   "execution_count": 8,
   "metadata": {},
   "outputs": [],
   "source": [
    "target_ = spark.read.json(\"/labs/lab07data/DO_record_per_line.json\", schema, multiLine=False)"
   ]
  },
  {
   "cell_type": "code",
   "execution_count": 9,
   "metadata": {},
   "outputs": [
    {
     "name": "stdout",
     "output_type": "stream",
     "text": [
      "+--------------------+--------------------+---+----+--------------------+--------------+\n",
      "|                 cat|                desc| id|lang|                name|      provider|\n",
      "+--------------------+--------------------+---+----+--------------------+--------------+\n",
      "|3/business_manage...|This course intro...|  4|  en|Accounting Cycle:...|Canvas Network|\n",
      "|              11/law|This online cours...|  5|  en|American Counter ...|Canvas Network|\n",
      "|5/computer_scienc...|This course is ta...|  6|  fr|Arithmétique: en ...|Canvas Network|\n",
      "|  14/social_sciences|We live in a digi...|  7|  en|Becoming a Dynami...|Canvas Network|\n",
      "|2/biology_life_sc...|This self-paced c...|  8|  en|           Bioethics|Canvas Network|\n",
      "|9/humanities|15/m...|This game-based c...|  9|  en|College Foundatio...|Canvas Network|\n",
      "|  14/social_sciences|What’s in your di...| 10|  en|Digital Literacies I|Canvas Network|\n",
      "|  14/social_sciences|The goal of the D...| 11|  en|Digital Literacie...|Canvas Network|\n",
      "|  14/social_sciences|Ready to explore ...| 12|  en|Digital Tools for...|Canvas Network|\n",
      "|  14/social_sciences|This self-paced c...| 13|  en|Discover Your Val...|Canvas Network|\n",
      "|  12/medicine_health|What is “interpro...| 14|  en|Enhancing Patient...|Canvas Network|\n",
      "|        16/languages|This course prese...| 15|  en|Ethics and Values...|Canvas Network|\n",
      "|         4/chemistry|Chemistry is an i...| 16|  en| Exploring Chemistry|Canvas Network|\n",
      "|8/engineering_tec...|Are you consideri...| 17|  en|Exploring Enginee...|Canvas Network|\n",
      "|   1/arts_music_film|Princess stories ...| 18|  en|Fairy Tales: Orig...|Canvas Network|\n",
      "|        9/humanities|This first instal...| 19|  en|First Peoples to ...|Canvas Network|\n",
      "|  14/social_sciences|This course exami...| 20|  en| Forums for a Future|Canvas Network|\n",
      "|        9/humanities|This course will ...| 21|  en|From the Gilded A...|Canvas Network|\n",
      "|8/engineering_tec...|The field of tech...| 22|  en|Fundamentals of S...|Canvas Network|\n",
      "|  14/social_sciences|Are you a Higher ...| 23|  en|Hybrid Courses: B...|Canvas Network|\n",
      "+--------------------+--------------------+---+----+--------------------+--------------+\n",
      "only showing top 20 rows\n",
      "\n"
     ]
    }
   ],
   "source": [
    "target_.show()"
   ]
  },
  {
   "cell_type": "markdown",
   "metadata": {},
   "source": [
    "###### Удалим из target_ курсы с ненужными языками"
   ]
  },
  {
   "cell_type": "code",
   "execution_count": 10,
   "metadata": {},
   "outputs": [
    {
     "name": "stdout",
     "output_type": "stream",
     "text": [
      "+---+----+--------------------+--------------------+\n",
      "| id|lang|                name|                desc|\n",
      "+---+----+--------------------+--------------------+\n",
      "|  4|  en|Accounting Cycle:...|This course intro...|\n",
      "|  5|  en|American Counter ...|This online cours...|\n",
      "|  7|  en|Becoming a Dynami...|We live in a digi...|\n",
      "|  8|  en|           Bioethics|This self-paced c...|\n",
      "|  9|  en|College Foundatio...|This game-based c...|\n",
      "| 10|  en|Digital Literacies I|What’s in your di...|\n",
      "| 11|  en|Digital Literacie...|The goal of the D...|\n",
      "| 12|  en|Digital Tools for...|Ready to explore ...|\n",
      "| 13|  en|Discover Your Val...|This self-paced c...|\n",
      "| 14|  en|Enhancing Patient...|What is “interpro...|\n",
      "| 15|  en|Ethics and Values...|This course prese...|\n",
      "| 16|  en| Exploring Chemistry|Chemistry is an i...|\n",
      "| 17|  en|Exploring Enginee...|Are you consideri...|\n",
      "| 18|  en|Fairy Tales: Orig...|Princess stories ...|\n",
      "| 19|  en|First Peoples to ...|This first instal...|\n",
      "| 20|  en| Forums for a Future|This course exami...|\n",
      "| 21|  en|From the Gilded A...|This course will ...|\n",
      "| 22|  en|Fundamentals of S...|The field of tech...|\n",
      "| 23|  en|Hybrid Courses: B...|Are you a Higher ...|\n",
      "| 24|  en|International Hea...|This course will ...|\n",
      "+---+----+--------------------+--------------------+\n",
      "only showing top 20 rows\n",
      "\n"
     ]
    }
   ],
   "source": [
    "import re \n",
    "from pyspark.sql import functions as fsql\n",
    "\n",
    "target_ = target_.select(fsql.col(\"id\"),\\\n",
    "                     fsql.col(\"lang\"),\\\n",
    "                     fsql.col(\"name\"),\\\n",
    "                     fsql.col(\"desc\"),).filter(\"lang in ('en', 'es', 'ru')\")\n",
    "target_.show()"
   ]
  },
  {
   "cell_type": "code",
   "execution_count": 11,
   "metadata": {},
   "outputs": [],
   "source": [
    "from pyspark.sql.types import ArrayType\n",
    "\n",
    "target_ = target_.withColumn(\"desc\",fsql.lower(fsql.col(\"desc\")))\n",
    "\n",
    "@fsql.pandas_udf(ArrayType(StringType()))\n",
    "def split_and_filter(x):\n",
    "    return(x.str.findall('[\\w\\d]{2,}'))"
   ]
  },
  {
   "cell_type": "code",
   "execution_count": 12,
   "metadata": {},
   "outputs": [
    {
     "name": "stdout",
     "output_type": "stream",
     "text": [
      "+---+----+--------------------+--------------------+\n",
      "| id|lang|                name|                desc|\n",
      "+---+----+--------------------+--------------------+\n",
      "|  4|  en|Accounting Cycle:...|[this, course, in...|\n",
      "|  5|  en|American Counter ...|[this, online, co...|\n",
      "|  7|  en|Becoming a Dynami...|[we, live, in, di...|\n",
      "|  8|  en|           Bioethics|[this, self, pace...|\n",
      "|  9|  en|College Foundatio...|[this, game, base...|\n",
      "| 10|  en|Digital Literacies I|[what, in, your, ...|\n",
      "| 11|  en|Digital Literacie...|[the, goal, of, t...|\n",
      "| 12|  en|Digital Tools for...|[ready, to, explo...|\n",
      "| 13|  en|Discover Your Val...|[this, self, pace...|\n",
      "| 14|  en|Enhancing Patient...|[what, is, interp...|\n",
      "| 15|  en|Ethics and Values...|[this, course, pr...|\n",
      "| 16|  en| Exploring Chemistry|[chemistry, is, a...|\n",
      "| 17|  en|Exploring Enginee...|[are, you, consid...|\n",
      "| 18|  en|Fairy Tales: Orig...|[princess, storie...|\n",
      "| 19|  en|First Peoples to ...|[this, first, ins...|\n",
      "| 20|  en| Forums for a Future|[this, course, ex...|\n",
      "| 21|  en|From the Gilded A...|[this, course, wi...|\n",
      "| 22|  en|Fundamentals of S...|[the, field, of, ...|\n",
      "| 23|  en|Hybrid Courses: B...|[are, you, higher...|\n",
      "| 24|  en|International Hea...|[this, course, wi...|\n",
      "+---+----+--------------------+--------------------+\n",
      "only showing top 20 rows\n",
      "\n"
     ]
    }
   ],
   "source": [
    "target_ = target_.withColumn(\"desc\", split_and_filter(target_.desc)) \n",
    "\n",
    "target_.show()"
   ]
  },
  {
   "cell_type": "markdown",
   "metadata": {},
   "source": [
    "##### Useful script for cleansing data\n",
    "\n",
    "from pyspark.ml.feature import StopWordsRemover\n",
    "import nltk\n",
    "nltk.download(\"stopwords\")\n",
    "\n",
    "stopwordList = nltk.corpus.stopwords.words('russian')\n",
    "stopwordList\n",
    "\n",
    "remover = StopWordsRemover(inputCol='tokenizer', outputCol=\"tokenizer\", stopWords=stopwordList)\n",
    "df = remover.transform(df)\n",
    "df.show()"
   ]
  },
  {
   "cell_type": "code",
   "execution_count": 13,
   "metadata": {},
   "outputs": [],
   "source": [
    "from pyspark.ml.feature import HashingTF, Tokenizer\n",
    "from pyspark.ml.feature import IDF as MLIDF\n",
    "from pyspark.sql.types import DoubleType"
   ]
  },
  {
   "cell_type": "code",
   "execution_count": 14,
   "metadata": {},
   "outputs": [
    {
     "name": "stdout",
     "output_type": "stream",
     "text": [
      "+---+----+--------------------+--------------------+--------------------+\n",
      "| id|lang|                name|                desc|                  tf|\n",
      "+---+----+--------------------+--------------------+--------------------+\n",
      "|  4|  en|Accounting Cycle:...|[this, course, in...|(10000,[36,63,138...|\n",
      "|  5|  en|American Counter ...|[this, online, co...|(10000,[32,222,36...|\n",
      "|  7|  en|Becoming a Dynami...|[we, live, in, di...|(10000,[493,572,7...|\n",
      "|  8|  en|           Bioethics|[this, self, pace...|(10000,[32,115,13...|\n",
      "|  9|  en|College Foundatio...|[this, game, base...|(10000,[56,91,300...|\n",
      "| 10|  en|Digital Literacies I|[what, in, your, ...|(10000,[1045,1263...|\n",
      "| 11|  en|Digital Literacie...|[the, goal, of, t...|(10000,[87,157,57...|\n",
      "| 12|  en|Digital Tools for...|[ready, to, explo...|(10000,[233,461,8...|\n",
      "| 13|  en|Discover Your Val...|[this, self, pace...|(10000,[26,696,10...|\n",
      "| 14|  en|Enhancing Patient...|[what, is, interp...|(10000,[63,145,23...|\n",
      "| 15|  en|Ethics and Values...|[this, course, pr...|(10000,[32,77,148...|\n",
      "| 16|  en| Exploring Chemistry|[chemistry, is, a...|(10000,[32,273,30...|\n",
      "| 17|  en|Exploring Enginee...|[are, you, consid...|(10000,[1022,1420...|\n",
      "| 18|  en|Fairy Tales: Orig...|[princess, storie...|(10000,[157,307,3...|\n",
      "| 19|  en|First Peoples to ...|[this, first, ins...|(10000,[572,696,8...|\n",
      "| 20|  en| Forums for a Future|[this, course, ex...|(10000,[87,91,177...|\n",
      "| 21|  en|From the Gilded A...|[this, course, wi...|(10000,[148,157,3...|\n",
      "| 22|  en|Fundamentals of S...|[the, field, of, ...|(10000,[128,177,4...|\n",
      "| 23|  en|Hybrid Courses: B...|[are, you, higher...|(10000,[91,332,52...|\n",
      "| 24|  en|International Hea...|[this, course, wi...|(10000,[115,128,2...|\n",
      "+---+----+--------------------+--------------------+--------------------+\n",
      "only showing top 20 rows\n",
      "\n"
     ]
    }
   ],
   "source": [
    "htf = HashingTF(inputCol=\"desc\", outputCol=\"tf\", numFeatures=10000)\n",
    "tf = htf.transform(target_)\n",
    "tf.show(truncate=True)"
   ]
  },
  {
   "cell_type": "code",
   "execution_count": 15,
   "metadata": {},
   "outputs": [
    {
     "name": "stdout",
     "output_type": "stream",
     "text": [
      "+---+----+--------------------+--------------------+--------------------+--------------------+\n",
      "| id|lang|                name|                desc|                  tf|                 idf|\n",
      "+---+----+--------------------+--------------------+--------------------+--------------------+\n",
      "|  4|  en|Accounting Cycle:...|[this, course, in...|(10000,[36,63,138...|(10000,[36,63,138...|\n",
      "|  5|  en|American Counter ...|[this, online, co...|(10000,[32,222,36...|(10000,[32,222,36...|\n",
      "|  7|  en|Becoming a Dynami...|[we, live, in, di...|(10000,[493,572,7...|(10000,[493,572,7...|\n",
      "|  8|  en|           Bioethics|[this, self, pace...|(10000,[32,115,13...|(10000,[32,115,13...|\n",
      "|  9|  en|College Foundatio...|[this, game, base...|(10000,[56,91,300...|(10000,[56,91,300...|\n",
      "| 10|  en|Digital Literacies I|[what, in, your, ...|(10000,[1045,1263...|(10000,[1045,1263...|\n",
      "| 11|  en|Digital Literacie...|[the, goal, of, t...|(10000,[87,157,57...|(10000,[87,157,57...|\n",
      "| 12|  en|Digital Tools for...|[ready, to, explo...|(10000,[233,461,8...|(10000,[233,461,8...|\n",
      "| 13|  en|Discover Your Val...|[this, self, pace...|(10000,[26,696,10...|(10000,[26,696,10...|\n",
      "| 14|  en|Enhancing Patient...|[what, is, interp...|(10000,[63,145,23...|(10000,[63,145,23...|\n",
      "| 15|  en|Ethics and Values...|[this, course, pr...|(10000,[32,77,148...|(10000,[32,77,148...|\n",
      "| 16|  en| Exploring Chemistry|[chemistry, is, a...|(10000,[32,273,30...|(10000,[32,273,30...|\n",
      "| 17|  en|Exploring Enginee...|[are, you, consid...|(10000,[1022,1420...|(10000,[1022,1420...|\n",
      "| 18|  en|Fairy Tales: Orig...|[princess, storie...|(10000,[157,307,3...|(10000,[157,307,3...|\n",
      "| 19|  en|First Peoples to ...|[this, first, ins...|(10000,[572,696,8...|(10000,[572,696,8...|\n",
      "| 20|  en| Forums for a Future|[this, course, ex...|(10000,[87,91,177...|(10000,[87,91,177...|\n",
      "| 21|  en|From the Gilded A...|[this, course, wi...|(10000,[148,157,3...|(10000,[148,157,3...|\n",
      "| 22|  en|Fundamentals of S...|[the, field, of, ...|(10000,[128,177,4...|(10000,[128,177,4...|\n",
      "| 23|  en|Hybrid Courses: B...|[are, you, higher...|(10000,[91,332,52...|(10000,[91,332,52...|\n",
      "| 24|  en|International Hea...|[this, course, wi...|(10000,[115,128,2...|(10000,[115,128,2...|\n",
      "+---+----+--------------------+--------------------+--------------------+--------------------+\n",
      "only showing top 20 rows\n",
      "\n"
     ]
    }
   ],
   "source": [
    "idf = MLIDF(inputCol=\"tf\", outputCol=\"idf\")\n",
    "tfidf = idf.fit(tf).transform(tf)\n",
    "tfidf.show(truncate=True)"
   ]
  },
  {
   "cell_type": "code",
   "execution_count": 16,
   "metadata": {},
   "outputs": [
    {
     "name": "stdout",
     "output_type": "stream",
     "text": [
      "+-----+-----+--------------------+--------------------+--------------------+\n",
      "|  id2|lang2|               name2|                 tf2|                idf2|\n",
      "+-----+-----+--------------------+--------------------+--------------------+\n",
      "|  877|   ru|Нейрокомпьютинг и...|(10000,[97,381,71...|(10000,[97,381,71...|\n",
      "|  965|   ru|Основы работы с G...|(10000,[381,467,1...|(10000,[381,467,1...|\n",
      "| 5660|   es|Escritura Emocion...|(10000,[21,33,120...|(10000,[21,33,120...|\n",
      "|13131|   es|Instala Google An...|(10000,[21,125,17...|(10000,[21,125,17...|\n",
      "|15516|   en|Optimizing Perfor...|(10000,[869,1036,...|(10000,[869,1036,...|\n",
      "|22777|   en|Attract High Payi...|(10000,[26,32,56,...|(10000,[26,32,56,...|\n",
      "+-----+-----+--------------------+--------------------+--------------------+\n",
      "\n"
     ]
    }
   ],
   "source": [
    "b_ = tfidf.select(fsql.col(\"id\").alias(\"id2\"),\\\n",
    "                  fsql.col(\"lang\").alias(\"lang2\"),\\\n",
    "                  fsql.col(\"name\").alias(\"name2\"),\\\n",
    "                  fsql.col(\"tf\").alias(\"tf2\"),\\\n",
    "                  fsql.col(\"idf\").alias(\"idf2\")).filter(\"id in (15516, 22777, 13131, 5660, 965, 877)\")\n",
    "b_.show()"
   ]
  },
  {
   "cell_type": "code",
   "execution_count": 17,
   "metadata": {},
   "outputs": [
    {
     "name": "stdout",
     "output_type": "stream",
     "text": [
      "+---+----+--------------------+--------------------+--------------------+\n",
      "| id|lang|                name|                  tf|                 idf|\n",
      "+---+----+--------------------+--------------------+--------------------+\n",
      "|  4|  en|Accounting Cycle:...|(10000,[36,63,138...|(10000,[36,63,138...|\n",
      "|  5|  en|American Counter ...|(10000,[32,222,36...|(10000,[32,222,36...|\n",
      "|  7|  en|Becoming a Dynami...|(10000,[493,572,7...|(10000,[493,572,7...|\n",
      "|  8|  en|           Bioethics|(10000,[32,115,13...|(10000,[32,115,13...|\n",
      "|  9|  en|College Foundatio...|(10000,[56,91,300...|(10000,[56,91,300...|\n",
      "| 10|  en|Digital Literacies I|(10000,[1045,1263...|(10000,[1045,1263...|\n",
      "| 11|  en|Digital Literacie...|(10000,[87,157,57...|(10000,[87,157,57...|\n",
      "| 12|  en|Digital Tools for...|(10000,[233,461,8...|(10000,[233,461,8...|\n",
      "| 13|  en|Discover Your Val...|(10000,[26,696,10...|(10000,[26,696,10...|\n",
      "| 14|  en|Enhancing Patient...|(10000,[63,145,23...|(10000,[63,145,23...|\n",
      "| 15|  en|Ethics and Values...|(10000,[32,77,148...|(10000,[32,77,148...|\n",
      "| 16|  en| Exploring Chemistry|(10000,[32,273,30...|(10000,[32,273,30...|\n",
      "| 17|  en|Exploring Enginee...|(10000,[1022,1420...|(10000,[1022,1420...|\n",
      "| 18|  en|Fairy Tales: Orig...|(10000,[157,307,3...|(10000,[157,307,3...|\n",
      "| 19|  en|First Peoples to ...|(10000,[572,696,8...|(10000,[572,696,8...|\n",
      "| 20|  en| Forums for a Future|(10000,[87,91,177...|(10000,[87,91,177...|\n",
      "| 21|  en|From the Gilded A...|(10000,[148,157,3...|(10000,[148,157,3...|\n",
      "| 22|  en|Fundamentals of S...|(10000,[128,177,4...|(10000,[128,177,4...|\n",
      "| 23|  en|Hybrid Courses: B...|(10000,[91,332,52...|(10000,[91,332,52...|\n",
      "| 24|  en|International Hea...|(10000,[115,128,2...|(10000,[115,128,2...|\n",
      "+---+----+--------------------+--------------------+--------------------+\n",
      "only showing top 20 rows\n",
      "\n"
     ]
    }
   ],
   "source": [
    "r_ = tfidf.select(fsql.col(\"id\"),\\\n",
    "                  fsql.col(\"lang\"),\\\n",
    "                  fsql.col(\"name\"),\\\n",
    "                  fsql.col(\"tf\"),\\\n",
    "                  fsql.col(\"idf\")).filter(\"id not in (15516, 22777, 13131, 5660, 965, 877)\")\n",
    "r_.show()"
   ]
  },
  {
   "cell_type": "code",
   "execution_count": 18,
   "metadata": {},
   "outputs": [
    {
     "name": "stdout",
     "output_type": "stream",
     "text": [
      "+---+----+--------------------+--------------------+--------------------+-----+-----+--------------------+--------------------+--------------------+\n",
      "| id|lang|                name|                  tf|                 idf|  id2|lang2|               name2|                 tf2|                idf2|\n",
      "+---+----+--------------------+--------------------+--------------------+-----+-----+--------------------+--------------------+--------------------+\n",
      "|  4|  en|Accounting Cycle:...|(10000,[36,63,138...|(10000,[36,63,138...|15516|   en|Optimizing Perfor...|(10000,[869,1036,...|(10000,[869,1036,...|\n",
      "|  4|  en|Accounting Cycle:...|(10000,[36,63,138...|(10000,[36,63,138...|22777|   en|Attract High Payi...|(10000,[26,32,56,...|(10000,[26,32,56,...|\n",
      "|  5|  en|American Counter ...|(10000,[32,222,36...|(10000,[32,222,36...|15516|   en|Optimizing Perfor...|(10000,[869,1036,...|(10000,[869,1036,...|\n",
      "|  5|  en|American Counter ...|(10000,[32,222,36...|(10000,[32,222,36...|22777|   en|Attract High Payi...|(10000,[26,32,56,...|(10000,[26,32,56,...|\n",
      "|  7|  en|Becoming a Dynami...|(10000,[493,572,7...|(10000,[493,572,7...|15516|   en|Optimizing Perfor...|(10000,[869,1036,...|(10000,[869,1036,...|\n",
      "|  7|  en|Becoming a Dynami...|(10000,[493,572,7...|(10000,[493,572,7...|22777|   en|Attract High Payi...|(10000,[26,32,56,...|(10000,[26,32,56,...|\n",
      "|  8|  en|           Bioethics|(10000,[32,115,13...|(10000,[32,115,13...|15516|   en|Optimizing Perfor...|(10000,[869,1036,...|(10000,[869,1036,...|\n",
      "|  8|  en|           Bioethics|(10000,[32,115,13...|(10000,[32,115,13...|22777|   en|Attract High Payi...|(10000,[26,32,56,...|(10000,[26,32,56,...|\n",
      "|  9|  en|College Foundatio...|(10000,[56,91,300...|(10000,[56,91,300...|15516|   en|Optimizing Perfor...|(10000,[869,1036,...|(10000,[869,1036,...|\n",
      "|  9|  en|College Foundatio...|(10000,[56,91,300...|(10000,[56,91,300...|22777|   en|Attract High Payi...|(10000,[26,32,56,...|(10000,[26,32,56,...|\n",
      "| 10|  en|Digital Literacies I|(10000,[1045,1263...|(10000,[1045,1263...|15516|   en|Optimizing Perfor...|(10000,[869,1036,...|(10000,[869,1036,...|\n",
      "| 10|  en|Digital Literacies I|(10000,[1045,1263...|(10000,[1045,1263...|22777|   en|Attract High Payi...|(10000,[26,32,56,...|(10000,[26,32,56,...|\n",
      "| 11|  en|Digital Literacie...|(10000,[87,157,57...|(10000,[87,157,57...|15516|   en|Optimizing Perfor...|(10000,[869,1036,...|(10000,[869,1036,...|\n",
      "| 11|  en|Digital Literacie...|(10000,[87,157,57...|(10000,[87,157,57...|22777|   en|Attract High Payi...|(10000,[26,32,56,...|(10000,[26,32,56,...|\n",
      "| 12|  en|Digital Tools for...|(10000,[233,461,8...|(10000,[233,461,8...|15516|   en|Optimizing Perfor...|(10000,[869,1036,...|(10000,[869,1036,...|\n",
      "| 12|  en|Digital Tools for...|(10000,[233,461,8...|(10000,[233,461,8...|22777|   en|Attract High Payi...|(10000,[26,32,56,...|(10000,[26,32,56,...|\n",
      "| 13|  en|Discover Your Val...|(10000,[26,696,10...|(10000,[26,696,10...|15516|   en|Optimizing Perfor...|(10000,[869,1036,...|(10000,[869,1036,...|\n",
      "| 13|  en|Discover Your Val...|(10000,[26,696,10...|(10000,[26,696,10...|22777|   en|Attract High Payi...|(10000,[26,32,56,...|(10000,[26,32,56,...|\n",
      "| 14|  en|Enhancing Patient...|(10000,[63,145,23...|(10000,[63,145,23...|15516|   en|Optimizing Perfor...|(10000,[869,1036,...|(10000,[869,1036,...|\n",
      "| 14|  en|Enhancing Patient...|(10000,[63,145,23...|(10000,[63,145,23...|22777|   en|Attract High Payi...|(10000,[26,32,56,...|(10000,[26,32,56,...|\n",
      "+---+----+--------------------+--------------------+--------------------+-----+-----+--------------------+--------------------+--------------------+\n",
      "only showing top 20 rows\n",
      "\n"
     ]
    }
   ],
   "source": [
    "result_ = r_.join(b_, r_.lang == b_.lang2)\n",
    "\n",
    "result_.show(truncate=True)"
   ]
  },
  {
   "cell_type": "code",
   "execution_count": 19,
   "metadata": {},
   "outputs": [],
   "source": [
    "# UDF для косинуса угла (cosine simularity)\n",
    "import pyspark.sql.functions as f\n",
    "@f.udf(FloatType())\n",
    "def cos_sim(a,b):\n",
    "    return float(a.dot(b) / (a.norm(2) * b.norm(2)))"
   ]
  },
  {
   "cell_type": "code",
   "execution_count": 20,
   "metadata": {},
   "outputs": [],
   "source": [
    "output_ = result_.withColumn(\"cosine_similarity\", cos_sim(result_.idf, result_.idf2)) "
   ]
  },
  {
   "cell_type": "code",
   "execution_count": 21,
   "metadata": {},
   "outputs": [],
   "source": [
    "from pyspark.sql.window import Window\n",
    "\n",
    "output_ = output_.withColumn(\"cosine_similarity\", fsql\n",
    "                             .when(fsql.isnan(fsql.col(\"cosine_similarity\")),0)\n",
    "                             .otherwise(fsql.col(\"cosine_similarity\")))"
   ]
  },
  {
   "cell_type": "code",
   "execution_count": 22,
   "metadata": {},
   "outputs": [],
   "source": [
    "df_ = output_.select(fsql.col(\"id2\").alias(\"course\"),\\\n",
    "                     fsql.col(\"name2\").alias(\"c_name\"),\\\n",
    "                     fsql.col(\"id\").alias(\"recommendation\"),\\\n",
    "                     fsql.col(\"name\").alias(\"r_name\"),\\\n",
    "                     fsql.col(\"cosine_similarity\"),\\\n",
    "                     fsql.row_number().over(Window.partitionBy(fsql.col(\"id2\"))\\\n",
    "                                            .orderBy(fsql.col(\"cosine_similarity\").desc(),\\\n",
    "                                                     fsql.col(\"name\").asc())).alias(\"rn\"))"
   ]
  },
  {
   "cell_type": "code",
   "execution_count": 23,
   "metadata": {},
   "outputs": [
    {
     "name": "stdout",
     "output_type": "stream",
     "text": [
      "+------+----------------------------------------------------------+--------------+------------------------------------------------------------------------------------------------+-----------------+\n",
      "|course|c_name                                                    |recommendation|r_name                                                                                          |cosine_similarity|\n",
      "+------+----------------------------------------------------------+--------------+------------------------------------------------------------------------------------------------+-----------------+\n",
      "|877   |Нейрокомпьютинг и его применения в экономике и бизнесе    |8728          |Лекции по истории философии                                                                     |0.1927709        |\n",
      "|877   |Нейрокомпьютинг и его применения в экономике и бизнесе    |8751          |Введение в аналитику больших массивов данных                                                    |0.18115674       |\n",
      "|877   |Нейрокомпьютинг и его применения в экономике и бизнесе    |8179          |Основы поисковой оптимизации (SEO)                                                              |0.14455609       |\n",
      "|877   |Нейрокомпьютинг и его применения в экономике и бизнесе    |56            |Математическая статистика                                                                       |0.144001         |\n",
      "|877   |Нейрокомпьютинг и его применения в экономике и бизнесе    |17238         |Информационные технологии в управлении предприятием                                             |0.14348677       |\n",
      "|877   |Нейрокомпьютинг и его применения в экономике и бизнесе    |795           |Введение в вычислительную математику                                                            |0.14072901       |\n",
      "|877   |Нейрокомпьютинг и его применения в экономике и бизнесе    |1164          |Основные принципы и концепции программирования на языке VBA в Excel                             |0.12877035       |\n",
      "|877   |Нейрокомпьютинг и его применения в экономике и бизнесе    |12917         |Принципы эффективного управления инвестиционными проектами                                      |0.12799996       |\n",
      "|877   |Нейрокомпьютинг и его применения в экономике и бизнесе    |7173          |Python, структуры данных для начинающих. (основы программирования)                              |0.124104485      |\n",
      "|877   |Нейрокомпьютинг и его применения в экономике и бизнесе    |21899         |Параллельные и распределенные вычисления                                                        |0.11608046       |\n",
      "|965   |Основы работы с Google AdWords                            |1010          |Web-программирование на PHP 5.2                                                                 |0.36481184       |\n",
      "|965   |Основы работы с Google AdWords                            |1270          |Макетирование и верстка в Adobe InDesign                                                        |0.2592505        |\n",
      "|965   |Основы работы с Google AdWords                            |1091          |Элементы линейной алгебры для школьников                                                        |0.2314812        |\n",
      "|965   |Основы работы с Google AdWords                            |1017          |Технология Silverlight 2                                                                        |0.21915811       |\n",
      "|965   |Основы работы с Google AdWords                            |929           |Основы САПР                                                                                     |0.20773499       |\n",
      "|965   |Основы работы с Google AdWords                            |1103          |Математический анализ. Ряды                                                                     |0.20208265       |\n",
      "|965   |Основы работы с Google AdWords                            |1337          |Введение в теорию решения изобретательских задач для программистов                              |0.19672447       |\n",
      "|965   |Основы работы с Google AdWords                            |966           |Основы работы с Google Analytics                                                                |0.19401681       |\n",
      "|965   |Основы работы с Google AdWords                            |20331         |Разработка веб-приложений с использованием ASP.NET MVC Framework                                |0.1778522        |\n",
      "|965   |Основы работы с Google AdWords                            |961           |Разработка веб-приложений с использованием ASP.NET MVC Framework                                |0.1778522        |\n",
      "|5660  |Escritura Emocional: escribir como terapia by Raimon Samso|21055         |Escritura Productiva, escribe y socializa tus sentimientos                                      |0.5868851        |\n",
      "|5660  |Escritura Emocional: escribir como terapia by Raimon Samso|3878          |Aprenda Teoría de Música by Carlos Timana Ortega                                                |0.47743565       |\n",
      "|5660  |Escritura Emocional: escribir como terapia by Raimon Samso|7075          |Cápsulas de End2End Coaching para el Éxito by Esther Roche - Polo                               |0.5186088        |\n",
      "|5660  |Escritura Emocional: escribir como terapia by Raimon Samso|23475         |Entrena Tu Mente Para El Éxito - Udemy                                                          |0.47586262       |\n",
      "|5660  |Escritura Emocional: escribir como terapia by Raimon Samso|11574         |Aprender a escribir a los 4: Método Doman en Preescolar by Elisa Guerra                         |0.52339274       |\n",
      "|5660  |Escritura Emocional: escribir como terapia by Raimon Samso|23302         |Descubre 30 Estrategias Poderosas Para Persuadir Tus Ventas                                     |0.47391593       |\n",
      "|5660  |Escritura Emocional: escribir como terapia by Raimon Samso|21053         |El Poder De Confiar En Uno Mismo - Udemy                                                        |0.49675417       |\n",
      "|5660  |Escritura Emocional: escribir como terapia by Raimon Samso|21578         |Educación para una sociedad del conocimiento                                                    |0.48136407       |\n",
      "|5660  |Escritura Emocional: escribir como terapia by Raimon Samso|12168         |BodySmart:Bye Bya Al Dolor De Espalda by Diosas con Tacones Alina Heels                         |0.5208583        |\n",
      "|5660  |Escritura Emocional: escribir como terapia by Raimon Samso|22680         |Analítica Web para Emprendedores y Pymes - Udemy                                                |0.47905877       |\n",
      "|13131 |Instala Google Analytics Universal con Google Tag Manager |26336         |Bajemos la temperatura - Por qué se debe evitar un planeta 4°C más cálido                       |0.35631415       |\n",
      "|13131 |Instala Google Analytics Universal con Google Tag Manager |26670         |Bajemos la temperatura - Por qué se debe evitar un planeta 4°C más cálido                       |0.35534042       |\n",
      "|13131 |Instala Google Analytics Universal con Google Tag Manager |12694         |Aprende todo sobre el búscador de Google by Jeroen Sangers                                      |0.4076596        |\n",
      "|13131 |Instala Google Analytics Universal con Google Tag Manager |23114         |Cómo estar seguro en Internet - Sin ser un tecnólogo                                            |0.3543209        |\n",
      "|13131 |Instala Google Analytics Universal con Google Tag Manager |7841          |Diseño de páginas web con HTML5 y CSS3 para novatos by Diseñador Web Miguel Ángel Puente Sánchez|0.35675353       |\n",
      "|13131 |Instala Google Analytics Universal con Google Tag Manager |23111         |Cómo Crear un Blog Gratis en Google Blogger - Udemy                                             |0.38016495       |\n",
      "|13131 |Instala Google Analytics Universal con Google Tag Manager |5356          |Crear Aplicaciones Android sin Programar by Francisco M. Sepúlveda Gallego                      |0.3645507        |\n",
      "|13131 |Instala Google Analytics Universal con Google Tag Manager |6864          |Cómo Hacer Una Página Web: Atractiva, Funcional y Rentable by John Dani                         |0.35776573       |\n",
      "|13131 |Instala Google Analytics Universal con Google Tag Manager |20763         |Crea tu Plan de Digital Self Branding y ¡haz que te busquen!                                    |0.34430042       |\n",
      "|13131 |Instala Google Analytics Universal con Google Tag Manager |22680         |Analítica Web para Emprendedores y Pymes - Udemy                                                |0.39566657       |\n",
      "|15516 |Optimizing Performance with After Effects and Premiere Pro|20285         |Migrating from Final Cut Pro 7 to Premiere Pro CC                                               |0.43068027       |\n",
      "|15516 |Optimizing Performance with After Effects and Premiere Pro|4604          |Premiere Pro CS6 Tutorial - Learn Premiere Pro from Scratch                                     |0.39855254       |\n",
      "|15516 |Optimizing Performance with After Effects and Premiere Pro|20963         |Adobe Premiere Pro CC for Final Cut Pro users - Udemy                                           |0.3845296        |\n",
      "|15516 |Optimizing Performance with After Effects and Premiere Pro|18522         |Premiere Pro Guru: Blending Mode Secrets                                                        |0.3612989        |\n",
      "|15516 |Optimizing Performance with After Effects and Premiere Pro|15748         |Photoshop Insider Training: Optimizing Photoshop's Performance                                  |0.3765456        |\n",
      "|15516 |Optimizing Performance with After Effects and Premiere Pro|23652         |Get started with Adobe Premiere Pro CC 2015 - Udemy                                             |0.36898443       |\n",
      "|15516 |Optimizing Performance with After Effects and Premiere Pro|6390          |Adobe Premiere Pro Tutorial - Adobe Premiere Training Online                                    |0.34401262       |\n",
      "|15516 |Optimizing Performance with After Effects and Premiere Pro|15822         |Premiere Pro CS5.5 New Features                                                                 |0.3661319        |\n",
      "|15516 |Optimizing Performance with After Effects and Premiere Pro|15832         |Premiere Pro Guru: Customizing Workspaces                                                       |0.3680138        |\n",
      "|15516 |Optimizing Performance with After Effects and Premiere Pro|18523         |Premiere Pro Guru: Essential Keyboard Shortcuts                                                 |0.43650746       |\n",
      "|22777 |Attract High Paying Clients and Customers With Ease       |18010         |Get More Customers & Clients NOW by Archer Atlas                                                |0.45796832       |\n",
      "|22777 |Attract High Paying Clients and Customers With Ease       |4378          |How to Market Yourself as a Coach or Consultant                                                 |0.45016208       |\n",
      "|22777 |Attract High Paying Clients and Customers With Ease       |16589         |Local Business Money Machine by Kevin Wilke                                                     |0.43812436       |\n",
      "|22777 |Attract High Paying Clients and Customers With Ease       |9845          |Effective Small Business Marketing                                                              |0.37961552       |\n",
      "|22777 |Attract High Paying Clients and Customers With Ease       |19678         |Get Clients - How To Get Coaching Or Consulting Clients by Debbie LaChusa                       |0.42256638       |\n",
      "|22777 |Attract High Paying Clients and Customers With Ease       |6191          |Market Positioning for Freelancers & Small Business Owners by Khuram Malik                      |0.3796066        |\n",
      "|22777 |Attract High Paying Clients and Customers With Ease       |5261          |How to Make Money Online Fast: Learn Ways to Make Money Online                                  |0.36983716       |\n",
      "|22777 |Attract High Paying Clients and Customers With Ease       |9171          |Build Your Business Without Breaking the Bank by Archer Atlas                                   |0.37996238       |\n",
      "|22777 |Attract High Paying Clients and Customers With Ease       |20067         |Clone My Business: How I Made $2050 in My First Month Online by Sean Marshall                   |0.37526566       |\n",
      "|22777 |Attract High Paying Clients and Customers With Ease       |5949          |How to Get Clients Now: Learn to Get Ideal Clients Now                                          |0.37280807       |\n",
      "+------+----------------------------------------------------------+--------------+------------------------------------------------------------------------------------------------+-----------------+\n",
      "\n"
     ]
    }
   ],
   "source": [
    "df0_ = df_.select('course', \\\n",
    "                  'c_name',\\\n",
    "                  'recommendation', \\\n",
    "                  'r_name', 'cosine_similarity').filter('rn <= 10')\\\n",
    ".orderBy('course', ascending=True)\n",
    "\n",
    "df0_.show(60, truncate=False)"
   ]
  },
  {
   "cell_type": "code",
   "execution_count": 24,
   "metadata": {},
   "outputs": [],
   "source": [
    "df1_ = df0_.select('recommendation').filter('course = 15516').orderBy('rn', ascending=True)\n",
    "df2_ = df0_.select('recommendation').filter('course = 22777').orderBy('rn', ascending=True)\n",
    "df3_ = df0_.select('recommendation').filter('course = 13131').orderBy('rn', ascending=True)\n",
    "df4_ = df0_.select('recommendation').filter('course = 5660').orderBy('rn', ascending=True)\n",
    "df5_ = df0_.select('recommendation').filter('course = 965').orderBy('rn', ascending=True)\n",
    "df6_ = df0_.select('recommendation').filter('course = 877').orderBy('rn', ascending=True)"
   ]
  },
  {
   "cell_type": "code",
   "execution_count": 25,
   "metadata": {},
   "outputs": [],
   "source": [
    "df1_ = df1_.select(\"recommendation\").rdd.flatMap(lambda x: x).collect()\n",
    "df2_ = df2_.select(\"recommendation\").rdd.flatMap(lambda x: x).collect()\n",
    "df3_ = df3_.select(\"recommendation\").rdd.flatMap(lambda x: x).collect()\n",
    "df4_ = df4_.select(\"recommendation\").rdd.flatMap(lambda x: x).collect()\n",
    "df5_ = df5_.select(\"recommendation\").rdd.flatMap(lambda x: x).collect()\n",
    "df6_ = df6_.select(\"recommendation\").rdd.flatMap(lambda x: x).collect()"
   ]
  },
  {
   "cell_type": "code",
   "execution_count": 26,
   "metadata": {},
   "outputs": [
    {
     "name": "stdout",
     "output_type": "stream",
     "text": [
      "{'15516': [18523, 20285, 4604, 20963, 15748, 23652, 15832, 15822, 18522, 6390], '22777': [18010, 4378, 16589, 19678, 9171, 9845, 6191, 20067, 5949, 5261], '13131': [12694, 22680, 23111, 5356, 6864, 7841, 26336, 26670, 23114, 20763], '5660': [21055, 11574, 12168, 7075, 21053, 21578, 22680, 3878, 23475, 23302], '965': [1010, 1270, 1091, 1017, 929, 1103, 1337, 966, 961, 20331], '877': [8728, 8751, 8179, 56, 17238, 795, 1164, 12917, 7173, 21899]}\n"
     ]
    }
   ],
   "source": [
    "result_dict_ = {} \n",
    "result_dict_[\"15516\"] = df1_\n",
    "result_dict_[\"22777\"] = df2_\n",
    "result_dict_[\"13131\"] = df3_\n",
    "result_dict_[\"5660\"] = df4_\n",
    "result_dict_[\"965\"] = df5_\n",
    "result_dict_[\"877\"] = df6_\n",
    "\n",
    "  \n",
    "print(result_dict_) "
   ]
  },
  {
   "cell_type": "code",
   "execution_count": null,
   "metadata": {},
   "outputs": [],
   "source": [
    "import json\n",
    "\n",
    "with open('lab07s.json', 'w') as fp:\n",
    "    json.dump(result_dict_, fp)"
   ]
  },
  {
   "cell_type": "code",
   "execution_count": 27,
   "metadata": {},
   "outputs": [
    {
     "name": "stdout",
     "output_type": "stream",
     "text": [
      "+------+--------------------+--------------+--------------------+-----------------+---+\n",
      "|course|              c_name|recommendation|              r_name|cosine_similarity| rn|\n",
      "+------+--------------------+--------------+--------------------+-----------------+---+\n",
      "|   877|Нейрокомпьютинг и...|          8728|Лекции по истории...|        0.1927709|  1|\n",
      "|   877|Нейрокомпьютинг и...|          8751|Введение в аналит...|       0.18115674|  2|\n",
      "|   877|Нейрокомпьютинг и...|          8179|Основы поисковой ...|       0.14455609|  3|\n",
      "|   877|Нейрокомпьютинг и...|            56|Математическая ст...|         0.144001|  4|\n",
      "|   877|Нейрокомпьютинг и...|         17238|Информационные те...|       0.14348677|  5|\n",
      "|   877|Нейрокомпьютинг и...|           795|Введение в вычисл...|       0.14072901|  6|\n",
      "|   877|Нейрокомпьютинг и...|          1164|Основные принципы...|       0.12877035|  7|\n",
      "|   877|Нейрокомпьютинг и...|         12917|Принципы эффектив...|       0.12799996|  8|\n",
      "|   877|Нейрокомпьютинг и...|          7173|Python, структуры...|      0.124104485|  9|\n",
      "|   877|Нейрокомпьютинг и...|         21899|Параллельные и ра...|       0.11608046| 10|\n",
      "|   965|Основы работы с G...|          1010|Web-программирова...|       0.36481184|  1|\n",
      "|   965|Основы работы с G...|          1270|Макетирование и в...|        0.2592505|  2|\n",
      "|   965|Основы работы с G...|          1091|Элементы линейной...|        0.2314812|  3|\n",
      "|   965|Основы работы с G...|          1017|Технология Silver...|       0.21915811|  4|\n",
      "|   965|Основы работы с G...|           929|         Основы САПР|       0.20773499|  5|\n",
      "|   965|Основы работы с G...|          1103|Математический ан...|       0.20208265|  6|\n",
      "|   965|Основы работы с G...|          1337|Введение в теорию...|       0.19672447|  7|\n",
      "|   965|Основы работы с G...|           966|Основы работы с G...|       0.19401681|  8|\n",
      "|   965|Основы работы с G...|         20331|Разработка веб-пр...|        0.1778522|  9|\n",
      "|   965|Основы работы с G...|           961|Разработка веб-пр...|        0.1778522| 10|\n",
      "+------+--------------------+--------------+--------------------+-----------------+---+\n",
      "only showing top 20 rows\n",
      "\n"
     ]
    }
   ],
   "source": [
    "df_.select('course', \\\n",
    "                  'c_name',\\\n",
    "                  'recommendation', \\\n",
    "                  'r_name', 'cosine_similarity', 'rn')\\\n",
    ".filter('course in (22777, 13131, 877, 5660, 15516, 965) and rn <= 10')\\\n",
    ".orderBy('course', 'rn', ascending=True)\\\n",
    ".show()"
   ]
  },
  {
   "cell_type": "code",
   "execution_count": null,
   "metadata": {},
   "outputs": [],
   "source": []
  },
  {
   "cell_type": "code",
   "execution_count": 28,
   "metadata": {},
   "outputs": [],
   "source": [
    "sc.stop()"
   ]
  }
 ],
 "metadata": {
  "kernelspec": {
   "display_name": "Python 3",
   "language": "python",
   "name": "python3"
  },
  "language_info": {
   "codemirror_mode": {
    "name": "ipython",
    "version": 3
   },
   "file_extension": ".py",
   "mimetype": "text/x-python",
   "name": "python",
   "nbconvert_exporter": "python",
   "pygments_lexer": "ipython3",
   "version": "3.6.5"
  },
  "toc": {
   "base_numbering": 1,
   "nav_menu": {},
   "number_sections": true,
   "sideBar": true,
   "skip_h1_title": false,
   "title_cell": "Table of Contents",
   "title_sidebar": "Contents",
   "toc_cell": false,
   "toc_position": {},
   "toc_section_display": true,
   "toc_window_display": false
  }
 },
 "nbformat": 4,
 "nbformat_minor": 2
}
