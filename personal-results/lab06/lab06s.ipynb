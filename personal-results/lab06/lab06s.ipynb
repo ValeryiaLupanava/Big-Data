{
 "cells": [
  {
   "cell_type": "code",
   "execution_count": 1,
   "metadata": {},
   "outputs": [],
   "source": [
    "from IPython.display import IFrame, Image"
   ]
  },
  {
   "cell_type": "code",
   "execution_count": 2,
   "metadata": {},
   "outputs": [],
   "source": [
    "import os\n",
    "import sys\n",
    "os.environ[\"PYSPARK_PYTHON\"]='/opt/anaconda/envs/bd9/bin/python'\n",
    "os.environ[\"SPARK_HOME\"]='/usr/hdp/current/spark2-client'\n",
    "os.environ[\"PYSPARK_SUBMIT_ARGS\"]='--num-executors 3 pyspark-shell'\n",
    "\n",
    "spark_home = os.environ.get('SPARK_HOME', None)\n",
    "\n",
    "sys.path.insert(0, os.path.join(spark_home, 'python'))\n",
    "sys.path.insert(0, os.path.join(spark_home, 'python/lib/py4j-0.10.7-src.zip'))"
   ]
  },
  {
   "cell_type": "code",
   "execution_count": 3,
   "metadata": {},
   "outputs": [],
   "source": [
    "from pyspark import SparkContext, SparkConf\n",
    "\n",
    "conf = SparkConf()\n",
    "conf.set(\"spark.app.name\", \"valeria.lupanova Spark RDD app\") \n",
    "\n",
    "sc = SparkContext(conf=conf)"
   ]
  },
  {
   "cell_type": "code",
   "execution_count": 4,
   "metadata": {},
   "outputs": [
    {
     "data": {
      "text/plain": [
       "[('spark.history.kerberos.keytab', 'none'),\n",
       " ('spark.eventLog.enabled', 'true'),\n",
       " ('spark.submit.pyFiles',\n",
       "  '/data/home/valeria.lupanova/.ivy2/jars/org.apache.spark_spark-sql-kafka-0-10_2.11-2.4.5.jar,/data/home/valeria.lupanova/.ivy2/jars/graphframes_graphframes-0.7.0-spark2.4-s_2.11.jar,/data/home/valeria.lupanova/.ivy2/jars/databricks_spark-sklearn-0.2.3.jar,/data/home/valeria.lupanova/.ivy2/jars/org.apache.kafka_kafka-clients-2.0.0.jar,/data/home/valeria.lupanova/.ivy2/jars/org.spark-project.spark_unused-1.0.0.jar,/data/home/valeria.lupanova/.ivy2/jars/org.lz4_lz4-java-1.4.0.jar,/data/home/valeria.lupanova/.ivy2/jars/org.xerial.snappy_snappy-java-1.1.7.3.jar,/data/home/valeria.lupanova/.ivy2/jars/org.slf4j_slf4j-api-1.7.16.jar'),\n",
       " ('spark.history.ui.port', '18081'),\n",
       " ('spark.driver.extraLibraryPath',\n",
       "  '/usr/hdp/current/hadoop-client/lib/native:/usr/hdp/current/hadoop-client/lib/native/Linux-amd64-64'),\n",
       " ('spark.history.fs.cleaner.interval', '7d'),\n",
       " ('spark.shuffle.io.serverThreads', '128'),\n",
       " ('spark.sql.streaming.streamingQueryListeners', ''),\n",
       " ('spark.executor.extraLibraryPath',\n",
       "  '/usr/hdp/current/hadoop-client/lib/native:/usr/hdp/current/hadoop-client/lib/native/Linux-amd64-64'),\n",
       " ('spark.serializer', 'org.apache.spark.serializer.KryoSerializer'),\n",
       " ('spark.shuffle.file.buffer', '1m'),\n",
       " ('spark.sql.hive.convertMetastoreOrc', 'true'),\n",
       " ('spark.yarn.dist.files', ''),\n",
       " ('spark.sql.autoBroadcastJoinThreshold', '26214400'),\n",
       " ('spark.yarn.dist.pyFiles',\n",
       "  'file:///data/home/valeria.lupanova/.ivy2/jars/org.apache.spark_spark-sql-kafka-0-10_2.11-2.4.5.jar,file:///data/home/valeria.lupanova/.ivy2/jars/graphframes_graphframes-0.7.0-spark2.4-s_2.11.jar,file:///data/home/valeria.lupanova/.ivy2/jars/databricks_spark-sklearn-0.2.3.jar,file:///data/home/valeria.lupanova/.ivy2/jars/org.apache.kafka_kafka-clients-2.0.0.jar,file:///data/home/valeria.lupanova/.ivy2/jars/org.spark-project.spark_unused-1.0.0.jar,file:///data/home/valeria.lupanova/.ivy2/jars/org.lz4_lz4-java-1.4.0.jar,file:///data/home/valeria.lupanova/.ivy2/jars/org.xerial.snappy_snappy-java-1.1.7.3.jar,file:///data/home/valeria.lupanova/.ivy2/jars/org.slf4j_slf4j-api-1.7.16.jar'),\n",
       " ('spark.ui.filters',\n",
       "  'org.apache.hadoop.yarn.server.webproxy.amfilter.AmIpFilter'),\n",
       " ('spark.app.id', 'application_1604852613786_0119'),\n",
       " ('spark.eventLog.dir', 'hdfs:///spark2-history/'),\n",
       " ('spark.sql.catalogImplementation', 'in-memory'),\n",
       " ('spark.yarn.dist.jars',\n",
       "  'file:///data/home/valeria.lupanova/.ivy2/jars/org.apache.spark_spark-sql-kafka-0-10_2.11-2.4.5.jar,file:///data/home/valeria.lupanova/.ivy2/jars/graphframes_graphframes-0.7.0-spark2.4-s_2.11.jar,file:///data/home/valeria.lupanova/.ivy2/jars/databricks_spark-sklearn-0.2.3.jar,file:///data/home/valeria.lupanova/.ivy2/jars/org.apache.kafka_kafka-clients-2.0.0.jar,file:///data/home/valeria.lupanova/.ivy2/jars/org.spark-project.spark_unused-1.0.0.jar,file:///data/home/valeria.lupanova/.ivy2/jars/org.lz4_lz4-java-1.4.0.jar,file:///data/home/valeria.lupanova/.ivy2/jars/org.xerial.snappy_snappy-java-1.1.7.3.jar,file:///data/home/valeria.lupanova/.ivy2/jars/org.slf4j_slf4j-api-1.7.16.jar'),\n",
       " ('spark.executor.memory', '4g'),\n",
       " ('spark.executor.id', 'driver'),\n",
       " ('spark.sql.orc.impl', 'native'),\n",
       " ('spark.app.name', 'valeria.lupanova Spark RDD app'),\n",
       " ('spark.history.fs.logDirectory', 'hdfs:///spark2-history/'),\n",
       " ('spark.ui.proxyBase', '/proxy/application_1604852613786_0119'),\n",
       " ('spark.history.fs.cleaner.maxAge', '90d'),\n",
       " ('spark.extraListeners', ''),\n",
       " ('spark.sql.warehouse.dir', '/apps/spark/warehouse'),\n",
       " ('spark.history.store.path', '/var/lib/spark2/shs_db'),\n",
       " ('spark.executorEnv.PYTHONPATH',\n",
       "  '{{PWD}}/pyspark.zip<CPS>{{PWD}}/py4j-0.10.7-src.zip<CPS>{{PWD}}/org.apache.spark_spark-sql-kafka-0-10_2.11-2.4.5.jar<CPS>{{PWD}}/graphframes_graphframes-0.7.0-spark2.4-s_2.11.jar<CPS>{{PWD}}/databricks_spark-sklearn-0.2.3.jar<CPS>{{PWD}}/org.apache.kafka_kafka-clients-2.0.0.jar<CPS>{{PWD}}/org.spark-project.spark_unused-1.0.0.jar<CPS>{{PWD}}/org.lz4_lz4-java-1.4.0.jar<CPS>{{PWD}}/org.xerial.snappy_snappy-java-1.1.7.3.jar<CPS>{{PWD}}/org.slf4j_slf4j-api-1.7.16.jar'),\n",
       " ('spark.jars.packages',\n",
       "  'org.apache.spark:spark-sql-kafka-0-10_2.11:2.4.5,graphframes:graphframes:0.7.0-spark2.4-s_2.11,databricks:spark-sklearn:0.2.3'),\n",
       " ('spark.executor.instances', '3'),\n",
       " ('spark.sql.execution.arrow.enabled', 'true'),\n",
       " ('spark.driver.memory', '4g'),\n",
       " ('spark.kryoserializer.buffer.max', '512m'),\n",
       " ('spark.driver.port', '34897'),\n",
       " ('spark.sql.statistics.fallBackToHdfs', 'true'),\n",
       " ('spark.yarn.archive', 'hdfs:///tmp/spark-archive.zip'),\n",
       " ('spark.org.apache.hadoop.yarn.server.webproxy.amfilter.AmIpFilter.param.PROXY_URI_BASES',\n",
       "  'http://bd-master.newprolab.com:8088/proxy/application_1604852613786_0119'),\n",
       " ('spark.history.provider',\n",
       "  'org.apache.spark.deploy.history.FsHistoryProvider'),\n",
       " ('spark.serializer.objectStreamReset', '100'),\n",
       " ('spark.yarn.historyServer.address', 'bd-master.newprolab.com:18081'),\n",
       " ('spark.driver.host', 'bd-master.newprolab.com'),\n",
       " ('spark.repl.local.jars',\n",
       "  'file:///data/home/valeria.lupanova/.ivy2/jars/org.apache.spark_spark-sql-kafka-0-10_2.11-2.4.5.jar,file:///data/home/valeria.lupanova/.ivy2/jars/graphframes_graphframes-0.7.0-spark2.4-s_2.11.jar,file:///data/home/valeria.lupanova/.ivy2/jars/databricks_spark-sklearn-0.2.3.jar,file:///data/home/valeria.lupanova/.ivy2/jars/org.apache.kafka_kafka-clients-2.0.0.jar,file:///data/home/valeria.lupanova/.ivy2/jars/org.spark-project.spark_unused-1.0.0.jar,file:///data/home/valeria.lupanova/.ivy2/jars/org.lz4_lz4-java-1.4.0.jar,file:///data/home/valeria.lupanova/.ivy2/jars/org.xerial.snappy_snappy-java-1.1.7.3.jar,file:///data/home/valeria.lupanova/.ivy2/jars/org.slf4j_slf4j-api-1.7.16.jar'),\n",
       " ('spark.submit.deployMode', 'client'),\n",
       " ('spark.driver.extraClassPath', ''),\n",
       " ('spark.sql.hive.metastore.jars',\n",
       "  '/usr/hdp/current/spark2-client/standalone-metastore/*'),\n",
       " ('spark.driver.maxResultSize', '3900m'),\n",
       " ('spark.deploy-mode', 'client'),\n",
       " ('spark.yarn.queue', 'default'),\n",
       " ('spark.port.maxRetries', '50'),\n",
       " ('spark.org.apache.hadoop.yarn.server.webproxy.amfilter.AmIpFilter.param.PROXY_HOSTS',\n",
       "  'bd-master.newprolab.com'),\n",
       " ('spark.history.fs.cleaner.enabled', 'true'),\n",
       " ('spark.sql.queryExecutionListeners', ''),\n",
       " ('spark.yarn.secondary.jars',\n",
       "  'org.apache.spark_spark-sql-kafka-0-10_2.11-2.4.5.jar,graphframes_graphframes-0.7.0-spark2.4-s_2.11.jar,databricks_spark-sklearn-0.2.3.jar,org.apache.kafka_kafka-clients-2.0.0.jar,org.spark-project.spark_unused-1.0.0.jar,org.lz4_lz4-java-1.4.0.jar,org.xerial.snappy_snappy-java-1.1.7.3.jar,org.slf4j_slf4j-api-1.7.16.jar'),\n",
       " ('spark.master', 'yarn'),\n",
       " ('spark.io.compression.lz4.blockSize', '128kb'),\n",
       " ('spark.history.kerberos.principal', 'none'),\n",
       " ('spark.sql.orc.filterPushdown', 'true'),\n",
       " ('spark.rdd.compress', 'True'),\n",
       " ('spark.shuffle.io.backLog', '8192'),\n",
       " ('spark.driver.appUIAddress', 'http://bd-master.newprolab.com:4042'),\n",
       " ('spark.unsafe.sorter.spill.reader.buffer.size', '1m'),\n",
       " ('spark.yarn.isPython', 'true'),\n",
       " ('spark.shuffle.unsafe.file.output.buffer', '5m'),\n",
       " ('spark.executor.cores', '1'),\n",
       " ('spark.executor.extraJavaOptions', '-XX:+UseNUMA'),\n",
       " ('spark.ui.showConsoleProgress', 'true'),\n",
       " ('spark.sql.hive.metastore.version', '3.0')]"
      ]
     },
     "execution_count": 4,
     "metadata": {},
     "output_type": "execute_result"
    }
   ],
   "source": [
    "sc.getConf().getAll()"
   ]
  },
  {
   "cell_type": "code",
   "execution_count": 5,
   "metadata": {},
   "outputs": [],
   "source": [
    "k_ = 50\n",
    "ci_ = [2.576, 0.99]"
   ]
  },
  {
   "cell_type": "code",
   "execution_count": 6,
   "metadata": {},
   "outputs": [
    {
     "name": "stdout",
     "output_type": "stream",
     "text": [
      "Found 23 items\r\n",
      "-rw-r--r--   2 valeria.lupanova valeria.lupanova       6403 2020-11-13 11:21 /user/valeria.lupanova/lab06/ml-100k/README\r\n",
      "-rw-r--r--   2 valeria.lupanova valeria.lupanova        716 2020-11-13 11:21 /user/valeria.lupanova/lab06/ml-100k/allbut.pl\r\n",
      "-rw-r--r--   2 valeria.lupanova valeria.lupanova        643 2020-11-13 11:21 /user/valeria.lupanova/lab06/ml-100k/mku.sh\r\n",
      "-rw-r--r--   2 valeria.lupanova valeria.lupanova    1979173 2020-11-13 11:21 /user/valeria.lupanova/lab06/ml-100k/u.data\r\n",
      "-rw-r--r--   2 valeria.lupanova valeria.lupanova        202 2020-11-13 11:21 /user/valeria.lupanova/lab06/ml-100k/u.genre\r\n",
      "-rw-r--r--   2 valeria.lupanova valeria.lupanova         36 2020-11-13 11:21 /user/valeria.lupanova/lab06/ml-100k/u.info\r\n",
      "-rw-r--r--   2 valeria.lupanova valeria.lupanova     236344 2020-11-13 11:21 /user/valeria.lupanova/lab06/ml-100k/u.item\r\n",
      "-rw-r--r--   2 valeria.lupanova valeria.lupanova        193 2020-11-13 11:21 /user/valeria.lupanova/lab06/ml-100k/u.occupation\r\n",
      "-rw-r--r--   2 valeria.lupanova valeria.lupanova      22628 2020-11-13 11:21 /user/valeria.lupanova/lab06/ml-100k/u.user\r\n",
      "-rw-r--r--   2 valeria.lupanova valeria.lupanova    1586544 2020-11-13 11:21 /user/valeria.lupanova/lab06/ml-100k/u1.base\r\n",
      "-rw-r--r--   2 valeria.lupanova valeria.lupanova     392629 2020-11-13 11:21 /user/valeria.lupanova/lab06/ml-100k/u1.test\r\n",
      "-rw-r--r--   2 valeria.lupanova valeria.lupanova    1583948 2020-11-13 11:21 /user/valeria.lupanova/lab06/ml-100k/u2.base\r\n",
      "-rw-r--r--   2 valeria.lupanova valeria.lupanova     395225 2020-11-13 11:21 /user/valeria.lupanova/lab06/ml-100k/u2.test\r\n",
      "-rw-r--r--   2 valeria.lupanova valeria.lupanova    1582546 2020-11-13 11:21 /user/valeria.lupanova/lab06/ml-100k/u3.base\r\n",
      "-rw-r--r--   2 valeria.lupanova valeria.lupanova     396627 2020-11-13 11:21 /user/valeria.lupanova/lab06/ml-100k/u3.test\r\n",
      "-rw-r--r--   2 valeria.lupanova valeria.lupanova    1581878 2020-11-13 11:21 /user/valeria.lupanova/lab06/ml-100k/u4.base\r\n",
      "-rw-r--r--   2 valeria.lupanova valeria.lupanova     397295 2020-11-13 11:21 /user/valeria.lupanova/lab06/ml-100k/u4.test\r\n",
      "-rw-r--r--   2 valeria.lupanova valeria.lupanova    1581776 2020-11-13 11:21 /user/valeria.lupanova/lab06/ml-100k/u5.base\r\n",
      "-rw-r--r--   2 valeria.lupanova valeria.lupanova     397397 2020-11-13 11:21 /user/valeria.lupanova/lab06/ml-100k/u5.test\r\n",
      "-rw-r--r--   2 valeria.lupanova valeria.lupanova    1792501 2020-11-13 11:21 /user/valeria.lupanova/lab06/ml-100k/ua.base\r\n",
      "-rw-r--r--   2 valeria.lupanova valeria.lupanova     186672 2020-11-13 11:21 /user/valeria.lupanova/lab06/ml-100k/ua.test\r\n",
      "-rw-r--r--   2 valeria.lupanova valeria.lupanova    1792476 2020-11-13 11:21 /user/valeria.lupanova/lab06/ml-100k/ub.base\r\n",
      "-rw-r--r--   2 valeria.lupanova valeria.lupanova     186697 2020-11-13 11:21 /user/valeria.lupanova/lab06/ml-100k/ub.test\r\n"
     ]
    }
   ],
   "source": [
    "!hdfs dfs -ls /user/valeria.lupanova/lab06/ml-100k"
   ]
  },
  {
   "cell_type": "code",
   "execution_count": 7,
   "metadata": {},
   "outputs": [
    {
     "data": {
      "text/plain": [
       "/user/valeria.lupanova/lab06/ml-100k/u.item MapPartitionsRDD[1] at textFile at NativeMethodAccessorImpl.java:0"
      ]
     },
     "execution_count": 7,
     "metadata": {},
     "output_type": "execute_result"
    }
   ],
   "source": [
    "u_item_ = sc.textFile(\"/user/valeria.lupanova/lab06/ml-100k/u.item\")\n",
    "u_item_"
   ]
  },
  {
   "cell_type": "code",
   "execution_count": 8,
   "metadata": {},
   "outputs": [
    {
     "data": {
      "text/plain": [
       "['1|Toy Story (1995)|01-Jan-1995||http://us.imdb.com/M/title-exact?Toy%20Story%20(1995)|0|0|0|1|1|1|0|0|0|0|0|0|0|0|0|0|0|0|0',\n",
       " '2|GoldenEye (1995)|01-Jan-1995||http://us.imdb.com/M/title-exact?GoldenEye%20(1995)|0|1|1|0|0|0|0|0|0|0|0|0|0|0|0|0|1|0|0',\n",
       " '3|Four Rooms (1995)|01-Jan-1995||http://us.imdb.com/M/title-exact?Four%20Rooms%20(1995)|0|0|0|0|0|0|0|0|0|0|0|0|0|0|0|0|1|0|0',\n",
       " '4|Get Shorty (1995)|01-Jan-1995||http://us.imdb.com/M/title-exact?Get%20Shorty%20(1995)|0|1|0|0|0|1|0|0|1|0|0|0|0|0|0|0|0|0|0',\n",
       " '5|Copycat (1995)|01-Jan-1995||http://us.imdb.com/M/title-exact?Copycat%20(1995)|0|0|0|0|0|0|1|0|1|0|0|0|0|0|0|0|1|0|0']"
      ]
     },
     "execution_count": 8,
     "metadata": {},
     "output_type": "execute_result"
    }
   ],
   "source": [
    "u_item_.take(5)"
   ]
  },
  {
   "cell_type": "code",
   "execution_count": 9,
   "metadata": {},
   "outputs": [],
   "source": [
    "u_item_ = u_item_.map(lambda x: x.split(\"|\"))"
   ]
  },
  {
   "cell_type": "code",
   "execution_count": 10,
   "metadata": {},
   "outputs": [
    {
     "data": {
      "text/plain": [
       "[['1',\n",
       "  'Toy Story (1995)',\n",
       "  '01-Jan-1995',\n",
       "  '',\n",
       "  'http://us.imdb.com/M/title-exact?Toy%20Story%20(1995)',\n",
       "  '0',\n",
       "  '0',\n",
       "  '0',\n",
       "  '1',\n",
       "  '1',\n",
       "  '1',\n",
       "  '0',\n",
       "  '0',\n",
       "  '0',\n",
       "  '0',\n",
       "  '0',\n",
       "  '0',\n",
       "  '0',\n",
       "  '0',\n",
       "  '0',\n",
       "  '0',\n",
       "  '0',\n",
       "  '0',\n",
       "  '0'],\n",
       " ['2',\n",
       "  'GoldenEye (1995)',\n",
       "  '01-Jan-1995',\n",
       "  '',\n",
       "  'http://us.imdb.com/M/title-exact?GoldenEye%20(1995)',\n",
       "  '0',\n",
       "  '1',\n",
       "  '1',\n",
       "  '0',\n",
       "  '0',\n",
       "  '0',\n",
       "  '0',\n",
       "  '0',\n",
       "  '0',\n",
       "  '0',\n",
       "  '0',\n",
       "  '0',\n",
       "  '0',\n",
       "  '0',\n",
       "  '0',\n",
       "  '0',\n",
       "  '1',\n",
       "  '0',\n",
       "  '0'],\n",
       " ['3',\n",
       "  'Four Rooms (1995)',\n",
       "  '01-Jan-1995',\n",
       "  '',\n",
       "  'http://us.imdb.com/M/title-exact?Four%20Rooms%20(1995)',\n",
       "  '0',\n",
       "  '0',\n",
       "  '0',\n",
       "  '0',\n",
       "  '0',\n",
       "  '0',\n",
       "  '0',\n",
       "  '0',\n",
       "  '0',\n",
       "  '0',\n",
       "  '0',\n",
       "  '0',\n",
       "  '0',\n",
       "  '0',\n",
       "  '0',\n",
       "  '0',\n",
       "  '1',\n",
       "  '0',\n",
       "  '0'],\n",
       " ['4',\n",
       "  'Get Shorty (1995)',\n",
       "  '01-Jan-1995',\n",
       "  '',\n",
       "  'http://us.imdb.com/M/title-exact?Get%20Shorty%20(1995)',\n",
       "  '0',\n",
       "  '1',\n",
       "  '0',\n",
       "  '0',\n",
       "  '0',\n",
       "  '1',\n",
       "  '0',\n",
       "  '0',\n",
       "  '1',\n",
       "  '0',\n",
       "  '0',\n",
       "  '0',\n",
       "  '0',\n",
       "  '0',\n",
       "  '0',\n",
       "  '0',\n",
       "  '0',\n",
       "  '0',\n",
       "  '0'],\n",
       " ['5',\n",
       "  'Copycat (1995)',\n",
       "  '01-Jan-1995',\n",
       "  '',\n",
       "  'http://us.imdb.com/M/title-exact?Copycat%20(1995)',\n",
       "  '0',\n",
       "  '0',\n",
       "  '0',\n",
       "  '0',\n",
       "  '0',\n",
       "  '0',\n",
       "  '1',\n",
       "  '0',\n",
       "  '1',\n",
       "  '0',\n",
       "  '0',\n",
       "  '0',\n",
       "  '0',\n",
       "  '0',\n",
       "  '0',\n",
       "  '0',\n",
       "  '1',\n",
       "  '0',\n",
       "  '0']]"
      ]
     },
     "execution_count": 10,
     "metadata": {},
     "output_type": "execute_result"
    }
   ],
   "source": [
    "u_item_.take(5)"
   ]
  },
  {
   "cell_type": "code",
   "execution_count": 11,
   "metadata": {},
   "outputs": [
    {
     "data": {
      "text/plain": [
       "/user/valeria.lupanova/lab06/ml-100k/u.data MapPartitionsRDD[5] at textFile at NativeMethodAccessorImpl.java:0"
      ]
     },
     "execution_count": 11,
     "metadata": {},
     "output_type": "execute_result"
    }
   ],
   "source": [
    "u_data_ = sc.textFile(\"/user/valeria.lupanova/lab06/ml-100k/u.data\")\n",
    "u_data_"
   ]
  },
  {
   "cell_type": "code",
   "execution_count": 12,
   "metadata": {},
   "outputs": [
    {
     "data": {
      "text/plain": [
       "['196\\t242\\t3\\t881250949',\n",
       " '186\\t302\\t3\\t891717742',\n",
       " '22\\t377\\t1\\t878887116',\n",
       " '244\\t51\\t2\\t880606923',\n",
       " '166\\t346\\t1\\t886397596']"
      ]
     },
     "execution_count": 12,
     "metadata": {},
     "output_type": "execute_result"
    }
   ],
   "source": [
    "u_data_.take(5)"
   ]
  },
  {
   "cell_type": "code",
   "execution_count": 13,
   "metadata": {},
   "outputs": [],
   "source": [
    "u_data_ = u_data_.map(lambda x: x.split(\"\\t\"))"
   ]
  },
  {
   "cell_type": "code",
   "execution_count": 14,
   "metadata": {},
   "outputs": [
    {
     "data": {
      "text/plain": [
       "[['196', '242', '3', '881250949'],\n",
       " ['186', '302', '3', '891717742'],\n",
       " ['22', '377', '1', '878887116'],\n",
       " ['244', '51', '2', '880606923'],\n",
       " ['166', '346', '1', '886397596']]"
      ]
     },
     "execution_count": 14,
     "metadata": {},
     "output_type": "execute_result"
    }
   ],
   "source": [
    "u_data_.take(5)"
   ]
  },
  {
   "cell_type": "code",
   "execution_count": 15,
   "metadata": {},
   "outputs": [
    {
     "data": {
      "text/plain": [
       "pyspark.rdd.PipelinedRDD"
      ]
     },
     "execution_count": 15,
     "metadata": {},
     "output_type": "execute_result"
    }
   ],
   "source": [
    "type(u_data_)"
   ]
  },
  {
   "cell_type": "code",
   "execution_count": 16,
   "metadata": {},
   "outputs": [
    {
     "data": {
      "text/plain": [
       "True"
      ]
     },
     "execution_count": 16,
     "metadata": {},
     "output_type": "execute_result"
    }
   ],
   "source": [
    "from pyspark.sql import SparkSession\n",
    "spark = SparkSession(sc)\n",
    "hasattr(u_data_, \"toDF\")"
   ]
  },
  {
   "cell_type": "code",
   "execution_count": 17,
   "metadata": {},
   "outputs": [],
   "source": [
    "di = u_item_.map(lambda x : (x[0], x[1]))\\\n",
    "            .toDF((\"ItemID\", \"ItemName\"))"
   ]
  },
  {
   "cell_type": "code",
   "execution_count": 18,
   "metadata": {},
   "outputs": [
    {
     "name": "stdout",
     "output_type": "stream",
     "text": [
      "+------+--------------------+\n",
      "|ItemID|            ItemName|\n",
      "+------+--------------------+\n",
      "|  1300|'Til There Was Yo...|\n",
      "|  1353|        1-900 (1994)|\n",
      "|   225|101 Dalmatians (1...|\n",
      "|   178| 12 Angry Men (1957)|\n",
      "|   330|          187 (1997)|\n",
      "|  1011|2 Days in the Val...|\n",
      "|   141|20,000 Leagues Un...|\n",
      "|   135|2001: A Space Ody...|\n",
      "|   314|3 Ninjas: High No...|\n",
      "|   615|39 Steps, The (1935)|\n",
      "|  1021|        8 1/2 (1963)|\n",
      "|  1664|8 Heads in a Duff...|\n",
      "|  1443|    8 Seconds (1994)|\n",
      "|  1251|A Chef in Love (1...|\n",
      "|  1440|Above the Rim (1994)|\n",
      "|   291|Absolute Power (1...|\n",
      "|   164|   Abyss, The (1989)|\n",
      "|    67|Ace Ventura: Pet ...|\n",
      "|   364|Ace Ventura: When...|\n",
      "|   757|Across the Sea of...|\n",
      "+------+--------------------+\n",
      "only showing top 20 rows\n",
      "\n"
     ]
    }
   ],
   "source": [
    "di.select('ItemID', 'ItemName').orderBy('ItemName', ascending=True).show()"
   ]
  },
  {
   "cell_type": "code",
   "execution_count": 19,
   "metadata": {},
   "outputs": [
    {
     "name": "stdout",
     "output_type": "stream",
     "text": [
      "+------+--------------------+\n",
      "|ItemID|            ItemName|\n",
      "+------+--------------------+\n",
      "|     1|      Toy Story 1995|\n",
      "|     2|      GoldenEye 1995|\n",
      "|     3|     Four Rooms 1995|\n",
      "|     4|     Get Shorty 1995|\n",
      "|     5|        Copycat 1995|\n",
      "|     6|Shanghai Triad Ya...|\n",
      "|     7| Twelve Monkeys 1995|\n",
      "|     8|           Babe 1995|\n",
      "|     9|Dead Man Walking ...|\n",
      "|    10|    Richard III 1995|\n",
      "|    11|    Seven Se7en 1995|\n",
      "|    12|Usual Suspects Th...|\n",
      "|    13|Mighty Aphrodite ...|\n",
      "|    14|     Postino Il 1994|\n",
      "|    15|Mr Hollands Opus ...|\n",
      "|    16|French Twist Gazo...|\n",
      "|    17|From Dusk Till Da...|\n",
      "|    18|White Balloon The...|\n",
      "|    19|  Antonias Line 1995|\n",
      "|    20|Angels and Insect...|\n",
      "+------+--------------------+\n",
      "only showing top 20 rows\n",
      "\n"
     ]
    }
   ],
   "source": [
    "import re \n",
    "from pyspark.sql import functions as fsql\n",
    "\n",
    "\n",
    "di = di.selectExpr(\"ItemID\", \"regexp_replace(ItemName,'[^0-9a-zA-Z ]+','') AS ItemName\")\n",
    "di.show()"
   ]
  },
  {
   "cell_type": "code",
   "execution_count": 20,
   "metadata": {},
   "outputs": [],
   "source": [
    "df = u_data_.map(lambda x : (x[0], x[1], x[2]))\\\n",
    "            .toDF((\"UserID\", \"ItemID\", \"Score\"))"
   ]
  },
  {
   "cell_type": "code",
   "execution_count": 21,
   "metadata": {},
   "outputs": [
    {
     "name": "stdout",
     "output_type": "stream",
     "text": [
      "+------+------+-----+\n",
      "|UserID|ItemID|Score|\n",
      "+------+------+-----+\n",
      "|   196|   242|    3|\n",
      "|   186|   302|    3|\n",
      "|    22|   377|    1|\n",
      "|   244|    51|    2|\n",
      "|   166|   346|    1|\n",
      "|   298|   474|    4|\n",
      "|   115|   265|    2|\n",
      "|   253|   465|    5|\n",
      "|   305|   451|    3|\n",
      "|     6|    86|    3|\n",
      "|    62|   257|    2|\n",
      "|   286|  1014|    5|\n",
      "|   200|   222|    5|\n",
      "|   210|    40|    3|\n",
      "|   224|    29|    3|\n",
      "|   303|   785|    3|\n",
      "|   122|   387|    5|\n",
      "|   194|   274|    2|\n",
      "|   291|  1042|    4|\n",
      "|   234|  1184|    2|\n",
      "+------+------+-----+\n",
      "only showing top 20 rows\n",
      "\n"
     ]
    }
   ],
   "source": [
    "df.show()"
   ]
  },
  {
   "cell_type": "code",
   "execution_count": 22,
   "metadata": {},
   "outputs": [
    {
     "name": "stdout",
     "output_type": "stream",
     "text": [
      "root\n",
      " |-- UserID: string (nullable = true)\n",
      " |-- ItemID: string (nullable = true)\n",
      " |-- Score: string (nullable = true)\n",
      "\n"
     ]
    }
   ],
   "source": [
    "df.printSchema()"
   ]
  },
  {
   "cell_type": "code",
   "execution_count": 23,
   "metadata": {},
   "outputs": [
    {
     "name": "stdout",
     "output_type": "stream",
     "text": [
      "+------+------+--------+\n",
      "|UserID|ItemID|ScoreInt|\n",
      "+------+------+--------+\n",
      "|   196|   242|       3|\n",
      "|   186|   302|       3|\n",
      "|    22|   377|       1|\n",
      "|   244|    51|       2|\n",
      "|   166|   346|       1|\n",
      "|   298|   474|       4|\n",
      "|   115|   265|       2|\n",
      "|   253|   465|       5|\n",
      "|   305|   451|       3|\n",
      "|     6|    86|       3|\n",
      "|    62|   257|       2|\n",
      "|   286|  1014|       5|\n",
      "|   200|   222|       5|\n",
      "|   210|    40|       3|\n",
      "|   224|    29|       3|\n",
      "|   303|   785|       3|\n",
      "|   122|   387|       5|\n",
      "|   194|   274|       2|\n",
      "|   291|  1042|       4|\n",
      "|   234|  1184|       2|\n",
      "+------+------+--------+\n",
      "only showing top 20 rows\n",
      "\n"
     ]
    }
   ],
   "source": [
    "from pyspark.sql.types import IntegerType\n",
    "\n",
    "df = df.withColumn(\"ScoreInt\", df[\"Score\"].cast(IntegerType())).drop(\"Score\")\n",
    "df.show()"
   ]
  },
  {
   "cell_type": "code",
   "execution_count": 24,
   "metadata": {},
   "outputs": [
    {
     "name": "stdout",
     "output_type": "stream",
     "text": [
      "+------+---------+------------+\n",
      "|ItemID|sum_Score|count_ItemID|\n",
      "+------+---------+------------+\n",
      "|   829|       90|          34|\n",
      "|  1436|        5|           2|\n",
      "|   467|      182|          48|\n",
      "|   691|       56|          16|\n",
      "|  1090|       89|          37|\n",
      "|   675|      192|          54|\n",
      "|   296|       20|           6|\n",
      "|  1512|       24|           6|\n",
      "|  1159|       39|          11|\n",
      "|  1572|        1|           1|\n",
      "|   451|      569|         170|\n",
      "|   944|      129|          43|\n",
      "|   125|      868|         244|\n",
      "|   853|       54|          14|\n",
      "|  1394|       17|           7|\n",
      "|  1372|        9|           3|\n",
      "|   800|       75|          26|\n",
      "|  1669|        2|           1|\n",
      "|   919|      364|          96|\n",
      "|   870|       25|           9|\n",
      "+------+---------+------------+\n",
      "only showing top 20 rows\n",
      "\n"
     ]
    }
   ],
   "source": [
    "#1 Количество человек n, поставивших рейтинг фильму \n",
    "\n",
    "df_1_ = df.groupBy(\"ItemID\").agg(fsql.sum(\"ScoreInt\").alias(\"sum_Score\"), \\\n",
    "                               fsql.count(\"UserID\").alias(\"count_ItemID\"))\n",
    "df_1_.show()"
   ]
  },
  {
   "cell_type": "code",
   "execution_count": 25,
   "metadata": {},
   "outputs": [
    {
     "name": "stdout",
     "output_type": "stream",
     "text": [
      "+------+---------+------------+------------------+\n",
      "|ItemID|sum_Score|count_ItemID|      avg_Rating_2|\n",
      "+------+---------+------------+------------------+\n",
      "|   829|       90|          34|2.6470588235294117|\n",
      "|  1436|        5|           2|               2.5|\n",
      "|   467|      182|          48|3.7916666666666665|\n",
      "|   691|       56|          16|               3.5|\n",
      "|  1090|       89|          37|2.4054054054054053|\n",
      "|   675|      192|          54|3.5555555555555554|\n",
      "|   296|       20|           6|3.3333333333333335|\n",
      "|  1512|       24|           6|               4.0|\n",
      "|  1159|       39|          11|3.5454545454545454|\n",
      "|  1572|        1|           1|               1.0|\n",
      "|   451|      569|         170| 3.347058823529412|\n",
      "|   944|      129|          43|               3.0|\n",
      "|   125|      868|         244| 3.557377049180328|\n",
      "|   853|       54|          14| 3.857142857142857|\n",
      "|  1394|       17|           7|2.4285714285714284|\n",
      "|  1372|        9|           3|               3.0|\n",
      "|   800|       75|          26|2.8846153846153846|\n",
      "|  1669|        2|           1|               2.0|\n",
      "|   919|      364|          96|3.7916666666666665|\n",
      "|   870|       25|           9|2.7777777777777777|\n",
      "+------+---------+------------+------------------+\n",
      "only showing top 20 rows\n",
      "\n"
     ]
    }
   ],
   "source": [
    "#2 Средний рейтинг фильма (сумма рейтингов фильма / количество человек, оценивших фильм)\n",
    "\n",
    "df_1_ = df_1_.withColumn(\"avg_Rating_2\", fsql.col(\"sum_Score\")/fsql.col(\"count_ItemID\"))\n",
    "df_1_.show()"
   ]
  },
  {
   "cell_type": "code",
   "execution_count": 26,
   "metadata": {},
   "outputs": [
    {
     "name": "stdout",
     "output_type": "stream",
     "text": [
      "+------+--------------------+\n",
      "|ItemID|count_pos_avg_Rating|\n",
      "+------+--------------------+\n",
      "|   829|                   7|\n",
      "|  1436|                   0|\n",
      "|   467|                  31|\n",
      "|   691|                   9|\n",
      "|  1090|                   6|\n",
      "|   675|                  30|\n",
      "|   296|                   3|\n",
      "|  1512|                   4|\n",
      "|  1159|                   6|\n",
      "|  1572|                   0|\n",
      "|   451|                  87|\n",
      "|   944|                  14|\n",
      "|   125|                 125|\n",
      "|   853|                  11|\n",
      "|  1394|                   3|\n",
      "|  1372|                   2|\n",
      "|   800|                   9|\n",
      "|  1669|                   0|\n",
      "|   919|                  63|\n",
      "|   870|                   1|\n",
      "+------+--------------------+\n",
      "only showing top 20 rows\n",
      "\n"
     ]
    }
   ],
   "source": [
    "#3 Количество человек m, оценивших фильм положительно. Оценки 4 и выше считаются положительными\n",
    "\n",
    "df_2_ = df.groupBy(\"ItemID\").agg(fsql.sum(fsql.when(fsql.col(\"ScoreInt\") >= 4, 1).otherwise(0)).alias(\"count_pos_avg_Rating\"))\n",
    "df_2_.show()"
   ]
  },
  {
   "cell_type": "code",
   "execution_count": 27,
   "metadata": {},
   "outputs": [
    {
     "name": "stdout",
     "output_type": "stream",
     "text": [
      "+--------------------+------+---------+------------+------------------+\n",
      "|count_pos_avg_Rating|ItemID|sum_Score|count_ItemID|      avg_Rating_2|\n",
      "+--------------------+------+---------+------------+------------------+\n",
      "|                   6|  1090|       89|          37|2.4054054054054053|\n",
      "|                   6|  1159|       39|          11|3.5454545454545454|\n",
      "|                   0|  1436|        5|           2|               2.5|\n",
      "|                   4|  1512|       24|           6|               4.0|\n",
      "|                   0|  1572|        1|           1|               1.0|\n",
      "|                   3|   296|       20|           6|3.3333333333333335|\n",
      "|                  31|   467|      182|          48|3.7916666666666665|\n",
      "|                  30|   675|      192|          54|3.5555555555555554|\n",
      "|                   9|   691|       56|          16|               3.5|\n",
      "|                   7|   829|       90|          34|2.6470588235294117|\n",
      "|                 125|   125|      868|         244| 3.557377049180328|\n",
      "|                   2|  1372|        9|           3|               3.0|\n",
      "|                   3|  1394|       17|           7|2.4285714285714284|\n",
      "|                   0|  1669|        2|           1|               2.0|\n",
      "|                  87|   451|      569|         170| 3.347058823529412|\n",
      "|                   9|   800|       75|          26|2.8846153846153846|\n",
      "|                  11|   853|       54|          14| 3.857142857142857|\n",
      "|                  14|   944|      129|          43|               3.0|\n",
      "|                   2|  1241|       16|           6|2.6666666666666665|\n",
      "|                   6|  1265|       58|          19|3.0526315789473686|\n",
      "+--------------------+------+---------+------------+------------------+\n",
      "only showing top 20 rows\n",
      "\n"
     ]
    }
   ],
   "source": [
    "#4 Доля людей, оценивших фильм положительно (пункт 3 / пункт 1 или m / n)\n",
    "\n",
    "df_4_ = df_2_.join(df_1_, df_2_.ItemID == df_1_.ItemID).drop(df_2_.ItemID)\n",
    "df_4_.show()"
   ]
  },
  {
   "cell_type": "code",
   "execution_count": 28,
   "metadata": {},
   "outputs": [
    {
     "name": "stdout",
     "output_type": "stream",
     "text": [
      "+--------------------+------+---------+------------+------------------+-------------------+\n",
      "|count_pos_avg_Rating|ItemID|sum_Score|count_ItemID|      avg_Rating_2|     prt_pos_Rating|\n",
      "+--------------------+------+---------+------------+------------------+-------------------+\n",
      "|                   6|  1090|       89|          37|2.4054054054054053|0.16216216216216217|\n",
      "|                   6|  1159|       39|          11|3.5454545454545454| 0.5454545454545454|\n",
      "|                   0|  1436|        5|           2|               2.5|                0.0|\n",
      "|                   4|  1512|       24|           6|               4.0| 0.6666666666666666|\n",
      "|                   0|  1572|        1|           1|               1.0|                0.0|\n",
      "|                   3|   296|       20|           6|3.3333333333333335|                0.5|\n",
      "|                  31|   467|      182|          48|3.7916666666666665| 0.6458333333333334|\n",
      "|                  30|   675|      192|          54|3.5555555555555554| 0.5555555555555556|\n",
      "|                   9|   691|       56|          16|               3.5|             0.5625|\n",
      "|                   7|   829|       90|          34|2.6470588235294117|0.20588235294117646|\n",
      "|                 125|   125|      868|         244| 3.557377049180328| 0.5122950819672131|\n",
      "|                   2|  1372|        9|           3|               3.0| 0.6666666666666666|\n",
      "|                   3|  1394|       17|           7|2.4285714285714284|0.42857142857142855|\n",
      "|                   0|  1669|        2|           1|               2.0|                0.0|\n",
      "|                  87|   451|      569|         170| 3.347058823529412| 0.5117647058823529|\n",
      "|                   9|   800|       75|          26|2.8846153846153846|0.34615384615384615|\n",
      "|                  11|   853|       54|          14| 3.857142857142857| 0.7857142857142857|\n",
      "|                  14|   944|      129|          43|               3.0|0.32558139534883723|\n",
      "|                   2|  1241|       16|           6|2.6666666666666665| 0.3333333333333333|\n",
      "|                   6|  1265|       58|          19|3.0526315789473686| 0.3157894736842105|\n",
      "+--------------------+------+---------+------------+------------------+-------------------+\n",
      "only showing top 20 rows\n",
      "\n"
     ]
    }
   ],
   "source": [
    "df_4_ = df_4_.withColumn(\"prt_pos_Rating\", fsql.col(\"count_pos_avg_Rating\")/fsql.col(\"count_ItemID\"))\n",
    "df_4_.show()"
   ]
  },
  {
   "cell_type": "code",
   "execution_count": 29,
   "metadata": {},
   "outputs": [
    {
     "data": {
      "text/plain": [
       "3.52986"
      ]
     },
     "execution_count": 29,
     "metadata": {},
     "output_type": "execute_result"
    }
   ],
   "source": [
    "#5 Глобальное среднее по всему датасету. Сумма всех оценок по всем фильмам /Количество всех оценок по всем фильмам\n",
    "\n",
    "mu_ = df_4_.select(fsql.sum(\"sum_Score\")).collect()[0][0]/ \\\n",
    "          df_4_.select(fsql.sum(\"count_ItemID\")).collect()[0][0]\n",
    "mu_"
   ]
  },
  {
   "cell_type": "code",
   "execution_count": 30,
   "metadata": {},
   "outputs": [
    {
     "name": "stdout",
     "output_type": "stream",
     "text": [
      "+------+---------+------------+------------------+------------------+\n",
      "|ItemID|sum_Score|count_ItemID|      avg_Rating_2|      avg_Rating_6|\n",
      "+------+---------+------------+------------------+------------------+\n",
      "|   829|       90|          34|2.6470588235294117| 3.172535714285715|\n",
      "|  1436|        5|           2|               2.5|3.4902500000000005|\n",
      "|   467|      182|          48|3.7916666666666665|3.6580918367346946|\n",
      "|   691|       56|          16|               3.5|3.5226212121212126|\n",
      "|  1090|       89|          37|2.4054054054054053|  3.05164367816092|\n",
      "|   675|      192|          54|3.5555555555555554|3.5432019230769236|\n",
      "|   296|       20|           6|3.3333333333333335| 3.508803571428572|\n",
      "|  1512|       24|           6|               4.0| 3.580232142857143|\n",
      "|  1159|       39|          11|3.5454545454545454|3.5326721311475415|\n",
      "|  1572|        1|           1|               1.0|3.4802549019607847|\n",
      "|   451|      569|         170| 3.347058823529412|3.3886045454545455|\n",
      "|   944|      129|          43|               3.0| 3.284870967741936|\n",
      "|   125|      868|         244| 3.557377049180328|3.5526972789115643|\n",
      "|   853|       54|          14| 3.857142857142857|3.6014531250000004|\n",
      "|  1394|       17|           7|2.4285714285714284|3.3946140350877196|\n",
      "|  1372|        9|           3|               3.0|3.4998679245283024|\n",
      "|   800|       75|          26|2.8846153846153846| 3.309118421052632|\n",
      "|  1669|        2|           1|               2.0|3.4998627450980395|\n",
      "|   919|      364|          96|3.7916666666666665| 3.702006849315069|\n",
      "|   870|       25|           9|2.7777777777777777|3.4151355932203393|\n",
      "+------+---------+------------+------------------+------------------+\n",
      "only showing top 20 rows\n",
      "\n"
     ]
    }
   ],
   "source": [
    "#6 Оценка, поправленная на нехватку данных\n",
    "\n",
    "df_6_ = df_1_.withColumn(\"avg_Rating_6\", (fsql.col(\"sum_Score\")+(k_*mu_))/(fsql.col(\"count_ItemID\")+k_))\n",
    "df_6_.show()"
   ]
  },
  {
   "cell_type": "code",
   "execution_count": 31,
   "metadata": {},
   "outputs": [
    {
     "name": "stdout",
     "output_type": "stream",
     "text": [
      "+--------------------+------+---------+------------+------------------+-------------------+\n",
      "|count_pos_avg_Rating|ItemID|sum_Score|count_ItemID|      avg_Rating_2|     prt_pos_Rating|\n",
      "+--------------------+------+---------+------------+------------------+-------------------+\n",
      "|                   6|  1090|       89|          37|2.4054054054054053|0.16216216216216217|\n",
      "|                   6|  1159|       39|          11|3.5454545454545454| 0.5454545454545454|\n",
      "|                   0|  1436|        5|           2|               2.5|                0.0|\n",
      "|                   4|  1512|       24|           6|               4.0| 0.6666666666666666|\n",
      "|                   0|  1572|        1|           1|               1.0|                0.0|\n",
      "|                   3|   296|       20|           6|3.3333333333333335|                0.5|\n",
      "|                  31|   467|      182|          48|3.7916666666666665| 0.6458333333333334|\n",
      "|                  30|   675|      192|          54|3.5555555555555554| 0.5555555555555556|\n",
      "|                   9|   691|       56|          16|               3.5|             0.5625|\n",
      "|                   7|   829|       90|          34|2.6470588235294117|0.20588235294117646|\n",
      "|                 125|   125|      868|         244| 3.557377049180328| 0.5122950819672131|\n",
      "|                   2|  1372|        9|           3|               3.0| 0.6666666666666666|\n",
      "|                   3|  1394|       17|           7|2.4285714285714284|0.42857142857142855|\n",
      "|                   0|  1669|        2|           1|               2.0|                0.0|\n",
      "|                  87|   451|      569|         170| 3.347058823529412| 0.5117647058823529|\n",
      "|                   9|   800|       75|          26|2.8846153846153846|0.34615384615384615|\n",
      "|                  11|   853|       54|          14| 3.857142857142857| 0.7857142857142857|\n",
      "|                  14|   944|      129|          43|               3.0|0.32558139534883723|\n",
      "|                   2|  1241|       16|           6|2.6666666666666665| 0.3333333333333333|\n",
      "|                   6|  1265|       58|          19|3.0526315789473686| 0.3157894736842105|\n",
      "+--------------------+------+---------+------------+------------------+-------------------+\n",
      "only showing top 20 rows\n",
      "\n"
     ]
    }
   ],
   "source": [
    "#7 Нижнюю и верхнюю границы доверительного \n",
    "# интервала оценки (Wilson score interval)\n",
    "# из лекции с заданным уровнем доверия\n",
    "\n",
    "df_4_.show()"
   ]
  },
  {
   "cell_type": "code",
   "execution_count": 32,
   "metadata": {},
   "outputs": [
    {
     "name": "stdout",
     "output_type": "stream",
     "text": [
      "+--------------------+------+---------+------------+------------------+-------------------+-------------------+\n",
      "|count_pos_avg_Rating|ItemID|sum_Score|count_ItemID|      avg_Rating_2|     prt_pos_Rating|              sqrt_|\n",
      "+--------------------+------+---------+------------+------------------+-------------------+-------------------+\n",
      "|                   6|  1090|       89|          37|2.4054054054054053|0.16216216216216217|0.18002233056404485|\n",
      "|                   6|  1159|       39|          11|3.5454545454545454| 0.5454545454545454| 0.4904539277916316|\n",
      "|                   0|  1436|        5|           2|               2.5|                0.0| 1.6589440000000002|\n",
      "|                   4|  1512|       24|           6|               4.0| 0.6666666666666666| 0.7426693991922602|\n",
      "|                   0|  1572|        1|           1|               1.0|                0.0| 3.3178880000000004|\n",
      "|                   3|   296|       20|           6|3.3333333333333335|                0.5| 0.7630720946816085|\n",
      "|                  31|   467|      182|          48|3.7916666666666665| 0.6458333333333334|0.19078564661556308|\n",
      "|                  30|   675|      192|          54|3.5555555555555554| 0.5555555555555556| 0.1847080836637634|\n",
      "|                   9|   691|       56|          16|               3.5|             0.5625|0.38087455273882503|\n",
      "|                   7|   829|       90|          34|2.6470588235294117|0.20588235294117646|0.20354872516587313|\n",
      "|                 125|   125|      868|         244| 3.557377049180328| 0.5122950819672131|0.08354485373244698|\n",
      "|                   2|  1372|        9|           3|               3.0| 0.6666666666666666| 1.3094626313963325|\n",
      "|                   3|  1394|       17|           7|2.4285714285714284|0.42857142857142855| 0.6758818393975595|\n",
      "|                   0|  1669|        2|           1|               2.0|                0.0| 3.3178880000000004|\n",
      "|                  87|   451|      569|         170| 3.347058823529412| 0.5117647058823529|0.10066779187467335|\n",
      "|                   9|   800|       75|          26|2.8846153846153846|0.34615384615384615| 0.2721201285778528|\n",
      "|                  11|   853|       54|          14| 3.857142857142857| 0.7857142857142857| 0.3687392529083778|\n",
      "|                  14|   944|      129|          43|               3.0|0.32558139534883723|0.19959728499275725|\n",
      "|                   2|  1241|       16|           6|2.6666666666666665| 0.3333333333333333| 0.7426693991922602|\n",
      "|                   6|  1265|       58|          19|3.0526315789473686| 0.3157894736842105| 0.3255082857508888|\n",
      "+--------------------+------+---------+------------+------------------+-------------------+-------------------+\n",
      "only showing top 20 rows\n",
      "\n"
     ]
    }
   ],
   "source": [
    "import math  \n",
    "from scipy.special import ndtri\n",
    "\n",
    "df_7_ = df_4_.withColumn(\"sqrt_\", pow((1/fsql.col(\"count_ItemID\"))*\\\n",
    "                         (fsql.col(\"prt_pos_Rating\")*(1-fsql.col(\"prt_pos_Rating\")))+\\\n",
    "                         ((1/(4*pow(fsql.col(\"count_ItemID\"),2)))*pow(ci_[0],2)),0.5)*ci_[0])\n",
    "\n",
    "df_7_.show()\n"
   ]
  },
  {
   "cell_type": "code",
   "execution_count": 33,
   "metadata": {},
   "outputs": [],
   "source": [
    "df_7_ = df_7_.withColumn(\"WS_interval_up\", fsql.col(\"prt_pos_Rating\")+\\\n",
    "                         (pow(ci_[0],2)*(1/(2*fsql.col(\"count_ItemID\"))))\\\n",
    "                        +fsql.col(\"sqrt_\"))\n",
    "\n",
    "df_7_ = df_7_.withColumn(\"WS_interval_bottom\", fsql.col(\"prt_pos_Rating\")+\\\n",
    "                         (pow(ci_[0],2)*(1/(2*fsql.col(\"count_ItemID\"))))\\\n",
    "                        -fsql.col(\"sqrt_\"))\n",
    "\n",
    "df_7_ = df_7_.withColumn(\"r_WS_\", (1/(1+((1/fsql.col(\"count_ItemID\"))*pow(ci_[0],2)))))\n",
    "\n",
    "df_7_ = df_7_.withColumn(\"r_WS_interval_up\", fsql.col(\"r_WS_\")*fsql.col(\"WS_interval_up\"))\n",
    "\n",
    "df_7_ = df_7_.withColumn(\"r_WS_interval_bottom\", fsql.col(\"r_WS_\")*fsql.col(\"WS_interval_bottom\"))\n",
    "\n",
    "df_t_ = df_7_.select(fsql.col(\"ItemID\"),\\\n",
    "                     fsql.col(\"r_WS_\"),\\\n",
    "                     fsql.col(\"WS_interval_up\"),\\\n",
    "                     fsql.col(\"WS_interval_bottom\"),\\\n",
    "                     fsql.col(\"r_WS_interval_up\"),\\\n",
    "                     fsql.col(\"r_WS_interval_bottom\"))"
   ]
  },
  {
   "cell_type": "code",
   "execution_count": 34,
   "metadata": {},
   "outputs": [
    {
     "name": "stdout",
     "output_type": "stream",
     "text": [
      "+------+-------------------+-------------------+-------------------+------------------+--------------------+\n",
      "|ItemID|              r_WS_|     WS_interval_up| WS_interval_bottom|  r_WS_interval_up|r_WS_interval_bottom|\n",
      "+------+-------------------+-------------------+-------------------+------------------+--------------------+\n",
      "|  1090| 0.8479280854315505|0.43185714137485565|0.07181248024676598|0.3661837990659238|0.060891818885731315|\n",
      "|  1159| 0.6237321227033049| 1.3375346550643588| 0.3566267994810956|0.8342633295925252| 0.22243959065322963|\n",
      "|  1436|0.23159470555975514| 3.3178880000000004|                0.0| 0.768405294440245|                 0.0|\n",
      "|  1512|0.47484222575645535|   1.96231739919226| 0.4769786008077397|0.9317911614730714| 0.22648958044574694|\n",
      "|  1572|0.13096245882540294|  6.635776000000001|                0.0|0.8690375411745972|                 0.0|\n",
      "|   296|0.47484222575645535| 1.8160534280149419| 0.2899092386517248|0.8623388518512557|  0.1376611481487444|\n",
      "|   467| 0.8785452228224964| 0.9057416466155631|  0.524170353384437|0.7957349967454846| 0.46050735991107683|\n",
      "|   675|   0.89056335322566| 0.8017060095896893|0.43228984226216255|0.7139699922013568| 0.38498149149038313|\n",
      "|   691| 0.7068456588367017|  1.150742552738825|0.38899344726117496|0.8133973778421028|   0.274958329512485|\n",
      "|   829| 0.8367011374410568| 0.5070160192835202|0.09991856895177392|0.4242208800353582|  0.0836019802934319|\n",
      "|   125| 0.9735242266451218| 0.6094378373390044| 0.4423481298741104|0.5933024992837298|  0.4306366210436092|\n",
      "|  1372|  0.311339740566821| 3.0820919647296656| 0.4631667019370007|0.9595777127020177| 0.14420220082025592|\n",
      "|  1394| 0.5133554555310971|  1.578437267968988|0.22667358917386904|0.8102993827254802| 0.11636412362722029|\n",
      "|  1669|0.13096245882540294|  6.635776000000001|                0.0|0.8690375411745972|                 0.0|\n",
      "|   451| 0.9624324349785176| 0.6319494859923204| 0.4306139022429737|0.6082086825870116|  0.4144367864713065|\n",
      "|   800| 0.7966717261449521| 0.7458850516547759| 0.2016447944990703|0.5942255316075271| 0.16064470650171847|\n",
      "|   853| 0.6784334158308367| 1.3914455386226634|  0.653967032805908|0.9440031497103519|   0.443673087907269|\n",
      "|   944| 0.8663106224026799| 0.6023388663881062|0.20314429640259163|0.5218125582380049| 0.17598606185408364|\n",
      "|  1241|0.47484222575645535| 1.6289840658589267|0.14364526747440642| 0.773510419554253| 0.06820883852692851|\n",
      "|  1265| 0.7411517404427314| 0.8159234436456256|0.16490687214384803|0.6047230803259823| 0.12222101530037993|\n",
      "+------+-------------------+-------------------+-------------------+------------------+--------------------+\n",
      "only showing top 20 rows\n",
      "\n"
     ]
    }
   ],
   "source": [
    "df_t_.show()"
   ]
  },
  {
   "cell_type": "code",
   "execution_count": 44,
   "metadata": {},
   "outputs": [
    {
     "name": "stdout",
     "output_type": "stream",
     "text": [
      "+------+-----------+--------------------+------------------+------------------+--------------------+\n",
      "|ItemID|top10_rates|         top10_lower|     top10_average|      top10_rating|            ItemName|\n",
      "+------+-----------+--------------------+------------------+------------------+--------------------+\n",
      "|  1090|         37|0.060891818885731315|2.4054054054054053|  3.05164367816092|         Sliver 1993|\n",
      "|  1159|         11| 0.22243959065322963|3.5454545454545454|3.5326721311475415|        Stalker 1979|\n",
      "|  1436|          2|                 0.0|               2.5|3.4902500000000005|       Mr Jones 1993|\n",
      "|  1512|          6| 0.22648958044574694|               4.0| 3.580232142857143|World of Apu The ...|\n",
      "|  1572|          1|                 0.0|               1.0|3.4802549019607847|Wend Kuuni Gods G...|\n",
      "|   296|          6|  0.1376611481487444|3.3333333333333335| 3.508803571428572|    Promesse La 1996|\n",
      "|   467|         48| 0.46050735991107683|3.7916666666666665|3.6580918367346946|   Bronx Tale A 1993|\n",
      "|   675|         54| 0.38498149149038313|3.5555555555555554|3.5432019230769236|Nosferatu Nosfera...|\n",
      "|   691|         16|   0.274958329512485|               3.5|3.5226212121212126|      Dark City 1998|\n",
      "|   829|         34|  0.0836019802934319|2.6470588235294117| 3.172535714285715|           Fled 1996|\n",
      "|   125|        244|  0.4306366210436092| 3.557377049180328|3.5526972789115643|     Phenomenon 1996|\n",
      "|  1372|          3| 0.14420220082025592|               3.0|3.4998679245283024|   Stranger The 1994|\n",
      "|  1394|          7| 0.11636412362722029|2.4285714285714284|3.3946140350877196|Swept from the Se...|\n",
      "|  1669|          1|                 0.0|               2.0|3.4998627450980395|MURDER and murder...|\n",
      "|   451|        170|  0.4144367864713065| 3.347058823529412|3.3886045454545455|         Grease 1978|\n",
      "|   800|         26| 0.16064470650171847|2.8846153846153846| 3.309118421052632|In the Mouth of M...|\n",
      "|   853|         14|   0.443673087907269| 3.857142857142857|3.6014531250000004|      Braindead 1992|\n",
      "|   944|         43| 0.17598606185408364|               3.0| 3.284870967741936|Renaissance Man 1994|\n",
      "|  1241|          6| 0.06820883852692851|2.6666666666666665|3.4373750000000003|        Van The 1996|\n",
      "|  1265|         19| 0.12222101530037993|3.0526315789473686| 3.398449275362319|      Star Maps 1997|\n",
      "+------+-----------+--------------------+------------------+------------------+--------------------+\n",
      "only showing top 20 rows\n",
      "\n"
     ]
    }
   ],
   "source": [
    "df_8_ = df_7_.select(fsql.col(\"ItemID\").alias(\"ItemID\"),\\\n",
    "                     fsql.col(\"count_ItemID\").alias(\"top10_rates\"),\\\n",
    "                     fsql.col(\"r_WS_interval_bottom\").alias(\"top10_lower\"))\n",
    "\n",
    "df_8_ = df_8_.join(df_1_.withColumnRenamed('avg_Rating_2', 'top10_average'), \\\n",
    "                   df_8_.ItemID == df_1_.ItemID).drop(df_1_.ItemID).drop(df_1_.sum_Score).drop(df_1_.count_ItemID)\n",
    "\n",
    "df_8_ = df_8_.join(df_6_.withColumnRenamed('avg_Rating_6', 'top10_rating'), \\\n",
    "                   df_8_.ItemID == df_6_.ItemID).drop(df_6_.ItemID)\\\n",
    "                                                .drop(df_6_.sum_Score)\\\n",
    "                                                .drop(df_6_.count_ItemID)\\\n",
    "                                                .drop(df_6_.avg_Rating_2)\n",
    "\n",
    "df_8_ = df_8_.join(di, df_8_.ItemID == di.ItemID).drop(di.ItemID)\n",
    "\n",
    "df_8_.show()"
   ]
  },
  {
   "cell_type": "code",
   "execution_count": 45,
   "metadata": {},
   "outputs": [
    {
     "name": "stdout",
     "output_type": "stream",
     "text": [
      "+------+--------------------+-----------+\n",
      "|ItemID|            ItemName|top10_rates|\n",
      "+------+--------------------+-----------+\n",
      "|    50|      Star Wars 1977|        583|\n",
      "|   258|        Contact 1997|        509|\n",
      "|   100|          Fargo 1996|        508|\n",
      "|   181|Return of the Jed...|        507|\n",
      "|   294|      Liar Liar 1997|        485|\n",
      "|   286|English Patient T...|        481|\n",
      "|   288|         Scream 1996|        478|\n",
      "|     1|      Toy Story 1995|        452|\n",
      "|   300|  Air Force One 1997|        431|\n",
      "|   121|Independence Day ...|        429|\n",
      "+------+--------------------+-----------+\n",
      "only showing top 10 rows\n",
      "\n"
     ]
    }
   ],
   "source": [
    "df_8_.select('ItemID', 'ItemName', 'top10_rates').orderBy('top10_rates', ascending=False).show(10)"
   ]
  },
  {
   "cell_type": "code",
   "execution_count": 46,
   "metadata": {},
   "outputs": [
    {
     "data": {
      "text/plain": [
       "[50, 258, 100, 181, 294, 286, 288, 1, 300, 121]"
      ]
     },
     "execution_count": 46,
     "metadata": {},
     "output_type": "execute_result"
    }
   ],
   "source": [
    "top10_rates = df_8_.select('ItemID').orderBy('top10_rates', ascending=False)\n",
    "top10_rates_ = [row.ItemID for row in top10_rates.toLocalIterator()]\n",
    "top10_rates_ = top10_rates_[0:10]\n",
    "top10_rates_ = list(map(int, top10_rates_))\n",
    "top10_rates_"
   ]
  },
  {
   "cell_type": "code",
   "execution_count": 47,
   "metadata": {},
   "outputs": [
    {
     "name": "stdout",
     "output_type": "stream",
     "text": [
      "+------+--------------------+------------------+\n",
      "|ItemID|            ItemName|       top10_lower|\n",
      "+------+--------------------+------------------+\n",
      "|    64|Shawshank Redempt...|0.8457526835447277|\n",
      "|   318|Schindlers List 1993|0.8336980984637925|\n",
      "|    98|Silence of the La...|0.8334527970235317|\n",
      "|   479|        Vertigo 1958|0.8332601854479507|\n",
      "|   483|     Casablanca 1942|0.8262807973523965|\n",
      "|    50|      Star Wars 1977|0.8182013061987115|\n",
      "|   603|    Rear Window 1954|0.8161443229080241|\n",
      "|   427|To Kill a Mocking...|0.8134728086457121|\n",
      "|   357|One Flew Over the...| 0.808875556038692|\n",
      "|    12|Usual Suspects Th...|0.8066550869388946|\n",
      "+------+--------------------+------------------+\n",
      "only showing top 10 rows\n",
      "\n"
     ]
    }
   ],
   "source": [
    "df_8_.select('ItemID', 'ItemName', 'top10_lower').orderBy('top10_lower', ascending=False).show(10)"
   ]
  },
  {
   "cell_type": "code",
   "execution_count": 48,
   "metadata": {},
   "outputs": [
    {
     "name": "stdout",
     "output_type": "stream",
     "text": [
      "+------+--------------------+------------------+---+\n",
      "|ItemID|            ItemName|       top10_lower| rn|\n",
      "+------+--------------------+------------------+---+\n",
      "|    64|Shawshank Redempt...|0.8457526835447277|  1|\n",
      "|   318|Schindlers List 1993|0.8336980984637925|  2|\n",
      "|    98|Silence of the La...|0.8334527970235317|  3|\n",
      "|   479|        Vertigo 1958|0.8332601854479507|  4|\n",
      "|   483|     Casablanca 1942|0.8262807973523965|  5|\n",
      "|    50|      Star Wars 1977|0.8182013061987115|  6|\n",
      "|   603|    Rear Window 1954|0.8161443229080241|  7|\n",
      "|   427|To Kill a Mocking...|0.8134728086457121|  8|\n",
      "|   357|One Flew Over the...| 0.808875556038692|  9|\n",
      "|    12|Usual Suspects Th...|0.8066550869388946| 10|\n",
      "|   127|  Godfather The 1972|0.7990899541880941| 11|\n",
      "|   408|  Close Shave A 1995|0.7945044582653329| 12|\n",
      "|   169|Wrong Trousers Th...|0.7939080043840955| 13|\n",
      "|   480|North by Northwes...| 0.780662935509566| 14|\n",
      "|   285|  Secrets  Lies 1996|0.7804152201603161| 15|\n",
      "|   114|Wallace  Gromit T...|0.7801028082741386| 16|\n",
      "|   513|  Third Man The 1949| 0.776258732188847| 17|\n",
      "|   174|Raiders of the Lo...|0.7761810997978023| 18|\n",
      "|   178|   12 Angry Men 1957|0.7759283842951067| 19|\n",
      "|   657|Manchurian Candid...|0.7675252061843256| 20|\n",
      "+------+--------------------+------------------+---+\n",
      "only showing top 20 rows\n",
      "\n"
     ]
    }
   ],
   "source": [
    "from pyspark.sql.window import Window\n",
    "\n",
    "df_9_ = df_8_.select(fsql.col(\"ItemID\").alias(\"ItemID\"),\\\n",
    "                     fsql.col(\"ItemName\").alias(\"ItemName\"),\\\n",
    "                     fsql.col(\"top10_lower\").alias(\"top10_lower\"),\\\n",
    "                     fsql.row_number().over(Window.partitionBy()\\\n",
    "                                            .orderBy(fsql.col(\"top10_lower\").desc(),\\\n",
    "                                                     fsql.col(\"ItemName\").asc())).alias(\"rn\"))\n",
    "df_9_.show()"
   ]
  },
  {
   "cell_type": "code",
   "execution_count": 49,
   "metadata": {},
   "outputs": [
    {
     "name": "stdout",
     "output_type": "stream",
     "text": [
      "+------+------------------+\n",
      "|ItemID|       top10_lower|\n",
      "+------+------------------+\n",
      "|   483|0.8262807973523965|\n",
      "|   357| 0.808875556038692|\n",
      "|   603|0.8161443229080241|\n",
      "|   318|0.8336980984637925|\n",
      "|    64|0.8457526835447277|\n",
      "|    98|0.8334527970235317|\n",
      "|    50|0.8182013061987115|\n",
      "|   427|0.8134728086457121|\n",
      "|    12|0.8066550869388946|\n",
      "|   479|0.8332601854479507|\n",
      "+------+------------------+\n",
      "\n"
     ]
    }
   ],
   "source": [
    "df_9_.select('ItemID', 'top10_lower').filter('rn <= 10').orderBy('ItemName', ascending=True).show()"
   ]
  },
  {
   "cell_type": "code",
   "execution_count": 50,
   "metadata": {},
   "outputs": [
    {
     "data": {
      "text/plain": [
       "[64, 318, 98, 479, 483, 50, 603, 427, 357, 12]"
      ]
     },
     "execution_count": 50,
     "metadata": {},
     "output_type": "execute_result"
    }
   ],
   "source": [
    "top10_lower = df_9_.select('ItemID', 'top10_lower').filter('rn <= 10').orderBy('rn', ascending=True)\n",
    "\n",
    "top10_lower_ = [row.ItemID for row in top10_lower.toLocalIterator()]\n",
    "top10_lower_ = top10_lower_[0:10]\n",
    "top10_lower_ = list(map(int, top10_lower_))\n",
    "top10_lower_  "
   ]
  },
  {
   "cell_type": "code",
   "execution_count": 51,
   "metadata": {},
   "outputs": [
    {
     "name": "stdout",
     "output_type": "stream",
     "text": [
      "+------+--------------------+-----------------+---+\n",
      "|ItemID|            ItemName|    top10_average| rn|\n",
      "+------+--------------------+-----------------+---+\n",
      "|  1536|  Aiqing wansui 1994|              5.0|  1|\n",
      "|  1653|Entertaining Ange...|              5.0|  2|\n",
      "|   814|Great Day in Harl...|              5.0|  3|\n",
      "|  1201|Marlene Dietrich ...|              5.0|  4|\n",
      "|  1189|    Prefontaine 1997|              5.0|  5|\n",
      "|  1467|Saint of Fort Was...|              5.0|  6|\n",
      "|  1500|Santa with Muscle...|              5.0|  7|\n",
      "|  1599|Someone Elses Ame...|              5.0|  8|\n",
      "|  1293|       Star Kid 1997|              5.0|  9|\n",
      "|  1122|They Made Me a Cr...|              5.0| 10|\n",
      "|  1449|Pather Panchali 1955|            4.625| 11|\n",
      "|  1398|           Anna 1996|              4.5| 12|\n",
      "|  1594|        Everest 1998|              4.5| 13|\n",
      "|   119|Maya Lin A Strong...|              4.5| 14|\n",
      "|  1642|Some Mothers Son ...|              4.5| 15|\n",
      "|   408|  Close Shave A 1995|4.491071428571429| 16|\n",
      "|   318|Schindlers List 1993|4.466442953020135| 17|\n",
      "|   169|Wrong Trousers Th...|4.466101694915254| 18|\n",
      "|   483|     Casablanca 1942| 4.45679012345679| 19|\n",
      "|   114|Wallace  Gromit T...|4.447761194029851| 20|\n",
      "+------+--------------------+-----------------+---+\n",
      "only showing top 20 rows\n",
      "\n"
     ]
    }
   ],
   "source": [
    "df_10_ = df_8_.select(fsql.col(\"ItemID\").alias(\"ItemID\"),\\\n",
    "                     fsql.col(\"ItemName\").alias(\"ItemName\"),\\\n",
    "                     fsql.col(\"top10_average\").alias(\"top10_average\"),\\\n",
    "                     fsql.row_number().over(Window.partitionBy()\\\n",
    "                                            .orderBy(fsql.col(\"top10_average\").desc(),\\\n",
    "                                                     fsql.col(\"ItemName\").asc())).alias(\"rn\"))\n",
    "df_10_.show()"
   ]
  },
  {
   "cell_type": "code",
   "execution_count": 52,
   "metadata": {},
   "outputs": [
    {
     "data": {
      "text/plain": [
       "[1536, 1653, 814, 1201, 1189, 1467, 1500, 1599, 1293, 1122]"
      ]
     },
     "execution_count": 52,
     "metadata": {},
     "output_type": "execute_result"
    }
   ],
   "source": [
    "top10_average = df_10_.select('ItemID', 'top10_average').filter('rn <= 10').orderBy('rn', ascending=True)\n",
    "\n",
    "top10_average_ = [row.ItemID for row in top10_average.toLocalIterator()]\n",
    "top10_average_ = top10_average_[0:10]\n",
    "top10_average_ = list(map(int, top10_average_))\n",
    "top10_average_"
   ]
  },
  {
   "cell_type": "code",
   "execution_count": 53,
   "metadata": {},
   "outputs": [
    {
     "name": "stdout",
     "output_type": "stream",
     "text": [
      "+------+--------------------+------------------+---+\n",
      "|ItemID|            ItemName|      top10_rating| rn|\n",
      "+------+--------------------+------------------+---+\n",
      "|   318|Schindlers List 1993| 4.331876436781609|  1|\n",
      "|    64|Shawshank Redempt...| 4.307786786786787|  2|\n",
      "|   483|     Casablanca 1942| 4.298610921501706|  3|\n",
      "|    50|      Star Wars 1977| 4.293037914691943|  4|\n",
      "|    12|Usual Suspects Th...| 4.250766561514196|  5|\n",
      "|   603|    Rear Window 1954| 4.221980694980695|  6|\n",
      "|    98|Silence of the La...| 4.203393181818182|  7|\n",
      "|   127|  Godfather The 1972|4.2019287257019435|  8|\n",
      "|   408|  Close Shave A 1995| 4.194401234567901|  9|\n",
      "|   169|Wrong Trousers Th...| 4.187458333333334| 10|\n",
      "|   174|Raiders of the Lo...| 4.175517021276596| 11|\n",
      "|   357|One Flew Over the...| 4.170359872611464| 12|\n",
      "|   313|        Titanic 1997|         4.1562325| 13|\n",
      "|   427|To Kill a Mocking...| 4.150531598513011| 14|\n",
      "|   134|   Citizen Kane 1941| 4.139084677419355| 15|\n",
      "|   172|Empire Strikes Ba...| 4.123484412470024| 16|\n",
      "|   480|North by Northwes...| 4.120056768558952| 17|\n",
      "|   272|Good Will Hunting...| 4.114891129032258| 18|\n",
      "|   178|   12 Angry Men 1957| 4.111388571428572| 19|\n",
      "|   474|Dr Strangelove or...| 4.104479508196722| 20|\n",
      "+------+--------------------+------------------+---+\n",
      "only showing top 20 rows\n",
      "\n"
     ]
    }
   ],
   "source": [
    "df_11_ = df_8_.select(fsql.col(\"ItemID\").alias(\"ItemID\"),\\\n",
    "                     fsql.col(\"ItemName\").alias(\"ItemName\"),\\\n",
    "                     fsql.col(\"top10_rating\").alias(\"top10_rating\"),\\\n",
    "                     fsql.row_number().over(Window.partitionBy()\\\n",
    "                                            .orderBy(fsql.col(\"top10_rating\").desc(),\\\n",
    "                                                     fsql.col(\"ItemName\").asc())).alias(\"rn\"))\n",
    "df_11_.show()"
   ]
  },
  {
   "cell_type": "code",
   "execution_count": 54,
   "metadata": {},
   "outputs": [
    {
     "data": {
      "text/plain": [
       "[318, 64, 483, 50, 12, 603, 98, 127, 408, 169]"
      ]
     },
     "execution_count": 54,
     "metadata": {},
     "output_type": "execute_result"
    }
   ],
   "source": [
    "top10_rating = df_11_.select('ItemID', 'top10_rating').filter('rn <= 10').orderBy('rn', ascending=True)\n",
    "\n",
    "top10_rating_ = [row.ItemID for row in top10_rating.toLocalIterator()]\n",
    "top10_rating_ = top10_rating_[0:10]\n",
    "top10_rating_ = list(map(int, top10_rating_))\n",
    "top10_rating_"
   ]
  },
  {
   "cell_type": "code",
   "execution_count": 55,
   "metadata": {},
   "outputs": [
    {
     "name": "stdout",
     "output_type": "stream",
     "text": [
      "{'top10_rates': [50, 258, 100, 181, 294, 286, 288, 1, 300, 121], 'top10_average': [1536, 1653, 814, 1201, 1189, 1467, 1500, 1599, 1293, 1122], 'top10_rating': [318, 64, 483, 50, 12, 603, 98, 127, 408, 169], 'top10_lower': [64, 318, 98, 479, 483, 50, 603, 427, 357, 12]}\n"
     ]
    }
   ],
   "source": [
    "result_dict_ = {} \n",
    "result_dict_[\"top10_rates\"] = top10_rates_\n",
    "result_dict_[\"top10_average\"] = top10_average_\n",
    "result_dict_[\"top10_rating\"] = top10_rating_\n",
    "result_dict_[\"top10_lower\"] = top10_lower_\n",
    "  \n",
    "print(result_dict_) "
   ]
  },
  {
   "cell_type": "code",
   "execution_count": 56,
   "metadata": {},
   "outputs": [],
   "source": [
    "import json\n",
    "\n",
    "with open('lab06s.json', 'w') as fp:\n",
    "    json.dump(result_dict_, fp)"
   ]
  },
  {
   "cell_type": "code",
   "execution_count": null,
   "metadata": {},
   "outputs": [],
   "source": []
  }
 ],
 "metadata": {
  "kernelspec": {
   "display_name": "Python 3",
   "language": "python",
   "name": "python3"
  },
  "language_info": {
   "codemirror_mode": {
    "name": "ipython",
    "version": 3
   },
   "file_extension": ".py",
   "mimetype": "text/x-python",
   "name": "python",
   "nbconvert_exporter": "python",
   "pygments_lexer": "ipython3",
   "version": "3.6.5"
  },
  "toc": {
   "base_numbering": 1,
   "nav_menu": {},
   "number_sections": true,
   "sideBar": true,
   "skip_h1_title": false,
   "title_cell": "Table of Contents",
   "title_sidebar": "Contents",
   "toc_cell": false,
   "toc_position": {},
   "toc_section_display": true,
   "toc_window_display": false
  }
 },
 "nbformat": 4,
 "nbformat_minor": 2
}
