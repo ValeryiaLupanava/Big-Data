{
 "cells": [
  {
   "cell_type": "markdown",
   "metadata": {},
   "source": [
    "<img width=\"200px\" align=\"left\" style=\"margin-right:20px\" src=\"https://static.tildacdn.com/tild3038-6565-4361-a462-366365643138/new_logo.png\"> <br /><br /><br /><br /><b>New Professions Lab</b> <br /> Специалист по большим данным"
   ]
  },
  {
   "cell_type": "markdown",
   "metadata": {},
   "source": [
    "# Проект 1"
   ]
  },
  {
   "cell_type": "markdown",
   "metadata": {},
   "source": [
    "# Спрогнозировать пол и возрастную категорию интернет-пользователей по логу посещения сайтов"
   ]
  },
  {
   "cell_type": "markdown",
   "metadata": {},
   "source": [
    "<img width=\"110px\" align=\"left\" src=\"http://data.cluster-lab.com/public-newprolab-com/project01_img0.png?img\">"
   ]
  },
  {
   "cell_type": "markdown",
   "metadata": {},
   "source": [
    "Одна из задач DMP-системы состоит в том, чтобы по разрозненным даннным, таким, как посещения неким пользователем сайтов, классифицировать его и присвоить ему определённую категорию: пол, возраст, интересы и так далее. В дальнейшем составляется портрет, или профиль, пользователя, на основе которого ему более таргетированно показывается реклама в интернете."
   ]
  },
  {
   "cell_type": "markdown",
   "metadata": {},
   "source": [
    "### Задача"
   ]
  },
  {
   "cell_type": "markdown",
   "metadata": {},
   "source": [
    "Используя доступный набор данных о посещении страниц у одной части пользователей, сделать прогноз относительно **пола и возрастной категории** другой части пользователей. Угадывание (hit) - правильное предсказание и пола, и возрастной категории одновременно.\n",
    "\n",
    "Мы не ограничиваем вас в выборе инструментов и методов работы с данными. Используйте любые эвристики, внешние источники, парсинг контента страниц — всё, что поможет вам выполнить задачу. Единственное ограничение — никаких ручных действий. Руками проставлять классы нельзя.\n",
    "\n",
    "Поскольку это ваш проект, который мы наверняка захотите показать другим, уделите его оформлению достаточно времени. Мы рекомендуем сделать весь проект в этом ноутбуке. Снизу, под заданием, вы сможете описать ваше решение.\n",
    "\n",
    "⏰ **Дедлайн: 8 ноября 2020, 23:59**"
   ]
  },
  {
   "cell_type": "code",
   "execution_count": 1,
   "metadata": {},
   "outputs": [],
   "source": [
    "import numpy as np\n",
    "import matplotlib.pyplot as plt\n",
    "import pandas as pd\n",
    "import re\n",
    "import os, sys\n",
    "import json\n",
    "import pickle\n",
    "from urllib.parse import urlparse\n",
    "from urllib.request import urlretrieve, unquote\n",
    "from pandas.io.json import json_normalize\n",
    "import datetime\n",
    "from sklearn import preprocessing"
   ]
  },
  {
   "cell_type": "markdown",
   "metadata": {},
   "source": [
    "### Обработка данных на вход"
   ]
  },
  {
   "cell_type": "code",
   "execution_count": 2,
   "metadata": {},
   "outputs": [],
   "source": [
    "file_path = '/data/share/project01/gender_age_dataset.txt'"
   ]
  },
  {
   "cell_type": "markdown",
   "metadata": {},
   "source": [
    "Файл содержит данные о посещении сайтов ~40 000 пользователей, при этом по некоторым из них (~ 35 000) известны их пол и возрастная категория, а по 5 000 - эта информация не известна. В файле есть 4 поля:\n",
    "* **gender** - пол, принимающий значения `M` (male - мужчина), `F` (female - женщина), `-` (пол неизвестен);\n",
    "* **age** - возраст, представленный в виде диапазона x-y (строковый тип), или `-` (возрастная категория неизвестна);\n",
    "* **uid** - идентификатор пользователя, строковая переменная;\n",
    "* **user_json** - поле json, в котором содержатся записи о посещении сайтов этим пользователем `(url, timestamp)`.\n",
    "\n",
    "Первое, что обычно делают в таких случаях — исследуют имеющийся датасет и разбираются, какие же данные мы получили."
   ]
  },
  {
   "cell_type": "markdown",
   "metadata": {},
   "source": [
    "Загрузим весь датасет в pandas:"
   ]
  },
  {
   "cell_type": "code",
   "execution_count": 3,
   "metadata": {},
   "outputs": [],
   "source": [
    "df = pd.read_csv(file_path, sep='\\t')"
   ]
  },
  {
   "cell_type": "markdown",
   "metadata": {},
   "source": [
    "И теперь попробуем понять, что у нас есть:"
   ]
  },
  {
   "cell_type": "code",
   "execution_count": 4,
   "metadata": {
    "scrolled": true
   },
   "outputs": [
    {
     "data": {
      "text/html": [
       "<div>\n",
       "<style scoped>\n",
       "    .dataframe tbody tr th:only-of-type {\n",
       "        vertical-align: middle;\n",
       "    }\n",
       "\n",
       "    .dataframe tbody tr th {\n",
       "        vertical-align: top;\n",
       "    }\n",
       "\n",
       "    .dataframe thead th {\n",
       "        text-align: right;\n",
       "    }\n",
       "</style>\n",
       "<table border=\"1\" class=\"dataframe\">\n",
       "  <thead>\n",
       "    <tr style=\"text-align: right;\">\n",
       "      <th></th>\n",
       "      <th>gender</th>\n",
       "      <th>age</th>\n",
       "      <th>uid</th>\n",
       "      <th>user_json</th>\n",
       "    </tr>\n",
       "  </thead>\n",
       "  <tbody>\n",
       "    <tr>\n",
       "      <th>0</th>\n",
       "      <td>F</td>\n",
       "      <td>18-24</td>\n",
       "      <td>d50192e5-c44e-4ae8-ae7a-7cfe67c8b777</td>\n",
       "      <td>{\"visits\": [{\"url\": \"http://zebra-zoya.ru/2000...</td>\n",
       "    </tr>\n",
       "    <tr>\n",
       "      <th>1</th>\n",
       "      <td>M</td>\n",
       "      <td>25-34</td>\n",
       "      <td>d502331d-621e-4721-ada2-5d30b2c3801f</td>\n",
       "      <td>{\"visits\": [{\"url\": \"http://sweetrading.ru/?p=...</td>\n",
       "    </tr>\n",
       "    <tr>\n",
       "      <th>2</th>\n",
       "      <td>F</td>\n",
       "      <td>25-34</td>\n",
       "      <td>d50237ea-747e-48a2-ba46-d08e71dddfdb</td>\n",
       "      <td>{\"visits\": [{\"url\": \"http://ru.oriflame.com/pr...</td>\n",
       "    </tr>\n",
       "    <tr>\n",
       "      <th>3</th>\n",
       "      <td>F</td>\n",
       "      <td>25-34</td>\n",
       "      <td>d502f29f-d57a-46bf-8703-1cb5f8dcdf03</td>\n",
       "      <td>{\"visits\": [{\"url\": \"http://translate-tattoo.r...</td>\n",
       "    </tr>\n",
       "    <tr>\n",
       "      <th>4</th>\n",
       "      <td>M</td>\n",
       "      <td>&gt;=55</td>\n",
       "      <td>d503c3b2-a0c2-4f47-bb27-065058c73008</td>\n",
       "      <td>{\"visits\": [{\"url\": \"https://mail.rambler.ru/#...</td>\n",
       "    </tr>\n",
       "  </tbody>\n",
       "</table>\n",
       "</div>"
      ],
      "text/plain": [
       "  gender    age                                   uid  \\\n",
       "0      F  18-24  d50192e5-c44e-4ae8-ae7a-7cfe67c8b777   \n",
       "1      M  25-34  d502331d-621e-4721-ada2-5d30b2c3801f   \n",
       "2      F  25-34  d50237ea-747e-48a2-ba46-d08e71dddfdb   \n",
       "3      F  25-34  d502f29f-d57a-46bf-8703-1cb5f8dcdf03   \n",
       "4      M   >=55  d503c3b2-a0c2-4f47-bb27-065058c73008   \n",
       "\n",
       "                                           user_json  \n",
       "0  {\"visits\": [{\"url\": \"http://zebra-zoya.ru/2000...  \n",
       "1  {\"visits\": [{\"url\": \"http://sweetrading.ru/?p=...  \n",
       "2  {\"visits\": [{\"url\": \"http://ru.oriflame.com/pr...  \n",
       "3  {\"visits\": [{\"url\": \"http://translate-tattoo.r...  \n",
       "4  {\"visits\": [{\"url\": \"https://mail.rambler.ru/#...  "
      ]
     },
     "execution_count": 4,
     "metadata": {},
     "output_type": "execute_result"
    }
   ],
   "source": [
    "df.head()"
   ]
  },
  {
   "cell_type": "code",
   "execution_count": 5,
   "metadata": {},
   "outputs": [
    {
     "data": {
      "text/plain": [
       "(41138, 4)"
      ]
     },
     "execution_count": 5,
     "metadata": {},
     "output_type": "execute_result"
    }
   ],
   "source": [
    "df.shape"
   ]
  },
  {
   "cell_type": "markdown",
   "metadata": {},
   "source": [
    "Убираем верхний уровень дикта и получаем листы диктов в строках"
   ]
  },
  {
   "cell_type": "code",
   "execution_count": 6,
   "metadata": {},
   "outputs": [
    {
     "data": {
      "text/plain": [
       "(41138, 4)"
      ]
     },
     "execution_count": 6,
     "metadata": {},
     "output_type": "execute_result"
    }
   ],
   "source": [
    "df['user_json'] = json_normalize(df['user_json'].apply(json.loads))\n",
    "df.shape"
   ]
  },
  {
   "cell_type": "code",
   "execution_count": 7,
   "metadata": {},
   "outputs": [
    {
     "data": {
      "text/html": [
       "<div>\n",
       "<style scoped>\n",
       "    .dataframe tbody tr th:only-of-type {\n",
       "        vertical-align: middle;\n",
       "    }\n",
       "\n",
       "    .dataframe tbody tr th {\n",
       "        vertical-align: top;\n",
       "    }\n",
       "\n",
       "    .dataframe thead th {\n",
       "        text-align: right;\n",
       "    }\n",
       "</style>\n",
       "<table border=\"1\" class=\"dataframe\">\n",
       "  <thead>\n",
       "    <tr style=\"text-align: right;\">\n",
       "      <th></th>\n",
       "      <th>gender</th>\n",
       "      <th>age</th>\n",
       "      <th>uid</th>\n",
       "      <th>user_json</th>\n",
       "    </tr>\n",
       "  </thead>\n",
       "  <tbody>\n",
       "    <tr>\n",
       "      <th>0</th>\n",
       "      <td>F</td>\n",
       "      <td>18-24</td>\n",
       "      <td>d50192e5-c44e-4ae8-ae7a-7cfe67c8b777</td>\n",
       "      <td>[{'url': 'http://zebra-zoya.ru/200028-chehol-o...</td>\n",
       "    </tr>\n",
       "    <tr>\n",
       "      <th>1</th>\n",
       "      <td>M</td>\n",
       "      <td>25-34</td>\n",
       "      <td>d502331d-621e-4721-ada2-5d30b2c3801f</td>\n",
       "      <td>[{'url': 'http://sweetrading.ru/?p=900', 'time...</td>\n",
       "    </tr>\n",
       "    <tr>\n",
       "      <th>2</th>\n",
       "      <td>F</td>\n",
       "      <td>25-34</td>\n",
       "      <td>d50237ea-747e-48a2-ba46-d08e71dddfdb</td>\n",
       "      <td>[{'url': 'http://ru.oriflame.com/products/prod...</td>\n",
       "    </tr>\n",
       "    <tr>\n",
       "      <th>3</th>\n",
       "      <td>F</td>\n",
       "      <td>25-34</td>\n",
       "      <td>d502f29f-d57a-46bf-8703-1cb5f8dcdf03</td>\n",
       "      <td>[{'url': 'http://translate-tattoo.ru/font-sele...</td>\n",
       "    </tr>\n",
       "    <tr>\n",
       "      <th>4</th>\n",
       "      <td>M</td>\n",
       "      <td>&gt;=55</td>\n",
       "      <td>d503c3b2-a0c2-4f47-bb27-065058c73008</td>\n",
       "      <td>[{'url': 'https://mail.rambler.ru/#/folder/', ...</td>\n",
       "    </tr>\n",
       "  </tbody>\n",
       "</table>\n",
       "</div>"
      ],
      "text/plain": [
       "  gender    age                                   uid  \\\n",
       "0      F  18-24  d50192e5-c44e-4ae8-ae7a-7cfe67c8b777   \n",
       "1      M  25-34  d502331d-621e-4721-ada2-5d30b2c3801f   \n",
       "2      F  25-34  d50237ea-747e-48a2-ba46-d08e71dddfdb   \n",
       "3      F  25-34  d502f29f-d57a-46bf-8703-1cb5f8dcdf03   \n",
       "4      M   >=55  d503c3b2-a0c2-4f47-bb27-065058c73008   \n",
       "\n",
       "                                           user_json  \n",
       "0  [{'url': 'http://zebra-zoya.ru/200028-chehol-o...  \n",
       "1  [{'url': 'http://sweetrading.ru/?p=900', 'time...  \n",
       "2  [{'url': 'http://ru.oriflame.com/products/prod...  \n",
       "3  [{'url': 'http://translate-tattoo.ru/font-sele...  \n",
       "4  [{'url': 'https://mail.rambler.ru/#/folder/', ...  "
      ]
     },
     "execution_count": 7,
     "metadata": {},
     "output_type": "execute_result"
    }
   ],
   "source": [
    "df.head()"
   ]
  },
  {
   "cell_type": "markdown",
   "metadata": {},
   "source": [
    "Конвертируем датасет в дикт построчно"
   ]
  },
  {
   "cell_type": "code",
   "execution_count": 8,
   "metadata": {},
   "outputs": [],
   "source": [
    "df2_dict = df.to_dict('records')"
   ]
  },
  {
   "cell_type": "markdown",
   "metadata": {},
   "source": [
    "Разбиваем дикт на два столбца"
   ]
  },
  {
   "cell_type": "code",
   "execution_count": 9,
   "metadata": {},
   "outputs": [],
   "source": [
    "df2_norm = pd.DataFrame(json_normalize(df2_dict, 'user_json', ['gender', 'age', 'uid']),columns=['gender', 'age', 'uid','timestamp','url'])"
   ]
  },
  {
   "cell_type": "code",
   "execution_count": 10,
   "metadata": {},
   "outputs": [
    {
     "data": {
      "text/plain": [
       "(5829507, 5)"
      ]
     },
     "execution_count": 10,
     "metadata": {},
     "output_type": "execute_result"
    }
   ],
   "source": [
    "df2_norm.shape"
   ]
  },
  {
   "cell_type": "code",
   "execution_count": 11,
   "metadata": {},
   "outputs": [
    {
     "data": {
      "text/html": [
       "<div>\n",
       "<style scoped>\n",
       "    .dataframe tbody tr th:only-of-type {\n",
       "        vertical-align: middle;\n",
       "    }\n",
       "\n",
       "    .dataframe tbody tr th {\n",
       "        vertical-align: top;\n",
       "    }\n",
       "\n",
       "    .dataframe thead th {\n",
       "        text-align: right;\n",
       "    }\n",
       "</style>\n",
       "<table border=\"1\" class=\"dataframe\">\n",
       "  <thead>\n",
       "    <tr style=\"text-align: right;\">\n",
       "      <th></th>\n",
       "      <th>gender</th>\n",
       "      <th>age</th>\n",
       "      <th>uid</th>\n",
       "      <th>timestamp</th>\n",
       "      <th>url</th>\n",
       "    </tr>\n",
       "  </thead>\n",
       "  <tbody>\n",
       "    <tr>\n",
       "      <th>0</th>\n",
       "      <td>F</td>\n",
       "      <td>18-24</td>\n",
       "      <td>d50192e5-c44e-4ae8-ae7a-7cfe67c8b777</td>\n",
       "      <td>1419688144068</td>\n",
       "      <td>http://zebra-zoya.ru/200028-chehol-organayzer-...</td>\n",
       "    </tr>\n",
       "    <tr>\n",
       "      <th>1</th>\n",
       "      <td>F</td>\n",
       "      <td>18-24</td>\n",
       "      <td>d50192e5-c44e-4ae8-ae7a-7cfe67c8b777</td>\n",
       "      <td>1426666298001</td>\n",
       "      <td>http://news.yandex.ru/yandsearch?cl4url=chezas...</td>\n",
       "    </tr>\n",
       "    <tr>\n",
       "      <th>2</th>\n",
       "      <td>F</td>\n",
       "      <td>18-24</td>\n",
       "      <td>d50192e5-c44e-4ae8-ae7a-7cfe67c8b777</td>\n",
       "      <td>1426666298000</td>\n",
       "      <td>http://www.sotovik.ru/news/240283-htc-one-m9-z...</td>\n",
       "    </tr>\n",
       "    <tr>\n",
       "      <th>3</th>\n",
       "      <td>F</td>\n",
       "      <td>18-24</td>\n",
       "      <td>d50192e5-c44e-4ae8-ae7a-7cfe67c8b777</td>\n",
       "      <td>1426661722001</td>\n",
       "      <td>http://news.yandex.ru/yandsearch?cl4url=chezas...</td>\n",
       "    </tr>\n",
       "    <tr>\n",
       "      <th>4</th>\n",
       "      <td>F</td>\n",
       "      <td>18-24</td>\n",
       "      <td>d50192e5-c44e-4ae8-ae7a-7cfe67c8b777</td>\n",
       "      <td>1426661722000</td>\n",
       "      <td>http://www.sotovik.ru/news/240283-htc-one-m9-z...</td>\n",
       "    </tr>\n",
       "  </tbody>\n",
       "</table>\n",
       "</div>"
      ],
      "text/plain": [
       "  gender    age                                   uid      timestamp  \\\n",
       "0      F  18-24  d50192e5-c44e-4ae8-ae7a-7cfe67c8b777  1419688144068   \n",
       "1      F  18-24  d50192e5-c44e-4ae8-ae7a-7cfe67c8b777  1426666298001   \n",
       "2      F  18-24  d50192e5-c44e-4ae8-ae7a-7cfe67c8b777  1426666298000   \n",
       "3      F  18-24  d50192e5-c44e-4ae8-ae7a-7cfe67c8b777  1426661722001   \n",
       "4      F  18-24  d50192e5-c44e-4ae8-ae7a-7cfe67c8b777  1426661722000   \n",
       "\n",
       "                                                 url  \n",
       "0  http://zebra-zoya.ru/200028-chehol-organayzer-...  \n",
       "1  http://news.yandex.ru/yandsearch?cl4url=chezas...  \n",
       "2  http://www.sotovik.ru/news/240283-htc-one-m9-z...  \n",
       "3  http://news.yandex.ru/yandsearch?cl4url=chezas...  \n",
       "4  http://www.sotovik.ru/news/240283-htc-one-m9-z...  "
      ]
     },
     "execution_count": 11,
     "metadata": {},
     "output_type": "execute_result"
    }
   ],
   "source": [
    "df2_norm.head()"
   ]
  },
  {
   "cell_type": "markdown",
   "metadata": {},
   "source": [
    "Методом `pandas.DataFrame.apply` (хотя не только им) можно применить операцию десериализации json-строк ко всему датасету. Рекомендуем почитать [документацию по методу apply](http://pandas.pydata.org/pandas-docs/stable/generated/pandas.DataFrame.apply.html).\n",
    "\n",
    "Работая с подобными операциями, обратите внимание на kwargs-аргумент `axis`. Часто, забыв его указать, вы примените операцию не к ряду (строке), а к столбцу, что вряд ли входит в ваши планы."
   ]
  },
  {
   "cell_type": "markdown",
   "metadata": {},
   "source": [
    "### Очистка данных и feature engineering"
   ]
  },
  {
   "cell_type": "markdown",
   "metadata": {},
   "source": [
    "Очистка данных и генерация новых фич составит значительную часть вашей работы. Именно здесь вы и должны продемонстрировать знания и креативность: чем лучше окажутся ваши фичи и чем лучше сможете убрать шум из датасета, тем лучших результатов вы достигнете."
   ]
  },
  {
   "cell_type": "markdown",
   "metadata": {},
   "source": [
    "Одна из первых вещей, которые можно попробовать — это вытащить домены и использовать их в качестве признаков. Можно воспользоваться функцией:"
   ]
  },
  {
   "cell_type": "code",
   "execution_count": 12,
   "metadata": {},
   "outputs": [],
   "source": [
    "def url2domain(url):\n",
    "    url = re.sub('(http(s)*://)+', 'http://', url)\n",
    "    parsed_url = urlparse(unquote(url.strip()))\n",
    "    if parsed_url.scheme not in ['http','https']: return None\n",
    "    netloc = re.search(\"(?:www\\.)?(.*)\", parsed_url.netloc).group(1)\n",
    "    if netloc is not None: return str(netloc.encode('utf8')).strip()\n",
    "    return None"
   ]
  },
  {
   "cell_type": "markdown",
   "metadata": {},
   "source": [
    "Поскольку эта часть и есть ваша работа, мы не станем раскрывать все секреты (хотя несколько советов мы всё же дали, посмотрите ниже в разделе Подсказки)."
   ]
  },
  {
   "cell_type": "markdown",
   "metadata": {},
   "source": [
    "Добавляем новый столбец, состоящий из домейнов"
   ]
  },
  {
   "cell_type": "code",
   "execution_count": 13,
   "metadata": {},
   "outputs": [
    {
     "data": {
      "text/html": [
       "<div>\n",
       "<style scoped>\n",
       "    .dataframe tbody tr th:only-of-type {\n",
       "        vertical-align: middle;\n",
       "    }\n",
       "\n",
       "    .dataframe tbody tr th {\n",
       "        vertical-align: top;\n",
       "    }\n",
       "\n",
       "    .dataframe thead th {\n",
       "        text-align: right;\n",
       "    }\n",
       "</style>\n",
       "<table border=\"1\" class=\"dataframe\">\n",
       "  <thead>\n",
       "    <tr style=\"text-align: right;\">\n",
       "      <th></th>\n",
       "      <th>gender</th>\n",
       "      <th>age</th>\n",
       "      <th>uid</th>\n",
       "      <th>timestamp</th>\n",
       "      <th>domain</th>\n",
       "    </tr>\n",
       "  </thead>\n",
       "  <tbody>\n",
       "    <tr>\n",
       "      <th>0</th>\n",
       "      <td>F</td>\n",
       "      <td>18-24</td>\n",
       "      <td>d50192e5-c44e-4ae8-ae7a-7cfe67c8b777</td>\n",
       "      <td>1419688144068</td>\n",
       "      <td>b'zebra-zoya.ru'</td>\n",
       "    </tr>\n",
       "    <tr>\n",
       "      <th>1</th>\n",
       "      <td>F</td>\n",
       "      <td>18-24</td>\n",
       "      <td>d50192e5-c44e-4ae8-ae7a-7cfe67c8b777</td>\n",
       "      <td>1426666298001</td>\n",
       "      <td>b'news.yandex.ru'</td>\n",
       "    </tr>\n",
       "    <tr>\n",
       "      <th>2</th>\n",
       "      <td>F</td>\n",
       "      <td>18-24</td>\n",
       "      <td>d50192e5-c44e-4ae8-ae7a-7cfe67c8b777</td>\n",
       "      <td>1426666298000</td>\n",
       "      <td>b'sotovik.ru'</td>\n",
       "    </tr>\n",
       "    <tr>\n",
       "      <th>3</th>\n",
       "      <td>F</td>\n",
       "      <td>18-24</td>\n",
       "      <td>d50192e5-c44e-4ae8-ae7a-7cfe67c8b777</td>\n",
       "      <td>1426661722001</td>\n",
       "      <td>b'news.yandex.ru'</td>\n",
       "    </tr>\n",
       "    <tr>\n",
       "      <th>4</th>\n",
       "      <td>F</td>\n",
       "      <td>18-24</td>\n",
       "      <td>d50192e5-c44e-4ae8-ae7a-7cfe67c8b777</td>\n",
       "      <td>1426661722000</td>\n",
       "      <td>b'sotovik.ru'</td>\n",
       "    </tr>\n",
       "  </tbody>\n",
       "</table>\n",
       "</div>"
      ],
      "text/plain": [
       "  gender    age                                   uid      timestamp  \\\n",
       "0      F  18-24  d50192e5-c44e-4ae8-ae7a-7cfe67c8b777  1419688144068   \n",
       "1      F  18-24  d50192e5-c44e-4ae8-ae7a-7cfe67c8b777  1426666298001   \n",
       "2      F  18-24  d50192e5-c44e-4ae8-ae7a-7cfe67c8b777  1426666298000   \n",
       "3      F  18-24  d50192e5-c44e-4ae8-ae7a-7cfe67c8b777  1426661722001   \n",
       "4      F  18-24  d50192e5-c44e-4ae8-ae7a-7cfe67c8b777  1426661722000   \n",
       "\n",
       "              domain  \n",
       "0   b'zebra-zoya.ru'  \n",
       "1  b'news.yandex.ru'  \n",
       "2      b'sotovik.ru'  \n",
       "3  b'news.yandex.ru'  \n",
       "4      b'sotovik.ru'  "
      ]
     },
     "execution_count": 13,
     "metadata": {},
     "output_type": "execute_result"
    }
   ],
   "source": [
    "df2_norm['domain'] = df2_norm['url'].apply(url2domain)\n",
    "df2_norm.drop(labels='url',axis=1, inplace=True)\n",
    "df2_norm.head()"
   ]
  },
  {
   "cell_type": "code",
   "execution_count": 14,
   "metadata": {},
   "outputs": [
    {
     "data": {
      "text/plain": [
       "((5829507,), (4164808,))"
      ]
     },
     "execution_count": 14,
     "metadata": {},
     "output_type": "execute_result"
    }
   ],
   "source": [
    "df2_norm['timestamp'].shape, df2_norm['timestamp'].unique().shape"
   ]
  },
  {
   "cell_type": "code",
   "execution_count": 15,
   "metadata": {},
   "outputs": [
    {
     "data": {
      "text/plain": [
       "((5829507,), (116988,))"
      ]
     },
     "execution_count": 15,
     "metadata": {},
     "output_type": "execute_result"
    }
   ],
   "source": [
    "df2_norm['domain'].shape, df2_norm['domain'].unique().shape"
   ]
  },
  {
   "cell_type": "code",
   "execution_count": 16,
   "metadata": {},
   "outputs": [],
   "source": [
    "def datetime_conv(value):\n",
    "    return datetime.datetime.fromtimestamp(value / 1e3)"
   ]
  },
  {
   "cell_type": "code",
   "execution_count": 17,
   "metadata": {},
   "outputs": [
    {
     "data": {
      "text/html": [
       "<div>\n",
       "<style scoped>\n",
       "    .dataframe tbody tr th:only-of-type {\n",
       "        vertical-align: middle;\n",
       "    }\n",
       "\n",
       "    .dataframe tbody tr th {\n",
       "        vertical-align: top;\n",
       "    }\n",
       "\n",
       "    .dataframe thead th {\n",
       "        text-align: right;\n",
       "    }\n",
       "</style>\n",
       "<table border=\"1\" class=\"dataframe\">\n",
       "  <thead>\n",
       "    <tr style=\"text-align: right;\">\n",
       "      <th></th>\n",
       "      <th>gender</th>\n",
       "      <th>age</th>\n",
       "      <th>uid</th>\n",
       "      <th>domain</th>\n",
       "      <th>datetime</th>\n",
       "    </tr>\n",
       "  </thead>\n",
       "  <tbody>\n",
       "    <tr>\n",
       "      <th>0</th>\n",
       "      <td>F</td>\n",
       "      <td>18-24</td>\n",
       "      <td>d50192e5-c44e-4ae8-ae7a-7cfe67c8b777</td>\n",
       "      <td>b'zebra-zoya.ru'</td>\n",
       "      <td>2014-12-27 16:49:04.068</td>\n",
       "    </tr>\n",
       "    <tr>\n",
       "      <th>1</th>\n",
       "      <td>F</td>\n",
       "      <td>18-24</td>\n",
       "      <td>d50192e5-c44e-4ae8-ae7a-7cfe67c8b777</td>\n",
       "      <td>b'news.yandex.ru'</td>\n",
       "      <td>2015-03-18 11:11:38.001</td>\n",
       "    </tr>\n",
       "    <tr>\n",
       "      <th>2</th>\n",
       "      <td>F</td>\n",
       "      <td>18-24</td>\n",
       "      <td>d50192e5-c44e-4ae8-ae7a-7cfe67c8b777</td>\n",
       "      <td>b'sotovik.ru'</td>\n",
       "      <td>2015-03-18 11:11:38.000</td>\n",
       "    </tr>\n",
       "    <tr>\n",
       "      <th>3</th>\n",
       "      <td>F</td>\n",
       "      <td>18-24</td>\n",
       "      <td>d50192e5-c44e-4ae8-ae7a-7cfe67c8b777</td>\n",
       "      <td>b'news.yandex.ru'</td>\n",
       "      <td>2015-03-18 09:55:22.001</td>\n",
       "    </tr>\n",
       "    <tr>\n",
       "      <th>4</th>\n",
       "      <td>F</td>\n",
       "      <td>18-24</td>\n",
       "      <td>d50192e5-c44e-4ae8-ae7a-7cfe67c8b777</td>\n",
       "      <td>b'sotovik.ru'</td>\n",
       "      <td>2015-03-18 09:55:22.000</td>\n",
       "    </tr>\n",
       "  </tbody>\n",
       "</table>\n",
       "</div>"
      ],
      "text/plain": [
       "  gender    age                                   uid             domain  \\\n",
       "0      F  18-24  d50192e5-c44e-4ae8-ae7a-7cfe67c8b777   b'zebra-zoya.ru'   \n",
       "1      F  18-24  d50192e5-c44e-4ae8-ae7a-7cfe67c8b777  b'news.yandex.ru'   \n",
       "2      F  18-24  d50192e5-c44e-4ae8-ae7a-7cfe67c8b777      b'sotovik.ru'   \n",
       "3      F  18-24  d50192e5-c44e-4ae8-ae7a-7cfe67c8b777  b'news.yandex.ru'   \n",
       "4      F  18-24  d50192e5-c44e-4ae8-ae7a-7cfe67c8b777      b'sotovik.ru'   \n",
       "\n",
       "                 datetime  \n",
       "0 2014-12-27 16:49:04.068  \n",
       "1 2015-03-18 11:11:38.001  \n",
       "2 2015-03-18 11:11:38.000  \n",
       "3 2015-03-18 09:55:22.001  \n",
       "4 2015-03-18 09:55:22.000  "
      ]
     },
     "execution_count": 17,
     "metadata": {},
     "output_type": "execute_result"
    }
   ],
   "source": [
    "df2_norm['datetime'] = df2_norm['timestamp'].apply(datetime_conv)\n",
    "df2_norm['datetime'] = pd.to_datetime(df2_norm['datetime'], format='%Y%m%d%h%')\n",
    "df2_norm.drop(labels='timestamp',axis=1, inplace=True)\n",
    "df2_norm.head()"
   ]
  },
  {
   "cell_type": "code",
   "execution_count": 18,
   "metadata": {},
   "outputs": [
    {
     "data": {
      "text/plain": [
       "array(['18-24', '25-34', '>=55', '45-54', '35-44', '-'], dtype=object)"
      ]
     },
     "execution_count": 18,
     "metadata": {},
     "output_type": "execute_result"
    }
   ],
   "source": [
    "df2_norm['age'].unique()"
   ]
  },
  {
   "cell_type": "code",
   "execution_count": 19,
   "metadata": {},
   "outputs": [
    {
     "data": {
      "text/plain": [
       "array(['F', 'M', '-'], dtype=object)"
      ]
     },
     "execution_count": 19,
     "metadata": {},
     "output_type": "execute_result"
    }
   ],
   "source": [
    "df2_norm['gender'].unique()"
   ]
  },
  {
   "cell_type": "code",
   "execution_count": 20,
   "metadata": {},
   "outputs": [
    {
     "data": {
      "text/html": [
       "<div>\n",
       "<style scoped>\n",
       "    .dataframe tbody tr th:only-of-type {\n",
       "        vertical-align: middle;\n",
       "    }\n",
       "\n",
       "    .dataframe tbody tr th {\n",
       "        vertical-align: top;\n",
       "    }\n",
       "\n",
       "    .dataframe thead th {\n",
       "        text-align: right;\n",
       "    }\n",
       "</style>\n",
       "<table border=\"1\" class=\"dataframe\">\n",
       "  <thead>\n",
       "    <tr style=\"text-align: right;\">\n",
       "      <th></th>\n",
       "      <th>gender</th>\n",
       "      <th>age</th>\n",
       "      <th>uid</th>\n",
       "      <th>domain</th>\n",
       "      <th>datetime</th>\n",
       "    </tr>\n",
       "  </thead>\n",
       "  <tbody>\n",
       "    <tr>\n",
       "      <th>0</th>\n",
       "      <td>F</td>\n",
       "      <td>18-24</td>\n",
       "      <td>d50192e5-c44e-4ae8-ae7a-7cfe67c8b777</td>\n",
       "      <td>b'zebra-zoya.ru'</td>\n",
       "      <td>2014-12-27 16:49:04.068</td>\n",
       "    </tr>\n",
       "    <tr>\n",
       "      <th>1</th>\n",
       "      <td>F</td>\n",
       "      <td>18-24</td>\n",
       "      <td>d50192e5-c44e-4ae8-ae7a-7cfe67c8b777</td>\n",
       "      <td>b'news.yandex.ru'</td>\n",
       "      <td>2015-03-18 11:11:38.001</td>\n",
       "    </tr>\n",
       "    <tr>\n",
       "      <th>2</th>\n",
       "      <td>F</td>\n",
       "      <td>18-24</td>\n",
       "      <td>d50192e5-c44e-4ae8-ae7a-7cfe67c8b777</td>\n",
       "      <td>b'sotovik.ru'</td>\n",
       "      <td>2015-03-18 11:11:38.000</td>\n",
       "    </tr>\n",
       "    <tr>\n",
       "      <th>3</th>\n",
       "      <td>F</td>\n",
       "      <td>18-24</td>\n",
       "      <td>d50192e5-c44e-4ae8-ae7a-7cfe67c8b777</td>\n",
       "      <td>b'news.yandex.ru'</td>\n",
       "      <td>2015-03-18 09:55:22.001</td>\n",
       "    </tr>\n",
       "    <tr>\n",
       "      <th>4</th>\n",
       "      <td>F</td>\n",
       "      <td>18-24</td>\n",
       "      <td>d50192e5-c44e-4ae8-ae7a-7cfe67c8b777</td>\n",
       "      <td>b'sotovik.ru'</td>\n",
       "      <td>2015-03-18 09:55:22.000</td>\n",
       "    </tr>\n",
       "  </tbody>\n",
       "</table>\n",
       "</div>"
      ],
      "text/plain": [
       "  gender    age                                   uid             domain  \\\n",
       "0      F  18-24  d50192e5-c44e-4ae8-ae7a-7cfe67c8b777   b'zebra-zoya.ru'   \n",
       "1      F  18-24  d50192e5-c44e-4ae8-ae7a-7cfe67c8b777  b'news.yandex.ru'   \n",
       "2      F  18-24  d50192e5-c44e-4ae8-ae7a-7cfe67c8b777      b'sotovik.ru'   \n",
       "3      F  18-24  d50192e5-c44e-4ae8-ae7a-7cfe67c8b777  b'news.yandex.ru'   \n",
       "4      F  18-24  d50192e5-c44e-4ae8-ae7a-7cfe67c8b777      b'sotovik.ru'   \n",
       "\n",
       "                 datetime  \n",
       "0 2014-12-27 16:49:04.068  \n",
       "1 2015-03-18 11:11:38.001  \n",
       "2 2015-03-18 11:11:38.000  \n",
       "3 2015-03-18 09:55:22.001  \n",
       "4 2015-03-18 09:55:22.000  "
      ]
     },
     "execution_count": 20,
     "metadata": {},
     "output_type": "execute_result"
    }
   ],
   "source": [
    "df3 = df2_norm\n",
    "df3.head()"
   ]
  },
  {
   "cell_type": "code",
   "execution_count": 21,
   "metadata": {},
   "outputs": [],
   "source": [
    "df3['hour'] = df3['datetime'].dt.hour\n",
    "df3['day'] = df3['datetime'].dt.day\n",
    "df3['month'] = df3['datetime'].dt.month"
   ]
  },
  {
   "cell_type": "code",
   "execution_count": 22,
   "metadata": {},
   "outputs": [
    {
     "data": {
      "text/html": [
       "<div>\n",
       "<style scoped>\n",
       "    .dataframe tbody tr th:only-of-type {\n",
       "        vertical-align: middle;\n",
       "    }\n",
       "\n",
       "    .dataframe tbody tr th {\n",
       "        vertical-align: top;\n",
       "    }\n",
       "\n",
       "    .dataframe thead th {\n",
       "        text-align: right;\n",
       "    }\n",
       "</style>\n",
       "<table border=\"1\" class=\"dataframe\">\n",
       "  <thead>\n",
       "    <tr style=\"text-align: right;\">\n",
       "      <th></th>\n",
       "      <th>gender</th>\n",
       "      <th>age</th>\n",
       "      <th>uid</th>\n",
       "      <th>domain</th>\n",
       "      <th>datetime</th>\n",
       "      <th>hour</th>\n",
       "      <th>day</th>\n",
       "      <th>month</th>\n",
       "      <th>day_part</th>\n",
       "    </tr>\n",
       "  </thead>\n",
       "  <tbody>\n",
       "    <tr>\n",
       "      <th>0</th>\n",
       "      <td>F</td>\n",
       "      <td>18-24</td>\n",
       "      <td>d50192e5-c44e-4ae8-ae7a-7cfe67c8b777</td>\n",
       "      <td>b'zebra-zoya.ru'</td>\n",
       "      <td>2014-12-27 16:49:04.068</td>\n",
       "      <td>16</td>\n",
       "      <td>27</td>\n",
       "      <td>12</td>\n",
       "      <td>Afternoon</td>\n",
       "    </tr>\n",
       "    <tr>\n",
       "      <th>1</th>\n",
       "      <td>F</td>\n",
       "      <td>18-24</td>\n",
       "      <td>d50192e5-c44e-4ae8-ae7a-7cfe67c8b777</td>\n",
       "      <td>b'news.yandex.ru'</td>\n",
       "      <td>2015-03-18 11:11:38.001</td>\n",
       "      <td>11</td>\n",
       "      <td>18</td>\n",
       "      <td>3</td>\n",
       "      <td>Morning</td>\n",
       "    </tr>\n",
       "    <tr>\n",
       "      <th>2</th>\n",
       "      <td>F</td>\n",
       "      <td>18-24</td>\n",
       "      <td>d50192e5-c44e-4ae8-ae7a-7cfe67c8b777</td>\n",
       "      <td>b'sotovik.ru'</td>\n",
       "      <td>2015-03-18 11:11:38.000</td>\n",
       "      <td>11</td>\n",
       "      <td>18</td>\n",
       "      <td>3</td>\n",
       "      <td>Morning</td>\n",
       "    </tr>\n",
       "    <tr>\n",
       "      <th>3</th>\n",
       "      <td>F</td>\n",
       "      <td>18-24</td>\n",
       "      <td>d50192e5-c44e-4ae8-ae7a-7cfe67c8b777</td>\n",
       "      <td>b'news.yandex.ru'</td>\n",
       "      <td>2015-03-18 09:55:22.001</td>\n",
       "      <td>9</td>\n",
       "      <td>18</td>\n",
       "      <td>3</td>\n",
       "      <td>Morning</td>\n",
       "    </tr>\n",
       "    <tr>\n",
       "      <th>4</th>\n",
       "      <td>F</td>\n",
       "      <td>18-24</td>\n",
       "      <td>d50192e5-c44e-4ae8-ae7a-7cfe67c8b777</td>\n",
       "      <td>b'sotovik.ru'</td>\n",
       "      <td>2015-03-18 09:55:22.000</td>\n",
       "      <td>9</td>\n",
       "      <td>18</td>\n",
       "      <td>3</td>\n",
       "      <td>Morning</td>\n",
       "    </tr>\n",
       "  </tbody>\n",
       "</table>\n",
       "</div>"
      ],
      "text/plain": [
       "  gender    age                                   uid             domain  \\\n",
       "0      F  18-24  d50192e5-c44e-4ae8-ae7a-7cfe67c8b777   b'zebra-zoya.ru'   \n",
       "1      F  18-24  d50192e5-c44e-4ae8-ae7a-7cfe67c8b777  b'news.yandex.ru'   \n",
       "2      F  18-24  d50192e5-c44e-4ae8-ae7a-7cfe67c8b777      b'sotovik.ru'   \n",
       "3      F  18-24  d50192e5-c44e-4ae8-ae7a-7cfe67c8b777  b'news.yandex.ru'   \n",
       "4      F  18-24  d50192e5-c44e-4ae8-ae7a-7cfe67c8b777      b'sotovik.ru'   \n",
       "\n",
       "                 datetime  hour  day  month   day_part  \n",
       "0 2014-12-27 16:49:04.068    16   27     12  Afternoon  \n",
       "1 2015-03-18 11:11:38.001    11   18      3    Morning  \n",
       "2 2015-03-18 11:11:38.000    11   18      3    Morning  \n",
       "3 2015-03-18 09:55:22.001     9   18      3    Morning  \n",
       "4 2015-03-18 09:55:22.000     9   18      3    Morning  "
      ]
     },
     "execution_count": 22,
     "metadata": {},
     "output_type": "execute_result"
    }
   ],
   "source": [
    "df3['day_part'] = 'Unknown'\n",
    "df3.loc[df3['hour'].between(6, 12, inclusive=True), 'day_part'] = 'Morning'\n",
    "df3.loc[df3['hour'].between(13, 18, inclusive=True), 'day_part'] = 'Afternoon'\n",
    "df3.loc[df3['hour'].between(19, 24, inclusive=True), 'day_part'] = 'Evening'\n",
    "df3.loc[df3['hour'].between(0, 5, inclusive=True), 'day_part'] = 'Night'\n",
    "df3.head()"
   ]
  },
  {
   "cell_type": "code",
   "execution_count": 23,
   "metadata": {},
   "outputs": [
    {
     "data": {
      "text/html": [
       "<div>\n",
       "<style scoped>\n",
       "    .dataframe tbody tr th:only-of-type {\n",
       "        vertical-align: middle;\n",
       "    }\n",
       "\n",
       "    .dataframe tbody tr th {\n",
       "        vertical-align: top;\n",
       "    }\n",
       "\n",
       "    .dataframe thead th {\n",
       "        text-align: right;\n",
       "    }\n",
       "</style>\n",
       "<table border=\"1\" class=\"dataframe\">\n",
       "  <thead>\n",
       "    <tr style=\"text-align: right;\">\n",
       "      <th></th>\n",
       "      <th>gender</th>\n",
       "      <th>age</th>\n",
       "      <th>uid</th>\n",
       "      <th>domain</th>\n",
       "      <th>datetime</th>\n",
       "      <th>hour</th>\n",
       "      <th>day</th>\n",
       "      <th>month</th>\n",
       "      <th>day_part</th>\n",
       "      <th>season</th>\n",
       "    </tr>\n",
       "  </thead>\n",
       "  <tbody>\n",
       "    <tr>\n",
       "      <th>0</th>\n",
       "      <td>F</td>\n",
       "      <td>18-24</td>\n",
       "      <td>d50192e5-c44e-4ae8-ae7a-7cfe67c8b777</td>\n",
       "      <td>b'zebra-zoya.ru'</td>\n",
       "      <td>2014-12-27 16:49:04.068</td>\n",
       "      <td>16</td>\n",
       "      <td>27</td>\n",
       "      <td>12</td>\n",
       "      <td>Afternoon</td>\n",
       "      <td>Winter</td>\n",
       "    </tr>\n",
       "    <tr>\n",
       "      <th>1</th>\n",
       "      <td>F</td>\n",
       "      <td>18-24</td>\n",
       "      <td>d50192e5-c44e-4ae8-ae7a-7cfe67c8b777</td>\n",
       "      <td>b'news.yandex.ru'</td>\n",
       "      <td>2015-03-18 11:11:38.001</td>\n",
       "      <td>11</td>\n",
       "      <td>18</td>\n",
       "      <td>3</td>\n",
       "      <td>Morning</td>\n",
       "      <td>Spring</td>\n",
       "    </tr>\n",
       "    <tr>\n",
       "      <th>2</th>\n",
       "      <td>F</td>\n",
       "      <td>18-24</td>\n",
       "      <td>d50192e5-c44e-4ae8-ae7a-7cfe67c8b777</td>\n",
       "      <td>b'sotovik.ru'</td>\n",
       "      <td>2015-03-18 11:11:38.000</td>\n",
       "      <td>11</td>\n",
       "      <td>18</td>\n",
       "      <td>3</td>\n",
       "      <td>Morning</td>\n",
       "      <td>Spring</td>\n",
       "    </tr>\n",
       "    <tr>\n",
       "      <th>3</th>\n",
       "      <td>F</td>\n",
       "      <td>18-24</td>\n",
       "      <td>d50192e5-c44e-4ae8-ae7a-7cfe67c8b777</td>\n",
       "      <td>b'news.yandex.ru'</td>\n",
       "      <td>2015-03-18 09:55:22.001</td>\n",
       "      <td>9</td>\n",
       "      <td>18</td>\n",
       "      <td>3</td>\n",
       "      <td>Morning</td>\n",
       "      <td>Spring</td>\n",
       "    </tr>\n",
       "    <tr>\n",
       "      <th>4</th>\n",
       "      <td>F</td>\n",
       "      <td>18-24</td>\n",
       "      <td>d50192e5-c44e-4ae8-ae7a-7cfe67c8b777</td>\n",
       "      <td>b'sotovik.ru'</td>\n",
       "      <td>2015-03-18 09:55:22.000</td>\n",
       "      <td>9</td>\n",
       "      <td>18</td>\n",
       "      <td>3</td>\n",
       "      <td>Morning</td>\n",
       "      <td>Spring</td>\n",
       "    </tr>\n",
       "  </tbody>\n",
       "</table>\n",
       "</div>"
      ],
      "text/plain": [
       "  gender    age                                   uid             domain  \\\n",
       "0      F  18-24  d50192e5-c44e-4ae8-ae7a-7cfe67c8b777   b'zebra-zoya.ru'   \n",
       "1      F  18-24  d50192e5-c44e-4ae8-ae7a-7cfe67c8b777  b'news.yandex.ru'   \n",
       "2      F  18-24  d50192e5-c44e-4ae8-ae7a-7cfe67c8b777      b'sotovik.ru'   \n",
       "3      F  18-24  d50192e5-c44e-4ae8-ae7a-7cfe67c8b777  b'news.yandex.ru'   \n",
       "4      F  18-24  d50192e5-c44e-4ae8-ae7a-7cfe67c8b777      b'sotovik.ru'   \n",
       "\n",
       "                 datetime  hour  day  month   day_part  season  \n",
       "0 2014-12-27 16:49:04.068    16   27     12  Afternoon  Winter  \n",
       "1 2015-03-18 11:11:38.001    11   18      3    Morning  Spring  \n",
       "2 2015-03-18 11:11:38.000    11   18      3    Morning  Spring  \n",
       "3 2015-03-18 09:55:22.001     9   18      3    Morning  Spring  \n",
       "4 2015-03-18 09:55:22.000     9   18      3    Morning  Spring  "
      ]
     },
     "execution_count": 23,
     "metadata": {},
     "output_type": "execute_result"
    }
   ],
   "source": [
    "df3['season'] = 'Unknown'\n",
    "df3.loc[df3['month'].between(3, 5, inclusive=True), 'season'] = 'Spring'\n",
    "df3.loc[df3['month'].between(6, 8, inclusive=True), 'season'] = 'Summer'\n",
    "df3.loc[df3['month'].between(9, 11, inclusive=True), 'season'] = 'Autumn'\n",
    "df3.loc[df3['month'].between(1, 2, inclusive=True), 'season'] = 'Winter'\n",
    "df3.loc[df3['month'].between(12, 12, inclusive=True), 'season'] = 'Winter'\n",
    "df3.head()"
   ]
  },
  {
   "cell_type": "code",
   "execution_count": 24,
   "metadata": {},
   "outputs": [
    {
     "data": {
      "text/html": [
       "<div>\n",
       "<style scoped>\n",
       "    .dataframe tbody tr th:only-of-type {\n",
       "        vertical-align: middle;\n",
       "    }\n",
       "\n",
       "    .dataframe tbody tr th {\n",
       "        vertical-align: top;\n",
       "    }\n",
       "\n",
       "    .dataframe thead th {\n",
       "        text-align: right;\n",
       "    }\n",
       "</style>\n",
       "<table border=\"1\" class=\"dataframe\">\n",
       "  <thead>\n",
       "    <tr style=\"text-align: right;\">\n",
       "      <th></th>\n",
       "      <th>gender</th>\n",
       "      <th>age</th>\n",
       "      <th>uid</th>\n",
       "      <th>domain</th>\n",
       "      <th>datetime</th>\n",
       "      <th>hour</th>\n",
       "      <th>day</th>\n",
       "      <th>month</th>\n",
       "      <th>day_part</th>\n",
       "      <th>season</th>\n",
       "      <th>week_day</th>\n",
       "    </tr>\n",
       "  </thead>\n",
       "  <tbody>\n",
       "    <tr>\n",
       "      <th>0</th>\n",
       "      <td>F</td>\n",
       "      <td>18-24</td>\n",
       "      <td>d50192e5-c44e-4ae8-ae7a-7cfe67c8b777</td>\n",
       "      <td>b'zebra-zoya.ru'</td>\n",
       "      <td>2014-12-27 16:49:04.068</td>\n",
       "      <td>16</td>\n",
       "      <td>27</td>\n",
       "      <td>12</td>\n",
       "      <td>Afternoon</td>\n",
       "      <td>Winter</td>\n",
       "      <td>Saturday</td>\n",
       "    </tr>\n",
       "    <tr>\n",
       "      <th>1</th>\n",
       "      <td>F</td>\n",
       "      <td>18-24</td>\n",
       "      <td>d50192e5-c44e-4ae8-ae7a-7cfe67c8b777</td>\n",
       "      <td>b'news.yandex.ru'</td>\n",
       "      <td>2015-03-18 11:11:38.001</td>\n",
       "      <td>11</td>\n",
       "      <td>18</td>\n",
       "      <td>3</td>\n",
       "      <td>Morning</td>\n",
       "      <td>Spring</td>\n",
       "      <td>Wednesday</td>\n",
       "    </tr>\n",
       "    <tr>\n",
       "      <th>2</th>\n",
       "      <td>F</td>\n",
       "      <td>18-24</td>\n",
       "      <td>d50192e5-c44e-4ae8-ae7a-7cfe67c8b777</td>\n",
       "      <td>b'sotovik.ru'</td>\n",
       "      <td>2015-03-18 11:11:38.000</td>\n",
       "      <td>11</td>\n",
       "      <td>18</td>\n",
       "      <td>3</td>\n",
       "      <td>Morning</td>\n",
       "      <td>Spring</td>\n",
       "      <td>Wednesday</td>\n",
       "    </tr>\n",
       "    <tr>\n",
       "      <th>3</th>\n",
       "      <td>F</td>\n",
       "      <td>18-24</td>\n",
       "      <td>d50192e5-c44e-4ae8-ae7a-7cfe67c8b777</td>\n",
       "      <td>b'news.yandex.ru'</td>\n",
       "      <td>2015-03-18 09:55:22.001</td>\n",
       "      <td>9</td>\n",
       "      <td>18</td>\n",
       "      <td>3</td>\n",
       "      <td>Morning</td>\n",
       "      <td>Spring</td>\n",
       "      <td>Wednesday</td>\n",
       "    </tr>\n",
       "    <tr>\n",
       "      <th>4</th>\n",
       "      <td>F</td>\n",
       "      <td>18-24</td>\n",
       "      <td>d50192e5-c44e-4ae8-ae7a-7cfe67c8b777</td>\n",
       "      <td>b'sotovik.ru'</td>\n",
       "      <td>2015-03-18 09:55:22.000</td>\n",
       "      <td>9</td>\n",
       "      <td>18</td>\n",
       "      <td>3</td>\n",
       "      <td>Morning</td>\n",
       "      <td>Spring</td>\n",
       "      <td>Wednesday</td>\n",
       "    </tr>\n",
       "  </tbody>\n",
       "</table>\n",
       "</div>"
      ],
      "text/plain": [
       "  gender    age                                   uid             domain  \\\n",
       "0      F  18-24  d50192e5-c44e-4ae8-ae7a-7cfe67c8b777   b'zebra-zoya.ru'   \n",
       "1      F  18-24  d50192e5-c44e-4ae8-ae7a-7cfe67c8b777  b'news.yandex.ru'   \n",
       "2      F  18-24  d50192e5-c44e-4ae8-ae7a-7cfe67c8b777      b'sotovik.ru'   \n",
       "3      F  18-24  d50192e5-c44e-4ae8-ae7a-7cfe67c8b777  b'news.yandex.ru'   \n",
       "4      F  18-24  d50192e5-c44e-4ae8-ae7a-7cfe67c8b777      b'sotovik.ru'   \n",
       "\n",
       "                 datetime  hour  day  month   day_part  season   week_day  \n",
       "0 2014-12-27 16:49:04.068    16   27     12  Afternoon  Winter   Saturday  \n",
       "1 2015-03-18 11:11:38.001    11   18      3    Morning  Spring  Wednesday  \n",
       "2 2015-03-18 11:11:38.000    11   18      3    Morning  Spring  Wednesday  \n",
       "3 2015-03-18 09:55:22.001     9   18      3    Morning  Spring  Wednesday  \n",
       "4 2015-03-18 09:55:22.000     9   18      3    Morning  Spring  Wednesday  "
      ]
     },
     "execution_count": 24,
     "metadata": {},
     "output_type": "execute_result"
    }
   ],
   "source": [
    "df3['week_day'] = df3['datetime'].dt.day_name()\n",
    "workdays = ['Wednesday', 'Thursday', 'Friday', 'Monday', 'Tuesday']\n",
    "weekend = ['Saturday', 'Sunday']\n",
    "df3.head()"
   ]
  },
  {
   "cell_type": "code",
   "execution_count": 25,
   "metadata": {},
   "outputs": [
    {
     "data": {
      "text/html": [
       "<div>\n",
       "<style scoped>\n",
       "    .dataframe tbody tr th:only-of-type {\n",
       "        vertical-align: middle;\n",
       "    }\n",
       "\n",
       "    .dataframe tbody tr th {\n",
       "        vertical-align: top;\n",
       "    }\n",
       "\n",
       "    .dataframe thead th {\n",
       "        text-align: right;\n",
       "    }\n",
       "</style>\n",
       "<table border=\"1\" class=\"dataframe\">\n",
       "  <thead>\n",
       "    <tr style=\"text-align: right;\">\n",
       "      <th></th>\n",
       "      <th>gender</th>\n",
       "      <th>age</th>\n",
       "      <th>uid</th>\n",
       "      <th>domain</th>\n",
       "      <th>datetime</th>\n",
       "      <th>hour</th>\n",
       "      <th>day</th>\n",
       "      <th>month</th>\n",
       "      <th>day_part</th>\n",
       "      <th>season</th>\n",
       "      <th>week_day</th>\n",
       "      <th>day_type</th>\n",
       "    </tr>\n",
       "  </thead>\n",
       "  <tbody>\n",
       "    <tr>\n",
       "      <th>0</th>\n",
       "      <td>F</td>\n",
       "      <td>18-24</td>\n",
       "      <td>d50192e5-c44e-4ae8-ae7a-7cfe67c8b777</td>\n",
       "      <td>b'zebra-zoya.ru'</td>\n",
       "      <td>2014-12-27 16:49:04.068</td>\n",
       "      <td>16</td>\n",
       "      <td>27</td>\n",
       "      <td>12</td>\n",
       "      <td>Afternoon</td>\n",
       "      <td>Winter</td>\n",
       "      <td>Saturday</td>\n",
       "      <td>Weekend</td>\n",
       "    </tr>\n",
       "    <tr>\n",
       "      <th>1</th>\n",
       "      <td>F</td>\n",
       "      <td>18-24</td>\n",
       "      <td>d50192e5-c44e-4ae8-ae7a-7cfe67c8b777</td>\n",
       "      <td>b'news.yandex.ru'</td>\n",
       "      <td>2015-03-18 11:11:38.001</td>\n",
       "      <td>11</td>\n",
       "      <td>18</td>\n",
       "      <td>3</td>\n",
       "      <td>Morning</td>\n",
       "      <td>Spring</td>\n",
       "      <td>Wednesday</td>\n",
       "      <td>Workday</td>\n",
       "    </tr>\n",
       "    <tr>\n",
       "      <th>2</th>\n",
       "      <td>F</td>\n",
       "      <td>18-24</td>\n",
       "      <td>d50192e5-c44e-4ae8-ae7a-7cfe67c8b777</td>\n",
       "      <td>b'sotovik.ru'</td>\n",
       "      <td>2015-03-18 11:11:38.000</td>\n",
       "      <td>11</td>\n",
       "      <td>18</td>\n",
       "      <td>3</td>\n",
       "      <td>Morning</td>\n",
       "      <td>Spring</td>\n",
       "      <td>Wednesday</td>\n",
       "      <td>Workday</td>\n",
       "    </tr>\n",
       "    <tr>\n",
       "      <th>3</th>\n",
       "      <td>F</td>\n",
       "      <td>18-24</td>\n",
       "      <td>d50192e5-c44e-4ae8-ae7a-7cfe67c8b777</td>\n",
       "      <td>b'news.yandex.ru'</td>\n",
       "      <td>2015-03-18 09:55:22.001</td>\n",
       "      <td>9</td>\n",
       "      <td>18</td>\n",
       "      <td>3</td>\n",
       "      <td>Morning</td>\n",
       "      <td>Spring</td>\n",
       "      <td>Wednesday</td>\n",
       "      <td>Workday</td>\n",
       "    </tr>\n",
       "    <tr>\n",
       "      <th>4</th>\n",
       "      <td>F</td>\n",
       "      <td>18-24</td>\n",
       "      <td>d50192e5-c44e-4ae8-ae7a-7cfe67c8b777</td>\n",
       "      <td>b'sotovik.ru'</td>\n",
       "      <td>2015-03-18 09:55:22.000</td>\n",
       "      <td>9</td>\n",
       "      <td>18</td>\n",
       "      <td>3</td>\n",
       "      <td>Morning</td>\n",
       "      <td>Spring</td>\n",
       "      <td>Wednesday</td>\n",
       "      <td>Workday</td>\n",
       "    </tr>\n",
       "  </tbody>\n",
       "</table>\n",
       "</div>"
      ],
      "text/plain": [
       "  gender    age                                   uid             domain  \\\n",
       "0      F  18-24  d50192e5-c44e-4ae8-ae7a-7cfe67c8b777   b'zebra-zoya.ru'   \n",
       "1      F  18-24  d50192e5-c44e-4ae8-ae7a-7cfe67c8b777  b'news.yandex.ru'   \n",
       "2      F  18-24  d50192e5-c44e-4ae8-ae7a-7cfe67c8b777      b'sotovik.ru'   \n",
       "3      F  18-24  d50192e5-c44e-4ae8-ae7a-7cfe67c8b777  b'news.yandex.ru'   \n",
       "4      F  18-24  d50192e5-c44e-4ae8-ae7a-7cfe67c8b777      b'sotovik.ru'   \n",
       "\n",
       "                 datetime  hour  day  month   day_part  season   week_day  \\\n",
       "0 2014-12-27 16:49:04.068    16   27     12  Afternoon  Winter   Saturday   \n",
       "1 2015-03-18 11:11:38.001    11   18      3    Morning  Spring  Wednesday   \n",
       "2 2015-03-18 11:11:38.000    11   18      3    Morning  Spring  Wednesday   \n",
       "3 2015-03-18 09:55:22.001     9   18      3    Morning  Spring  Wednesday   \n",
       "4 2015-03-18 09:55:22.000     9   18      3    Morning  Spring  Wednesday   \n",
       "\n",
       "  day_type  \n",
       "0  Weekend  \n",
       "1  Workday  \n",
       "2  Workday  \n",
       "3  Workday  \n",
       "4  Workday  "
      ]
     },
     "execution_count": 25,
     "metadata": {},
     "output_type": "execute_result"
    }
   ],
   "source": [
    "df3['day_type'] = df3['week_day'].isin(workdays)\n",
    "df3['day_type'] = df3['day_type'].replace([True, False], ['Workday', 'Weekend'])\n",
    "df3.head()"
   ]
  },
  {
   "cell_type": "code",
   "execution_count": 26,
   "metadata": {},
   "outputs": [
    {
     "data": {
      "text/html": [
       "<div>\n",
       "<style scoped>\n",
       "    .dataframe tbody tr th:only-of-type {\n",
       "        vertical-align: middle;\n",
       "    }\n",
       "\n",
       "    .dataframe tbody tr th {\n",
       "        vertical-align: top;\n",
       "    }\n",
       "\n",
       "    .dataframe thead th {\n",
       "        text-align: right;\n",
       "    }\n",
       "</style>\n",
       "<table border=\"1\" class=\"dataframe\">\n",
       "  <thead>\n",
       "    <tr style=\"text-align: right;\">\n",
       "      <th></th>\n",
       "      <th>gender</th>\n",
       "      <th>age</th>\n",
       "      <th>uid</th>\n",
       "      <th>domain</th>\n",
       "      <th>datetime</th>\n",
       "      <th>hour</th>\n",
       "      <th>day</th>\n",
       "      <th>month</th>\n",
       "      <th>day_part</th>\n",
       "      <th>season</th>\n",
       "      <th>week_day</th>\n",
       "      <th>day_type</th>\n",
       "    </tr>\n",
       "  </thead>\n",
       "  <tbody>\n",
       "    <tr>\n",
       "      <th>0</th>\n",
       "      <td>F</td>\n",
       "      <td>18-24</td>\n",
       "      <td>d50192e5-c44e-4ae8-ae7a-7cfe67c8b777</td>\n",
       "      <td>b'zebra-zoya.ru'</td>\n",
       "      <td>2014-12-27 16:49:04.068</td>\n",
       "      <td>16</td>\n",
       "      <td>27</td>\n",
       "      <td>12</td>\n",
       "      <td>Afternoon</td>\n",
       "      <td>Winter</td>\n",
       "      <td>Saturday</td>\n",
       "      <td>Weekend</td>\n",
       "    </tr>\n",
       "    <tr>\n",
       "      <th>1</th>\n",
       "      <td>F</td>\n",
       "      <td>18-24</td>\n",
       "      <td>d50192e5-c44e-4ae8-ae7a-7cfe67c8b777</td>\n",
       "      <td>b'news.yandex.ru'</td>\n",
       "      <td>2015-03-18 11:11:38.001</td>\n",
       "      <td>11</td>\n",
       "      <td>18</td>\n",
       "      <td>3</td>\n",
       "      <td>Morning</td>\n",
       "      <td>Spring</td>\n",
       "      <td>Wednesday</td>\n",
       "      <td>Workday</td>\n",
       "    </tr>\n",
       "    <tr>\n",
       "      <th>2</th>\n",
       "      <td>F</td>\n",
       "      <td>18-24</td>\n",
       "      <td>d50192e5-c44e-4ae8-ae7a-7cfe67c8b777</td>\n",
       "      <td>b'sotovik.ru'</td>\n",
       "      <td>2015-03-18 11:11:38.000</td>\n",
       "      <td>11</td>\n",
       "      <td>18</td>\n",
       "      <td>3</td>\n",
       "      <td>Morning</td>\n",
       "      <td>Spring</td>\n",
       "      <td>Wednesday</td>\n",
       "      <td>Workday</td>\n",
       "    </tr>\n",
       "    <tr>\n",
       "      <th>3</th>\n",
       "      <td>F</td>\n",
       "      <td>18-24</td>\n",
       "      <td>d50192e5-c44e-4ae8-ae7a-7cfe67c8b777</td>\n",
       "      <td>b'news.yandex.ru'</td>\n",
       "      <td>2015-03-18 09:55:22.001</td>\n",
       "      <td>9</td>\n",
       "      <td>18</td>\n",
       "      <td>3</td>\n",
       "      <td>Morning</td>\n",
       "      <td>Spring</td>\n",
       "      <td>Wednesday</td>\n",
       "      <td>Workday</td>\n",
       "    </tr>\n",
       "    <tr>\n",
       "      <th>4</th>\n",
       "      <td>F</td>\n",
       "      <td>18-24</td>\n",
       "      <td>d50192e5-c44e-4ae8-ae7a-7cfe67c8b777</td>\n",
       "      <td>b'sotovik.ru'</td>\n",
       "      <td>2015-03-18 09:55:22.000</td>\n",
       "      <td>9</td>\n",
       "      <td>18</td>\n",
       "      <td>3</td>\n",
       "      <td>Morning</td>\n",
       "      <td>Spring</td>\n",
       "      <td>Wednesday</td>\n",
       "      <td>Workday</td>\n",
       "    </tr>\n",
       "  </tbody>\n",
       "</table>\n",
       "</div>"
      ],
      "text/plain": [
       "  gender    age                                   uid             domain  \\\n",
       "0      F  18-24  d50192e5-c44e-4ae8-ae7a-7cfe67c8b777   b'zebra-zoya.ru'   \n",
       "1      F  18-24  d50192e5-c44e-4ae8-ae7a-7cfe67c8b777  b'news.yandex.ru'   \n",
       "2      F  18-24  d50192e5-c44e-4ae8-ae7a-7cfe67c8b777      b'sotovik.ru'   \n",
       "3      F  18-24  d50192e5-c44e-4ae8-ae7a-7cfe67c8b777  b'news.yandex.ru'   \n",
       "4      F  18-24  d50192e5-c44e-4ae8-ae7a-7cfe67c8b777      b'sotovik.ru'   \n",
       "\n",
       "                 datetime  hour  day  month   day_part  season   week_day  \\\n",
       "0 2014-12-27 16:49:04.068    16   27     12  Afternoon  Winter   Saturday   \n",
       "1 2015-03-18 11:11:38.001    11   18      3    Morning  Spring  Wednesday   \n",
       "2 2015-03-18 11:11:38.000    11   18      3    Morning  Spring  Wednesday   \n",
       "3 2015-03-18 09:55:22.001     9   18      3    Morning  Spring  Wednesday   \n",
       "4 2015-03-18 09:55:22.000     9   18      3    Morning  Spring  Wednesday   \n",
       "\n",
       "  day_type  \n",
       "0  Weekend  \n",
       "1  Workday  \n",
       "2  Workday  \n",
       "3  Workday  \n",
       "4  Workday  "
      ]
     },
     "execution_count": 26,
     "metadata": {},
     "output_type": "execute_result"
    }
   ],
   "source": [
    "df3.head()"
   ]
  },
  {
   "cell_type": "code",
   "execution_count": 27,
   "metadata": {},
   "outputs": [
    {
     "data": {
      "text/plain": [
       "(5829507, 12)"
      ]
     },
     "execution_count": 27,
     "metadata": {},
     "output_type": "execute_result"
    }
   ],
   "source": [
    "df3.shape"
   ]
  },
  {
   "cell_type": "code",
   "execution_count": 28,
   "metadata": {},
   "outputs": [
    {
     "data": {
      "text/plain": [
       "((1103925,), (41138,))"
      ]
     },
     "execution_count": 28,
     "metadata": {},
     "output_type": "execute_result"
    }
   ],
   "source": [
    "df4 = df3.drop_duplicates(subset=['uid','domain','day_part', 'season', 'week_day', 'day_type'], keep='first')\n",
    "df4['uid'].shape, df4['uid'].unique().shape"
   ]
  },
  {
   "cell_type": "code",
   "execution_count": 29,
   "metadata": {},
   "outputs": [
    {
     "name": "stderr",
     "output_type": "stream",
     "text": [
      "/opt/anaconda/envs/bd9/lib/python3.6/site-packages/pandas/core/frame.py:3694: SettingWithCopyWarning: \n",
      "A value is trying to be set on a copy of a slice from a DataFrame\n",
      "\n",
      "See the caveats in the documentation: http://pandas.pydata.org/pandas-docs/stable/indexing.html#indexing-view-versus-copy\n",
      "  errors=errors)\n"
     ]
    },
    {
     "data": {
      "text/html": [
       "<div>\n",
       "<style scoped>\n",
       "    .dataframe tbody tr th:only-of-type {\n",
       "        vertical-align: middle;\n",
       "    }\n",
       "\n",
       "    .dataframe tbody tr th {\n",
       "        vertical-align: top;\n",
       "    }\n",
       "\n",
       "    .dataframe thead th {\n",
       "        text-align: right;\n",
       "    }\n",
       "</style>\n",
       "<table border=\"1\" class=\"dataframe\">\n",
       "  <thead>\n",
       "    <tr style=\"text-align: right;\">\n",
       "      <th></th>\n",
       "      <th>gender</th>\n",
       "      <th>age</th>\n",
       "      <th>uid</th>\n",
       "      <th>domain</th>\n",
       "      <th>day_part</th>\n",
       "      <th>season</th>\n",
       "      <th>week_day</th>\n",
       "      <th>day_type</th>\n",
       "    </tr>\n",
       "  </thead>\n",
       "  <tbody>\n",
       "    <tr>\n",
       "      <th>0</th>\n",
       "      <td>F</td>\n",
       "      <td>18-24</td>\n",
       "      <td>d50192e5-c44e-4ae8-ae7a-7cfe67c8b777</td>\n",
       "      <td>b'zebra-zoya.ru'</td>\n",
       "      <td>Afternoon</td>\n",
       "      <td>Winter</td>\n",
       "      <td>Saturday</td>\n",
       "      <td>Weekend</td>\n",
       "    </tr>\n",
       "    <tr>\n",
       "      <th>1</th>\n",
       "      <td>F</td>\n",
       "      <td>18-24</td>\n",
       "      <td>d50192e5-c44e-4ae8-ae7a-7cfe67c8b777</td>\n",
       "      <td>b'news.yandex.ru'</td>\n",
       "      <td>Morning</td>\n",
       "      <td>Spring</td>\n",
       "      <td>Wednesday</td>\n",
       "      <td>Workday</td>\n",
       "    </tr>\n",
       "    <tr>\n",
       "      <th>2</th>\n",
       "      <td>F</td>\n",
       "      <td>18-24</td>\n",
       "      <td>d50192e5-c44e-4ae8-ae7a-7cfe67c8b777</td>\n",
       "      <td>b'sotovik.ru'</td>\n",
       "      <td>Morning</td>\n",
       "      <td>Spring</td>\n",
       "      <td>Wednesday</td>\n",
       "      <td>Workday</td>\n",
       "    </tr>\n",
       "    <tr>\n",
       "      <th>5</th>\n",
       "      <td>M</td>\n",
       "      <td>25-34</td>\n",
       "      <td>d502331d-621e-4721-ada2-5d30b2c3801f</td>\n",
       "      <td>b'sweetrading.ru'</td>\n",
       "      <td>Night</td>\n",
       "      <td>Winter</td>\n",
       "      <td>Sunday</td>\n",
       "      <td>Weekend</td>\n",
       "    </tr>\n",
       "    <tr>\n",
       "      <th>8</th>\n",
       "      <td>M</td>\n",
       "      <td>25-34</td>\n",
       "      <td>d502331d-621e-4721-ada2-5d30b2c3801f</td>\n",
       "      <td>b'101.ru'</td>\n",
       "      <td>Night</td>\n",
       "      <td>Winter</td>\n",
       "      <td>Sunday</td>\n",
       "      <td>Weekend</td>\n",
       "    </tr>\n",
       "  </tbody>\n",
       "</table>\n",
       "</div>"
      ],
      "text/plain": [
       "  gender    age                                   uid             domain  \\\n",
       "0      F  18-24  d50192e5-c44e-4ae8-ae7a-7cfe67c8b777   b'zebra-zoya.ru'   \n",
       "1      F  18-24  d50192e5-c44e-4ae8-ae7a-7cfe67c8b777  b'news.yandex.ru'   \n",
       "2      F  18-24  d50192e5-c44e-4ae8-ae7a-7cfe67c8b777      b'sotovik.ru'   \n",
       "5      M  25-34  d502331d-621e-4721-ada2-5d30b2c3801f  b'sweetrading.ru'   \n",
       "8      M  25-34  d502331d-621e-4721-ada2-5d30b2c3801f          b'101.ru'   \n",
       "\n",
       "    day_part  season   week_day day_type  \n",
       "0  Afternoon  Winter   Saturday  Weekend  \n",
       "1    Morning  Spring  Wednesday  Workday  \n",
       "2    Morning  Spring  Wednesday  Workday  \n",
       "5      Night  Winter     Sunday  Weekend  \n",
       "8      Night  Winter     Sunday  Weekend  "
      ]
     },
     "execution_count": 29,
     "metadata": {},
     "output_type": "execute_result"
    }
   ],
   "source": [
    "df4.drop(labels=['datetime','hour','day','month'],axis=1, inplace=True)\n",
    "df4.head()"
   ]
  },
  {
   "cell_type": "code",
   "execution_count": 30,
   "metadata": {},
   "outputs": [
    {
     "data": {
      "text/plain": [
       "111581"
      ]
     },
     "execution_count": 30,
     "metadata": {},
     "output_type": "execute_result"
    }
   ],
   "source": [
    "len(set(df4[~((df4.gender == '-') & (df4.age == '-'))]['domain']))"
   ]
  },
  {
   "cell_type": "code",
   "execution_count": 31,
   "metadata": {},
   "outputs": [
    {
     "data": {
      "text/plain": [
       "19663"
      ]
     },
     "execution_count": 31,
     "metadata": {},
     "output_type": "execute_result"
    }
   ],
   "source": [
    "len(set(df4[((df4.gender == '-') & (df4.age == '-'))]['domain']))"
   ]
  },
  {
   "cell_type": "code",
   "execution_count": 32,
   "metadata": {},
   "outputs": [
    {
     "data": {
      "text/plain": [
       "14256"
      ]
     },
     "execution_count": 32,
     "metadata": {},
     "output_type": "execute_result"
    }
   ],
   "source": [
    "len(list(set(df4[~((df4.gender == '-') & (df4.age == '-'))]['domain']).intersection(set(df4[((df4.gender == '-') & (df4.age == '-'))]['domain']))))"
   ]
  },
  {
   "cell_type": "markdown",
   "metadata": {},
   "source": [
    "Пересечение по сайтам для тестовой выборки:"
   ]
  },
  {
   "cell_type": "code",
   "execution_count": 33,
   "metadata": {},
   "outputs": [
    {
     "data": {
      "text/plain": [
       "0.7250165285053145"
      ]
     },
     "execution_count": 33,
     "metadata": {},
     "output_type": "execute_result"
    }
   ],
   "source": [
    "14256/19663"
   ]
  },
  {
   "cell_type": "markdown",
   "metadata": {},
   "source": [
    "Модель уже можно обучать на таких данных, предварительно сделав label encoding по домейнам"
   ]
  },
  {
   "cell_type": "code",
   "execution_count": 34,
   "metadata": {},
   "outputs": [
    {
     "data": {
      "text/plain": [
       "LabelEncoder()"
      ]
     },
     "execution_count": 34,
     "metadata": {},
     "output_type": "execute_result"
    }
   ],
   "source": [
    "le_domain = preprocessing.LabelEncoder()\n",
    "le_domain.fit(df4['domain'].astype(str)) "
   ]
  },
  {
   "cell_type": "markdown",
   "metadata": {},
   "source": [
    "Пробуем обучать модель и смотрим на результат, если не хватает, продолжаем работать с данными"
   ]
  },
  {
   "cell_type": "markdown",
   "metadata": {},
   "source": [
    "### Деление на train и test сеты, обучение модели, предсказания для test-сета"
   ]
  },
  {
   "cell_type": "markdown",
   "metadata": {},
   "source": [
    "Давайте теперь оценим размер нашего train и test сетов. Train set:"
   ]
  },
  {
   "cell_type": "code",
   "execution_count": 35,
   "metadata": {},
   "outputs": [
    {
     "data": {
      "text/plain": [
       "1015189"
      ]
     },
     "execution_count": 35,
     "metadata": {},
     "output_type": "execute_result"
    }
   ],
   "source": [
    "df4_train = df4[~((df4.gender == '-') & (df4.age == '-'))]\n",
    "len(df4_train[~((df4_train.gender == '-') & (df4_train.age == '-'))])"
   ]
  },
  {
   "cell_type": "code",
   "execution_count": 36,
   "metadata": {},
   "outputs": [
    {
     "data": {
      "text/html": [
       "<div>\n",
       "<style scoped>\n",
       "    .dataframe tbody tr th:only-of-type {\n",
       "        vertical-align: middle;\n",
       "    }\n",
       "\n",
       "    .dataframe tbody tr th {\n",
       "        vertical-align: top;\n",
       "    }\n",
       "\n",
       "    .dataframe thead th {\n",
       "        text-align: right;\n",
       "    }\n",
       "</style>\n",
       "<table border=\"1\" class=\"dataframe\">\n",
       "  <thead>\n",
       "    <tr style=\"text-align: right;\">\n",
       "      <th></th>\n",
       "      <th>gender</th>\n",
       "      <th>age</th>\n",
       "      <th>uid</th>\n",
       "      <th>domain</th>\n",
       "      <th>day_part</th>\n",
       "      <th>season</th>\n",
       "      <th>week_day</th>\n",
       "      <th>day_type</th>\n",
       "    </tr>\n",
       "  </thead>\n",
       "  <tbody>\n",
       "    <tr>\n",
       "      <th>0</th>\n",
       "      <td>F</td>\n",
       "      <td>18-24</td>\n",
       "      <td>d50192e5-c44e-4ae8-ae7a-7cfe67c8b777</td>\n",
       "      <td>b'zebra-zoya.ru'</td>\n",
       "      <td>Afternoon</td>\n",
       "      <td>Winter</td>\n",
       "      <td>Saturday</td>\n",
       "      <td>Weekend</td>\n",
       "    </tr>\n",
       "    <tr>\n",
       "      <th>1</th>\n",
       "      <td>F</td>\n",
       "      <td>18-24</td>\n",
       "      <td>d50192e5-c44e-4ae8-ae7a-7cfe67c8b777</td>\n",
       "      <td>b'news.yandex.ru'</td>\n",
       "      <td>Morning</td>\n",
       "      <td>Spring</td>\n",
       "      <td>Wednesday</td>\n",
       "      <td>Workday</td>\n",
       "    </tr>\n",
       "    <tr>\n",
       "      <th>2</th>\n",
       "      <td>F</td>\n",
       "      <td>18-24</td>\n",
       "      <td>d50192e5-c44e-4ae8-ae7a-7cfe67c8b777</td>\n",
       "      <td>b'sotovik.ru'</td>\n",
       "      <td>Morning</td>\n",
       "      <td>Spring</td>\n",
       "      <td>Wednesday</td>\n",
       "      <td>Workday</td>\n",
       "    </tr>\n",
       "    <tr>\n",
       "      <th>5</th>\n",
       "      <td>M</td>\n",
       "      <td>25-34</td>\n",
       "      <td>d502331d-621e-4721-ada2-5d30b2c3801f</td>\n",
       "      <td>b'sweetrading.ru'</td>\n",
       "      <td>Night</td>\n",
       "      <td>Winter</td>\n",
       "      <td>Sunday</td>\n",
       "      <td>Weekend</td>\n",
       "    </tr>\n",
       "    <tr>\n",
       "      <th>8</th>\n",
       "      <td>M</td>\n",
       "      <td>25-34</td>\n",
       "      <td>d502331d-621e-4721-ada2-5d30b2c3801f</td>\n",
       "      <td>b'101.ru'</td>\n",
       "      <td>Night</td>\n",
       "      <td>Winter</td>\n",
       "      <td>Sunday</td>\n",
       "      <td>Weekend</td>\n",
       "    </tr>\n",
       "  </tbody>\n",
       "</table>\n",
       "</div>"
      ],
      "text/plain": [
       "  gender    age                                   uid             domain  \\\n",
       "0      F  18-24  d50192e5-c44e-4ae8-ae7a-7cfe67c8b777   b'zebra-zoya.ru'   \n",
       "1      F  18-24  d50192e5-c44e-4ae8-ae7a-7cfe67c8b777  b'news.yandex.ru'   \n",
       "2      F  18-24  d50192e5-c44e-4ae8-ae7a-7cfe67c8b777      b'sotovik.ru'   \n",
       "5      M  25-34  d502331d-621e-4721-ada2-5d30b2c3801f  b'sweetrading.ru'   \n",
       "8      M  25-34  d502331d-621e-4721-ada2-5d30b2c3801f          b'101.ru'   \n",
       "\n",
       "    day_part  season   week_day day_type  \n",
       "0  Afternoon  Winter   Saturday  Weekend  \n",
       "1    Morning  Spring  Wednesday  Workday  \n",
       "2    Morning  Spring  Wednesday  Workday  \n",
       "5      Night  Winter     Sunday  Weekend  \n",
       "8      Night  Winter     Sunday  Weekend  "
      ]
     },
     "execution_count": 36,
     "metadata": {},
     "output_type": "execute_result"
    }
   ],
   "source": [
    "df4_train.head()"
   ]
  },
  {
   "cell_type": "markdown",
   "metadata": {},
   "source": [
    "Test set:"
   ]
  },
  {
   "cell_type": "code",
   "execution_count": 37,
   "metadata": {},
   "outputs": [
    {
     "data": {
      "text/plain": [
       "88736"
      ]
     },
     "execution_count": 37,
     "metadata": {},
     "output_type": "execute_result"
    }
   ],
   "source": [
    "df4_test = df4[((df4.gender == '-') & (df4.age == '-'))]\n",
    "len(df4_test[((df4_test.gender == '-') & (df4_test.age == '-'))])"
   ]
  },
  {
   "cell_type": "code",
   "execution_count": 38,
   "metadata": {},
   "outputs": [
    {
     "data": {
      "text/html": [
       "<div>\n",
       "<style scoped>\n",
       "    .dataframe tbody tr th:only-of-type {\n",
       "        vertical-align: middle;\n",
       "    }\n",
       "\n",
       "    .dataframe tbody tr th {\n",
       "        vertical-align: top;\n",
       "    }\n",
       "\n",
       "    .dataframe thead th {\n",
       "        text-align: right;\n",
       "    }\n",
       "</style>\n",
       "<table border=\"1\" class=\"dataframe\">\n",
       "  <thead>\n",
       "    <tr style=\"text-align: right;\">\n",
       "      <th></th>\n",
       "      <th>gender</th>\n",
       "      <th>age</th>\n",
       "      <th>uid</th>\n",
       "      <th>domain</th>\n",
       "      <th>day_part</th>\n",
       "      <th>season</th>\n",
       "      <th>week_day</th>\n",
       "      <th>day_type</th>\n",
       "    </tr>\n",
       "  </thead>\n",
       "  <tbody>\n",
       "    <tr>\n",
       "      <th>5312952</th>\n",
       "      <td>-</td>\n",
       "      <td>-</td>\n",
       "      <td>bd7a30e1-a25d-4cbf-a03f-61748cbe540e</td>\n",
       "      <td>b'interfax.ru'</td>\n",
       "      <td>Afternoon</td>\n",
       "      <td>Winter</td>\n",
       "      <td>Sunday</td>\n",
       "      <td>Weekend</td>\n",
       "    </tr>\n",
       "    <tr>\n",
       "      <th>5312953</th>\n",
       "      <td>-</td>\n",
       "      <td>-</td>\n",
       "      <td>bd7a30e1-a25d-4cbf-a03f-61748cbe540e</td>\n",
       "      <td>b'amerikan-gruzovik.ru'</td>\n",
       "      <td>Afternoon</td>\n",
       "      <td>Winter</td>\n",
       "      <td>Saturday</td>\n",
       "      <td>Weekend</td>\n",
       "    </tr>\n",
       "    <tr>\n",
       "      <th>5312969</th>\n",
       "      <td>-</td>\n",
       "      <td>-</td>\n",
       "      <td>bd7a30e1-a25d-4cbf-a03f-61748cbe540e</td>\n",
       "      <td>b'tv.jampo.tv'</td>\n",
       "      <td>Morning</td>\n",
       "      <td>Winter</td>\n",
       "      <td>Saturday</td>\n",
       "      <td>Weekend</td>\n",
       "    </tr>\n",
       "    <tr>\n",
       "      <th>5312970</th>\n",
       "      <td>-</td>\n",
       "      <td>-</td>\n",
       "      <td>bd7a30e1-a25d-4cbf-a03f-61748cbe540e</td>\n",
       "      <td>b'sovsekretno.ru'</td>\n",
       "      <td>Morning</td>\n",
       "      <td>Winter</td>\n",
       "      <td>Friday</td>\n",
       "      <td>Workday</td>\n",
       "    </tr>\n",
       "    <tr>\n",
       "      <th>5312971</th>\n",
       "      <td>-</td>\n",
       "      <td>-</td>\n",
       "      <td>bd7a30e1-a25d-4cbf-a03f-61748cbe540e</td>\n",
       "      <td>b'marketgid.com'</td>\n",
       "      <td>Morning</td>\n",
       "      <td>Winter</td>\n",
       "      <td>Friday</td>\n",
       "      <td>Workday</td>\n",
       "    </tr>\n",
       "  </tbody>\n",
       "</table>\n",
       "</div>"
      ],
      "text/plain": [
       "        gender age                                   uid  \\\n",
       "5312952      -   -  bd7a30e1-a25d-4cbf-a03f-61748cbe540e   \n",
       "5312953      -   -  bd7a30e1-a25d-4cbf-a03f-61748cbe540e   \n",
       "5312969      -   -  bd7a30e1-a25d-4cbf-a03f-61748cbe540e   \n",
       "5312970      -   -  bd7a30e1-a25d-4cbf-a03f-61748cbe540e   \n",
       "5312971      -   -  bd7a30e1-a25d-4cbf-a03f-61748cbe540e   \n",
       "\n",
       "                          domain   day_part  season  week_day day_type  \n",
       "5312952           b'interfax.ru'  Afternoon  Winter    Sunday  Weekend  \n",
       "5312953  b'amerikan-gruzovik.ru'  Afternoon  Winter  Saturday  Weekend  \n",
       "5312969           b'tv.jampo.tv'    Morning  Winter  Saturday  Weekend  \n",
       "5312970        b'sovsekretno.ru'    Morning  Winter    Friday  Workday  \n",
       "5312971         b'marketgid.com'    Morning  Winter    Friday  Workday  "
      ]
     },
     "execution_count": 38,
     "metadata": {},
     "output_type": "execute_result"
    }
   ],
   "source": [
    "df4_test.head()"
   ]
  },
  {
   "cell_type": "markdown",
   "metadata": {},
   "source": [
    "Теперь делаем encoding по остальным фичам и делим train на train и val"
   ]
  },
  {
   "cell_type": "markdown",
   "metadata": {},
   "source": [
    "Инициализируем энкодеры для каждой фичи"
   ]
  },
  {
   "cell_type": "code",
   "execution_count": 39,
   "metadata": {},
   "outputs": [],
   "source": [
    "# features\n",
    "le_day_part = preprocessing.LabelEncoder()\n",
    "le_season   = preprocessing.LabelEncoder()\n",
    "le_week_day = preprocessing.LabelEncoder()\n",
    "le_day_type = preprocessing.LabelEncoder()\n",
    "\n",
    "# targets\n",
    "le_gender = preprocessing.LabelEncoder()\n",
    "le_age    = preprocessing.LabelEncoder()"
   ]
  },
  {
   "cell_type": "markdown",
   "metadata": {},
   "source": [
    "Фитим все энкодеры"
   ]
  },
  {
   "cell_type": "code",
   "execution_count": 40,
   "metadata": {},
   "outputs": [
    {
     "data": {
      "text/plain": [
       "LabelEncoder()"
      ]
     },
     "execution_count": 40,
     "metadata": {},
     "output_type": "execute_result"
    }
   ],
   "source": [
    "# features\n",
    "le_day_part.fit(df4_train['day_part'].astype(str))\n",
    "le_season  .fit(df4_train['season'].astype(str))\n",
    "le_week_day.fit(df4_train['week_day'].astype(str))\n",
    "le_day_type.fit(df4_train['day_type'].astype(str))\n",
    "\n",
    "# targets\n",
    "le_gender.fit(df4_train['gender'].astype(str))\n",
    "le_age   .fit(df4_train['age'].astype(str))"
   ]
  },
  {
   "cell_type": "markdown",
   "metadata": {},
   "source": [
    "# Продолжение работы с датасетом . . ."
   ]
  },
  {
   "cell_type": "markdown",
   "metadata": {},
   "source": [
    "Считаем статистику по каждому сайту:"
   ]
  },
  {
   "cell_type": "code",
   "execution_count": 296,
   "metadata": {},
   "outputs": [
    {
     "data": {
      "text/html": [
       "<div>\n",
       "<style scoped>\n",
       "    .dataframe tbody tr th:only-of-type {\n",
       "        vertical-align: middle;\n",
       "    }\n",
       "\n",
       "    .dataframe tbody tr th {\n",
       "        vertical-align: top;\n",
       "    }\n",
       "\n",
       "    .dataframe thead th {\n",
       "        text-align: right;\n",
       "    }\n",
       "</style>\n",
       "<table border=\"1\" class=\"dataframe\">\n",
       "  <thead>\n",
       "    <tr style=\"text-align: right;\">\n",
       "      <th></th>\n",
       "      <th></th>\n",
       "      <th>sex_stat</th>\n",
       "    </tr>\n",
       "    <tr>\n",
       "      <th>domain</th>\n",
       "      <th>gender</th>\n",
       "      <th></th>\n",
       "    </tr>\n",
       "  </thead>\n",
       "  <tbody>\n",
       "    <tr>\n",
       "      <th>b'zebra-zoya.ru'</th>\n",
       "      <th>F</th>\n",
       "      <td>3</td>\n",
       "    </tr>\n",
       "    <tr>\n",
       "      <th rowspan=\"2\" valign=\"top\">b'news.yandex.ru'</th>\n",
       "      <th>F</th>\n",
       "      <td>1202</td>\n",
       "    </tr>\n",
       "    <tr>\n",
       "      <th>M</th>\n",
       "      <td>2301</td>\n",
       "    </tr>\n",
       "    <tr>\n",
       "      <th rowspan=\"2\" valign=\"top\">b'sotovik.ru'</th>\n",
       "      <th>F</th>\n",
       "      <td>7</td>\n",
       "    </tr>\n",
       "    <tr>\n",
       "      <th>M</th>\n",
       "      <td>21</td>\n",
       "    </tr>\n",
       "    <tr>\n",
       "      <th>b'sweetrading.ru'</th>\n",
       "      <th>M</th>\n",
       "      <td>2</td>\n",
       "    </tr>\n",
       "    <tr>\n",
       "      <th rowspan=\"2\" valign=\"top\">b'101.ru'</th>\n",
       "      <th>F</th>\n",
       "      <td>301</td>\n",
       "    </tr>\n",
       "    <tr>\n",
       "      <th>M</th>\n",
       "      <td>460</td>\n",
       "    </tr>\n",
       "    <tr>\n",
       "      <th>b'oesex.ru'</th>\n",
       "      <th>M</th>\n",
       "      <td>3</td>\n",
       "    </tr>\n",
       "    <tr>\n",
       "      <th>b'interfax.ru'</th>\n",
       "      <th>F</th>\n",
       "      <td>588</td>\n",
       "    </tr>\n",
       "  </tbody>\n",
       "</table>\n",
       "</div>"
      ],
      "text/plain": [
       "                          sex_stat\n",
       "domain            gender          \n",
       "b'zebra-zoya.ru'  F              3\n",
       "b'news.yandex.ru' F           1202\n",
       "                  M           2301\n",
       "b'sotovik.ru'     F              7\n",
       "                  M             21\n",
       "b'sweetrading.ru' M              2\n",
       "b'101.ru'         F            301\n",
       "                  M            460\n",
       "b'oesex.ru'       M              3\n",
       "b'interfax.ru'    F            588"
      ]
     },
     "execution_count": 296,
     "metadata": {},
     "output_type": "execute_result"
    }
   ],
   "source": [
    "sex_stat = pd.DataFrame(df4_train[['domain','gender']].groupby([pd.Grouper(key='domain'), 'gender']).size(), columns=['sex_stat'])\n",
    "sex_stat.head(10)"
   ]
  },
  {
   "cell_type": "code",
   "execution_count": 297,
   "metadata": {},
   "outputs": [
    {
     "data": {
      "text/html": [
       "<div>\n",
       "<style scoped>\n",
       "    .dataframe tbody tr th:only-of-type {\n",
       "        vertical-align: middle;\n",
       "    }\n",
       "\n",
       "    .dataframe tbody tr th {\n",
       "        vertical-align: top;\n",
       "    }\n",
       "\n",
       "    .dataframe thead th {\n",
       "        text-align: right;\n",
       "    }\n",
       "</style>\n",
       "<table border=\"1\" class=\"dataframe\">\n",
       "  <thead>\n",
       "    <tr style=\"text-align: right;\">\n",
       "      <th></th>\n",
       "      <th></th>\n",
       "      <th>age_stat</th>\n",
       "    </tr>\n",
       "    <tr>\n",
       "      <th>domain</th>\n",
       "      <th>age</th>\n",
       "      <th></th>\n",
       "    </tr>\n",
       "  </thead>\n",
       "  <tbody>\n",
       "    <tr>\n",
       "      <th rowspan=\"3\" valign=\"top\">b'zebra-zoya.ru'</th>\n",
       "      <th>18-24</th>\n",
       "      <td>1</td>\n",
       "    </tr>\n",
       "    <tr>\n",
       "      <th>35-44</th>\n",
       "      <td>1</td>\n",
       "    </tr>\n",
       "    <tr>\n",
       "      <th>&gt;=55</th>\n",
       "      <td>1</td>\n",
       "    </tr>\n",
       "    <tr>\n",
       "      <th rowspan=\"5\" valign=\"top\">b'news.yandex.ru'</th>\n",
       "      <th>18-24</th>\n",
       "      <td>310</td>\n",
       "    </tr>\n",
       "    <tr>\n",
       "      <th>25-34</th>\n",
       "      <td>1370</td>\n",
       "    </tr>\n",
       "    <tr>\n",
       "      <th>35-44</th>\n",
       "      <td>1002</td>\n",
       "    </tr>\n",
       "    <tr>\n",
       "      <th>45-54</th>\n",
       "      <td>557</td>\n",
       "    </tr>\n",
       "    <tr>\n",
       "      <th>&gt;=55</th>\n",
       "      <td>264</td>\n",
       "    </tr>\n",
       "    <tr>\n",
       "      <th rowspan=\"2\" valign=\"top\">b'sotovik.ru'</th>\n",
       "      <th>18-24</th>\n",
       "      <td>2</td>\n",
       "    </tr>\n",
       "    <tr>\n",
       "      <th>25-34</th>\n",
       "      <td>18</td>\n",
       "    </tr>\n",
       "  </tbody>\n",
       "</table>\n",
       "</div>"
      ],
      "text/plain": [
       "                         age_stat\n",
       "domain            age            \n",
       "b'zebra-zoya.ru'  18-24         1\n",
       "                  35-44         1\n",
       "                  >=55          1\n",
       "b'news.yandex.ru' 18-24       310\n",
       "                  25-34      1370\n",
       "                  35-44      1002\n",
       "                  45-54       557\n",
       "                  >=55        264\n",
       "b'sotovik.ru'     18-24         2\n",
       "                  25-34        18"
      ]
     },
     "execution_count": 297,
     "metadata": {},
     "output_type": "execute_result"
    }
   ],
   "source": [
    "age_stat = pd.DataFrame(df4_train[['domain','age']].groupby([pd.Grouper(key='domain'), 'age']).size(), columns=['age_stat'])\n",
    "age_stat.head(10)"
   ]
  },
  {
   "cell_type": "code",
   "execution_count": 298,
   "metadata": {},
   "outputs": [
    {
     "data": {
      "text/html": [
       "<div>\n",
       "<style scoped>\n",
       "    .dataframe tbody tr th:only-of-type {\n",
       "        vertical-align: middle;\n",
       "    }\n",
       "\n",
       "    .dataframe tbody tr th {\n",
       "        vertical-align: top;\n",
       "    }\n",
       "\n",
       "    .dataframe thead th {\n",
       "        text-align: right;\n",
       "    }\n",
       "</style>\n",
       "<table border=\"1\" class=\"dataframe\">\n",
       "  <thead>\n",
       "    <tr style=\"text-align: right;\">\n",
       "      <th>gender</th>\n",
       "      <th>domain</th>\n",
       "      <th>F</th>\n",
       "      <th>M</th>\n",
       "    </tr>\n",
       "  </thead>\n",
       "  <tbody>\n",
       "    <tr>\n",
       "      <th>0</th>\n",
       "      <td>b'zebra-zoya.ru'</td>\n",
       "      <td>3.0</td>\n",
       "      <td>0.0</td>\n",
       "    </tr>\n",
       "    <tr>\n",
       "      <th>1</th>\n",
       "      <td>b'news.yandex.ru'</td>\n",
       "      <td>1202.0</td>\n",
       "      <td>2301.0</td>\n",
       "    </tr>\n",
       "    <tr>\n",
       "      <th>2</th>\n",
       "      <td>b'sotovik.ru'</td>\n",
       "      <td>7.0</td>\n",
       "      <td>21.0</td>\n",
       "    </tr>\n",
       "    <tr>\n",
       "      <th>3</th>\n",
       "      <td>b'sweetrading.ru'</td>\n",
       "      <td>0.0</td>\n",
       "      <td>2.0</td>\n",
       "    </tr>\n",
       "    <tr>\n",
       "      <th>4</th>\n",
       "      <td>b'101.ru'</td>\n",
       "      <td>301.0</td>\n",
       "      <td>460.0</td>\n",
       "    </tr>\n",
       "  </tbody>\n",
       "</table>\n",
       "</div>"
      ],
      "text/plain": [
       "gender             domain       F       M\n",
       "0        b'zebra-zoya.ru'     3.0     0.0\n",
       "1       b'news.yandex.ru'  1202.0  2301.0\n",
       "2           b'sotovik.ru'     7.0    21.0\n",
       "3       b'sweetrading.ru'     0.0     2.0\n",
       "4               b'101.ru'   301.0   460.0"
      ]
     },
     "execution_count": 298,
     "metadata": {},
     "output_type": "execute_result"
    }
   ],
   "source": [
    "sex_stat = pd.pivot_table(sex_stat, values='sex_stat', index='domain', columns='gender',\n",
    "                           aggfunc='max').fillna(0)\n",
    "sex_stat.reset_index(inplace=True)\n",
    "sex_stat.head()"
   ]
  },
  {
   "cell_type": "code",
   "execution_count": 299,
   "metadata": {},
   "outputs": [
    {
     "data": {
      "text/html": [
       "<div>\n",
       "<style scoped>\n",
       "    .dataframe tbody tr th:only-of-type {\n",
       "        vertical-align: middle;\n",
       "    }\n",
       "\n",
       "    .dataframe tbody tr th {\n",
       "        vertical-align: top;\n",
       "    }\n",
       "\n",
       "    .dataframe thead th {\n",
       "        text-align: right;\n",
       "    }\n",
       "</style>\n",
       "<table border=\"1\" class=\"dataframe\">\n",
       "  <thead>\n",
       "    <tr style=\"text-align: right;\">\n",
       "      <th>gender</th>\n",
       "      <th>domain</th>\n",
       "      <th>F</th>\n",
       "      <th>M</th>\n",
       "    </tr>\n",
       "  </thead>\n",
       "  <tbody>\n",
       "    <tr>\n",
       "      <th>0</th>\n",
       "      <td>b'zebra-zoya.ru'</td>\n",
       "      <td>1.000000</td>\n",
       "      <td>0.000000</td>\n",
       "    </tr>\n",
       "    <tr>\n",
       "      <th>1</th>\n",
       "      <td>b'news.yandex.ru'</td>\n",
       "      <td>0.343134</td>\n",
       "      <td>0.656866</td>\n",
       "    </tr>\n",
       "    <tr>\n",
       "      <th>2</th>\n",
       "      <td>b'sotovik.ru'</td>\n",
       "      <td>0.250000</td>\n",
       "      <td>0.750000</td>\n",
       "    </tr>\n",
       "    <tr>\n",
       "      <th>3</th>\n",
       "      <td>b'sweetrading.ru'</td>\n",
       "      <td>0.000000</td>\n",
       "      <td>1.000000</td>\n",
       "    </tr>\n",
       "    <tr>\n",
       "      <th>4</th>\n",
       "      <td>b'101.ru'</td>\n",
       "      <td>0.395532</td>\n",
       "      <td>0.604468</td>\n",
       "    </tr>\n",
       "  </tbody>\n",
       "</table>\n",
       "</div>"
      ],
      "text/plain": [
       "gender             domain         F         M\n",
       "0        b'zebra-zoya.ru'  1.000000  0.000000\n",
       "1       b'news.yandex.ru'  0.343134  0.656866\n",
       "2           b'sotovik.ru'  0.250000  0.750000\n",
       "3       b'sweetrading.ru'  0.000000  1.000000\n",
       "4               b'101.ru'  0.395532  0.604468"
      ]
     },
     "execution_count": 299,
     "metadata": {},
     "output_type": "execute_result"
    }
   ],
   "source": [
    "sex_stat[['F','M']] = sex_stat[['F','M']].div(sex_stat[['F','M']].sum(axis=1), axis=0)\n",
    "sex_stat.head()"
   ]
  },
  {
   "cell_type": "code",
   "execution_count": 300,
   "metadata": {},
   "outputs": [
    {
     "data": {
      "text/html": [
       "<div>\n",
       "<style scoped>\n",
       "    .dataframe tbody tr th:only-of-type {\n",
       "        vertical-align: middle;\n",
       "    }\n",
       "\n",
       "    .dataframe tbody tr th {\n",
       "        vertical-align: top;\n",
       "    }\n",
       "\n",
       "    .dataframe thead th {\n",
       "        text-align: right;\n",
       "    }\n",
       "</style>\n",
       "<table border=\"1\" class=\"dataframe\">\n",
       "  <thead>\n",
       "    <tr style=\"text-align: right;\">\n",
       "      <th>age</th>\n",
       "      <th>domain</th>\n",
       "      <th>18-24</th>\n",
       "      <th>25-34</th>\n",
       "      <th>35-44</th>\n",
       "      <th>45-54</th>\n",
       "      <th>&gt;=55</th>\n",
       "    </tr>\n",
       "  </thead>\n",
       "  <tbody>\n",
       "    <tr>\n",
       "      <th>0</th>\n",
       "      <td>b'zebra-zoya.ru'</td>\n",
       "      <td>1.0</td>\n",
       "      <td>0.0</td>\n",
       "      <td>1.0</td>\n",
       "      <td>0.0</td>\n",
       "      <td>1.0</td>\n",
       "    </tr>\n",
       "    <tr>\n",
       "      <th>1</th>\n",
       "      <td>b'news.yandex.ru'</td>\n",
       "      <td>310.0</td>\n",
       "      <td>1370.0</td>\n",
       "      <td>1002.0</td>\n",
       "      <td>557.0</td>\n",
       "      <td>264.0</td>\n",
       "    </tr>\n",
       "    <tr>\n",
       "      <th>2</th>\n",
       "      <td>b'sotovik.ru'</td>\n",
       "      <td>2.0</td>\n",
       "      <td>18.0</td>\n",
       "      <td>4.0</td>\n",
       "      <td>4.0</td>\n",
       "      <td>0.0</td>\n",
       "    </tr>\n",
       "    <tr>\n",
       "      <th>3</th>\n",
       "      <td>b'sweetrading.ru'</td>\n",
       "      <td>0.0</td>\n",
       "      <td>2.0</td>\n",
       "      <td>0.0</td>\n",
       "      <td>0.0</td>\n",
       "      <td>0.0</td>\n",
       "    </tr>\n",
       "    <tr>\n",
       "      <th>4</th>\n",
       "      <td>b'101.ru'</td>\n",
       "      <td>65.0</td>\n",
       "      <td>462.0</td>\n",
       "      <td>170.0</td>\n",
       "      <td>28.0</td>\n",
       "      <td>36.0</td>\n",
       "    </tr>\n",
       "  </tbody>\n",
       "</table>\n",
       "</div>"
      ],
      "text/plain": [
       "age             domain  18-24   25-34   35-44  45-54   >=55\n",
       "0     b'zebra-zoya.ru'    1.0     0.0     1.0    0.0    1.0\n",
       "1    b'news.yandex.ru'  310.0  1370.0  1002.0  557.0  264.0\n",
       "2        b'sotovik.ru'    2.0    18.0     4.0    4.0    0.0\n",
       "3    b'sweetrading.ru'    0.0     2.0     0.0    0.0    0.0\n",
       "4            b'101.ru'   65.0   462.0   170.0   28.0   36.0"
      ]
     },
     "execution_count": 300,
     "metadata": {},
     "output_type": "execute_result"
    }
   ],
   "source": [
    "age_stat = pd.pivot_table(age_stat, values='age_stat', index='domain', columns='age',\n",
    "                           aggfunc='max').fillna(0)\n",
    "age_stat.reset_index(inplace=True)\n",
    "age_stat.head()"
   ]
  },
  {
   "cell_type": "code",
   "execution_count": 301,
   "metadata": {},
   "outputs": [
    {
     "data": {
      "text/plain": [
       "Index(['domain', '18-24', '25-34', '35-44', '45-54', '>=55'], dtype='object', name='age')"
      ]
     },
     "execution_count": 301,
     "metadata": {},
     "output_type": "execute_result"
    }
   ],
   "source": [
    "age_stat.columns"
   ]
  },
  {
   "cell_type": "code",
   "execution_count": 302,
   "metadata": {},
   "outputs": [
    {
     "data": {
      "text/html": [
       "<div>\n",
       "<style scoped>\n",
       "    .dataframe tbody tr th:only-of-type {\n",
       "        vertical-align: middle;\n",
       "    }\n",
       "\n",
       "    .dataframe tbody tr th {\n",
       "        vertical-align: top;\n",
       "    }\n",
       "\n",
       "    .dataframe thead th {\n",
       "        text-align: right;\n",
       "    }\n",
       "</style>\n",
       "<table border=\"1\" class=\"dataframe\">\n",
       "  <thead>\n",
       "    <tr style=\"text-align: right;\">\n",
       "      <th>age</th>\n",
       "      <th>domain</th>\n",
       "      <th>18-24</th>\n",
       "      <th>25-34</th>\n",
       "      <th>35-44</th>\n",
       "      <th>45-54</th>\n",
       "      <th>&gt;=55</th>\n",
       "    </tr>\n",
       "  </thead>\n",
       "  <tbody>\n",
       "    <tr>\n",
       "      <th>0</th>\n",
       "      <td>b'zebra-zoya.ru'</td>\n",
       "      <td>0.333333</td>\n",
       "      <td>0.000000</td>\n",
       "      <td>0.333333</td>\n",
       "      <td>0.000000</td>\n",
       "      <td>0.333333</td>\n",
       "    </tr>\n",
       "    <tr>\n",
       "      <th>1</th>\n",
       "      <td>b'news.yandex.ru'</td>\n",
       "      <td>0.088496</td>\n",
       "      <td>0.391093</td>\n",
       "      <td>0.286041</td>\n",
       "      <td>0.159007</td>\n",
       "      <td>0.075364</td>\n",
       "    </tr>\n",
       "    <tr>\n",
       "      <th>2</th>\n",
       "      <td>b'sotovik.ru'</td>\n",
       "      <td>0.071429</td>\n",
       "      <td>0.642857</td>\n",
       "      <td>0.142857</td>\n",
       "      <td>0.142857</td>\n",
       "      <td>0.000000</td>\n",
       "    </tr>\n",
       "    <tr>\n",
       "      <th>3</th>\n",
       "      <td>b'sweetrading.ru'</td>\n",
       "      <td>0.000000</td>\n",
       "      <td>1.000000</td>\n",
       "      <td>0.000000</td>\n",
       "      <td>0.000000</td>\n",
       "      <td>0.000000</td>\n",
       "    </tr>\n",
       "    <tr>\n",
       "      <th>4</th>\n",
       "      <td>b'101.ru'</td>\n",
       "      <td>0.085414</td>\n",
       "      <td>0.607096</td>\n",
       "      <td>0.223390</td>\n",
       "      <td>0.036794</td>\n",
       "      <td>0.047306</td>\n",
       "    </tr>\n",
       "  </tbody>\n",
       "</table>\n",
       "</div>"
      ],
      "text/plain": [
       "age             domain     18-24     25-34     35-44     45-54      >=55\n",
       "0     b'zebra-zoya.ru'  0.333333  0.000000  0.333333  0.000000  0.333333\n",
       "1    b'news.yandex.ru'  0.088496  0.391093  0.286041  0.159007  0.075364\n",
       "2        b'sotovik.ru'  0.071429  0.642857  0.142857  0.142857  0.000000\n",
       "3    b'sweetrading.ru'  0.000000  1.000000  0.000000  0.000000  0.000000\n",
       "4            b'101.ru'  0.085414  0.607096  0.223390  0.036794  0.047306"
      ]
     },
     "execution_count": 302,
     "metadata": {},
     "output_type": "execute_result"
    }
   ],
   "source": [
    "age_stat[['18-24', '25-34', '35-44', '45-54', '>=55']] = age_stat[['18-24', '25-34', '35-44', '45-54', '>=55']].div(age_stat[['18-24', '25-34', '35-44', '45-54', '>=55']].sum(axis=1), axis=0)\n",
    "age_stat.head()"
   ]
  },
  {
   "cell_type": "code",
   "execution_count": 303,
   "metadata": {},
   "outputs": [
    {
     "data": {
      "text/html": [
       "<div>\n",
       "<style scoped>\n",
       "    .dataframe tbody tr th:only-of-type {\n",
       "        vertical-align: middle;\n",
       "    }\n",
       "\n",
       "    .dataframe tbody tr th {\n",
       "        vertical-align: top;\n",
       "    }\n",
       "\n",
       "    .dataframe thead th {\n",
       "        text-align: right;\n",
       "    }\n",
       "</style>\n",
       "<table border=\"1\" class=\"dataframe\">\n",
       "  <thead>\n",
       "    <tr style=\"text-align: right;\">\n",
       "      <th></th>\n",
       "      <th>domain</th>\n",
       "      <th>F</th>\n",
       "      <th>M</th>\n",
       "      <th>18-24</th>\n",
       "      <th>25-34</th>\n",
       "      <th>35-44</th>\n",
       "      <th>45-54</th>\n",
       "      <th>&gt;=55</th>\n",
       "    </tr>\n",
       "  </thead>\n",
       "  <tbody>\n",
       "    <tr>\n",
       "      <th>0</th>\n",
       "      <td>b'zebra-zoya.ru'</td>\n",
       "      <td>1.000000</td>\n",
       "      <td>0.000000</td>\n",
       "      <td>0.333333</td>\n",
       "      <td>0.000000</td>\n",
       "      <td>0.333333</td>\n",
       "      <td>0.000000</td>\n",
       "      <td>0.333333</td>\n",
       "    </tr>\n",
       "    <tr>\n",
       "      <th>1</th>\n",
       "      <td>b'news.yandex.ru'</td>\n",
       "      <td>0.343134</td>\n",
       "      <td>0.656866</td>\n",
       "      <td>0.088496</td>\n",
       "      <td>0.391093</td>\n",
       "      <td>0.286041</td>\n",
       "      <td>0.159007</td>\n",
       "      <td>0.075364</td>\n",
       "    </tr>\n",
       "    <tr>\n",
       "      <th>2</th>\n",
       "      <td>b'sotovik.ru'</td>\n",
       "      <td>0.250000</td>\n",
       "      <td>0.750000</td>\n",
       "      <td>0.071429</td>\n",
       "      <td>0.642857</td>\n",
       "      <td>0.142857</td>\n",
       "      <td>0.142857</td>\n",
       "      <td>0.000000</td>\n",
       "    </tr>\n",
       "    <tr>\n",
       "      <th>3</th>\n",
       "      <td>b'sweetrading.ru'</td>\n",
       "      <td>0.000000</td>\n",
       "      <td>1.000000</td>\n",
       "      <td>0.000000</td>\n",
       "      <td>1.000000</td>\n",
       "      <td>0.000000</td>\n",
       "      <td>0.000000</td>\n",
       "      <td>0.000000</td>\n",
       "    </tr>\n",
       "    <tr>\n",
       "      <th>4</th>\n",
       "      <td>b'101.ru'</td>\n",
       "      <td>0.395532</td>\n",
       "      <td>0.604468</td>\n",
       "      <td>0.085414</td>\n",
       "      <td>0.607096</td>\n",
       "      <td>0.223390</td>\n",
       "      <td>0.036794</td>\n",
       "      <td>0.047306</td>\n",
       "    </tr>\n",
       "  </tbody>\n",
       "</table>\n",
       "</div>"
      ],
      "text/plain": [
       "              domain         F         M     18-24     25-34     35-44  \\\n",
       "0   b'zebra-zoya.ru'  1.000000  0.000000  0.333333  0.000000  0.333333   \n",
       "1  b'news.yandex.ru'  0.343134  0.656866  0.088496  0.391093  0.286041   \n",
       "2      b'sotovik.ru'  0.250000  0.750000  0.071429  0.642857  0.142857   \n",
       "3  b'sweetrading.ru'  0.000000  1.000000  0.000000  1.000000  0.000000   \n",
       "4          b'101.ru'  0.395532  0.604468  0.085414  0.607096  0.223390   \n",
       "\n",
       "      45-54      >=55  \n",
       "0  0.000000  0.333333  \n",
       "1  0.159007  0.075364  \n",
       "2  0.142857  0.000000  \n",
       "3  0.000000  0.000000  \n",
       "4  0.036794  0.047306  "
      ]
     },
     "execution_count": 303,
     "metadata": {},
     "output_type": "execute_result"
    }
   ],
   "source": [
    "sex_age_stat = pd.merge(sex_stat, age_stat, on=['domain', 'domain'])\n",
    "sex_age_stat.head()"
   ]
  },
  {
   "cell_type": "code",
   "execution_count": 304,
   "metadata": {},
   "outputs": [
    {
     "data": {
      "text/plain": [
       "((111581, 8), 111581)"
      ]
     },
     "execution_count": 304,
     "metadata": {},
     "output_type": "execute_result"
    }
   ],
   "source": [
    "sex_age_stat.shape, len(sex_age_stat['domain'].unique())"
   ]
  },
  {
   "cell_type": "markdown",
   "metadata": {},
   "source": [
    "Мы получили статистику по сайтам, которую можно будет применить к тестовой выборке при наличии соответствующего сайта в таблице sex_age_stat"
   ]
  },
  {
   "cell_type": "markdown",
   "metadata": {},
   "source": [
    "Попробуем применить эту таблицу для train и test выборок и проверить результат"
   ]
  },
  {
   "cell_type": "code",
   "execution_count": 305,
   "metadata": {},
   "outputs": [
    {
     "data": {
      "text/html": [
       "<div>\n",
       "<style scoped>\n",
       "    .dataframe tbody tr th:only-of-type {\n",
       "        vertical-align: middle;\n",
       "    }\n",
       "\n",
       "    .dataframe tbody tr th {\n",
       "        vertical-align: top;\n",
       "    }\n",
       "\n",
       "    .dataframe thead th {\n",
       "        text-align: right;\n",
       "    }\n",
       "</style>\n",
       "<table border=\"1\" class=\"dataframe\">\n",
       "  <thead>\n",
       "    <tr style=\"text-align: right;\">\n",
       "      <th></th>\n",
       "      <th>gender</th>\n",
       "      <th>age</th>\n",
       "      <th>uid</th>\n",
       "      <th>domain</th>\n",
       "      <th>day_part</th>\n",
       "      <th>season</th>\n",
       "      <th>week_day</th>\n",
       "      <th>day_type</th>\n",
       "      <th>F</th>\n",
       "      <th>M</th>\n",
       "      <th>18-24</th>\n",
       "      <th>25-34</th>\n",
       "      <th>35-44</th>\n",
       "      <th>45-54</th>\n",
       "      <th>&gt;=55</th>\n",
       "    </tr>\n",
       "  </thead>\n",
       "  <tbody>\n",
       "    <tr>\n",
       "      <th>0</th>\n",
       "      <td>F</td>\n",
       "      <td>18-24</td>\n",
       "      <td>d50192e5-c44e-4ae8-ae7a-7cfe67c8b777</td>\n",
       "      <td>b'zebra-zoya.ru'</td>\n",
       "      <td>Afternoon</td>\n",
       "      <td>Winter</td>\n",
       "      <td>Saturday</td>\n",
       "      <td>Weekend</td>\n",
       "      <td>1.000000</td>\n",
       "      <td>0.000000</td>\n",
       "      <td>0.333333</td>\n",
       "      <td>0.000000</td>\n",
       "      <td>0.333333</td>\n",
       "      <td>0.000000</td>\n",
       "      <td>0.333333</td>\n",
       "    </tr>\n",
       "    <tr>\n",
       "      <th>1</th>\n",
       "      <td>F</td>\n",
       "      <td>18-24</td>\n",
       "      <td>d50192e5-c44e-4ae8-ae7a-7cfe67c8b777</td>\n",
       "      <td>b'news.yandex.ru'</td>\n",
       "      <td>Morning</td>\n",
       "      <td>Spring</td>\n",
       "      <td>Wednesday</td>\n",
       "      <td>Workday</td>\n",
       "      <td>0.343134</td>\n",
       "      <td>0.656866</td>\n",
       "      <td>0.088496</td>\n",
       "      <td>0.391093</td>\n",
       "      <td>0.286041</td>\n",
       "      <td>0.159007</td>\n",
       "      <td>0.075364</td>\n",
       "    </tr>\n",
       "    <tr>\n",
       "      <th>2</th>\n",
       "      <td>F</td>\n",
       "      <td>18-24</td>\n",
       "      <td>d50192e5-c44e-4ae8-ae7a-7cfe67c8b777</td>\n",
       "      <td>b'sotovik.ru'</td>\n",
       "      <td>Morning</td>\n",
       "      <td>Spring</td>\n",
       "      <td>Wednesday</td>\n",
       "      <td>Workday</td>\n",
       "      <td>0.250000</td>\n",
       "      <td>0.750000</td>\n",
       "      <td>0.071429</td>\n",
       "      <td>0.642857</td>\n",
       "      <td>0.142857</td>\n",
       "      <td>0.142857</td>\n",
       "      <td>0.000000</td>\n",
       "    </tr>\n",
       "    <tr>\n",
       "      <th>3</th>\n",
       "      <td>M</td>\n",
       "      <td>25-34</td>\n",
       "      <td>d502331d-621e-4721-ada2-5d30b2c3801f</td>\n",
       "      <td>b'sweetrading.ru'</td>\n",
       "      <td>Night</td>\n",
       "      <td>Winter</td>\n",
       "      <td>Sunday</td>\n",
       "      <td>Weekend</td>\n",
       "      <td>0.000000</td>\n",
       "      <td>1.000000</td>\n",
       "      <td>0.000000</td>\n",
       "      <td>1.000000</td>\n",
       "      <td>0.000000</td>\n",
       "      <td>0.000000</td>\n",
       "      <td>0.000000</td>\n",
       "    </tr>\n",
       "    <tr>\n",
       "      <th>4</th>\n",
       "      <td>M</td>\n",
       "      <td>25-34</td>\n",
       "      <td>d502331d-621e-4721-ada2-5d30b2c3801f</td>\n",
       "      <td>b'101.ru'</td>\n",
       "      <td>Night</td>\n",
       "      <td>Winter</td>\n",
       "      <td>Sunday</td>\n",
       "      <td>Weekend</td>\n",
       "      <td>0.395532</td>\n",
       "      <td>0.604468</td>\n",
       "      <td>0.085414</td>\n",
       "      <td>0.607096</td>\n",
       "      <td>0.223390</td>\n",
       "      <td>0.036794</td>\n",
       "      <td>0.047306</td>\n",
       "    </tr>\n",
       "  </tbody>\n",
       "</table>\n",
       "</div>"
      ],
      "text/plain": [
       "  gender    age                                   uid             domain  \\\n",
       "0      F  18-24  d50192e5-c44e-4ae8-ae7a-7cfe67c8b777   b'zebra-zoya.ru'   \n",
       "1      F  18-24  d50192e5-c44e-4ae8-ae7a-7cfe67c8b777  b'news.yandex.ru'   \n",
       "2      F  18-24  d50192e5-c44e-4ae8-ae7a-7cfe67c8b777      b'sotovik.ru'   \n",
       "3      M  25-34  d502331d-621e-4721-ada2-5d30b2c3801f  b'sweetrading.ru'   \n",
       "4      M  25-34  d502331d-621e-4721-ada2-5d30b2c3801f          b'101.ru'   \n",
       "\n",
       "    day_part  season   week_day day_type         F         M     18-24  \\\n",
       "0  Afternoon  Winter   Saturday  Weekend  1.000000  0.000000  0.333333   \n",
       "1    Morning  Spring  Wednesday  Workday  0.343134  0.656866  0.088496   \n",
       "2    Morning  Spring  Wednesday  Workday  0.250000  0.750000  0.071429   \n",
       "3      Night  Winter     Sunday  Weekend  0.000000  1.000000  0.000000   \n",
       "4      Night  Winter     Sunday  Weekend  0.395532  0.604468  0.085414   \n",
       "\n",
       "      25-34     35-44     45-54      >=55  \n",
       "0  0.000000  0.333333  0.000000  0.333333  \n",
       "1  0.391093  0.286041  0.159007  0.075364  \n",
       "2  0.642857  0.142857  0.142857  0.000000  \n",
       "3  1.000000  0.000000  0.000000  0.000000  \n",
       "4  0.607096  0.223390  0.036794  0.047306  "
      ]
     },
     "execution_count": 305,
     "metadata": {},
     "output_type": "execute_result"
    }
   ],
   "source": [
    "df5_train = pd.merge(df4_train, sex_age_stat, on=['domain', 'domain'], how='left')\n",
    "for i in ['F', 'M', '18-24', '25-34', '35-44', '45-54', '>=55']:\n",
    "    df5_train[i].fillna(df5_train[i].mean(), inplace=True)\n",
    "df5_train.head()"
   ]
  },
  {
   "cell_type": "code",
   "execution_count": 306,
   "metadata": {},
   "outputs": [
    {
     "data": {
      "text/html": [
       "<div>\n",
       "<style scoped>\n",
       "    .dataframe tbody tr th:only-of-type {\n",
       "        vertical-align: middle;\n",
       "    }\n",
       "\n",
       "    .dataframe tbody tr th {\n",
       "        vertical-align: top;\n",
       "    }\n",
       "\n",
       "    .dataframe thead th {\n",
       "        text-align: right;\n",
       "    }\n",
       "</style>\n",
       "<table border=\"1\" class=\"dataframe\">\n",
       "  <thead>\n",
       "    <tr style=\"text-align: right;\">\n",
       "      <th></th>\n",
       "      <th>gender</th>\n",
       "      <th>age</th>\n",
       "      <th>uid</th>\n",
       "      <th>domain</th>\n",
       "      <th>day_part</th>\n",
       "      <th>season</th>\n",
       "      <th>week_day</th>\n",
       "      <th>day_type</th>\n",
       "      <th>F</th>\n",
       "      <th>M</th>\n",
       "      <th>18-24</th>\n",
       "      <th>25-34</th>\n",
       "      <th>35-44</th>\n",
       "      <th>45-54</th>\n",
       "      <th>&gt;=55</th>\n",
       "    </tr>\n",
       "  </thead>\n",
       "  <tbody>\n",
       "    <tr>\n",
       "      <th>0</th>\n",
       "      <td>-</td>\n",
       "      <td>-</td>\n",
       "      <td>bd7a30e1-a25d-4cbf-a03f-61748cbe540e</td>\n",
       "      <td>b'interfax.ru'</td>\n",
       "      <td>Afternoon</td>\n",
       "      <td>Winter</td>\n",
       "      <td>Sunday</td>\n",
       "      <td>Weekend</td>\n",
       "      <td>0.259488</td>\n",
       "      <td>0.740512</td>\n",
       "      <td>0.107679</td>\n",
       "      <td>0.410856</td>\n",
       "      <td>0.238305</td>\n",
       "      <td>0.161959</td>\n",
       "      <td>0.081200</td>\n",
       "    </tr>\n",
       "    <tr>\n",
       "      <th>1</th>\n",
       "      <td>-</td>\n",
       "      <td>-</td>\n",
       "      <td>bd7a30e1-a25d-4cbf-a03f-61748cbe540e</td>\n",
       "      <td>b'amerikan-gruzovik.ru'</td>\n",
       "      <td>Afternoon</td>\n",
       "      <td>Winter</td>\n",
       "      <td>Saturday</td>\n",
       "      <td>Weekend</td>\n",
       "      <td>0.392251</td>\n",
       "      <td>0.607749</td>\n",
       "      <td>0.101705</td>\n",
       "      <td>0.386701</td>\n",
       "      <td>0.306129</td>\n",
       "      <td>0.148989</td>\n",
       "      <td>0.056477</td>\n",
       "    </tr>\n",
       "    <tr>\n",
       "      <th>2</th>\n",
       "      <td>-</td>\n",
       "      <td>-</td>\n",
       "      <td>bd7a30e1-a25d-4cbf-a03f-61748cbe540e</td>\n",
       "      <td>b'tv.jampo.tv'</td>\n",
       "      <td>Morning</td>\n",
       "      <td>Winter</td>\n",
       "      <td>Saturday</td>\n",
       "      <td>Weekend</td>\n",
       "      <td>0.200000</td>\n",
       "      <td>0.800000</td>\n",
       "      <td>0.080000</td>\n",
       "      <td>0.426667</td>\n",
       "      <td>0.400000</td>\n",
       "      <td>0.013333</td>\n",
       "      <td>0.080000</td>\n",
       "    </tr>\n",
       "    <tr>\n",
       "      <th>3</th>\n",
       "      <td>-</td>\n",
       "      <td>-</td>\n",
       "      <td>bd7a30e1-a25d-4cbf-a03f-61748cbe540e</td>\n",
       "      <td>b'sovsekretno.ru'</td>\n",
       "      <td>Morning</td>\n",
       "      <td>Winter</td>\n",
       "      <td>Friday</td>\n",
       "      <td>Workday</td>\n",
       "      <td>0.190789</td>\n",
       "      <td>0.809211</td>\n",
       "      <td>0.026316</td>\n",
       "      <td>0.289474</td>\n",
       "      <td>0.414474</td>\n",
       "      <td>0.217105</td>\n",
       "      <td>0.052632</td>\n",
       "    </tr>\n",
       "    <tr>\n",
       "      <th>4</th>\n",
       "      <td>-</td>\n",
       "      <td>-</td>\n",
       "      <td>bd7a30e1-a25d-4cbf-a03f-61748cbe540e</td>\n",
       "      <td>b'marketgid.com'</td>\n",
       "      <td>Morning</td>\n",
       "      <td>Winter</td>\n",
       "      <td>Friday</td>\n",
       "      <td>Workday</td>\n",
       "      <td>0.348577</td>\n",
       "      <td>0.651423</td>\n",
       "      <td>0.054596</td>\n",
       "      <td>0.295847</td>\n",
       "      <td>0.228651</td>\n",
       "      <td>0.248717</td>\n",
       "      <td>0.172189</td>\n",
       "    </tr>\n",
       "  </tbody>\n",
       "</table>\n",
       "</div>"
      ],
      "text/plain": [
       "  gender age                                   uid                   domain  \\\n",
       "0      -   -  bd7a30e1-a25d-4cbf-a03f-61748cbe540e           b'interfax.ru'   \n",
       "1      -   -  bd7a30e1-a25d-4cbf-a03f-61748cbe540e  b'amerikan-gruzovik.ru'   \n",
       "2      -   -  bd7a30e1-a25d-4cbf-a03f-61748cbe540e           b'tv.jampo.tv'   \n",
       "3      -   -  bd7a30e1-a25d-4cbf-a03f-61748cbe540e        b'sovsekretno.ru'   \n",
       "4      -   -  bd7a30e1-a25d-4cbf-a03f-61748cbe540e         b'marketgid.com'   \n",
       "\n",
       "    day_part  season  week_day day_type         F         M     18-24  \\\n",
       "0  Afternoon  Winter    Sunday  Weekend  0.259488  0.740512  0.107679   \n",
       "1  Afternoon  Winter  Saturday  Weekend  0.392251  0.607749  0.101705   \n",
       "2    Morning  Winter  Saturday  Weekend  0.200000  0.800000  0.080000   \n",
       "3    Morning  Winter    Friday  Workday  0.190789  0.809211  0.026316   \n",
       "4    Morning  Winter    Friday  Workday  0.348577  0.651423  0.054596   \n",
       "\n",
       "      25-34     35-44     45-54      >=55  \n",
       "0  0.410856  0.238305  0.161959  0.081200  \n",
       "1  0.386701  0.306129  0.148989  0.056477  \n",
       "2  0.426667  0.400000  0.013333  0.080000  \n",
       "3  0.289474  0.414474  0.217105  0.052632  \n",
       "4  0.295847  0.228651  0.248717  0.172189  "
      ]
     },
     "execution_count": 306,
     "metadata": {},
     "output_type": "execute_result"
    }
   ],
   "source": [
    "df5_test = pd.merge(df4_test, sex_age_stat, on=['domain', 'domain'], how='left')\n",
    "for i in ['F', 'M', '18-24', '25-34', '35-44', '45-54', '>=55']:\n",
    "    df5_test[i].fillna(df5_test[i].mean(), inplace=True)\n",
    "df5_test.head()"
   ]
  },
  {
   "cell_type": "code",
   "execution_count": 307,
   "metadata": {},
   "outputs": [],
   "source": [
    "#Делаем весь столбец 'user_json' форматом json\n",
    "#df['user_json'] = df['user_json'].apply(json.loads)\n",
    "#result.set_index(['uid','timestamp']).url\n",
    "\n",
    "#df.groupby(['uid']).count()\n",
    "\n",
    "#dataset4.reset_index(drop = False, inplace = True)\n",
    "\n",
    "#json_normalize(json.loads(df.iloc[0].user_json), 'visits')\n",
    "\n",
    "#json_normalize(df.iloc[0].user_json, 'visits')\n",
    "\n",
    "#df2_norm['domain'].astype(str)\n",
    "\n",
    "#df2_norm.drop(labels=['timestamp','datetime'],axis=1, inplace=True)\n",
    "#df2_norm.head()\n",
    "\n",
    "#df2_drop[~df2_drop['url'].str.contains('http')]\n",
    "\n",
    "#df2_drop.drop('domain', axis=1, inplace=True)\n",
    "#part_stat = pd.DataFrame(df2_drop[['domain','gender']].groupby([pd.Grouper(key='domain'), 'part']).size(), \\\n",
    "#                        columns=['part_stat'])\n",
    "#part_stat.head(10)\n",
    "#df2_drop.drop(labels=['timestamp','datetime'],axis=1, inplace=True)"
   ]
  },
  {
   "cell_type": "markdown",
   "metadata": {},
   "source": [
    "### Train test split, lable encoding"
   ]
  },
  {
   "cell_type": "markdown",
   "metadata": {},
   "source": [
    "Когда вы очистили данные и сгенерировали признаки, которые можно дать на вход алгоритму, следующий этап — это разделить данные на тренировочную и тестовую выборки. Сохраните train и test выборки в отдельных файлах, используя метод `pandas.DataFrame.to_csv`. Либо просто сделайте два датафрейма: `train_df` и `test_df`. Обучите модель на ваш выбор, оцените результат, подумайте, как можно его улучшить."
   ]
  },
  {
   "cell_type": "markdown",
   "metadata": {},
   "source": [
    "Train:"
   ]
  },
  {
   "cell_type": "code",
   "execution_count": 53,
   "metadata": {},
   "outputs": [],
   "source": [
    "df5_train['domain']   = le_domain  .transform(df5_train['domain'].astype(str))"
   ]
  },
  {
   "cell_type": "code",
   "execution_count": 308,
   "metadata": {},
   "outputs": [],
   "source": [
    "#df5_train['domain']   = le_domain  .transform(df5_train['domain'].astype(str))\n",
    "df5_train['day_part'] = le_day_part.transform(df5_train['day_part'].astype(str))\n",
    "df5_train['season']   = le_season  .transform(df5_train['season'].astype(str))\n",
    "df5_train['week_day'] = le_week_day.transform(df5_train['week_day'].astype(str))\n",
    "df5_train['day_type'] = le_day_type.transform(df5_train['day_type'].astype(str))\n",
    "df5_train['gender']   = le_gender  .transform(df5_train['gender'].astype(str))\n",
    "df5_train['age']      = le_age     .transform(df5_train['age'].astype(str))"
   ]
  },
  {
   "cell_type": "code",
   "execution_count": 309,
   "metadata": {},
   "outputs": [
    {
     "data": {
      "text/html": [
       "<div>\n",
       "<style scoped>\n",
       "    .dataframe tbody tr th:only-of-type {\n",
       "        vertical-align: middle;\n",
       "    }\n",
       "\n",
       "    .dataframe tbody tr th {\n",
       "        vertical-align: top;\n",
       "    }\n",
       "\n",
       "    .dataframe thead th {\n",
       "        text-align: right;\n",
       "    }\n",
       "</style>\n",
       "<table border=\"1\" class=\"dataframe\">\n",
       "  <thead>\n",
       "    <tr style=\"text-align: right;\">\n",
       "      <th></th>\n",
       "      <th>gender</th>\n",
       "      <th>age</th>\n",
       "      <th>uid</th>\n",
       "      <th>domain</th>\n",
       "      <th>day_part</th>\n",
       "      <th>season</th>\n",
       "      <th>week_day</th>\n",
       "      <th>day_type</th>\n",
       "      <th>F</th>\n",
       "      <th>M</th>\n",
       "      <th>18-24</th>\n",
       "      <th>25-34</th>\n",
       "      <th>35-44</th>\n",
       "      <th>45-54</th>\n",
       "      <th>&gt;=55</th>\n",
       "    </tr>\n",
       "  </thead>\n",
       "  <tbody>\n",
       "    <tr>\n",
       "      <th>0</th>\n",
       "      <td>0</td>\n",
       "      <td>0</td>\n",
       "      <td>d50192e5-c44e-4ae8-ae7a-7cfe67c8b777</td>\n",
       "      <td>b'zebra-zoya.ru'</td>\n",
       "      <td>0</td>\n",
       "      <td>3</td>\n",
       "      <td>2</td>\n",
       "      <td>0</td>\n",
       "      <td>1.000000</td>\n",
       "      <td>0.000000</td>\n",
       "      <td>0.333333</td>\n",
       "      <td>0.000000</td>\n",
       "      <td>0.333333</td>\n",
       "      <td>0.000000</td>\n",
       "      <td>0.333333</td>\n",
       "    </tr>\n",
       "    <tr>\n",
       "      <th>1</th>\n",
       "      <td>0</td>\n",
       "      <td>0</td>\n",
       "      <td>d50192e5-c44e-4ae8-ae7a-7cfe67c8b777</td>\n",
       "      <td>b'news.yandex.ru'</td>\n",
       "      <td>2</td>\n",
       "      <td>1</td>\n",
       "      <td>6</td>\n",
       "      <td>1</td>\n",
       "      <td>0.343134</td>\n",
       "      <td>0.656866</td>\n",
       "      <td>0.088496</td>\n",
       "      <td>0.391093</td>\n",
       "      <td>0.286041</td>\n",
       "      <td>0.159007</td>\n",
       "      <td>0.075364</td>\n",
       "    </tr>\n",
       "    <tr>\n",
       "      <th>2</th>\n",
       "      <td>0</td>\n",
       "      <td>0</td>\n",
       "      <td>d50192e5-c44e-4ae8-ae7a-7cfe67c8b777</td>\n",
       "      <td>b'sotovik.ru'</td>\n",
       "      <td>2</td>\n",
       "      <td>1</td>\n",
       "      <td>6</td>\n",
       "      <td>1</td>\n",
       "      <td>0.250000</td>\n",
       "      <td>0.750000</td>\n",
       "      <td>0.071429</td>\n",
       "      <td>0.642857</td>\n",
       "      <td>0.142857</td>\n",
       "      <td>0.142857</td>\n",
       "      <td>0.000000</td>\n",
       "    </tr>\n",
       "    <tr>\n",
       "      <th>3</th>\n",
       "      <td>1</td>\n",
       "      <td>1</td>\n",
       "      <td>d502331d-621e-4721-ada2-5d30b2c3801f</td>\n",
       "      <td>b'sweetrading.ru'</td>\n",
       "      <td>3</td>\n",
       "      <td>3</td>\n",
       "      <td>3</td>\n",
       "      <td>0</td>\n",
       "      <td>0.000000</td>\n",
       "      <td>1.000000</td>\n",
       "      <td>0.000000</td>\n",
       "      <td>1.000000</td>\n",
       "      <td>0.000000</td>\n",
       "      <td>0.000000</td>\n",
       "      <td>0.000000</td>\n",
       "    </tr>\n",
       "    <tr>\n",
       "      <th>4</th>\n",
       "      <td>1</td>\n",
       "      <td>1</td>\n",
       "      <td>d502331d-621e-4721-ada2-5d30b2c3801f</td>\n",
       "      <td>b'101.ru'</td>\n",
       "      <td>3</td>\n",
       "      <td>3</td>\n",
       "      <td>3</td>\n",
       "      <td>0</td>\n",
       "      <td>0.395532</td>\n",
       "      <td>0.604468</td>\n",
       "      <td>0.085414</td>\n",
       "      <td>0.607096</td>\n",
       "      <td>0.223390</td>\n",
       "      <td>0.036794</td>\n",
       "      <td>0.047306</td>\n",
       "    </tr>\n",
       "  </tbody>\n",
       "</table>\n",
       "</div>"
      ],
      "text/plain": [
       "   gender  age                                   uid             domain  \\\n",
       "0       0    0  d50192e5-c44e-4ae8-ae7a-7cfe67c8b777   b'zebra-zoya.ru'   \n",
       "1       0    0  d50192e5-c44e-4ae8-ae7a-7cfe67c8b777  b'news.yandex.ru'   \n",
       "2       0    0  d50192e5-c44e-4ae8-ae7a-7cfe67c8b777      b'sotovik.ru'   \n",
       "3       1    1  d502331d-621e-4721-ada2-5d30b2c3801f  b'sweetrading.ru'   \n",
       "4       1    1  d502331d-621e-4721-ada2-5d30b2c3801f          b'101.ru'   \n",
       "\n",
       "   day_part  season  week_day  day_type         F         M     18-24  \\\n",
       "0         0       3         2         0  1.000000  0.000000  0.333333   \n",
       "1         2       1         6         1  0.343134  0.656866  0.088496   \n",
       "2         2       1         6         1  0.250000  0.750000  0.071429   \n",
       "3         3       3         3         0  0.000000  1.000000  0.000000   \n",
       "4         3       3         3         0  0.395532  0.604468  0.085414   \n",
       "\n",
       "      25-34     35-44     45-54      >=55  \n",
       "0  0.000000  0.333333  0.000000  0.333333  \n",
       "1  0.391093  0.286041  0.159007  0.075364  \n",
       "2  0.642857  0.142857  0.142857  0.000000  \n",
       "3  1.000000  0.000000  0.000000  0.000000  \n",
       "4  0.607096  0.223390  0.036794  0.047306  "
      ]
     },
     "execution_count": 309,
     "metadata": {},
     "output_type": "execute_result"
    }
   ],
   "source": [
    "df5_train.head()"
   ]
  },
  {
   "cell_type": "markdown",
   "metadata": {},
   "source": [
    "Test:"
   ]
  },
  {
   "cell_type": "code",
   "execution_count": 56,
   "metadata": {},
   "outputs": [],
   "source": [
    "#df5_test['domain']   = le_domain  .transform(df5_test['domain'].astype(str))\n",
    "df5_test['day_part'] = le_day_part.transform(df5_test['day_part'].astype(str))\n",
    "df5_test['season']   = le_season  .transform(df5_test['season'].astype(str))\n",
    "df5_test['week_day'] = le_week_day.transform(df5_test['week_day'].astype(str))\n",
    "df5_test['day_type'] = le_day_type.transform(df5_test['day_type'].astype(str))"
   ]
  },
  {
   "cell_type": "code",
   "execution_count": 57,
   "metadata": {},
   "outputs": [
    {
     "data": {
      "text/html": [
       "<div>\n",
       "<style scoped>\n",
       "    .dataframe tbody tr th:only-of-type {\n",
       "        vertical-align: middle;\n",
       "    }\n",
       "\n",
       "    .dataframe tbody tr th {\n",
       "        vertical-align: top;\n",
       "    }\n",
       "\n",
       "    .dataframe thead th {\n",
       "        text-align: right;\n",
       "    }\n",
       "</style>\n",
       "<table border=\"1\" class=\"dataframe\">\n",
       "  <thead>\n",
       "    <tr style=\"text-align: right;\">\n",
       "      <th></th>\n",
       "      <th>gender</th>\n",
       "      <th>age</th>\n",
       "      <th>uid</th>\n",
       "      <th>domain</th>\n",
       "      <th>day_part</th>\n",
       "      <th>season</th>\n",
       "      <th>week_day</th>\n",
       "      <th>day_type</th>\n",
       "      <th>F</th>\n",
       "      <th>M</th>\n",
       "      <th>18-24</th>\n",
       "      <th>25-34</th>\n",
       "      <th>35-44</th>\n",
       "      <th>45-54</th>\n",
       "      <th>&gt;=55</th>\n",
       "    </tr>\n",
       "  </thead>\n",
       "  <tbody>\n",
       "    <tr>\n",
       "      <th>0</th>\n",
       "      <td>-</td>\n",
       "      <td>-</td>\n",
       "      <td>bd7a30e1-a25d-4cbf-a03f-61748cbe540e</td>\n",
       "      <td>b'interfax.ru'</td>\n",
       "      <td>0</td>\n",
       "      <td>3</td>\n",
       "      <td>3</td>\n",
       "      <td>0</td>\n",
       "      <td>0.259488</td>\n",
       "      <td>0.740512</td>\n",
       "      <td>0.107679</td>\n",
       "      <td>0.410856</td>\n",
       "      <td>0.238305</td>\n",
       "      <td>0.161959</td>\n",
       "      <td>0.081200</td>\n",
       "    </tr>\n",
       "    <tr>\n",
       "      <th>1</th>\n",
       "      <td>-</td>\n",
       "      <td>-</td>\n",
       "      <td>bd7a30e1-a25d-4cbf-a03f-61748cbe540e</td>\n",
       "      <td>b'amerikan-gruzovik.ru'</td>\n",
       "      <td>0</td>\n",
       "      <td>3</td>\n",
       "      <td>2</td>\n",
       "      <td>0</td>\n",
       "      <td>0.392251</td>\n",
       "      <td>0.607749</td>\n",
       "      <td>0.101705</td>\n",
       "      <td>0.386701</td>\n",
       "      <td>0.306129</td>\n",
       "      <td>0.148989</td>\n",
       "      <td>0.056477</td>\n",
       "    </tr>\n",
       "    <tr>\n",
       "      <th>2</th>\n",
       "      <td>-</td>\n",
       "      <td>-</td>\n",
       "      <td>bd7a30e1-a25d-4cbf-a03f-61748cbe540e</td>\n",
       "      <td>b'tv.jampo.tv'</td>\n",
       "      <td>2</td>\n",
       "      <td>3</td>\n",
       "      <td>2</td>\n",
       "      <td>0</td>\n",
       "      <td>0.200000</td>\n",
       "      <td>0.800000</td>\n",
       "      <td>0.080000</td>\n",
       "      <td>0.426667</td>\n",
       "      <td>0.400000</td>\n",
       "      <td>0.013333</td>\n",
       "      <td>0.080000</td>\n",
       "    </tr>\n",
       "    <tr>\n",
       "      <th>3</th>\n",
       "      <td>-</td>\n",
       "      <td>-</td>\n",
       "      <td>bd7a30e1-a25d-4cbf-a03f-61748cbe540e</td>\n",
       "      <td>b'sovsekretno.ru'</td>\n",
       "      <td>2</td>\n",
       "      <td>3</td>\n",
       "      <td>0</td>\n",
       "      <td>1</td>\n",
       "      <td>0.190789</td>\n",
       "      <td>0.809211</td>\n",
       "      <td>0.026316</td>\n",
       "      <td>0.289474</td>\n",
       "      <td>0.414474</td>\n",
       "      <td>0.217105</td>\n",
       "      <td>0.052632</td>\n",
       "    </tr>\n",
       "    <tr>\n",
       "      <th>4</th>\n",
       "      <td>-</td>\n",
       "      <td>-</td>\n",
       "      <td>bd7a30e1-a25d-4cbf-a03f-61748cbe540e</td>\n",
       "      <td>b'marketgid.com'</td>\n",
       "      <td>2</td>\n",
       "      <td>3</td>\n",
       "      <td>0</td>\n",
       "      <td>1</td>\n",
       "      <td>0.348577</td>\n",
       "      <td>0.651423</td>\n",
       "      <td>0.054596</td>\n",
       "      <td>0.295847</td>\n",
       "      <td>0.228651</td>\n",
       "      <td>0.248717</td>\n",
       "      <td>0.172189</td>\n",
       "    </tr>\n",
       "  </tbody>\n",
       "</table>\n",
       "</div>"
      ],
      "text/plain": [
       "  gender age                                   uid                   domain  \\\n",
       "0      -   -  bd7a30e1-a25d-4cbf-a03f-61748cbe540e           b'interfax.ru'   \n",
       "1      -   -  bd7a30e1-a25d-4cbf-a03f-61748cbe540e  b'amerikan-gruzovik.ru'   \n",
       "2      -   -  bd7a30e1-a25d-4cbf-a03f-61748cbe540e           b'tv.jampo.tv'   \n",
       "3      -   -  bd7a30e1-a25d-4cbf-a03f-61748cbe540e        b'sovsekretno.ru'   \n",
       "4      -   -  bd7a30e1-a25d-4cbf-a03f-61748cbe540e         b'marketgid.com'   \n",
       "\n",
       "   day_part  season  week_day  day_type         F         M     18-24  \\\n",
       "0         0       3         3         0  0.259488  0.740512  0.107679   \n",
       "1         0       3         2         0  0.392251  0.607749  0.101705   \n",
       "2         2       3         2         0  0.200000  0.800000  0.080000   \n",
       "3         2       3         0         1  0.190789  0.809211  0.026316   \n",
       "4         2       3         0         1  0.348577  0.651423  0.054596   \n",
       "\n",
       "      25-34     35-44     45-54      >=55  \n",
       "0  0.410856  0.238305  0.161959  0.081200  \n",
       "1  0.386701  0.306129  0.148989  0.056477  \n",
       "2  0.426667  0.400000  0.013333  0.080000  \n",
       "3  0.289474  0.414474  0.217105  0.052632  \n",
       "4  0.295847  0.228651  0.248717  0.172189  "
      ]
     },
     "execution_count": 57,
     "metadata": {},
     "output_type": "execute_result"
    }
   ],
   "source": [
    "df5_test.head()"
   ]
  },
  {
   "cell_type": "markdown",
   "metadata": {},
   "source": [
    "Когда вы очистили данные и сгенерировали признаки, которые можно дать на вход алгоритму, следующий этап — это разделить данные на тренировочную и тестовую выборки. Сохраните train и test выборки в отдельных файлах, используя метод `pandas.DataFrame.to_csv`. Либо просто сделайте два датафрейма: `train_df` и `test_df`. Обучите модель на ваш выбор, оцените результат, подумайте, как можно его улучшить."
   ]
  },
  {
   "cell_type": "code",
   "execution_count": 198,
   "metadata": {},
   "outputs": [],
   "source": [
    "from sklearn.model_selection import train_test_split"
   ]
  },
  {
   "cell_type": "code",
   "execution_count": 390,
   "metadata": {},
   "outputs": [],
   "source": [
    "x = np.array(df5_train.drop(labels=['gender','age','domain'],axis=1))\n",
    "y = np.array(df5_train[['gender', 'age']])\n",
    "x_test = np.array(df5_test.drop(labels=['gender','age','uid','domain'],axis=1))\n",
    "x_train, x_val, y_train, y_val = train_test_split(x,y,test_size = 0.33,random_state = 42)"
   ]
  },
  {
   "cell_type": "code",
   "execution_count": 391,
   "metadata": {},
   "outputs": [
    {
     "data": {
      "text/plain": [
       "((680176, 12), (335013, 12))"
      ]
     },
     "execution_count": 391,
     "metadata": {},
     "output_type": "execute_result"
    }
   ],
   "source": [
    "x_train.shape, x_val.shape"
   ]
  },
  {
   "cell_type": "markdown",
   "metadata": {},
   "source": [
    "## Boosting"
   ]
  },
  {
   "cell_type": "code",
   "execution_count": 393,
   "metadata": {},
   "outputs": [],
   "source": [
    "from sklearn.multiclass import OneVsRestClassifier\n",
    "from xgboost import XGBClassifier\n",
    "from sklearn.preprocessing import MultiLabelBinarizer\n",
    "from sklearn.multiclass import OneVsOneClassifier\n",
    "from sklearn.metrics import f1_score, accuracy_score, average_precision_score,\\\n",
    "                            confusion_matrix, roc_curve, precision_recall_curve, auc\n",
    "\n",
    "import catboost as ctboost\n",
    "from sklearn.model_selection import GridSearchCV\n",
    "from sklearn.ensemble import RandomForestClassifier\n",
    "from sklearn.tree import DecisionTreeClassifier as DT"
   ]
  },
  {
   "cell_type": "code",
   "execution_count": 394,
   "metadata": {},
   "outputs": [],
   "source": [
    "#clf = OneVsRestClassifier(XGBClassifier(n_jobs=-1, max_depth=4))\n",
    "\n",
    "#ctb_gender = OneVsRestClassifier(ctboost.CatBoostClassifier(allow_writing_files=False))\n",
    "#ctb_age = OneVsRestClassifier(XGBClassifier(n_jobs=4, max_depth=4))"
   ]
  },
  {
   "cell_type": "markdown",
   "metadata": {},
   "source": [
    "Модель для гендера"
   ]
  },
  {
   "cell_type": "code",
   "execution_count": 395,
   "metadata": {},
   "outputs": [
    {
     "data": {
      "text/plain": [
       "XGBClassifier(base_score=0.5, booster='gbtree', colsample_bylevel=1,\n",
       "       colsample_bytree=1, gamma=0, learning_rate=0.1, max_delta_step=0,\n",
       "       max_depth=4, min_child_weight=1, missing=None, n_estimators=10,\n",
       "       n_jobs=4, nthread=None, objective='binary:logistic', random_state=0,\n",
       "       reg_alpha=0, reg_lambda=1, scale_pos_weight=1, seed=None,\n",
       "       silent=True, subsample=1)"
      ]
     },
     "execution_count": 395,
     "metadata": {},
     "output_type": "execute_result"
    }
   ],
   "source": [
    "ctb_gender = XGBClassifier(n_jobs=4, max_depth=4, n_estimators=10)\n",
    "ctb_gender.fit(x_train[:,1:], y_train[:,0])"
   ]
  },
  {
   "cell_type": "code",
   "execution_count": 205,
   "metadata": {},
   "outputs": [],
   "source": [
    "#ctb_gender = XGBClassifier(n_jobs=4)\n",
    "\n",
    "#parameters = {'max_depth': [2, 4, 10, 50, 100], 'n_estimators': [2, 4, 10, 20, 50, 100]}\n",
    "\n",
    "#ctb_cv = (GridSearchCV(ctb_age, param_grid = parameters, scoring = 'accuracy', cv=5))\n",
    "\n",
    "#ctb_cv.fit(x_train, y_train[:,0])\n",
    "#print(ctb_cv.best_params_)"
   ]
  },
  {
   "cell_type": "markdown",
   "metadata": {},
   "source": [
    "Результат по гендеру"
   ]
  },
  {
   "cell_type": "code",
   "execution_count": 396,
   "metadata": {},
   "outputs": [
    {
     "name": "stderr",
     "output_type": "stream",
     "text": [
      "/opt/anaconda/envs/bd9/lib/python3.6/site-packages/sklearn/preprocessing/label.py:151: DeprecationWarning: The truth value of an empty array is ambiguous. Returning False, but in future this will result in an error. Use `array.size > 0` to check that an array is not empty.\n",
      "  if diff:\n"
     ]
    },
    {
     "name": "stdout",
     "output_type": "stream",
     "text": [
      "Confusion matrix for Decision Tree:\n",
      "      Predicted Zeros Predicted Ones\n",
      "Zeros           73813          29191\n",
      "Ones            64894         167115\n"
     ]
    }
   ],
   "source": [
    "predictions_gender = ctb_gender.predict(x_val[:,1:])\n",
    "confusion = pd.DataFrame(confusion_matrix(y_val[:,0], predictions_gender))\n",
    "\n",
    "TN, FP = confusion[0][0], confusion[0][1]\n",
    "FN, TP = confusion[1][0], confusion[1][1]\n",
    "\n",
    "print('Confusion matrix for Decision Tree:')\n",
    "data = np.array([['','Predicted Zeros','Predicted Ones'],\n",
    "            ['Zeros',TN,FP],\n",
    "            ['Ones',FN,TP]])\n",
    "\n",
    "print(pd.DataFrame(data=data[1:,1:],\n",
    "              index=data[1:,0],\n",
    "              columns=data[0,1:]))"
   ]
  },
  {
   "cell_type": "code",
   "execution_count": 397,
   "metadata": {},
   "outputs": [
    {
     "name": "stderr",
     "output_type": "stream",
     "text": [
      "/opt/anaconda/envs/bd9/lib/python3.6/site-packages/sklearn/preprocessing/label.py:151: DeprecationWarning: The truth value of an empty array is ambiguous. Returning False, but in future this will result in an error. Use `array.size > 0` to check that an array is not empty.\n",
      "  if diff:\n"
     ]
    },
    {
     "data": {
      "text/plain": [
       "0.7191601519941018"
      ]
     },
     "execution_count": 397,
     "metadata": {},
     "output_type": "execute_result"
    }
   ],
   "source": [
    "ctb_gender.score(x_val[:,1:],y_val[:,0])"
   ]
  },
  {
   "cell_type": "markdown",
   "metadata": {},
   "source": [
    "Модель для возраста"
   ]
  },
  {
   "cell_type": "code",
   "execution_count": 208,
   "metadata": {},
   "outputs": [],
   "source": [
    "#mlb = MultiLabelBinarizer()\n",
    "\n",
    "#y_age = mlb.fit_transform(y_train[:,1].reshape(-1,1))\n",
    "\n",
    "#y_val_t = mlb.transform(y_val[:,1].reshape(-1,1))"
   ]
  },
  {
   "cell_type": "code",
   "execution_count": 209,
   "metadata": {},
   "outputs": [],
   "source": [
    "#ctb_age = XGBClassifier(n_jobs=4)\n",
    "\n",
    "#parameters = {'max_depth': [2, 4, 10, 50, 100], 'n_estimators': [2, 4, 10, 20, 50, 100]}\n",
    "\n",
    "#ctb_cv = OneVsRestClassifier((GridSearchCV(ctb_age, param_grid = parameters, scoring = 'accuracy', cv=5)))\n",
    "\n",
    "#ctb_cv.fit(x_train, y_train[:,1])\n",
    "#print(ctb_cv.best_params_)"
   ]
  },
  {
   "cell_type": "code",
   "execution_count": 398,
   "metadata": {},
   "outputs": [
    {
     "data": {
      "text/plain": [
       "OneVsOneClassifier(estimator=XGBClassifier(base_score=0.5, booster='gbtree', colsample_bylevel=1,\n",
       "       colsample_bytree=1, gamma=0, learning_rate=0.1, max_delta_step=0,\n",
       "       max_depth=10, min_child_weight=1, missing=None, n_estimators=10,\n",
       "       n_jobs=4, nthread=None, objective='binary:logistic', random_state=0,\n",
       "       reg_alpha=0, reg_lambda=1, scale_pos_weight=1, seed=None,\n",
       "       silent=True, subsample=1),\n",
       "          n_jobs=1)"
      ]
     },
     "execution_count": 398,
     "metadata": {},
     "output_type": "execute_result"
    }
   ],
   "source": [
    "ctb_age = OneVsOneClassifier(XGBClassifier(n_jobs=4, max_depth=10, n_estimators=10))\n",
    "ctb_age.fit(x_train[:,1:], y_train[:,1])"
   ]
  },
  {
   "cell_type": "markdown",
   "metadata": {},
   "source": [
    "Результат по возрасту"
   ]
  },
  {
   "cell_type": "code",
   "execution_count": 211,
   "metadata": {},
   "outputs": [
    {
     "name": "stderr",
     "output_type": "stream",
     "text": [
      "/opt/anaconda/envs/bd9/lib/python3.6/site-packages/sklearn/preprocessing/label.py:151: DeprecationWarning: The truth value of an empty array is ambiguous. Returning False, but in future this will result in an error. Use `array.size > 0` to check that an array is not empty.\n",
      "  if diff:\n",
      "/opt/anaconda/envs/bd9/lib/python3.6/site-packages/sklearn/preprocessing/label.py:151: DeprecationWarning: The truth value of an empty array is ambiguous. Returning False, but in future this will result in an error. Use `array.size > 0` to check that an array is not empty.\n",
      "  if diff:\n",
      "/opt/anaconda/envs/bd9/lib/python3.6/site-packages/sklearn/preprocessing/label.py:151: DeprecationWarning: The truth value of an empty array is ambiguous. Returning False, but in future this will result in an error. Use `array.size > 0` to check that an array is not empty.\n",
      "  if diff:\n",
      "/opt/anaconda/envs/bd9/lib/python3.6/site-packages/sklearn/preprocessing/label.py:151: DeprecationWarning: The truth value of an empty array is ambiguous. Returning False, but in future this will result in an error. Use `array.size > 0` to check that an array is not empty.\n",
      "  if diff:\n",
      "/opt/anaconda/envs/bd9/lib/python3.6/site-packages/sklearn/preprocessing/label.py:151: DeprecationWarning: The truth value of an empty array is ambiguous. Returning False, but in future this will result in an error. Use `array.size > 0` to check that an array is not empty.\n",
      "  if diff:\n",
      "/opt/anaconda/envs/bd9/lib/python3.6/site-packages/sklearn/preprocessing/label.py:151: DeprecationWarning: The truth value of an empty array is ambiguous. Returning False, but in future this will result in an error. Use `array.size > 0` to check that an array is not empty.\n",
      "  if diff:\n",
      "/opt/anaconda/envs/bd9/lib/python3.6/site-packages/sklearn/preprocessing/label.py:151: DeprecationWarning: The truth value of an empty array is ambiguous. Returning False, but in future this will result in an error. Use `array.size > 0` to check that an array is not empty.\n",
      "  if diff:\n",
      "/opt/anaconda/envs/bd9/lib/python3.6/site-packages/sklearn/preprocessing/label.py:151: DeprecationWarning: The truth value of an empty array is ambiguous. Returning False, but in future this will result in an error. Use `array.size > 0` to check that an array is not empty.\n",
      "  if diff:\n",
      "/opt/anaconda/envs/bd9/lib/python3.6/site-packages/sklearn/preprocessing/label.py:151: DeprecationWarning: The truth value of an empty array is ambiguous. Returning False, but in future this will result in an error. Use `array.size > 0` to check that an array is not empty.\n",
      "  if diff:\n",
      "/opt/anaconda/envs/bd9/lib/python3.6/site-packages/sklearn/preprocessing/label.py:151: DeprecationWarning: The truth value of an empty array is ambiguous. Returning False, but in future this will result in an error. Use `array.size > 0` to check that an array is not empty.\n",
      "  if diff:\n"
     ]
    },
    {
     "data": {
      "text/html": [
       "<div>\n",
       "<style scoped>\n",
       "    .dataframe tbody tr th:only-of-type {\n",
       "        vertical-align: middle;\n",
       "    }\n",
       "\n",
       "    .dataframe tbody tr th {\n",
       "        vertical-align: top;\n",
       "    }\n",
       "\n",
       "    .dataframe thead th {\n",
       "        text-align: right;\n",
       "    }\n",
       "</style>\n",
       "<table border=\"1\" class=\"dataframe\">\n",
       "  <thead>\n",
       "    <tr style=\"text-align: right;\">\n",
       "      <th></th>\n",
       "      <th>0</th>\n",
       "      <th>1</th>\n",
       "      <th>2</th>\n",
       "      <th>3</th>\n",
       "      <th>4</th>\n",
       "    </tr>\n",
       "  </thead>\n",
       "  <tbody>\n",
       "    <tr>\n",
       "      <th>0</th>\n",
       "      <td>5844</td>\n",
       "      <td>17479</td>\n",
       "      <td>7257</td>\n",
       "      <td>519</td>\n",
       "      <td>173</td>\n",
       "    </tr>\n",
       "    <tr>\n",
       "      <th>1</th>\n",
       "      <td>1076</td>\n",
       "      <td>83847</td>\n",
       "      <td>35846</td>\n",
       "      <td>2142</td>\n",
       "      <td>802</td>\n",
       "    </tr>\n",
       "    <tr>\n",
       "      <th>2</th>\n",
       "      <td>770</td>\n",
       "      <td>36704</td>\n",
       "      <td>69175</td>\n",
       "      <td>2304</td>\n",
       "      <td>907</td>\n",
       "    </tr>\n",
       "    <tr>\n",
       "      <th>3</th>\n",
       "      <td>348</td>\n",
       "      <td>19497</td>\n",
       "      <td>20816</td>\n",
       "      <td>10329</td>\n",
       "      <td>874</td>\n",
       "    </tr>\n",
       "    <tr>\n",
       "      <th>4</th>\n",
       "      <td>136</td>\n",
       "      <td>7956</td>\n",
       "      <td>6287</td>\n",
       "      <td>727</td>\n",
       "      <td>3198</td>\n",
       "    </tr>\n",
       "  </tbody>\n",
       "</table>\n",
       "</div>"
      ],
      "text/plain": [
       "      0      1      2      3     4\n",
       "0  5844  17479   7257    519   173\n",
       "1  1076  83847  35846   2142   802\n",
       "2   770  36704  69175   2304   907\n",
       "3   348  19497  20816  10329   874\n",
       "4   136   7956   6287    727  3198"
      ]
     },
     "execution_count": 211,
     "metadata": {},
     "output_type": "execute_result"
    }
   ],
   "source": [
    "predictions_age = ctb_age.predict(x_val[:,1:])\n",
    "confusion = pd.DataFrame(confusion_matrix(y_val[:,1], predictions_age))\n",
    "\n",
    "pd.DataFrame(confusion)"
   ]
  },
  {
   "cell_type": "code",
   "execution_count": 212,
   "metadata": {},
   "outputs": [
    {
     "name": "stderr",
     "output_type": "stream",
     "text": [
      "/opt/anaconda/envs/bd9/lib/python3.6/site-packages/sklearn/preprocessing/label.py:151: DeprecationWarning: The truth value of an empty array is ambiguous. Returning False, but in future this will result in an error. Use `array.size > 0` to check that an array is not empty.\n",
      "  if diff:\n",
      "/opt/anaconda/envs/bd9/lib/python3.6/site-packages/sklearn/preprocessing/label.py:151: DeprecationWarning: The truth value of an empty array is ambiguous. Returning False, but in future this will result in an error. Use `array.size > 0` to check that an array is not empty.\n",
      "  if diff:\n",
      "/opt/anaconda/envs/bd9/lib/python3.6/site-packages/sklearn/preprocessing/label.py:151: DeprecationWarning: The truth value of an empty array is ambiguous. Returning False, but in future this will result in an error. Use `array.size > 0` to check that an array is not empty.\n",
      "  if diff:\n",
      "/opt/anaconda/envs/bd9/lib/python3.6/site-packages/sklearn/preprocessing/label.py:151: DeprecationWarning: The truth value of an empty array is ambiguous. Returning False, but in future this will result in an error. Use `array.size > 0` to check that an array is not empty.\n",
      "  if diff:\n",
      "/opt/anaconda/envs/bd9/lib/python3.6/site-packages/sklearn/preprocessing/label.py:151: DeprecationWarning: The truth value of an empty array is ambiguous. Returning False, but in future this will result in an error. Use `array.size > 0` to check that an array is not empty.\n",
      "  if diff:\n",
      "/opt/anaconda/envs/bd9/lib/python3.6/site-packages/sklearn/preprocessing/label.py:151: DeprecationWarning: The truth value of an empty array is ambiguous. Returning False, but in future this will result in an error. Use `array.size > 0` to check that an array is not empty.\n",
      "  if diff:\n",
      "/opt/anaconda/envs/bd9/lib/python3.6/site-packages/sklearn/preprocessing/label.py:151: DeprecationWarning: The truth value of an empty array is ambiguous. Returning False, but in future this will result in an error. Use `array.size > 0` to check that an array is not empty.\n",
      "  if diff:\n",
      "/opt/anaconda/envs/bd9/lib/python3.6/site-packages/sklearn/preprocessing/label.py:151: DeprecationWarning: The truth value of an empty array is ambiguous. Returning False, but in future this will result in an error. Use `array.size > 0` to check that an array is not empty.\n",
      "  if diff:\n",
      "/opt/anaconda/envs/bd9/lib/python3.6/site-packages/sklearn/preprocessing/label.py:151: DeprecationWarning: The truth value of an empty array is ambiguous. Returning False, but in future this will result in an error. Use `array.size > 0` to check that an array is not empty.\n",
      "  if diff:\n",
      "/opt/anaconda/envs/bd9/lib/python3.6/site-packages/sklearn/preprocessing/label.py:151: DeprecationWarning: The truth value of an empty array is ambiguous. Returning False, but in future this will result in an error. Use `array.size > 0` to check that an array is not empty.\n",
      "  if diff:\n"
     ]
    },
    {
     "data": {
      "text/plain": [
       "0.5145860011402542"
      ]
     },
     "execution_count": 212,
     "metadata": {},
     "output_type": "execute_result"
    }
   ],
   "source": [
    "ctb_age.score(x_val[:,1:],y_val[:,1])"
   ]
  },
  {
   "cell_type": "markdown",
   "metadata": {},
   "source": [
    "Overall score:"
   ]
  },
  {
   "cell_type": "code",
   "execution_count": 213,
   "metadata": {},
   "outputs": [
    {
     "data": {
      "text/plain": [
       "0.39799052574079213"
      ]
     },
     "execution_count": 213,
     "metadata": {},
     "output_type": "execute_result"
    }
   ],
   "source": [
    "res_pd = pd.DataFrame(y_val) == pd.DataFrame(np.hstack((predictions_gender.reshape(-1,1),predictions_age.reshape(-1,1))))\n",
    "res_pd[((res_pd[0] == True) & (res_pd[1] == True))].shape[0]/y_val.shape[0]"
   ]
  },
  {
   "cell_type": "code",
   "execution_count": 399,
   "metadata": {},
   "outputs": [],
   "source": [
    "decision_tree = DT(criterion='gini', min_samples_leaf=100, max_depth=10)"
   ]
  },
  {
   "cell_type": "code",
   "execution_count": 400,
   "metadata": {},
   "outputs": [
    {
     "data": {
      "text/plain": [
       "DecisionTreeClassifier(class_weight=None, criterion='gini', max_depth=10,\n",
       "            max_features=None, max_leaf_nodes=None,\n",
       "            min_impurity_decrease=0.0, min_impurity_split=None,\n",
       "            min_samples_leaf=100, min_samples_split=2,\n",
       "            min_weight_fraction_leaf=0.0, presort=False, random_state=None,\n",
       "            splitter='best')"
      ]
     },
     "execution_count": 400,
     "metadata": {},
     "output_type": "execute_result"
    }
   ],
   "source": [
    "decision_tree.fit(x_train[:,1:],y_train[:,1])"
   ]
  },
  {
   "cell_type": "code",
   "execution_count": 401,
   "metadata": {},
   "outputs": [
    {
     "data": {
      "text/html": [
       "<div>\n",
       "<style scoped>\n",
       "    .dataframe tbody tr th:only-of-type {\n",
       "        vertical-align: middle;\n",
       "    }\n",
       "\n",
       "    .dataframe tbody tr th {\n",
       "        vertical-align: top;\n",
       "    }\n",
       "\n",
       "    .dataframe thead th {\n",
       "        text-align: right;\n",
       "    }\n",
       "</style>\n",
       "<table border=\"1\" class=\"dataframe\">\n",
       "  <thead>\n",
       "    <tr style=\"text-align: right;\">\n",
       "      <th></th>\n",
       "      <th>0</th>\n",
       "      <th>1</th>\n",
       "      <th>2</th>\n",
       "      <th>3</th>\n",
       "      <th>4</th>\n",
       "    </tr>\n",
       "  </thead>\n",
       "  <tbody>\n",
       "    <tr>\n",
       "      <th>0</th>\n",
       "      <td>7173</td>\n",
       "      <td>16888</td>\n",
       "      <td>6681</td>\n",
       "      <td>365</td>\n",
       "      <td>165</td>\n",
       "    </tr>\n",
       "    <tr>\n",
       "      <th>1</th>\n",
       "      <td>2506</td>\n",
       "      <td>85665</td>\n",
       "      <td>32969</td>\n",
       "      <td>1867</td>\n",
       "      <td>706</td>\n",
       "    </tr>\n",
       "    <tr>\n",
       "      <th>2</th>\n",
       "      <td>1783</td>\n",
       "      <td>38095</td>\n",
       "      <td>67141</td>\n",
       "      <td>1772</td>\n",
       "      <td>1069</td>\n",
       "    </tr>\n",
       "    <tr>\n",
       "      <th>3</th>\n",
       "      <td>832</td>\n",
       "      <td>19310</td>\n",
       "      <td>20964</td>\n",
       "      <td>9738</td>\n",
       "      <td>1020</td>\n",
       "    </tr>\n",
       "    <tr>\n",
       "      <th>4</th>\n",
       "      <td>196</td>\n",
       "      <td>7771</td>\n",
       "      <td>6616</td>\n",
       "      <td>550</td>\n",
       "      <td>3171</td>\n",
       "    </tr>\n",
       "  </tbody>\n",
       "</table>\n",
       "</div>"
      ],
      "text/plain": [
       "      0      1      2     3     4\n",
       "0  7173  16888   6681   365   165\n",
       "1  2506  85665  32969  1867   706\n",
       "2  1783  38095  67141  1772  1069\n",
       "3   832  19310  20964  9738  1020\n",
       "4   196   7771   6616   550  3171"
      ]
     },
     "execution_count": 401,
     "metadata": {},
     "output_type": "execute_result"
    }
   ],
   "source": [
    "predictions_age = decision_tree.predict(x_val[:,1:])\n",
    "confusion = pd.DataFrame(confusion_matrix(y_val[:,1], predictions_age))\n",
    "\n",
    "pd.DataFrame(confusion)"
   ]
  },
  {
   "cell_type": "code",
   "execution_count": 402,
   "metadata": {},
   "outputs": [
    {
     "data": {
      "text/plain": [
       "0.516063555742613"
      ]
     },
     "execution_count": 402,
     "metadata": {},
     "output_type": "execute_result"
    }
   ],
   "source": [
    "decision_tree.score(x_val[:,1:],y_val[:,1])"
   ]
  },
  {
   "cell_type": "code",
   "execution_count": 403,
   "metadata": {},
   "outputs": [],
   "source": [
    "uid = x_val[:,0].reshape(-1,1)"
   ]
  },
  {
   "cell_type": "code",
   "execution_count": 404,
   "metadata": {},
   "outputs": [],
   "source": [
    "gender = ctb_gender.predict_proba(x_val[:,1:])[:,1].reshape(-1,1)"
   ]
  },
  {
   "cell_type": "code",
   "execution_count": 406,
   "metadata": {},
   "outputs": [],
   "source": [
    "age = predictions_age.reshape(-1,1)"
   ]
  },
  {
   "cell_type": "code",
   "execution_count": 407,
   "metadata": {},
   "outputs": [],
   "source": [
    "gender_y = y_val[:,0].reshape(-1,1)"
   ]
  },
  {
   "cell_type": "code",
   "execution_count": 408,
   "metadata": {},
   "outputs": [],
   "source": [
    "age_y = y_val[:,1].reshape(-1,1)"
   ]
  },
  {
   "cell_type": "code",
   "execution_count": 409,
   "metadata": {},
   "outputs": [
    {
     "data": {
      "text/plain": [
       "((335013, 1), (335013, 1), (335013, 1), (335013, 2), (335013, 1))"
      ]
     },
     "execution_count": 409,
     "metadata": {},
     "output_type": "execute_result"
    }
   ],
   "source": [
    "uid.shape, gender.shape, age.shape, y_val.shape"
   ]
  },
  {
   "cell_type": "code",
   "execution_count": 410,
   "metadata": {},
   "outputs": [
    {
     "data": {
      "text/plain": [
       "((30252,), (335013, 5))"
      ]
     },
     "execution_count": 410,
     "metadata": {},
     "output_type": "execute_result"
    }
   ],
   "source": [
    "result = pd.DataFrame(np.hstack([uid,gender,age,gender_y,age_y]), columns=['uid', 'gender','age', 'gender_y','age_y'])\n",
    "\n",
    "#result['gender'] = result['gender'].astype(int)\n",
    "#result['age'] = result['age'].astype(int)\n",
    "#result['gender_y'] = result['gender_y'].astype(int)\n",
    "#result['age_y'] = result['age_y'].astype(int)\n",
    "result['uid'].unique().shape, result.shape"
   ]
  },
  {
   "cell_type": "code",
   "execution_count": 373,
   "metadata": {},
   "outputs": [
    {
     "data": {
      "text/html": [
       "<div>\n",
       "<style scoped>\n",
       "    .dataframe tbody tr th:only-of-type {\n",
       "        vertical-align: middle;\n",
       "    }\n",
       "\n",
       "    .dataframe tbody tr th {\n",
       "        vertical-align: top;\n",
       "    }\n",
       "\n",
       "    .dataframe thead th {\n",
       "        text-align: right;\n",
       "    }\n",
       "</style>\n",
       "<table border=\"1\" class=\"dataframe\">\n",
       "  <thead>\n",
       "    <tr style=\"text-align: right;\">\n",
       "      <th></th>\n",
       "      <th>uid</th>\n",
       "      <th>gender</th>\n",
       "      <th>age</th>\n",
       "      <th>gender_y</th>\n",
       "      <th>age_y</th>\n",
       "    </tr>\n",
       "  </thead>\n",
       "  <tbody>\n",
       "    <tr>\n",
       "      <th>0</th>\n",
       "      <td>c1327dcd-9fb7-44c7-821c-68d926bba019</td>\n",
       "      <td>0.627931</td>\n",
       "      <td>2</td>\n",
       "      <td>1</td>\n",
       "      <td>2</td>\n",
       "    </tr>\n",
       "    <tr>\n",
       "      <th>1</th>\n",
       "      <td>2438f09a-437a-434b-9f57-607d2736741a</td>\n",
       "      <td>0.507998</td>\n",
       "      <td>2</td>\n",
       "      <td>1</td>\n",
       "      <td>4</td>\n",
       "    </tr>\n",
       "    <tr>\n",
       "      <th>2</th>\n",
       "      <td>6948734e-e70c-4c59-acd3-9e04d08b3adf</td>\n",
       "      <td>0.51273</td>\n",
       "      <td>2</td>\n",
       "      <td>0</td>\n",
       "      <td>0</td>\n",
       "    </tr>\n",
       "    <tr>\n",
       "      <th>3</th>\n",
       "      <td>c65b96cb-c316-4818-84bc-896788db3a11</td>\n",
       "      <td>0.556249</td>\n",
       "      <td>1</td>\n",
       "      <td>0</td>\n",
       "      <td>2</td>\n",
       "    </tr>\n",
       "    <tr>\n",
       "      <th>4</th>\n",
       "      <td>6568a249-e4cf-4630-b9c5-a2660ac0c32e</td>\n",
       "      <td>0.618214</td>\n",
       "      <td>1</td>\n",
       "      <td>0</td>\n",
       "      <td>0</td>\n",
       "    </tr>\n",
       "  </tbody>\n",
       "</table>\n",
       "</div>"
      ],
      "text/plain": [
       "                                    uid    gender age gender_y age_y\n",
       "0  c1327dcd-9fb7-44c7-821c-68d926bba019  0.627931   2        1     2\n",
       "1  2438f09a-437a-434b-9f57-607d2736741a  0.507998   2        1     4\n",
       "2  6948734e-e70c-4c59-acd3-9e04d08b3adf   0.51273   2        0     0\n",
       "3  c65b96cb-c316-4818-84bc-896788db3a11  0.556249   1        0     2\n",
       "4  6568a249-e4cf-4630-b9c5-a2660ac0c32e  0.618214   1        0     0"
      ]
     },
     "execution_count": 373,
     "metadata": {},
     "output_type": "execute_result"
    }
   ],
   "source": [
    "result.head()"
   ]
  },
  {
   "cell_type": "code",
   "execution_count": 414,
   "metadata": {},
   "outputs": [
    {
     "name": "stdout",
     "output_type": "stream",
     "text": [
      "(30252, 4)\n"
     ]
    }
   ],
   "source": [
    "result_fin = result_int.groupby('uid').agg(lambda x:x.value_counts().index[0]).reset_index(drop=False)\n",
    "print(result_fin.shape)"
   ]
  },
  {
   "cell_type": "code",
   "execution_count": 374,
   "metadata": {},
   "outputs": [
    {
     "data": {
      "text/html": [
       "<div>\n",
       "<style scoped>\n",
       "    .dataframe tbody tr th:only-of-type {\n",
       "        vertical-align: middle;\n",
       "    }\n",
       "\n",
       "    .dataframe tbody tr th {\n",
       "        vertical-align: top;\n",
       "    }\n",
       "\n",
       "    .dataframe thead th {\n",
       "        text-align: right;\n",
       "    }\n",
       "</style>\n",
       "<table border=\"1\" class=\"dataframe\">\n",
       "  <thead>\n",
       "    <tr style=\"text-align: right;\">\n",
       "      <th></th>\n",
       "      <th>uid</th>\n",
       "      <th>gender</th>\n",
       "      <th>age</th>\n",
       "      <th>gender_y</th>\n",
       "      <th>age_y</th>\n",
       "    </tr>\n",
       "  </thead>\n",
       "  <tbody>\n",
       "    <tr>\n",
       "      <th>0</th>\n",
       "      <td>4256f85e-222b-46de-8195-824cd4f5c755</td>\n",
       "      <td>-</td>\n",
       "      <td>1</td>\n",
       "      <td>0</td>\n",
       "      <td>1</td>\n",
       "    </tr>\n",
       "    <tr>\n",
       "      <th>1</th>\n",
       "      <td>558fb978-7da8-4bb2-bbf5-3f9b14a9aa16</td>\n",
       "      <td>-</td>\n",
       "      <td>2</td>\n",
       "      <td>1</td>\n",
       "      <td>2</td>\n",
       "    </tr>\n",
       "    <tr>\n",
       "      <th>2</th>\n",
       "      <td>292ac99d-69d0-481e-9bbb-c5d0f6b158c4</td>\n",
       "      <td>-</td>\n",
       "      <td>2</td>\n",
       "      <td>0</td>\n",
       "      <td>3</td>\n",
       "    </tr>\n",
       "    <tr>\n",
       "      <th>3</th>\n",
       "      <td>d25d414c-6cfc-4e3e-9466-52cfddbdd375</td>\n",
       "      <td>-</td>\n",
       "      <td>2</td>\n",
       "      <td>1</td>\n",
       "      <td>2</td>\n",
       "    </tr>\n",
       "    <tr>\n",
       "      <th>4</th>\n",
       "      <td>af61fde6-dabd-417a-b252-c93c11c6dfa6</td>\n",
       "      <td>-</td>\n",
       "      <td>1</td>\n",
       "      <td>1</td>\n",
       "      <td>2</td>\n",
       "    </tr>\n",
       "  </tbody>\n",
       "</table>\n",
       "</div>"
      ],
      "text/plain": [
       "                                    uid gender age gender_y age_y\n",
       "0  4256f85e-222b-46de-8195-824cd4f5c755      -   1        0     1\n",
       "1  558fb978-7da8-4bb2-bbf5-3f9b14a9aa16      -   2        1     2\n",
       "2  292ac99d-69d0-481e-9bbb-c5d0f6b158c4      -   2        0     3\n",
       "3  d25d414c-6cfc-4e3e-9466-52cfddbdd375      -   2        1     2\n",
       "4  af61fde6-dabd-417a-b252-c93c11c6dfa6      -   1        1     2"
      ]
     },
     "execution_count": 374,
     "metadata": {},
     "output_type": "execute_result"
    }
   ],
   "source": [
    "result['distance']=abs(result['gender']-0.5)\n",
    "\n",
    "result_sort = result.sort_values(by='distance',axis = 0, ascending = True).reset_index(drop=True)\n",
    "\n",
    "result_sort['gender'].loc[:round((result_sort.shape[0]/2)-2)] = '-'\n",
    "result_sort['gender'].loc[round((result_sort.shape[0]/2)-2)+1:] = (round(result_sort['gender'].loc[round((result_sort.shape[0]/2)-2)+1:].astype(float))).astype(int)\n",
    "result_sort.drop(labels=['distance'],axis=1, inplace=True)\n",
    "\n",
    "result_sort.head()"
   ]
  },
  {
   "cell_type": "code",
   "execution_count": 282,
   "metadata": {},
   "outputs": [],
   "source": [
    "#result['gender'] = result['gender'].map(lambda item : '-' if item < 0.55 and item > 0.45 else round(item))\n",
    "#result['gender'].value_counts()['-']/(result['gender'].value_counts()['M']+result['gender'].value_counts()['F'])"
   ]
  },
  {
   "cell_type": "code",
   "execution_count": 290,
   "metadata": {},
   "outputs": [],
   "source": [
    "result['gender'] = result['gender'].replace(0, 'F')\n",
    "result['gender'] = result['gender'].replace(1, 'M')"
   ]
  },
  {
   "cell_type": "markdown",
   "metadata": {},
   "source": [
    "### Сохранение модели"
   ]
  },
  {
   "cell_type": "markdown",
   "metadata": {},
   "source": [
    "Обучать модель вы можете в ноутбуке - это удобно. А после того как модель обучилась и стала выдавать приемлемое качество на вашей валидационной выборке, сохраните ее в отдельном файле (например, используя pickle):"
   ]
  },
  {
   "cell_type": "code",
   "execution_count": 318,
   "metadata": {},
   "outputs": [],
   "source": [
    "#Сохранить модель, которая содержится в переменной vectorizer\n",
    "#Установите правильные атрибуты файла модели, чтобы он мог быть считан проверочным скриптом:\n",
    "model_file_1 = \"project01_model_gender.pickle\"\n",
    "model_file_2 = \"project01_model_age.pickle\"\n",
    "\n",
    "with open(os.environ['HOME'] + '/' + model_file_1, 'wb') as f:\n",
    "    pickle.dump(ctb_gender, f)\n",
    "    \n",
    "with open(os.environ['HOME'] + '/' + model_file_2, 'wb') as f:\n",
    "    pickle.dump(decision_tree, f) \n",
    "    \n",
    "os.chmod(os.environ['HOME'] + '/' + model_file_1, 0o644)\n",
    "os.chmod(os.environ['HOME'] + '/' + model_file_2, 0o644)"
   ]
  },
  {
   "cell_type": "markdown",
   "metadata": {},
   "source": [
    "Сохраняем также Label encoding модели:"
   ]
  },
  {
   "cell_type": "code",
   "execution_count": 343,
   "metadata": {},
   "outputs": [],
   "source": [
    "m_le_day_part = \"le_day_part.pickle\"\n",
    "m_le_season   = \"le_season  .pickle\"\n",
    "m_le_week_day = \"le_week_day.pickle\"\n",
    "m_le_day_type = \"le_day_type.pickle\"\n",
    "m_le_gender   = \"le_gender  .pickle\"\n",
    "m_le_age      = \"le_age     .pickle\"\n",
    "\n",
    "with open(os.environ['HOME'] + '/' + m_le_day_part, 'wb') as f:\n",
    "    pickle.dump(le_day_part, f)\n",
    "with open(os.environ['HOME'] + '/' + m_le_season, 'wb') as f:\n",
    "    pickle.dump(le_season, f)\n",
    "with open(os.environ['HOME'] + '/' + m_le_week_day, 'wb') as f:\n",
    "    pickle.dump(le_week_day, f)\n",
    "with open(os.environ['HOME'] + '/' + m_le_day_type, 'wb') as f:\n",
    "    pickle.dump(le_day_type, f)\n",
    "with open(os.environ['HOME'] + '/' + m_le_gender, 'wb') as f:\n",
    "    pickle.dump(le_gender, f)\n",
    "with open(os.environ['HOME'] + '/' + m_le_age, 'wb') as f:\n",
    "    pickle.dump(le_age, f)"
   ]
  },
  {
   "cell_type": "markdown",
   "metadata": {},
   "source": [
    "### Сохранение таблицы со статистикой"
   ]
  },
  {
   "cell_type": "code",
   "execution_count": 90,
   "metadata": {},
   "outputs": [
    {
     "data": {
      "text/html": [
       "<div>\n",
       "<style scoped>\n",
       "    .dataframe tbody tr th:only-of-type {\n",
       "        vertical-align: middle;\n",
       "    }\n",
       "\n",
       "    .dataframe tbody tr th {\n",
       "        vertical-align: top;\n",
       "    }\n",
       "\n",
       "    .dataframe thead th {\n",
       "        text-align: right;\n",
       "    }\n",
       "</style>\n",
       "<table border=\"1\" class=\"dataframe\">\n",
       "  <thead>\n",
       "    <tr style=\"text-align: right;\">\n",
       "      <th></th>\n",
       "      <th>domain</th>\n",
       "      <th>F</th>\n",
       "      <th>M</th>\n",
       "      <th>18-24</th>\n",
       "      <th>25-34</th>\n",
       "      <th>35-44</th>\n",
       "      <th>45-54</th>\n",
       "      <th>&gt;=55</th>\n",
       "    </tr>\n",
       "  </thead>\n",
       "  <tbody>\n",
       "    <tr>\n",
       "      <th>0</th>\n",
       "      <td>b'zebra-zoya.ru'</td>\n",
       "      <td>1.000000</td>\n",
       "      <td>0.000000</td>\n",
       "      <td>0.333333</td>\n",
       "      <td>0.000000</td>\n",
       "      <td>0.333333</td>\n",
       "      <td>0.000000</td>\n",
       "      <td>0.333333</td>\n",
       "    </tr>\n",
       "    <tr>\n",
       "      <th>1</th>\n",
       "      <td>b'news.yandex.ru'</td>\n",
       "      <td>0.343134</td>\n",
       "      <td>0.656866</td>\n",
       "      <td>0.088496</td>\n",
       "      <td>0.391093</td>\n",
       "      <td>0.286041</td>\n",
       "      <td>0.159007</td>\n",
       "      <td>0.075364</td>\n",
       "    </tr>\n",
       "    <tr>\n",
       "      <th>2</th>\n",
       "      <td>b'sotovik.ru'</td>\n",
       "      <td>0.250000</td>\n",
       "      <td>0.750000</td>\n",
       "      <td>0.071429</td>\n",
       "      <td>0.642857</td>\n",
       "      <td>0.142857</td>\n",
       "      <td>0.142857</td>\n",
       "      <td>0.000000</td>\n",
       "    </tr>\n",
       "    <tr>\n",
       "      <th>3</th>\n",
       "      <td>b'sweetrading.ru'</td>\n",
       "      <td>0.000000</td>\n",
       "      <td>1.000000</td>\n",
       "      <td>0.000000</td>\n",
       "      <td>1.000000</td>\n",
       "      <td>0.000000</td>\n",
       "      <td>0.000000</td>\n",
       "      <td>0.000000</td>\n",
       "    </tr>\n",
       "    <tr>\n",
       "      <th>4</th>\n",
       "      <td>b'101.ru'</td>\n",
       "      <td>0.395532</td>\n",
       "      <td>0.604468</td>\n",
       "      <td>0.085414</td>\n",
       "      <td>0.607096</td>\n",
       "      <td>0.223390</td>\n",
       "      <td>0.036794</td>\n",
       "      <td>0.047306</td>\n",
       "    </tr>\n",
       "  </tbody>\n",
       "</table>\n",
       "</div>"
      ],
      "text/plain": [
       "              domain         F         M     18-24     25-34     35-44  \\\n",
       "0   b'zebra-zoya.ru'  1.000000  0.000000  0.333333  0.000000  0.333333   \n",
       "1  b'news.yandex.ru'  0.343134  0.656866  0.088496  0.391093  0.286041   \n",
       "2      b'sotovik.ru'  0.250000  0.750000  0.071429  0.642857  0.142857   \n",
       "3  b'sweetrading.ru'  0.000000  1.000000  0.000000  1.000000  0.000000   \n",
       "4          b'101.ru'  0.395532  0.604468  0.085414  0.607096  0.223390   \n",
       "\n",
       "      45-54      >=55  \n",
       "0  0.000000  0.333333  \n",
       "1  0.159007  0.075364  \n",
       "2  0.142857  0.000000  \n",
       "3  0.000000  0.000000  \n",
       "4  0.036794  0.047306  "
      ]
     },
     "execution_count": 90,
     "metadata": {},
     "output_type": "execute_result"
    }
   ],
   "source": [
    "sex_age_stat.head()"
   ]
  },
  {
   "cell_type": "code",
   "execution_count": 321,
   "metadata": {},
   "outputs": [],
   "source": [
    "sex_age_stat.to_csv('sex_age_stat.csv',sep='\\t', index=False)"
   ]
  },
  {
   "cell_type": "markdown",
   "metadata": {},
   "source": [
    "Однако, не забудьте сохранить и код генерации признаков и обучения модели - это нужно для воспроизводимости результатов."
   ]
  },
  {
   "cell_type": "markdown",
   "metadata": {},
   "source": [
    "### Обработка тестовых данных и формат вывода результатов"
   ]
  },
  {
   "cell_type": "markdown",
   "metadata": {},
   "source": [
    "Помимо того, что у вас должна получиться точная модель, вам нужно уложиться в SLA (service-level agreement). Всё почти как по-настоящему. Результатом вашей работы в данном случае будет не выходной файл, в котором вы всё посчитали для скрытой выборки, а скрипт, который мы будем запускать и проверять SLA и точность.\n",
    "\n",
    "Создайте в корне своей домашней директории файл `project01_gender-age.py`. \n",
    "\n",
    "Назначте ему нужные права: `chmod 755 project01_gender-age.py`.\n",
    "\n",
    "Вот фрагмент кода, который считывает данные из потока стандартного ввода:"
   ]
  },
  {
   "cell_type": "code",
   "execution_count": 19,
   "metadata": {},
   "outputs": [],
   "source": [
    "#!/opt/anaconda/envs/bd9/bin/python\n",
    "\n",
    "import sys\n",
    "import pandas as pd\n",
    "\n",
    "columns=['gender','age','uid','user_json']\n",
    "\n",
    "df = pd.read_table(\n",
    "    sys.stdin, \n",
    "    sep='\\t', \n",
    "    header=None, \n",
    "    names=columns\n",
    ")"
   ]
  },
  {
   "cell_type": "markdown",
   "metadata": {},
   "source": [
    "Далее вы должны применить все те же самые преобразования данных, которые (возможно) применили к обучающей выборке.\n",
    "Затем считываете модель:"
   ]
  },
  {
   "cell_type": "code",
   "execution_count": null,
   "metadata": {
    "collapsed": true
   },
   "outputs": [],
   "source": [
    "#считать модель из файла в переменную vectorizer\n",
    "import pickle\n",
    "\n",
    "model_file = \"project01_model.pickle\"\n",
    "p1 = pickle.load(open(model_file, 'rb'))"
   ]
  },
  {
   "cell_type": "markdown",
   "metadata": {},
   "source": [
    "Путь к модели необходимо указывать относительно вашей домашней директории. Например, если в директории `name.surname` есть папка `project01`, в которой лежит модель `project01_model.pickle`, то путь к модели в скрипте будет выглядеть как `project01/project01_model.pickle`."
   ]
  },
  {
   "cell_type": "markdown",
   "metadata": {},
   "source": [
    "Задача вашего скрипта сделать предсказание по всем полученным строкам и выдать результат в формате json. В файле должны быть только те пользователи, у которых пол и возрастная категория изначально неизвестны, и они должны быть **отсортированы по UID по возрастанию значений лексикографически.** Пример вывода указан ниже."
   ]
  },
  {
   "cell_type": "code",
   "execution_count": null,
   "metadata": {},
   "outputs": [],
   "source": [
    "output = output[['uid', 'gender', 'age']]\n",
    "output.sort_values(by='uid',axis = 0, ascending = True, inplace = True)\n",
    "sys.stdout.write(output.to_json(orient='records'))"
   ]
  },
  {
   "cell_type": "markdown",
   "metadata": {},
   "source": [
    "Для самопроверки вы можете локально оттестировать свой скрипт, используя следующую команду:"
   ]
  },
  {
   "cell_type": "code",
   "execution_count": null,
   "metadata": {
    "collapsed": true
   },
   "outputs": [],
   "source": [
    "!tail -n1000 gender_age_dataset.txt | ./project01_gender-age.py > output.json"
   ]
  },
  {
   "cell_type": "markdown",
   "metadata": {},
   "source": [
    "### Подсказки\n",
    "\n",
    "1. Есть много различных способов решить данную задачу: можно просто хорошо поработать с урлами и доменами, можно пропарсить содержимое этих урлов (заголовки, текст и т.д.) и воспользоваться неким векторизатором типа TF\\*IDF для генерации дополнительных фич, которые уже в дальнейшем вы подадите на вход ML-алгоритму, можно сделать тематическое моделирование (LDA, BigARTM) сайтов и использовать одну или несколько тем в качестве фич.\n",
    "\n",
    "2. Возможно, что данные грязные и их нужно дополнительно обработать. Спецсимволы, кириллические домены? Уделите этому этапу достаточно времени: здесь чистота датасета важнее, чем выбор алгоритма.\n",
    "\n",
    "3. Часто бывает, что лучшее решение с точки зрения результата — оно же самое простое. Попробуйте сначала простые способы, простые алгоритмы, прежде чем переходить к тяжёлой артиллерии. Один из вариантов — начать с небольшого RandomForest.\n",
    "\n",
    "4. Вам почти наверняка понадобится что-то из пакета sklearn. [Документация](http://scikit-learn.org/stable/user_guide.html) — ваш лучший друг.\n",
    "\n",
    "5. Вы можете сначала предсказать пол, а затем возраст, либо сразу и то, и другое. Экспериментируйте.\n",
    "\n",
    "6. Объединяйтесь в команды. Так гораздо веселее и интереснее.\n",
    "\n",
    "7. Ведите дневник того, что вы делаете: подход, его основная идея, использованные фичи, точность предсказания и т.д. Это хорошая практика, позволяющая не забыть то, что вы делали до этого и позволяющая получить знание о том, что вам не принесло результата. Эту практику продемонстрировал участник одного из наших прошлых запусков – Сергей Зайцев. Мы решили ее добавить в раздел Подсказки."
   ]
  },
  {
   "cell_type": "markdown",
   "metadata": {},
   "source": [
    "### Проверка\n",
    "Проверка осуществляется из [Личного кабинета](http://lk.newprolab.com/lab/project1). До дедлайна вы будете проверять работу своего скрипта на валидационной выборке (2 000 записей). При наступлении дедлайна мы автоматически пересчитаем модели по скрытой тестовой выборке (3 000 записей). Это и будет финальным результатом.\n",
    "\n",
    "* В поле `part of users with predicted gender + age` - указана доля пользователей, которая была предсказана от общего числа неизвестных пользователей (пример: по 3 000 был сделан прогноз, а всего было неизвестно 5 000, чекер выдаст 0.6).\n",
    "\n",
    "* В поле `correctly predicted users / total number of users` - указана доля пользователей, которая была правильно предсказана (совпадает и пол, и возраст) от общего числа всех пользователей (пример: по 3 000 был сделан прогноз, правильно было спрогнозировано 1 500, а всего было неизвестно 5 000, чекер выдаст 0.3)\n",
    "\n",
    "* В поле `correctly predicted users / number of predicted users` - указана доля пользователей, которая была правильно предсказана (совпадает и пол, и возраст) от общего числа предсказанных пользователей (пример: по 3 000 был сделан прогноз, из них правильно предсказано 1 500, чекер выдаст 0.5).\n",
    "\n",
    "**Важное замечание!** Вы должны дать прогноз хотя бы по 50% пользователей, у которых изначально не указан пол и возрастная категория. Иными словами, вы можете оставить неопределенными не более 50% изначально неопределенных пользователей.\n",
    "\n",
    "**Если доля в последнем поле превысит порог 0.28, то проект будет засчитан, при условии что выполнен SLA в 0.04 секунды на каждого пользователя (т.е. на каждую строчку тестового датасета)**\n",
    "\n",
    "Лучшей команде, набравшей максимальный результат, мы подарим специальный приз, о котором скажем позднее."
   ]
  }
 ],
 "metadata": {
  "kernelspec": {
   "display_name": "Python 3",
   "language": "python",
   "name": "python3"
  },
  "language_info": {
   "codemirror_mode": {
    "name": "ipython",
    "version": 3
   },
   "file_extension": ".py",
   "mimetype": "text/x-python",
   "name": "python",
   "nbconvert_exporter": "python",
   "pygments_lexer": "ipython3",
   "version": "3.6.5"
  },
  "toc": {
   "base_numbering": 1,
   "nav_menu": {},
   "number_sections": true,
   "sideBar": true,
   "skip_h1_title": false,
   "title_cell": "Table of Contents",
   "title_sidebar": "Contents",
   "toc_cell": false,
   "toc_position": {},
   "toc_section_display": true,
   "toc_window_display": false
  }
 },
 "nbformat": 4,
 "nbformat_minor": 2
}
