{
 "cells": [
  {
   "cell_type": "code",
   "execution_count": 22,
   "metadata": {},
   "outputs": [],
   "source": [
    "#!/opt/anaconda/envs/bd9/bin/python\n",
    "\n",
    "import time\n",
    "\n",
    "#t0 = time.clock()\n",
    "\n",
    "import sys\n",
    "import pandas as pd\n",
    "import numpy as np\n",
    "import re\n",
    "import json\n",
    "import pickle\n",
    "from urllib.parse import urlparse\n",
    "from urllib.request import urlretrieve, unquote\n",
    "from pandas.io.json import json_normalize\n",
    "import datetime\n",
    "from sklearn import preprocessing\n",
    "import pickle\n",
    "\n",
    "\n",
    "def url2domain(url):\n",
    "    url = re.sub('(http(s)*://)+', 'http://', url)\n",
    "    parsed_url = urlparse(unquote(url.strip()))\n",
    "    if parsed_url.scheme not in ['http','https']: return None\n",
    "    netloc = re.search(\"(?:www\\.)?(.*)\", parsed_url.netloc).group(1)\n",
    "    if netloc is not None: return str(netloc.encode('utf8')).strip()\n",
    "    return None\n",
    "\n",
    "def datetime_conv(value):\n",
    "    return datetime.datetime.fromtimestamp(value / 1e3)"
   ]
  },
  {
   "cell_type": "code",
   "execution_count": 23,
   "metadata": {},
   "outputs": [
    {
     "data": {
      "text/html": [
       "<div>\n",
       "<style scoped>\n",
       "    .dataframe tbody tr th:only-of-type {\n",
       "        vertical-align: middle;\n",
       "    }\n",
       "\n",
       "    .dataframe tbody tr th {\n",
       "        vertical-align: top;\n",
       "    }\n",
       "\n",
       "    .dataframe thead th {\n",
       "        text-align: right;\n",
       "    }\n",
       "</style>\n",
       "<table border=\"1\" class=\"dataframe\">\n",
       "  <thead>\n",
       "    <tr style=\"text-align: right;\">\n",
       "      <th></th>\n",
       "      <th>gender</th>\n",
       "      <th>age</th>\n",
       "      <th>uid</th>\n",
       "      <th>user_json</th>\n",
       "    </tr>\n",
       "  </thead>\n",
       "  <tbody>\n",
       "    <tr>\n",
       "      <th>36138</th>\n",
       "      <td>-</td>\n",
       "      <td>-</td>\n",
       "      <td>bd7a30e1-a25d-4cbf-a03f-61748cbe540e</td>\n",
       "      <td>{\"visits\": [{\"url\": \"http://www.interfax.ru/bu...</td>\n",
       "    </tr>\n",
       "    <tr>\n",
       "      <th>36139</th>\n",
       "      <td>-</td>\n",
       "      <td>-</td>\n",
       "      <td>bd7a6f52-45db-49bf-90f2-a3b07a9b7bcd</td>\n",
       "      <td>{\"visits\": [{\"url\": \"https://www.packagetrackr...</td>\n",
       "    </tr>\n",
       "    <tr>\n",
       "      <th>36140</th>\n",
       "      <td>-</td>\n",
       "      <td>-</td>\n",
       "      <td>bd7a7fd9-ab06-42f5-bf0f-1cbb0463004c</td>\n",
       "      <td>{\"visits\": [{\"url\": \"http://www.mk.ru/incident...</td>\n",
       "    </tr>\n",
       "    <tr>\n",
       "      <th>36141</th>\n",
       "      <td>-</td>\n",
       "      <td>-</td>\n",
       "      <td>bd7c5d7a-0def-41d1-895f-fdb96c56c2d4</td>\n",
       "      <td>{\"visits\": [{\"url\": \"http://www.24open.ru/user...</td>\n",
       "    </tr>\n",
       "    <tr>\n",
       "      <th>36142</th>\n",
       "      <td>-</td>\n",
       "      <td>-</td>\n",
       "      <td>bd7e54a2-0215-45cb-a869-9efebf250e38</td>\n",
       "      <td>{\"visits\": [{\"url\": \"http://www.dns-shop.ru/ca...</td>\n",
       "    </tr>\n",
       "  </tbody>\n",
       "</table>\n",
       "</div>"
      ],
      "text/plain": [
       "      gender age                                   uid  \\\n",
       "36138      -   -  bd7a30e1-a25d-4cbf-a03f-61748cbe540e   \n",
       "36139      -   -  bd7a6f52-45db-49bf-90f2-a3b07a9b7bcd   \n",
       "36140      -   -  bd7a7fd9-ab06-42f5-bf0f-1cbb0463004c   \n",
       "36141      -   -  bd7c5d7a-0def-41d1-895f-fdb96c56c2d4   \n",
       "36142      -   -  bd7e54a2-0215-45cb-a869-9efebf250e38   \n",
       "\n",
       "                                               user_json  \n",
       "36138  {\"visits\": [{\"url\": \"http://www.interfax.ru/bu...  \n",
       "36139  {\"visits\": [{\"url\": \"https://www.packagetrackr...  \n",
       "36140  {\"visits\": [{\"url\": \"http://www.mk.ru/incident...  \n",
       "36141  {\"visits\": [{\"url\": \"http://www.24open.ru/user...  \n",
       "36142  {\"visits\": [{\"url\": \"http://www.dns-shop.ru/ca...  "
      ]
     },
     "execution_count": 23,
     "metadata": {},
     "output_type": "execute_result"
    }
   ],
   "source": [
    "#columns=['gender','age','uid','user_json']\n",
    "\n",
    "#df = pd.read_table(sys.stdin, sep='\\t', header=None, names=columns)\n",
    "\n",
    "file_path = '/data/share/project01/gender_age_dataset.txt'\n",
    "df = pd.read_csv(file_path, sep='\\t')\n",
    "\n",
    "df = df[((df.gender == '-') & (df.age == '-'))]\n",
    "df.head()"
   ]
  },
  {
   "cell_type": "code",
   "execution_count": 24,
   "metadata": {},
   "outputs": [],
   "source": [
    "#df.drop(labels=['gender','age'],axis=1, inplace=True)\n",
    "\n",
    "df.reset_index(drop=True, inplace=True)\n",
    "\n",
    "df['user_json'] = json_normalize(df['user_json'].apply(json.loads))\n",
    "\n",
    "df2_dict = df.to_dict('records')"
   ]
  },
  {
   "cell_type": "code",
   "execution_count": 25,
   "metadata": {},
   "outputs": [
    {
     "data": {
      "text/html": [
       "<div>\n",
       "<style scoped>\n",
       "    .dataframe tbody tr th:only-of-type {\n",
       "        vertical-align: middle;\n",
       "    }\n",
       "\n",
       "    .dataframe tbody tr th {\n",
       "        vertical-align: top;\n",
       "    }\n",
       "\n",
       "    .dataframe thead th {\n",
       "        text-align: right;\n",
       "    }\n",
       "</style>\n",
       "<table border=\"1\" class=\"dataframe\">\n",
       "  <thead>\n",
       "    <tr style=\"text-align: right;\">\n",
       "      <th></th>\n",
       "      <th>gender</th>\n",
       "      <th>age</th>\n",
       "      <th>uid</th>\n",
       "      <th>timestamp</th>\n",
       "      <th>url</th>\n",
       "    </tr>\n",
       "  </thead>\n",
       "  <tbody>\n",
       "    <tr>\n",
       "      <th>0</th>\n",
       "      <td>-</td>\n",
       "      <td>-</td>\n",
       "      <td>bd7a30e1-a25d-4cbf-a03f-61748cbe540e</td>\n",
       "      <td>1419775945781</td>\n",
       "      <td>http://www.interfax.ru/business/414668</td>\n",
       "    </tr>\n",
       "    <tr>\n",
       "      <th>1</th>\n",
       "      <td>-</td>\n",
       "      <td>-</td>\n",
       "      <td>bd7a30e1-a25d-4cbf-a03f-61748cbe540e</td>\n",
       "      <td>1419679865088</td>\n",
       "      <td>http://amerikan-gruzovik.ru/zapchasti-dlya-ame...</td>\n",
       "    </tr>\n",
       "    <tr>\n",
       "      <th>2</th>\n",
       "      <td>-</td>\n",
       "      <td>-</td>\n",
       "      <td>bd7a30e1-a25d-4cbf-a03f-61748cbe540e</td>\n",
       "      <td>1419679853405</td>\n",
       "      <td>http://amerikan-gruzovik.ru/</td>\n",
       "    </tr>\n",
       "    <tr>\n",
       "      <th>3</th>\n",
       "      <td>-</td>\n",
       "      <td>-</td>\n",
       "      <td>bd7a30e1-a25d-4cbf-a03f-61748cbe540e</td>\n",
       "      <td>1419679847246</td>\n",
       "      <td>http://amerikan-gruzovik.ru/b-u-zapchasti-dlya...</td>\n",
       "    </tr>\n",
       "    <tr>\n",
       "      <th>4</th>\n",
       "      <td>-</td>\n",
       "      <td>-</td>\n",
       "      <td>bd7a30e1-a25d-4cbf-a03f-61748cbe540e</td>\n",
       "      <td>1419679822992</td>\n",
       "      <td>http://amerikan-gruzovik.ru/</td>\n",
       "    </tr>\n",
       "  </tbody>\n",
       "</table>\n",
       "</div>"
      ],
      "text/plain": [
       "  gender age                                   uid      timestamp  \\\n",
       "0      -   -  bd7a30e1-a25d-4cbf-a03f-61748cbe540e  1419775945781   \n",
       "1      -   -  bd7a30e1-a25d-4cbf-a03f-61748cbe540e  1419679865088   \n",
       "2      -   -  bd7a30e1-a25d-4cbf-a03f-61748cbe540e  1419679853405   \n",
       "3      -   -  bd7a30e1-a25d-4cbf-a03f-61748cbe540e  1419679847246   \n",
       "4      -   -  bd7a30e1-a25d-4cbf-a03f-61748cbe540e  1419679822992   \n",
       "\n",
       "                                                 url  \n",
       "0             http://www.interfax.ru/business/414668  \n",
       "1  http://amerikan-gruzovik.ru/zapchasti-dlya-ame...  \n",
       "2                       http://amerikan-gruzovik.ru/  \n",
       "3  http://amerikan-gruzovik.ru/b-u-zapchasti-dlya...  \n",
       "4                       http://amerikan-gruzovik.ru/  "
      ]
     },
     "execution_count": 25,
     "metadata": {},
     "output_type": "execute_result"
    }
   ],
   "source": [
    "df2_norm = pd.DataFrame(json_normalize(df2_dict, 'user_json', ['gender','age','uid']),columns=['gender','age','uid','timestamp','url'])\n",
    "df2_norm.head()"
   ]
  },
  {
   "cell_type": "code",
   "execution_count": 26,
   "metadata": {},
   "outputs": [],
   "source": [
    "df2_norm['domain'] = df2_norm['url'].apply(url2domain)\n",
    "\n",
    "df2_norm['datetime'] = df2_norm['timestamp'].apply(datetime_conv)\n",
    "df2_norm['datetime'] = pd.to_datetime(df2_norm['datetime'], format='%Y%m%d%h%')\n",
    "df3 = df2_norm.drop(labels=['url','timestamp'],axis=1)"
   ]
  },
  {
   "cell_type": "code",
   "execution_count": 27,
   "metadata": {},
   "outputs": [
    {
     "data": {
      "text/html": [
       "<div>\n",
       "<style scoped>\n",
       "    .dataframe tbody tr th:only-of-type {\n",
       "        vertical-align: middle;\n",
       "    }\n",
       "\n",
       "    .dataframe tbody tr th {\n",
       "        vertical-align: top;\n",
       "    }\n",
       "\n",
       "    .dataframe thead th {\n",
       "        text-align: right;\n",
       "    }\n",
       "</style>\n",
       "<table border=\"1\" class=\"dataframe\">\n",
       "  <thead>\n",
       "    <tr style=\"text-align: right;\">\n",
       "      <th></th>\n",
       "      <th>gender</th>\n",
       "      <th>age</th>\n",
       "      <th>uid</th>\n",
       "      <th>domain</th>\n",
       "      <th>datetime</th>\n",
       "    </tr>\n",
       "  </thead>\n",
       "  <tbody>\n",
       "    <tr>\n",
       "      <th>0</th>\n",
       "      <td>-</td>\n",
       "      <td>-</td>\n",
       "      <td>bd7a30e1-a25d-4cbf-a03f-61748cbe540e</td>\n",
       "      <td>b'interfax.ru'</td>\n",
       "      <td>2014-12-28 17:12:25.781</td>\n",
       "    </tr>\n",
       "    <tr>\n",
       "      <th>1</th>\n",
       "      <td>-</td>\n",
       "      <td>-</td>\n",
       "      <td>bd7a30e1-a25d-4cbf-a03f-61748cbe540e</td>\n",
       "      <td>b'amerikan-gruzovik.ru'</td>\n",
       "      <td>2014-12-27 14:31:05.088</td>\n",
       "    </tr>\n",
       "    <tr>\n",
       "      <th>2</th>\n",
       "      <td>-</td>\n",
       "      <td>-</td>\n",
       "      <td>bd7a30e1-a25d-4cbf-a03f-61748cbe540e</td>\n",
       "      <td>b'amerikan-gruzovik.ru'</td>\n",
       "      <td>2014-12-27 14:30:53.405</td>\n",
       "    </tr>\n",
       "    <tr>\n",
       "      <th>3</th>\n",
       "      <td>-</td>\n",
       "      <td>-</td>\n",
       "      <td>bd7a30e1-a25d-4cbf-a03f-61748cbe540e</td>\n",
       "      <td>b'amerikan-gruzovik.ru'</td>\n",
       "      <td>2014-12-27 14:30:47.246</td>\n",
       "    </tr>\n",
       "    <tr>\n",
       "      <th>4</th>\n",
       "      <td>-</td>\n",
       "      <td>-</td>\n",
       "      <td>bd7a30e1-a25d-4cbf-a03f-61748cbe540e</td>\n",
       "      <td>b'amerikan-gruzovik.ru'</td>\n",
       "      <td>2014-12-27 14:30:22.992</td>\n",
       "    </tr>\n",
       "  </tbody>\n",
       "</table>\n",
       "</div>"
      ],
      "text/plain": [
       "  gender age                                   uid                   domain  \\\n",
       "0      -   -  bd7a30e1-a25d-4cbf-a03f-61748cbe540e           b'interfax.ru'   \n",
       "1      -   -  bd7a30e1-a25d-4cbf-a03f-61748cbe540e  b'amerikan-gruzovik.ru'   \n",
       "2      -   -  bd7a30e1-a25d-4cbf-a03f-61748cbe540e  b'amerikan-gruzovik.ru'   \n",
       "3      -   -  bd7a30e1-a25d-4cbf-a03f-61748cbe540e  b'amerikan-gruzovik.ru'   \n",
       "4      -   -  bd7a30e1-a25d-4cbf-a03f-61748cbe540e  b'amerikan-gruzovik.ru'   \n",
       "\n",
       "                 datetime  \n",
       "0 2014-12-28 17:12:25.781  \n",
       "1 2014-12-27 14:31:05.088  \n",
       "2 2014-12-27 14:30:53.405  \n",
       "3 2014-12-27 14:30:47.246  \n",
       "4 2014-12-27 14:30:22.992  "
      ]
     },
     "execution_count": 27,
     "metadata": {},
     "output_type": "execute_result"
    }
   ],
   "source": [
    "df3.head()"
   ]
  },
  {
   "cell_type": "code",
   "execution_count": 28,
   "metadata": {},
   "outputs": [],
   "source": [
    "df3['hour'] = df3['datetime'].dt.hour\n",
    "df3['day'] = df3['datetime'].dt.day\n",
    "df3['month'] = df3['datetime'].dt.month\n",
    "\n",
    "df3['day_part'] = 'Unknown'\n",
    "df3.loc[df3['hour'].between(6, 12, inclusive=True), 'day_part'] = 'Morning'\n",
    "df3.loc[df3['hour'].between(13, 18, inclusive=True), 'day_part'] = 'Afternoon'\n",
    "df3.loc[df3['hour'].between(19, 24, inclusive=True), 'day_part'] = 'Evening'\n",
    "df3.loc[df3['hour'].between(0, 5, inclusive=True), 'day_part'] = 'Night'\n",
    "\n",
    "df3['season'] = 'Unknown'\n",
    "df3.loc[df3['month'].between(3, 5, inclusive=True), 'season'] = 'Spring'\n",
    "df3.loc[df3['month'].between(6, 8, inclusive=True), 'season'] = 'Summer'\n",
    "df3.loc[df3['month'].between(9, 11, inclusive=True), 'season'] = 'Autumn'\n",
    "df3.loc[df3['month'].between(1, 2, inclusive=True), 'season'] = 'Winter'\n",
    "df3.loc[df3['month'].between(12, 12, inclusive=True), 'season'] = 'Winter'\n",
    "\n",
    "df3['week_day'] = df3['datetime'].dt.day_name()\n",
    "workdays = ['Wednesday', 'Thursday', 'Friday', 'Monday', 'Tuesday']\n",
    "weekend = ['Saturday', 'Sunday']\n",
    "\n",
    "df3['day_type'] = df3['week_day'].isin(workdays)\n",
    "df3['day_type'] = df3['day_type'].replace([True, False], ['Workday', 'Weekend'])"
   ]
  },
  {
   "cell_type": "code",
   "execution_count": 29,
   "metadata": {},
   "outputs": [
    {
     "data": {
      "text/html": [
       "<div>\n",
       "<style scoped>\n",
       "    .dataframe tbody tr th:only-of-type {\n",
       "        vertical-align: middle;\n",
       "    }\n",
       "\n",
       "    .dataframe tbody tr th {\n",
       "        vertical-align: top;\n",
       "    }\n",
       "\n",
       "    .dataframe thead th {\n",
       "        text-align: right;\n",
       "    }\n",
       "</style>\n",
       "<table border=\"1\" class=\"dataframe\">\n",
       "  <thead>\n",
       "    <tr style=\"text-align: right;\">\n",
       "      <th></th>\n",
       "      <th>gender</th>\n",
       "      <th>age</th>\n",
       "      <th>uid</th>\n",
       "      <th>domain</th>\n",
       "      <th>datetime</th>\n",
       "      <th>hour</th>\n",
       "      <th>day</th>\n",
       "      <th>month</th>\n",
       "      <th>day_part</th>\n",
       "      <th>season</th>\n",
       "      <th>week_day</th>\n",
       "      <th>day_type</th>\n",
       "    </tr>\n",
       "  </thead>\n",
       "  <tbody>\n",
       "    <tr>\n",
       "      <th>0</th>\n",
       "      <td>-</td>\n",
       "      <td>-</td>\n",
       "      <td>bd7a30e1-a25d-4cbf-a03f-61748cbe540e</td>\n",
       "      <td>b'interfax.ru'</td>\n",
       "      <td>2014-12-28 17:12:25.781</td>\n",
       "      <td>17</td>\n",
       "      <td>28</td>\n",
       "      <td>12</td>\n",
       "      <td>Afternoon</td>\n",
       "      <td>Winter</td>\n",
       "      <td>Sunday</td>\n",
       "      <td>Weekend</td>\n",
       "    </tr>\n",
       "    <tr>\n",
       "      <th>1</th>\n",
       "      <td>-</td>\n",
       "      <td>-</td>\n",
       "      <td>bd7a30e1-a25d-4cbf-a03f-61748cbe540e</td>\n",
       "      <td>b'amerikan-gruzovik.ru'</td>\n",
       "      <td>2014-12-27 14:31:05.088</td>\n",
       "      <td>14</td>\n",
       "      <td>27</td>\n",
       "      <td>12</td>\n",
       "      <td>Afternoon</td>\n",
       "      <td>Winter</td>\n",
       "      <td>Saturday</td>\n",
       "      <td>Weekend</td>\n",
       "    </tr>\n",
       "    <tr>\n",
       "      <th>2</th>\n",
       "      <td>-</td>\n",
       "      <td>-</td>\n",
       "      <td>bd7a30e1-a25d-4cbf-a03f-61748cbe540e</td>\n",
       "      <td>b'amerikan-gruzovik.ru'</td>\n",
       "      <td>2014-12-27 14:30:53.405</td>\n",
       "      <td>14</td>\n",
       "      <td>27</td>\n",
       "      <td>12</td>\n",
       "      <td>Afternoon</td>\n",
       "      <td>Winter</td>\n",
       "      <td>Saturday</td>\n",
       "      <td>Weekend</td>\n",
       "    </tr>\n",
       "    <tr>\n",
       "      <th>3</th>\n",
       "      <td>-</td>\n",
       "      <td>-</td>\n",
       "      <td>bd7a30e1-a25d-4cbf-a03f-61748cbe540e</td>\n",
       "      <td>b'amerikan-gruzovik.ru'</td>\n",
       "      <td>2014-12-27 14:30:47.246</td>\n",
       "      <td>14</td>\n",
       "      <td>27</td>\n",
       "      <td>12</td>\n",
       "      <td>Afternoon</td>\n",
       "      <td>Winter</td>\n",
       "      <td>Saturday</td>\n",
       "      <td>Weekend</td>\n",
       "    </tr>\n",
       "    <tr>\n",
       "      <th>4</th>\n",
       "      <td>-</td>\n",
       "      <td>-</td>\n",
       "      <td>bd7a30e1-a25d-4cbf-a03f-61748cbe540e</td>\n",
       "      <td>b'amerikan-gruzovik.ru'</td>\n",
       "      <td>2014-12-27 14:30:22.992</td>\n",
       "      <td>14</td>\n",
       "      <td>27</td>\n",
       "      <td>12</td>\n",
       "      <td>Afternoon</td>\n",
       "      <td>Winter</td>\n",
       "      <td>Saturday</td>\n",
       "      <td>Weekend</td>\n",
       "    </tr>\n",
       "  </tbody>\n",
       "</table>\n",
       "</div>"
      ],
      "text/plain": [
       "  gender age                                   uid                   domain  \\\n",
       "0      -   -  bd7a30e1-a25d-4cbf-a03f-61748cbe540e           b'interfax.ru'   \n",
       "1      -   -  bd7a30e1-a25d-4cbf-a03f-61748cbe540e  b'amerikan-gruzovik.ru'   \n",
       "2      -   -  bd7a30e1-a25d-4cbf-a03f-61748cbe540e  b'amerikan-gruzovik.ru'   \n",
       "3      -   -  bd7a30e1-a25d-4cbf-a03f-61748cbe540e  b'amerikan-gruzovik.ru'   \n",
       "4      -   -  bd7a30e1-a25d-4cbf-a03f-61748cbe540e  b'amerikan-gruzovik.ru'   \n",
       "\n",
       "                 datetime  hour  day  month   day_part  season  week_day  \\\n",
       "0 2014-12-28 17:12:25.781    17   28     12  Afternoon  Winter    Sunday   \n",
       "1 2014-12-27 14:31:05.088    14   27     12  Afternoon  Winter  Saturday   \n",
       "2 2014-12-27 14:30:53.405    14   27     12  Afternoon  Winter  Saturday   \n",
       "3 2014-12-27 14:30:47.246    14   27     12  Afternoon  Winter  Saturday   \n",
       "4 2014-12-27 14:30:22.992    14   27     12  Afternoon  Winter  Saturday   \n",
       "\n",
       "  day_type  \n",
       "0  Weekend  \n",
       "1  Weekend  \n",
       "2  Weekend  \n",
       "3  Weekend  \n",
       "4  Weekend  "
      ]
     },
     "execution_count": 29,
     "metadata": {},
     "output_type": "execute_result"
    }
   ],
   "source": [
    "df3.head()"
   ]
  },
  {
   "cell_type": "code",
   "execution_count": 123,
   "metadata": {},
   "outputs": [
    {
     "name": "stderr",
     "output_type": "stream",
     "text": [
      "/opt/anaconda/envs/bd9/lib/python3.6/site-packages/pandas/core/frame.py:3694: SettingWithCopyWarning: \n",
      "A value is trying to be set on a copy of a slice from a DataFrame\n",
      "\n",
      "See the caveats in the documentation: http://pandas.pydata.org/pandas-docs/stable/indexing.html#indexing-view-versus-copy\n",
      "  errors=errors)\n"
     ]
    }
   ],
   "source": [
    "df4 = df3.drop_duplicates(subset=['uid','domain','day_part', 'season', 'week_day', 'day_type'], keep='first')\n",
    "\n",
    "df4.drop(labels=['datetime','hour','day','month'],axis=1, inplace=True)\n",
    "\n",
    "df4.reset_index(drop=True, inplace=True)"
   ]
  },
  {
   "cell_type": "code",
   "execution_count": 158,
   "metadata": {},
   "outputs": [],
   "source": [
    "df4_a = df4[df4[\"domain\"].isin(list(set(sex_age_stat['domain']).intersection(set(df4['domain']))))]"
   ]
  },
  {
   "cell_type": "code",
   "execution_count": 159,
   "metadata": {},
   "outputs": [
    {
     "data": {
      "text/html": [
       "<div>\n",
       "<style scoped>\n",
       "    .dataframe tbody tr th:only-of-type {\n",
       "        vertical-align: middle;\n",
       "    }\n",
       "\n",
       "    .dataframe tbody tr th {\n",
       "        vertical-align: top;\n",
       "    }\n",
       "\n",
       "    .dataframe thead th {\n",
       "        text-align: right;\n",
       "    }\n",
       "</style>\n",
       "<table border=\"1\" class=\"dataframe\">\n",
       "  <thead>\n",
       "    <tr style=\"text-align: right;\">\n",
       "      <th></th>\n",
       "      <th>gender</th>\n",
       "      <th>age</th>\n",
       "      <th>uid</th>\n",
       "      <th>domain</th>\n",
       "      <th>day_part</th>\n",
       "      <th>season</th>\n",
       "      <th>week_day</th>\n",
       "      <th>day_type</th>\n",
       "    </tr>\n",
       "  </thead>\n",
       "  <tbody>\n",
       "    <tr>\n",
       "      <th>0</th>\n",
       "      <td>-</td>\n",
       "      <td>-</td>\n",
       "      <td>bd7a30e1-a25d-4cbf-a03f-61748cbe540e</td>\n",
       "      <td>b'interfax.ru'</td>\n",
       "      <td>Afternoon</td>\n",
       "      <td>Winter</td>\n",
       "      <td>Sunday</td>\n",
       "      <td>Weekend</td>\n",
       "    </tr>\n",
       "    <tr>\n",
       "      <th>2</th>\n",
       "      <td>-</td>\n",
       "      <td>-</td>\n",
       "      <td>bd7a30e1-a25d-4cbf-a03f-61748cbe540e</td>\n",
       "      <td>b'tv.jampo.tv'</td>\n",
       "      <td>Morning</td>\n",
       "      <td>Winter</td>\n",
       "      <td>Saturday</td>\n",
       "      <td>Weekend</td>\n",
       "    </tr>\n",
       "    <tr>\n",
       "      <th>3</th>\n",
       "      <td>-</td>\n",
       "      <td>-</td>\n",
       "      <td>bd7a30e1-a25d-4cbf-a03f-61748cbe540e</td>\n",
       "      <td>b'sovsekretno.ru'</td>\n",
       "      <td>Morning</td>\n",
       "      <td>Winter</td>\n",
       "      <td>Friday</td>\n",
       "      <td>Workday</td>\n",
       "    </tr>\n",
       "    <tr>\n",
       "      <th>4</th>\n",
       "      <td>-</td>\n",
       "      <td>-</td>\n",
       "      <td>bd7a30e1-a25d-4cbf-a03f-61748cbe540e</td>\n",
       "      <td>b'marketgid.com'</td>\n",
       "      <td>Morning</td>\n",
       "      <td>Winter</td>\n",
       "      <td>Friday</td>\n",
       "      <td>Workday</td>\n",
       "    </tr>\n",
       "    <tr>\n",
       "      <th>5</th>\n",
       "      <td>-</td>\n",
       "      <td>-</td>\n",
       "      <td>bd7a30e1-a25d-4cbf-a03f-61748cbe540e</td>\n",
       "      <td>b'interfax.ru'</td>\n",
       "      <td>Morning</td>\n",
       "      <td>Winter</td>\n",
       "      <td>Friday</td>\n",
       "      <td>Workday</td>\n",
       "    </tr>\n",
       "  </tbody>\n",
       "</table>\n",
       "</div>"
      ],
      "text/plain": [
       "  gender age                                   uid             domain  \\\n",
       "0      -   -  bd7a30e1-a25d-4cbf-a03f-61748cbe540e     b'interfax.ru'   \n",
       "2      -   -  bd7a30e1-a25d-4cbf-a03f-61748cbe540e     b'tv.jampo.tv'   \n",
       "3      -   -  bd7a30e1-a25d-4cbf-a03f-61748cbe540e  b'sovsekretno.ru'   \n",
       "4      -   -  bd7a30e1-a25d-4cbf-a03f-61748cbe540e   b'marketgid.com'   \n",
       "5      -   -  bd7a30e1-a25d-4cbf-a03f-61748cbe540e     b'interfax.ru'   \n",
       "\n",
       "    day_part  season  week_day day_type  \n",
       "0  Afternoon  Winter    Sunday  Weekend  \n",
       "2    Morning  Winter  Saturday  Weekend  \n",
       "3    Morning  Winter    Friday  Workday  \n",
       "4    Morning  Winter    Friday  Workday  \n",
       "5    Morning  Winter    Friday  Workday  "
      ]
     },
     "execution_count": 159,
     "metadata": {},
     "output_type": "execute_result"
    }
   ],
   "source": [
    "df4_a.head()"
   ]
  },
  {
   "cell_type": "code",
   "execution_count": 163,
   "metadata": {},
   "outputs": [],
   "source": [
    "sex_age_csv = '/data/home/valeria.lupanova/project01/sex_age_stat.csv'\n",
    "sex_age_stat = pd.read_csv(sex_age_csv, sep='\\t')\n",
    "\n",
    "df5_test = pd.merge(df4, sex_age_stat, on=['domain', 'domain'], how='left')"
   ]
  },
  {
   "cell_type": "code",
   "execution_count": 164,
   "metadata": {},
   "outputs": [
    {
     "name": "stdout",
     "output_type": "stream",
     "text": [
      "<class 'pandas.core.frame.DataFrame'>\n",
      "Int64Index: 88736 entries, 0 to 88735\n",
      "Data columns (total 15 columns):\n",
      "gender      88736 non-null object\n",
      "age         88736 non-null object\n",
      "uid         88736 non-null object\n",
      "domain      88736 non-null object\n",
      "day_part    88736 non-null object\n",
      "season      88736 non-null object\n",
      "week_day    88736 non-null object\n",
      "day_type    88736 non-null object\n",
      "F           81744 non-null float64\n",
      "M           81744 non-null float64\n",
      "18-24       81744 non-null float64\n",
      "25-34       81744 non-null float64\n",
      "35-44       81744 non-null float64\n",
      "45-54       81744 non-null float64\n",
      ">=55        81744 non-null float64\n",
      "dtypes: float64(7), object(8)\n",
      "memory usage: 10.8+ MB\n"
     ]
    }
   ],
   "source": [
    "df5_test.info()"
   ]
  },
  {
   "cell_type": "code",
   "execution_count": 165,
   "metadata": {},
   "outputs": [
    {
     "data": {
      "text/plain": [
       "(5000,)"
      ]
     },
     "execution_count": 165,
     "metadata": {},
     "output_type": "execute_result"
    }
   ],
   "source": [
    "df5_test['uid'].unique().shape"
   ]
  },
  {
   "cell_type": "code",
   "execution_count": 128,
   "metadata": {},
   "outputs": [],
   "source": [
    "for i in ['F', 'M', '18-24', '25-34', '35-44', '45-54', '>=55']:\n",
    "    df5_test[i].fillna(df5_test[i].mean(), inplace=True)\n",
    "\n",
    "df5_test.drop(labels='domain',axis=1, inplace=True)"
   ]
  },
  {
   "cell_type": "code",
   "execution_count": 129,
   "metadata": {},
   "outputs": [
    {
     "data": {
      "text/html": [
       "<div>\n",
       "<style scoped>\n",
       "    .dataframe tbody tr th:only-of-type {\n",
       "        vertical-align: middle;\n",
       "    }\n",
       "\n",
       "    .dataframe tbody tr th {\n",
       "        vertical-align: top;\n",
       "    }\n",
       "\n",
       "    .dataframe thead th {\n",
       "        text-align: right;\n",
       "    }\n",
       "</style>\n",
       "<table border=\"1\" class=\"dataframe\">\n",
       "  <thead>\n",
       "    <tr style=\"text-align: right;\">\n",
       "      <th></th>\n",
       "      <th>gender</th>\n",
       "      <th>age</th>\n",
       "      <th>uid</th>\n",
       "      <th>day_part</th>\n",
       "      <th>season</th>\n",
       "      <th>week_day</th>\n",
       "      <th>day_type</th>\n",
       "      <th>F</th>\n",
       "      <th>M</th>\n",
       "      <th>18-24</th>\n",
       "      <th>25-34</th>\n",
       "      <th>35-44</th>\n",
       "      <th>45-54</th>\n",
       "      <th>&gt;=55</th>\n",
       "    </tr>\n",
       "  </thead>\n",
       "  <tbody>\n",
       "    <tr>\n",
       "      <th>0</th>\n",
       "      <td>-</td>\n",
       "      <td>-</td>\n",
       "      <td>bd7a30e1-a25d-4cbf-a03f-61748cbe540e</td>\n",
       "      <td>Afternoon</td>\n",
       "      <td>Winter</td>\n",
       "      <td>Sunday</td>\n",
       "      <td>Weekend</td>\n",
       "      <td>0.259488</td>\n",
       "      <td>0.740512</td>\n",
       "      <td>0.107679</td>\n",
       "      <td>0.410856</td>\n",
       "      <td>0.238305</td>\n",
       "      <td>0.161959</td>\n",
       "      <td>0.081200</td>\n",
       "    </tr>\n",
       "    <tr>\n",
       "      <th>1</th>\n",
       "      <td>-</td>\n",
       "      <td>-</td>\n",
       "      <td>bd7a30e1-a25d-4cbf-a03f-61748cbe540e</td>\n",
       "      <td>Morning</td>\n",
       "      <td>Winter</td>\n",
       "      <td>Saturday</td>\n",
       "      <td>Weekend</td>\n",
       "      <td>0.200000</td>\n",
       "      <td>0.800000</td>\n",
       "      <td>0.080000</td>\n",
       "      <td>0.426667</td>\n",
       "      <td>0.400000</td>\n",
       "      <td>0.013333</td>\n",
       "      <td>0.080000</td>\n",
       "    </tr>\n",
       "    <tr>\n",
       "      <th>2</th>\n",
       "      <td>-</td>\n",
       "      <td>-</td>\n",
       "      <td>bd7a30e1-a25d-4cbf-a03f-61748cbe540e</td>\n",
       "      <td>Morning</td>\n",
       "      <td>Winter</td>\n",
       "      <td>Friday</td>\n",
       "      <td>Workday</td>\n",
       "      <td>0.190789</td>\n",
       "      <td>0.809211</td>\n",
       "      <td>0.026316</td>\n",
       "      <td>0.289474</td>\n",
       "      <td>0.414474</td>\n",
       "      <td>0.217105</td>\n",
       "      <td>0.052632</td>\n",
       "    </tr>\n",
       "    <tr>\n",
       "      <th>3</th>\n",
       "      <td>-</td>\n",
       "      <td>-</td>\n",
       "      <td>bd7a30e1-a25d-4cbf-a03f-61748cbe540e</td>\n",
       "      <td>Morning</td>\n",
       "      <td>Winter</td>\n",
       "      <td>Friday</td>\n",
       "      <td>Workday</td>\n",
       "      <td>0.348577</td>\n",
       "      <td>0.651423</td>\n",
       "      <td>0.054596</td>\n",
       "      <td>0.295847</td>\n",
       "      <td>0.228651</td>\n",
       "      <td>0.248717</td>\n",
       "      <td>0.172189</td>\n",
       "    </tr>\n",
       "    <tr>\n",
       "      <th>4</th>\n",
       "      <td>-</td>\n",
       "      <td>-</td>\n",
       "      <td>bd7a30e1-a25d-4cbf-a03f-61748cbe540e</td>\n",
       "      <td>Morning</td>\n",
       "      <td>Winter</td>\n",
       "      <td>Friday</td>\n",
       "      <td>Workday</td>\n",
       "      <td>0.259488</td>\n",
       "      <td>0.740512</td>\n",
       "      <td>0.107679</td>\n",
       "      <td>0.410856</td>\n",
       "      <td>0.238305</td>\n",
       "      <td>0.161959</td>\n",
       "      <td>0.081200</td>\n",
       "    </tr>\n",
       "  </tbody>\n",
       "</table>\n",
       "</div>"
      ],
      "text/plain": [
       "  gender age                                   uid   day_part  season  \\\n",
       "0      -   -  bd7a30e1-a25d-4cbf-a03f-61748cbe540e  Afternoon  Winter   \n",
       "1      -   -  bd7a30e1-a25d-4cbf-a03f-61748cbe540e    Morning  Winter   \n",
       "2      -   -  bd7a30e1-a25d-4cbf-a03f-61748cbe540e    Morning  Winter   \n",
       "3      -   -  bd7a30e1-a25d-4cbf-a03f-61748cbe540e    Morning  Winter   \n",
       "4      -   -  bd7a30e1-a25d-4cbf-a03f-61748cbe540e    Morning  Winter   \n",
       "\n",
       "   week_day day_type         F         M     18-24     25-34     35-44  \\\n",
       "0    Sunday  Weekend  0.259488  0.740512  0.107679  0.410856  0.238305   \n",
       "1  Saturday  Weekend  0.200000  0.800000  0.080000  0.426667  0.400000   \n",
       "2    Friday  Workday  0.190789  0.809211  0.026316  0.289474  0.414474   \n",
       "3    Friday  Workday  0.348577  0.651423  0.054596  0.295847  0.228651   \n",
       "4    Friday  Workday  0.259488  0.740512  0.107679  0.410856  0.238305   \n",
       "\n",
       "      45-54      >=55  \n",
       "0  0.161959  0.081200  \n",
       "1  0.013333  0.080000  \n",
       "2  0.217105  0.052632  \n",
       "3  0.248717  0.172189  \n",
       "4  0.161959  0.081200  "
      ]
     },
     "execution_count": 129,
     "metadata": {},
     "output_type": "execute_result"
    }
   ],
   "source": [
    "df5_test.head()"
   ]
  },
  {
   "cell_type": "code",
   "execution_count": 130,
   "metadata": {},
   "outputs": [],
   "source": [
    "# считываем модели энкодинга\n",
    "m_le_day_part = \"/data/home/valeria.lupanova/project01/le_day_part.pickle\"\n",
    "m_le_season   = \"/data/home/valeria.lupanova/project01/le_season  .pickle\"\n",
    "m_le_week_day = \"/data/home/valeria.lupanova/project01/le_week_day.pickle\"\n",
    "m_le_day_type = \"/data/home/valeria.lupanova/project01/le_day_type.pickle\"\n",
    "m_le_gender   = \"/data/home/valeria.lupanova/project01/le_gender  .pickle\"\n",
    "m_le_age      = \"/data/home/valeria.lupanova/project01/le_age     .pickle\"\n",
    "\n",
    "\n",
    "le_day_part = pickle.load(open(m_le_day_part, 'rb'))\n",
    "le_season   = pickle.load(open(m_le_season  , 'rb'))\n",
    "le_week_day = pickle.load(open(m_le_week_day, 'rb'))\n",
    "le_day_type = pickle.load(open(m_le_day_type, 'rb'))\n",
    "le_gender   = pickle.load(open(m_le_gender  , 'rb'))\n",
    "le_age      = pickle.load(open(m_le_age     , 'rb'))\n",
    "\n",
    "df5_test['day_part'] = le_day_part.transform(df5_test['day_part'].astype(str))\n",
    "df5_test['season']   = le_season  .transform(df5_test['season'].astype(str))\n",
    "df5_test['week_day'] = le_week_day.transform(df5_test['week_day'].astype(str))\n",
    "df5_test['day_type'] = le_day_type.transform(df5_test['day_type'].astype(str))\n",
    "\n",
    "#df5_test['gender'] = le_gender.transform(df5_test['gender'].astype(str))\n",
    "#df5_test['age'] = le_age.transform(df5_test['age'].astype(str))"
   ]
  },
  {
   "cell_type": "code",
   "execution_count": 131,
   "metadata": {},
   "outputs": [],
   "source": [
    "x = np.array(df5_test.drop(labels=['gender','age','uid'],axis=1))"
   ]
  },
  {
   "cell_type": "code",
   "execution_count": 132,
   "metadata": {},
   "outputs": [],
   "source": [
    "y = np.array(df5_test[['gender','age']])"
   ]
  },
  {
   "cell_type": "code",
   "execution_count": 133,
   "metadata": {},
   "outputs": [],
   "source": [
    "#считать модели из файла\n",
    "model_file_1 = \"/data/home/valeria.lupanova/project01/project01_model_gender.pickle\"\n",
    "model_file_2 = \"/data/home/valeria.lupanova/project01/project01_model_age.pickle\"\n",
    "\n",
    "p1 = pickle.load(open(model_file_1, 'rb'))\n",
    "p2 = pickle.load(open(model_file_2, 'rb'))\n"
   ]
  },
  {
   "cell_type": "code",
   "execution_count": 134,
   "metadata": {},
   "outputs": [
    {
     "name": "stderr",
     "output_type": "stream",
     "text": [
      "/opt/anaconda/envs/bd9/lib/python3.6/site-packages/sklearn/preprocessing/label.py:151: DeprecationWarning: The truth value of an empty array is ambiguous. Returning False, but in future this will result in an error. Use `array.size > 0` to check that an array is not empty.\n",
      "  if diff:\n",
      "/opt/anaconda/envs/bd9/lib/python3.6/site-packages/sklearn/preprocessing/label.py:151: DeprecationWarning: The truth value of an empty array is ambiguous. Returning False, but in future this will result in an error. Use `array.size > 0` to check that an array is not empty.\n",
      "  if diff:\n",
      "/opt/anaconda/envs/bd9/lib/python3.6/site-packages/sklearn/preprocessing/label.py:151: DeprecationWarning: The truth value of an empty array is ambiguous. Returning False, but in future this will result in an error. Use `array.size > 0` to check that an array is not empty.\n",
      "  if diff:\n",
      "/opt/anaconda/envs/bd9/lib/python3.6/site-packages/sklearn/preprocessing/label.py:151: DeprecationWarning: The truth value of an empty array is ambiguous. Returning False, but in future this will result in an error. Use `array.size > 0` to check that an array is not empty.\n",
      "  if diff:\n",
      "/opt/anaconda/envs/bd9/lib/python3.6/site-packages/sklearn/preprocessing/label.py:151: DeprecationWarning: The truth value of an empty array is ambiguous. Returning False, but in future this will result in an error. Use `array.size > 0` to check that an array is not empty.\n",
      "  if diff:\n",
      "/opt/anaconda/envs/bd9/lib/python3.6/site-packages/sklearn/preprocessing/label.py:151: DeprecationWarning: The truth value of an empty array is ambiguous. Returning False, but in future this will result in an error. Use `array.size > 0` to check that an array is not empty.\n",
      "  if diff:\n",
      "/opt/anaconda/envs/bd9/lib/python3.6/site-packages/sklearn/preprocessing/label.py:151: DeprecationWarning: The truth value of an empty array is ambiguous. Returning False, but in future this will result in an error. Use `array.size > 0` to check that an array is not empty.\n",
      "  if diff:\n",
      "/opt/anaconda/envs/bd9/lib/python3.6/site-packages/sklearn/preprocessing/label.py:151: DeprecationWarning: The truth value of an empty array is ambiguous. Returning False, but in future this will result in an error. Use `array.size > 0` to check that an array is not empty.\n",
      "  if diff:\n",
      "/opt/anaconda/envs/bd9/lib/python3.6/site-packages/sklearn/preprocessing/label.py:151: DeprecationWarning: The truth value of an empty array is ambiguous. Returning False, but in future this will result in an error. Use `array.size > 0` to check that an array is not empty.\n",
      "  if diff:\n",
      "/opt/anaconda/envs/bd9/lib/python3.6/site-packages/sklearn/preprocessing/label.py:151: DeprecationWarning: The truth value of an empty array is ambiguous. Returning False, but in future this will result in an error. Use `array.size > 0` to check that an array is not empty.\n",
      "  if diff:\n",
      "/opt/anaconda/envs/bd9/lib/python3.6/site-packages/sklearn/preprocessing/label.py:151: DeprecationWarning: The truth value of an empty array is ambiguous. Returning False, but in future this will result in an error. Use `array.size > 0` to check that an array is not empty.\n",
      "  if diff:\n"
     ]
    },
    {
     "data": {
      "text/plain": [
       "((81744, 1), (81744, 1), (81744, 1), (81744, 2))"
      ]
     },
     "execution_count": 134,
     "metadata": {},
     "output_type": "execute_result"
    }
   ],
   "source": [
    "uid = np.array(df5_test['uid']).reshape(-1,1)\n",
    "\n",
    "gender = p1.predict(x).reshape(-1,1)\n",
    "\n",
    "age = p2.predict(x).reshape(-1,1)\n",
    "\n",
    "uid.shape, gender.shape, age.shape, y.shape"
   ]
  },
  {
   "cell_type": "code",
   "execution_count": 135,
   "metadata": {},
   "outputs": [
    {
     "data": {
      "text/plain": [
       "((4949,), (81744, 3))"
      ]
     },
     "execution_count": 135,
     "metadata": {},
     "output_type": "execute_result"
    }
   ],
   "source": [
    "result = pd.DataFrame(np.hstack([uid,gender,age]), columns=['uid', 'gender','age'])\n",
    "\n",
    "result['gender'] = result['gender'].astype(int)\n",
    "result['age'] = result['age'].astype(int)\n",
    "result['uid'].unique().shape, result.shape"
   ]
  },
  {
   "cell_type": "code",
   "execution_count": 149,
   "metadata": {},
   "outputs": [
    {
     "data": {
      "text/html": [
       "<div>\n",
       "<style scoped>\n",
       "    .dataframe tbody tr th:only-of-type {\n",
       "        vertical-align: middle;\n",
       "    }\n",
       "\n",
       "    .dataframe tbody tr th {\n",
       "        vertical-align: top;\n",
       "    }\n",
       "\n",
       "    .dataframe thead th {\n",
       "        text-align: right;\n",
       "    }\n",
       "</style>\n",
       "<table border=\"1\" class=\"dataframe\">\n",
       "  <thead>\n",
       "    <tr style=\"text-align: right;\">\n",
       "      <th></th>\n",
       "      <th>uid</th>\n",
       "      <th>gender</th>\n",
       "      <th>age</th>\n",
       "    </tr>\n",
       "  </thead>\n",
       "  <tbody>\n",
       "    <tr>\n",
       "      <th>0</th>\n",
       "      <td>bd7a30e1-a25d-4cbf-a03f-61748cbe540e</td>\n",
       "      <td>-</td>\n",
       "      <td>-</td>\n",
       "    </tr>\n",
       "    <tr>\n",
       "      <th>1</th>\n",
       "      <td>bd7a6f52-45db-49bf-90f2-a3b07a9b7bcd</td>\n",
       "      <td>-</td>\n",
       "      <td>-</td>\n",
       "    </tr>\n",
       "    <tr>\n",
       "      <th>2</th>\n",
       "      <td>bd7a7fd9-ab06-42f5-bf0f-1cbb0463004c</td>\n",
       "      <td>-</td>\n",
       "      <td>-</td>\n",
       "    </tr>\n",
       "    <tr>\n",
       "      <th>3</th>\n",
       "      <td>bd7c5d7a-0def-41d1-895f-fdb96c56c2d4</td>\n",
       "      <td>-</td>\n",
       "      <td>-</td>\n",
       "    </tr>\n",
       "    <tr>\n",
       "      <th>4</th>\n",
       "      <td>bd7e54a2-0215-45cb-a869-9efebf250e38</td>\n",
       "      <td>-</td>\n",
       "      <td>-</td>\n",
       "    </tr>\n",
       "  </tbody>\n",
       "</table>\n",
       "</div>"
      ],
      "text/plain": [
       "                                    uid gender age\n",
       "0  bd7a30e1-a25d-4cbf-a03f-61748cbe540e      -   -\n",
       "1  bd7a6f52-45db-49bf-90f2-a3b07a9b7bcd      -   -\n",
       "2  bd7a7fd9-ab06-42f5-bf0f-1cbb0463004c      -   -\n",
       "3  bd7c5d7a-0def-41d1-895f-fdb96c56c2d4      -   -\n",
       "4  bd7e54a2-0215-45cb-a869-9efebf250e38      -   -"
      ]
     },
     "execution_count": 149,
     "metadata": {},
     "output_type": "execute_result"
    }
   ],
   "source": [
    "df4_r = df4[['uid','gender','age']].drop_duplicates(subset=['uid'], keep='first').reset_index(drop=True)\n",
    "df4_r.head()"
   ]
  },
  {
   "cell_type": "code",
   "execution_count": null,
   "metadata": {},
   "outputs": [],
   "source": [
    "df4_r[\"uid\"].isin(result['uid'])"
   ]
  },
  {
   "cell_type": "code",
   "execution_count": null,
   "metadata": {},
   "outputs": [],
   "source": [
    "df4_r[\"uid\"].isin(result['uid'])"
   ]
  },
  {
   "cell_type": "code",
   "execution_count": 144,
   "metadata": {},
   "outputs": [
    {
     "name": "stdout",
     "output_type": "stream",
     "text": [
      "<class 'pandas.core.frame.DataFrame'>\n",
      "RangeIndex: 88736 entries, 0 to 88735\n",
      "Data columns (total 3 columns):\n",
      "uid       88736 non-null object\n",
      "gender    88736 non-null object\n",
      "age       88736 non-null object\n",
      "dtypes: object(3)\n",
      "memory usage: 2.0+ MB\n"
     ]
    }
   ],
   "source": [
    "df4_r[df4_r[\"uid\"].isin(result['uid'])]"
   ]
  },
  {
   "cell_type": "code",
   "execution_count": 150,
   "metadata": {},
   "outputs": [
    {
     "data": {
      "text/html": [
       "<div>\n",
       "<style scoped>\n",
       "    .dataframe tbody tr th:only-of-type {\n",
       "        vertical-align: middle;\n",
       "    }\n",
       "\n",
       "    .dataframe tbody tr th {\n",
       "        vertical-align: top;\n",
       "    }\n",
       "\n",
       "    .dataframe thead th {\n",
       "        text-align: right;\n",
       "    }\n",
       "</style>\n",
       "<table border=\"1\" class=\"dataframe\">\n",
       "  <thead>\n",
       "    <tr style=\"text-align: right;\">\n",
       "      <th></th>\n",
       "      <th>uid</th>\n",
       "      <th>gender</th>\n",
       "      <th>age</th>\n",
       "    </tr>\n",
       "  </thead>\n",
       "  <tbody>\n",
       "    <tr>\n",
       "      <th>0</th>\n",
       "      <td>bd7a30e1-a25d-4cbf-a03f-61748cbe540e</td>\n",
       "      <td>1</td>\n",
       "      <td>1</td>\n",
       "    </tr>\n",
       "    <tr>\n",
       "      <th>1</th>\n",
       "      <td>bd7a30e1-a25d-4cbf-a03f-61748cbe540e</td>\n",
       "      <td>1</td>\n",
       "      <td>1</td>\n",
       "    </tr>\n",
       "    <tr>\n",
       "      <th>2</th>\n",
       "      <td>bd7a30e1-a25d-4cbf-a03f-61748cbe540e</td>\n",
       "      <td>1</td>\n",
       "      <td>2</td>\n",
       "    </tr>\n",
       "    <tr>\n",
       "      <th>3</th>\n",
       "      <td>bd7a30e1-a25d-4cbf-a03f-61748cbe540e</td>\n",
       "      <td>1</td>\n",
       "      <td>1</td>\n",
       "    </tr>\n",
       "    <tr>\n",
       "      <th>4</th>\n",
       "      <td>bd7a30e1-a25d-4cbf-a03f-61748cbe540e</td>\n",
       "      <td>1</td>\n",
       "      <td>1</td>\n",
       "    </tr>\n",
       "  </tbody>\n",
       "</table>\n",
       "</div>"
      ],
      "text/plain": [
       "                                    uid  gender  age\n",
       "0  bd7a30e1-a25d-4cbf-a03f-61748cbe540e       1    1\n",
       "1  bd7a30e1-a25d-4cbf-a03f-61748cbe540e       1    1\n",
       "2  bd7a30e1-a25d-4cbf-a03f-61748cbe540e       1    2\n",
       "3  bd7a30e1-a25d-4cbf-a03f-61748cbe540e       1    1\n",
       "4  bd7a30e1-a25d-4cbf-a03f-61748cbe540e       1    1"
      ]
     },
     "execution_count": 150,
     "metadata": {},
     "output_type": "execute_result"
    }
   ],
   "source": [
    "result.head()"
   ]
  },
  {
   "cell_type": "code",
   "execution_count": 151,
   "metadata": {},
   "outputs": [
    {
     "data": {
      "text/html": [
       "<div>\n",
       "<style scoped>\n",
       "    .dataframe tbody tr th:only-of-type {\n",
       "        vertical-align: middle;\n",
       "    }\n",
       "\n",
       "    .dataframe tbody tr th {\n",
       "        vertical-align: top;\n",
       "    }\n",
       "\n",
       "    .dataframe thead th {\n",
       "        text-align: right;\n",
       "    }\n",
       "</style>\n",
       "<table border=\"1\" class=\"dataframe\">\n",
       "  <thead>\n",
       "    <tr style=\"text-align: right;\">\n",
       "      <th></th>\n",
       "      <th>uid</th>\n",
       "      <th>gender</th>\n",
       "      <th>age</th>\n",
       "    </tr>\n",
       "  </thead>\n",
       "  <tbody>\n",
       "    <tr>\n",
       "      <th>0</th>\n",
       "      <td>bd7a30e1-a25d-4cbf-a03f-61748cbe540e</td>\n",
       "      <td>-</td>\n",
       "      <td>-</td>\n",
       "    </tr>\n",
       "    <tr>\n",
       "      <th>1</th>\n",
       "      <td>bd7a6f52-45db-49bf-90f2-a3b07a9b7bcd</td>\n",
       "      <td>-</td>\n",
       "      <td>-</td>\n",
       "    </tr>\n",
       "    <tr>\n",
       "      <th>2</th>\n",
       "      <td>bd7a7fd9-ab06-42f5-bf0f-1cbb0463004c</td>\n",
       "      <td>-</td>\n",
       "      <td>-</td>\n",
       "    </tr>\n",
       "    <tr>\n",
       "      <th>3</th>\n",
       "      <td>bd7c5d7a-0def-41d1-895f-fdb96c56c2d4</td>\n",
       "      <td>-</td>\n",
       "      <td>-</td>\n",
       "    </tr>\n",
       "    <tr>\n",
       "      <th>4</th>\n",
       "      <td>bd7e54a2-0215-45cb-a869-9efebf250e38</td>\n",
       "      <td>-</td>\n",
       "      <td>-</td>\n",
       "    </tr>\n",
       "  </tbody>\n",
       "</table>\n",
       "</div>"
      ],
      "text/plain": [
       "                                    uid gender age\n",
       "0  bd7a30e1-a25d-4cbf-a03f-61748cbe540e      -   -\n",
       "1  bd7a6f52-45db-49bf-90f2-a3b07a9b7bcd      -   -\n",
       "2  bd7a7fd9-ab06-42f5-bf0f-1cbb0463004c      -   -\n",
       "3  bd7c5d7a-0def-41d1-895f-fdb96c56c2d4      -   -\n",
       "4  bd7e54a2-0215-45cb-a869-9efebf250e38      -   -"
      ]
     },
     "execution_count": 151,
     "metadata": {},
     "output_type": "execute_result"
    }
   ],
   "source": [
    "df4_r.head()"
   ]
  },
  {
   "cell_type": "code",
   "execution_count": 157,
   "metadata": {},
   "outputs": [
    {
     "data": {
      "text/plain": [
       "4949"
      ]
     },
     "execution_count": 157,
     "metadata": {},
     "output_type": "execute_result"
    }
   ],
   "source": [
    "len(list(set(df4_r['uid']).intersection(set(result['uid']))))"
   ]
  },
  {
   "cell_type": "code",
   "execution_count": 142,
   "metadata": {},
   "outputs": [
    {
     "data": {
      "text/plain": [
       "(7745383, 5)"
      ]
     },
     "execution_count": 142,
     "metadata": {},
     "output_type": "execute_result"
    }
   ],
   "source": [
    "pd.merge(df4_r, result, on=['uid', 'uid'], how='left').shape"
   ]
  },
  {
   "cell_type": "code",
   "execution_count": 136,
   "metadata": {},
   "outputs": [
    {
     "data": {
      "text/html": [
       "<div>\n",
       "<style scoped>\n",
       "    .dataframe tbody tr th:only-of-type {\n",
       "        vertical-align: middle;\n",
       "    }\n",
       "\n",
       "    .dataframe tbody tr th {\n",
       "        vertical-align: top;\n",
       "    }\n",
       "\n",
       "    .dataframe thead th {\n",
       "        text-align: right;\n",
       "    }\n",
       "</style>\n",
       "<table border=\"1\" class=\"dataframe\">\n",
       "  <thead>\n",
       "    <tr style=\"text-align: right;\">\n",
       "      <th></th>\n",
       "      <th>uid</th>\n",
       "      <th>gender</th>\n",
       "      <th>age</th>\n",
       "    </tr>\n",
       "  </thead>\n",
       "  <tbody>\n",
       "    <tr>\n",
       "      <th>0</th>\n",
       "      <td>bd7a30e1-a25d-4cbf-a03f-61748cbe540e</td>\n",
       "      <td>1</td>\n",
       "      <td>1</td>\n",
       "    </tr>\n",
       "    <tr>\n",
       "      <th>1</th>\n",
       "      <td>bd7a30e1-a25d-4cbf-a03f-61748cbe540e</td>\n",
       "      <td>1</td>\n",
       "      <td>1</td>\n",
       "    </tr>\n",
       "    <tr>\n",
       "      <th>2</th>\n",
       "      <td>bd7a30e1-a25d-4cbf-a03f-61748cbe540e</td>\n",
       "      <td>1</td>\n",
       "      <td>2</td>\n",
       "    </tr>\n",
       "    <tr>\n",
       "      <th>3</th>\n",
       "      <td>bd7a30e1-a25d-4cbf-a03f-61748cbe540e</td>\n",
       "      <td>1</td>\n",
       "      <td>1</td>\n",
       "    </tr>\n",
       "    <tr>\n",
       "      <th>4</th>\n",
       "      <td>bd7a30e1-a25d-4cbf-a03f-61748cbe540e</td>\n",
       "      <td>1</td>\n",
       "      <td>1</td>\n",
       "    </tr>\n",
       "  </tbody>\n",
       "</table>\n",
       "</div>"
      ],
      "text/plain": [
       "                                    uid  gender  age\n",
       "0  bd7a30e1-a25d-4cbf-a03f-61748cbe540e       1    1\n",
       "1  bd7a30e1-a25d-4cbf-a03f-61748cbe540e       1    1\n",
       "2  bd7a30e1-a25d-4cbf-a03f-61748cbe540e       1    2\n",
       "3  bd7a30e1-a25d-4cbf-a03f-61748cbe540e       1    1\n",
       "4  bd7a30e1-a25d-4cbf-a03f-61748cbe540e       1    1"
      ]
     },
     "execution_count": 136,
     "metadata": {},
     "output_type": "execute_result"
    }
   ],
   "source": [
    "result.head()"
   ]
  },
  {
   "cell_type": "code",
   "execution_count": 65,
   "metadata": {},
   "outputs": [
    {
     "name": "stdout",
     "output_type": "stream",
     "text": [
      "(5000, 3)\n"
     ]
    }
   ],
   "source": [
    "result_fin = result.groupby('uid').agg(lambda x:x.value_counts().index[0]).reset_index(drop=False)\n",
    "print(result_fin.shape)"
   ]
  },
  {
   "cell_type": "code",
   "execution_count": 46,
   "metadata": {},
   "outputs": [],
   "source": [
    "#res_pd = pd.DataFrame(result_fin[['gender','age']].values == result_fin[['gender_y','age_y']].values)"
   ]
  },
  {
   "cell_type": "code",
   "execution_count": 47,
   "metadata": {},
   "outputs": [],
   "source": [
    "#res_pd[((res_pd[0] == True) & (res_pd[1] == True))].shape[0]/36138"
   ]
  },
  {
   "cell_type": "code",
   "execution_count": 48,
   "metadata": {},
   "outputs": [
    {
     "name": "stderr",
     "output_type": "stream",
     "text": [
      "/opt/anaconda/envs/bd9/lib/python3.6/site-packages/sklearn/preprocessing/label.py:151: DeprecationWarning: The truth value of an empty array is ambiguous. Returning False, but in future this will result in an error. Use `array.size > 0` to check that an array is not empty.\n",
      "  if diff:\n",
      "/opt/anaconda/envs/bd9/lib/python3.6/site-packages/sklearn/preprocessing/label.py:151: DeprecationWarning: The truth value of an empty array is ambiguous. Returning False, but in future this will result in an error. Use `array.size > 0` to check that an array is not empty.\n",
      "  if diff:\n"
     ]
    }
   ],
   "source": [
    "# сначала вернём обратно лэйблы по энкодингу\n",
    "result_fin['gender'] = le_gender.inverse_transform(result_fin['gender'])\n",
    "result_fin['age'] = le_age.inverse_transform(result_fin['age'])\n",
    "\n",
    "#result_fin['gender_y'] = le_gender.inverse_transform(result_fin['gender_y'])\n",
    "#result_fin['age_y'] = le_age.inverse_transform(result_fin['age_y'])"
   ]
  },
  {
   "cell_type": "code",
   "execution_count": 49,
   "metadata": {},
   "outputs": [
    {
     "data": {
      "text/html": [
       "<div>\n",
       "<style scoped>\n",
       "    .dataframe tbody tr th:only-of-type {\n",
       "        vertical-align: middle;\n",
       "    }\n",
       "\n",
       "    .dataframe tbody tr th {\n",
       "        vertical-align: top;\n",
       "    }\n",
       "\n",
       "    .dataframe thead th {\n",
       "        text-align: right;\n",
       "    }\n",
       "</style>\n",
       "<table border=\"1\" class=\"dataframe\">\n",
       "  <thead>\n",
       "    <tr style=\"text-align: right;\">\n",
       "      <th></th>\n",
       "      <th>uid</th>\n",
       "      <th>gender</th>\n",
       "      <th>age</th>\n",
       "    </tr>\n",
       "  </thead>\n",
       "  <tbody>\n",
       "    <tr>\n",
       "      <th>0</th>\n",
       "      <td>0000e7ca-32e6-4bef-bdca-e21c025071ff</td>\n",
       "      <td>F</td>\n",
       "      <td>25-34</td>\n",
       "    </tr>\n",
       "    <tr>\n",
       "      <th>1</th>\n",
       "      <td>0000f3cf-6e9a-4eab-92f4-cefdad108c83</td>\n",
       "      <td>M</td>\n",
       "      <td>25-34</td>\n",
       "    </tr>\n",
       "    <tr>\n",
       "      <th>2</th>\n",
       "      <td>000381a6-0400-40f8-98c0-93a6c0852d2d</td>\n",
       "      <td>F</td>\n",
       "      <td>25-34</td>\n",
       "    </tr>\n",
       "    <tr>\n",
       "      <th>3</th>\n",
       "      <td>00062d89-a3ba-40dd-9a25-212c9f429133</td>\n",
       "      <td>F</td>\n",
       "      <td>25-34</td>\n",
       "    </tr>\n",
       "    <tr>\n",
       "      <th>4</th>\n",
       "      <td>0009233e-a0c2-438e-ac36-bd3e1b7dad1e</td>\n",
       "      <td>M</td>\n",
       "      <td>25-34</td>\n",
       "    </tr>\n",
       "  </tbody>\n",
       "</table>\n",
       "</div>"
      ],
      "text/plain": [
       "                                    uid gender    age\n",
       "0  0000e7ca-32e6-4bef-bdca-e21c025071ff      F  25-34\n",
       "1  0000f3cf-6e9a-4eab-92f4-cefdad108c83      M  25-34\n",
       "2  000381a6-0400-40f8-98c0-93a6c0852d2d      F  25-34\n",
       "3  00062d89-a3ba-40dd-9a25-212c9f429133      F  25-34\n",
       "4  0009233e-a0c2-438e-ac36-bd3e1b7dad1e      M  25-34"
      ]
     },
     "execution_count": 49,
     "metadata": {},
     "output_type": "execute_result"
    }
   ],
   "source": [
    "result_fin.head()"
   ]
  },
  {
   "cell_type": "code",
   "execution_count": 50,
   "metadata": {},
   "outputs": [],
   "source": [
    "output = result_fin\n",
    "output.sort_values(by='uid',axis = 0, ascending = True, inplace = True)\n",
    "#sys.stdout.write(output.to_json(orient='records'))"
   ]
  },
  {
   "cell_type": "code",
   "execution_count": 51,
   "metadata": {},
   "outputs": [
    {
     "data": {
      "text/plain": [
       "M    4049\n",
       "F     951\n",
       "Name: gender, dtype: int64"
      ]
     },
     "execution_count": 51,
     "metadata": {},
     "output_type": "execute_result"
    }
   ],
   "source": [
    "output['gender'].value_counts(dropna = False)"
   ]
  },
  {
   "cell_type": "code",
   "execution_count": 52,
   "metadata": {},
   "outputs": [
    {
     "data": {
      "text/plain": [
       "25-34    4493\n",
       "35-44     307\n",
       "45-54      83\n",
       ">=55       63\n",
       "18-24      54\n",
       "Name: age, dtype: int64"
      ]
     },
     "execution_count": 52,
     "metadata": {},
     "output_type": "execute_result"
    }
   ],
   "source": [
    "output['age'].value_counts(dropna = False)"
   ]
  },
  {
   "cell_type": "code",
   "execution_count": 74,
   "metadata": {},
   "outputs": [],
   "source": [
    "#res_pd = pd.DataFrame(output[['gender','age']].values == output[['gender_y','age_y']].values)"
   ]
  },
  {
   "cell_type": "code",
   "execution_count": 53,
   "metadata": {},
   "outputs": [],
   "source": [
    "#res_pd[((res_pd[0] == True) & (res_pd[1] == True))].shape[0]/36138"
   ]
  },
  {
   "cell_type": "code",
   "execution_count": null,
   "metadata": {},
   "outputs": [],
   "source": []
  },
  {
   "cell_type": "code",
   "execution_count": null,
   "metadata": {},
   "outputs": [],
   "source": [
    "#t1 = time.clock() - t0\n",
    "#print(\"Time elapsed: \", t1) # CPU seconds elapsed (floating point)\n",
    "#print(\"SLA: \", t1/output.shape[0])"
   ]
  }
 ],
 "metadata": {
  "kernelspec": {
   "display_name": "Python 3",
   "language": "python",
   "name": "python3"
  },
  "language_info": {
   "codemirror_mode": {
    "name": "ipython",
    "version": 3
   },
   "file_extension": ".py",
   "mimetype": "text/x-python",
   "name": "python",
   "nbconvert_exporter": "python",
   "pygments_lexer": "ipython3",
   "version": "3.6.5"
  }
 },
 "nbformat": 4,
 "nbformat_minor": 2
}
