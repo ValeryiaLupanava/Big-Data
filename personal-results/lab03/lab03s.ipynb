{
 "cells": [
  {
   "cell_type": "markdown",
   "metadata": {},
   "source": [
    "CMD commands =>"
   ]
  },
  {
   "cell_type": "code",
   "execution_count": null,
   "metadata": {},
   "outputs": [],
   "source": [
    "valeria.lupanova@bd-master:~$ hadoop fs -ls /user/valeria.lupanova\n",
    "valeria.lupanova@bd-master:~$ hadoop fs -mkdir /user/valeria.lupanova/lab03/\n",
    "valeria.lupanova@bd-master:~$ hadoop fs -mkdir /user/valeria.lupanova/lab03/input\n",
    "valeria.lupanova@bd-master:~$ hadoop fs -mkdir /user/valeria.lupanova/lab03/output\n",
    "valeria.lupanova@bd-master:~$ hadoop fs -cat /user/valeria.lupanova/lab03/input/part-00000 | head -n100\n",
    "    \n",
    "valeria.lupanova@bd-master:~$ beeline jdbc:hive2://bd-node1.newprolab.com:10000 -n valeria.lupanova\n",
    "\n",
    "password VD3H6ehz\n",
    "\n",
    "use valeria_lupanova;\n",
    "show tables;"
   ]
  },
  {
   "cell_type": "markdown",
   "metadata": {},
   "source": [
    "Table for analysing data =>"
   ]
  },
  {
   "cell_type": "code",
   "execution_count": null,
   "metadata": {},
   "outputs": [],
   "source": [
    "create external table valeria_lupanova.raw_data\n",
    "(uid string comment 'Уникальный идентификатор пользователя', \n",
    " ts string comment 'Отметка времен в UNIX формате', \n",
    " domain string comment 'Экранированный URL')\n",
    "ROW FORMAT DELIMITED\n",
    "FIELDS TERMINATED BY '\\t'\n",
    "STORED AS TEXTFILE\n",
    "LOCATION 'hdfs://bd-master.newprolab.com:8020/user/valeria.lupanova/lab03/input';"
   ]
  },
  {
   "cell_type": "code",
   "execution_count": null,
   "metadata": {},
   "outputs": [],
   "source": []
  },
  {
   "cell_type": "code",
   "execution_count": null,
   "metadata": {},
   "outputs": [],
   "source": [
    "msck repair table valeria_lupanova.raw_data;\n",
    "select * from valeria_lupanova.raw_data limit 100;"
   ]
  },
  {
   "cell_type": "markdown",
   "metadata": {},
   "source": [
    "Table for resulting data =>"
   ]
  },
  {
   "cell_type": "code",
   "execution_count": null,
   "metadata": {},
   "outputs": [],
   "source": [
    "create external table valeria_lupanova.valeria_lupanova \n",
    "(uid bigint, \n",
    " user_cat1_flag bigint, \n",
    " user_cat2_flag bigint,  \n",
    " user_cat3_flag bigint, \n",
    " user_cat4_flag bigint)\n",
    "ROW FORMAT DELIMITED\n",
    "FIELDS TERMINATED BY '\\t'\n",
    "STORED AS TEXTFILE\n",
    "LOCATION 'hdfs://bd-master.newprolab.com:8020/user/valeria.lupanova/lab03/output';"
   ]
  },
  {
   "cell_type": "code",
   "execution_count": null,
   "metadata": {},
   "outputs": [],
   "source": [
    "+-------------------+\n",
    "|     tab_name      |\n",
    "+-------------------+\n",
    "| input_data        |\n",
    "| valeria_lupanova  |\n",
    "+-------------------+"
   ]
  },
  {
   "cell_type": "code",
   "execution_count": null,
   "metadata": {},
   "outputs": [],
   "source": []
  },
  {
   "cell_type": "code",
   "execution_count": null,
   "metadata": {},
   "outputs": [],
   "source": [
    "INSERT OVERWRITE DIRECTORY 'hdfs://bd-master.newprolab.com:8020/user/valeria.lupanova/lab03/output'\n",
    "ROW FORMAT DELIMITED\n",
    "FIELDS TERMINATED BY '\\t'\n",
    "STORED AS TEXTFILE\n",
    "select distinct a.uid as uid, \n",
    "case when a.domain in ('cars.ru', 'avto-russia.ru', 'bmwclub.ru') and a.cnt >= 10 then 1 else 0 end as user_cat1_flag, \n",
    "case when a.domain in ('zakon.kz', 'egov.kz', 'makler.md') and a.cnt >= 10 then 1 else 0 end as user_cat2_flag,\n",
    "case when a.domain in ('russianfood.com', 'psychologies.ru', 'gotovim.ru') and a.cnt >= 10 then 1 else 0 end as user_cat3_flag,\n",
    "case when a.domain in ('books.imhonet.ru', 'zhurnaly.biz', 'zvukobook.ru') and a.cnt >= 10 then 1 else 0 end as user_cat4_flag from \n",
    "(select uid, domain, count(*) as cnt from raw_data group by uid, domain) a\n",
    "order by a.uid;"
   ]
  },
  {
   "cell_type": "code",
   "execution_count": null,
   "metadata": {},
   "outputs": [],
   "source": []
  },
  {
   "cell_type": "code",
   "execution_count": null,
   "metadata": {},
   "outputs": [],
   "source": [
    "hdfs dfs -cat /user/valeria.lupanova/lab03/output/* > ~/lab03_users.txt"
   ]
  },
  {
   "cell_type": "code",
   "execution_count": null,
   "metadata": {},
   "outputs": [],
   "source": []
  },
  {
   "cell_type": "code",
   "execution_count": null,
   "metadata": {},
   "outputs": [],
   "source": [
    "INSERT OVERWRITE DIRECTORY 'hdfs://bd-master.newprolab.com:8020/user/valeria.lupanova/lab03s/input'\n",
    "ROW FORMAT DELIMITED\n",
    "FIELDS TERMINATED BY '\\t'\n",
    "STORED AS TEXTFILE\n",
    "select a.domain, nvl(b.user_cat1_flag,0) \n",
    "from raw_data a left join valeria_lupanova b \n",
    "on a.uid = b.uid \n",
    "and b.user_cat1_flag=1 \n",
    "order by a.domain;"
   ]
  },
  {
   "cell_type": "code",
   "execution_count": null,
   "metadata": {},
   "outputs": [],
   "source": []
  },
  {
   "cell_type": "code",
   "execution_count": null,
   "metadata": {},
   "outputs": [],
   "source": [
    "create external table valeria_lupanova.raw_data_s\n",
    "(domain string comment 'Экранированный URL',\n",
    "is_autouser string,\n",
    "is_total)\n",
    "ROW FORMAT DELIMITED\n",
    "FIELDS TERMINATED BY '\\t'\n",
    "STORED AS TEXTFILE\n",
    "LOCATION 'hdfs://bd-master.newprolab.com:8020/user/valeria.lupanova/lab03s/input';"
   ]
  },
  {
   "cell_type": "code",
   "execution_count": null,
   "metadata": {},
   "outputs": [],
   "source": []
  },
  {
   "cell_type": "code",
   "execution_count": null,
   "metadata": {},
   "outputs": [],
   "source": [
    "select distinct domain\n",
    "from raw_data_s;"
   ]
  },
  {
   "cell_type": "code",
   "execution_count": null,
   "metadata": {},
   "outputs": [],
   "source": [
    "select domain,\n",
    "sum(is_autouser) as current_domains_with_1\n",
    "from raw_data_s\n",
    "group by domain;"
   ]
  },
  {
   "cell_type": "code",
   "execution_count": null,
   "metadata": {},
   "outputs": [],
   "source": [
    "select domain,\n",
    "count(domain) as current_domains\n",
    "from raw_data_s\n",
    "group by domain;"
   ]
  },
  {
   "cell_type": "code",
   "execution_count": null,
   "metadata": {},
   "outputs": [],
   "source": [
    "select \n",
    "sum(is_autouser) as total_domains_with_1,\n",
    "sum(case when is_autouser = 0 then 1 else is_autouser end) as total_domains \n",
    "from raw_data_s;"
   ]
  },
  {
   "cell_type": "code",
   "execution_count": null,
   "metadata": {},
   "outputs": [],
   "source": []
  },
  {
   "cell_type": "code",
   "execution_count": null,
   "metadata": {},
   "outputs": [],
   "source": [
    "INSERT OVERWRITE DIRECTORY 'hdfs://bd-master.newprolab.com:8020/user/valeria.lupanova/lab03s/output'\n",
    "ROW FORMAT DELIMITED\n",
    "FIELDS TERMINATED BY '\\t'\n",
    "STORED AS TEXTFILE\n",
    "select a0.domain, \n",
    "round((pow(a3.current_domains_with_1/a1.total_domains,2))/\n",
    "      ((a2.current_domains/a1.total_domains)*(a1.total_domains_with_1/a1.total_domains)),20) as relevance\n",
    "from (select distinct domain\n",
    "from raw_data_s) a0 \n",
    "join (select \n",
    "sum(is_autouser) as total_domains_with_1,\n",
    "sum(case when is_autouser = 0 then 1 else is_autouser end) as total_domains \n",
    "from raw_data_s) a1\n",
    "join (select domain,\n",
    "count(domain) as current_domains\n",
    "from raw_data_s\n",
    "group by domain) a2 on a0.domain = a2.domain\n",
    "join (select domain,\n",
    "sum(is_autouser) as current_domains_with_1\n",
    "from raw_data_s\n",
    "group by domain) a3 on a0.domain = a3.domain\n",
    "order by 2 desc, 1 asc\n",
    "limit 200;"
   ]
  },
  {
   "cell_type": "code",
   "execution_count": null,
   "metadata": {},
   "outputs": [],
   "source": []
  },
  {
   "cell_type": "code",
   "execution_count": null,
   "metadata": {},
   "outputs": [],
   "source": [
    "hdfs dfs -cat /user/valeria.lupanova/lab03s/output/* > ~/lab03s_domains.txt"
   ]
  },
  {
   "cell_type": "code",
   "execution_count": null,
   "metadata": {},
   "outputs": [],
   "source": []
  },
  {
   "cell_type": "markdown",
   "metadata": {},
   "source": [
    "Declaring libraries =>"
   ]
  },
  {
   "cell_type": "code",
   "execution_count": null,
   "metadata": {},
   "outputs": [],
   "source": [
    "#!/opt/anaconda/envs/bd9/bin/python\n",
    "\n",
    "from urllib.parse import urlparse, unquote\n",
    "import sys\n",
    "import re"
   ]
  },
  {
   "cell_type": "markdown",
   "metadata": {},
   "source": [
    "Declaring url2domain() for getting domain =>"
   ]
  },
  {
   "cell_type": "code",
   "execution_count": null,
   "metadata": {},
   "outputs": [],
   "source": [
    "def url2domain(url):\n",
    "    try:\n",
    "        a = urlparse(unquote(url.strip()))\n",
    "        if (a.scheme in ['http','https']):\n",
    "            b = re.search(\"(?:www\\.)?(.*)\",a.netloc).group(1)\n",
    "            if b is not None:\n",
    "                return str(b).strip()\n",
    "            else:\n",
    "                return ''\n",
    "        else:\n",
    "            return ''\n",
    "    except:\n",
    "        return"
   ]
  },
  {
   "cell_type": "code",
   "execution_count": null,
   "metadata": {},
   "outputs": [],
   "source": []
  },
  {
   "cell_type": "markdown",
   "metadata": {},
   "source": [
    "Lab variables =>"
   ]
  },
  {
   "cell_type": "code",
   "execution_count": null,
   "metadata": {},
   "outputs": [],
   "source": [
    "# User categories\n",
    "category_1 = 'Autouser'\n",
    "category_2 = 'Businessuser'\n",
    "category_3 = 'Homeuser'\n",
    "category_4 = 'Bookuser'\n",
    "# Analysed domains \n",
    "domains_category_1 = [u'cars.ru', u'avto-russia.ru', u'bmwclub.ru']\n",
    "domains_category_2 = [u'zakon.kz', u'egov.kz', u'makler.md']\n",
    "domains_category_3 = [u'russianfood.com', u'psychologies.ru', u'gotovim.ru']\n",
    "domains_category_4 = [u'books.imhonet.ru', u'zhurnaly.biz', u'zvukobook.ru']\n",
    "\n",
    "# User identificators by categories\n",
    "id1 = 2\n",
    "id2 = 3\n",
    "id3 = 4\n",
    "id4 = 5"
   ]
  },
  {
   "cell_type": "markdown",
   "metadata": {},
   "source": [
    "Declaring mapper() =>"
   ]
  },
  {
   "cell_type": "code",
   "execution_count": null,
   "metadata": {},
   "outputs": [],
   "source": [
    "def mapper(line):\n",
    "    uid, ts, url = line.split('\\t')\n",
    "    if (re.match(r'^[\\d]+$', (uid.split('\\t'))[0]) and re.match(r'^[\\d]+\\.[\\d]+$', ts)\n",
    "        and (re.match(r'^http.+$', url) or re.match(r'^https.+$', url))):\n",
    "        print('{}\\t{}\\t{}\\n'.format(uid, ts, url))"
   ]
  },
  {
   "cell_type": "markdown",
   "metadata": {
    "scrolled": false
   },
   "source": [
    "Declaring main() =>"
   ]
  },
  {
   "cell_type": "code",
   "execution_count": null,
   "metadata": {},
   "outputs": [],
   "source": [
    "def main():\n",
    "    try:\n",
    "        for line in sys.stdin:\n",
    "            mapper(line)\n",
    "    except:\n",
    "        return"
   ]
  },
  {
   "cell_type": "markdown",
   "metadata": {},
   "source": [
    "Declaring __name__ method =>"
   ]
  },
  {
   "cell_type": "code",
   "execution_count": null,
   "metadata": {},
   "outputs": [],
   "source": [
    "if __init == '__main':\n",
    "    def main()"
   ]
  }
 ],
 "metadata": {
  "kernelspec": {
   "display_name": "Python 3",
   "language": "python",
   "name": "python3"
  },
  "language_info": {
   "codemirror_mode": {
    "name": "ipython",
    "version": 3
   },
   "file_extension": ".py",
   "mimetype": "text/x-python",
   "name": "python",
   "nbconvert_exporter": "python",
   "pygments_lexer": "ipython3",
   "version": "3.6.5"
  }
 },
 "nbformat": 4,
 "nbformat_minor": 2
}
