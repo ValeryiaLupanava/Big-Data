{
 "cells": [
  {
   "cell_type": "markdown",
   "metadata": {},
   "source": [
    "#0 Входные данные варианта лабораторной работы."
   ]
  },
  {
   "cell_type": "code",
   "execution_count": null,
   "metadata": {},
   "outputs": [],
   "source": [
    "# User categories\n",
    "category_1 = 'Autouser'\n",
    "category_2 = 'Businessuser'\n",
    "category_3 = 'Homeuser'\n",
    "category_4 = 'Bookuser'\n",
    "# Analysed domains \n",
    "domains_category_1 = [u'cars.ru', u'avto-russia.ru', u'bmwclub.ru']\n",
    "domains_category_2 = [u'zakon.kz', u'egov.kz', u'makler.md']\n",
    "domains_category_3 = [u'russianfood.com', u'psychologies.ru', u'gotovim.ru']\n",
    "domains_category_4 = [u'books.imhonet.ru', u'zhurnaly.biz', u'zvukobook.ru']\n",
    "\n",
    "# User identificators by categories\n",
    "id1 = 2\n",
    "id2 = 3\n",
    "id3 = 4\n",
    "id4 = 5"
   ]
  },
  {
   "cell_type": "code",
   "execution_count": null,
   "metadata": {},
   "outputs": [],
   "source": []
  },
  {
   "cell_type": "markdown",
   "metadata": {},
   "source": [
    "#1 Обработка исходных файлов для получения данных."
   ]
  },
  {
   "cell_type": "code",
   "execution_count": null,
   "metadata": {},
   "outputs": [],
   "source": [
    "#!/opt/anaconda/envs/bd9/bin/python\n",
    "\n",
    "#Command for launching python file\n",
    "'''\n",
    "hadoop jar /usr/hdp/current/hadoop-mapreduce-client/hadoop-streaming.jar \\\n",
    "-D mapred.reduce.tasks=0 \\\n",
    "-input /labs/lab03data/* \\\n",
    "-output /user/valeria.lupanova/lab03/input \\\n",
    "-mapper \"/opt/anaconda/envs/bd9/bin/python lab03.py\" \\\n",
    "-file \"./lab03.py\"\n",
    "'''\n",
    "\n",
    "from urllib.parse import urlparse, unquote\n",
    "import sys\n",
    "import re\n",
    "\n",
    "def url2domain(url):\n",
    "    try:\n",
    "        a = urlparse(unquote(url.strip()))\n",
    "        if (a.scheme in ['http','https']):\n",
    "            b = re.search(\"(?:www\\.)?(.*)\",a.netloc).group(1)\n",
    "            if b is not None:\n",
    "                return str(b).strip()\n",
    "            else:\n",
    "                return ''\n",
    "        else:\n",
    "            return ''\n",
    "    except:\n",
    "        return ''\n",
    "\n",
    "def mapper(line):\n",
    "    \n",
    "    uid, ts, url = line.split('\\t') \n",
    "    \n",
    "    if (uid is not None and url is not None and\n",
    "        (re.match(r'^http.+$', url) or re.match(r'^https.+$', url))):\n",
    "        domain = url2domain(url)\n",
    "        print('{}\\t{}\\t{}'.format(uid, ts, domain))\n",
    "\n",
    "                    \n",
    "def main():\n",
    "\n",
    "    for line in sys.stdin:\n",
    "        try:\n",
    "            mapper(line)\n",
    "        except ValueError:\n",
    "            continue\n",
    "\n",
    "\n",
    "if __name__ == '__main__':\n",
    "    main()"
   ]
  },
  {
   "cell_type": "code",
   "execution_count": null,
   "metadata": {},
   "outputs": [],
   "source": []
  },
  {
   "cell_type": "markdown",
   "metadata": {},
   "source": [
    "#2 Создание таблицы для работы с обработанными исходными данными."
   ]
  },
  {
   "cell_type": "code",
   "execution_count": null,
   "metadata": {},
   "outputs": [],
   "source": [
    "create external table valeria_lupanova.raw_data\n",
    "(uid string    comment 'Уникальный идентификатор пользователя', \n",
    " ts string     comment 'Отметка времен в UNIX формате', \n",
    " domain string comment 'Экранированный URL')\n",
    "ROW FORMAT DELIMITED\n",
    "FIELDS TERMINATED BY '\\t'\n",
    "STORED AS TEXTFILE\n",
    "LOCATION 'hdfs://bd-master.newprolab.com:8020/user/valeria.lupanova/lab03/input';"
   ]
  },
  {
   "cell_type": "code",
   "execution_count": null,
   "metadata": {},
   "outputs": [],
   "source": []
  },
  {
   "cell_type": "code",
   "execution_count": null,
   "metadata": {},
   "outputs": [],
   "source": [
    "msck repair table valeria_lupanova.raw_data;\n",
    "select * from valeria_lupanova.raw_data limit 100;"
   ]
  },
  {
   "cell_type": "code",
   "execution_count": null,
   "metadata": {},
   "outputs": [],
   "source": []
  },
  {
   "cell_type": "markdown",
   "metadata": {},
   "source": [
    "#3 Создание таблицы для результирующих данных."
   ]
  },
  {
   "cell_type": "code",
   "execution_count": null,
   "metadata": {},
   "outputs": [],
   "source": [
    "create external table valeria_lupanova.valeria_lupanova \n",
    "(uid            bigint, \n",
    " user_cat1_flag bigint, \n",
    " user_cat2_flag bigint,  \n",
    " user_cat3_flag bigint, \n",
    " user_cat4_flag bigint)\n",
    "ROW FORMAT DELIMITED\n",
    "FIELDS TERMINATED BY '\\t'\n",
    "STORED AS TEXTFILE\n",
    "LOCATION 'hdfs://bd-master.newprolab.com:8020/user/valeria.lupanova/lab03/output';"
   ]
  },
  {
   "cell_type": "code",
   "execution_count": null,
   "metadata": {},
   "outputs": [],
   "source": []
  },
  {
   "cell_type": "markdown",
   "metadata": {},
   "source": [
    "#4 Запись результирующих данных в output-директорию."
   ]
  },
  {
   "cell_type": "code",
   "execution_count": null,
   "metadata": {},
   "outputs": [],
   "source": [
    "INSERT OVERWRITE DIRECTORY 'hdfs://bd-master.newprolab.com:8020/user/valeria.lupanova/lab03/output'\n",
    "ROW FORMAT DELIMITED\n",
    "FIELDS TERMINATED BY '\\t'\n",
    "STORED AS TEXTFILE\n",
    "select distinct a.uid as uid, \n",
    "case when a.domain in ('cars.ru', 'avto-russia.ru', 'bmwclub.ru') and a.cnt >= 10 then 1 else 0 end as user_cat1_flag, \n",
    "case when a.domain in ('zakon.kz', 'egov.kz', 'makler.md') and a.cnt >= 10 then 1 else 0 end as user_cat2_flag,\n",
    "case when a.domain in ('russianfood.com', 'psychologies.ru', 'gotovim.ru') and a.cnt >= 10 then 1 else 0 end as user_cat3_flag,\n",
    "case when a.domain in ('books.imhonet.ru', 'zhurnaly.biz', 'zvukobook.ru') and a.cnt >= 10 then 1 else 0 end as user_cat4_flag from \n",
    "(select uid, domain, count(*) as cnt from raw_data group by uid, domain) a\n",
    "order by a.uid;"
   ]
  },
  {
   "cell_type": "code",
   "execution_count": null,
   "metadata": {},
   "outputs": [],
   "source": []
  },
  {
   "cell_type": "markdown",
   "metadata": {},
   "source": [
    "#5 Перенос данных в локальную директорию."
   ]
  },
  {
   "cell_type": "code",
   "execution_count": null,
   "metadata": {},
   "outputs": [],
   "source": [
    "hdfs dfs -cat /user/valeria.lupanova/lab03/output/* > ~/lab03_users.txt"
   ]
  },
  {
   "cell_type": "code",
   "execution_count": null,
   "metadata": {},
   "outputs": [],
   "source": []
  }
 ],
 "metadata": {
  "kernelspec": {
   "display_name": "Python 3",
   "language": "python",
   "name": "python3"
  },
  "language_info": {
   "codemirror_mode": {
    "name": "ipython",
    "version": 3
   },
   "file_extension": ".py",
   "mimetype": "text/x-python",
   "name": "python",
   "nbconvert_exporter": "python",
   "pygments_lexer": "ipython3",
   "version": "3.6.5"
  }
 },
 "nbformat": 4,
 "nbformat_minor": 2
}
