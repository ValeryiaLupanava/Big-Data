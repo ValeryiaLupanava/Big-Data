{
 "cells": [
  {
   "cell_type": "code",
   "execution_count": 5,
   "metadata": {},
   "outputs": [],
   "source": [
    "#!/opt/anaconda/envs/bd9/bin/python\n",
    "import happybase\n",
    "import sys"
   ]
  },
  {
   "cell_type": "code",
   "execution_count": 6,
   "metadata": {},
   "outputs": [],
   "source": [
    "import fileinput\n",
    "import os\n",
    "from decimal import Decimal\n",
    "import re"
   ]
  },
  {
   "cell_type": "markdown",
   "metadata": {},
   "source": [
    "### Let's check the properties of our the table"
   ]
  },
  {
   "cell_type": "code",
   "execution_count": 1,
   "metadata": {},
   "outputs": [],
   "source": [
    "#connection = happybase.Connection('bd-node2.newprolab.com')\n",
    "#connection.open()\n",
    "#connection.delete_table('valeria.lupanova', disable=True)\n",
    "#connection.close()"
   ]
  },
  {
   "cell_type": "code",
   "execution_count": 2,
   "metadata": {},
   "outputs": [],
   "source": [
    "#families={'facetz_2015_02_12':dict()}"
   ]
  },
  {
   "cell_type": "code",
   "execution_count": 3,
   "metadata": {},
   "outputs": [],
   "source": [
    "#connection = happybase.Connection('bd-node2.newprolab.com')\n",
    "#connection.open()\n",
    "#connection.create_table(name='valeria.lupanova', families=families)\n",
    "#connection.close()"
   ]
  },
  {
   "cell_type": "code",
   "execution_count": 7,
   "metadata": {},
   "outputs": [
    {
     "name": "stdout",
     "output_type": "stream",
     "text": [
      "{b'data': {'name': b'data:', 'max_versions': 4096, 'compression': b'NONE', 'in_memory': False, 'bloom_filter_type': b'ROW', 'bloom_filter_vector_size': 0, 'bloom_filter_nb_hashes': 0, 'block_cache_enabled': True, 'time_to_live': 2147483647}}\n",
      "[{'start_key': b'', 'end_key': b'', 'id': 1602885030676, 'name': b'valeria.lupanova,,1602885030676.9b7761610f689cdde2defbfed514fcf8.', 'version': 1, 'server_name': b'bd-node4.newprolab.com', 'port': 16020}]\n"
     ]
    }
   ],
   "source": [
    "connection = happybase.Connection('bd-node2.newprolab.com')\n",
    "connection.open()\n",
    "#print(connection.tables())\n",
    "table = connection.table('valeria.lupanova')\n",
    "print(table.families())\n",
    "print(table.regions())\n",
    "connection.close()"
   ]
  },
  {
   "cell_type": "markdown",
   "metadata": {},
   "source": [
    "### Here I try to emit one row of data to the table"
   ]
  },
  {
   "cell_type": "code",
   "execution_count": 30,
   "metadata": {},
   "outputs": [],
   "source": [
    "#connection = happybase.Connection('bd-node2.newprolab.com')\n",
    "#connection.open()\n",
    "#table = connection.table('valeria.lupanova')\n",
    "#table.put(row=b'413', data={b'data:url':b'http%3A%2F%2Fwww.ridus.ru%2F'}, timestamp=1423684799735)\n",
    "#connection.close()"
   ]
  },
  {
   "cell_type": "markdown",
   "metadata": {},
   "source": [
    "### Here I try to read one file, map it, preprocess and look at the result"
   ]
  },
  {
   "cell_type": "code",
   "execution_count": null,
   "metadata": {},
   "outputs": [],
   "source": [
    "#os.listdir('facetz_2015_02_12')"
   ]
  },
  {
   "cell_type": "code",
   "execution_count": 54,
   "metadata": {
    "scrolled": false
   },
   "outputs": [
    {
     "name": "stdout",
     "output_type": "stream",
     "text": [
      "part-00068\n",
      "part-00171\n",
      "part-00168\n",
      "part-00021\n",
      "part-00146\n",
      "part-00050\n",
      "part-00023\n",
      "part-00092\n",
      "part-00154\n",
      "part-00086\n",
      "part-00089\n",
      "part-00156\n",
      "part-00137\n",
      "part-00148\n",
      "part-00142\n",
      "part-00051\n",
      "part-00090\n",
      "part-00017\n",
      "part-00083\n",
      "part-00120\n",
      "part-00070\n",
      "part-00003\n",
      "1671507613 1423692352353 http%3A//www.as8.ru/forum/\n",
      "Success!\n",
      "part-00005\n",
      "part-00001\n",
      "part-00006\n",
      "part-00088\n",
      "part-00054\n",
      "part-00058\n",
      "part-00094\n",
      "part-00080\n",
      "part-00134\n",
      "part-00019\n",
      "part-00057\n",
      "part-00150\n",
      "part-00045\n",
      "part-00066\n",
      "part-00053\n",
      "part-00047\n",
      "part-00166\n",
      "part-00119\n",
      "part-00069\n",
      "part-00007\n",
      "part-00015\n",
      "part-00048\n",
      "part-00101\n",
      "part-00122\n",
      "part-00174\n",
      "part-00115\n",
      "part-00097\n",
      "part-00013\n",
      "part-00157\n",
      "part-00112\n",
      "part-00132\n",
      "part-00099\n",
      "part-00010\n",
      "part-00091\n",
      "part-00110\n",
      "part-00008\n",
      "part-00133\n",
      "part-00103\n",
      "part-00022\n",
      "part-00118\n",
      "part-00173\n",
      "part-00114\n",
      "part-00063\n",
      "part-00106\n",
      "part-00000\n",
      "part-00107\n",
      "part-00076\n",
      "part-00079\n",
      "part-00129\n",
      "part-00038\n",
      "part-00130\n",
      "part-00169\n",
      "part-00073\n",
      "part-00087\n",
      "part-00136\n",
      "part-00042\n",
      "part-00084\n",
      "part-00043\n",
      "part-00027\n",
      "part-00144\n",
      "part-00140\n",
      "part-00039\n",
      "part-00034\n",
      "part-00024\n",
      "part-00072\n",
      "part-00056\n",
      "part-00026\n",
      "part-00040\n",
      "part-00149\n",
      "part-00030\n",
      "part-00041\n",
      "part-00016\n",
      "part-00018\n",
      "part-00095\n",
      "part-00105\n",
      "part-00055\n",
      "part-00128\n",
      "part-00164\n",
      "part-00081\n",
      "part-00067\n",
      "part-00123\n",
      "part-00049\n",
      "part-00167\n",
      "part-00012\n",
      "_SUCCESS\n",
      "part-00127\n",
      "part-00075\n",
      "part-00172\n",
      "part-00071\n",
      "part-00104\n",
      "part-00060\n",
      "part-00062\n",
      "part-00145\n",
      "part-00077\n",
      "part-00159\n",
      "part-00160\n",
      "part-00064\n",
      "part-00108\n",
      "part-00141\n",
      "part-00037\n",
      "part-00143\n",
      "part-00009\n",
      "part-00102\n",
      "part-00035\n",
      "part-00124\n",
      "part-00020\n",
      "part-00161\n",
      "part-00078\n",
      "part-00025\n",
      "part-00031\n",
      "part-00059\n",
      "part-00151\n",
      "part-00131\n",
      "1671507613 1423685284406 http%3A//www.as8.ru/forum/\n",
      "Success!\n",
      "1671507613 1423685361127 http%3A//www.as8.ru/forum/index.php%3Fsid%3D215caec1f9d05925126d06fceb58dd2d\n",
      "Success!\n",
      "1671507613 1423685360127 http%3A//www.as8.ru/forum/\n",
      "Success!\n",
      "part-00011\n",
      "part-00036\n",
      "part-00093\n",
      "part-00052\n",
      "part-00163\n",
      "part-00033\n",
      "part-00170\n",
      "part-00117\n",
      "part-00096\n",
      "part-00165\n",
      "part-00014\n",
      "part-00044\n",
      "part-00111\n",
      "part-00121\n",
      "part-00109\n",
      "part-00147\n",
      "part-00152\n",
      "part-00135\n",
      "part-00004\n",
      "part-00082\n",
      "part-00139\n",
      "part-00116\n",
      "part-00028\n",
      "part-00125\n",
      "part-00158\n",
      "part-00138\n",
      "part-00085\n",
      "part-00100\n",
      "part-00002\n",
      "part-00032\n",
      "590727581 1423753935445 http%3A%2F%2Fkzinform.com%2Fru%2F\n",
      "Success!\n",
      "590727581 1423753934445 http%3A%2F%2Fkzinform.com%2Fru%2Fnews%2F20150212%2F39785.html\n",
      "Success!\n",
      "590727581 1423753955932 http%3A%2F%2Fkzinform.com%2Fru%2Fnews%2F20150212%2F39782.html\n",
      "Success!\n",
      "590727581 1423753954932 http%3A%2F%2Fkzinform.com%2Fru%2F\n",
      "Success!\n",
      "590727581 1423754010189 http%3A%2F%2Fkzinform.com%2Fru%2Fnews%2F20150212%2F39777.html\n",
      "Success!\n",
      "590727581 1423754009189 http%3A%2F%2Fkzinform.com%2Fru%2Fnews%2F20150212%2F39782.html\n",
      "Success!\n",
      "590727581 1423754075640 http%3A%2F%2Fkzinform.com%2Fru%2Fnews%2F20150212%2F39787.html\n",
      "Success!\n",
      "590727581 1423754074640 http%3A%2F%2Fkzinform.com%2Fru%2Fnews%2F20150212%2F39777.html\n",
      "Success!\n",
      "part-00046\n",
      "part-00155\n",
      "part-00065\n",
      "part-00074\n",
      "part-00098\n",
      "part-00126\n",
      "part-00153\n",
      "part-00029\n",
      "part-00061\n",
      "part-00162\n",
      "part-00113\n"
     ]
    }
   ],
   "source": [
    "for file in os.listdir('facetz_2015_02_12'):\n",
    "    data_path = \"facetz_2015_02_12\"\n",
    "    #file_name = \"part-00000\"\n",
    "    with open(os.path.join(data_path, file), \"r\") as f:\n",
    "        content = f.read()\n",
    "    content_lines = content.splitlines()\n",
    "    print(file)\n",
    "    for line in content_lines:\n",
    "        mapper(line)"
   ]
  },
  {
   "cell_type": "code",
   "execution_count": 46,
   "metadata": {},
   "outputs": [],
   "source": [
    "#data_path = \"facetz_2015_02_12\"\n",
    "#file_name = \"part-00000\"\n",
    "#with open(os.path.join(data_path, file_name), \"r\") as f:\n",
    "#    content = f.read()\n",
    "#content_lines = content.splitlines()\n",
    "#for line in content_lines[:10]:\n",
    "#    mapper(line)"
   ]
  },
  {
   "cell_type": "code",
   "execution_count": 8,
   "metadata": {},
   "outputs": [],
   "source": [
    "def mapper(line):\n",
    "    uid, ts, url = line.split('\\t')\n",
    "    if re.match(r'^[\\d]+$', (uid.split('\\t'))[0]):\n",
    "        if re.match(r'^[\\d]+\\.[\\d]+$', ts):\n",
    "            if re.match(r'^http.+$', url):\n",
    "                if int(uid)%256==157:\n",
    "                    ts = int(float(ts)*1000)\n",
    "                    print(uid, ts, url)\n",
    "                    emitter(uid, ts, url)"
   ]
  },
  {
   "cell_type": "code",
   "execution_count": 9,
   "metadata": {},
   "outputs": [],
   "source": [
    "def emitter(uid, ts, url):\n",
    "    connection = happybase.Connection('bd-node2.newprolab.com')\n",
    "    connection.open()\n",
    "    table = connection.table('valeria.lupanova')\n",
    "    try:\n",
    "        table.put(row=str(uid), data={b'data:url':url}, timestamp=ts)\n",
    "    except:\n",
    "        print('Something went wrong!')\n",
    "    else:\n",
    "        print('Success!')\n",
    "    finally:\n",
    "        connection.close()"
   ]
  },
  {
   "cell_type": "code",
   "execution_count": null,
   "metadata": {},
   "outputs": [],
   "source": []
  }
 ],
 "metadata": {
  "kernelspec": {
   "display_name": "Python 3",
   "language": "python",
   "name": "python3"
  },
  "language_info": {
   "codemirror_mode": {
    "name": "ipython",
    "version": 3
   },
   "file_extension": ".py",
   "mimetype": "text/x-python",
   "name": "python",
   "nbconvert_exporter": "python",
   "pygments_lexer": "ipython3",
   "version": "3.6.5"
  }
 },
 "nbformat": 4,
 "nbformat_minor": 2
}
