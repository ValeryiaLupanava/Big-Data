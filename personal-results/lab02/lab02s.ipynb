{
 "cells": [
  {
   "cell_type": "code",
   "execution_count": null,
   "metadata": {},
   "outputs": [],
   "source": [
    "#!/opt/anaconda/envs/bd9/bin/python\n",
    "import happybase\n",
    "import sys"
   ]
  },
  {
   "cell_type": "code",
   "execution_count": null,
   "metadata": {},
   "outputs": [],
   "source": [
    "import fileinput\n",
    "import os\n",
    "from decimal import Decimal\n",
    "import re"
   ]
  },
  {
   "cell_type": "code",
   "execution_count": null,
   "metadata": {},
   "outputs": [],
   "source": [
    "import collections\n",
    "from datetime import datetime"
   ]
  },
  {
   "cell_type": "code",
   "execution_count": null,
   "metadata": {},
   "outputs": [],
   "source": []
  },
  {
   "cell_type": "code",
   "execution_count": null,
   "metadata": {},
   "outputs": [],
   "source": [
    "def mapper(line, urls):\n",
    "    uid, ts, url = line.split('\\t')    \n",
    "    if re.match(r'^[\\d]+$', (uid.split('\\t'))[0]):\n",
    "        if url and url.strip():\n",
    "            urls.append(url)"
   ]
  },
  {
   "cell_type": "code",
   "execution_count": null,
   "metadata": {},
   "outputs": [],
   "source": []
  },
  {
   "cell_type": "code",
   "execution_count": null,
   "metadata": {},
   "outputs": [],
   "source": [
    "def reducer(urls):\n",
    "    \n",
    "    try:\n",
    "        print('\\n{:<7}{:<3}{}{:^6}{}\\n'.format('Time','::',datetime.now(),'::','start reducer'), end=\"\")\n",
    "        occurrences = collections.Counter(urls)\n",
    "        for url, count in occurrences.most_common(top_N):\n",
    "            top_350.append([url, count])\n",
    "            \n",
    "        sorted_list = sorted(top_350, key=lambda tup: tup[1], reverse=True)\n",
    "\n",
    "        with open('top350.txt', 'w') as f:\n",
    "            f.write('\\n'.join('{}\\t{}'.format(x[0],x[1]) for x in top_350))\n",
    "    except:\n",
    "        print('Error!')\n",
    "        print('{:<7}{:<3}{}{:^6}{}\\n'.format('Time','::',datetime.now(),'::','end reducer'), end=\"\")\n",
    "    finally:\n",
    "        print('Success!')\n",
    "        print('{:<7}{:<3}{}{:^6}{}\\n'.format('Time','::',datetime.now(),'::','end reducer'), end=\"\")"
   ]
  },
  {
   "cell_type": "code",
   "execution_count": null,
   "metadata": {},
   "outputs": [],
   "source": []
  },
  {
   "cell_type": "code",
   "execution_count": null,
   "metadata": {
    "scrolled": false
   },
   "outputs": [],
   "source": [
    "counter = 0\n",
    "urls = []\n",
    "top_350 =[]\n",
    "top_N = 350\n",
    "\n",
    "print('{:<7}{:<3}{}{:^6}{}\\n'.format('Time','::',datetime.now(),'::','start program'), end=\"\")\n",
    "print('{:<7}{:<3}{}{:^6}{}\\n'.format('Time','::',datetime.now(),'::','start file processing'), end=\"\")\n",
    "\n",
    "\n",
    "for file in os.listdir('facetz_2015_02_12'):\n",
    "    data_path = \"facetz_2015_02_12\"\n",
    "    \n",
    "    with open(os.path.join(data_path, file), \"r\") as f:\n",
    "        content = f.read()\n",
    "    content_lines = content.splitlines()\n",
    "    \n",
    "    print('{:<7}{:<3}{}{:^6}{:<6}{}{:>6}\\r'.format('Time','::',datetime.now(),'::','file',file,counter), end=\"\")\n",
    "    counter = counter + 1\n",
    "\n",
    "    for line in content_lines:\n",
    "        mapper(line, urls)\n",
    "\n",
    "print('{:<7}{:<3}{}{:^6}{}\\n'.format('Time','::',datetime.now(),'::','end file processing'), end=\"\")\n",
    "   \n",
    "reducer(urls)\n",
    "\n",
    "print('{:<7}{:<3}{}{:^6}{}\\n'.format('Time','::',datetime.now(),'::','end program'), end=\"\")"
   ]
  },
  {
   "cell_type": "code",
   "execution_count": null,
   "metadata": {},
   "outputs": [],
   "source": []
  }
 ],
 "metadata": {
  "kernelspec": {
   "display_name": "Python 3",
   "language": "python",
   "name": "python3"
  },
  "language_info": {
   "codemirror_mode": {
    "name": "ipython",
    "version": 3
   },
   "file_extension": ".py",
   "mimetype": "text/x-python",
   "name": "python",
   "nbconvert_exporter": "python",
   "pygments_lexer": "ipython3",
   "version": "3.6.5"
  }
 },
 "nbformat": 4,
 "nbformat_minor": 2
}
