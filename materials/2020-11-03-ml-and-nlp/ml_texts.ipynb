{
 "cells": [
  {
   "cell_type": "code",
   "execution_count": 1,
   "metadata": {},
   "outputs": [],
   "source": [
    "import json\n",
    "\n",
    "with open('pos_reviews.json') as data_file:    \n",
    "    data_pos = json.load(data_file)\n",
    "with open('neg_reviews.json') as data_file:    \n",
    "    data_neg = json.load(data_file)"
   ]
  },
  {
   "cell_type": "code",
   "execution_count": null,
   "metadata": {},
   "outputs": [],
   "source": []
  },
  {
   "cell_type": "code",
   "execution_count": 2,
   "metadata": {},
   "outputs": [],
   "source": [
    "pos_texts = list(data_pos.keys())\n",
    "neg_texts = list(data_neg.keys())\n",
    "all_texts = pos_texts + neg_texts"
   ]
  },
  {
   "cell_type": "code",
   "execution_count": null,
   "metadata": {},
   "outputs": [],
   "source": []
  },
  {
   "cell_type": "code",
   "execution_count": 3,
   "metadata": {},
   "outputs": [
    {
     "data": {
      "text/plain": [
       "2000"
      ]
     },
     "execution_count": 3,
     "metadata": {},
     "output_type": "execute_result"
    }
   ],
   "source": [
    "len(all_texts)"
   ]
  },
  {
   "cell_type": "code",
   "execution_count": null,
   "metadata": {},
   "outputs": [],
   "source": []
  },
  {
   "cell_type": "code",
   "execution_count": 70,
   "metadata": {},
   "outputs": [],
   "source": [
    "target = [1]*1000 + [0]*1000"
   ]
  },
  {
   "cell_type": "code",
   "execution_count": 71,
   "metadata": {},
   "outputs": [],
   "source": [
    "from sklearn.feature_extraction.text import CountVectorizer"
   ]
  },
  {
   "cell_type": "code",
   "execution_count": 72,
   "metadata": {},
   "outputs": [],
   "source": [
    "cv = CountVectorizer()\n",
    "m = cv.fit_transform(all_texts)"
   ]
  },
  {
   "cell_type": "code",
   "execution_count": null,
   "metadata": {},
   "outputs": [],
   "source": []
  },
  {
   "cell_type": "code",
   "execution_count": 73,
   "metadata": {},
   "outputs": [],
   "source": [
    "from sklearn.model_selection import cross_val_score"
   ]
  },
  {
   "cell_type": "code",
   "execution_count": 81,
   "metadata": {},
   "outputs": [
    {
     "data": {
      "text/plain": [
       "array([0.9498, 0.9192, 0.9089, 0.8872, 0.9232, 0.9341, 0.9335, 0.9209,\n",
       "       0.9163, 0.9044])"
      ]
     },
     "execution_count": 81,
     "metadata": {},
     "output_type": "execute_result"
    }
   ],
   "source": [
    "cross_val_score(\n",
    "    LogisticRegression(solver='newton-cg'), m, target,\n",
    "    cv=10, scoring='roc_auc')"
   ]
  },
  {
   "cell_type": "code",
   "execution_count": 85,
   "metadata": {},
   "outputs": [],
   "source": [
    "from sklearn.svm import LinearSVC"
   ]
  },
  {
   "cell_type": "code",
   "execution_count": 84,
   "metadata": {},
   "outputs": [],
   "source": []
  },
  {
   "cell_type": "code",
   "execution_count": 86,
   "metadata": {},
   "outputs": [
    {
     "name": "stderr",
     "output_type": "stream",
     "text": [
      "/home/datagym.ta/jupyterhub/lib/python3.6/site-packages/sklearn/svm/_base.py:947: ConvergenceWarning: Liblinear failed to converge, increase the number of iterations.\n",
      "  \"the number of iterations.\", ConvergenceWarning)\n",
      "/home/datagym.ta/jupyterhub/lib/python3.6/site-packages/sklearn/svm/_base.py:947: ConvergenceWarning: Liblinear failed to converge, increase the number of iterations.\n",
      "  \"the number of iterations.\", ConvergenceWarning)\n",
      "/home/datagym.ta/jupyterhub/lib/python3.6/site-packages/sklearn/svm/_base.py:947: ConvergenceWarning: Liblinear failed to converge, increase the number of iterations.\n",
      "  \"the number of iterations.\", ConvergenceWarning)\n",
      "/home/datagym.ta/jupyterhub/lib/python3.6/site-packages/sklearn/svm/_base.py:947: ConvergenceWarning: Liblinear failed to converge, increase the number of iterations.\n",
      "  \"the number of iterations.\", ConvergenceWarning)\n",
      "/home/datagym.ta/jupyterhub/lib/python3.6/site-packages/sklearn/svm/_base.py:947: ConvergenceWarning: Liblinear failed to converge, increase the number of iterations.\n",
      "  \"the number of iterations.\", ConvergenceWarning)\n",
      "/home/datagym.ta/jupyterhub/lib/python3.6/site-packages/sklearn/svm/_base.py:947: ConvergenceWarning: Liblinear failed to converge, increase the number of iterations.\n",
      "  \"the number of iterations.\", ConvergenceWarning)\n"
     ]
    },
    {
     "data": {
      "text/plain": [
       "array([0.9428, 0.903 , 0.8959, 0.8975, 0.9205, 0.9275, 0.9246, 0.9035,\n",
       "       0.9183, 0.8958])"
      ]
     },
     "execution_count": 86,
     "metadata": {},
     "output_type": "execute_result"
    }
   ],
   "source": [
    "cross_val_score(\n",
    "    LinearSVC(), m, target,\n",
    "    cv=10, scoring='roc_auc')"
   ]
  },
  {
   "cell_type": "code",
   "execution_count": null,
   "metadata": {},
   "outputs": [],
   "source": []
  },
  {
   "cell_type": "code",
   "execution_count": 79,
   "metadata": {},
   "outputs": [],
   "source": [
    "from sklearn.linear_model import LogisticRegressionCV"
   ]
  },
  {
   "cell_type": "code",
   "execution_count": null,
   "metadata": {},
   "outputs": [],
   "source": [
    "LogisticRegressionCV"
   ]
  },
  {
   "cell_type": "code",
   "execution_count": null,
   "metadata": {},
   "outputs": [],
   "source": []
  },
  {
   "cell_type": "code",
   "execution_count": null,
   "metadata": {},
   "outputs": [],
   "source": []
  },
  {
   "cell_type": "code",
   "execution_count": 7,
   "metadata": {},
   "outputs": [
    {
     "data": {
      "text/plain": [
       "0.008407196348874152"
      ]
     },
     "execution_count": 7,
     "metadata": {},
     "output_type": "execute_result"
    }
   ],
   "source": [
    "666842/(2000*39659)"
   ]
  },
  {
   "cell_type": "code",
   "execution_count": 8,
   "metadata": {},
   "outputs": [],
   "source": [
    "import pandas as pd"
   ]
  },
  {
   "cell_type": "code",
   "execution_count": null,
   "metadata": {},
   "outputs": [],
   "source": []
  },
  {
   "cell_type": "code",
   "execution_count": null,
   "metadata": {},
   "outputs": [],
   "source": []
  },
  {
   "cell_type": "code",
   "execution_count": 9,
   "metadata": {},
   "outputs": [],
   "source": [
    "import numpy as np"
   ]
  },
  {
   "cell_type": "code",
   "execution_count": 10,
   "metadata": {},
   "outputs": [],
   "source": [
    "m_new = np.random.randint(1, 100, size=(2, 30))"
   ]
  },
  {
   "cell_type": "code",
   "execution_count": 11,
   "metadata": {},
   "outputs": [],
   "source": [
    "import scipy as sp"
   ]
  },
  {
   "cell_type": "code",
   "execution_count": 12,
   "metadata": {},
   "outputs": [
    {
     "data": {
      "text/plain": [
       "<2x30 sparse matrix of type '<class 'numpy.longlong'>'\n",
       "\twith 60 stored elements in Compressed Sparse Row format>"
      ]
     },
     "execution_count": 12,
     "metadata": {},
     "output_type": "execute_result"
    }
   ],
   "source": [
    "sp.sparse.csr_matrix(m_new)"
   ]
  },
  {
   "cell_type": "code",
   "execution_count": 13,
   "metadata": {},
   "outputs": [
    {
     "data": {
      "text/plain": [
       "<function scipy.sparse.construct.hstack(blocks, format=None, dtype=None)>"
      ]
     },
     "execution_count": 13,
     "metadata": {},
     "output_type": "execute_result"
    }
   ],
   "source": [
    "sp.sparse.hstack"
   ]
  },
  {
   "cell_type": "code",
   "execution_count": null,
   "metadata": {},
   "outputs": [],
   "source": []
  },
  {
   "cell_type": "code",
   "execution_count": 14,
   "metadata": {},
   "outputs": [],
   "source": [
    "from sklearn.tree import DecisionTreeClassifier"
   ]
  },
  {
   "cell_type": "code",
   "execution_count": null,
   "metadata": {},
   "outputs": [],
   "source": []
  },
  {
   "cell_type": "code",
   "execution_count": 17,
   "metadata": {},
   "outputs": [],
   "source": [
    "dtc = DecisionTreeClassifier(max_depth=4)"
   ]
  },
  {
   "cell_type": "code",
   "execution_count": 18,
   "metadata": {},
   "outputs": [
    {
     "data": {
      "text/plain": [
       "DecisionTreeClassifier(ccp_alpha=0.0, class_weight=None, criterion='gini',\n",
       "                       max_depth=4, max_features=None, max_leaf_nodes=None,\n",
       "                       min_impurity_decrease=0.0, min_impurity_split=None,\n",
       "                       min_samples_leaf=1, min_samples_split=2,\n",
       "                       min_weight_fraction_leaf=0.0, presort='deprecated',\n",
       "                       random_state=None, splitter='best')"
      ]
     },
     "execution_count": 18,
     "metadata": {},
     "output_type": "execute_result"
    }
   ],
   "source": [
    "from sklearn.model_selection import train_test_split\n",
    "X_train, X_test, y_train, y_test = train_test_split(m, target)\n",
    "dtc.fit(X_train, y_train)"
   ]
  },
  {
   "cell_type": "code",
   "execution_count": 19,
   "metadata": {},
   "outputs": [
    {
     "data": {
      "text/html": [
       "<div>\n",
       "<style scoped>\n",
       "    .dataframe tbody tr th:only-of-type {\n",
       "        vertical-align: middle;\n",
       "    }\n",
       "\n",
       "    .dataframe tbody tr th {\n",
       "        vertical-align: top;\n",
       "    }\n",
       "\n",
       "    .dataframe thead th {\n",
       "        text-align: right;\n",
       "    }\n",
       "</style>\n",
       "<table border=\"1\" class=\"dataframe\">\n",
       "  <thead>\n",
       "    <tr style=\"text-align: right;\">\n",
       "      <th></th>\n",
       "      <th>0</th>\n",
       "      <th>1</th>\n",
       "    </tr>\n",
       "  </thead>\n",
       "  <tbody>\n",
       "    <tr>\n",
       "      <th>2954</th>\n",
       "      <td>0.299069</td>\n",
       "      <td>bad</td>\n",
       "    </tr>\n",
       "    <tr>\n",
       "      <th>1810</th>\n",
       "      <td>0.247164</td>\n",
       "      <td>and</td>\n",
       "    </tr>\n",
       "    <tr>\n",
       "      <th>39195</th>\n",
       "      <td>0.157474</td>\n",
       "      <td>worst</td>\n",
       "    </tr>\n",
       "    <tr>\n",
       "      <th>24063</th>\n",
       "      <td>0.062524</td>\n",
       "      <td>nothing</td>\n",
       "    </tr>\n",
       "    <tr>\n",
       "      <th>13406</th>\n",
       "      <td>0.045063</td>\n",
       "      <td>flat</td>\n",
       "    </tr>\n",
       "    <tr>\n",
       "      <th>24521</th>\n",
       "      <td>0.039085</td>\n",
       "      <td>only</td>\n",
       "    </tr>\n",
       "    <tr>\n",
       "      <th>5224</th>\n",
       "      <td>0.033987</td>\n",
       "      <td>by</td>\n",
       "    </tr>\n",
       "    <tr>\n",
       "      <th>21003</th>\n",
       "      <td>0.032885</td>\n",
       "      <td>ludicrous</td>\n",
       "    </tr>\n",
       "    <tr>\n",
       "      <th>3584</th>\n",
       "      <td>0.029929</td>\n",
       "      <td>believe</td>\n",
       "    </tr>\n",
       "    <tr>\n",
       "      <th>38817</th>\n",
       "      <td>0.021653</td>\n",
       "      <td>why</td>\n",
       "    </tr>\n",
       "    <tr>\n",
       "      <th>20118</th>\n",
       "      <td>0.017050</td>\n",
       "      <td>leads</td>\n",
       "    </tr>\n",
       "    <tr>\n",
       "      <th>9488</th>\n",
       "      <td>0.014117</td>\n",
       "      <td>despite</td>\n",
       "    </tr>\n",
       "    <tr>\n",
       "      <th>26444</th>\n",
       "      <td>0.000000</td>\n",
       "      <td>plight</td>\n",
       "    </tr>\n",
       "    <tr>\n",
       "      <th>26422</th>\n",
       "      <td>0.000000</td>\n",
       "      <td>pleasent</td>\n",
       "    </tr>\n",
       "    <tr>\n",
       "      <th>26441</th>\n",
       "      <td>0.000000</td>\n",
       "      <td>plex</td>\n",
       "    </tr>\n",
       "    <tr>\n",
       "      <th>26421</th>\n",
       "      <td>0.000000</td>\n",
       "      <td>pleased</td>\n",
       "    </tr>\n",
       "    <tr>\n",
       "      <th>26442</th>\n",
       "      <td>0.000000</td>\n",
       "      <td>plexiglas</td>\n",
       "    </tr>\n",
       "    <tr>\n",
       "      <th>26443</th>\n",
       "      <td>0.000000</td>\n",
       "      <td>plexus</td>\n",
       "    </tr>\n",
       "    <tr>\n",
       "      <th>26425</th>\n",
       "      <td>0.000000</td>\n",
       "      <td>pleasing</td>\n",
       "    </tr>\n",
       "    <tr>\n",
       "      <th>26440</th>\n",
       "      <td>0.000000</td>\n",
       "      <td>plethora</td>\n",
       "    </tr>\n",
       "  </tbody>\n",
       "</table>\n",
       "</div>"
      ],
      "text/plain": [
       "              0          1\n",
       "2954   0.299069        bad\n",
       "1810   0.247164        and\n",
       "39195  0.157474      worst\n",
       "24063  0.062524    nothing\n",
       "13406  0.045063       flat\n",
       "24521  0.039085       only\n",
       "5224   0.033987         by\n",
       "21003  0.032885  ludicrous\n",
       "3584   0.029929    believe\n",
       "38817  0.021653        why\n",
       "20118  0.017050      leads\n",
       "9488   0.014117    despite\n",
       "26444  0.000000     plight\n",
       "26422  0.000000   pleasent\n",
       "26441  0.000000       plex\n",
       "26421  0.000000    pleased\n",
       "26442  0.000000  plexiglas\n",
       "26443  0.000000     plexus\n",
       "26425  0.000000   pleasing\n",
       "26440  0.000000   plethora"
      ]
     },
     "execution_count": 19,
     "metadata": {},
     "output_type": "execute_result"
    }
   ],
   "source": [
    "pd.DataFrame(zip(\n",
    "    dtc.feature_importances_, cv.get_feature_names())\n",
    "             ).sort_values(0, ascending=False).head(20)"
   ]
  },
  {
   "cell_type": "code",
   "execution_count": null,
   "metadata": {},
   "outputs": [],
   "source": []
  },
  {
   "cell_type": "code",
   "execution_count": null,
   "metadata": {},
   "outputs": [],
   "source": []
  },
  {
   "cell_type": "code",
   "execution_count": 22,
   "metadata": {},
   "outputs": [],
   "source": [
    "X_train, X_test, y_train, y_test = train_test_split(all_texts,\n",
    "                                                    target)"
   ]
  },
  {
   "cell_type": "code",
   "execution_count": null,
   "metadata": {},
   "outputs": [],
   "source": []
  },
  {
   "cell_type": "code",
   "execution_count": 35,
   "metadata": {},
   "outputs": [],
   "source": [
    "cv = CountVectorizer()"
   ]
  },
  {
   "cell_type": "code",
   "execution_count": 51,
   "metadata": {},
   "outputs": [
    {
     "name": "stdout",
     "output_type": "stream",
     "text": [
      "CPU times: user 963 ms, sys: 3.58 ms, total: 967 ms\n",
      "Wall time: 964 ms\n"
     ]
    }
   ],
   "source": [
    "%%time\n",
    "\n",
    "cv_X_train = cv.fit_transform(X_train)"
   ]
  },
  {
   "cell_type": "code",
   "execution_count": 52,
   "metadata": {},
   "outputs": [],
   "source": [
    "cv_X_test = cv.transform(X_test)"
   ]
  },
  {
   "cell_type": "code",
   "execution_count": 53,
   "metadata": {},
   "outputs": [
    {
     "data": {
      "text/plain": [
       "(1500, 35295)"
      ]
     },
     "execution_count": 53,
     "metadata": {},
     "output_type": "execute_result"
    }
   ],
   "source": [
    "cv_X_train.shape"
   ]
  },
  {
   "cell_type": "code",
   "execution_count": 54,
   "metadata": {},
   "outputs": [
    {
     "data": {
      "text/plain": [
       "(500, 35295)"
      ]
     },
     "execution_count": 54,
     "metadata": {},
     "output_type": "execute_result"
    }
   ],
   "source": [
    "cv_X_test.shape"
   ]
  },
  {
   "cell_type": "code",
   "execution_count": 40,
   "metadata": {},
   "outputs": [],
   "source": [
    "dtc = DecisionTreeClassifier()"
   ]
  },
  {
   "cell_type": "code",
   "execution_count": 41,
   "metadata": {},
   "outputs": [
    {
     "data": {
      "text/plain": [
       "DecisionTreeClassifier(ccp_alpha=0.0, class_weight=None, criterion='gini',\n",
       "                       max_depth=None, max_features=None, max_leaf_nodes=None,\n",
       "                       min_impurity_decrease=0.0, min_impurity_split=None,\n",
       "                       min_samples_leaf=1, min_samples_split=2,\n",
       "                       min_weight_fraction_leaf=0.0, presort='deprecated',\n",
       "                       random_state=None, splitter='best')"
      ]
     },
     "execution_count": 41,
     "metadata": {},
     "output_type": "execute_result"
    }
   ],
   "source": [
    "dtc.fit(cv_X_train, y_train)"
   ]
  },
  {
   "cell_type": "code",
   "execution_count": 42,
   "metadata": {},
   "outputs": [
    {
     "data": {
      "text/plain": [
       "array([0, 0, 0, 1, 0, 0, 1, 1, 1, 1, 1, 1, 1, 0, 0, 1, 0, 1, 1, 1, 0, 1,\n",
       "       1, 1, 1, 1, 0, 0, 0, 0, 1, 1, 0, 1, 0, 0, 1, 0, 1, 0, 0, 0, 1, 0,\n",
       "       1, 0, 1, 1, 1, 0, 1, 0, 0, 1, 1, 1, 1, 0, 0, 1, 0, 1, 0, 1, 1, 0,\n",
       "       1, 0, 0, 1, 0, 0, 0, 0, 1, 1, 0, 0, 1, 1, 1, 0, 1, 0, 0, 1, 1, 1,\n",
       "       0, 1, 0, 1, 0, 0, 1, 1, 0, 1, 0, 1, 0, 1, 1, 1, 0, 1, 0, 0, 0, 1,\n",
       "       0, 1, 1, 0, 0, 1, 1, 0, 1, 1, 0, 0, 0, 0, 1, 0, 1, 1, 0, 0, 0, 0,\n",
       "       1, 0, 0, 1, 1, 0, 1, 1, 0, 1, 1, 1, 1, 1, 1, 1, 0, 0, 0, 0, 1, 1,\n",
       "       0, 1, 1, 1, 1, 0, 0, 0, 1, 0, 0, 0, 1, 0, 1, 1, 1, 0, 0, 0, 1, 1,\n",
       "       0, 0, 1, 1, 1, 0, 1, 1, 1, 0, 0, 1, 1, 0, 0, 0, 0, 1, 0, 0, 0, 0,\n",
       "       1, 0, 0, 1, 1, 1, 0, 0, 0, 0, 1, 0, 0, 0, 1, 0, 0, 1, 1, 1, 0, 1,\n",
       "       0, 0, 1, 1, 1, 1, 0, 0, 1, 1, 0, 1, 1, 1, 1, 1, 1, 0, 1, 1, 0, 1,\n",
       "       1, 1, 0, 1, 0, 1, 1, 0, 0, 0, 0, 0, 0, 1, 1, 1, 1, 0, 1, 1, 1, 1,\n",
       "       1, 1, 1, 1, 0, 1, 0, 1, 0, 0, 1, 1, 1, 1, 0, 1, 1, 1, 1, 0, 1, 1,\n",
       "       0, 0, 0, 1, 1, 1, 0, 1, 1, 0, 1, 1, 0, 1, 0, 0, 0, 0, 1, 1, 0, 0,\n",
       "       1, 1, 1, 1, 0, 0, 0, 1, 1, 1, 0, 0, 0, 0, 1, 0, 1, 0, 0, 1, 1, 1,\n",
       "       0, 0, 0, 1, 1, 1, 0, 0, 1, 0, 1, 0, 0, 0, 0, 0, 0, 1, 1, 1, 1, 1,\n",
       "       0, 0, 0, 0, 1, 1, 0, 0, 0, 0, 0, 1, 1, 0, 1, 0, 0, 0, 0, 0, 0, 1,\n",
       "       0, 1, 0, 0, 0, 0, 1, 0, 0, 1, 1, 1, 1, 1, 0, 1, 1, 0, 1, 1, 1, 0,\n",
       "       1, 0, 1, 0, 0, 0, 1, 1, 1, 0, 1, 0, 0, 1, 1, 1, 0, 1, 1, 0, 1, 1,\n",
       "       0, 0, 0, 0, 0, 1, 0, 1, 0, 0, 1, 1, 0, 1, 1, 0, 0, 0, 0, 0, 1, 1,\n",
       "       1, 0, 0, 0, 0, 0, 0, 1, 0, 0, 1, 1, 1, 0, 1, 1, 1, 1, 0, 1, 0, 0,\n",
       "       1, 0, 0, 0, 0, 0, 0, 0, 0, 0, 1, 1, 0, 0, 1, 1, 0, 0, 1, 0, 0, 0,\n",
       "       0, 1, 0, 1, 0, 0, 1, 1, 1, 1, 1, 1, 0, 0, 0, 0])"
      ]
     },
     "execution_count": 42,
     "metadata": {},
     "output_type": "execute_result"
    }
   ],
   "source": [
    "dtc.predict(cv_X_test)"
   ]
  },
  {
   "cell_type": "markdown",
   "metadata": {},
   "source": [
    "![](https://cs10.pikabu.ru/post_img/2019/12/29/10/1577636553192848361.jpg)"
   ]
  },
  {
   "cell_type": "code",
   "execution_count": null,
   "metadata": {},
   "outputs": [],
   "source": []
  },
  {
   "cell_type": "code",
   "execution_count": 48,
   "metadata": {},
   "outputs": [],
   "source": [
    "from sklearn.linear_model import LogisticRegression"
   ]
  },
  {
   "cell_type": "code",
   "execution_count": 62,
   "metadata": {},
   "outputs": [],
   "source": [
    "lr = LogisticRegression(solver='newton-cg')"
   ]
  },
  {
   "cell_type": "code",
   "execution_count": 63,
   "metadata": {},
   "outputs": [
    {
     "name": "stdout",
     "output_type": "stream",
     "text": [
      "CPU times: user 17.1 s, sys: 24.4 s, total: 41.4 s\n",
      "Wall time: 1.74 s\n"
     ]
    },
    {
     "data": {
      "text/plain": [
       "LogisticRegression(C=1.0, class_weight=None, dual=False, fit_intercept=True,\n",
       "                   intercept_scaling=1, l1_ratio=None, max_iter=100,\n",
       "                   multi_class='auto', n_jobs=None, penalty='l2',\n",
       "                   random_state=None, solver='newton-cg', tol=0.0001, verbose=0,\n",
       "                   warm_start=False)"
      ]
     },
     "execution_count": 63,
     "metadata": {},
     "output_type": "execute_result"
    }
   ],
   "source": [
    "%%time\n",
    "\n",
    "lr.fit(cv_X_train, y_train)"
   ]
  },
  {
   "cell_type": "code",
   "execution_count": 64,
   "metadata": {},
   "outputs": [
    {
     "data": {
      "text/html": [
       "<div>\n",
       "<style scoped>\n",
       "    .dataframe tbody tr th:only-of-type {\n",
       "        vertical-align: middle;\n",
       "    }\n",
       "\n",
       "    .dataframe tbody tr th {\n",
       "        vertical-align: top;\n",
       "    }\n",
       "\n",
       "    .dataframe thead th {\n",
       "        text-align: right;\n",
       "    }\n",
       "</style>\n",
       "<table border=\"1\" class=\"dataframe\">\n",
       "  <thead>\n",
       "    <tr style=\"text-align: right;\">\n",
       "      <th></th>\n",
       "      <th>0</th>\n",
       "      <th>1</th>\n",
       "    </tr>\n",
       "  </thead>\n",
       "  <tbody>\n",
       "    <tr>\n",
       "      <th>2622</th>\n",
       "      <td>-0.818815</td>\n",
       "      <td>bad</td>\n",
       "    </tr>\n",
       "    <tr>\n",
       "      <th>34898</th>\n",
       "      <td>-0.520179</td>\n",
       "      <td>worst</td>\n",
       "    </tr>\n",
       "    <tr>\n",
       "      <th>33023</th>\n",
       "      <td>-0.456973</td>\n",
       "      <td>unfortunately</td>\n",
       "    </tr>\n",
       "    <tr>\n",
       "      <th>18568</th>\n",
       "      <td>-0.450910</td>\n",
       "      <td>looks</td>\n",
       "    </tr>\n",
       "    <tr>\n",
       "      <th>21439</th>\n",
       "      <td>-0.448058</td>\n",
       "      <td>nothing</td>\n",
       "    </tr>\n",
       "    <tr>\n",
       "      <th>...</th>\n",
       "      <td>...</td>\n",
       "      <td>...</td>\n",
       "    </tr>\n",
       "    <tr>\n",
       "      <th>10505</th>\n",
       "      <td>0.371284</td>\n",
       "      <td>entertaining</td>\n",
       "    </tr>\n",
       "    <tr>\n",
       "      <th>34378</th>\n",
       "      <td>0.386741</td>\n",
       "      <td>well</td>\n",
       "    </tr>\n",
       "    <tr>\n",
       "      <th>27682</th>\n",
       "      <td>0.458977</td>\n",
       "      <td>seen</td>\n",
       "    </tr>\n",
       "    <tr>\n",
       "      <th>12649</th>\n",
       "      <td>0.480562</td>\n",
       "      <td>fun</td>\n",
       "    </tr>\n",
       "    <tr>\n",
       "      <th>13619</th>\n",
       "      <td>0.519047</td>\n",
       "      <td>great</td>\n",
       "    </tr>\n",
       "  </tbody>\n",
       "</table>\n",
       "<p>35295 rows × 2 columns</p>\n",
       "</div>"
      ],
      "text/plain": [
       "              0              1\n",
       "2622  -0.818815            bad\n",
       "34898 -0.520179          worst\n",
       "33023 -0.456973  unfortunately\n",
       "18568 -0.450910          looks\n",
       "21439 -0.448058        nothing\n",
       "...         ...            ...\n",
       "10505  0.371284   entertaining\n",
       "34378  0.386741           well\n",
       "27682  0.458977           seen\n",
       "12649  0.480562            fun\n",
       "13619  0.519047          great\n",
       "\n",
       "[35295 rows x 2 columns]"
      ]
     },
     "execution_count": 64,
     "metadata": {},
     "output_type": "execute_result"
    }
   ],
   "source": [
    "pd.DataFrame(zip(lr.coef_[0], cv.get_feature_names())).sort_values(0)"
   ]
  },
  {
   "cell_type": "code",
   "execution_count": 65,
   "metadata": {},
   "outputs": [],
   "source": [
    "from sklearn.linear_model import LinearRegression"
   ]
  },
  {
   "cell_type": "code",
   "execution_count": 69,
   "metadata": {},
   "outputs": [],
   "source": [
    "from sklearn.linear_model import Lasso, Ridge, ElasticNet"
   ]
  },
  {
   "cell_type": "code",
   "execution_count": null,
   "metadata": {},
   "outputs": [],
   "source": [
    "Lasso"
   ]
  },
  {
   "cell_type": "code",
   "execution_count": 68,
   "metadata": {},
   "outputs": [
    {
     "data": {
      "text/plain": [
       "sklearn.linear_model._ridge.Ridge"
      ]
     },
     "execution_count": 68,
     "metadata": {},
     "output_type": "execute_result"
    }
   ],
   "source": [
    "Ridge"
   ]
  },
  {
   "cell_type": "code",
   "execution_count": null,
   "metadata": {},
   "outputs": [],
   "source": [
    "ElasticNet"
   ]
  },
  {
   "cell_type": "code",
   "execution_count": null,
   "metadata": {},
   "outputs": [],
   "source": [
    "LogisticRegression"
   ]
  },
  {
   "cell_type": "code",
   "execution_count": null,
   "metadata": {},
   "outputs": [],
   "source": []
  },
  {
   "cell_type": "code",
   "execution_count": null,
   "metadata": {},
   "outputs": [],
   "source": []
  },
  {
   "cell_type": "code",
   "execution_count": null,
   "metadata": {},
   "outputs": [],
   "source": []
  },
  {
   "cell_type": "code",
   "execution_count": null,
   "metadata": {},
   "outputs": [],
   "source": []
  },
  {
   "cell_type": "code",
   "execution_count": null,
   "metadata": {},
   "outputs": [],
   "source": []
  },
  {
   "cell_type": "code",
   "execution_count": null,
   "metadata": {},
   "outputs": [],
   "source": []
  },
  {
   "cell_type": "code",
   "execution_count": 24,
   "metadata": {},
   "outputs": [],
   "source": [
    "from sklearn.metrics import precision_score, recall_score"
   ]
  },
  {
   "cell_type": "code",
   "execution_count": null,
   "metadata": {},
   "outputs": [],
   "source": []
  },
  {
   "cell_type": "code",
   "execution_count": null,
   "metadata": {},
   "outputs": [],
   "source": []
  },
  {
   "cell_type": "code",
   "execution_count": 25,
   "metadata": {},
   "outputs": [
    {
     "data": {
      "text/plain": [
       "0.0"
      ]
     },
     "execution_count": 25,
     "metadata": {},
     "output_type": "execute_result"
    }
   ],
   "source": [
    "precision_score(y_test,\n",
    "                (dtc.predict_proba(X_test)[:, 1]+0.1)//1\n",
    "               )"
   ]
  },
  {
   "cell_type": "code",
   "execution_count": 26,
   "metadata": {},
   "outputs": [
    {
     "data": {
      "text/plain": [
       "0.0"
      ]
     },
     "execution_count": 26,
     "metadata": {},
     "output_type": "execute_result"
    }
   ],
   "source": [
    "recall_score(y_test,\n",
    "                (dtc.predict_proba(X_test)[:, 1]+0.1)//1)"
   ]
  },
  {
   "cell_type": "code",
   "execution_count": 108,
   "metadata": {},
   "outputs": [],
   "source": [
    "%matplotlib inline"
   ]
  },
  {
   "cell_type": "code",
   "execution_count": 109,
   "metadata": {},
   "outputs": [],
   "source": [
    "from sklearn.tree import plot_tree"
   ]
  },
  {
   "cell_type": "code",
   "execution_count": 110,
   "metadata": {},
   "outputs": [],
   "source": [
    "from matplotlib import pyplot as plt"
   ]
  },
  {
   "cell_type": "code",
   "execution_count": 111,
   "metadata": {},
   "outputs": [
    {
     "data": {
      "image/png": "[encoded data removed]",
      "text/plain": [
       "<Figure size 2160x720 with 1 Axes>"
      ]
     },
     "metadata": {
      "needs_background": "light"
     },
     "output_type": "display_data"
    }
   ],
   "source": [
    "plt.figure(figsize=(30, 10))\n",
    "plot_tree(dtc,\n",
    "          feature_names=cv.get_feature_names(), filled=True);"
   ]
  },
  {
   "cell_type": "code",
   "execution_count": 112,
   "metadata": {},
   "outputs": [
    {
     "data": {
      "text/plain": [
       "array([1, 0, 1, 0, 1, 1, 1, 1, 0, 0, 1, 1, 0, 0, 0, 0, 1, 0, 0, 1, 0, 0,\n",
       "       1, 0, 1, 0, 1, 0, 0, 1, 1, 1, 1, 0, 1, 0, 1, 0, 1, 0, 0, 1, 0, 1,\n",
       "       1, 0, 0, 0, 0, 0, 1, 1, 0, 1, 1, 1, 0, 1, 1, 1, 1, 1, 0, 1, 0, 0,\n",
       "       0, 1, 1, 1, 1, 1, 0, 1, 0, 1, 0, 0, 0, 1, 0, 1, 0, 1, 0, 1, 1, 0,\n",
       "       1, 0, 1, 0, 0, 0, 0, 0, 1, 1, 0, 0, 1, 1, 1, 0, 0, 1, 0, 1, 1, 1,\n",
       "       0, 0, 1, 1, 1, 1, 1, 0, 1, 1, 1, 1, 0, 1, 1, 1, 1, 1, 0, 0, 1, 1,\n",
       "       0, 1, 0, 0, 1, 1, 0, 1, 0, 0, 1, 0, 0, 0, 0, 1, 1, 1, 1, 1, 0, 1,\n",
       "       1, 0, 1, 1, 0, 1, 1, 1, 0, 1, 1, 1, 1, 1, 1, 1, 0, 0, 1, 0, 0, 1,\n",
       "       0, 0, 1, 0, 0, 0, 0, 1, 1, 1, 1, 1, 1, 1, 1, 1, 0, 1, 1, 1, 1, 1,\n",
       "       1, 1, 1, 1, 0, 0, 1, 0, 1, 1, 1, 0, 1, 0, 1, 1, 0, 0, 1, 0, 0, 0,\n",
       "       0, 1, 0, 1, 1, 0, 0, 1, 0, 0, 0, 1, 0, 0, 1, 1, 1, 1, 0, 0, 1, 1,\n",
       "       0, 0, 1, 1, 1, 0, 1, 0, 0, 0, 1, 1, 0, 1, 1, 1, 0, 0, 1, 1, 1, 0,\n",
       "       0, 0, 1, 1, 0, 0, 1, 0, 0, 0, 1, 1, 1, 0, 1, 1, 1, 0, 1, 1, 0, 1,\n",
       "       0, 0, 1, 1, 0, 0, 1, 1, 1, 0, 1, 1, 1, 0, 0, 1, 1, 1, 1, 1, 0, 1,\n",
       "       0, 0, 1, 1, 0, 1, 1, 0, 0, 0, 1, 0, 0, 1, 0, 0, 1, 1, 1, 0, 1, 0,\n",
       "       0, 1, 1, 0, 1, 0, 0, 0, 1, 1, 1, 1, 1, 0, 1, 1, 1, 0, 0, 1, 0, 0,\n",
       "       1, 1, 1, 0, 1, 0, 0, 1, 0, 1, 0, 0, 0, 0, 1, 1, 0, 1, 1, 1, 0, 0,\n",
       "       0, 1, 1, 0, 1, 1, 1, 1, 0, 0, 0, 1, 0, 1, 0, 0, 1, 0, 0, 1, 1, 1,\n",
       "       1, 0, 0, 1, 0, 1, 0, 0, 0, 1, 0, 0, 1, 0, 1, 1, 1, 0, 1, 0, 0, 0,\n",
       "       0, 1, 0, 1, 1, 1, 0, 1, 0, 1, 0, 1, 0, 1, 1, 0, 1, 0, 1, 1, 1, 1,\n",
       "       1, 0, 1, 1, 1, 1, 0, 0, 1, 1, 0, 1, 0, 1, 0, 1, 0, 0, 0, 0, 1, 1,\n",
       "       0, 0, 0, 1, 1, 1, 0, 1, 0, 1, 0, 0, 0, 0, 0, 0, 0, 1, 1, 0, 1, 1,\n",
       "       0, 1, 1, 0, 1, 0, 1, 1, 1, 1, 1, 0, 0, 0, 0, 0])"
      ]
     },
     "execution_count": 112,
     "metadata": {},
     "output_type": "execute_result"
    }
   ],
   "source": [
    "import numpy as np\n",
    "np.argmax(dtc.predict_proba(X_test), axis=1)\n",
    "dtc.predict(X_test)"
   ]
  },
  {
   "cell_type": "code",
   "execution_count": null,
   "metadata": {},
   "outputs": [],
   "source": []
  },
  {
   "cell_type": "code",
   "execution_count": null,
   "metadata": {},
   "outputs": [],
   "source": []
  },
  {
   "cell_type": "code",
   "execution_count": null,
   "metadata": {},
   "outputs": [],
   "source": []
  },
  {
   "cell_type": "code",
   "execution_count": 87,
   "metadata": {},
   "outputs": [],
   "source": [
    "from sklearn.model_selection import GridSearchCV"
   ]
  },
  {
   "cell_type": "code",
   "execution_count": 92,
   "metadata": {},
   "outputs": [
    {
     "data": {
      "text/plain": [
       "75"
      ]
     },
     "execution_count": 92,
     "metadata": {},
     "output_type": "execute_result"
    }
   ],
   "source": [
    "3*5*5"
   ]
  },
  {
   "cell_type": "code",
   "execution_count": 94,
   "metadata": {
    "scrolled": true
   },
   "outputs": [
    {
     "name": "stdout",
     "output_type": "stream",
     "text": [
      "Fitting 5 folds for each of 15 candidates, totalling 75 fits\n",
      "[Parallel(n_jobs=-1)]: Using backend LokyBackend with 24 concurrent workers.\n",
      "Memmapping (shape=(666842,), dtype=int32) to new file /tmp/joblib_memmapping_folder_4332_5199488016/4332-140105767653560-e205db2b81d94af3af7ded8bee81eb95.pkl\n",
      "Pickling array (shape=(2001,), dtype=int32).\n",
      "Memmapping (shape=(666842,), dtype=int64) to new file /tmp/joblib_memmapping_folder_4332_5199488016/4332-140105767653560-5cda9f619e7d4ca185ecb4d03dfe83e9.pkl\n",
      "Pickling array (shape=(1600,), dtype=int64).\n",
      "Pickling array (shape=(400,), dtype=int64).\n",
      "Memmapping (shape=(666842,), dtype=int32) to old file /tmp/joblib_memmapping_folder_4332_5199488016/4332-140105767653560-e205db2b81d94af3af7ded8bee81eb95.pkl\n",
      "Pickling array (shape=(2001,), dtype=int32).\n",
      "Memmapping (shape=(666842,), dtype=int64) to old file /tmp/joblib_memmapping_folder_4332_5199488016/4332-140105767653560-5cda9f619e7d4ca185ecb4d03dfe83e9.pkl\n",
      "Pickling array (shape=(1600,), dtype=int64).\n",
      "Pickling array (shape=(400,), dtype=int64).\n",
      "Memmapping (shape=(666842,), dtype=int32) to old file /tmp/joblib_memmapping_folder_4332_5199488016/4332-140105767653560-e205db2b81d94af3af7ded8bee81eb95.pkl\n",
      "Pickling array (shape=(2001,), dtype=int32).\n",
      "Memmapping (shape=(666842,), dtype=int64) to old file /tmp/joblib_memmapping_folder_4332_5199488016/4332-140105767653560-5cda9f619e7d4ca185ecb4d03dfe83e9.pkl\n",
      "Pickling array (shape=(1600,), dtype=int64).\n",
      "Pickling array (shape=(400,), dtype=int64).\n",
      "Memmapping (shape=(666842,), dtype=int32) to old file /tmp/joblib_memmapping_folder_4332_5199488016/4332-140105767653560-e205db2b81d94af3af7ded8bee81eb95.pkl\n",
      "Pickling array (shape=(2001,), dtype=int32).\n",
      "Memmapping (shape=(666842,), dtype=int64) to old file /tmp/joblib_memmapping_folder_4332_5199488016/4332-140105767653560-5cda9f619e7d4ca185ecb4d03dfe83e9.pkl\n",
      "Pickling array (shape=(1600,), dtype=int64).\n",
      "Pickling array (shape=(400,), dtype=int64).\n",
      "Memmapping (shape=(666842,), dtype=int32) to old file /tmp/joblib_memmapping_folder_4332_5199488016/4332-140105767653560-e205db2b81d94af3af7ded8bee81eb95.pkl\n",
      "Pickling array (shape=(2001,), dtype=int32).\n",
      "Memmapping (shape=(666842,), dtype=int64) to old file /tmp/joblib_memmapping_folder_4332_5199488016/4332-140105767653560-5cda9f619e7d4ca185ecb4d03dfe83e9.pkl\n",
      "Pickling array (shape=(1600,), dtype=int64).\n",
      "Pickling array (shape=(400,), dtype=int64).\n",
      "Memmapping (shape=(666842,), dtype=int32) to old file /tmp/joblib_memmapping_folder_4332_5199488016/4332-140105767653560-e205db2b81d94af3af7ded8bee81eb95.pkl\n",
      "Pickling array (shape=(2001,), dtype=int32).\n",
      "Memmapping (shape=(666842,), dtype=int64) to old file /tmp/joblib_memmapping_folder_4332_5199488016/4332-140105767653560-5cda9f619e7d4ca185ecb4d03dfe83e9.pkl\n",
      "Pickling array (shape=(1600,), dtype=int64).\n",
      "Pickling array (shape=(400,), dtype=int64).\n",
      "Memmapping (shape=(666842,), dtype=int32) to old file /tmp/joblib_memmapping_folder_4332_5199488016/4332-140105767653560-e205db2b81d94af3af7ded8bee81eb95.pkl\n",
      "Pickling array (shape=(2001,), dtype=int32).\n",
      "Memmapping (shape=(666842,), dtype=int64) to old file /tmp/joblib_memmapping_folder_4332_5199488016/4332-140105767653560-5cda9f619e7d4ca185ecb4d03dfe83e9.pkl\n",
      "Pickling array (shape=(1600,), dtype=int64).\n",
      "Pickling array (shape=(400,), dtype=int64).\n",
      "Memmapping (shape=(666842,), dtype=int32) to old file /tmp/joblib_memmapping_folder_4332_5199488016/4332-140105767653560-e205db2b81d94af3af7ded8bee81eb95.pkl\n",
      "Pickling array (shape=(2001,), dtype=int32).\n",
      "Memmapping (shape=(666842,), dtype=int64) to old file /tmp/joblib_memmapping_folder_4332_5199488016/4332-140105767653560-5cda9f619e7d4ca185ecb4d03dfe83e9.pkl\n",
      "Pickling array (shape=(1600,), dtype=int64).\n",
      "Pickling array (shape=(400,), dtype=int64).\n",
      "Memmapping (shape=(666842,), dtype=int32) to old file /tmp/joblib_memmapping_folder_4332_5199488016/4332-140105767653560-e205db2b81d94af3af7ded8bee81eb95.pkl\n",
      "Pickling array (shape=(2001,), dtype=int32).\n",
      "Memmapping (shape=(666842,), dtype=int64) to old file /tmp/joblib_memmapping_folder_4332_5199488016/4332-140105767653560-5cda9f619e7d4ca185ecb4d03dfe83e9.pkl\n",
      "Pickling array (shape=(1600,), dtype=int64).\n",
      "Pickling array (shape=(400,), dtype=int64).\n",
      "Memmapping (shape=(666842,), dtype=int32) to old file /tmp/joblib_memmapping_folder_4332_5199488016/4332-140105767653560-e205db2b81d94af3af7ded8bee81eb95.pkl\n",
      "Pickling array (shape=(2001,), dtype=int32).\n",
      "Memmapping (shape=(666842,), dtype=int64) to old file /tmp/joblib_memmapping_folder_4332_5199488016/4332-140105767653560-5cda9f619e7d4ca185ecb4d03dfe83e9.pkl\n",
      "Pickling array (shape=(1600,), dtype=int64).\n",
      "Pickling array (shape=(400,), dtype=int64).\n",
      "Memmapping (shape=(666842,), dtype=int32) to old file /tmp/joblib_memmapping_folder_4332_5199488016/4332-140105767653560-e205db2b81d94af3af7ded8bee81eb95.pkl\n",
      "Pickling array (shape=(2001,), dtype=int32).\n",
      "Memmapping (shape=(666842,), dtype=int64) to old file /tmp/joblib_memmapping_folder_4332_5199488016/4332-140105767653560-5cda9f619e7d4ca185ecb4d03dfe83e9.pkl\n",
      "Pickling array (shape=(1600,), dtype=int64).\n",
      "Pickling array (shape=(400,), dtype=int64).\n",
      "Memmapping (shape=(666842,), dtype=int32) to old file /tmp/joblib_memmapping_folder_4332_5199488016/4332-140105767653560-e205db2b81d94af3af7ded8bee81eb95.pkl\n",
      "Pickling array (shape=(2001,), dtype=int32).\n",
      "Memmapping (shape=(666842,), dtype=int64) to old file /tmp/joblib_memmapping_folder_4332_5199488016/4332-140105767653560-5cda9f619e7d4ca185ecb4d03dfe83e9.pkl\n",
      "Pickling array (shape=(1600,), dtype=int64).\n",
      "Pickling array (shape=(400,), dtype=int64).\n",
      "Memmapping (shape=(666842,), dtype=int32) to old file /tmp/joblib_memmapping_folder_4332_5199488016/4332-140105767653560-e205db2b81d94af3af7ded8bee81eb95.pkl\n",
      "Pickling array (shape=(2001,), dtype=int32).\n",
      "Memmapping (shape=(666842,), dtype=int64) to old file /tmp/joblib_memmapping_folder_4332_5199488016/4332-140105767653560-5cda9f619e7d4ca185ecb4d03dfe83e9.pkl\n",
      "Pickling array (shape=(1600,), dtype=int64).\n",
      "Pickling array (shape=(400,), dtype=int64).\n",
      "Memmapping (shape=(666842,), dtype=int32) to old file /tmp/joblib_memmapping_folder_4332_5199488016/4332-140105767653560-e205db2b81d94af3af7ded8bee81eb95.pkl\n",
      "Pickling array (shape=(2001,), dtype=int32).\n",
      "Memmapping (shape=(666842,), dtype=int64) to old file /tmp/joblib_memmapping_folder_4332_5199488016/4332-140105767653560-5cda9f619e7d4ca185ecb4d03dfe83e9.pkl\n",
      "Pickling array (shape=(1600,), dtype=int64).\n",
      "Pickling array (shape=(400,), dtype=int64).\n",
      "Memmapping (shape=(666842,), dtype=int32) to old file /tmp/joblib_memmapping_folder_4332_5199488016/4332-140105767653560-e205db2b81d94af3af7ded8bee81eb95.pkl\n",
      "Pickling array (shape=(2001,), dtype=int32).\n",
      "Memmapping (shape=(666842,), dtype=int64) to old file /tmp/joblib_memmapping_folder_4332_5199488016/4332-140105767653560-5cda9f619e7d4ca185ecb4d03dfe83e9.pkl\n",
      "Pickling array (shape=(1600,), dtype=int64).\n",
      "Pickling array (shape=(400,), dtype=int64).\n",
      "Memmapping (shape=(666842,), dtype=int32) to old file /tmp/joblib_memmapping_folder_4332_5199488016/4332-140105767653560-e205db2b81d94af3af7ded8bee81eb95.pkl\n",
      "Pickling array (shape=(2001,), dtype=int32).\n",
      "Memmapping (shape=(666842,), dtype=int64) to old file /tmp/joblib_memmapping_folder_4332_5199488016/4332-140105767653560-5cda9f619e7d4ca185ecb4d03dfe83e9.pkl\n",
      "Pickling array (shape=(1600,), dtype=int64).\n",
      "Pickling array (shape=(400,), dtype=int64).\n",
      "Memmapping (shape=(666842,), dtype=int32) to old file /tmp/joblib_memmapping_folder_4332_5199488016/4332-140105767653560-e205db2b81d94af3af7ded8bee81eb95.pkl\n",
      "Pickling array (shape=(2001,), dtype=int32).\n",
      "Memmapping (shape=(666842,), dtype=int64) to old file /tmp/joblib_memmapping_folder_4332_5199488016/4332-140105767653560-5cda9f619e7d4ca185ecb4d03dfe83e9.pkl\n",
      "Pickling array (shape=(1600,), dtype=int64).\n",
      "Pickling array (shape=(400,), dtype=int64).\n",
      "Memmapping (shape=(666842,), dtype=int32) to old file /tmp/joblib_memmapping_folder_4332_5199488016/4332-140105767653560-e205db2b81d94af3af7ded8bee81eb95.pkl\n",
      "Pickling array (shape=(2001,), dtype=int32).\n",
      "Memmapping (shape=(666842,), dtype=int64) to old file /tmp/joblib_memmapping_folder_4332_5199488016/4332-140105767653560-5cda9f619e7d4ca185ecb4d03dfe83e9.pkl\n",
      "Pickling array (shape=(1600,), dtype=int64).\n",
      "Pickling array (shape=(400,), dtype=int64).\n",
      "Memmapping (shape=(666842,), dtype=int32) to old file /tmp/joblib_memmapping_folder_4332_5199488016/4332-140105767653560-e205db2b81d94af3af7ded8bee81eb95.pkl\n",
      "Pickling array (shape=(2001,), dtype=int32).\n",
      "Memmapping (shape=(666842,), dtype=int64) to old file /tmp/joblib_memmapping_folder_4332_5199488016/4332-140105767653560-5cda9f619e7d4ca185ecb4d03dfe83e9.pkl\n",
      "Pickling array (shape=(1600,), dtype=int64).\n",
      "Pickling array (shape=(400,), dtype=int64).\n",
      "Memmapping (shape=(666842,), dtype=int32) to old file /tmp/joblib_memmapping_folder_4332_5199488016/4332-140105767653560-e205db2b81d94af3af7ded8bee81eb95.pkl\n",
      "Pickling array (shape=(2001,), dtype=int32).\n",
      "Memmapping (shape=(666842,), dtype=int64) to old file /tmp/joblib_memmapping_folder_4332_5199488016/4332-140105767653560-5cda9f619e7d4ca185ecb4d03dfe83e9.pkl\n",
      "Pickling array (shape=(1600,), dtype=int64).\n",
      "Pickling array (shape=(400,), dtype=int64).\n",
      "Memmapping (shape=(666842,), dtype=int32) to old file /tmp/joblib_memmapping_folder_4332_5199488016/4332-140105767653560-e205db2b81d94af3af7ded8bee81eb95.pkl\n",
      "Pickling array (shape=(2001,), dtype=int32).\n",
      "Memmapping (shape=(666842,), dtype=int64) to old file /tmp/joblib_memmapping_folder_4332_5199488016/4332-140105767653560-5cda9f619e7d4ca185ecb4d03dfe83e9.pkl\n",
      "Pickling array (shape=(1600,), dtype=int64).\n",
      "Pickling array (shape=(400,), dtype=int64).\n",
      "Memmapping (shape=(666842,), dtype=int32) to old file /tmp/joblib_memmapping_folder_4332_5199488016/4332-140105767653560-e205db2b81d94af3af7ded8bee81eb95.pkl\n",
      "Pickling array (shape=(2001,), dtype=int32).\n",
      "Memmapping (shape=(666842,), dtype=int64) to old file /tmp/joblib_memmapping_folder_4332_5199488016/4332-140105767653560-5cda9f619e7d4ca185ecb4d03dfe83e9.pkl\n",
      "Pickling array (shape=(1600,), dtype=int64).\n",
      "Pickling array (shape=(400,), dtype=int64).\n",
      "Memmapping (shape=(666842,), dtype=int32) to old file /tmp/joblib_memmapping_folder_4332_5199488016/4332-140105767653560-e205db2b81d94af3af7ded8bee81eb95.pkl\n",
      "Pickling array (shape=(2001,), dtype=int32).\n",
      "Memmapping (shape=(666842,), dtype=int64) to old file /tmp/joblib_memmapping_folder_4332_5199488016/4332-140105767653560-5cda9f619e7d4ca185ecb4d03dfe83e9.pkl\n",
      "Pickling array (shape=(1600,), dtype=int64).\n",
      "Pickling array (shape=(400,), dtype=int64).\n",
      "Memmapping (shape=(666842,), dtype=int32) to old file /tmp/joblib_memmapping_folder_4332_5199488016/4332-140105767653560-e205db2b81d94af3af7ded8bee81eb95.pkl\n",
      "Pickling array (shape=(2001,), dtype=int32).\n",
      "Memmapping (shape=(666842,), dtype=int64) to old file /tmp/joblib_memmapping_folder_4332_5199488016/4332-140105767653560-5cda9f619e7d4ca185ecb4d03dfe83e9.pkl\n",
      "Pickling array (shape=(1600,), dtype=int64).\n",
      "Pickling array (shape=(400,), dtype=int64).\n",
      "Memmapping (shape=(666842,), dtype=int32) to old file /tmp/joblib_memmapping_folder_4332_5199488016/4332-140105767653560-e205db2b81d94af3af7ded8bee81eb95.pkl\n",
      "Pickling array (shape=(2001,), dtype=int32).\n",
      "Memmapping (shape=(666842,), dtype=int64) to old file /tmp/joblib_memmapping_folder_4332_5199488016/4332-140105767653560-5cda9f619e7d4ca185ecb4d03dfe83e9.pkl\n",
      "Pickling array (shape=(1600,), dtype=int64).\n",
      "Pickling array (shape=(400,), dtype=int64).\n",
      "Memmapping (shape=(666842,), dtype=int32) to old file /tmp/joblib_memmapping_folder_4332_5199488016/4332-140105767653560-e205db2b81d94af3af7ded8bee81eb95.pkl\n",
      "Pickling array (shape=(2001,), dtype=int32).\n",
      "Memmapping (shape=(666842,), dtype=int64) to old file /tmp/joblib_memmapping_folder_4332_5199488016/4332-140105767653560-5cda9f619e7d4ca185ecb4d03dfe83e9.pkl\n",
      "Pickling array (shape=(1600,), dtype=int64).\n",
      "Pickling array (shape=(400,), dtype=int64).\n",
      "Memmapping (shape=(666842,), dtype=int32) to old file /tmp/joblib_memmapping_folder_4332_5199488016/4332-140105767653560-e205db2b81d94af3af7ded8bee81eb95.pkl\n",
      "Pickling array (shape=(2001,), dtype=int32).\n",
      "Memmapping (shape=(666842,), dtype=int64) to old file /tmp/joblib_memmapping_folder_4332_5199488016/4332-140105767653560-5cda9f619e7d4ca185ecb4d03dfe83e9.pkl\n",
      "Pickling array (shape=(1600,), dtype=int64).\n",
      "Pickling array (shape=(400,), dtype=int64).\n",
      "[Parallel(n_jobs=-1)]: Done   1 tasks      | elapsed:    0.8s\n",
      "[Parallel(n_jobs=-1)]: Done   2 tasks      | elapsed:    0.8s\n",
      "[Parallel(n_jobs=-1)]: Done   3 tasks      | elapsed:    0.9s\n",
      "Memmapping (shape=(666842,), dtype=int32) to old file /tmp/joblib_memmapping_folder_4332_5199488016/4332-140105767653560-e205db2b81d94af3af7ded8bee81eb95.pkl\n",
      "Pickling array (shape=(2001,), dtype=int32).\n",
      "Memmapping (shape=(666842,), dtype=int64) to old file /tmp/joblib_memmapping_folder_4332_5199488016/4332-140105767653560-5cda9f619e7d4ca185ecb4d03dfe83e9.pkl\n",
      "Pickling array (shape=(1600,), dtype=int64).\n",
      "[Parallel(n_jobs=-1)]: Done   4 tasks      | elapsed:    0.9s\n",
      "Pickling array (shape=(400,), dtype=int64).\n",
      "[Parallel(n_jobs=-1)]: Done   5 tasks      | elapsed:    0.9s\n",
      "Memmapping (shape=(666842,), dtype=int32) to old file /tmp/joblib_memmapping_folder_4332_5199488016/4332-140105767653560-e205db2b81d94af3af7ded8bee81eb95.pkl\n",
      "Pickling array (shape=(2001,), dtype=int32).\n",
      "Memmapping (shape=(666842,), dtype=int64) to old file /tmp/joblib_memmapping_folder_4332_5199488016/4332-140105767653560-5cda9f619e7d4ca185ecb4d03dfe83e9.pkl\n",
      "Pickling array (shape=(1600,), dtype=int64).\n",
      "Pickling array (shape=(400,), dtype=int64).\n",
      "Memmapping (shape=(666842,), dtype=int32) to old file /tmp/joblib_memmapping_folder_4332_5199488016/4332-140105767653560-e205db2b81d94af3af7ded8bee81eb95.pkl\n",
      "Pickling array (shape=(2001,), dtype=int32).\n",
      "Memmapping (shape=(666842,), dtype=int64) to old file /tmp/joblib_memmapping_folder_4332_5199488016/4332-140105767653560-5cda9f619e7d4ca185ecb4d03dfe83e9.pkl\n",
      "Pickling array (shape=(1600,), dtype=int64).\n",
      "Pickling array (shape=(400,), dtype=int64).\n",
      "Memmapping (shape=(666842,), dtype=int32) to old file /tmp/joblib_memmapping_folder_4332_5199488016/4332-140105767653560-e205db2b81d94af3af7ded8bee81eb95.pkl\n",
      "Pickling array (shape=(2001,), dtype=int32).\n",
      "Memmapping (shape=(666842,), dtype=int64) to old file /tmp/joblib_memmapping_folder_4332_5199488016/4332-140105767653560-5cda9f619e7d4ca185ecb4d03dfe83e9.pkl\n",
      "Pickling array (shape=(1600,), dtype=int64).\n",
      "Pickling array (shape=(400,), dtype=int64).\n",
      "Memmapping (shape=(666842,), dtype=int32) to old file /tmp/joblib_memmapping_folder_4332_5199488016/4332-140105767653560-e205db2b81d94af3af7ded8bee81eb95.pkl\n",
      "Pickling array (shape=(2001,), dtype=int32).\n",
      "Memmapping (shape=(666842,), dtype=int64) to old file /tmp/joblib_memmapping_folder_4332_5199488016/4332-140105767653560-5cda9f619e7d4ca185ecb4d03dfe83e9.pkl\n",
      "Pickling array (shape=(1600,), dtype=int64).\n",
      "Pickling array (shape=(400,), dtype=int64).\n",
      "[Parallel(n_jobs=-1)]: Done   6 tasks      | elapsed:    1.1s\n",
      "[Parallel(n_jobs=-1)]: Done   7 tasks      | elapsed:    1.1s\n",
      "[Parallel(n_jobs=-1)]: Done   8 tasks      | elapsed:    1.1s\n",
      "Memmapping (shape=(666842,), dtype=int32) to old file /tmp/joblib_memmapping_folder_4332_5199488016/4332-140105767653560-e205db2b81d94af3af7ded8bee81eb95.pkl\n",
      "Pickling array (shape=(2001,), dtype=int32).\n",
      "Memmapping (shape=(666842,), dtype=int64) to old file /tmp/joblib_memmapping_folder_4332_5199488016/4332-140105767653560-5cda9f619e7d4ca185ecb4d03dfe83e9.pkl\n",
      "Pickling array (shape=(1600,), dtype=int64).\n",
      "[Parallel(n_jobs=-1)]: Done   9 tasks      | elapsed:    1.1s\n",
      "Pickling array (shape=(400,), dtype=int64).\n",
      "Memmapping (shape=(666842,), dtype=int32) to old file /tmp/joblib_memmapping_folder_4332_5199488016/4332-140105767653560-e205db2b81d94af3af7ded8bee81eb95.pkl\n",
      "Pickling array (shape=(2001,), dtype=int32).\n",
      "Memmapping (shape=(666842,), dtype=int64) to old file /tmp/joblib_memmapping_folder_4332_5199488016/4332-140105767653560-5cda9f619e7d4ca185ecb4d03dfe83e9.pkl\n",
      "[Parallel(n_jobs=-1)]: Done  10 tasks      | elapsed:    1.1s\n",
      "Pickling array (shape=(1600,), dtype=int64).[Parallel(n_jobs=-1)]: Done  11 tasks      | elapsed:    1.1s\n",
      "\n",
      "Pickling array (shape=(400,), dtype=int64).\n",
      "Memmapping (shape=(666842,), dtype=int32) to old file /tmp/joblib_memmapping_folder_4332_5199488016/4332-140105767653560-e205db2b81d94af3af7ded8bee81eb95.pkl\n",
      "[Parallel(n_jobs=-1)]: Done  12 tasks      | elapsed:    1.1s\n",
      "Pickling array (shape=(2001,), dtype=int32).[Parallel(n_jobs=-1)]: Done  13 tasks      | elapsed:    1.1s\n",
      "\n",
      "Memmapping (shape=(666842,), dtype=int64) to old file /tmp/joblib_memmapping_folder_4332_5199488016/4332-140105767653560-5cda9f619e7d4ca185ecb4d03dfe83e9.pkl\n",
      "Pickling array (shape=(1600,), dtype=int64).\n",
      "Pickling array (shape=(400,), dtype=int64).\n",
      "[Parallel(n_jobs=-1)]: Done  14 tasks      | elapsed:    1.2s\n",
      "Memmapping (shape=(666842,), dtype=int32) to old file /tmp/joblib_memmapping_folder_4332_5199488016/4332-140105767653560-e205db2b81d94af3af7ded8bee81eb95.pkl\n",
      "Pickling array (shape=(2001,), dtype=int32).\n",
      "Memmapping (shape=(666842,), dtype=int64) to old file /tmp/joblib_memmapping_folder_4332_5199488016/4332-140105767653560-5cda9f619e7d4ca185ecb4d03dfe83e9.pkl\n",
      "Pickling array (shape=(1600,), dtype=int64).[Parallel(n_jobs=-1)]: Done  15 tasks      | elapsed:    1.2s\n",
      "\n",
      "Pickling array (shape=(400,), dtype=int64).\n",
      "Memmapping (shape=(666842,), dtype=int32) to old file /tmp/joblib_memmapping_folder_4332_5199488016/4332-140105767653560-e205db2b81d94af3af7ded8bee81eb95.pkl\n",
      "Pickling array (shape=(2001,), dtype=int32).\n",
      "Memmapping (shape=(666842,), dtype=int64) to old file /tmp/joblib_memmapping_folder_4332_5199488016/4332-140105767653560-5cda9f619e7d4ca185ecb4d03dfe83e9.pkl\n",
      "Pickling array (shape=(1600,), dtype=int64).\n",
      "Pickling array (shape=(400,), dtype=int64).\n",
      "Memmapping (shape=(666842,), dtype=int32) to old file /tmp/joblib_memmapping_folder_4332_5199488016/4332-140105767653560-e205db2b81d94af3af7ded8bee81eb95.pkl\n",
      "Pickling array (shape=(2001,), dtype=int32).\n",
      "Memmapping (shape=(666842,), dtype=int64) to old file /tmp/joblib_memmapping_folder_4332_5199488016/4332-140105767653560-5cda9f619e7d4ca185ecb4d03dfe83e9.pkl\n",
      "Pickling array (shape=(1600,), dtype=int64).\n",
      "Pickling array (shape=(400,), dtype=int64).\n",
      "Memmapping (shape=(666842,), dtype=int32) to old file /tmp/joblib_memmapping_folder_4332_5199488016/4332-140105767653560-e205db2b81d94af3af7ded8bee81eb95.pkl\n",
      "Pickling array (shape=(2001,), dtype=int32).\n",
      "Memmapping (shape=(666842,), dtype=int64) to old file /tmp/joblib_memmapping_folder_4332_5199488016/4332-140105767653560-5cda9f619e7d4ca185ecb4d03dfe83e9.pkl\n",
      "Pickling array (shape=(1600,), dtype=int64).\n",
      "Pickling array (shape=(400,), dtype=int64).\n",
      "Memmapping (shape=(666842,), dtype=int32) to old file /tmp/joblib_memmapping_folder_4332_5199488016/4332-140105767653560-e205db2b81d94af3af7ded8bee81eb95.pkl\n",
      "Pickling array (shape=(2001,), dtype=int32).\n",
      "Memmapping (shape=(666842,), dtype=int64) to old file /tmp/joblib_memmapping_folder_4332_5199488016/4332-140105767653560-5cda9f619e7d4ca185ecb4d03dfe83e9.pkl\n",
      "Pickling array (shape=(1600,), dtype=int64).\n",
      "Pickling array (shape=(400,), dtype=int64).\n",
      "Memmapping (shape=(666842,), dtype=int32) to old file /tmp/joblib_memmapping_folder_4332_5199488016/4332-140105767653560-e205db2b81d94af3af7ded8bee81eb95.pkl\n",
      "Pickling array (shape=(2001,), dtype=int32).\n",
      "Memmapping (shape=(666842,), dtype=int64) to old file /tmp/joblib_memmapping_folder_4332_5199488016/4332-140105767653560-5cda9f619e7d4ca185ecb4d03dfe83e9.pkl\n",
      "Pickling array (shape=(1600,), dtype=int64).\n",
      "Pickling array (shape=(400,), dtype=int64).\n",
      "Memmapping (shape=(666842,), dtype=int32) to old file /tmp/joblib_memmapping_folder_4332_5199488016/4332-140105767653560-e205db2b81d94af3af7ded8bee81eb95.pkl\n",
      "Pickling array (shape=(2001,), dtype=int32).\n",
      "Memmapping (shape=(666842,), dtype=int64) to old file /tmp/joblib_memmapping_folder_4332_5199488016/4332-140105767653560-5cda9f619e7d4ca185ecb4d03dfe83e9.pkl\n",
      "Pickling array (shape=(1600,), dtype=int64).\n",
      "Pickling array (shape=(400,), dtype=int64).\n",
      "[Parallel(n_jobs=-1)]: Done  16 tasks      | elapsed:    1.9s\n",
      "Memmapping (shape=(666842,), dtype=int32) to old file /tmp/joblib_memmapping_folder_4332_5199488016/4332-140105767653560-e205db2b81d94af3af7ded8bee81eb95.pkl\n",
      "Pickling array (shape=(2001,), dtype=int32).\n",
      "Memmapping (shape=(666842,), dtype=int64) to old file /tmp/joblib_memmapping_folder_4332_5199488016/4332-140105767653560-5cda9f619e7d4ca185ecb4d03dfe83e9.pkl\n",
      "Pickling array (shape=(1600,), dtype=int64).[Parallel(n_jobs=-1)]: Done  17 tasks      | elapsed:    1.9s\n",
      "\n",
      "Pickling array (shape=(400,), dtype=int64).\n",
      "Memmapping (shape=(666842,), dtype=int32) to old file /tmp/joblib_memmapping_folder_4332_5199488016/4332-140105767653560-e205db2b81d94af3af7ded8bee81eb95.pkl\n",
      "Pickling array (shape=(2001,), dtype=int32).\n",
      "Memmapping (shape=(666842,), dtype=int64) to old file /tmp/joblib_memmapping_folder_4332_5199488016/4332-140105767653560-5cda9f619e7d4ca185ecb4d03dfe83e9.pkl\n",
      "Pickling array (shape=(1600,), dtype=int64).\n",
      "Pickling array (shape=(400,), dtype=int64).\n",
      "[Parallel(n_jobs=-1)]: Done  18 tasks      | elapsed:    1.9s\n",
      "Memmapping (shape=(666842,), dtype=int32) to old file /tmp/joblib_memmapping_folder_4332_5199488016/4332-140105767653560-e205db2b81d94af3af7ded8bee81eb95.pkl\n",
      "Pickling array (shape=(2001,), dtype=int32).\n",
      "Memmapping (shape=(666842,), dtype=int64) to old file /tmp/joblib_memmapping_folder_4332_5199488016/4332-140105767653560-5cda9f619e7d4ca185ecb4d03dfe83e9.pkl\n",
      "Pickling array (shape=(1600,), dtype=int64).\n",
      "Pickling array (shape=(400,), dtype=int64).\n",
      "[Parallel(n_jobs=-1)]: Done  19 tasks      | elapsed:    2.0s\n",
      "Memmapping (shape=(666842,), dtype=int32) to old file /tmp/joblib_memmapping_folder_4332_5199488016/4332-140105767653560-e205db2b81d94af3af7ded8bee81eb95.pkl\n",
      "Pickling array (shape=(2001,), dtype=int32).\n",
      "Memmapping (shape=(666842,), dtype=int64) to old file /tmp/joblib_memmapping_folder_4332_5199488016/4332-140105767653560-5cda9f619e7d4ca185ecb4d03dfe83e9.pkl\n",
      "Pickling array (shape=(1600,), dtype=int64).\n",
      "Pickling array (shape=(400,), dtype=int64).\n",
      "[Parallel(n_jobs=-1)]: Done  20 tasks      | elapsed:    2.1s\n",
      "[Parallel(n_jobs=-1)]: Done  21 tasks      | elapsed:    2.1s\n",
      "[Parallel(n_jobs=-1)]: Done  22 tasks      | elapsed:    2.1s\n",
      "Memmapping (shape=(666842,), dtype=int32) to old file /tmp/joblib_memmapping_folder_4332_5199488016/4332-140105767653560-e205db2b81d94af3af7ded8bee81eb95.pkl\n",
      "Pickling array (shape=(2001,), dtype=int32).\n",
      "Memmapping (shape=(666842,), dtype=int64) to old file /tmp/joblib_memmapping_folder_4332_5199488016/4332-140105767653560-5cda9f619e7d4ca185ecb4d03dfe83e9.pkl\n",
      "Pickling array (shape=(1600,), dtype=int64).\n",
      "[Parallel(n_jobs=-1)]: Done  23 tasks      | elapsed:    2.2s\n",
      "Pickling array (shape=(400,), dtype=int64).\n",
      "[Parallel(n_jobs=-1)]: Done  24 tasks      | elapsed:    2.2s\n",
      "Memmapping (shape=(666842,), dtype=int32) to old file /tmp/joblib_memmapping_folder_4332_5199488016/4332-140105767653560-e205db2b81d94af3af7ded8bee81eb95.pkl\n",
      "Pickling array (shape=(2001,), dtype=int32).\n",
      "Memmapping (shape=(666842,), dtype=int64) to old file /tmp/joblib_memmapping_folder_4332_5199488016/4332-140105767653560-5cda9f619e7d4ca185ecb4d03dfe83e9.pkl\n",
      "Pickling array (shape=(1600,), dtype=int64).\n",
      "Pickling array (shape=(400,), dtype=int64).\n",
      "[Parallel(n_jobs=-1)]: Done  25 tasks      | elapsed:    2.2s\n",
      "Memmapping (shape=(666842,), dtype=int32) to old file /tmp/joblib_memmapping_folder_4332_5199488016/4332-140105767653560-e205db2b81d94af3af7ded8bee81eb95.pkl\n",
      "Pickling array (shape=(2001,), dtype=int32).\n",
      "Memmapping (shape=(666842,), dtype=int64) to old file /tmp/joblib_memmapping_folder_4332_5199488016/4332-140105767653560-5cda9f619e7d4ca185ecb4d03dfe83e9.pkl\n",
      "[Parallel(n_jobs=-1)]: Done  26 tasks      | elapsed:    2.2s\n",
      "Pickling array (shape=(1600,), dtype=int64).\n",
      "[Parallel(n_jobs=-1)]: Done  27 tasks      | elapsed:    2.2s\n",
      "Pickling array (shape=(400,), dtype=int64).\n",
      "[Parallel(n_jobs=-1)]: Done  28 tasks      | elapsed:    2.2s\n",
      "Memmapping (shape=(666842,), dtype=int32) to old file /tmp/joblib_memmapping_folder_4332_5199488016/4332-140105767653560-e205db2b81d94af3af7ded8bee81eb95.pkl\n",
      "Pickling array (shape=(2001,), dtype=int32).\n",
      "Memmapping (shape=(666842,), dtype=int64) to old file /tmp/joblib_memmapping_folder_4332_5199488016/4332-140105767653560-5cda9f619e7d4ca185ecb4d03dfe83e9.pkl\n",
      "Pickling array (shape=(1600,), dtype=int64).\n",
      "[Parallel(n_jobs=-1)]: Done  29 out of  75 | elapsed:    2.3s remaining:    3.6s\n",
      "Pickling array (shape=(400,), dtype=int64).\n",
      "Memmapping (shape=(666842,), dtype=int32) to old file /tmp/joblib_memmapping_folder_4332_5199488016/4332-140105767653560-e205db2b81d94af3af7ded8bee81eb95.pkl\n",
      "Pickling array (shape=(2001,), dtype=int32).\n",
      "Memmapping (shape=(666842,), dtype=int64) to old file /tmp/joblib_memmapping_folder_4332_5199488016/4332-140105767653560-5cda9f619e7d4ca185ecb4d03dfe83e9.pkl\n",
      "Pickling array (shape=(1600,), dtype=int64).\n",
      "Pickling array (shape=(400,), dtype=int64).\n",
      "[Parallel(n_jobs=-1)]: Done  30 out of  75 | elapsed:    2.3s remaining:    3.4s\n",
      "Memmapping (shape=(666842,), dtype=int32) to old file /tmp/joblib_memmapping_folder_4332_5199488016/4332-140105767653560-e205db2b81d94af3af7ded8bee81eb95.pkl\n",
      "Pickling array (shape=(2001,), dtype=int32).\n",
      "Memmapping (shape=(666842,), dtype=int64) to old file /tmp/joblib_memmapping_folder_4332_5199488016/4332-140105767653560-5cda9f619e7d4ca185ecb4d03dfe83e9.pkl\n",
      "Pickling array (shape=(1600,), dtype=int64).\n",
      "Pickling array (shape=(400,), dtype=int64).\n",
      "Memmapping (shape=(666842,), dtype=int32) to old file /tmp/joblib_memmapping_folder_4332_5199488016/4332-140105767653560-e205db2b81d94af3af7ded8bee81eb95.pkl\n",
      "Pickling array (shape=(2001,), dtype=int32).\n",
      "Memmapping (shape=(666842,), dtype=int64) to old file /tmp/joblib_memmapping_folder_4332_5199488016/4332-140105767653560-5cda9f619e7d4ca185ecb4d03dfe83e9.pkl\n",
      "Pickling array (shape=(1600,), dtype=int64).\n",
      "Pickling array (shape=(400,), dtype=int64).\n",
      "Memmapping (shape=(666842,), dtype=int32) to old file /tmp/joblib_memmapping_folder_4332_5199488016/4332-140105767653560-e205db2b81d94af3af7ded8bee81eb95.pkl\n",
      "Pickling array (shape=(2001,), dtype=int32).\n",
      "Memmapping (shape=(666842,), dtype=int64) to old file /tmp/joblib_memmapping_folder_4332_5199488016/4332-140105767653560-5cda9f619e7d4ca185ecb4d03dfe83e9.pkl\n",
      "Pickling array (shape=(1600,), dtype=int64).\n",
      "Pickling array (shape=(400,), dtype=int64).\n",
      "Memmapping (shape=(666842,), dtype=int32) to old file /tmp/joblib_memmapping_folder_4332_5199488016/4332-140105767653560-e205db2b81d94af3af7ded8bee81eb95.pkl\n",
      "Pickling array (shape=(2001,), dtype=int32).\n",
      "Memmapping (shape=(666842,), dtype=int64) to old file /tmp/joblib_memmapping_folder_4332_5199488016/4332-140105767653560-5cda9f619e7d4ca185ecb4d03dfe83e9.pkl\n",
      "Pickling array (shape=(1600,), dtype=int64).\n",
      "Pickling array (shape=(400,), dtype=int64).\n",
      "Memmapping (shape=(666842,), dtype=int32) to old file /tmp/joblib_memmapping_folder_4332_5199488016/4332-140105767653560-e205db2b81d94af3af7ded8bee81eb95.pkl\n",
      "Pickling array (shape=(2001,), dtype=int32).\n",
      "Memmapping (shape=(666842,), dtype=int64) to old file /tmp/joblib_memmapping_folder_4332_5199488016/4332-140105767653560-5cda9f619e7d4ca185ecb4d03dfe83e9.pkl\n",
      "Pickling array (shape=(1600,), dtype=int64).\n",
      "Pickling array (shape=(400,), dtype=int64).\n",
      "Memmapping (shape=(666842,), dtype=int32) to old file /tmp/joblib_memmapping_folder_4332_5199488016/4332-140105767653560-e205db2b81d94af3af7ded8bee81eb95.pkl\n",
      "Pickling array (shape=(2001,), dtype=int32).\n",
      "Memmapping (shape=(666842,), dtype=int64) to old file /tmp/joblib_memmapping_folder_4332_5199488016/4332-140105767653560-5cda9f619e7d4ca185ecb4d03dfe83e9.pkl\n",
      "Pickling array (shape=(1600,), dtype=int64).\n",
      "Pickling array (shape=(400,), dtype=int64).\n",
      "[Parallel(n_jobs=-1)]: Done  31 out of  75 | elapsed:    3.1s remaining:    4.4s\n",
      "Memmapping (shape=(666842,), dtype=int32) to old file /tmp/joblib_memmapping_folder_4332_5199488016/4332-140105767653560-e205db2b81d94af3af7ded8bee81eb95.pkl\n",
      "Pickling array (shape=(2001,), dtype=int32).\n",
      "Memmapping (shape=(666842,), dtype=int64) to old file /tmp/joblib_memmapping_folder_4332_5199488016/4332-140105767653560-5cda9f619e7d4ca185ecb4d03dfe83e9.pkl\n",
      "Pickling array (shape=(1600,), dtype=int64).\n",
      "Pickling array (shape=(400,), dtype=int64).\n",
      "[Parallel(n_jobs=-1)]: Done  32 out of  75 | elapsed:    3.1s remaining:    4.2s\n",
      "Memmapping (shape=(666842,), dtype=int32) to old file /tmp/joblib_memmapping_folder_4332_5199488016/4332-140105767653560-e205db2b81d94af3af7ded8bee81eb95.pkl\n",
      "Pickling array (shape=(2001,), dtype=int32).\n",
      "Memmapping (shape=(666842,), dtype=int64) to old file /tmp/joblib_memmapping_folder_4332_5199488016/4332-140105767653560-5cda9f619e7d4ca185ecb4d03dfe83e9.pkl\n",
      "Pickling array (shape=(1600,), dtype=int64).\n",
      "Pickling array (shape=(400,), dtype=int64).\n",
      "[Parallel(n_jobs=-1)]: Done  33 out of  75 | elapsed:    3.2s remaining:    4.1s\n",
      "Memmapping (shape=(666842,), dtype=int32) to old file /tmp/joblib_memmapping_folder_4332_5199488016/4332-140105767653560-e205db2b81d94af3af7ded8bee81eb95.pkl\n",
      "Pickling array (shape=(2001,), dtype=int32).\n",
      "Memmapping (shape=(666842,), dtype=int64) to old file /tmp/joblib_memmapping_folder_4332_5199488016/4332-140105767653560-5cda9f619e7d4ca185ecb4d03dfe83e9.pkl\n",
      "Pickling array (shape=(1600,), dtype=int64).\n",
      "Pickling array (shape=(400,), dtype=int64).\n",
      "[Parallel(n_jobs=-1)]: Done  34 out of  75 | elapsed:    3.3s remaining:    4.0s\n",
      "Memmapping (shape=(666842,), dtype=int32) to old file /tmp/joblib_memmapping_folder_4332_5199488016/4332-140105767653560-e205db2b81d94af3af7ded8bee81eb95.pkl\n",
      "Pickling array (shape=(2001,), dtype=int32).\n",
      "Memmapping (shape=(666842,), dtype=int64) to old file /tmp/joblib_memmapping_folder_4332_5199488016/4332-140105767653560-5cda9f619e7d4ca185ecb4d03dfe83e9.pkl\n",
      "Pickling array (shape=(1600,), dtype=int64).\n",
      "Pickling array (shape=(400,), dtype=int64).\n",
      "[Parallel(n_jobs=-1)]: Done  35 out of  75 | elapsed:    3.4s remaining:    3.9s\n",
      "Memmapping (shape=(666842,), dtype=int32) to old file /tmp/joblib_memmapping_folder_4332_5199488016/4332-140105767653560-e205db2b81d94af3af7ded8bee81eb95.pkl\n",
      "Pickling array (shape=(2001,), dtype=int32).\n",
      "Memmapping (shape=(666842,), dtype=int64) to old file /tmp/joblib_memmapping_folder_4332_5199488016/4332-140105767653560-5cda9f619e7d4ca185ecb4d03dfe83e9.pkl\n",
      "Pickling array (shape=(1600,), dtype=int64).\n",
      "Pickling array (shape=(400,), dtype=int64).\n",
      "[Parallel(n_jobs=-1)]: Done  36 out of  75 | elapsed:    3.6s remaining:    3.9s\n",
      "[Parallel(n_jobs=-1)]: Done  37 out of  75 | elapsed:    3.6s remaining:    3.7s\n",
      "[Parallel(n_jobs=-1)]: Done  38 out of  75 | elapsed:    3.6s remaining:    3.5s\n",
      "Memmapping (shape=(666842,), dtype=int32) to old file /tmp/joblib_memmapping_folder_4332_5199488016/4332-140105767653560-e205db2b81d94af3af7ded8bee81eb95.pkl\n",
      "Pickling array (shape=(2001,), dtype=int32).\n",
      "Memmapping (shape=(666842,), dtype=int64) to old file /tmp/joblib_memmapping_folder_4332_5199488016/4332-140105767653560-5cda9f619e7d4ca185ecb4d03dfe83e9.pkl\n",
      "Pickling array (shape=(1600,), dtype=int64).\n",
      "Pickling array (shape=(400,), dtype=int64).\n",
      "Memmapping (shape=(666842,), dtype=int32) to old file /tmp/joblib_memmapping_folder_4332_5199488016/4332-140105767653560-e205db2b81d94af3af7ded8bee81eb95.pkl\n",
      "Pickling array (shape=(2001,), dtype=int32).\n",
      "Memmapping (shape=(666842,), dtype=int64) to old file /tmp/joblib_memmapping_folder_4332_5199488016/4332-140105767653560-5cda9f619e7d4ca185ecb4d03dfe83e9.pkl\n",
      "Pickling array (shape=(1600,), dtype=int64).[Parallel(n_jobs=-1)]: Done  39 out of  75 | elapsed:    3.6s remaining:    3.4s\n",
      "\n",
      "Pickling array (shape=(400,), dtype=int64).\n",
      "[Parallel(n_jobs=-1)]: Done  40 out of  75 | elapsed:    3.7s remaining:    3.2s\n",
      "[Parallel(n_jobs=-1)]: Done  41 out of  75 | elapsed:    3.7s remaining:    3.0s\n",
      "Memmapping (shape=(666842,), dtype=int32) to old file /tmp/joblib_memmapping_folder_4332_5199488016/4332-140105767653560-e205db2b81d94af3af7ded8bee81eb95.pkl[Parallel(n_jobs=-1)]: Done  42 out of  75 | elapsed:    3.7s remaining:    2.9s\n",
      "\n",
      "Pickling array (shape=(2001,), dtype=int32).\n",
      "Memmapping (shape=(666842,), dtype=int64) to old file /tmp/joblib_memmapping_folder_4332_5199488016/4332-140105767653560-5cda9f619e7d4ca185ecb4d03dfe83e9.pkl[Parallel(n_jobs=-1)]: Done  43 out of  75 | elapsed:    3.7s remaining:    2.7s\n",
      "\n",
      "Pickling array (shape=(1600,), dtype=int64).[Parallel(n_jobs=-1)]: Done  44 out of  75 | elapsed:    3.7s remaining:    2.6s\n",
      "\n",
      "Pickling array (shape=(400,), dtype=int64).\n",
      "Memmapping (shape=(666842,), dtype=int32) to old file /tmp/joblib_memmapping_folder_4332_5199488016/4332-140105767653560-e205db2b81d94af3af7ded8bee81eb95.pkl\n",
      "Pickling array (shape=(2001,), dtype=int32).\n",
      "Memmapping (shape=(666842,), dtype=int64) to old file /tmp/joblib_memmapping_folder_4332_5199488016/4332-140105767653560-5cda9f619e7d4ca185ecb4d03dfe83e9.pkl\n",
      "Pickling array (shape=(1600,), dtype=int64).\n",
      "Pickling array (shape=(400,), dtype=int64).\n",
      "[Parallel(n_jobs=-1)]: Done  45 out of  75 | elapsed:    3.7s remaining:    2.5s\n",
      "Memmapping (shape=(666842,), dtype=int32) to old file /tmp/joblib_memmapping_folder_4332_5199488016/4332-140105767653560-e205db2b81d94af3af7ded8bee81eb95.pkl\n",
      "Pickling array (shape=(2001,), dtype=int32).\n",
      "Memmapping (shape=(666842,), dtype=int64) to old file /tmp/joblib_memmapping_folder_4332_5199488016/4332-140105767653560-5cda9f619e7d4ca185ecb4d03dfe83e9.pkl\n",
      "Pickling array (shape=(1600,), dtype=int64).\n",
      "Pickling array (shape=(400,), dtype=int64).\n",
      "Memmapping (shape=(666842,), dtype=int32) to old file /tmp/joblib_memmapping_folder_4332_5199488016/4332-140105767653560-e205db2b81d94af3af7ded8bee81eb95.pkl\n",
      "Pickling array (shape=(2001,), dtype=int32).\n",
      "Memmapping (shape=(666842,), dtype=int64) to old file /tmp/joblib_memmapping_folder_4332_5199488016/4332-140105767653560-5cda9f619e7d4ca185ecb4d03dfe83e9.pkl\n",
      "Pickling array (shape=(1600,), dtype=int64).\n",
      "Pickling array (shape=(400,), dtype=int64).\n",
      "Memmapping (shape=(666842,), dtype=int32) to old file /tmp/joblib_memmapping_folder_4332_5199488016/4332-140105767653560-e205db2b81d94af3af7ded8bee81eb95.pkl\n",
      "Pickling array (shape=(2001,), dtype=int32).\n",
      "Memmapping (shape=(666842,), dtype=int64) to old file /tmp/joblib_memmapping_folder_4332_5199488016/4332-140105767653560-5cda9f619e7d4ca185ecb4d03dfe83e9.pkl\n",
      "Pickling array (shape=(1600,), dtype=int64).\n",
      "Pickling array (shape=(400,), dtype=int64).\n",
      "[Parallel(n_jobs=-1)]: Done  46 out of  75 | elapsed:    3.8s remaining:    2.4s\n",
      "Memmapping (shape=(666842,), dtype=int32) to old file /tmp/joblib_memmapping_folder_4332_5199488016/4332-140105767653560-e205db2b81d94af3af7ded8bee81eb95.pkl\n",
      "Pickling array (shape=(2001,), dtype=int32).\n",
      "Memmapping (shape=(666842,), dtype=int64) to old file /tmp/joblib_memmapping_folder_4332_5199488016/4332-140105767653560-5cda9f619e7d4ca185ecb4d03dfe83e9.pkl\n",
      "Pickling array (shape=(1600,), dtype=int64).\n",
      "Pickling array (shape=(400,), dtype=int64).\n",
      "Memmapping (shape=(666842,), dtype=int32) to old file /tmp/joblib_memmapping_folder_4332_5199488016/4332-140105767653560-e205db2b81d94af3af7ded8bee81eb95.pkl\n",
      "Pickling array (shape=(2001,), dtype=int32).\n",
      "Memmapping (shape=(666842,), dtype=int64) to old file /tmp/joblib_memmapping_folder_4332_5199488016/4332-140105767653560-5cda9f619e7d4ca185ecb4d03dfe83e9.pkl\n",
      "Pickling array (shape=(1600,), dtype=int64).\n",
      "Pickling array (shape=(400,), dtype=int64).\n",
      "Memmapping (shape=(666842,), dtype=int32) to old file /tmp/joblib_memmapping_folder_4332_5199488016/4332-140105767653560-e205db2b81d94af3af7ded8bee81eb95.pkl\n",
      "Pickling array (shape=(2001,), dtype=int32).\n",
      "Memmapping (shape=(666842,), dtype=int64) to old file /tmp/joblib_memmapping_folder_4332_5199488016/4332-140105767653560-5cda9f619e7d4ca185ecb4d03dfe83e9.pkl\n",
      "Pickling array (shape=(1600,), dtype=int64).\n",
      "Pickling array (shape=(400,), dtype=int64).\n",
      "Memmapping (shape=(666842,), dtype=int32) to old file /tmp/joblib_memmapping_folder_4332_5199488016/4332-140105767653560-e205db2b81d94af3af7ded8bee81eb95.pkl\n",
      "Pickling array (shape=(2001,), dtype=int32).\n",
      "Memmapping (shape=(666842,), dtype=int64) to old file /tmp/joblib_memmapping_folder_4332_5199488016/4332-140105767653560-5cda9f619e7d4ca185ecb4d03dfe83e9.pkl\n",
      "Pickling array (shape=(1600,), dtype=int64).\n",
      "Pickling array (shape=(400,), dtype=int64).\n",
      "[Parallel(n_jobs=-1)]: Done  47 out of  75 | elapsed:    4.0s remaining:    2.4s\n",
      "Memmapping (shape=(666842,), dtype=int32) to old file /tmp/joblib_memmapping_folder_4332_5199488016/4332-140105767653560-e205db2b81d94af3af7ded8bee81eb95.pkl\n",
      "Pickling array (shape=(2001,), dtype=int32).\n",
      "Memmapping (shape=(666842,), dtype=int64) to old file /tmp/joblib_memmapping_folder_4332_5199488016/4332-140105767653560-5cda9f619e7d4ca185ecb4d03dfe83e9.pkl\n",
      "Pickling array (shape=(1600,), dtype=int64).\n",
      "Pickling array (shape=(400,), dtype=int64).\n",
      "[Parallel(n_jobs=-1)]: Done  48 out of  75 | elapsed:    4.1s remaining:    2.3s\n",
      "Memmapping (shape=(666842,), dtype=int32) to old file /tmp/joblib_memmapping_folder_4332_5199488016/4332-140105767653560-e205db2b81d94af3af7ded8bee81eb95.pkl\n",
      "Pickling array (shape=(2001,), dtype=int32).\n",
      "Memmapping (shape=(666842,), dtype=int64) to old file /tmp/joblib_memmapping_folder_4332_5199488016/4332-140105767653560-5cda9f619e7d4ca185ecb4d03dfe83e9.pkl\n",
      "Pickling array (shape=(1600,), dtype=int64).\n",
      "Pickling array (shape=(400,), dtype=int64).\n",
      "[Parallel(n_jobs=-1)]: Done  49 out of  75 | elapsed:    4.1s remaining:    2.2s\n",
      "[Parallel(n_jobs=-1)]: Done  50 out of  75 | elapsed:    4.1s remaining:    2.1s\n",
      "[Parallel(n_jobs=-1)]: Done  51 out of  75 | elapsed:    4.1s remaining:    1.9s\n",
      "[Parallel(n_jobs=-1)]: Done  52 out of  75 | elapsed:    4.1s remaining:    1.8s\n",
      "[Parallel(n_jobs=-1)]: Done  53 out of  75 | elapsed:    4.2s remaining:    1.7s\n",
      "[Parallel(n_jobs=-1)]: Done  54 out of  75 | elapsed:    4.2s remaining:    1.6s\n",
      "[Parallel(n_jobs=-1)]: Done  55 out of  75 | elapsed:    4.4s remaining:    1.6s\n",
      "[Parallel(n_jobs=-1)]: Done  56 out of  75 | elapsed:    4.4s remaining:    1.5s\n",
      "[Parallel(n_jobs=-1)]: Done  57 out of  75 | elapsed:    4.5s remaining:    1.4s\n",
      "[Parallel(n_jobs=-1)]: Done  58 out of  75 | elapsed:    4.5s remaining:    1.3s\n",
      "[Parallel(n_jobs=-1)]: Done  59 out of  75 | elapsed:    4.6s remaining:    1.2s\n",
      "[Parallel(n_jobs=-1)]: Done  60 out of  75 | elapsed:    4.7s remaining:    1.2s\n",
      "[Parallel(n_jobs=-1)]: Done  61 out of  75 | elapsed:    4.8s remaining:    1.1s\n",
      "[Parallel(n_jobs=-1)]: Done  62 out of  75 | elapsed:    4.9s remaining:    1.0s\n",
      "[Parallel(n_jobs=-1)]: Done  63 out of  75 | elapsed:    4.9s remaining:    0.9s\n",
      "[Parallel(n_jobs=-1)]: Done  64 out of  75 | elapsed:    4.9s remaining:    0.8s\n",
      "[Parallel(n_jobs=-1)]: Done  65 out of  75 | elapsed:    5.0s remaining:    0.8s\n",
      "[Parallel(n_jobs=-1)]: Done  66 out of  75 | elapsed:    5.0s remaining:    0.7s\n",
      "[Parallel(n_jobs=-1)]: Done  67 out of  75 | elapsed:    5.1s remaining:    0.6s\n",
      "[Parallel(n_jobs=-1)]: Done  68 out of  75 | elapsed:    5.1s remaining:    0.5s\n",
      "[Parallel(n_jobs=-1)]: Done  69 out of  75 | elapsed:    5.1s remaining:    0.4s\n",
      "[Parallel(n_jobs=-1)]: Done  70 out of  75 | elapsed:    5.3s remaining:    0.4s\n",
      "[Parallel(n_jobs=-1)]: Done  71 out of  75 | elapsed:    5.4s remaining:    0.3s\n",
      "[Parallel(n_jobs=-1)]: Done  72 out of  75 | elapsed:    5.4s remaining:    0.2s\n",
      "[Parallel(n_jobs=-1)]: Done  73 out of  75 | elapsed:    5.5s remaining:    0.1s\n",
      "[Parallel(n_jobs=-1)]: Done  75 out of  75 | elapsed:    5.6s remaining:    0.0s\n",
      "[Parallel(n_jobs=-1)]: Done  75 out of  75 | elapsed:    5.6s finished\n"
     ]
    },
    {
     "name": "stderr",
     "output_type": "stream",
     "text": [
      "/home/datagym.ta/jupyterhub/lib/python3.6/site-packages/sklearn/linear_model/_logistic.py:940: ConvergenceWarning: lbfgs failed to converge (status=1):\n",
      "STOP: TOTAL NO. of ITERATIONS REACHED LIMIT.\n",
      "\n",
      "Increase the number of iterations (max_iter) or scale the data as shown in:\n",
      "    https://scikit-learn.org/stable/modules/preprocessing.html\n",
      "Please also refer to the documentation for alternative solver options:\n",
      "    https://scikit-learn.org/stable/modules/linear_model.html#logistic-regression\n",
      "  extra_warning_msg=_LOGISTIC_SOLVER_CONVERGENCE_MSG)\n"
     ]
    }
   ],
   "source": [
    "gs = GridSearchCV(\n",
    "    LogisticRegression(),\n",
    "    {'penalty': ['l1', 'l2', 'none'],\n",
    "     'C': [0.01, 0.1, 1, 2, 10] },\n",
    "    scoring='roc_auc',\n",
    "    cv=5,\n",
    "    n_jobs=-1,\n",
    "    verbose=777\n",
    ").fit(m, target)\n"
   ]
  },
  {
   "cell_type": "code",
   "execution_count": 98,
   "metadata": {},
   "outputs": [
    {
     "data": {
      "text/plain": [
       "LogisticRegression(C=0.1, class_weight=None, dual=False, fit_intercept=True,\n",
       "                   intercept_scaling=1, l1_ratio=None, max_iter=100,\n",
       "                   multi_class='auto', n_jobs=None, penalty='l2',\n",
       "                   random_state=None, solver='lbfgs', tol=0.0001, verbose=0,\n",
       "                   warm_start=False)"
      ]
     },
     "execution_count": 98,
     "metadata": {},
     "output_type": "execute_result"
    }
   ],
   "source": [
    "gs.best_estimator_"
   ]
  },
  {
   "cell_type": "code",
   "execution_count": null,
   "metadata": {},
   "outputs": [],
   "source": []
  },
  {
   "cell_type": "code",
   "execution_count": null,
   "metadata": {},
   "outputs": [],
   "source": []
  }
 ],
 "metadata": {
  "kernelspec": {
   "display_name": "Python 3",
   "language": "python",
   "name": "python3"
  },
  "language_info": {
   "codemirror_mode": {
    "name": "ipython",
    "version": 3
   },
   "file_extension": ".py",
   "mimetype": "text/x-python",
   "name": "python",
   "nbconvert_exporter": "python",
   "pygments_lexer": "ipython3",
   "version": "3.6.9"
  }
 },
 "nbformat": 4,
 "nbformat_minor": 1
}
