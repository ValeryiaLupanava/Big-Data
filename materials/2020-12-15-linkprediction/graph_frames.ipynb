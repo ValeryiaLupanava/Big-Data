{
 "cells": [
  {
   "cell_type": "markdown",
   "metadata": {},
   "source": [
    "### Graph Frames"
   ]
  },
  {
   "cell_type": "code",
   "execution_count": 1,
   "metadata": {},
   "outputs": [],
   "source": [
    "import os\n",
    "import sys\n",
    "os.environ[\"PYSPARK_SUBMIT_ARGS\"]='pyspark-shell'\n",
    "os.environ[\"PYSPARK_PYTHON\"]='/opt/anaconda/envs/bd9/bin/python'\n",
    "os.environ[\"SPARK_HOME\"]='/usr/hdp/current/spark2-client'\n",
    "\n",
    "spark_home = os.environ.get('SPARK_HOME', None)\n",
    "if not spark_home:\n",
    "    raise ValueError('SPARK_HOME environment variable is not set')\n",
    "sys.path.insert(0, os.path.join(spark_home, 'python'))\n",
    "sys.path.insert(0, os.path.join(spark_home, 'python/lib/py4j-0.10.7-src.zip'))"
   ]
  },
  {
   "cell_type": "code",
   "execution_count": 2,
   "metadata": {},
   "outputs": [],
   "source": [
    "from pyspark import SparkConf\n",
    "from pyspark.sql import SparkSession\n",
    "\n",
    "conf = SparkConf()\n",
    "conf.set(\"spark.app.name\", \"natasha pritykovskaya Graph Frames\") \n",
    "\n",
    "spark = SparkSession.builder.config(conf=conf).getOrCreate()"
   ]
  },
  {
   "cell_type": "code",
   "execution_count": 3,
   "metadata": {},
   "outputs": [],
   "source": [
    "from graphframes import *"
   ]
  },
  {
   "cell_type": "code",
   "execution_count": 4,
   "metadata": {},
   "outputs": [],
   "source": [
    "vertices = spark.createDataFrame([\n",
    "    (\"1\", \"Alex\", 28, \"M\", \"MIPT\"),\n",
    "    (\"2\", \"Emeli\", 28, \"F\", \"MIPT\"),\n",
    "    (\"3\", \"Natasha\", 27, \"F\", \"SPbSU\"),\n",
    "    (\"4\", \"Pavel\", 30, \"M\", \"MIPT\"),\n",
    "    (\"5\", \"Oleg\", 35, \"M\", \"MIPT\"),\n",
    "    (\"6\", \"Ivan\", 30, \"M\", \"MSU\"),\n",
    "    (\"7\", \"Ilya\", 29, \"M\", \"MSU\")], \n",
    "[\"id\", \"name\", \"age\", \"gender\", \"university\"])"
   ]
  },
  {
   "cell_type": "code",
   "execution_count": 5,
   "metadata": {},
   "outputs": [],
   "source": [
    "edges = spark.createDataFrame([\n",
    "    (\"1\", \"2\", \"friend\"),\n",
    "    (\"2\", \"1\", \"friend\"),\n",
    "    (\"1\", \"3\", \"friend\"),\n",
    "    (\"3\", \"1\", \"friend\"),\n",
    "    (\"1\", \"4\", \"friend\"),\n",
    "    (\"4\", \"1\", \"friend\"),\n",
    "    (\"2\", \"3\", \"friend\"),\n",
    "    (\"3\", \"2\", \"friend\"),\n",
    "    (\"2\", \"5\", \"friend\"),\n",
    "    (\"5\", \"2\", \"friend\"),\n",
    "    (\"3\", \"4\", \"friend\"),\n",
    "    (\"4\", \"3\", \"friend\"),\n",
    "    (\"3\", \"5\", \"friend\"),\n",
    "    (\"5\", \"3\", \"friend\"),\n",
    "    (\"3\", \"6\", \"friend\"),\n",
    "    (\"6\", \"3\", \"friend\"),\n",
    "    (\"3\", \"7\", \"friend\"),\n",
    "    (\"7\", \"3\", \"friend\")\n",
    "], [\"src\", \"dst\", \"relationship\"])"
   ]
  },
  {
   "cell_type": "markdown",
   "metadata": {},
   "source": [
    "<img src=\"pics/graph_graphframes.png\" width=500/>"
   ]
  },
  {
   "cell_type": "code",
   "execution_count": 6,
   "metadata": {},
   "outputs": [],
   "source": [
    "g = GraphFrame(vertices, edges)"
   ]
  },
  {
   "cell_type": "code",
   "execution_count": 7,
   "metadata": {},
   "outputs": [
    {
     "name": "stdout",
     "output_type": "stream",
     "text": [
      "+---+-------+---+------+----------+\n",
      "| id|   name|age|gender|university|\n",
      "+---+-------+---+------+----------+\n",
      "|  1|   Alex| 28|     M|      MIPT|\n",
      "|  2|  Emeli| 28|     F|      MIPT|\n",
      "|  3|Natasha| 27|     F|     SPbSU|\n",
      "|  4|  Pavel| 30|     M|      MIPT|\n",
      "|  5|   Oleg| 35|     M|      MIPT|\n",
      "|  6|   Ivan| 30|     M|       MSU|\n",
      "|  7|   Ilya| 29|     M|       MSU|\n",
      "+---+-------+---+------+----------+\n",
      "\n"
     ]
    }
   ],
   "source": [
    "g.vertices.show()"
   ]
  },
  {
   "cell_type": "code",
   "execution_count": 8,
   "metadata": {},
   "outputs": [
    {
     "name": "stdout",
     "output_type": "stream",
     "text": [
      "+---+---+------------+\n",
      "|src|dst|relationship|\n",
      "+---+---+------------+\n",
      "|  1|  2|      friend|\n",
      "|  2|  1|      friend|\n",
      "|  1|  3|      friend|\n",
      "|  3|  1|      friend|\n",
      "|  1|  4|      friend|\n",
      "|  4|  1|      friend|\n",
      "|  2|  3|      friend|\n",
      "|  3|  2|      friend|\n",
      "|  2|  5|      friend|\n",
      "|  5|  2|      friend|\n",
      "|  3|  4|      friend|\n",
      "|  4|  3|      friend|\n",
      "|  3|  5|      friend|\n",
      "|  5|  3|      friend|\n",
      "|  3|  6|      friend|\n",
      "|  6|  3|      friend|\n",
      "|  3|  7|      friend|\n",
      "|  7|  3|      friend|\n",
      "+---+---+------------+\n",
      "\n"
     ]
    }
   ],
   "source": [
    "g.edges.show()"
   ]
  },
  {
   "cell_type": "code",
   "execution_count": 9,
   "metadata": {},
   "outputs": [
    {
     "name": "stdout",
     "output_type": "stream",
     "text": [
      "+---+----+---+------+----------+\n",
      "| id|name|age|gender|university|\n",
      "+---+----+---+------+----------+\n",
      "|  5|Oleg| 35|     M|      MIPT|\n",
      "+---+----+---+------+----------+\n",
      "\n"
     ]
    }
   ],
   "source": [
    "g.vertices.filter(\"age > 30\").show()"
   ]
  },
  {
   "cell_type": "code",
   "execution_count": 10,
   "metadata": {},
   "outputs": [
    {
     "name": "stdout",
     "output_type": "stream",
     "text": [
      "+---+--------+\n",
      "| id|inDegree|\n",
      "+---+--------+\n",
      "|  3|       6|\n",
      "|  5|       2|\n",
      "|  1|       3|\n",
      "|  4|       2|\n",
      "|  2|       3|\n",
      "+---+--------+\n",
      "\n"
     ]
    }
   ],
   "source": [
    "g.inDegrees.filter(\"inDegree >= 2\").show(10)"
   ]
  },
  {
   "cell_type": "markdown",
   "metadata": {},
   "source": [
    "# Кол-во треугольников"
   ]
  },
  {
   "cell_type": "code",
   "execution_count": 11,
   "metadata": {},
   "outputs": [
    {
     "name": "stdout",
     "output_type": "stream",
     "text": [
      "+-----+---+-------+---+------+----------+\n",
      "|count| id|   name|age|gender|university|\n",
      "+-----+---+-------+---+------+----------+\n",
      "|    0|  7|   Ilya| 29|     M|       MSU|\n",
      "|    3|  3|Natasha| 27|     F|     SPbSU|\n",
      "|    1|  5|   Oleg| 35|     M|      MIPT|\n",
      "|    0|  6|   Ivan| 30|     M|       MSU|\n",
      "|    2|  1|   Alex| 28|     M|      MIPT|\n",
      "|    1|  4|  Pavel| 30|     M|      MIPT|\n",
      "|    2|  2|  Emeli| 28|     F|      MIPT|\n",
      "+-----+---+-------+---+------+----------+\n",
      "\n"
     ]
    }
   ],
   "source": [
    "g.triangleCount().show()"
   ]
  },
  {
   "cell_type": "markdown",
   "metadata": {},
   "source": [
    "### Компоненты связности"
   ]
  },
  {
   "cell_type": "code",
   "execution_count": 12,
   "metadata": {},
   "outputs": [],
   "source": [
    "edges = spark.createDataFrame([\n",
    "    (\"1\", \"2\", \"friend\"),\n",
    "    (\"1\", \"4\", \"friend\"),\n",
    "    (\"3\", \"5\", \"friend\"),\n",
    "    (\"3\", \"6\", \"friend\"),\n",
    "], [\"src\", \"dst\", \"relationship\"])"
   ]
  },
  {
   "cell_type": "markdown",
   "metadata": {},
   "source": [
    "<img src=\"pics/graph_small_amount_of_links.png\" width=500/>"
   ]
  },
  {
   "cell_type": "code",
   "execution_count": 13,
   "metadata": {},
   "outputs": [],
   "source": [
    "g = GraphFrame(vertices, edges)"
   ]
  },
  {
   "cell_type": "code",
   "execution_count": 15,
   "metadata": {},
   "outputs": [
    {
     "ename": "AttributeError",
     "evalue": "'SparkSession' object has no attribute 'setCheckpointDir'",
     "output_type": "error",
     "traceback": [
      "\u001b[0;31m---------------------------------------------------------------------------\u001b[0m",
      "\u001b[0;31mAttributeError\u001b[0m                            Traceback (most recent call last)",
      "\u001b[0;32m<ipython-input-15-2995096d322b>\u001b[0m in \u001b[0;36m<module>\u001b[0;34m()\u001b[0m\n\u001b[0;32m----> 1\u001b[0;31m \u001b[0mspark\u001b[0m\u001b[0;34m.\u001b[0m\u001b[0msetCheckpointDir\u001b[0m\u001b[0;34m(\u001b[0m\u001b[0;34m\"/user/natalya.pritykovskaya/\"\u001b[0m\u001b[0;34m)\u001b[0m\u001b[0;34m\u001b[0m\u001b[0m\n\u001b[0m\u001b[1;32m      2\u001b[0m \u001b[0mresult\u001b[0m \u001b[0;34m=\u001b[0m \u001b[0mg\u001b[0m\u001b[0;34m.\u001b[0m\u001b[0mconnectedComponents\u001b[0m\u001b[0;34m(\u001b[0m\u001b[0;34m)\u001b[0m\u001b[0;34m\u001b[0m\u001b[0m\n\u001b[1;32m      3\u001b[0m \u001b[0mresult\u001b[0m\u001b[0;34m.\u001b[0m\u001b[0mselect\u001b[0m\u001b[0;34m(\u001b[0m\u001b[0;34m\"id\"\u001b[0m\u001b[0;34m,\u001b[0m \u001b[0;34m\"component\"\u001b[0m\u001b[0;34m)\u001b[0m\u001b[0;34m.\u001b[0m\u001b[0morderBy\u001b[0m\u001b[0;34m(\u001b[0m\u001b[0;34m\"component\"\u001b[0m\u001b[0;34m)\u001b[0m\u001b[0;34m.\u001b[0m\u001b[0mshow\u001b[0m\u001b[0;34m(\u001b[0m\u001b[0;34m)\u001b[0m\u001b[0;34m\u001b[0m\u001b[0m\n",
      "\u001b[0;31mAttributeError\u001b[0m: 'SparkSession' object has no attribute 'setCheckpointDir'"
     ]
    }
   ],
   "source": [
    "sc = spark.\n",
    "\n",
    "sc.setCheckpointDir(\"/user/natalya.pritykovskaya/\")\n",
    "result = g.connectedComponents()\n",
    "result.select(\"id\", \"component\").orderBy(\"component\").show()"
   ]
  },
  {
   "cell_type": "code",
   "execution_count": null,
   "metadata": {},
   "outputs": [],
   "source": [
    "g = g.dropIsolatedVertices()"
   ]
  },
  {
   "cell_type": "code",
   "execution_count": null,
   "metadata": {},
   "outputs": [],
   "source": [
    "g.vertices.show()"
   ]
  },
  {
   "cell_type": "markdown",
   "metadata": {},
   "source": [
    "### Page rank"
   ]
  },
  {
   "cell_type": "code",
   "execution_count": null,
   "metadata": {},
   "outputs": [],
   "source": [
    "vertices = spark.createDataFrame([\n",
    "    (\"1\", \"Alex\", 28, \"M\", \"MIPT\"),\n",
    "    (\"2\", \"Emeli\", 28, \"F\", \"MIPT\"),\n",
    "    (\"3\", \"Natasha\", 27, \"F\", \"SPbSU\"),\n",
    "    (\"4\", \"Pavel\", 30, \"M\", \"MIPT\"),\n",
    "    (\"5\", \"Oleg\", 35, \"M\", \"MIPT\"),\n",
    "    (\"6\", \"Ivan\", 30, \"M\", \"MSU\"),\n",
    "    (\"7\", \"Ilya\", 29, \"M\", \"MSU\")], \n",
    "[\"id\", \"name\", \"age\", \"gender\", \"university\"])"
   ]
  },
  {
   "cell_type": "code",
   "execution_count": null,
   "metadata": {},
   "outputs": [],
   "source": [
    "edges = spark.createDataFrame([\n",
    "    (\"1\", \"2\", \"friend\"),\n",
    "    (\"2\", \"1\", \"friend\"),\n",
    "    (\"1\", \"3\", \"friend\"),\n",
    "    (\"3\", \"1\", \"friend\"),\n",
    "    (\"1\", \"4\", \"friend\"),\n",
    "    (\"4\", \"1\", \"friend\"),\n",
    "    (\"2\", \"3\", \"friend\"),\n",
    "    (\"3\", \"2\", \"friend\"),\n",
    "    (\"2\", \"5\", \"friend\"),\n",
    "    (\"5\", \"2\", \"friend\"),\n",
    "    (\"3\", \"4\", \"friend\"),\n",
    "    (\"4\", \"3\", \"friend\"),\n",
    "    (\"3\", \"5\", \"friend\"),\n",
    "    (\"5\", \"3\", \"friend\"),\n",
    "    (\"3\", \"6\", \"friend\"),\n",
    "    (\"6\", \"3\", \"friend\"),\n",
    "    (\"3\", \"7\", \"friend\"),\n",
    "    (\"7\", \"3\", \"friend\")\n",
    "], [\"src\", \"dst\", \"relationship\"])"
   ]
  },
  {
   "cell_type": "code",
   "execution_count": null,
   "metadata": {},
   "outputs": [],
   "source": [
    "g = GraphFrame(vertices, edges)"
   ]
  },
  {
   "cell_type": "code",
   "execution_count": null,
   "metadata": {},
   "outputs": [],
   "source": [
    "results = g.pageRank(resetProbability=0.15, tol=0.01)\n",
    "results.vertices.show()"
   ]
  },
  {
   "cell_type": "code",
   "execution_count": null,
   "metadata": {},
   "outputs": [],
   "source": [
    "results.edges.show()"
   ]
  },
  {
   "cell_type": "code",
   "execution_count": null,
   "metadata": {},
   "outputs": [],
   "source": [
    "dir(g)"
   ]
  },
  {
   "cell_type": "markdown",
   "metadata": {},
   "source": [
    "# Положим реальный граф"
   ]
  },
  {
   "cell_type": "code",
   "execution_count": 53,
   "metadata": {},
   "outputs": [],
   "source": [
    "graphPath = \"/lectures/lecture04/trainGraph\"\n",
    "usersToPredictPath = \"/lectures/lecture04/prediction.csv\""
   ]
  },
  {
   "cell_type": "code",
   "execution_count": 54,
   "metadata": {},
   "outputs": [],
   "source": [
    "from pyspark.sql.types import *\n",
    "\n",
    "schema = StructType(fields=[\n",
    "    StructField(\"user\", IntegerType()),\n",
    "    StructField(\"friendsString\", StringType())\n",
    "])\n",
    "\n",
    "data = spark.read.format(\"csv\") \\\n",
    "        .schema(schema) \\\n",
    "        .option(\"delimiter\", \"\\t\") \\\n",
    "        .load(graphPath) "
   ]
  },
  {
   "cell_type": "code",
   "execution_count": 55,
   "metadata": {},
   "outputs": [],
   "source": [
    "from pyspark.sql.functions import udf\n",
    "from pyspark.sql.functions import col, explode, collect_list, sort_array, size, split\n",
    "\n",
    "\n",
    "def cutStartEndBrackets(s):\n",
    "    return s[2:-2]\n",
    "\n",
    "cutStartEndBracketsUDF = udf(cutStartEndBrackets, StringType())\n",
    "\n",
    "userFriend = \\\n",
    "    data.select(col(\"user\"), split(cutStartEndBracketsUDF(col(\"friendsString\")), \"\\),\\(\").alias(\"friendsMasks\"))\\\n",
    "    .withColumn(\"friendMask\", explode('friendsMasks'))\\\n",
    "    .withColumn(\"dst\", split(col(\"friendMask\"), \",\")[0])\\\n",
    "    .withColumn(\"src\", col(\"user\"))\\\n",
    "    .select(col(\"src\").cast(\"integer\"), col(\"dst\").cast(\"integer\"))\n",
    "\n",
    "userFriendSymmetric = \\\n",
    "    userFriend\\\n",
    "        .withColumn(\"tmp\", col(\"src\"))\\\n",
    "        .withColumn(\"src\", col(\"dst\"))\\\n",
    "        .withColumn(\"dst\", col(\"tmp\"))\\\n",
    "        .select(\"src\", \"dst\")\n",
    "        \n",
    "edges = userFriend.unionAll(userFriendSymmetric)\n",
    "\n",
    "vertices = edges.select(col(\"src\").alias(\"id\")).distinct()"
   ]
  },
  {
   "cell_type": "code",
   "execution_count": 56,
   "metadata": {},
   "outputs": [],
   "source": [
    "from graphframes import * \n",
    "\n",
    "g = GraphFrame(vertices, edges)"
   ]
  },
  {
   "cell_type": "code",
   "execution_count": 29,
   "metadata": {},
   "outputs": [
    {
     "data": {
      "text/plain": [
       "319719"
      ]
     },
     "execution_count": 29,
     "metadata": {},
     "output_type": "execute_result"
    }
   ],
   "source": [
    "g.inDegrees.filter(\"inDegree > 20\").count()"
   ]
  },
  {
   "cell_type": "code",
   "execution_count": 33,
   "metadata": {},
   "outputs": [],
   "source": [
    "spark.stop()"
   ]
  },
  {
   "cell_type": "code",
   "execution_count": null,
   "metadata": {},
   "outputs": [],
   "source": []
  }
 ],
 "metadata": {
  "kernelspec": {
   "display_name": "Python 3",
   "language": "python",
   "name": "python3"
  },
  "language_info": {
   "codemirror_mode": {
    "name": "ipython",
    "version": 3
   },
   "file_extension": ".py",
   "mimetype": "text/x-python",
   "name": "python",
   "nbconvert_exporter": "python",
   "pygments_lexer": "ipython3",
   "version": "3.6.5"
  }
 },
 "nbformat": 4,
 "nbformat_minor": 2
}
