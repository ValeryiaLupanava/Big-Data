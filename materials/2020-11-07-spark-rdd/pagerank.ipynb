{
 "cells": [
  {
   "cell_type": "markdown",
   "metadata": {},
   "source": [
    "# PageRank на Spark RDD"
   ]
  },
  {
   "cell_type": "markdown",
   "metadata": {},
   "source": [
    "### Шаг №1\n",
    "Создайте SparkContext"
   ]
  },
  {
   "cell_type": "code",
   "execution_count": 1,
   "metadata": {},
   "outputs": [],
   "source": [
    "import os\n",
    "import sys\n",
    "os.environ[\"PYSPARK_PYTHON\"]='/opt/anaconda/envs/bd9/bin/python'\n",
    "os.environ[\"SPARK_HOME\"]='/usr/hdp/current/spark2-client'\n",
    "os.environ[\"PYSPARK_SUBMIT_ARGS\"]='--num-executors 3 pyspark-shell'\n",
    "\n",
    "spark_home = os.environ.get('SPARK_HOME', None)\n",
    "\n",
    "sys.path.insert(0, os.path.join(spark_home, 'python'))\n",
    "sys.path.insert(0, os.path.join(spark_home, 'python/lib/py4j-0.10.7-src.zip'))"
   ]
  },
  {
   "cell_type": "code",
   "execution_count": 2,
   "metadata": {},
   "outputs": [],
   "source": [
    "from pyspark import SparkContext, SparkConf\n",
    "\n",
    "conf = SparkConf()\n",
    "conf.set(\"spark.app.name\", \"natalya.pritykovskaya Spark RDD Pagerank\") \n",
    "\n",
    "sc = SparkContext(conf=conf)"
   ]
  },
  {
   "cell_type": "markdown",
   "metadata": {},
   "source": [
    "### Шаг №2\n",
    "1. Прочитайте граф из файла `/lectures/lecture01/data/graph.tsv`\n",
    "2. Создайте RDD, в которой граф будет представлен парами вершин\n"
   ]
  },
  {
   "cell_type": "code",
   "execution_count": 3,
   "metadata": {},
   "outputs": [
    {
     "data": {
      "text/plain": [
       "[('A', 'B'),\n",
       " ('B', 'D'),\n",
       " ('A', 'C'),\n",
       " ('C', 'A'),\n",
       " ('C', 'B'),\n",
       " ('C', 'D'),\n",
       " ('D', 'C')]"
      ]
     },
     "execution_count": 3,
     "metadata": {},
     "output_type": "execute_result"
    }
   ],
   "source": [
    "raw_graph = sc.textFile(\"/lectures/lecture01/data/graph.tsv\")\n",
    "graph = raw_graph.map(lambda x: tuple(x.split(\"\\t\")))\\\n",
    "                 .distinct()\\\n",
    "                 .cache()\n",
    "graph.collect()"
   ]
  },
  {
   "cell_type": "markdown",
   "metadata": {},
   "source": [
    "### Шаг №3\n",
    "Создайте RDD с первоначальными pagerank всех уникальных вершин"
   ]
  },
  {
   "cell_type": "code",
   "execution_count": 4,
   "metadata": {},
   "outputs": [
    {
     "data": {
      "text/plain": [
       "[('C', 0.25), ('A', 0.25), ('B', 0.25), ('D', 0.25)]"
      ]
     },
     "execution_count": 4,
     "metadata": {},
     "output_type": "execute_result"
    }
   ],
   "source": [
    "num_vertices = graph.map(lambda x: x[0])\\\n",
    "                    .distinct()\\\n",
    "                    .count() \n",
    "\n",
    "ranks = graph.map(lambda x: x[0])\\\n",
    "             .distinct()\\\n",
    "             .map(lambda x: (x, 1 / num_vertices))\n",
    "ranks.collect()"
   ]
  },
  {
   "cell_type": "markdown",
   "metadata": {},
   "source": [
    "### Шаг №4\n",
    "Создайте RDD, которая берет RDD с вершинами, объединяет ее с RDD с pagerank. В результате должна получится PairRDD, где ключ - это уникальная вершина, а значение - это все вершины, на которые она ссылаются и ее текущий pagerank"
   ]
  },
  {
   "cell_type": "code",
   "execution_count": 5,
   "metadata": {},
   "outputs": [
    {
     "data": {
      "text/plain": [
       "[('A', (['B', 'C'], 0.25)),\n",
       " ('B', (['D'], 0.25)),\n",
       " ('C', (['A', 'B', 'D'], 0.25)),\n",
       " ('D', (['C'], 0.25))]"
      ]
     },
     "execution_count": 5,
     "metadata": {},
     "output_type": "execute_result"
    }
   ],
   "source": [
    "links = graph.groupByKey().mapValues(list).cache()\n",
    "\n",
    "contributions = links.join(ranks)\n",
    "contributions.collect()"
   ]
  },
  {
   "cell_type": "markdown",
   "metadata": {},
   "source": [
    "### Шаг №5\n",
    "Реализуйте функцию, которая рассчитывает pagerank для всех вершин, на которые ссылается данная вершина. Функция должна быть итератором, который возвращает вершину и ее pagerank"
   ]
  },
  {
   "cell_type": "code",
   "execution_count": 6,
   "metadata": {},
   "outputs": [],
   "source": [
    "def computeContribs(neighbours, pagerank):\n",
    "    num = len(neighbours)\n",
    "    \n",
    "    for n in neighbours:\n",
    "        yield (n, pagerank / num)"
   ]
  },
  {
   "cell_type": "markdown",
   "metadata": {},
   "source": [
    "### Шаг №6\n",
    "Обновите RDD с pagerank значениями, посчитанными с помощью функции из предыдущего шага"
   ]
  },
  {
   "cell_type": "code",
   "execution_count": 7,
   "metadata": {},
   "outputs": [
    {
     "data": {
      "text/plain": [
       "[('B', 0.20833333333333331),\n",
       " ('A', 0.08333333333333333),\n",
       " ('C', 0.375),\n",
       " ('D', 0.3333333333333333)]"
      ]
     },
     "execution_count": 7,
     "metadata": {},
     "output_type": "execute_result"
    }
   ],
   "source": [
    "ranks = contributions.flatMap(lambda x: computeContribs(x[1][0], x[1][1]))\\\n",
    "                     .reduceByKey(lambda x, y: x + y)\n",
    "\n",
    "ranks.collect()"
   ]
  },
  {
   "cell_type": "markdown",
   "metadata": {},
   "source": [
    "### Шаг №7\n",
    "Напишите цикл, который проводит несколько итераций вычисления pagerank и на каждой печатает номер итерации и текущие pagerank"
   ]
  },
  {
   "cell_type": "code",
   "execution_count": 8,
   "metadata": {},
   "outputs": [
    {
     "name": "stdout",
     "output_type": "stream",
     "text": [
      "Iteration 0: current pagerank [('A', 0.08333333333333333), ('B', 0.20833333333333331), ('C', 0.375), ('D', 0.3333333333333333)]\n",
      "Iteration 1: current pagerank [('A', 0.125), ('B', 0.16666666666666666), ('C', 0.375), ('D', 0.3333333333333333)]\n",
      "Iteration 2: current pagerank [('A', 0.125), ('B', 0.1875), ('C', 0.3958333333333333), ('D', 0.29166666666666663)]\n",
      "Iteration 3: current pagerank [('A', 0.13194444444444445), ('B', 0.19444444444444445), ('C', 0.35416666666666663), ('D', 0.3194444444444444)]\n",
      "Iteration 4: current pagerank [('A', 0.11805555555555554), ('B', 0.18402777777777776), ('C', 0.38541666666666663), ('D', 0.3125)]\n",
      "Iteration 5: current pagerank [('A', 0.1284722222222222), ('B', 0.18749999999999997), ('C', 0.3715277777777778), ('D', 0.3125)]\n",
      "Iteration 6: current pagerank [('A', 0.1238425925925926), ('B', 0.18807870370370372), ('C', 0.3767361111111111), ('D', 0.31134259259259256)]\n",
      "Iteration 7: current pagerank [('A', 0.1255787037037037), ('B', 0.1875), ('C', 0.37326388888888884), ('D', 0.31365740740740744)]\n",
      "Iteration 8: current pagerank [('A', 0.12442129629629628), ('B', 0.18721064814814814), ('C', 0.3764467592592593), ('D', 0.3119212962962963)]\n",
      "Iteration 9: current pagerank [('A', 0.12548225308641978), ('B', 0.18769290123456792), ('C', 0.3741319444444444), ('D', 0.31269290123456794)]\n"
     ]
    }
   ],
   "source": [
    "iterations = 10\n",
    "raw_graph = sc.textFile(\"/lectures/lecture01/data/graph.tsv\")\n",
    "graph = raw_graph.map(lambda x: tuple(x.split(\"\\t\")))\\\n",
    "                 .distinct()\\\n",
    "                 .cache()\n",
    "num_vertices = graph.map(lambda x: x[0])\\\n",
    "                    .distinct()\\\n",
    "                    .count() \n",
    "ranks = graph.map(lambda x: x[0])\\\n",
    "             .distinct()\\\n",
    "             .map(lambda x: (x, 1 / num_vertices))\n",
    "\n",
    "for i in range(iterations):\n",
    "    links = graph.groupByKey().mapValues(list).cache()\n",
    "    contributions = links.join(ranks)\n",
    "    ranks = contributions.flatMap(lambda x: computeContribs(x[1][0], x[1][1]))\\\n",
    "                         .reduceByKey(lambda x, y: x + y)\n",
    "    print(\"Iteration {0}: current pagerank {1}\".format(i, sorted(ranks.collect(), key=lambda x: x[0])))"
   ]
  },
  {
   "cell_type": "markdown",
   "metadata": {},
   "source": [
    "### Шаг №8\n",
    "Не забудьте остановить SparkContext"
   ]
  },
  {
   "cell_type": "code",
   "execution_count": null,
   "metadata": {},
   "outputs": [],
   "source": [
    "sc.stop()"
   ]
  },
  {
   "cell_type": "code",
   "execution_count": null,
   "metadata": {},
   "outputs": [],
   "source": []
  }
 ],
 "metadata": {
  "kernelspec": {
   "display_name": "Python 3",
   "language": "python",
   "name": "python3"
  },
  "language_info": {
   "codemirror_mode": {
    "name": "ipython",
    "version": 3
   },
   "file_extension": ".py",
   "mimetype": "text/x-python",
   "name": "python",
   "nbconvert_exporter": "python",
   "pygments_lexer": "ipython3",
   "version": "3.6.5"
  }
 },
 "nbformat": 4,
 "nbformat_minor": 2
}
