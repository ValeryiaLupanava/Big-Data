{
 "cells": [
  {
   "cell_type": "markdown",
   "metadata": {},
   "source": [
    "# Пример использования: генерация имен"
   ]
  },
  {
   "cell_type": "code",
   "execution_count": 1,
   "metadata": {
    "ExecuteTime": {
     "end_time": "2018-08-13T20:26:42.696201Z",
     "start_time": "2018-08-13T20:26:38.104103Z"
    }
   },
   "outputs": [
    {
     "name": "stderr",
     "output_type": "stream",
     "text": [
      "Using TensorFlow backend.\n"
     ]
    }
   ],
   "source": [
    "import warnings\n",
    "warnings.filterwarnings('ignore')\n",
    "\n",
    "import tensorflow as tf\n",
    "import numpy as np\n",
    "import matplotlib.pyplot as plt\n",
    "%matplotlib inline\n",
    "import os\n",
    "import sys\n",
    "from transliterate import translit\n",
    "from keras import backend as K"
   ]
  },
  {
   "cell_type": "code",
   "execution_count": 2,
   "metadata": {},
   "outputs": [],
   "source": [
    "def reset_tf_session():\n",
    "    curr_session = tf.get_default_session()\n",
    "    # close current session\n",
    "    if curr_session is not None:\n",
    "        curr_session.close()\n",
    "    # reset graph\n",
    "    K.clear_session()\n",
    "    # create new session\n",
    "    config = tf.ConfigProto()\n",
    "    config.gpu_options.allow_growth = True\n",
    "    s = tf.InteractiveSession(config=config)\n",
    "    K.set_session(s)\n",
    "    return s"
   ]
  },
  {
   "cell_type": "markdown",
   "metadata": {},
   "source": [
    "## Загрузка датасета\n",
    "\n",
    "Датасет содержит около 8 000 имен"
   ]
  },
  {
   "cell_type": "code",
   "execution_count": 3,
   "metadata": {},
   "outputs": [],
   "source": [
    "start_token = \" \"  # so that the network knows that we're generating a first token\n",
    "\n",
    "# this is the token for padding,\n",
    "# we will add fake pad token at the end of names \n",
    "# to make them of equal size for further batching\n",
    "pad_token = \"#\"\n",
    "\n",
    "with open(\"./data/lecture3/names\") as f:\n",
    "    names = f.read()[:-1].split('\\n')\n",
    "    names = [start_token + name for name in names]"
   ]
  },
  {
   "cell_type": "code",
   "execution_count": 4,
   "metadata": {
    "ExecuteTime": {
     "end_time": "2018-08-13T20:26:42.707885Z",
     "start_time": "2018-08-13T20:26:42.703302Z"
    }
   },
   "outputs": [
    {
     "name": "stdout",
     "output_type": "stream",
     "text": [
      "number of samples: 7944\n",
      "       Abagael\n",
      "       Benedetta\n",
      "       Claresta\n",
      "       Eilis\n",
      "       Glory\n",
      "       Jonell\n",
      "       Liliane\n",
      "       Melody\n",
      "       Prissie\n",
      "       Stacy\n",
      "       Geeta\n",
      "       Clinten\n",
      "       Giovanne\n",
      "       Lawerence\n",
      "       Piggy\n",
      "       Tann\n"
     ]
    }
   ],
   "source": [
    "print('number of samples:', len(names))\n",
    "for x in names[::500]:\n",
    "    print('      ' + x)"
   ]
  },
  {
   "cell_type": "code",
   "execution_count": 5,
   "metadata": {},
   "outputs": [
    {
     "data": {
      "text/plain": [
       "True"
      ]
     },
     "execution_count": 5,
     "metadata": {},
     "output_type": "execute_result"
    }
   ],
   "source": [
    "' Mark' in names"
   ]
  },
  {
   "cell_type": "code",
   "execution_count": 6,
   "metadata": {
    "ExecuteTime": {
     "end_time": "2018-08-13T20:26:42.857411Z",
     "start_time": "2018-08-13T20:26:42.709371Z"
    }
   },
   "outputs": [
    {
     "name": "stdout",
     "output_type": "stream",
     "text": [
      "max length: 16\n"
     ]
    },
    {
     "data": {
      "image/png": "[encoded data removed]",
      "text/plain": [
       "<Figure size 432x288 with 1 Axes>"
      ]
     },
     "metadata": {
      "needs_background": "light"
     },
     "output_type": "display_data"
    }
   ],
   "source": [
    "MAX_LENGTH = max(map(len, names))\n",
    "print(\"max length:\", MAX_LENGTH)\n",
    "\n",
    "plt.title('Sequence length distribution')\n",
    "plt.hist(list(map(len, names)), bins=25);"
   ]
  },
  {
   "cell_type": "markdown",
   "metadata": {},
   "source": [
    "# Преобразуем имена в последовательность чисел\n",
    "\n",
    "Для этого создадим словарь, который каждому уникальному символу (в нашем случае - букве латинского алфавита) ставит в соответствие число"
   ]
  },
  {
   "cell_type": "code",
   "execution_count": 7,
   "metadata": {
    "ExecuteTime": {
     "end_time": "2018-08-13T20:26:42.864592Z",
     "start_time": "2018-08-13T20:26:42.858725Z"
    }
   },
   "outputs": [
    {
     "name": "stdout",
     "output_type": "stream",
     "text": [
      "n_tokens: 56\n"
     ]
    }
   ],
   "source": [
    "tokens = list(set([t for name in names for t in name]))\n",
    "tokens.append(pad_token)\n",
    "\n",
    "tokens = sorted(tokens)\n",
    "\n",
    "n_tokens = len(tokens)\n",
    "print ('n_tokens:', n_tokens)"
   ]
  },
  {
   "cell_type": "code",
   "execution_count": 8,
   "metadata": {
    "ExecuteTime": {
     "end_time": "2018-08-13T20:26:42.870330Z",
     "start_time": "2018-08-13T20:26:42.866135Z"
    }
   },
   "outputs": [],
   "source": [
    "token_to_id = {token: i_token for i_token, token in enumerate(tokens)}"
   ]
  },
  {
   "cell_type": "code",
   "execution_count": 9,
   "metadata": {},
   "outputs": [
    {
     "data": {
      "text/plain": [
       "{' ': 0,\n",
       " '#': 1,\n",
       " \"'\": 2,\n",
       " '-': 3,\n",
       " 'A': 4,\n",
       " 'B': 5,\n",
       " 'C': 6,\n",
       " 'D': 7,\n",
       " 'E': 8,\n",
       " 'F': 9,\n",
       " 'G': 10,\n",
       " 'H': 11,\n",
       " 'I': 12,\n",
       " 'J': 13,\n",
       " 'K': 14,\n",
       " 'L': 15,\n",
       " 'M': 16,\n",
       " 'N': 17,\n",
       " 'O': 18,\n",
       " 'P': 19,\n",
       " 'Q': 20,\n",
       " 'R': 21,\n",
       " 'S': 22,\n",
       " 'T': 23,\n",
       " 'U': 24,\n",
       " 'V': 25,\n",
       " 'W': 26,\n",
       " 'X': 27,\n",
       " 'Y': 28,\n",
       " 'Z': 29,\n",
       " 'a': 30,\n",
       " 'b': 31,\n",
       " 'c': 32,\n",
       " 'd': 33,\n",
       " 'e': 34,\n",
       " 'f': 35,\n",
       " 'g': 36,\n",
       " 'h': 37,\n",
       " 'i': 38,\n",
       " 'j': 39,\n",
       " 'k': 40,\n",
       " 'l': 41,\n",
       " 'm': 42,\n",
       " 'n': 43,\n",
       " 'o': 44,\n",
       " 'p': 45,\n",
       " 'q': 46,\n",
       " 'r': 47,\n",
       " 's': 48,\n",
       " 't': 49,\n",
       " 'u': 50,\n",
       " 'v': 51,\n",
       " 'w': 52,\n",
       " 'x': 53,\n",
       " 'y': 54,\n",
       " 'z': 55}"
      ]
     },
     "execution_count": 9,
     "metadata": {},
     "output_type": "execute_result"
    }
   ],
   "source": [
    "token_to_id"
   ]
  },
  {
   "cell_type": "code",
   "execution_count": 10,
   "metadata": {
    "ExecuteTime": {
     "end_time": "2018-08-13T20:26:42.875943Z",
     "start_time": "2018-08-13T20:26:42.871834Z"
    }
   },
   "outputs": [],
   "source": [
    "def to_matrix(names, max_len=None, pad=token_to_id[pad_token], dtype=np.int32):\n",
    "    \"\"\"Casts a list of names into rnn-digestable padded matrix\"\"\"\n",
    "    \n",
    "    max_len = max_len or max(map(len, names))\n",
    "    names_ix = np.zeros([len(names), max_len], dtype) + pad\n",
    "\n",
    "    for i in range(len(names)):\n",
    "        name_ix = list(map(token_to_id.get, names[i]))\n",
    "        names_ix[i, :len(name_ix)] = name_ix\n",
    "\n",
    "    return names_ix"
   ]
  },
  {
   "cell_type": "code",
   "execution_count": 11,
   "metadata": {
    "ExecuteTime": {
     "end_time": "2018-08-13T20:26:42.883107Z",
     "start_time": "2018-08-13T20:26:42.877186Z"
    }
   },
   "outputs": [
    {
     "name": "stdout",
     "output_type": "stream",
     "text": [
      "Имена:\n",
      " Abagael\n",
      " Glory\n",
      " Prissie\n",
      " Giovanne\n",
      "\n",
      "Код:\n",
      "[[ 0  4 31 30 36 30 34 41  1]\n",
      " [ 0 10 41 44 47 54  1  1  1]\n",
      " [ 0 19 47 38 48 48 38 34  1]\n",
      " [ 0 10 38 44 51 30 43 43 34]]\n"
     ]
    }
   ],
   "source": [
    "print('Имена:')\n",
    "print('\\n'.join(names[::2000]))\n",
    "print('\\nКод:')\n",
    "print(to_matrix(names[::2000]))"
   ]
  },
  {
   "cell_type": "markdown",
   "metadata": {},
   "source": [
    "# Определяем рекуррентную нейронную сеть (RNN)\n",
    "\n",
    "Мы можем представить рекуррентную нейронную сеть как последовательное применение Dense слоя к вектору $ x_t $ и предыдущему скрытому состоянию $ h_t $.\n",
    "<img src=\"./img/rnn.png\" width=600>\n",
    "\n",
    "При этом нам нужны:\n",
    "* Embedding layer, который представляет $x_t$ в виде некоторого вектора.\n",
    "* Output слой, который предсказывает вероятность следующего символа, при условии, что мы уже вычислили $h_{t+1}$"
   ]
  },
  {
   "cell_type": "code",
   "execution_count": 12,
   "metadata": {
    "ExecuteTime": {
     "end_time": "2018-08-13T20:26:44.039419Z",
     "start_time": "2018-08-13T20:26:42.884581Z"
    }
   },
   "outputs": [],
   "source": [
    "s = reset_tf_session()"
   ]
  },
  {
   "cell_type": "code",
   "execution_count": 13,
   "metadata": {
    "ExecuteTime": {
     "end_time": "2018-08-13T20:26:44.044903Z",
     "start_time": "2018-08-13T20:26:44.041084Z"
    }
   },
   "outputs": [],
   "source": [
    "import keras\n",
    "from keras.layers import concatenate, Dense, Embedding\n",
    "\n",
    "rnn_num_units = 64  # size of hidden state\n",
    "embedding_size = 16  # for characters\n",
    "\n",
    "# Let's create layers for our recurrent network\n",
    "\n",
    "# an embedding layer that converts character ids into embeddings\n",
    "embed_x = Embedding(n_tokens, embedding_size)\n",
    "\n",
    "# a dense layer that maps input and previous state to new hidden state, [x_t,h_t]->h_t+1\n",
    "get_h_next = Dense(units=rnn_num_units, activation='tanh')\n",
    "\n",
    "# a dense layer that maps current hidden state to probabilities of characters [h_t+1]->P(x_t+1|h_t+1)\n",
    "get_probas = Dense(units=n_tokens, activation='softmax')"
   ]
  },
  {
   "cell_type": "markdown",
   "metadata": {},
   "source": [
    "Будем генерировать имя, начиная со `start_token` (в нашем случае - это `' '`):\n",
    "\n",
    "<img src=\"./img/char-nn.png\" width=600>"
   ]
  },
  {
   "cell_type": "code",
   "execution_count": 14,
   "metadata": {
    "ExecuteTime": {
     "end_time": "2018-08-13T20:26:44.053212Z",
     "start_time": "2018-08-13T20:26:44.048389Z"
    }
   },
   "outputs": [],
   "source": [
    "def rnn_one_step(x_t, h_t):\n",
    "    \"\"\"\n",
    "    Recurrent neural network step that produces \n",
    "    probabilities for next token x_t+1 and next state h_t+1\n",
    "    given current input x_t and previous state h_t.\n",
    "    We'll call this method repeatedly to produce the whole sequence.\n",
    "    \n",
    "    You're supposed to \"apply\" above layers to produce new tensors.\n",
    "    Follow inline instructions to complete the function.\n",
    "    \"\"\"\n",
    "    # convert character id into embedding -\n",
    "    # будем предсказывать сразу для всего батча одновременно - \n",
    "    # а это значит, что берем столбец матрицы с закодированными словами, \n",
    "    # а потом делаем reshape, чтобы он все-таки столбцом оставался\n",
    "    # shape = (batch, 1, embedding_size) - берем нулевую вторую размерность - \n",
    "    # получаем: shape = (batch, embedding_size)\n",
    "    x_t_emb = embed_x(tf.reshape(x_t, [-1, 1]))[:,0,:]\n",
    "    \n",
    "    # concatenate x_t embedding and previous h_t state\n",
    "    # h_t должно иметь ровно тот же shape = (batch, rnn_num_units)\n",
    "    # тогда x_and_h будет иметь\n",
    "    # shape = (batch, embedding_size + rnn_num_units)\n",
    "    x_and_h = concatenate([x_t_emb, h_t])\n",
    "    \n",
    "    # compute next state given x_and_h\n",
    "    h_next = get_h_next(x_and_h)\n",
    "    \n",
    "    # get probabilities for language model P(x_next|h_next)\n",
    "    output_probas = get_probas(h_next)\n",
    "    \n",
    "    return output_probas, h_next"
   ]
  },
  {
   "cell_type": "markdown",
   "metadata": {},
   "source": [
    "# RNN: loop\n",
    "\n",
    "Чтобы сгенерировать имена, применим `rnn_one_step` несколько раз: при этом имена не могут иметь длину больше $16$\n"
   ]
  },
  {
   "cell_type": "code",
   "execution_count": 15,
   "metadata": {
    "ExecuteTime": {
     "end_time": "2018-08-13T20:26:44.342948Z",
     "start_time": "2018-08-13T20:26:44.056136Z"
    }
   },
   "outputs": [
    {
     "name": "stdout",
     "output_type": "stream",
     "text": [
      "WARNING:tensorflow:From /Users/user/anaconda3/lib/python3.7/site-packages/tensorflow/python/framework/op_def_library.py:263: colocate_with (from tensorflow.python.framework.ops) is deprecated and will be removed in a future version.\n",
      "Instructions for updating:\n",
      "Colocations handled automatically by placer.\n"
     ]
    }
   ],
   "source": [
    "input_sequence = tf.placeholder(tf.int32, (None, MAX_LENGTH))  # batch of token ids\n",
    "batch_size = tf.shape(input_sequence)[0]\n",
    "\n",
    "predicted_probas = []\n",
    "h_prev = tf.zeros([batch_size, rnn_num_units])  # initial hidden state\n",
    "\n",
    "for t in range(MAX_LENGTH):\n",
    "    x_t = input_sequence[:, t]  # column t\n",
    "    probas_next, h_next = rnn_one_step(x_t, h_prev)\n",
    "    \n",
    "    h_prev = h_next\n",
    "    predicted_probas.append(probas_next)\n",
    "    \n",
    "# combine predicted_probas into [batch, time, n_tokens] tensor\n",
    "predicted_probas = tf.transpose(tf.stack(predicted_probas), [1, 0, 2])\n",
    "\n",
    "# next to last token prediction is not needed\n",
    "predicted_probas = predicted_probas[:, :-1, :]"
   ]
  },
  {
   "cell_type": "markdown",
   "metadata": {},
   "source": [
    "## Попробуем сгенерировать что-то необученной нейросетью"
   ]
  },
  {
   "cell_type": "code",
   "execution_count": 16,
   "metadata": {},
   "outputs": [],
   "source": [
    "s.run(tf.global_variables_initializer())"
   ]
  },
  {
   "cell_type": "code",
   "execution_count": 17,
   "metadata": {},
   "outputs": [],
   "source": [
    "def generate_sample(seed_phrase=start_token, max_length=MAX_LENGTH):\n",
    "    '''\n",
    "    This function generates text given a `seed_phrase` as a seed.\n",
    "    Parameter `max_length` is used to set the number of characters in prediction.\n",
    "    '''\n",
    "    x_sequence = [token_to_id[token] for token in seed_phrase]\n",
    "    s.run(tf.assign(h_t, h_t.initial_value))\n",
    "    \n",
    "    # feed the seed phrase, if any\n",
    "    for ix in x_sequence[:-1]:\n",
    "         s.run(tf.assign(h_t, next_h), {x_t: [ix]})\n",
    "    \n",
    "    # start generating\n",
    "    for _ in range(max_length-len(seed_phrase)):\n",
    "        x_probs,_ = s.run([next_probs, tf.assign(h_t, next_h)], {x_t: [x_sequence[-1]]})\n",
    "        x_sequence.append(np.random.choice(n_tokens, p=x_probs[0]))\n",
    "        \n",
    "    return ''.join([tokens[ix] for ix in x_sequence if tokens[ix] != pad_token])\n",
    "    # return x_sequence"
   ]
  },
  {
   "cell_type": "code",
   "execution_count": 18,
   "metadata": {},
   "outputs": [],
   "source": [
    "x_t = tf.placeholder(tf.int32, (1,))\n",
    "h_t = tf.Variable(np.zeros([1, rnn_num_units], np.float32))  # we will update hidden state in this variable\n",
    "\n",
    "# For sampling we need to define `rnn_one_step` tensors only once in our graph.\n",
    "next_probs, next_h = rnn_one_step(x_t, h_t)"
   ]
  },
  {
   "cell_type": "code",
   "execution_count": 19,
   "metadata": {},
   "outputs": [
    {
     "name": "stdout",
     "output_type": "stream",
     "text": [
      " LseFqTLlTjUGuG\n",
      " LhnExgYtbcv'iH-\n",
      " ketQIGOBsveeKVr\n",
      " nJCaPXWqZpmRtu\n",
      " wGZMYQbcLtBmQv\n",
      " XpzaoBYszCEt-Nt\n",
      " GBCBcJABytsAHzo\n",
      " VW'wvhysPuBWQza\n",
      " ZHkKrzzsRG Oumd\n",
      " aghlmHAeXbmrmek\n",
      " HPrqUwJRLjerXFe\n",
      " vWylpmmWkoAxNNI\n",
      " ydvKiWUHpQvE-Un\n",
      " inkjpgkdiC-yQP\n",
      " vUFZVSwWaRFNo-Q\n",
      " UsY'RamlPWDbMJ-\n",
      " VFvBkzAexEpDgbt\n",
      " ROBZPRPfSOxDRGh\n",
      " xxRwEpPQIGCfqY\n",
      " QzgywhKgMnDlZTJ\n",
      " tfCI'zXdoeuGkY\n",
      " AsH-lbCUOGoeeW\n",
      " cPRdmAjN-MUwxwt\n",
      " axYoeIN FeDoFF'\n",
      " ucmblSwz'lcpxTC\n"
     ]
    }
   ],
   "source": [
    "# without prefix\n",
    "for _ in range(25):\n",
    "    print(generate_sample())"
   ]
  },
  {
   "cell_type": "code",
   "execution_count": 20,
   "metadata": {},
   "outputs": [
    {
     "name": "stdout",
     "output_type": "stream",
     "text": [
      " Kpo-gDIA-HOhhF\n",
      " Ke'gZvYklMBsUX\n",
      " KgmnZu'NTqhyru\n",
      " KtovSzZEfTL 'AN\n",
      " KwdJdbgxkMRen'G\n",
      " KGhkQyuyuZIzSKG\n",
      " KTMlSdp-OjADZj\n",
      " KDqURngoCN'GDPz\n",
      " KpYqqBmjuRyvbqP\n",
      " KAlqMebiEBalUJY\n"
     ]
    }
   ],
   "source": [
    "# with prefix conditioning\n",
    "for _ in range(10):\n",
    "    print(generate_sample(' K'))"
   ]
  },
  {
   "cell_type": "markdown",
   "metadata": {},
   "source": [
    "# RNN: loss"
   ]
  },
  {
   "cell_type": "code",
   "execution_count": 21,
   "metadata": {
    "ExecuteTime": {
     "end_time": "2018-08-13T20:26:44.354310Z",
     "start_time": "2018-08-13T20:26:44.344648Z"
    }
   },
   "outputs": [],
   "source": [
    "# flatten predictions to [batch*time, n_tokens]\n",
    "predictions_matrix = tf.reshape(predicted_probas, [-1, n_tokens])\n",
    "\n",
    "# flatten answers (next tokens) and one-hot encode them\n",
    "answers_matrix = tf.one_hot(tf.reshape(input_sequence[:, 1:], [-1]), n_tokens)"
   ]
  },
  {
   "cell_type": "code",
   "execution_count": 22,
   "metadata": {
    "ExecuteTime": {
     "end_time": "2018-08-13T20:26:45.076642Z",
     "start_time": "2018-08-13T20:26:44.355594Z"
    }
   },
   "outputs": [
    {
     "name": "stdout",
     "output_type": "stream",
     "text": [
      "WARNING:tensorflow:From /Users/user/anaconda3/lib/python3.7/site-packages/tensorflow/python/ops/math_ops.py:3066: to_int32 (from tensorflow.python.ops.math_ops) is deprecated and will be removed in a future version.\n",
      "Instructions for updating:\n",
      "Use tf.cast instead.\n"
     ]
    }
   ],
   "source": [
    "loss_vector = tf.keras.losses.categorical_crossentropy(y_true=answers_matrix, y_pred=predictions_matrix)\n",
    "loss = tf.reduce_mean(loss_vector)\n",
    "\n",
    "optimize = tf.train.AdamOptimizer().minimize(loss)"
   ]
  },
  {
   "cell_type": "markdown",
   "metadata": {},
   "source": [
    "# RNN: training"
   ]
  },
  {
   "cell_type": "code",
   "execution_count": 23,
   "metadata": {
    "ExecuteTime": {
     "end_time": "2018-08-13T20:26:55.322187Z",
     "start_time": "2018-08-13T20:26:45.078296Z"
    }
   },
   "outputs": [
    {
     "data": {
      "image/png": "[encoded data removed]",
      "text/plain": [
       "<Figure size 432x288 with 1 Axes>"
      ]
     },
     "metadata": {
      "needs_background": "light"
     },
     "output_type": "display_data"
    }
   ],
   "source": [
    "from IPython.display import clear_output\n",
    "from random import sample\n",
    "\n",
    "s.run(tf.global_variables_initializer())\n",
    "\n",
    "batch_size = 32\n",
    "history = []\n",
    "\n",
    "for i in range(1000):\n",
    "    batch = to_matrix(sample(names, batch_size), max_len=MAX_LENGTH)\n",
    "    loss_i, _ = s.run([loss, optimize], {input_sequence: batch})\n",
    "    \n",
    "    history.append(loss_i)\n",
    "    \n",
    "    if (i + 1) % 100 == 0:\n",
    "        clear_output(True)\n",
    "        plt.plot(history, label='loss')\n",
    "        plt.legend()\n",
    "        plt.show()"
   ]
  },
  {
   "cell_type": "markdown",
   "metadata": {},
   "source": [
    "# RNN: sampling\n",
    "\n",
    "Теперь сгенерируем имена обученной нейросеткой"
   ]
  },
  {
   "cell_type": "code",
   "execution_count": 24,
   "metadata": {
    "ExecuteTime": {
     "end_time": "2018-08-13T20:26:58.458115Z",
     "start_time": "2018-08-13T20:26:55.347900Z"
    }
   },
   "outputs": [
    {
     "name": "stdout",
     "output_type": "stream",
     "text": [
      " Buonthedann\n",
      " Teeranse\n",
      " Aonray\n",
      " Rifnliri\n",
      " Sriresa\n",
      " Regalia\n",
      " Honda\n",
      " Efinn\n",
      " Moirhy\n",
      " Seri\n",
      " Sduafcis\n",
      " Budjere\n",
      " Sotkiy\n",
      " Lhini\n",
      " Lona\n",
      " Tys\n",
      " Fssi\n",
      " Bnancol\n",
      " Wosslie\n",
      " Degma\n",
      " Beadong\n",
      " Monhtud\n",
      " Damon\n",
      " Gegne\n",
      " Cuzbieg\n"
     ]
    }
   ],
   "source": [
    "# without prefix\n",
    "for _ in range(25):\n",
    "    print(generate_sample())"
   ]
  },
  {
   "cell_type": "code",
   "execution_count": 25,
   "metadata": {
    "scrolled": true
   },
   "outputs": [
    {
     "name": "stdout",
     "output_type": "stream",
     "text": [
      " Deyna\n",
      "False\n",
      "\n",
      "\n",
      " Jhadmaedl\n",
      "False\n",
      "\n",
      "\n",
      " Sinlitota\n",
      "False\n",
      "\n",
      "\n",
      " Ralesa\n",
      "False\n",
      "\n",
      "\n",
      " Maener\n",
      "False\n",
      "\n",
      "\n",
      " Rhiry\n",
      "False\n",
      "\n",
      "\n",
      " Garlhin\n",
      "False\n",
      "\n",
      "\n",
      " Risralan\n",
      "False\n",
      "\n",
      "\n",
      " Aennu\n",
      "False\n",
      "\n",
      "\n",
      " Marhien\n",
      "False\n",
      "\n",
      "\n",
      " Jeunt\n",
      "False\n",
      "\n",
      "\n",
      " Tenlhl\n",
      "False\n",
      "\n",
      "\n",
      " Dosta\n",
      "False\n",
      "\n",
      "\n",
      " Mayt\n",
      "False\n",
      "\n",
      "\n",
      " Yangeisa\n",
      "False\n",
      "\n",
      "\n",
      " Miney\n",
      "False\n",
      "\n",
      "\n",
      " Asa\n",
      "False\n",
      "\n",
      "\n",
      " Zenhan\n",
      "False\n",
      "\n",
      "\n",
      " Montinenre\n",
      "False\n",
      "\n",
      "\n",
      " Loina\n",
      "False\n",
      "\n",
      "\n",
      " Grthrecy\n",
      "False\n",
      "\n",
      "\n",
      " Erdinisth\n",
      "False\n",
      "\n",
      "\n",
      " Sherrarau\n",
      "False\n",
      "\n",
      "\n",
      " Suukan\n",
      "False\n",
      "\n",
      "\n",
      " Ennie\n",
      "False\n",
      "\n",
      "\n"
     ]
    }
   ],
   "source": [
    "# without prefix\n",
    "for _ in range(25):\n",
    "    A = generate_sample()\n",
    "    print(A)\n",
    "    print(A in names)\n",
    "    print('\\n')"
   ]
  },
  {
   "cell_type": "code",
   "execution_count": 26,
   "metadata": {
    "ExecuteTime": {
     "end_time": "2018-08-13T20:27:01.986726Z",
     "start_time": "2018-08-13T20:26:58.459810Z"
    }
   },
   "outputs": [
    {
     "name": "stdout",
     "output_type": "stream",
     "text": [
      " Denisleale\n",
      " Denishi\n",
      " Denishi\n",
      " Denisdy\n",
      " Denis\n",
      " Denisa\n",
      " Denis\n",
      " DenisanA\n",
      " Denise\n",
      " Denisdha\n"
     ]
    }
   ],
   "source": [
    "# with prefix conditioning\n",
    "for _ in range(10):\n",
    "    print(generate_sample(' Denis'))"
   ]
  },
  {
   "cell_type": "code",
   "execution_count": null,
   "metadata": {},
   "outputs": [],
   "source": []
  }
 ],
 "metadata": {
  "kernelspec": {
   "display_name": "Python 3",
   "language": "python",
   "name": "python3"
  },
  "language_info": {
   "codemirror_mode": {
    "name": "ipython",
    "version": 3
   },
   "file_extension": ".py",
   "mimetype": "text/x-python",
   "name": "python",
   "nbconvert_exporter": "python",
   "pygments_lexer": "ipython3",
   "version": "3.7.2"
  }
 },
 "nbformat": 4,
 "nbformat_minor": 1
}
