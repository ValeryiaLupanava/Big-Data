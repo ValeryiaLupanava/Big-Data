{
 "cells": [
  {
   "cell_type": "markdown",
   "metadata": {
    "collapsed": true
   },
   "source": [
    "<center>\n",
    "\n",
    "<table>\n",
    "<tr><td>\n",
    "<img src='./img/optimize.jpg' width='200'>\n",
    "</td><td>\n",
    "<img src='./img/sber.jpg' width='400'>\n",
    "</td><td>\n",
    "<img src='./img/optimize.jpg' width='200'>\n",
    "</td></tr>\n",
    "</table>\n",
    "\n",
    "</center>\n",
    "\n",
    "\n",
    "**Авторы материала:** Денис Димитров, Алексей Рябых. Материал можно использовать в любых целях (редактировать, поправлять и брать за основу), но с обязательным упоминанием авторов материала."
   ]
  },
  {
   "cell_type": "markdown",
   "metadata": {},
   "source": [
    "# <center>Часть 4. Оптимизация инкассаторских поездок</center>"
   ]
  },
  {
   "cell_type": "markdown",
   "metadata": {},
   "source": [
    "# План:\n",
    "\n",
    "1. О задаче оптимизации\n",
    "    - Методы оптимизации\n",
    "    - Методы оптимизации (когда множество состояний дискретно): алгоритм имитации отжига, генетический алгоритм\n",
    "    - Применим к нашей задаче\n",
    "2. Элементы внутридневной логики + риск-параметры: что можно делать"
   ]
  },
  {
   "cell_type": "markdown",
   "metadata": {},
   "source": [
    "## 1. О задаче оптимизации"
   ]
  },
  {
   "cell_type": "code",
   "execution_count": 1,
   "metadata": {},
   "outputs": [],
   "source": [
    "import numpy as np\n",
    "#np.random.seed(10)"
   ]
  },
  {
   "cell_type": "code",
   "execution_count": 2,
   "metadata": {},
   "outputs": [],
   "source": [
    "import numpy as np\n",
    "import pandas as pd\n",
    "import datetime\n",
    "import sys\n",
    "import random\n",
    "import math\n",
    "from copy import deepcopy\n",
    "import OptimizationPack\n",
    "from OptimizationPack import CashCenter, Optimizer\n",
    "import matplotlib.pyplot as plt\n",
    "\n",
    "pd.set_option('display.max_rows', 2400)\n",
    "%matplotlib inline"
   ]
  },
  {
   "cell_type": "code",
   "execution_count": 3,
   "metadata": {},
   "outputs": [],
   "source": [
    "import warnings\n",
    "warnings.filterwarnings('ignore')"
   ]
  },
  {
   "cell_type": "code",
   "execution_count": 4,
   "metadata": {},
   "outputs": [],
   "source": [
    "# если нужно перезагрузить модуль оптимизации после правок, не роняя ядро\n",
    "import imp\n",
    "imp.reload(OptimizationPack)\n",
    "from OptimizationPack import CashCenter, Optimizer"
   ]
  },
  {
   "cell_type": "code",
   "execution_count": 5,
   "metadata": {},
   "outputs": [],
   "source": [
    "# from IPython.display  import HTML\n",
    "\n",
    "# HTML('''<script>\n",
    "# code_show=true;\n",
    "# function code_toggle() {\n",
    "#     if (code_show){\n",
    "#     $('div.input').hide();\n",
    "#     } else {\n",
    "#     $ ('div.input').show();\n",
    "#     }\n",
    "#     code_show = !code_show\n",
    "#     }\n",
    "#     $( document ).ready(code_toggle);\n",
    "#     </script>\n",
    "#     <form action=\"javascript:code_toggle()\"><input type=\"submit\" value=\"Click here to toggle on/off the raw code.\"></form>''')"
   ]
  },
  {
   "cell_type": "markdown",
   "metadata": {},
   "source": [
    "Рассмотрим Тверской КИЦ"
   ]
  },
  {
   "cell_type": "code",
   "execution_count": 6,
   "metadata": {},
   "outputs": [],
   "source": [
    "name_cash_center = 'Тверской'"
   ]
  },
  {
   "cell_type": "code",
   "execution_count": 7,
   "metadata": {},
   "outputs": [],
   "source": [
    "atm_data = OptimizationPack.atm_data\n",
    "atm_costs = OptimizationPack.costs"
   ]
  },
  {
   "cell_type": "code",
   "execution_count": 8,
   "metadata": {},
   "outputs": [],
   "source": [
    "file = open('./data/lecture4/' + name_cash_center + '/0_' + name_cash_center + '.csv')\n",
    "atm_ids_table = pd.read_csv(file)\n",
    "file.close()"
   ]
  },
  {
   "cell_type": "code",
   "execution_count": 9,
   "metadata": {},
   "outputs": [],
   "source": [
    "L_ATM = sorted(set(atm_data.ATM_ID.unique()).intersection(set(atm_ids_table.ATM_ID.unique())))\n",
    "num_atms = len(L_ATM)\n",
    "atm_capacity = np.array([30e6 for _ in range(num_atms)])"
   ]
  },
  {
   "cell_type": "code",
   "execution_count": 10,
   "metadata": {},
   "outputs": [],
   "source": [
    "atm_data=atm_data[atm_data.ATM_ID.isin(L_ATM)]"
   ]
  },
  {
   "cell_type": "code",
   "execution_count": 11,
   "metadata": {},
   "outputs": [
    {
     "data": {
      "text/html": [
       "<div>\n",
       "<style scoped>\n",
       "    .dataframe tbody tr th:only-of-type {\n",
       "        vertical-align: middle;\n",
       "    }\n",
       "\n",
       "    .dataframe tbody tr th {\n",
       "        vertical-align: top;\n",
       "    }\n",
       "\n",
       "    .dataframe thead th {\n",
       "        text-align: right;\n",
       "    }\n",
       "</style>\n",
       "<table border=\"1\" class=\"dataframe\">\n",
       "  <thead>\n",
       "    <tr style=\"text-align: right;\">\n",
       "      <th></th>\n",
       "      <th>ATM_ID</th>\n",
       "      <th>CLIENT_IN</th>\n",
       "      <th>CLIENT_IN_BEFORE_LOAD</th>\n",
       "      <th>CLIENT_OUT</th>\n",
       "      <th>CLIENT_OUT_BEFORE_LOAD</th>\n",
       "      <th>CURR</th>\n",
       "      <th>LOAD_IN</th>\n",
       "      <th>LOAD_OUT</th>\n",
       "      <th>INITIAL_BALANCE</th>\n",
       "    </tr>\n",
       "  </thead>\n",
       "  <tbody>\n",
       "    <tr>\n",
       "      <th>2015-01-01</th>\n",
       "      <td>786314</td>\n",
       "      <td>0.0</td>\n",
       "      <td>0.0</td>\n",
       "      <td>274800</td>\n",
       "      <td>0.0</td>\n",
       "      <td>643.0</td>\n",
       "      <td>0.0</td>\n",
       "      <td>0.0</td>\n",
       "      <td>11700600</td>\n",
       "    </tr>\n",
       "    <tr>\n",
       "      <th>2015-01-01</th>\n",
       "      <td>784073</td>\n",
       "      <td>0.0</td>\n",
       "      <td>0.0</td>\n",
       "      <td>0</td>\n",
       "      <td>0.0</td>\n",
       "      <td>643.0</td>\n",
       "      <td>0.0</td>\n",
       "      <td>0.0</td>\n",
       "      <td>1426000</td>\n",
       "    </tr>\n",
       "    <tr>\n",
       "      <th>2015-01-01</th>\n",
       "      <td>780262</td>\n",
       "      <td>0.0</td>\n",
       "      <td>0.0</td>\n",
       "      <td>0</td>\n",
       "      <td>0.0</td>\n",
       "      <td>643.0</td>\n",
       "      <td>0.0</td>\n",
       "      <td>0.0</td>\n",
       "      <td>11987400</td>\n",
       "    </tr>\n",
       "    <tr>\n",
       "      <th>2015-01-01</th>\n",
       "      <td>780816</td>\n",
       "      <td>0.0</td>\n",
       "      <td>0.0</td>\n",
       "      <td>0</td>\n",
       "      <td>0.0</td>\n",
       "      <td>643.0</td>\n",
       "      <td>0.0</td>\n",
       "      <td>0.0</td>\n",
       "      <td>8607000</td>\n",
       "    </tr>\n",
       "    <tr>\n",
       "      <th>2015-01-01</th>\n",
       "      <td>830093</td>\n",
       "      <td>0.0</td>\n",
       "      <td>0.0</td>\n",
       "      <td>3500</td>\n",
       "      <td>0.0</td>\n",
       "      <td>643.0</td>\n",
       "      <td>0.0</td>\n",
       "      <td>0.0</td>\n",
       "      <td>9024600</td>\n",
       "    </tr>\n",
       "  </tbody>\n",
       "</table>\n",
       "</div>"
      ],
      "text/plain": [
       "            ATM_ID  CLIENT_IN  CLIENT_IN_BEFORE_LOAD  CLIENT_OUT  \\\n",
       "2015-01-01  786314        0.0                    0.0      274800   \n",
       "2015-01-01  784073        0.0                    0.0           0   \n",
       "2015-01-01  780262        0.0                    0.0           0   \n",
       "2015-01-01  780816        0.0                    0.0           0   \n",
       "2015-01-01  830093        0.0                    0.0        3500   \n",
       "\n",
       "            CLIENT_OUT_BEFORE_LOAD   CURR  LOAD_IN  LOAD_OUT  INITIAL_BALANCE  \n",
       "2015-01-01                     0.0  643.0      0.0       0.0         11700600  \n",
       "2015-01-01                     0.0  643.0      0.0       0.0          1426000  \n",
       "2015-01-01                     0.0  643.0      0.0       0.0         11987400  \n",
       "2015-01-01                     0.0  643.0      0.0       0.0          8607000  \n",
       "2015-01-01                     0.0  643.0      0.0       0.0          9024600  "
      ]
     },
     "execution_count": 11,
     "metadata": {},
     "output_type": "execute_result"
    }
   ],
   "source": [
    "atm_data.head()"
   ]
  },
  {
   "cell_type": "code",
   "execution_count": 12,
   "metadata": {},
   "outputs": [
    {
     "data": {
      "image/png": "[encoded data removed]",
      "text/plain": [
       "<Figure size 1080x432 with 1 Axes>"
      ]
     },
     "metadata": {
      "needs_background": "light"
     },
     "output_type": "display_data"
    }
   ],
   "source": [
    "plt.figure(figsize=(15,6))\n",
    "plt.title('Суммарные снятия из ATM, ' + name_cash_center + ' КИЦ, ' + str(len(L_ATM)) + ' ATMs', fontsize=16)\n",
    "plt.plot(atm_data.groupby(by=atm_data.index)['LOAD_OUT'].sum()['2017-03-01':'2017-03-31'] / 1e9, color='tab:green')\n",
    "plt.xlabel('ДАТА')\n",
    "plt.ylabel('МЛРД РУБЛЕЙ')\n",
    "plt.grid(True)"
   ]
  },
  {
   "cell_type": "markdown",
   "metadata": {},
   "source": [
    "Построим интересные картинки по зонам"
   ]
  },
  {
   "cell_type": "code",
   "execution_count": 13,
   "metadata": {},
   "outputs": [],
   "source": [
    "import gmaps\n",
    "import pandas as pd\n",
    "\n",
    "gmaps.configure(api_key=\"\")"
   ]
  },
  {
   "cell_type": "code",
   "execution_count": 14,
   "metadata": {},
   "outputs": [],
   "source": [
    "data_kits = atm_costs[atm_costs.ATM_ID.isin(L_ATM)]"
   ]
  },
  {
   "cell_type": "code",
   "execution_count": 15,
   "metadata": {},
   "outputs": [],
   "source": [
    "data1 = data_kits[data_kits.NEW_ZONE == 1][['LATITUDE', 'LONGITUDE']]\n",
    "data2 = data_kits[data_kits.NEW_ZONE == 2][['LATITUDE', 'LONGITUDE']]\n",
    "data3 = data_kits[data_kits.NEW_ZONE == 3][['LATITUDE', 'LONGITUDE']]\n",
    "data4 = data_kits[data_kits.NEW_ZONE == 4][['LATITUDE', 'LONGITUDE']]\n",
    "data5 = data_kits[data_kits.NEW_ZONE == 5][['LATITUDE', 'LONGITUDE']]\n",
    "\n",
    "data1_layer = gmaps.symbol_layer(\n",
    "    data1, fill_color=\"blue\",\n",
    "    stroke_color=\"blue\", scale=2\n",
    ")\n",
    "\n",
    "data2_layer = gmaps.symbol_layer(\n",
    "    data2, fill_color=\"green\",\n",
    "    stroke_color=\"green\", scale=2,\n",
    ")\n",
    "\n",
    "data3_layer = gmaps.symbol_layer(\n",
    "    data3, fill_color=\"red\",\n",
    "    stroke_color=\"red\", scale=2\n",
    ")\n",
    "\n",
    "data4_layer = gmaps.symbol_layer(\n",
    "    data4, fill_color=\"black\",\n",
    "    stroke_color=\"black\", scale=3\n",
    ")\n",
    "\n",
    "data5_layer = gmaps.symbol_layer(\n",
    "    data5, fill_color=\"purple\",\n",
    "    stroke_color=\"purple\", scale=4\n",
    ")"
   ]
  },
  {
   "cell_type": "code",
   "execution_count": 16,
   "metadata": {},
   "outputs": [],
   "source": [
    "fig = gmaps.figure()\n",
    "fig.add_layer(data1_layer)\n",
    "fig.add_layer(data2_layer)\n",
    "fig.add_layer(data3_layer)\n",
    "fig.add_layer(data4_layer)\n",
    "fig.add_layer(data5_layer)"
   ]
  },
  {
   "cell_type": "code",
   "execution_count": 17,
   "metadata": {},
   "outputs": [
    {
     "name": "stdout",
     "output_type": "stream",
     "text": [
      "Enabling notebook extension jupyter-js-widgets/extension...\r\n",
      "      - Validating: \u001b[32mOK\u001b[0m\r\n"
     ]
    }
   ],
   "source": [
    "! jupyter nbextension enable --py --sys-prefix widgetsnbextension"
   ]
  },
  {
   "cell_type": "code",
   "execution_count": 18,
   "metadata": {},
   "outputs": [
    {
     "name": "stdout",
     "output_type": "stream",
     "text": [
      "/Users/user/anaconda3/lib/python3.7/site-packages/ipykernel/kernelbase.py:19: VisibleDeprecationWarning: zmq.eventloop.minitornado is deprecated in pyzmq 14.0 and will be removed.\n",
      "    Install tornado itself to use zmq with the tornado IOLoop.\n",
      "    \n",
      "  from jupyter_client.session import utcnow as now\n",
      "Enabling notebook extension jupyter-gmaps/extension...\n",
      "      - Validating: \u001b[32mOK\u001b[0m\n"
     ]
    }
   ],
   "source": [
    "! jupyter nbextension enable --py --sys-prefix gmaps"
   ]
  },
  {
   "cell_type": "code",
   "execution_count": 19,
   "metadata": {},
   "outputs": [
    {
     "data": {
      "application/vnd.jupyter.widget-view+json": {
       "model_id": "007d85e01c854d919469fad1ac9b19d1",
       "version_major": 2,
       "version_minor": 0
      },
      "text/plain": [
       "Figure(layout=FigureLayout(height='420px'))"
      ]
     },
     "metadata": {},
     "output_type": "display_data"
    }
   ],
   "source": [
    "fig"
   ]
  },
  {
   "cell_type": "markdown",
   "metadata": {},
   "source": [
    "## <center><span style = \"color: blue\">Зона 1</span>  --- <span style = \"color: green\">Зона 2</span> --- <span style = \"color: red\">Зона 3</span> --- <span style = \"color: black\">Зона 4</span> --- <span style = \"color: purple\">Зона 5</span>"
   ]
  },
  {
   "cell_type": "markdown",
   "metadata": {},
   "source": [
    "### Прогнозы 14-дневные! Это параметр size_window по умолчанию везде далее"
   ]
  },
  {
   "cell_type": "code",
   "execution_count": null,
   "metadata": {},
   "outputs": [],
   "source": [
    "global_period = ['2017-03-01', '2017-03-31']\n",
    "size_window = 14\n",
    "power = np.array([200 for _ in range(size_window)]) # берем по среднему количеству инкассаций\n",
    "# OptiCash\n",
    "priority = {'atm': 1.0}\n",
    "f_rate = 0.055"
   ]
  },
  {
   "cell_type": "code",
   "execution_count": null,
   "metadata": {},
   "outputs": [],
   "source": [
    "n_days = (pd.to_datetime(global_period[1]) - pd.to_datetime(global_period[0])).days + 1"
   ]
  },
  {
   "cell_type": "code",
   "execution_count": null,
   "metadata": {},
   "outputs": [],
   "source": [
    "predictions_patriot = []\n",
    "\n",
    "for num_pr in range(31):\n",
    "    file_name = './data/lecture4/' + name_cash_center + '/' + str(num_pr) + '_' + name_cash_center + '.csv'\n",
    "    file = open(file_name)\n",
    "    forecast_frame = pd.read_csv(file)\n",
    "    file.close()\n",
    "    forecast_frame = forecast_frame.rename(columns={forecast_frame.columns[0]: 'DATE'})\n",
    "    forecast_frame.sort_values(['DATE', 'ATM_ID'], inplace=True)\n",
    "    dr = forecast_frame.DATE.unique()\n",
    "    forecast_table = np.zeros(shape=(num_atms,size_window))\n",
    "    for i_day, day in enumerate(dr):\n",
    "        forecast_table[:,i_day] = forecast_frame[forecast_frame.DATE == day]['prediction']\n",
    "    predictions_patriot.append(forecast_table)\n",
    "    print(file_name)"
   ]
  },
  {
   "cell_type": "markdown",
   "metadata": {
    "collapsed": true
   },
   "source": [
    "### Итак, запустим алгоритм оптимизации на тех прогнозах, которые считали выше"
   ]
  },
  {
   "cell_type": "code",
   "execution_count": null,
   "metadata": {
    "scrolled": true
   },
   "outputs": [],
   "source": [
    "fat = 1.2\n",
    "global_period_extended = pd.date_range(start=global_period[0], end=global_period[1], \n",
    "                                       freq = 'D')\n",
    "num_days = len(global_period_extended)"
   ]
  },
  {
   "cell_type": "code",
   "execution_count": null,
   "metadata": {
    "scrolled": true
   },
   "outputs": [],
   "source": [
    "optimum = []\n",
    "patriot_raw_downtimes_list = []\n",
    "patriot_encash_table = np.zeros(shape=(num_atms, num_days), dtype='int64')\n",
    "patriot_load_in_table = np.zeros(shape=(num_atms, num_days), dtype='int64')\n",
    "patriot_encash_hours_table = np.zeros(shape=(num_atms, num_days), dtype='int64')\n",
    "patriot_losts_table = np.zeros(shape=(num_atms, num_days), dtype='int64')\n",
    "\n",
    "tmp = np.zeros(num_atms)\n",
    "for index, ID in enumerate(L_ATM):\n",
    "    tmp[index] = atm_data[atm_data['ATM_ID'] == ID][global_period[0]:global_period[1]]['INITIAL_BALANCE'].iloc[0]\n",
    "atm_initial_balances = (np.floor(tmp / 10) * 10).astype('int64')\n",
    "\n",
    "update_initial_balance = [atm_initial_balances]\n",
    "\n",
    "\n",
    "for i_day, d1 in enumerate(global_period_extended):\n",
    "    print([str(d1), str(d1 + datetime.timedelta(size_window-1))])\n",
    "    \n",
    "    KITS_slice = CashCenter(atm_ids=L_ATM, \n",
    "                            times=[str(d1), str(d1 + datetime.timedelta(size_window-1))], \n",
    "                            power=power, \n",
    "                            priority=priority, \n",
    "                            atm_capacity=atm_capacity, \n",
    "                            f_rate=f_rate)\n",
    "    KITS_slice.set_data()   # криво, потому что приходится две строчки ниже писать\n",
    "    KITS_slice._atm_initial_balances = update_initial_balance[-1]\n",
    "    KITS_slice._atm_predictions = (np.ceil(fat * predictions_patriot[i_day] / 10) * 10).astype('int64')\n",
    "    KITS_slice.set_full_masks()\n",
    "    KITS_slice.set_state()\n",
    "    \n",
    "    opt = Optimizer(KITS_slice)\n",
    "    optimum.append(opt.optimize(max_iter=5000, num_jump=3))\n",
    "\n",
    "    patriot_encash_table[:, i_day] = optimum[-1][0][:, 0]\n",
    "    uploads_hours = KITS_slice.table_upload(optimum[-1][0], timestamp='intraday')\n",
    "    patriot_load_in_table[:, i_day] = uploads_hours[0][:, 0]\n",
    "    patriot_encash_hours_table[:, i_day] = uploads_hours[1]\n",
    "    losts_downtimes = KITS_slice.table_lost(optimum[-1][0], kind='atm', \n",
    "                                            facts=True, timestamp ='intraday')\n",
    "    patriot_losts_table[:, i_day] = losts_downtimes[0][:, 0]\n",
    "    patriot_raw_downtimes_list.append(losts_downtimes[1])\n",
    "\n",
    "    update_initial_balance.append(losts_downtimes[0][:, 0])"
   ]
  },
  {
   "cell_type": "code",
   "execution_count": null,
   "metadata": {},
   "outputs": [],
   "source": []
  },
  {
   "cell_type": "code",
   "execution_count": null,
   "metadata": {},
   "outputs": [],
   "source": [
    "patriot_load_out_table = np.zeros(shape=(num_atms, num_days), dtype='int64')\n",
    "    \n",
    "for i_atm, ID in enumerate(L_ATM):\n",
    "    patriot_load_out_table[i_atm, :] = patriot_load_in_table[i_atm, :] - np.array(atm_data[atm_data['ATM_ID'] == ID]['CLIENT_OUT']['2017-03-01':'2017-03-31']) + np.array(update_initial_balance)[:,i_atm][:-1] - patriot_losts_table[i_atm, :]\n",
    "\n",
    "patriot_load_out_table = np.where(patriot_load_out_table < 0, 0, patriot_load_out_table)\n",
    "\n",
    "patriot_funding_costs_table = patriot_losts_table * f_rate / 365\n",
    "patriot_encash_costs_table = np.zeros(shape=(num_atms, num_days))\n",
    "\n",
    "for i_atm, ID in enumerate(L_ATM):\n",
    "    patriot_encash_costs_table[i_atm, :] = patriot_encash_table[i_atm, :] * (atm_costs[atm_costs['ATM_ID'] == ID]['NEW_EXPENSE'].iloc[0] + atm_costs[atm_costs['ATM_ID'] == ID]['NEW_KASSA'].iloc[0])\n",
    "    \n",
    "patriot_encash_hours_table = np.where(patriot_encash_hours_table == 24, None, patriot_encash_hours_table)"
   ]
  },
  {
   "cell_type": "code",
   "execution_count": null,
   "metadata": {},
   "outputs": [],
   "source": [
    "patriot_downtimes_list = []\n",
    "for ind in range(len(patriot_raw_downtimes_list)):\n",
    "    downtimes = deepcopy(patriot_raw_downtimes_list[ind])\n",
    "    if ind == 0:\n",
    "        for j in range(len(downtimes)):\n",
    "            patriot_downtimes_list.append([])\n",
    "            for k in range(len(downtimes[j])):\n",
    "                if isinstance(downtimes[j][k], list):\n",
    "                    patriot_downtimes_list[j].append(downtimes[j][k])\n",
    "    else:\n",
    "        for j in range(len(downtimes)):\n",
    "            for k in range(len(downtimes[j])):\n",
    "                if isinstance(downtimes[j][k], list):\n",
    "                    downtimes[j][k][0] = ind\n",
    "                    patriot_downtimes_list[j].append(downtimes[j][k])"
   ]
  },
  {
   "cell_type": "code",
   "execution_count": null,
   "metadata": {},
   "outputs": [],
   "source": [
    "patriot_counts = []\n",
    "for j in range(len(patriot_downtimes_list)):\n",
    "    patriot_counts.append(len(patriot_downtimes_list[j]))"
   ]
  },
  {
   "cell_type": "markdown",
   "metadata": {},
   "source": [
    "### Посмотрим, как все считается сейчас"
   ]
  },
  {
   "cell_type": "code",
   "execution_count": null,
   "metadata": {},
   "outputs": [],
   "source": [
    "opticash_load_in_table = np.zeros(shape=(num_atms, num_days), dtype='int64')\n",
    "\n",
    "for i_atm, ID in enumerate(L_ATM):\n",
    "    opticash_load_in_table[i_atm, :] = np.array(atm_data[atm_data['ATM_ID'] == ID]['2017-03-01':'2017-03-31']['LOAD_IN'])\n",
    "\n",
    "opticash_encash_table = np.where(opticash_load_in_table > 0, 1, 0)\n",
    "\n",
    "opticash_losts_table = np.zeros(shape=(num_atms, num_days), dtype='int64')\n",
    "opticash_load_out_table = np.zeros(shape=(num_atms, num_days), dtype='int64')\n",
    "\n",
    "for i_atm, ID in enumerate(L_ATM):\n",
    "    opticash_losts_table[i_atm, :] = np.array(atm_data[atm_data['ATM_ID'] == ID]['2017-03-01':'2017-03-31']['LOAD_IN'] - (atm_data[atm_data['ATM_ID'] == ID]['2017-03-01':'2017-03-31']['CLIENT_OUT']- (atm_data[atm_data['ATM_ID'] == ID]['2017-03-01':'2017-03-31']['INITIAL_BALANCE'] - atm_data[atm_data['ATM_ID'] == ID]['2017-03-01':'2017-03-31']['LOAD_OUT'])))\n",
    "    opticash_load_out_table[i_atm, :] = np.array(atm_data[atm_data['ATM_ID'] == ID]['2017-03-01':'2017-03-31']['LOAD_OUT'])\n",
    "\n",
    "opticash_funding_costs_table = opticash_losts_table * f_rate / 365\n",
    "\n",
    "opticash_encash_costs_table = np.zeros(shape=(num_atms, num_days))\n",
    "\n",
    "for i_atm, ID in enumerate(L_ATM):\n",
    "    opticash_encash_costs_table[i_atm, :] = opticash_encash_table[i_atm, :] * (atm_costs[atm_costs['ATM_ID'] == ID]['NEW_EXPENSE'].iloc[0] + atm_costs[atm_costs['ATM_ID'] == ID]['NEW_KASSA'].iloc[0])"
   ]
  },
  {
   "cell_type": "markdown",
   "metadata": {},
   "source": [
    "## Построим графики"
   ]
  },
  {
   "cell_type": "code",
   "execution_count": null,
   "metadata": {},
   "outputs": [],
   "source": [
    "plt.figure(figsize=(15,24.3))\n",
    "plt.subplots_adjust(hspace=0.3)\n",
    "\n",
    "plt.subplot(4,1,1)\n",
    "plt.title('Остатки в ATM на конец дня, ' + name_cash_center + ' КИЦ, ' + str(len(L_ATM)) + ' ATMs', fontsize=16)\n",
    "plt.plot(pd.date_range(start='2017-03-01', end='2017-03-31', freq='D'), \n",
    "         np.sum(patriot_losts_table, axis=0) / 1e9, label='PATRIOT', color='tab:green')\n",
    "plt.plot(pd.date_range(start='2017-03-01', end='2017-03-31', freq='D'), \n",
    "         np.sum(opticash_losts_table, axis=0) / 1e9, label='OPTICASH', color='tab:orange')\n",
    "plt.xlabel('ДАТА')\n",
    "plt.ylabel('МЛРД РУБЛЕЙ')\n",
    "plt.legend()\n",
    "plt.grid(True)\n",
    "\n",
    "plt.subplot(4,1,2)\n",
    "plt.title('Расход средств из КИЦа на загрузку ATM, ' + name_cash_center + ' КИЦ, ' + str(len(L_ATM)) + ' ATMs', fontsize=16)\n",
    "plt.plot(pd.date_range(start='2017-03-01', end='2017-03-31', freq='D'), \n",
    "         np.sum(patriot_load_in_table, axis=0) / 1e9, label='PATRIOT', color='tab:green')\n",
    "plt.plot(pd.date_range(start='2017-03-01', end='2017-03-31', freq='D'), \n",
    "         np.sum(opticash_load_in_table, axis=0) / 1e9, label='OPTICASH', color='tab:orange')\n",
    "plt.xlabel('ДАТА')\n",
    "plt.ylabel('МЛРД РУБЛЕЙ')\n",
    "plt.legend()\n",
    "plt.grid(True)\n",
    "\n",
    "plt.subplot(4,1,3)\n",
    "plt.title('Количество инкассаций в день для обслуживания ATM, ' + name_cash_center + ' КИЦ, ' + str(len(L_ATM)) + ' ATMs', fontsize=16)\n",
    "plt.plot(pd.date_range(start='2017-03-01', end='2017-03-31', freq='D'), \n",
    "         np.sum(patriot_encash_table, axis=0), label='PATRIOT', color='tab:green')\n",
    "plt.plot(pd.date_range(start='2017-03-01', end='2017-03-31', freq='D'), \n",
    "         np.sum(opticash_encash_table, axis=0), label='OPTICASH', color='tab:orange')\n",
    "plt.xlabel('ДАТА')\n",
    "plt.ylabel('КОЛИЧЕСТВО ИНКАССАЦИЙ')\n",
    "plt.legend()\n",
    "plt.grid(True)\n",
    "\n",
    "plt.subplot(4,1,4)\n",
    "plt.title('Суммарная выгрузка из ATM в момент загрузки, ' + name_cash_center + ' КИЦ, ' + str(len(L_ATM)) + ' ATMs', fontsize=16)\n",
    "plt.plot(pd.date_range(start='2017-03-01', end='2017-03-31', freq='D'), \n",
    "         np.sum(patriot_load_out_table, axis=0) / 1e9, label='PATRIOT', color='tab:green')\n",
    "plt.plot(pd.date_range(start='2017-03-01', end='2017-03-31', freq='D'), \n",
    "         np.sum(opticash_load_out_table, axis=0) / 1e9, label='OPTICASH', color='tab:orange')\n",
    "plt.xlabel('ДАТА')\n",
    "plt.ylabel('МЛРД РУБЛЕЙ')\n",
    "plt.legend()\n",
    "plt.grid(True)\n",
    "\n",
    "plt.show()"
   ]
  },
  {
   "cell_type": "code",
   "execution_count": null,
   "metadata": {},
   "outputs": [],
   "source": [
    "plt.figure(figsize=(17,18))\n",
    "\n",
    "plt.subplot(2,1,1)\n",
    "plt.title('Гистограмма простоев ATM, ' + name_cash_center + ' КИЦ, ' + str(len(L_ATM)) + ' ATMs', fontsize=16)\n",
    "plt.hist(patriot_counts, bins=100, label='PATRIOT. Средний простой = ' + str(np.round(np.mean(patriot_counts), 1)) + ' часа', color='tab:blue')\n",
    "plt.xlabel('ПРОСТОЙ В ЧАСАХ (ЗА МАРТ 2017 ГОДА)')\n",
    "plt.ylabel('КОЛИЧЕСТВО ATM')\n",
    "plt.legend()\n",
    "plt.grid(True)\n",
    "\n",
    "plt.show()"
   ]
  },
  {
   "cell_type": "code",
   "execution_count": null,
   "metadata": {},
   "outputs": [],
   "source": []
  },
  {
   "cell_type": "markdown",
   "metadata": {},
   "source": [
    "### Теперь посмотрим внимательнее, как изменились загрузки для каждого конкретного банкомата"
   ]
  },
  {
   "cell_type": "code",
   "execution_count": null,
   "metadata": {},
   "outputs": [],
   "source": [
    "atm_predictions = np.zeros(shape=(num_atms, num_days))\n",
    "for dd in range(num_days):\n",
    "    atm_predictions[:,dd] = predictions_patriot[dd][:,0]\n",
    "\n",
    "atm_facts = np.zeros(shape=(num_atms, num_days))\n",
    "for index, ID in enumerate(L_ATM):\n",
    "    atm_facts[index, :] = atm_data[atm_data['ATM_ID'] == ID][global_period[0]:global_period[1]]['CLIENT_OUT']"
   ]
  },
  {
   "cell_type": "code",
   "execution_count": null,
   "metadata": {
    "scrolled": false
   },
   "outputs": [],
   "source": [
    "index_gen = pd.date_range(start=pd.to_datetime('2017-03-01'), end=pd.to_datetime('2017-03-31'), freq='D')\n",
    "for ID in random.sample(range(num_atms), 50):\n",
    "    if np.max(atm_facts[ID, :]) < 5e6:\n",
    "        start = deepcopy(pd.to_datetime(global_period[0]))\n",
    "        end = deepcopy(pd.to_datetime(global_period[0])) + datetime.timedelta(size_window-1)\n",
    "        tss = []\n",
    "\n",
    "        for i in range(num_days):\n",
    "            ts = pd.DataFrame(optimum[i][0][ID, :], index = pd.date_range(start=start, end=end))\n",
    "            start = start + datetime.timedelta(1)\n",
    "            end = end + datetime.timedelta(1)\n",
    "            tss.append(ts)\n",
    "\n",
    "        tmp = deepcopy(tss[0])\n",
    "        for i in range(1, len(tss)):\n",
    "            left, right = deepcopy(tmp.align(tss[i], fill_value = 0))\n",
    "            tmp = left + right\n",
    "        tmp = tmp[:'2017-03-31']\n",
    "    \n",
    "        plt.figure(figsize = (17,4))\n",
    "        plt.suptitle('ID = ' + str(L_ATM[ID]), fontsize=20)\n",
    "        plt.bar(tmp.index, tmp.values.reshape(1, -1)[0])\n",
    "        pp = pd.Series(patriot_encash_table[ID, :], index = pd.date_range(start=pd.to_datetime('2017-03-01'), end=pd.to_datetime('2017-03-31')))\n",
    "        ax = plt.axes()\n",
    "        ymin, ymax = ax.get_ylim()\n",
    "        ax.vlines(x=pp[pp == 1].index, ymin=ymin, ymax=ymax, color='r')\n",
    "        ax.set_ylim(ymin, ymax)\n",
    "        plt.grid(True)\n",
    "        plt.show()\n",
    "        \n",
    "        plt.figure(figsize=(17,4))\n",
    "        AAA = np.sum(patriot_funding_costs_table[ID, :])\n",
    "        BBB = np.sum(patriot_encash_costs_table[ID, :])\n",
    "        \n",
    "        plt.suptitle('Funding costs = ' + str(np.ceil(AAA).astype('int64')) + '                             ' +\n",
    "                     ' Encashment costs = ' + str(np.ceil(BBB).astype('int64')) + '\\n' + \n",
    "                     'SUM = ' + str(np.ceil(AAA + BBB).astype('int64'))) \n",
    "        plt.plot(pd.Series(patriot_losts_table[ID, :], index=index_gen))\n",
    "        plt.plot(pd.Series(np.where(patriot_encash_table[ID, :] == 1, patriot_load_in_table[ID, :], np.nan), index=index_gen), 'ro')\n",
    "        plt.vlines(x=index_gen, \n",
    "                   ymin=np.where(patriot_encash_table[ID, :] == 1, patriot_losts_table[ID, :], np.nan),\n",
    "                   ymax = np.where(patriot_encash_table[ID, :] == 1, patriot_load_in_table[ID, :], np.nan), color = 'tab:orange', alpha = 0.7)\n",
    "        plt.grid(True)\n",
    "        plt.show()\n",
    "        \n",
    "        plt.figure(figsize=(17,4))\n",
    "        CCC = np.sum(opticash_funding_costs_table[ID, :])\n",
    "        DDD = np.sum(opticash_encash_costs_table[ID, :])\n",
    "        plt.suptitle('Funding costs = ' + str(np.ceil(CCC).astype('int64')) + '                             ' +\n",
    "                     ' Encashment costs = ' + str(np.ceil(DDD).astype('int64')) + '\\n' + \n",
    "                     'SUM = ' + str(np.ceil(CCC + DDD).astype('int64'))) \n",
    "        plt.plot(pd.Series(opticash_losts_table[ID, :], index=index_gen))\n",
    "        plt.plot(pd.Series(np.where(opticash_encash_table[ID, :] == 1, opticash_load_in_table[ID, :], np.nan), index=index_gen), 'ro')\n",
    "        plt.vlines(x=index_gen, \n",
    "                   ymin=np.where(opticash_encash_table[ID, :] == 1, opticash_losts_table[ID, :], np.nan),\n",
    "                   ymax = np.where(opticash_encash_table[ID, :] == 1, opticash_load_in_table[ID, :], np.nan), color = 'tab:orange', alpha = 0.7)\n",
    "        plt.grid(True)\n",
    "        plt.show()\n",
    "        \n",
    "\n",
    "        plt.figure(figsize=(17,4))\n",
    "        plt.grid(True)\n",
    "        plt.plot(atm_predictions[ID, :], 'r', label='Predictions')\n",
    "        plt.plot(atm_facts[ID,:], 'g', label='Facts')\n",
    "        plt.legend()\n",
    "        plt.show()\n",
    "        print('\\n\\n\\n\\n')"
   ]
  },
  {
   "cell_type": "code",
   "execution_count": null,
   "metadata": {},
   "outputs": [],
   "source": [
    "plt.figure(figsize=(17,4))\n",
    "plt.xlabel('DAY OF THE MONTH')\n",
    "plt.ylabel('CLIENTFLOW IN HOURS OF SERVICE')\n",
    "plt.plot(atm_facts[201,:] / 20000, 'g', label='REAL CLIENTFLOW')\n",
    "plt.plot(atm_predictions[201, :] / 20000, 'r', label='PREDICTED CLIENTFLOW')\n",
    "plt.legend()\n",
    "plt.grid(True)\n",
    "plt.show()"
   ]
  },
  {
   "cell_type": "code",
   "execution_count": null,
   "metadata": {},
   "outputs": [],
   "source": []
  },
  {
   "cell_type": "code",
   "execution_count": null,
   "metadata": {},
   "outputs": [],
   "source": [
    "plt.figure(figsize=(17,8))\n",
    "plt.plot(optimum[0][2][0])\n",
    "plt.grid(True)"
   ]
  },
  {
   "cell_type": "code",
   "execution_count": null,
   "metadata": {},
   "outputs": [],
   "source": [
    "from copy import deepcopy"
   ]
  },
  {
   "cell_type": "code",
   "execution_count": null,
   "metadata": {},
   "outputs": [],
   "source": [
    "df = deepcopy(optimum[1][1][0])\n",
    "for j in range(1,2000):\n",
    "    df += optimum[1][1][j]\n",
    "df = df/2000"
   ]
  },
  {
   "cell_type": "code",
   "execution_count": null,
   "metadata": {},
   "outputs": [],
   "source": [
    "optimum[1][1][0]"
   ]
  },
  {
   "cell_type": "code",
   "execution_count": null,
   "metadata": {},
   "outputs": [],
   "source": [
    "import seaborn as sns"
   ]
  },
  {
   "cell_type": "code",
   "execution_count": null,
   "metadata": {},
   "outputs": [],
   "source": [
    "fig, axs = plt.subplots(1,2,figsize=(10,17))\n",
    "sns.heatmap(optimum[1][1][0][:50, :], ax = axs[0], cmap='RdBu_r')\n",
    "sns.heatmap(optimum[1][1][-1][:50,:], ax = axs[1], cmap='RdBu_r')\n",
    "plt.show()"
   ]
  },
  {
   "cell_type": "code",
   "execution_count": null,
   "metadata": {},
   "outputs": [],
   "source": [
    "fig, axs = plt.subplots(1,2,figsize=(10,17))\n",
    "sns.heatmap(optimum[1][1][0][:50, :], ax = axs[0], cmap='RdBu_r')\n",
    "sns.heatmap(df[:50,:], ax = axs[1], cmap='RdBu_r')\n",
    "plt.show()"
   ]
  },
  {
   "cell_type": "code",
   "execution_count": null,
   "metadata": {},
   "outputs": [],
   "source": [
    "fig, axs = plt.subplots(1,2,figsize=(10,17))\n",
    "sns.heatmap(optimum[1][1][0][:50, :], ax = axs[0], cmap='RdBu_r')\n",
    "sns.heatmap(optimum[1][1][-1][:50, :], ax = axs[1], cmap='RdBu_r')\n",
    "plt.show()"
   ]
  },
  {
   "cell_type": "code",
   "execution_count": null,
   "metadata": {},
   "outputs": [],
   "source": []
  },
  {
   "cell_type": "code",
   "execution_count": null,
   "metadata": {},
   "outputs": [],
   "source": []
  },
  {
   "cell_type": "markdown",
   "metadata": {
    "collapsed": true
   },
   "source": [
    "# ВДД алгоритм"
   ]
  },
  {
   "cell_type": "code",
   "execution_count": null,
   "metadata": {},
   "outputs": [],
   "source": [
    "atm_intraday = pd.read_csv('./data/lecture4/atm_intraday.csv', index_col=0, parse_dates=True)\n",
    "atm_intraday = atm_intraday.rename(columns={'new_value': 'sum'})\n",
    "atm_intraday['date_id'] = pd.to_datetime(atm_intraday['date_id'])\n",
    "atm_intraday['dow'] = atm_intraday['date_id'].dt.weekday\n",
    "atm_intraday = atm_intraday[atm_intraday.date_id != '2018-01-13']\n",
    "atm_intraday.index = range(atm_intraday.shape[0])\n",
    "atm_intraday['new_sum'] = np.where(atm_intraday['sum'] < 0, 0, atm_intraday['sum'])"
   ]
  },
  {
   "cell_type": "code",
   "execution_count": null,
   "metadata": {},
   "outputs": [],
   "source": [
    "list_ids = L_ATM\n",
    "n_ids = num_atms\n",
    "dia = atm_intraday[atm_intraday.ATM_ID.isin(list_ids)]\n",
    "\n",
    "dia = dia.sort_values(['ATM_ID', 'dow', 'hour'])\n",
    "\n",
    "dia_each = dia.groupby(by=['ATM_ID', 'dow', 'hour'])['new_sum'].mean().reset_index()\n",
    "dia_each.index = range(dia_each.shape[0])\n",
    "\n",
    "for _id in list_ids:\n",
    "    if _id not in dia_each.ATM_ID.unique():\n",
    "        print('There is not intraday data for ID = ' + str(_id) + ', type = ' + 'atm' + '\\n' +\n",
    "              'The intraday distribution was set as mean for all ' + 'atm' + 's')\n",
    "\n",
    "A1 = []\n",
    "for i_id in range(n_ids):\n",
    "    A2 = []\n",
    "    for i_dow in range(7):\n",
    "        d_app = np.array(dia_each[(dia_each.ATM_ID == list_ids[i_id]) & (dia_each.dow == i_dow)]['new_sum'])\n",
    "        if len(d_app) == 24 and np.all(d_app != np.inf):\n",
    "            A2.append(list(np.ceil(d_app)))\n",
    "        else:\n",
    "            A2.append([0] * 24)\n",
    "    A1.append(A2)\n",
    "A1 = np.array(A1)\n",
    "\n",
    "for i_id in range(n_ids):\n",
    "    for i_dow in range(7):\n",
    "        sum_day = np.sum(A1[i_id, i_dow])\n",
    "        if sum_day != 0:\n",
    "            A1[i_id, i_dow] = A1[i_id, i_dow] / sum_day\n",
    "        else:\n",
    "            A1[i_id, i_dow] = np.array([0] * 24)\n",
    "\n",
    "dia_all = dia.groupby(by=['dow', 'hour'])['new_sum'].mean().reset_index()\n",
    "dia_all.index = range(dia_all.shape[0])\n",
    "A2 = []\n",
    "for i_dow in range(7):\n",
    "    d_app = np.array(dia_all[dia_all.dow == i_dow]['new_sum'])\n",
    "    if len(d_app) == 24 and np.all(d_app != np.inf):\n",
    "        A2.append(list(np.ceil(d_app)))\n",
    "    else:\n",
    "        A2.append([0] * 9 + [1] * 12 + [0] * 3)\n",
    "A2 = np.array(A2)\n",
    "\n",
    "for i_dow in range(7):\n",
    "    sum_day = np.sum(A2[i_dow])\n",
    "    if sum_day != 0:\n",
    "        A2[i_dow] = A2[i_dow] / sum_day\n",
    "    else:\n",
    "        A2[i_dow] = np.array([0.0] * 9 + [1/12] * 12 + [0.0] * 3)\n",
    "\n",
    "for i in range(n_ids):\n",
    "    for j in range(7):\n",
    "        if np.sum(A1[i, j]) < 0.1:\n",
    "            A1[i, j] = A2[j].copy()\n",
    "        m1, arg_m1 = np.max(A1[i, j]), np.argmax(A1[i, j])\n",
    "        A1[i, j, arg_m1] = 1000\n",
    "        for k in range(24):\n",
    "            if k != arg_m1:\n",
    "                A1[i, j, k] = np.ceil(A1[i, j, k] * 1000)\n",
    "                A1[i, j, arg_m1] -= A1[i, j, k]\n",
    "\n",
    "dist_list = A1 / 1000"
   ]
  },
  {
   "cell_type": "code",
   "execution_count": null,
   "metadata": {},
   "outputs": [],
   "source": [
    "dia"
   ]
  },
  {
   "cell_type": "code",
   "execution_count": null,
   "metadata": {},
   "outputs": [],
   "source": [
    "dia[(dia.ATM_ID == list_ids[0]) & (dia.dow == 6) & (dia.date_id == '2017-11-26')]"
   ]
  },
  {
   "cell_type": "code",
   "execution_count": null,
   "metadata": {
    "scrolled": false
   },
   "outputs": [],
   "source": [
    "weekdays = ['MONDAY', 'TUESDAY', 'WEDNESDAY', 'THURSDAY', 'FRIDAY', 'SATURDAY', 'SUNDAY']\n",
    "\n",
    "I_ID = 0\n",
    "\n",
    "print('ID = ' + str(list_ids[I_ID]))\n",
    "\n",
    "for dow in range(7):\n",
    "    plt.figure(figsize=(10,6))\n",
    "    plt.title('INTRADAY DISTRIBUTION, ' + weekdays[dow], fontsize=14)\n",
    "    plt.plot(dist_list[I_ID][dow], color='tab:green', linewidth=3.0, label='PREDICTED DISTRIBUTION')\n",
    "    poss_dates = dia[dia.dow == dow].date_id.unique()\n",
    "    for mm, datt in enumerate(poss_dates):\n",
    "        df_dia = dia[(dia.ATM_ID == list_ids[I_ID]) & (dia.date_id == datt)].sort_values('hour')\n",
    "        sum_d = np.sum(df_dia['new_sum'])\n",
    "        if mm == 0:\n",
    "            plt.plot(df_dia['hour'], np.array(df_dia['new_sum']) / sum_d, color='tab:blue', alpha=0.5, label='REAL DISTRIBUTIONS')\n",
    "        else:\n",
    "            plt.plot(df_dia['hour'], np.array(df_dia['new_sum']) / sum_d, color='tab:blue', alpha=0.5)\n",
    "    plt.legend()\n",
    "    plt.grid(True)\n",
    "    plt.xlabel('HOUR')\n",
    "    plt.show()"
   ]
  },
  {
   "cell_type": "code",
   "execution_count": null,
   "metadata": {},
   "outputs": [],
   "source": [
    "plt.figure(figsize=(15,8))\n",
    "plt.title('PREDICTED DISTRIBUTIONS', fontsize=16)\n",
    "for dw in range(7):\n",
    "    plt.plot(range(24), dia_all[dia_all.dow == dw]['new_sum'] / np.sum(dia_all[dia_all.dow == dw]['new_sum']), label=weekdays[dw])\n",
    "plt.xlabel('HOUR')\n",
    "plt.legend()\n",
    "plt.grid(True)\n",
    "plt.show()"
   ]
  },
  {
   "cell_type": "code",
   "execution_count": null,
   "metadata": {},
   "outputs": [],
   "source": []
  },
  {
   "cell_type": "code",
   "execution_count": null,
   "metadata": {},
   "outputs": [],
   "source": []
  },
  {
   "cell_type": "code",
   "execution_count": null,
   "metadata": {},
   "outputs": [],
   "source": [
    "dia.head(10)"
   ]
  },
  {
   "cell_type": "code",
   "execution_count": null,
   "metadata": {},
   "outputs": [],
   "source": [
    "dia_each.head(20)"
   ]
  },
  {
   "cell_type": "code",
   "execution_count": null,
   "metadata": {},
   "outputs": [],
   "source": [
    "dia_all"
   ]
  },
  {
   "cell_type": "code",
   "execution_count": null,
   "metadata": {},
   "outputs": [],
   "source": []
  }
 ],
 "metadata": {
  "kernelspec": {
   "display_name": "Python 3",
   "language": "python",
   "name": "python3"
  },
  "language_info": {
   "codemirror_mode": {
    "name": "ipython",
    "version": 3
   },
   "file_extension": ".py",
   "mimetype": "text/x-python",
   "name": "python",
   "nbconvert_exporter": "python",
   "pygments_lexer": "ipython3",
   "version": "3.7.2"
  }
 },
 "nbformat": 4,
 "nbformat_minor": 1
}
