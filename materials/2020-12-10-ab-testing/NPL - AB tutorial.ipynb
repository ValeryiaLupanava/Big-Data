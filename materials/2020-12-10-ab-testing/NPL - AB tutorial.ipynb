{
 "cells": [
  {
   "cell_type": "markdown",
   "metadata": {},
   "source": [
    "## Two Samples z-test for Proportions\n",
    "\n",
    "## $z = \\frac{\\hat{p_1}-\\hat{p_2}}{\\sqrt{\\hat{p} (1-\\hat{p}) (\\frac{1}{n_1} + \\frac{1}{n_2})}} $\n",
    "where\n",
    "\n",
    "### $\\hat{p_1} = \\frac{x_1}{n_1}, \\hat{p_2} = \\frac{x_2}{n_2} $\n",
    "### $\\hat{p} = \\frac{x_1 + x_2}{n_1 + n_2}$\n",
    "$x_1, x_2$ - number of successes in group 1 and 2\n",
    "\n",
    "$n_1, n_2$ - number of observations in group 1 and 2"
   ]
  },
  {
   "cell_type": "code",
   "execution_count": 6,
   "metadata": {},
   "outputs": [],
   "source": [
    "# implementation from scratch\n",
    "from math import sqrt\n",
    "import scipy.stats as stats\n",
    "\n",
    "def ztest_proportion_two_samples(xa, na, xb, nb, one_sided=True, verbose=False):\n",
    "    pa = xa/na\n",
    "    pb = xb/nb    \n",
    "\n",
    "    p = (xa+xb)/(na+nb)\n",
    "    denom = sqrt(p*(1-p)*(1/na+1/nb))\n",
    "    \n",
    "    z = (pa-pb)/denom\n",
    "    p = 1-stats.norm.cdf(abs(z))\n",
    "    p *= 2-one_sided # if not one_sided: p *= 2\n",
    "    \n",
    "    if verbose:\n",
    "        print(xa, na, xb, nb)\n",
    "        print('z-stat = {z}'.format(z=z))\n",
    "        print('p-value = {p}'.format(p=p))\n",
    "\n",
    "    return p"
   ]
  },
  {
   "cell_type": "code",
   "execution_count": 12,
   "metadata": {},
   "outputs": [
    {
     "name": "stdout",
     "output_type": "stream",
     "text": [
      "7000 200000 7000 200000\n",
      "z-stat = 0.0\n",
      "p-value = 1.0\n"
     ]
    },
    {
     "data": {
      "text/plain": [
       "1.0"
      ]
     },
     "execution_count": 12,
     "metadata": {},
     "output_type": "execute_result"
    }
   ],
   "source": [
    "ztest_proportion_two_samples(7000, 200000, 7000, 200000, False, True)"
   ]
  },
  {
   "cell_type": "code",
   "execution_count": null,
   "metadata": {},
   "outputs": [],
   "source": []
  },
  {
   "cell_type": "code",
   "execution_count": null,
   "metadata": {},
   "outputs": [],
   "source": []
  },
  {
   "cell_type": "code",
   "execution_count": 13,
   "metadata": {},
   "outputs": [],
   "source": [
    "import numpy as np\n",
    "import pandas as pd\n",
    "import seaborn as sns\n",
    "from pylab import *\n",
    "\n",
    "import statsmodels.stats.weightstats as wstats\n",
    "%matplotlib inline"
   ]
  },
  {
   "cell_type": "code",
   "execution_count": 14,
   "metadata": {},
   "outputs": [
    {
     "name": "stdout",
     "output_type": "stream",
     "text": [
      "variant,ord_value\r\n",
      "1,0\r\n",
      "0,0\r\n",
      "cat: stdout: Broken pipe\r\n"
     ]
    }
   ],
   "source": [
    "!cat experiment_stats.csv | head -3"
   ]
  },
  {
   "cell_type": "code",
   "execution_count": 15,
   "metadata": {},
   "outputs": [
    {
     "data": {
      "text/html": [
       "<div>\n",
       "<style scoped>\n",
       "    .dataframe tbody tr th:only-of-type {\n",
       "        vertical-align: middle;\n",
       "    }\n",
       "\n",
       "    .dataframe tbody tr th {\n",
       "        vertical-align: top;\n",
       "    }\n",
       "\n",
       "    .dataframe thead th {\n",
       "        text-align: right;\n",
       "    }\n",
       "</style>\n",
       "<table border=\"1\" class=\"dataframe\">\n",
       "  <thead>\n",
       "    <tr style=\"text-align: right;\">\n",
       "      <th></th>\n",
       "      <th>variant</th>\n",
       "      <th>ord_value</th>\n",
       "    </tr>\n",
       "  </thead>\n",
       "  <tbody>\n",
       "    <tr>\n",
       "      <th>0</th>\n",
       "      <td>1</td>\n",
       "      <td>0</td>\n",
       "    </tr>\n",
       "    <tr>\n",
       "      <th>1</th>\n",
       "      <td>0</td>\n",
       "      <td>0</td>\n",
       "    </tr>\n",
       "    <tr>\n",
       "      <th>2</th>\n",
       "      <td>0</td>\n",
       "      <td>0</td>\n",
       "    </tr>\n",
       "    <tr>\n",
       "      <th>3</th>\n",
       "      <td>0</td>\n",
       "      <td>0</td>\n",
       "    </tr>\n",
       "    <tr>\n",
       "      <th>4</th>\n",
       "      <td>1</td>\n",
       "      <td>0</td>\n",
       "    </tr>\n",
       "  </tbody>\n",
       "</table>\n",
       "</div>"
      ],
      "text/plain": [
       "   variant  ord_value\n",
       "0        1          0\n",
       "1        0          0\n",
       "2        0          0\n",
       "3        0          0\n",
       "4        1          0"
      ]
     },
     "execution_count": 15,
     "metadata": {},
     "output_type": "execute_result"
    }
   ],
   "source": [
    "data = pd.read_csv('experiment_stats.csv')\n",
    "data.head()"
   ]
  },
  {
   "cell_type": "code",
   "execution_count": 16,
   "metadata": {},
   "outputs": [
    {
     "data": {
      "text/plain": [
       "variant      3437819\n",
       "ord_value    3437819\n",
       "dtype: int64"
      ]
     },
     "execution_count": 16,
     "metadata": {},
     "output_type": "execute_result"
    }
   ],
   "source": [
    "data.count()"
   ]
  },
  {
   "cell_type": "code",
   "execution_count": 17,
   "metadata": {},
   "outputs": [
    {
     "data": {
      "text/plain": [
       "<matplotlib.axes._subplots.AxesSubplot at 0x102b31668>"
      ]
     },
     "execution_count": 17,
     "metadata": {},
     "output_type": "execute_result"
    },
    {
     "data": {
      "image/png": "[encoded data removed]",
      "text/plain": [
       "<Figure size 1080x576 with 1 Axes>"
      ]
     },
     "metadata": {},
     "output_type": "display_data"
    }
   ],
   "source": [
    "plt.figure(figsize=(15,8))\n",
    "data.query('70000 > ord_value > 0').ord_value.hist(bins=200)\n",
    "#data.query('variant == 0 & 50000 > ord_value > 0').ord_value.hist(bins=100)"
   ]
  },
  {
   "cell_type": "code",
   "execution_count": 18,
   "metadata": {},
   "outputs": [
    {
     "data": {
      "text/html": [
       "<div>\n",
       "<style scoped>\n",
       "    .dataframe tbody tr th:only-of-type {\n",
       "        vertical-align: middle;\n",
       "    }\n",
       "\n",
       "    .dataframe tbody tr th {\n",
       "        vertical-align: top;\n",
       "    }\n",
       "\n",
       "    .dataframe thead th {\n",
       "        text-align: right;\n",
       "    }\n",
       "</style>\n",
       "<table border=\"1\" class=\"dataframe\">\n",
       "  <thead>\n",
       "    <tr style=\"text-align: right;\">\n",
       "      <th></th>\n",
       "      <th>ord_value</th>\n",
       "      <th>conversion</th>\n",
       "    </tr>\n",
       "    <tr>\n",
       "      <th>variant</th>\n",
       "      <th></th>\n",
       "      <th></th>\n",
       "    </tr>\n",
       "  </thead>\n",
       "  <tbody>\n",
       "    <tr>\n",
       "      <th>0</th>\n",
       "      <td>697.355784</td>\n",
       "      <td>0.041128</td>\n",
       "    </tr>\n",
       "    <tr>\n",
       "      <th>1</th>\n",
       "      <td>701.008786</td>\n",
       "      <td>0.042015</td>\n",
       "    </tr>\n",
       "  </tbody>\n",
       "</table>\n",
       "</div>"
      ],
      "text/plain": [
       "          ord_value  conversion\n",
       "variant                        \n",
       "0        697.355784    0.041128\n",
       "1        701.008786    0.042015"
      ]
     },
     "execution_count": 18,
     "metadata": {},
     "output_type": "execute_result"
    }
   ],
   "source": [
    "# Для удобства добавим колонку \"конверсия\"\n",
    "data['conversion'] = data['ord_value'].apply(lambda x: 1 if x > 0 else 0)\n",
    "\n",
    "data.groupby('variant').mean()"
   ]
  },
  {
   "cell_type": "code",
   "execution_count": 27,
   "metadata": {},
   "outputs": [
    {
     "data": {
      "text/plain": [
       "(3.5, 5)"
      ]
     },
     "execution_count": 27,
     "metadata": {},
     "output_type": "execute_result"
    },
    {
     "data": {
      "image/png": "[encoded data removed]",
      "text/plain": [
       "<Figure size 1008x432 with 1 Axes>"
      ]
     },
     "metadata": {},
     "output_type": "display_data"
    }
   ],
   "source": [
    "# CR MONITORING BY VARIATIONS\n",
    "\n",
    "# We can consider row number as time-like value\n",
    "\n",
    "\n",
    "# Calculating cumulative CR\n",
    "c0 = 100*data[data['variant'] == 0].rolling(150000).mean()['conversion'][:2000000]\n",
    "c1 = 100*data[data['variant'] == 1].rolling(150000).mean()['conversion'][:2000000]\n",
    "\n",
    "# create dashboard\n",
    "fig, ax = plt.subplots(figsize=(14,6))    \n",
    "plot(c0)\n",
    "plot(c1)\n",
    "title('Cumulative conversion rate', fontdict={'size':16})\n",
    "\n",
    "xlabel('sessions')\n",
    "ylabel('conversion')\n",
    "plt.grid(True)\n",
    "xlim(0, 3000000)\n",
    "ylim(3.5,5)"
   ]
  },
  {
   "cell_type": "code",
   "execution_count": null,
   "metadata": {},
   "outputs": [],
   "source": []
  },
  {
   "cell_type": "code",
   "execution_count": 12,
   "metadata": {},
   "outputs": [],
   "source": []
  },
  {
   "cell_type": "code",
   "execution_count": 13,
   "metadata": {},
   "outputs": [],
   "source": [
    "def CR_stat_test(data, k, verbose=False):\n",
    "    d = data.iloc[:k, :]\n",
    "\n",
    "    xa = d[d.variant == 0].conversion.sum()\n",
    "    na = d[d.variant == 0].conversion.count()\n",
    "\n",
    "    xb = d[d.variant == 1].conversion.sum()\n",
    "    nb = d[d.variant == 1].conversion.count()\n",
    "\n",
    "    p = ztest_proportion_two_samples(xa, na, xb, nb, one_sided=False)\n",
    "    \n",
    "    return p, k"
   ]
  },
  {
   "cell_type": "code",
   "execution_count": null,
   "metadata": {},
   "outputs": [],
   "source": []
  },
  {
   "cell_type": "code",
   "execution_count": 28,
   "metadata": {},
   "outputs": [],
   "source": [
    "k = 2000000\n",
    "\n",
    "d = data.iloc[:k, :]"
   ]
  },
  {
   "cell_type": "code",
   "execution_count": 29,
   "metadata": {},
   "outputs": [
    {
     "name": "stdout",
     "output_type": "stream",
     "text": [
      "41020 1001106 42009 998894\n",
      "z-stat = -3.8313339566141265\n",
      "p-value = 0.0001274503733863508\n"
     ]
    }
   ],
   "source": [
    "    xa = d[d.variant == 0].conversion.sum()\n",
    "    na = d[d.variant == 0].conversion.count()\n",
    "\n",
    "    xb = d[d.variant == 1].conversion.sum()\n",
    "    nb = d[d.variant == 1].conversion.count()\n",
    "\n",
    "    p = ztest_proportion_two_samples(xa, na, xb, nb, one_sided=False, verbose=True)"
   ]
  },
  {
   "cell_type": "code",
   "execution_count": 17,
   "metadata": {},
   "outputs": [
    {
     "data": {
      "text/plain": [
       "(0.0002441216148818537, 1500000)"
      ]
     },
     "execution_count": 17,
     "metadata": {},
     "output_type": "execute_result"
    }
   ],
   "source": [
    "CR_stat_test(data, 1500000, verbose=True)"
   ]
  },
  {
   "cell_type": "code",
   "execution_count": null,
   "metadata": {},
   "outputs": [],
   "source": []
  },
  {
   "cell_type": "code",
   "execution_count": 36,
   "metadata": {},
   "outputs": [],
   "source": [
    "pv = [CR_stat_test(data, 10000*i, verbose=False) for i in range(1,150)]"
   ]
  },
  {
   "cell_type": "code",
   "execution_count": 37,
   "metadata": {},
   "outputs": [
    {
     "data": {
      "text/plain": [
       "(0, 1)"
      ]
     },
     "execution_count": 37,
     "metadata": {},
     "output_type": "execute_result"
    },
    {
     "data": {
      "image/png": "[encoded data removed]",
      "text/plain": [
       "<Figure size 1008x432 with 1 Axes>"
      ]
     },
     "metadata": {},
     "output_type": "display_data"
    }
   ],
   "source": [
    "# P-value versus sample size\n",
    "fig, ax = plt.subplots(figsize=(14,6))    \n",
    "plot([dot[1] for dot in pv], [dot[0] for dot in pv])\n",
    "plot([0, 2000000], [0.05, 0.05], color='red', linestyle='dashed')\n",
    "\n",
    "\n",
    "title('P-Value', fontdict={'size':16})\n",
    "\n",
    "xlabel('split size')\n",
    "plt.grid(True)\n",
    "xlim(0, 1400000)\n",
    "ylim(0,1)"
   ]
  },
  {
   "cell_type": "code",
   "execution_count": null,
   "metadata": {},
   "outputs": [],
   "source": []
  },
  {
   "cell_type": "code",
   "execution_count": null,
   "metadata": {},
   "outputs": [],
   "source": []
  },
  {
   "cell_type": "code",
   "execution_count": null,
   "metadata": {},
   "outputs": [],
   "source": []
  },
  {
   "cell_type": "code",
   "execution_count": 38,
   "metadata": {},
   "outputs": [
    {
     "name": "stdout",
     "output_type": "stream",
     "text": [
      " z-stat = -3.8313339566141265 \n",
      " p-value = 0.00012745037338645645\n"
     ]
    }
   ],
   "source": [
    "# using statsmodels\n",
    "from statsmodels.stats.proportion import proportions_ztest\n",
    "\n",
    "count = np.array([xa, xb])\n",
    "nobs = np.array([na, nb])\n",
    "z,p = proportions_ztest(count, nobs, value=0, alternative='two-sided')\n",
    "print(' z-stat = {z} \\n p-value = {p}'.format(z=z,p=p))"
   ]
  },
  {
   "cell_type": "code",
   "execution_count": null,
   "metadata": {},
   "outputs": [],
   "source": []
  },
  {
   "cell_type": "code",
   "execution_count": null,
   "metadata": {},
   "outputs": [],
   "source": []
  },
  {
   "cell_type": "code",
   "execution_count": 41,
   "metadata": {},
   "outputs": [
    {
     "data": {
      "text/html": [
       "<div>\n",
       "<style scoped>\n",
       "    .dataframe tbody tr th:only-of-type {\n",
       "        vertical-align: middle;\n",
       "    }\n",
       "\n",
       "    .dataframe tbody tr th {\n",
       "        vertical-align: top;\n",
       "    }\n",
       "\n",
       "    .dataframe thead th {\n",
       "        text-align: right;\n",
       "    }\n",
       "</style>\n",
       "<table border=\"1\" class=\"dataframe\">\n",
       "  <thead>\n",
       "    <tr style=\"text-align: right;\">\n",
       "      <th></th>\n",
       "      <th>variant</th>\n",
       "      <th>ord_value</th>\n",
       "      <th>conversion</th>\n",
       "    </tr>\n",
       "  </thead>\n",
       "  <tbody>\n",
       "    <tr>\n",
       "      <th>474002</th>\n",
       "      <td>1</td>\n",
       "      <td>5756398</td>\n",
       "      <td>1</td>\n",
       "    </tr>\n",
       "    <tr>\n",
       "      <th>1305494</th>\n",
       "      <td>0</td>\n",
       "      <td>2802137</td>\n",
       "      <td>1</td>\n",
       "    </tr>\n",
       "    <tr>\n",
       "      <th>952734</th>\n",
       "      <td>0</td>\n",
       "      <td>1744850</td>\n",
       "      <td>1</td>\n",
       "    </tr>\n",
       "  </tbody>\n",
       "</table>\n",
       "</div>"
      ],
      "text/plain": [
       "         variant  ord_value  conversion\n",
       "474002         1    5756398           1\n",
       "1305494        0    2802137           1\n",
       "952734         0    1744850           1"
      ]
     },
     "execution_count": 41,
     "metadata": {},
     "output_type": "execute_result"
    }
   ],
   "source": [
    "data.sort_values(by='ord_value',ascending=False).head(3)"
   ]
  },
  {
   "cell_type": "code",
   "execution_count": 42,
   "metadata": {},
   "outputs": [
    {
     "name": "stdout",
     "output_type": "stream",
     "text": [
      "\n",
      "    Compute the Mann-Whitney rank test on samples x and y.\n",
      "\n",
      "    Parameters\n",
      "    ----------\n",
      "    x, y : array_like\n",
      "        Array of samples, should be one-dimensional.\n",
      "    use_continuity : bool, optional\n",
      "            Whether a continuity correction (1/2.) should be taken into\n",
      "            account. Default is True.\n",
      "    alternative : None (deprecated), 'less', 'two-sided', or 'greater'\n",
      "            Whether to get the p-value for the one-sided hypothesis ('less'\n",
      "            or 'greater') or for the two-sided hypothesis ('two-sided').\n",
      "            Defaults to None, which results in a p-value half the size of\n",
      "            the 'two-sided' p-value and a different U statistic. The\n",
      "            default behavior is not the same as using 'less' or 'greater':\n",
      "            it only exists for backward compatibility and is deprecated.\n",
      "\n",
      "    Returns\n",
      "    -------\n",
      "    statistic : float\n",
      "        The Mann-Whitney U statistic, equal to min(U for x, U for y) if\n",
      "        `alternative` is equal to None (deprecated; exists for backward\n",
      "        compatibility), and U for y otherwise.\n",
      "    pvalue : float\n",
      "        p-value assuming an asymptotic normal distribution. One-sided or\n",
      "        two-sided, depending on the choice of `alternative`.\n",
      "\n",
      "    Notes\n",
      "    -----\n",
      "    Use only when the number of observation in each sample is > 20 and\n",
      "    you have 2 independent samples of ranks. Mann-Whitney U is\n",
      "    significant if the u-obtained is LESS THAN or equal to the critical\n",
      "    value of U.\n",
      "\n",
      "    This test corrects for ties and by default uses a continuity correction.\n",
      "\n",
      "    References\n",
      "    ----------\n",
      "    .. [1] https://en.wikipedia.org/wiki/Mann-Whitney_U_test\n",
      "\n",
      "    .. [2] H.B. Mann and D.R. Whitney, \"On a Test of Whether one of Two Random\n",
      "           Variables is Stochastically Larger than the Other,\" The Annals of\n",
      "           Mathematical Statistics, vol. 18, no. 1, pp. 50-60, 1947.\n",
      "\n",
      "    \n"
     ]
    }
   ],
   "source": [
    "from scipy.stats import mannwhitneyu\n",
    "print(mannwhitneyu.__doc__)"
   ]
  },
  {
   "cell_type": "code",
   "execution_count": 50,
   "metadata": {},
   "outputs": [
    {
     "data": {
      "text/plain": [
       "6.954858201676086e-05"
      ]
     },
     "execution_count": 50,
     "metadata": {},
     "output_type": "execute_result"
    }
   ],
   "source": [
    "#d = data\n",
    "\n",
    "k = 2000000\n",
    "d = data.iloc[:k, :]\n",
    "\n",
    "test = d[d.variant == 1].ord_value\n",
    "control = d[d.variant == 0].ord_value\n",
    "\n",
    "mannwhitneyu(test, control, alternative='greater')[1]"
   ]
  },
  {
   "cell_type": "code",
   "execution_count": null,
   "metadata": {},
   "outputs": [],
   "source": []
  }
 ],
 "metadata": {
  "kernelspec": {
   "display_name": "Python 3",
   "language": "python",
   "name": "python3"
  },
  "language_info": {
   "codemirror_mode": {
    "name": "ipython",
    "version": 3
   },
   "file_extension": ".py",
   "mimetype": "text/x-python",
   "name": "python",
   "nbconvert_exporter": "python",
   "pygments_lexer": "ipython3",
   "version": "3.7.0"
  }
 },
 "nbformat": 4,
 "nbformat_minor": 2
}
