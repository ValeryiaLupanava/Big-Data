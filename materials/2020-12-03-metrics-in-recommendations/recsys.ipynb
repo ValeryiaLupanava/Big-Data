{
  "nbformat": 4,
  "nbformat_minor": 0,
  "metadata": {
    "kernelspec": {
      "display_name": "Python 3.7 - Spark (local)",
      "language": "python",
      "name": "spark-3-python"
    },
    "language_info": {
      "codemirror_mode": {
        "name": "ipython",
        "version": 3
      },
      "file_extension": ".py",
      "mimetype": "text/x-python",
      "name": "python",
      "nbconvert_exporter": "python",
      "pygments_lexer": "ipython3",
      "version": "3.7.9"
    },
    "colab": {
      "name": "recsys.ipynb",
      "provenance": []
    }
  },
  "cells": [
    {
      "cell_type": "markdown",
      "metadata": {
        "id": "c3W_5Wt29LAi"
      },
      "source": [
        "# Будем использовать Spark\n",
        "\n",
        "https://spark.apache.org/docs/latest/rdd-programming-guide.html\n",
        "\n",
        "http://spark.apache.org/docs/latest/sql-getting-started.html"
      ]
    },
    {
      "cell_type": "code",
      "metadata": {
        "id": "ZhUsk8Hi9LAi"
      },
      "source": [
        "import pyspark\n",
        "from pyspark.sql import SparkSession, Row\n",
        "sc = spark.sparkContext\n",
        "se = spark"
      ],
      "execution_count": null,
      "outputs": []
    },
    {
      "cell_type": "markdown",
      "metadata": {
        "id": "ZMa4m3ba9LAj"
      },
      "source": [
        "# Датасет Яндекс.Музыка"
      ]
    },
    {
      "cell_type": "code",
      "metadata": {
        "scrolled": false,
        "id": "wUklg6jl9LAj",
        "outputId": "61654c5b-fbc6-4523-9f28-eaef98fee777"
      },
      "source": [
        "! head -n 5 artists.jsonl"
      ],
      "execution_count": null,
      "outputs": [
        {
          "output_type": "stream",
          "text": [
            "{\"artistId\":0,\"artistName\":\"Mack Gordon\"}\r\n",
            "{\"artistId\":1,\"artistName\":\"Kenny Dorham\"}\r\n",
            "{\"artistId\":2,\"artistName\":\"Max Roach\"}\r\n",
            "{\"artistId\":3,\"artistName\":\"Francis Rossi\"}\r\n",
            "{\"artistId\":4,\"artistName\":\"Status Quo\"}\r\n"
          ],
          "name": "stdout"
        }
      ]
    },
    {
      "cell_type": "code",
      "metadata": {
        "id": "Ct8w55bc9LAk",
        "outputId": "e4f2087a-78a7-42c2-a47c-18e832291c51"
      },
      "source": [
        "! head -n 5 events.csv"
      ],
      "execution_count": null,
      "outputs": [
        {
          "output_type": "stream",
          "text": [
            "userId,artistId,plays,skips\r\n",
            "0,335,1,0\r\n",
            "0,708,1,0\r\n",
            "0,710,2,1\r\n",
            "0,815,1,1\r\n"
          ],
          "name": "stdout"
        }
      ]
    },
    {
      "cell_type": "markdown",
      "metadata": {
        "id": "2yXr8x2f9LAk"
      },
      "source": [
        "# Загружаем данные"
      ]
    },
    {
      "cell_type": "code",
      "metadata": {
        "id": "7FZu3Dzv9LAk",
        "outputId": "24ce5154-5e1b-4204-f5be-30c9f92f3a81"
      },
      "source": [
        "artists = se.read.json(\"artists.jsonl\")\n",
        "artists.registerTempTable(\"artists\")\n",
        "artists.limit(5).toPandas()"
      ],
      "execution_count": null,
      "outputs": [
        {
          "output_type": "execute_result",
          "data": {
            "text/html": [
              "<div>\n",
              "<style scoped>\n",
              "    .dataframe tbody tr th:only-of-type {\n",
              "        vertical-align: middle;\n",
              "    }\n",
              "\n",
              "    .dataframe tbody tr th {\n",
              "        vertical-align: top;\n",
              "    }\n",
              "\n",
              "    .dataframe thead th {\n",
              "        text-align: right;\n",
              "    }\n",
              "</style>\n",
              "<table border=\"1\" class=\"dataframe\">\n",
              "  <thead>\n",
              "    <tr style=\"text-align: right;\">\n",
              "      <th></th>\n",
              "      <th>artistId</th>\n",
              "      <th>artistName</th>\n",
              "    </tr>\n",
              "  </thead>\n",
              "  <tbody>\n",
              "    <tr>\n",
              "      <th>0</th>\n",
              "      <td>0</td>\n",
              "      <td>Mack Gordon</td>\n",
              "    </tr>\n",
              "    <tr>\n",
              "      <th>1</th>\n",
              "      <td>1</td>\n",
              "      <td>Kenny Dorham</td>\n",
              "    </tr>\n",
              "    <tr>\n",
              "      <th>2</th>\n",
              "      <td>2</td>\n",
              "      <td>Max Roach</td>\n",
              "    </tr>\n",
              "    <tr>\n",
              "      <th>3</th>\n",
              "      <td>3</td>\n",
              "      <td>Francis Rossi</td>\n",
              "    </tr>\n",
              "    <tr>\n",
              "      <th>4</th>\n",
              "      <td>4</td>\n",
              "      <td>Status Quo</td>\n",
              "    </tr>\n",
              "  </tbody>\n",
              "</table>\n",
              "</div>"
            ],
            "text/plain": [
              "   artistId     artistName\n",
              "0         0    Mack Gordon\n",
              "1         1   Kenny Dorham\n",
              "2         2      Max Roach\n",
              "3         3  Francis Rossi\n",
              "4         4     Status Quo"
            ]
          },
          "metadata": {
            "tags": []
          },
          "execution_count": 4
        }
      ]
    },
    {
      "cell_type": "code",
      "metadata": {
        "id": "c3Mk-VQ89LAk",
        "outputId": "1215787b-fa25-48a8-fd28-278b32f4b6d1"
      },
      "source": [
        "events = se.read.csv(\"events.csv\", header=True, \n",
        "                     schema='userId bigint, artistId bigint, plays INT, skips INT')\n",
        "events.registerTempTable(\"events\")\n",
        "events.limit(5).toPandas()"
      ],
      "execution_count": null,
      "outputs": [
        {
          "output_type": "execute_result",
          "data": {
            "text/html": [
              "<div>\n",
              "<style scoped>\n",
              "    .dataframe tbody tr th:only-of-type {\n",
              "        vertical-align: middle;\n",
              "    }\n",
              "\n",
              "    .dataframe tbody tr th {\n",
              "        vertical-align: top;\n",
              "    }\n",
              "\n",
              "    .dataframe thead th {\n",
              "        text-align: right;\n",
              "    }\n",
              "</style>\n",
              "<table border=\"1\" class=\"dataframe\">\n",
              "  <thead>\n",
              "    <tr style=\"text-align: right;\">\n",
              "      <th></th>\n",
              "      <th>userId</th>\n",
              "      <th>artistId</th>\n",
              "      <th>plays</th>\n",
              "      <th>skips</th>\n",
              "    </tr>\n",
              "  </thead>\n",
              "  <tbody>\n",
              "    <tr>\n",
              "      <th>0</th>\n",
              "      <td>0</td>\n",
              "      <td>335</td>\n",
              "      <td>1</td>\n",
              "      <td>0</td>\n",
              "    </tr>\n",
              "    <tr>\n",
              "      <th>1</th>\n",
              "      <td>0</td>\n",
              "      <td>708</td>\n",
              "      <td>1</td>\n",
              "      <td>0</td>\n",
              "    </tr>\n",
              "    <tr>\n",
              "      <th>2</th>\n",
              "      <td>0</td>\n",
              "      <td>710</td>\n",
              "      <td>2</td>\n",
              "      <td>1</td>\n",
              "    </tr>\n",
              "    <tr>\n",
              "      <th>3</th>\n",
              "      <td>0</td>\n",
              "      <td>815</td>\n",
              "      <td>1</td>\n",
              "      <td>1</td>\n",
              "    </tr>\n",
              "    <tr>\n",
              "      <th>4</th>\n",
              "      <td>0</td>\n",
              "      <td>880</td>\n",
              "      <td>1</td>\n",
              "      <td>1</td>\n",
              "    </tr>\n",
              "  </tbody>\n",
              "</table>\n",
              "</div>"
            ],
            "text/plain": [
              "   userId  artistId  plays  skips\n",
              "0       0       335      1      0\n",
              "1       0       708      1      0\n",
              "2       0       710      2      1\n",
              "3       0       815      1      1\n",
              "4       0       880      1      1"
            ]
          },
          "metadata": {
            "tags": []
          },
          "execution_count": 5
        }
      ]
    },
    {
      "cell_type": "code",
      "metadata": {
        "id": "XGcuIfW29LAl",
        "outputId": "ce06c889-8cdc-4569-b0ff-a348c9bda158"
      },
      "source": [
        "%%time\n",
        "# статистики\n",
        "se.sql(\"\"\"\n",
        "select\n",
        "    count(distinct userId) as users,\n",
        "    count(distinct artistId) as artists,\n",
        "    count(*) as interactions,\n",
        "    count(*) / (count(distinct userId) * count(distinct artistId)) as density\n",
        "from \n",
        "    events\n",
        "\"\"\").toPandas()"
      ],
      "execution_count": null,
      "outputs": [
        {
          "output_type": "stream",
          "text": [
            "CPU times: user 4.57 ms, sys: 7.24 ms, total: 11.8 ms\n",
            "Wall time: 9.94 s\n"
          ],
          "name": "stdout"
        },
        {
          "output_type": "execute_result",
          "data": {
            "text/html": [
              "<div>\n",
              "<style scoped>\n",
              "    .dataframe tbody tr th:only-of-type {\n",
              "        vertical-align: middle;\n",
              "    }\n",
              "\n",
              "    .dataframe tbody tr th {\n",
              "        vertical-align: top;\n",
              "    }\n",
              "\n",
              "    .dataframe thead th {\n",
              "        text-align: right;\n",
              "    }\n",
              "</style>\n",
              "<table border=\"1\" class=\"dataframe\">\n",
              "  <thead>\n",
              "    <tr style=\"text-align: right;\">\n",
              "      <th></th>\n",
              "      <th>users</th>\n",
              "      <th>artists</th>\n",
              "      <th>interactions</th>\n",
              "      <th>density</th>\n",
              "    </tr>\n",
              "  </thead>\n",
              "  <tbody>\n",
              "    <tr>\n",
              "      <th>0</th>\n",
              "      <td>4999</td>\n",
              "      <td>53031</td>\n",
              "      <td>3412504</td>\n",
              "      <td>0.012872</td>\n",
              "    </tr>\n",
              "  </tbody>\n",
              "</table>\n",
              "</div>"
            ],
            "text/plain": [
              "   users  artists  interactions   density\n",
              "0   4999    53031       3412504  0.012872"
            ]
          },
          "metadata": {
            "tags": []
          },
          "execution_count": 6
        }
      ]
    },
    {
      "cell_type": "code",
      "metadata": {
        "scrolled": true,
        "id": "o5gG2WMs9LAl",
        "outputId": "8172e589-04bf-4277-c7e5-371d1e119685"
      },
      "source": [
        "%%time\n",
        "# самые популярные исполнители\n",
        "se.sql(\"\"\"\n",
        "select\n",
        "    artists.artistName,\n",
        "    sum(plays) as popularity\n",
        "from \n",
        "    events join artists on events.artistId = artists.artistId\n",
        "group by artistName\n",
        "order by popularity desc\n",
        "limit 30\n",
        "\"\"\").toPandas()"
      ],
      "execution_count": null,
      "outputs": [
        {
          "output_type": "stream",
          "text": [
            "CPU times: user 11 ms, sys: 0 ns, total: 11 ms\n",
            "Wall time: 4.91 s\n"
          ],
          "name": "stdout"
        },
        {
          "output_type": "execute_result",
          "data": {
            "text/html": [
              "<div>\n",
              "<style scoped>\n",
              "    .dataframe tbody tr th:only-of-type {\n",
              "        vertical-align: middle;\n",
              "    }\n",
              "\n",
              "    .dataframe tbody tr th {\n",
              "        vertical-align: top;\n",
              "    }\n",
              "\n",
              "    .dataframe thead th {\n",
              "        text-align: right;\n",
              "    }\n",
              "</style>\n",
              "<table border=\"1\" class=\"dataframe\">\n",
              "  <thead>\n",
              "    <tr style=\"text-align: right;\">\n",
              "      <th></th>\n",
              "      <th>artistName</th>\n",
              "      <th>popularity</th>\n",
              "    </tr>\n",
              "  </thead>\n",
              "  <tbody>\n",
              "    <tr>\n",
              "      <th>0</th>\n",
              "      <td>Imagine Dragons</td>\n",
              "      <td>43447</td>\n",
              "    </tr>\n",
              "    <tr>\n",
              "      <th>1</th>\n",
              "      <td>Би-2</td>\n",
              "      <td>29415</td>\n",
              "    </tr>\n",
              "    <tr>\n",
              "      <th>2</th>\n",
              "      <td>Баста</td>\n",
              "      <td>27264</td>\n",
              "    </tr>\n",
              "    <tr>\n",
              "      <th>3</th>\n",
              "      <td>Ленинград</td>\n",
              "      <td>26311</td>\n",
              "    </tr>\n",
              "    <tr>\n",
              "      <th>4</th>\n",
              "      <td>Сплин</td>\n",
              "      <td>25062</td>\n",
              "    </tr>\n",
              "    <tr>\n",
              "      <th>5</th>\n",
              "      <td>Queen</td>\n",
              "      <td>24905</td>\n",
              "    </tr>\n",
              "    <tr>\n",
              "      <th>6</th>\n",
              "      <td>Sia</td>\n",
              "      <td>22803</td>\n",
              "    </tr>\n",
              "    <tr>\n",
              "      <th>7</th>\n",
              "      <td>LOBODA</td>\n",
              "      <td>21923</td>\n",
              "    </tr>\n",
              "    <tr>\n",
              "      <th>8</th>\n",
              "      <td>Noize MC</td>\n",
              "      <td>21774</td>\n",
              "    </tr>\n",
              "    <tr>\n",
              "      <th>9</th>\n",
              "      <td>Linkin Park</td>\n",
              "      <td>21584</td>\n",
              "    </tr>\n",
              "    <tr>\n",
              "      <th>10</th>\n",
              "      <td>Монеточка</td>\n",
              "      <td>21564</td>\n",
              "    </tr>\n",
              "    <tr>\n",
              "      <th>11</th>\n",
              "      <td>Miyagi &amp; Эндшпиль</td>\n",
              "      <td>20349</td>\n",
              "    </tr>\n",
              "    <tr>\n",
              "      <th>12</th>\n",
              "      <td>Макс Корж</td>\n",
              "      <td>20065</td>\n",
              "    </tr>\n",
              "    <tr>\n",
              "      <th>13</th>\n",
              "      <td>Jah Khalib</td>\n",
              "      <td>20024</td>\n",
              "    </tr>\n",
              "    <tr>\n",
              "      <th>14</th>\n",
              "      <td>Егор Крид</td>\n",
              "      <td>19606</td>\n",
              "    </tr>\n",
              "    <tr>\n",
              "      <th>15</th>\n",
              "      <td>Oxxxymiron</td>\n",
              "      <td>18989</td>\n",
              "    </tr>\n",
              "    <tr>\n",
              "      <th>16</th>\n",
              "      <td>Земфира</td>\n",
              "      <td>18845</td>\n",
              "    </tr>\n",
              "    <tr>\n",
              "      <th>17</th>\n",
              "      <td>Кино</td>\n",
              "      <td>18326</td>\n",
              "    </tr>\n",
              "    <tr>\n",
              "      <th>18</th>\n",
              "      <td>David Guetta</td>\n",
              "      <td>16538</td>\n",
              "    </tr>\n",
              "    <tr>\n",
              "      <th>19</th>\n",
              "      <td>Полина Гагарина</td>\n",
              "      <td>15775</td>\n",
              "    </tr>\n",
              "    <tr>\n",
              "      <th>20</th>\n",
              "      <td>Макс Барских</td>\n",
              "      <td>15733</td>\n",
              "    </tr>\n",
              "    <tr>\n",
              "      <th>21</th>\n",
              "      <td>Twenty One Pilots</td>\n",
              "      <td>15551</td>\n",
              "    </tr>\n",
              "    <tr>\n",
              "      <th>22</th>\n",
              "      <td>Eminem</td>\n",
              "      <td>14911</td>\n",
              "    </tr>\n",
              "    <tr>\n",
              "      <th>23</th>\n",
              "      <td>Король и Шут</td>\n",
              "      <td>14764</td>\n",
              "    </tr>\n",
              "    <tr>\n",
              "      <th>24</th>\n",
              "      <td>Мот</td>\n",
              "      <td>14378</td>\n",
              "    </tr>\n",
              "    <tr>\n",
              "      <th>25</th>\n",
              "      <td>Елена Темникова</td>\n",
              "      <td>14260</td>\n",
              "    </tr>\n",
              "    <tr>\n",
              "      <th>26</th>\n",
              "      <td>Элджей</td>\n",
              "      <td>13935</td>\n",
              "    </tr>\n",
              "    <tr>\n",
              "      <th>27</th>\n",
              "      <td>Мумий Тролль</td>\n",
              "      <td>13564</td>\n",
              "    </tr>\n",
              "    <tr>\n",
              "      <th>28</th>\n",
              "      <td>Григорий Лепс</td>\n",
              "      <td>13366</td>\n",
              "    </tr>\n",
              "    <tr>\n",
              "      <th>29</th>\n",
              "      <td>Muse</td>\n",
              "      <td>12337</td>\n",
              "    </tr>\n",
              "  </tbody>\n",
              "</table>\n",
              "</div>"
            ],
            "text/plain": [
              "           artistName  popularity\n",
              "0     Imagine Dragons       43447\n",
              "1                Би-2       29415\n",
              "2               Баста       27264\n",
              "3           Ленинград       26311\n",
              "4               Сплин       25062\n",
              "5               Queen       24905\n",
              "6                 Sia       22803\n",
              "7              LOBODA       21923\n",
              "8            Noize MC       21774\n",
              "9         Linkin Park       21584\n",
              "10          Монеточка       21564\n",
              "11  Miyagi & Эндшпиль       20349\n",
              "12          Макс Корж       20065\n",
              "13         Jah Khalib       20024\n",
              "14          Егор Крид       19606\n",
              "15         Oxxxymiron       18989\n",
              "16            Земфира       18845\n",
              "17               Кино       18326\n",
              "18       David Guetta       16538\n",
              "19    Полина Гагарина       15775\n",
              "20       Макс Барских       15733\n",
              "21  Twenty One Pilots       15551\n",
              "22             Eminem       14911\n",
              "23       Король и Шут       14764\n",
              "24                Мот       14378\n",
              "25    Елена Темникова       14260\n",
              "26             Элджей       13935\n",
              "27       Мумий Тролль       13564\n",
              "28      Григорий Лепс       13366\n",
              "29               Muse       12337"
            ]
          },
          "metadata": {
            "tags": []
          },
          "execution_count": 7
        }
      ]
    },
    {
      "cell_type": "markdown",
      "metadata": {
        "id": "KOozgrne9LAl"
      },
      "source": [
        "# Обучаем iALS\n",
        "\n",
        "Будем считать, что рейтинг – это plays"
      ]
    },
    {
      "cell_type": "code",
      "metadata": {
        "id": "6Gd26Ysz9LAl",
        "outputId": "758ce91d-4c6d-44bb-8673-e3491556b578"
      },
      "source": [
        "%%time\n",
        "train, test = events.rdd.randomSplit([0.95, 0.05], seed=0)\n",
        "\n",
        "# кэшируем для скорости, будем обращаться несколько раз\n",
        "train.cache()\n",
        "test.cache()\n",
        "\n",
        "train.count()\n",
        "test.count()"
      ],
      "execution_count": null,
      "outputs": [
        {
          "output_type": "stream",
          "text": [
            "CPU times: user 18.4 ms, sys: 7.98 ms, total: 26.3 ms\n",
            "Wall time: 23.7 s\n"
          ],
          "name": "stdout"
        },
        {
          "output_type": "execute_result",
          "data": {
            "text/plain": [
              "170048"
            ]
          },
          "metadata": {
            "tags": []
          },
          "execution_count": 8
        }
      ]
    },
    {
      "cell_type": "code",
      "metadata": {
        "id": "XWY3l6-a9LAl",
        "outputId": "31469c42-d66e-44a9-fea5-0d5eaff3e219"
      },
      "source": [
        "train.take(5)"
      ],
      "execution_count": null,
      "outputs": [
        {
          "output_type": "execute_result",
          "data": {
            "text/plain": [
              "[Row(userId=0, artistId=335, plays=1, skips=0),\n",
              " Row(userId=0, artistId=708, plays=1, skips=0),\n",
              " Row(userId=0, artistId=710, plays=2, skips=1),\n",
              " Row(userId=0, artistId=815, plays=1, skips=1),\n",
              " Row(userId=0, artistId=880, plays=1, skips=1)]"
            ]
          },
          "metadata": {
            "tags": []
          },
          "execution_count": 9
        }
      ]
    },
    {
      "cell_type": "code",
      "metadata": {
        "id": "D7D1RCtD9LAl",
        "outputId": "79b5a599-f2d3-47ce-f214-0ca295b99718"
      },
      "source": [
        "%%time\n",
        "from pyspark.mllib.recommendation import ALS\n",
        "import numpy as np\n",
        "model = ALS().trainImplicit(\n",
        "    train.map(lambda x: (x.userId, x.artistId, np.log2(x.plays + 1))),\n",
        "    rank=32, iterations=10, lambda_=0.01, alpha=10.0, seed=0\n",
        ")\n",
        "\n",
        "conf = 1 + alpha * log(plays + 1)\n",
        "pref = log(plays + 1) > 0?"
      ],
      "execution_count": null,
      "outputs": [
        {
          "output_type": "stream",
          "text": [
            "CPU times: user 36.4 ms, sys: 6.48 ms, total: 42.9 ms\n",
            "Wall time: 43.2 s\n"
          ],
          "name": "stdout"
        }
      ]
    },
    {
      "cell_type": "code",
      "metadata": {
        "id": "Vpk9w0B-9LAl",
        "outputId": "ad657da0-7266-486c-daf2-53e0afb7eb4a"
      },
      "source": [
        "# достаем все профили исполнителей\n",
        "import numpy as np\n",
        "\n",
        "artist_to_name = {}\n",
        "for row in artists.collect():\n",
        "    artist_to_name[row.artistId] = row.artistName\n",
        "\n",
        "artist_ids = []\n",
        "artist_names = []\n",
        "artist_profiles = []\n",
        "\n",
        "for artistId, profile in model.productFeatures().collect():\n",
        "    artist_ids.append(artistId)\n",
        "    artist_names.append(artist_to_name[artistId])\n",
        "    artist_profiles.append(profile)\n",
        "\n",
        "artist_ids = np.array(artist_ids)\n",
        "artist_names = np.array(artist_names)\n",
        "artist_profiles = np.vstack(artist_profiles)\n",
        "print(artist_profiles.shape)"
      ],
      "execution_count": null,
      "outputs": [
        {
          "output_type": "stream",
          "text": [
            "(52657, 32)\n"
          ],
          "name": "stdout"
        }
      ]
    },
    {
      "cell_type": "markdown",
      "metadata": {
        "id": "9cnVz46X9LAl"
      },
      "source": [
        "# Похожести исполнителей"
      ]
    },
    {
      "cell_type": "code",
      "metadata": {
        "id": "NgAuX5Cp9LAl",
        "outputId": "aa469987-7dbf-429b-ddf5-4681f353917b"
      },
      "source": [
        "target_artists = {index: v \n",
        "                  for index, v in enumerate(artist_names) \n",
        "                  if \"Led Zeppelin\" == v or \"50 Cent\" == v or \"AC/DC\" == v}\n",
        "target_artists"
      ],
      "execution_count": null,
      "outputs": [
        {
          "output_type": "execute_result",
          "data": {
            "text/plain": [
              "{19576: 'AC/DC', 39708: '50 Cent', 46770: 'Led Zeppelin'}"
            ]
          },
          "metadata": {
            "tags": []
          },
          "execution_count": 14
        }
      ]
    },
    {
      "cell_type": "code",
      "metadata": {
        "id": "zDnkoWnW9LAl",
        "outputId": "d06695ed-2113-48ae-828b-e50bcfb8c904"
      },
      "source": [
        "import scipy\n",
        "import scipy.spatial\n",
        "\n",
        "for index, name in target_artists.items():\n",
        "    print(\"#############\", name, \"#############\")\n",
        "    \n",
        "    cosines = (-scipy.spatial.distance.cdist([artist_profiles[index]], artist_profiles, metric='cosine') + 1)[0]\n",
        "    cosines[np.isnan(cosines)] = -1e20\n",
        "\n",
        "    for idx in np.argsort(cosines)[::-1][:10]:\n",
        "        print(artist_names[idx], \"\\t\", cosines[idx])"
      ],
      "execution_count": null,
      "outputs": [
        {
          "output_type": "stream",
          "text": [
            "############# AC/DC #############\n",
            "AC/DC \t 1.0\n",
            "The Offspring \t 0.8920983660176897\n",
            "Nirvana \t 0.869637282794584\n",
            "Red Hot Chili Peppers \t 0.8636267038822294\n",
            "Metallica \t 0.8588127269321177\n",
            "System of A Down \t 0.8548621643954725\n",
            "Bon Jovi \t 0.8430942520155917\n",
            "Limp Bizkit \t 0.8370104483034991\n",
            "Nickelback \t 0.8320685883899654\n",
            "Kiss \t 0.8268261566662816\n",
            "############# 50 Cent #############\n",
            "50 Cent \t 1.0\n",
            "Dr. Dre \t 0.8901604614284715\n",
            "2Chainz \t 0.8311867507297994\n",
            "Lloyd Banks \t 0.8245230568564915\n",
            "Ludacris \t 0.8191309370754879\n",
            "Fat Joe \t 0.809364906119338\n",
            "Jay-Z \t 0.8060270943142882\n",
            "Cashis \t 0.8050292055930613\n",
            "Missy  Elliott \t 0.7990513407065353\n",
            "Akon \t 0.7939836276765622\n",
            "############# Led Zeppelin #############\n",
            "Led Zeppelin \t 1.0\n",
            "The Rolling Stones \t 0.9450603019905758\n",
            "The Doors \t 0.9412713431930472\n",
            "Guns N' Roses \t 0.9025949012228445\n",
            "Bob  Dylan \t 0.8825744315861317\n",
            "Pink Floyd \t 0.8665565712846943\n",
            "Deep Purple \t 0.8592175257359826\n",
            "Aerosmith \t 0.8544523351053174\n",
            "Ozzy Osbourne \t 0.8427703981778234\n",
            "David Bowie \t 0.8414448909520809\n"
          ],
          "name": "stdout"
        }
      ]
    },
    {
      "cell_type": "markdown",
      "metadata": {
        "id": "WrPL5u-L9LAl"
      },
      "source": [
        "# NDCG"
      ]
    },
    {
      "cell_type": "code",
      "metadata": {
        "id": "hDKzGj1T9LAl"
      },
      "source": [
        "def dcg(ratings):\n",
        "    return float(np.sum((2 ** np.array(ratings, np.float32) - 1) / np.log2(np.arange(1, len(ratings) + 1) + 1)))\n",
        "\n",
        "\n",
        "def ndcg(ratings, at=None):\n",
        "    idcg = dcg(sorted(ratings, reverse=True))\n",
        "    return dcg(ratings) / idcg if idcg > 0 else 0\n",
        "\n",
        "\n",
        "def ndcg_score(y_true, y_pred):\n",
        "    assert y_true.shape == y_pred.shape\n",
        "    order = np.argsort(y_pred)[::-1]\n",
        "    return ndcg(y_true[order])\n",
        "\n",
        "\n",
        "# tests\n",
        "def test1():\n",
        "    y_true = np.array([  0,   0,   2,   1,   0])\n",
        "    y_pred = np.array([0.2, 0.1, 0.5, 0.3, 0.4])\n",
        "    correct_ndcg = (3 / np.log(1 + 1) + 1 / np.log(3 + 1)) / (3 / np.log(1 + 1) + 1 / np.log(2 + 1))\n",
        "    assert np.allclose(ndcg_score(y_true, y_pred), correct_ndcg)\n",
        "\n",
        "    \n",
        "def test2():\n",
        "    y_true = np.array([  0,   0,   0,   0,   0])\n",
        "    y_pred = np.array([0.2, 0.1, 0.5, 0.3, 0.4])\n",
        "    assert np.allclose(ndcg_score(y_true, y_pred), 0.0)\n",
        "\n",
        "    \n",
        "def test3():\n",
        "    y_true = np.array([  1,   0,   0,   0,   0])\n",
        "    y_pred = np.array([0.2, 0.1, 0.5, 0.3, 0.4])\n",
        "    correct_ndcg = (1 / np.log(4 + 1)) / (1 / np.log(1 + 1))\n",
        "    assert np.allclose(ndcg_score(y_true, y_pred), correct_ndcg)\n",
        "\n",
        "\n",
        "test1()\n",
        "test2()\n",
        "test3()"
      ],
      "execution_count": null,
      "outputs": []
    },
    {
      "cell_type": "code",
      "metadata": {
        "id": "_w17Z8iw9LAl",
        "outputId": "3f33d6ff-f2bd-4e91-a1df-b8f1a1ffbc50"
      },
      "source": [
        "print(dcg([5, 4, 3, 2, 1]))\n",
        "print(dcg([3, 4, 5, 2, 1]))\n",
        "print(dcg([5, 4, 1, 2, 3]))"
      ],
      "execution_count": null,
      "outputs": [
        {
          "output_type": "stream",
          "text": [
            "45.64282878502658\n",
            "33.64282878502658\n",
            "44.963945628433834\n"
          ],
          "name": "stdout"
        }
      ]
    },
    {
      "cell_type": "markdown",
      "metadata": {
        "id": "4XLIJZl79LAl"
      },
      "source": [
        "# Считаем NDCG для базового решения\n",
        "\n",
        "Всегда ранжируем исполнителей по популярности"
      ]
    },
    {
      "cell_type": "code",
      "metadata": {
        "id": "tjv_svDG9LAl"
      },
      "source": [
        "artist_to_popularity = (\n",
        "    train\n",
        "    .map(lambda x: (x.artistId, x.plays))\n",
        "    .reduceByKey(lambda a, b: a + b)\n",
        "    .collect()\n",
        ")\n",
        "\n",
        "artist_to_popularity = {a: p for a, p in artist_to_popularity}"
      ],
      "execution_count": null,
      "outputs": []
    },
    {
      "cell_type": "code",
      "metadata": {
        "id": "Xsx8nJ5F9LAl"
      },
      "source": [
        "predictions_and_ratings_per_user = (\n",
        "    test\n",
        "    .map(lambda x: (x.userId, (artist_to_popularity.get(x.artistId, 0), np.log2(x.plays + 1))))\n",
        "    .groupByKey()\n",
        "    .map(lambda x: (x[0], list(x[1])))\n",
        ")"
      ],
      "execution_count": null,
      "outputs": []
    },
    {
      "cell_type": "code",
      "metadata": {
        "scrolled": true,
        "id": "15Q9RNg19LAl",
        "outputId": "cca125a0-0bae-4bce-884a-d8f4938ddff9"
      },
      "source": [
        "predictions_and_ratings_per_user.take(1)"
      ],
      "execution_count": null,
      "outputs": [
        {
          "output_type": "execute_result",
          "data": {
            "text/plain": [
              "[(0,\n",
              "  [(2393, 1.0),\n",
              "   (21848, 3.321928094887362),\n",
              "   (624, 1.0),\n",
              "   (7273, 1.0),\n",
              "   (900, 1.584962500721156),\n",
              "   (494, 1.584962500721156),\n",
              "   (4011, 1.0),\n",
              "   (2271, 1.584962500721156),\n",
              "   (788, 1.0),\n",
              "   (1024, 1.584962500721156),\n",
              "   (4428, 3.584962500721156),\n",
              "   (230, 1.0),\n",
              "   (1515, 1.0),\n",
              "   (2313, 1.584962500721156),\n",
              "   (1243, 2.321928094887362),\n",
              "   (5501, 2.321928094887362),\n",
              "   (7768, 5.977279923499917),\n",
              "   (783, 1.0),\n",
              "   (4757, 1.584962500721156),\n",
              "   (1228, 1.0),\n",
              "   (47, 0.0),\n",
              "   (4281, 0.0),\n",
              "   (3577, 0.0),\n",
              "   (1263, 0.0),\n",
              "   (2080, 0.0),\n",
              "   (181, 0.0),\n",
              "   (1763, 0.0),\n",
              "   (975, 0.0),\n",
              "   (6877, 0.0),\n",
              "   (9, 0.0),\n",
              "   (276, 0.0),\n",
              "   (3294, 0.0),\n",
              "   (5314, 0.0),\n",
              "   (444, 0.0),\n",
              "   (54, 0.0),\n",
              "   (751, 0.0)])]"
            ]
          },
          "metadata": {
            "tags": []
          },
          "execution_count": 20
        }
      ]
    },
    {
      "cell_type": "code",
      "metadata": {
        "id": "CDnOShEj9LAm",
        "outputId": "e0647fdd-dcde-463d-8fff-6b7c171bc484"
      },
      "source": [
        "def ndcg_for_user(x):\n",
        "    y_pred = np.array([e[0] for e in x])\n",
        "    y_true = np.array([e[1] for e in x])\n",
        "    return ndcg_score(y_true, y_pred)\n",
        "    \n",
        "(\n",
        "    predictions_and_ratings_per_user\n",
        "    .map(lambda x: ndcg_for_user(x[1]))\n",
        "    .mean()\n",
        ")"
      ],
      "execution_count": null,
      "outputs": [
        {
          "output_type": "execute_result",
          "data": {
            "text/plain": [
              "0.6641733135543155"
            ]
          },
          "metadata": {
            "tags": []
          },
          "execution_count": 21
        }
      ]
    },
    {
      "cell_type": "markdown",
      "metadata": {
        "id": "GgYnyPFA9LAm"
      },
      "source": [
        "# NDCG для iALS"
      ]
    },
    {
      "cell_type": "code",
      "metadata": {
        "id": "oz04CM279LAm"
      },
      "source": [
        "predictions = (\n",
        "    model\n",
        "    .predictAll(test.map(lambda x: (x.userId, x.artistId)))\n",
        "    .map(lambda x: ((x[0], x[1]), x[2]))\n",
        ")"
      ],
      "execution_count": null,
      "outputs": []
    },
    {
      "cell_type": "code",
      "metadata": {
        "id": "mf_mVHwZ9LAm",
        "outputId": "1ecdb15d-8336-4d66-89df-c7f689e0610b"
      },
      "source": [
        "predictions.take(5)"
      ],
      "execution_count": null,
      "outputs": [
        {
          "output_type": "execute_result",
          "data": {
            "text/plain": [
              "[((2760, 57436), 0.3116623521863906),\n",
              " ((3013, 57436), 0.38307138485970177),\n",
              " ((4698, 57436), 0.6615872307063082),\n",
              " ((679, 57436), 0.2201103537036474),\n",
              " ((4031, 57436), 0.2704980830675262)]"
            ]
          },
          "metadata": {
            "tags": []
          },
          "execution_count": 24
        }
      ]
    },
    {
      "cell_type": "code",
      "metadata": {
        "id": "nefZ008w9LAm"
      },
      "source": [
        "predictions_and_ratings_per_user = (\n",
        "    predictions\n",
        "    .join(test.map(lambda x: ((x.userId, x.artistId), np.log2(x.plays + 1))))\n",
        "    .map(lambda x: (x[0][0], x[1]))\n",
        "    .groupByKey()\n",
        "    .map(lambda x: (x[0], list(x[1])))\n",
        ")"
      ],
      "execution_count": null,
      "outputs": []
    },
    {
      "cell_type": "code",
      "metadata": {
        "scrolled": false,
        "id": "1nAQzwxS9LAm",
        "outputId": "8ba209c8-8f48-4019-fe34-f21d01c957d9"
      },
      "source": [
        "predictions_and_ratings_per_user.take(1)"
      ],
      "execution_count": null,
      "outputs": [
        {
          "output_type": "execute_result",
          "data": {
            "text/plain": [
              "[(424,\n",
              "  [(0.4947066591796494, 0.0),\n",
              "   (0.07256945746376073, 1.0),\n",
              "   (1.0418824718617612, 1.0),\n",
              "   (0.8732245315003361, 3.0),\n",
              "   (0.7800387958389986, 0.0),\n",
              "   (0.5205558335897855, 1.0),\n",
              "   (0.8574898932174937, 1.0),\n",
              "   (0.6705422577860198, 1.0),\n",
              "   (0.9413614476191352, 1.0),\n",
              "   (0.5795242043086068, 1.0),\n",
              "   (0.8416199638867807, 1.0),\n",
              "   (0.854267842790669, 0.0),\n",
              "   (0.9193556147106452, 1.0),\n",
              "   (0.707306054103123, 1.584962500721156),\n",
              "   (0.5243437466645112, 0.0),\n",
              "   (0.22297562673322074, 0.0),\n",
              "   (0.7891040260573013, 1.0),\n",
              "   (0.9171743495871868, 2.0),\n",
              "   (0.6758397982855767, 1.0),\n",
              "   (0.3647776046700404, 1.0),\n",
              "   (0.8036689210819883, 1.0),\n",
              "   (0.7416945180026882, 1.584962500721156),\n",
              "   (0.8661558105316505, 4.700439718141092),\n",
              "   (-0.012526388109644643, 0.0),\n",
              "   (0.9405575171945975, 3.584962500721156),\n",
              "   (0.3767758169618822, 1.0),\n",
              "   (0.05987667474975478, 2.807354922057604),\n",
              "   (0.8369160338209602, 1.0),\n",
              "   (0.20230316995550413, 1.0),\n",
              "   (0.6800615343067239, 0.0),\n",
              "   (0.6108169126383575, 1.0),\n",
              "   (0.7797517363333294, 1.0),\n",
              "   (0.39371278657877806, 1.0),\n",
              "   (0.6268981417435219, 0.0),\n",
              "   (0.563017512892887, 1.0),\n",
              "   (0.5040839869758009, 1.0),\n",
              "   (0.7923997687313604, 1.0),\n",
              "   (0.48092978470700387, 1.0),\n",
              "   (0.1074949573761888, 0.0),\n",
              "   (0.29509185517557657, 0.0),\n",
              "   (0.9084202872284703, 1.0),\n",
              "   (0.13191279739570833, 0.0),\n",
              "   (0.7826365965318447, 1.0),\n",
              "   (0.09801323063230047, 0.0),\n",
              "   (0.38174229409733507, 2.584962500721156),\n",
              "   (0.7471576708314304, 1.0),\n",
              "   (0.41018542287996873, 1.0),\n",
              "   (0.48925404517888194, 1.584962500721156),\n",
              "   (0.8479720537433673, 2.321928094887362),\n",
              "   (0.08031924213680743, 1.0),\n",
              "   (0.7895601201745447, 2.584962500721156),\n",
              "   (0.5465148148654108, 1.0),\n",
              "   (0.49944905889861757, 1.0),\n",
              "   (0.4336630975647587, 0.0),\n",
              "   (0.9087061728244081, 3.4594316186372973)])]"
            ]
          },
          "metadata": {
            "tags": []
          },
          "execution_count": 23
        }
      ]
    },
    {
      "cell_type": "code",
      "metadata": {
        "id": "OlmAnenz9LAm",
        "outputId": "980b6f91-3227-4d44-fd5b-b389e4214759"
      },
      "source": [
        "def ndcg_for_user(x):\n",
        "    y_pred = np.array([e[0] for e in x])\n",
        "    y_true = np.array([e[1] for e in x])\n",
        "    return ndcg_score(y_true, y_pred)\n",
        "    \n",
        "(\n",
        "    predictions_and_ratings_per_user\n",
        "    .map(lambda x: ndcg_for_user(x[1]))\n",
        "    .mean()\n",
        ")"
      ],
      "execution_count": null,
      "outputs": [
        {
          "output_type": "execute_result",
          "data": {
            "text/plain": [
              "0.719044590203335"
            ]
          },
          "metadata": {
            "tags": []
          },
          "execution_count": 24
        }
      ]
    },
    {
      "cell_type": "code",
      "metadata": {
        "id": "Bi7cudPu9LAm",
        "outputId": "1fd3f250-d4b0-4ca6-85ca-5be27769da6e"
      },
      "source": [
        "print(\"Улучшение на {:0.3} процентов!\".format(100 * (0.716 / 0.661 - 1)))"
      ],
      "execution_count": null,
      "outputs": [
        {
          "output_type": "stream",
          "text": [
            "Улучшение на 8.32 процентов!\n"
          ],
          "name": "stdout"
        }
      ]
    },
    {
      "cell_type": "code",
      "metadata": {
        "id": "2heA4FEB9LAm"
      },
      "source": [
        ""
      ],
      "execution_count": null,
      "outputs": []
    }
  ]
}