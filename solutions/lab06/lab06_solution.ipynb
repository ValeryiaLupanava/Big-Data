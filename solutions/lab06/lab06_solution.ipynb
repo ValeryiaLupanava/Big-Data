{
 "cells": [
  {
   "cell_type": "markdown",
   "metadata": {},
   "source": [
    "# Lab06 Решение"
   ]
  },
  {
   "cell_type": "markdown",
   "metadata": {},
   "source": [
    "## Задача\n",
    "\n",
    "По имеющимся данным о рейтингах фильмов (MovieLens: 100 000 рейтингов) посчитать агрегированную статистику по ним."
   ]
  },
  {
   "cell_type": "code",
   "execution_count": 11,
   "metadata": {},
   "outputs": [],
   "source": [
    "#Lab06 personal data\n",
    "my_id = 286"
   ]
  },
  {
   "cell_type": "code",
   "execution_count": 12,
   "metadata": {},
   "outputs": [],
   "source": [
    "#Lab06s personal data\n",
    "k = 15\n",
    "z = 3.291"
   ]
  },
  {
   "cell_type": "code",
   "execution_count": 13,
   "metadata": {},
   "outputs": [],
   "source": [
    "import os\n",
    "import sys\n",
    "\n",
    "os.environ[\"PYSPARK_SUBMIT_ARGS\"]='pyspark-shell'\n",
    "os.environ[\"PYSPARK_PYTHON\"]='/opt/anaconda/envs/bd9/bin/python'\n",
    "os.environ[\"SPARK_HOME\"]='/usr/hdp/current/spark2-client'\n",
    "\n",
    "spark_home = os.environ.get('SPARK_HOME', None)\n",
    "if not spark_home:\n",
    "    raise ValueError('SPARK_HOME environment variable is not set')\n",
    "sys.path.insert(0, os.path.join(spark_home, 'python'))\n",
    "sys.path.insert(0, os.path.join(spark_home, 'python/lib/py4j-0.10.7-src.zip'))\n",
    "exec(open(os.path.join(spark_home, 'python/pyspark/shell.py')).read())"
   ]
  },
  {
   "cell_type": "code",
   "execution_count": 14,
   "metadata": {
    "scrolled": false
   },
   "outputs": [],
   "source": [
    "sc"
   ]
  },
  {
   "cell_type": "code",
   "execution_count": 15,
   "metadata": {},
   "outputs": [],
   "source": [
    "#sc.stop()"
   ]
  },
  {
   "cell_type": "markdown",
   "metadata": {},
   "source": [
    "## Loading user data"
   ]
  },
  {
   "cell_type": "code",
   "execution_count": 16,
   "metadata": {},
   "outputs": [],
   "source": [
    "# Loading from HDFS, make sure you put you data into hdfs first\n",
    "user_data_src = sc.textFile(\"/labs/lab06data/ml-100k/u.data\")"
   ]
  },
  {
   "cell_type": "code",
   "execution_count": 17,
   "metadata": {},
   "outputs": [],
   "source": [
    "# Data lookup:\n",
    "user_data_src.first()"
   ]
  },
  {
   "cell_type": "code",
   "execution_count": 18,
   "metadata": {},
   "outputs": [],
   "source": [
    "user_data = user_data_src.map(lambda u: u.split(\"\\t\"))"
   ]
  },
  {
   "cell_type": "code",
   "execution_count": 19,
   "metadata": {},
   "outputs": [],
   "source": [
    "user_data.take(5)"
   ]
  },
  {
   "cell_type": "code",
   "execution_count": 20,
   "metadata": {},
   "outputs": [],
   "source": [
    "num_users = user_data.count()\n",
    "num_users"
   ]
  },
  {
   "cell_type": "code",
   "execution_count": 21,
   "metadata": {},
   "outputs": [],
   "source": [
    "%pylab inline"
   ]
  },
  {
   "cell_type": "code",
   "execution_count": 22,
   "metadata": {},
   "outputs": [],
   "source": [
    "user_ages = user_data.map(lambda u: int(u[1]))\n",
    "user_ages.take(5)"
   ]
  },
  {
   "cell_type": "code",
   "execution_count": 23,
   "metadata": {},
   "outputs": [],
   "source": [
    "ages = user_ages.collect()\n",
    "hist(ages, bins=10)"
   ]
  },
  {
   "cell_type": "code",
   "execution_count": 24,
   "metadata": {},
   "outputs": [],
   "source": [
    "ages = user_ages.collect"
   ]
  },
  {
   "cell_type": "markdown",
   "metadata": {},
   "source": [
    "## Loading movie data"
   ]
  },
  {
   "cell_type": "code",
   "execution_count": 26,
   "metadata": {},
   "outputs": [],
   "source": [
    "movie_data_src = sc.textFile(\"/labs/lab06data/ml-100k/u.item\")\n",
    "movie_data_src.first()"
   ]
  },
  {
   "cell_type": "code",
   "execution_count": 27,
   "metadata": {},
   "outputs": [],
   "source": [
    "movie_data_src.take(10)"
   ]
  },
  {
   "cell_type": "code",
   "execution_count": 28,
   "metadata": {},
   "outputs": [],
   "source": [
    "movie_data = movie_data_src.map(lambda line: line.split(\"|\"))\n",
    "movie_data.take(5)"
   ]
  },
  {
   "cell_type": "code",
   "execution_count": 29,
   "metadata": {},
   "outputs": [],
   "source": [
    "from datetime import datetime\n",
    "\n",
    "def get_year(date_string):\n",
    "    try:\n",
    "        return int(datetime.strptime(date_string, \"%d-%b-%Y\").year)\n",
    "    except:\n",
    "        return 1899"
   ]
  },
  {
   "cell_type": "code",
   "execution_count": 30,
   "metadata": {},
   "outputs": [],
   "source": [
    "movie_years = movie_data.map(lambda m: get_year(m[2]))"
   ]
  },
  {
   "cell_type": "code",
   "execution_count": 31,
   "metadata": {},
   "outputs": [],
   "source": [
    "movie_years.take(10)"
   ]
  },
  {
   "cell_type": "code",
   "execution_count": 32,
   "metadata": {},
   "outputs": [],
   "source": [
    "years = movie_years.collect()\n",
    "hist(years,bins=100)"
   ]
  },
  {
   "cell_type": "markdown",
   "metadata": {},
   "source": [
    "## Loading ratings data"
   ]
  },
  {
   "cell_type": "code",
   "execution_count": 34,
   "metadata": {},
   "outputs": [],
   "source": [
    "# user id | item id | rating | timestamp\n",
    "ratings_src = sc.textFile(\"/labs/lab06data/ml-100k/u.data\")\n",
    "ratings_src.first()"
   ]
  },
  {
   "cell_type": "code",
   "execution_count": 35,
   "metadata": {},
   "outputs": [],
   "source": [
    "ratings_data = ratings_src.map(lambda r: r.split(\"\\t\"))\n",
    "ratings_data.take(3)"
   ]
  },
  {
   "cell_type": "code",
   "execution_count": 36,
   "metadata": {},
   "outputs": [],
   "source": [
    "ratings = ratings_data.map(lambda r: int(r[2])).collect()"
   ]
  },
  {
   "cell_type": "code",
   "execution_count": 37,
   "metadata": {},
   "outputs": [],
   "source": [
    "hist(ratings)"
   ]
  },
  {
   "cell_type": "code",
   "execution_count": 38,
   "metadata": {},
   "outputs": [],
   "source": [
    "hist(ratings,bins=[1,2,3,4,5,6])"
   ]
  },
  {
   "cell_type": "code",
   "execution_count": 39,
   "metadata": {},
   "outputs": [],
   "source": [
    "# 0: user id | 1: item id | 2: rating | 3: timestamp\n",
    "ratings_map = ratings_data.map(lambda r: (r[1], int(r[2])))"
   ]
  },
  {
   "cell_type": "code",
   "execution_count": 40,
   "metadata": {},
   "outputs": [],
   "source": [
    "#item_id, rating\n",
    "ratings_map.first()"
   ]
  },
  {
   "cell_type": "markdown",
   "metadata": {},
   "source": [
    "#### 1. Количество человек n, поставивших рейтинг фильму"
   ]
  },
  {
   "cell_type": "code",
   "execution_count": 41,
   "metadata": {},
   "outputs": [],
   "source": [
    "#kv = {item_id: 1}\n",
    "n1_kv_m = ratings_data.map( lambda x: (x[1], 1) )\n",
    "\n",
    "#kv = {item_id: sum}\n",
    "n1 = n1_kv_m.reduceByKey( lambda pv,v: pv+v )\n",
    "\n",
    "n1.take(5)"
   ]
  },
  {
   "cell_type": "markdown",
   "metadata": {},
   "source": [
    "#### 2. Средний рейтинг фильма (сумма рейтингов фильма/количество человек, оценивних фильм)"
   ]
  },
  {
   "cell_type": "code",
   "execution_count": 42,
   "metadata": {},
   "outputs": [],
   "source": [
    "#kv = {item_id: (rating, 1)}\n",
    "n2_kv_m = ratings_data.map( lambda x: (x[1], (int(x[2]), 1)) )\n",
    "\n",
    "#kv = {item_id: (rating_sum, count)}\n",
    "n2_kv_r = n2_kv_m.reduceByKey( lambda pv,v: (pv[0]+v[0], pv[1]+v[1]) )\n",
    "n2_kv_r.first()"
   ]
  },
  {
   "cell_type": "code",
   "execution_count": 43,
   "metadata": {
    "scrolled": true
   },
   "outputs": [],
   "source": [
    "from __future__ import division\n",
    "n2 = n2_kv_r.map( lambda x: (x[0], x[1][0] / x[1][1]) )\n",
    "\n",
    "n2.take(5)"
   ]
  },
  {
   "cell_type": "markdown",
   "metadata": {},
   "source": [
    "#### 3. Количество человек m, оценивших фильм положительно. Оценки 4 и выше -- считаются положительными."
   ]
  },
  {
   "cell_type": "code",
   "execution_count": 44,
   "metadata": {},
   "outputs": [],
   "source": [
    "#kv = {item_id: (1 if rating >=4 else 0)}\n",
    "n3_kv_m = ratings_data.map( lambda x: (x[1], 1 if int(x[2]) >=4 else 0) )\n",
    "n3_kv_m.take(5)"
   ]
  },
  {
   "cell_type": "code",
   "execution_count": 45,
   "metadata": {},
   "outputs": [],
   "source": [
    "#kv = {item_id: sum}\n",
    "n3 = n3_kv_m.reduceByKey( lambda pv,v: pv+v )"
   ]
  },
  {
   "cell_type": "code",
   "execution_count": 46,
   "metadata": {},
   "outputs": [],
   "source": [
    "n3.take(5)"
   ]
  },
  {
   "cell_type": "markdown",
   "metadata": {},
   "source": [
    "#### 4. Доля людей, оценивших фильм положительно (пункт 3/пункт 1 или m/n).¶"
   ]
  },
  {
   "cell_type": "code",
   "execution_count": 47,
   "metadata": {},
   "outputs": [],
   "source": [
    "#kv = {item_id: (n1, n3) }\n",
    "n4_kv_m = n1.join(n3)\n",
    "n4 = n4_kv_m.map( lambda x: (x[0], x[1][1] / x[1][0]) )\n",
    "n4.take(5)"
   ]
  },
  {
   "cell_type": "markdown",
   "metadata": {},
   "source": [
    "#### 5. Глобальное среднее по всему датасету. Сумма всех оценок по всем фильмам/Количество всех оценок по всем фильмам"
   ]
  },
  {
   "cell_type": "code",
   "execution_count": 48,
   "metadata": {},
   "outputs": [],
   "source": [
    "#kv = {rating}\n",
    "n5_kv_m = ratings_data.map( lambda x: x[2] )\n",
    "\n",
    "n5 = n5_kv_m.reduce( lambda pv,v: int(pv)+int(v) ) / n5_kv_m.count()\n",
    "n5"
   ]
  },
  {
   "cell_type": "markdown",
   "metadata": {},
   "source": [
    "#### 6. Оценку, поправленную на нехватку данных:"
   ]
  },
  {
   "cell_type": "code",
   "execution_count": 49,
   "metadata": {},
   "outputs": [],
   "source": [
    "\n",
    "#n2_kv_r = {item_id: (rating_sum, count)}\n",
    "#n2_kv_r.take(5)\n",
    "n6 = n2_kv_r.map( lambda x: (x[0], (x[1][0] + k * n5) / (x[1][1] + k) ) )"
   ]
  },
  {
   "cell_type": "code",
   "execution_count": 50,
   "metadata": {},
   "outputs": [],
   "source": [
    "n6.take(5)"
   ]
  },
  {
   "cell_type": "markdown",
   "metadata": {},
   "source": [
    "#### 7. Нижнюю и верхнюю границы доверительного интервала оценки (Wilson score interval) из лекции с заданным уровнем доверия."
   ]
  },
  {
   "cell_type": "code",
   "execution_count": 51,
   "metadata": {},
   "outputs": [],
   "source": [
    "#kv = {item_id: (n1, n4) }\n",
    "n7_kv_m = n1.join(n4)\n",
    "n7 = n7_kv_m.map( lambda x: ( x[0], (1 / (1 + z**2/x[1][0])) * (x[1][1] + z**2/(2*x[1][0]) - z*(x[1][1]*(1-x[1][1])/x[1][0] + z**2/(4*x[1][0]**2))**0.5 ) ) )\n",
    "\n"
   ]
  },
  {
   "cell_type": "code",
   "execution_count": 52,
   "metadata": {},
   "outputs": [],
   "source": [
    "n7.take(5)"
   ]
  },
  {
   "cell_type": "markdown",
   "metadata": {},
   "source": [
    "#### Рекомендовать топ 10 фильмов (если рейтинги совпадают, то сортировать по алфавиту названий фильмов от A до Z):\n",
    "\n",
    "#### 1. По откликам (пункт 1) - поле “top10_rates”"
   ]
  },
  {
   "cell_type": "code",
   "execution_count": 53,
   "metadata": {
    "scrolled": true
   },
   "outputs": [],
   "source": [
    "#kv = {item_id: (name, n1) }\n",
    "\n",
    "movie_data_n1 = movie_data.join(n1)\n",
    "top10_rates = [tp[0] for tp in movie_data_n1.top(10, lambda x: x[1][1])]\n",
    "movie_data_n1.top(10, lambda x: x[1][1])"
   ]
  },
  {
   "cell_type": "markdown",
   "metadata": {},
   "source": [
    "#### 2. По среднему рейтингу (пункт 2) - поле “top10_average”"
   ]
  },
  {
   "cell_type": "code",
   "execution_count": 54,
   "metadata": {},
   "outputs": [],
   "source": [
    "top10_average = movie_data.join(n2).sortBy(lambda x: (-x[1][1], x[1][0])).keys().take(10)\n",
    "movie_data.join(n2).sortBy(lambda x: (-x[1][1], x[1][0])).take(10)"
   ]
  },
  {
   "cell_type": "markdown",
   "metadata": {},
   "source": [
    "#### 3. По среднему рейтингу с регуляризацией k (пункт 6) - поле “top10_rating”"
   ]
  },
  {
   "cell_type": "code",
   "execution_count": 55,
   "metadata": {
    "scrolled": true
   },
   "outputs": [],
   "source": [
    "top10_rating = movie_data.join(n6).sortBy(lambda x: (-x[1][1], x[1][0])).keys().take(10)\n",
    "movie_data.join(n6).sortBy(lambda x: (-x[1][1], x[1][0])).take(10)"
   ]
  },
  {
   "cell_type": "markdown",
   "metadata": {},
   "source": [
    "#### 4. По нижней границе доверительного интервала Wilson (пункт 7) - поле “top10_lower”"
   ]
  },
  {
   "cell_type": "code",
   "execution_count": 56,
   "metadata": {
    "scrolled": true
   },
   "outputs": [],
   "source": [
    "top10_lower = movie_data.join(n7).sortBy(lambda x: (-x[1][1], x[1][0])).keys().take(10)\n",
    "movie_data.join(n7).sortBy(lambda x: (-x[1][1], x[1][0])).take(10)"
   ]
  },
  {
   "cell_type": "markdown",
   "metadata": {},
   "source": [
    "#### Для выданного id фильма:\n",
    "\n",
    "#### 1. Построить распределения оценок. Получится таблица, где в первом столбце стоят значения оценки (1, 2, 3, 4, 5), а во втором количество человек, поставивших соответствующую оценку - поле “hist_film”\n"
   ]
  },
  {
   "cell_type": "code",
   "execution_count": 57,
   "metadata": {},
   "outputs": [],
   "source": [
    "\n",
    "hist_film_kv_f = ratings_data.filter(lambda x: (x[1] == str(my_id)))\n",
    "hist_film_kv_m = hist_film_kv_f.map(lambda x: (x[2], 1))\n",
    "hist_film_kv_r = hist_film_kv_m.reduceByKey(lambda x,y: x+y)\n",
    "hist_film = [i[1] for i in hist_film_kv_r.sortByKey().collect()]"
   ]
  },
  {
   "cell_type": "markdown",
   "metadata": {},
   "source": [
    "#### 2. Чтобы понять какие оценки предпочитают ставить пользователи Movielens, постройте аналогичное предыдущему пункту 1 распределение оценок только уже для всего датасета - поле “hist_all”"
   ]
  },
  {
   "cell_type": "code",
   "execution_count": 58,
   "metadata": {},
   "outputs": [],
   "source": [
    "\n",
    "hist_all_kv_m = ratings_data.map(lambda r: (r[2], 1))\n",
    "hist_all_kv_r = hist_all_kv_m.reduceByKey(lambda x,y: x+y)\n",
    "hist_all = [i[1] for i in hist_all_kv_r.sortByKey().collect()]"
   ]
  },
  {
   "cell_type": "code",
   "execution_count": 59,
   "metadata": {},
   "outputs": [],
   "source": [
    "result_json={\n",
    "            \"top10_rates\": top10_rates,\n",
    "            \"top10_average\": top10_average,\n",
    "            \"top10_rating\": top10_rating,\n",
    "            \"top10_lower\": top10_lower,\n",
    "            \"hist_film\": hist_film,\n",
    "            \"hist_all\": hist_all\n",
    "            }"
   ]
  },
  {
   "cell_type": "code",
   "execution_count": 60,
   "metadata": {},
   "outputs": [],
   "source": [
    "import json\n",
    "with open(\"lab06.json\", \"w\") as j:\n",
    "    json.dump(result_json,j)"
   ]
  },
  {
   "cell_type": "code",
   "execution_count": 61,
   "metadata": {},
   "outputs": [],
   "source": [
    "#superachievka\n",
    "import json\n",
    "with open(\"lab06s.json\", \"w\") as j:\n",
    "    json.dump(result_json,j)"
   ]
  },
  {
   "cell_type": "code",
   "execution_count": 62,
   "metadata": {},
   "outputs": [],
   "source": [
    "sc.stop()"
   ]
  },
  {
   "cell_type": "code",
   "execution_count": null,
   "metadata": {},
   "outputs": [],
   "source": []
  }
 ],
 "metadata": {
  "kernelspec": {
   "display_name": "Python 3",
   "language": "python",
   "name": "python3"
  },
  "language_info": {
   "codemirror_mode": {
    "name": "ipython",
    "version": 3
   },
   "file_extension": ".py",
   "mimetype": "text/x-python",
   "name": "python",
   "nbconvert_exporter": "python",
   "pygments_lexer": "ipython3",
   "version": "3.8.2"
  },
  "toc": {
   "base_numbering": 1,
   "nav_menu": {},
   "number_sections": true,
   "sideBar": true,
   "skip_h1_title": false,
   "title_cell": "Table of Contents",
   "title_sidebar": "Contents",
   "toc_cell": false,
   "toc_position": {},
   "toc_section_display": true,
   "toc_window_display": false
  }
 },
 "nbformat": 4,
 "nbformat_minor": 2
}
