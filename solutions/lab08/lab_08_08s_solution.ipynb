{
 "cells": [
  {
   "cell_type": "code",
   "metadata": {
    "scrolled": true
   },
   "outputs": [],
   "source": [
    "#!curl -LO http://files.grouplens.org/datasets/movielens/ml-100k.zip\n",
    "#!unzip ml-100k.zip"
   ]
  },
  {
   "cell_type": "markdown",
   "metadata": {},
   "outputs": [],
   "source": [
    "http://files.grouplens.org/datasets/movielens/ml-100k-README.txt"
   ]
  },
  {
   "cell_type": "code",
   "metadata": {},
   "outputs": [],
   "source": [
    "target_userid = 130"
   ]
  },
  {
   "cell_type": "code",
   "metadata": {},
   "outputs": [],
   "source": [
    "import os\n",
    "import sys\n",
    "os.environ[\"PYSPARK_SUBMIT_ARGS\"]='--num-executors 3 pyspark-shell'\n",
    "os.environ[\"PYSPARK_PYTHON\"]='/opt/anaconda/envs/bd9/bin/python'\n",
    "os.environ[\"SPARK_HOME\"]='/usr/hdp/current/spark2-client'\n",
    "\n",
    "spark_home = os.environ.get('SPARK_HOME', None)\n",
    "if not spark_home:\n",
    "    raise ValueError('SPARK_HOME environment variable is not set')\n",
    "sys.path.insert(0, os.path.join(spark_home, 'python'))\n",
    "sys.path.insert(0, os.path.join(spark_home, 'python/lib/py4j-0.10.7-src.zip'))\n",
    "exec(open(os.path.join(spark_home, 'python/pyspark/shell.py')).read())"
   ]
  },
  {
   "cell_type": "code",
   "metadata": {},
   "outputs": [],
   "source": [
    "from operator import add\n",
    "import operator as op\n",
    "import json\n",
    "import re\n",
    "from datetime import datetime\n",
    "from pyspark.sql import Row\n",
    "from pyspark.sql import functions as F\n",
    "import numpy as np\n",
    "import math\n",
    "from IPython.display import clear_output"
   ]
  },
  {
   "cell_type": "code",
   "metadata": {},
   "outputs": [],
   "source": [
    "!head -n3 ml-100k/u.data"
   ]
  },
  {
   "cell_type": "markdown",
   "metadata": {},
   "outputs": [],
   "source": [
    "The full u data set, 100000 ratings by 943 users on 1682 items.\n",
    "              Each user has rated at least 20 movies.  Users and items are\n",
    "              numbered consecutively from 1.  The data is randomly\n",
    "              ordered. This is a tab separated list of \n",
    "\t         user id | item id | rating | timestamp. \n",
    "              The time stamps are unix seconds since 1/1/1970 UTC"
   ]
  },
  {
   "cell_type": "markdown",
   "metadata": {},
   "outputs": [],
   "source": [
    "Найдите количество всех пользователей и количество всех фильмов в данных (общее число пользователей и фильмов в датасете)."
   ]
  },
  {
   "cell_type": "code",
   "metadata": {},
   "outputs": [],
   "source": [
    "#!hadoop fs -put ml-100k /user/valery.baranov"
   ]
  },
  {
   "cell_type": "code",
   "metadata": {},
   "outputs": [],
   "source": [
    "rdd_ratings = sc.textFile(\"/user/valery.baranov/ml-100k/u.data\")\\\n",
    "    .map(lambda line: [int(d) for d in line.split('\\t')])\\\n",
    "    .map(lambda ds: Row(userid=ds[0], movieid=ds[1], rating=ds[2], ts=ds[3]))"
   ]
  },
  {
   "cell_type": "code",
   "metadata": {},
   "outputs": [],
   "source": [
    "df_ratings = rdd_ratings.toDF()"
   ]
  },
  {
   "cell_type": "code",
   "metadata": {},
   "outputs": [],
   "source": [
    "df_ratings.show(n=3)"
   ]
  },
  {
   "cell_type": "code",
   "metadata": {},
   "outputs": [],
   "source": [
    "num_users = rdd_ratings.map(lambda row: row.userid).distinct().count()\n",
    "num_users"
   ]
  },
  {
   "cell_type": "code",
   "metadata": {},
   "outputs": [],
   "source": [
    "def get_userid_iter():\n",
    "    return range(1, num_users + 1)"
   ]
  },
  {
   "cell_type": "code",
   "metadata": {},
   "outputs": [],
   "source": [
    "num_movies = rdd_ratings.map(lambda row: row.movieid).distinct().count()\n",
    "num_movies"
   ]
  },
  {
   "cell_type": "markdown",
   "metadata": {},
   "outputs": [],
   "source": [
    "Сколько пользователь в среднем ставит рейтингов? Подсчитать `количество рейтингов / количество пользователей`. \n",
    "   Поле `average_user_ratings`."
   ]
  },
  {
   "cell_type": "code",
   "metadata": {},
   "outputs": [],
   "source": [
    "num_ratings = rdd_ratings.count()\n",
    "num_ratings"
   ]
  },
  {
   "cell_type": "code",
   "metadata": {},
   "outputs": [],
   "source": [
    "average_user_ratings = num_ratings / num_users\n",
    "average_user_ratings"
   ]
  },
  {
   "cell_type": "markdown",
   "metadata": {},
   "outputs": [],
   "source": [
    "Сколько фильм в среднем имеет рейтингов?  Подсчитать`количество рейтингов / количество фильмов`. \n",
    "   Поле `average_film_ratings`."
   ]
  },
  {
   "cell_type": "code",
   "metadata": {},
   "outputs": [],
   "source": [
    "average_film_ratings = num_ratings / num_movies\n",
    "average_film_ratings"
   ]
  },
  {
   "cell_type": "markdown",
   "metadata": {},
   "outputs": [],
   "source": [
    "Найдите процент заполненных ячеек в данных: `количество рейтингов / (количество пользователей * количество фильмов)`. \n",
    "   Поле `completeness`."
   ]
  },
  {
   "cell_type": "code",
   "metadata": {},
   "outputs": [],
   "source": [
    "completeness = num_ratings / (num_users * num_movies)\n",
    "completeness"
   ]
  },
  {
   "cell_type": "markdown",
   "metadata": {},
   "outputs": [],
   "source": [
    "#1 Для каждого пользователя найдите его средний рейтинг (сумма рейтингов пользователя/количество рейтингов пользователя). Здесь I<sub>a</sub> — множество фильмов, по которым у пользователя есть рейтинги r<sub>ui</sub>. Здесь и далее |I<sub>a</sub>| обозначает количество элементов в множестве I<sub>a</sub>.\n",
    "\n",
    "<img width=\"100px\" src=\"http://data.newprolab.com/public-newprolab-com/laba08_r_a_avg.png\">"
   ]
  },
  {
   "cell_type": "code",
   "metadata": {},
   "outputs": [],
   "source": [
    "df_avg_user_rating = df_ratings.groupby('userid').mean('rating')"
   ]
  },
  {
   "cell_type": "code",
   "metadata": {},
   "outputs": [],
   "source": [
    "user_avg = df_avg_user_rating.rdd.map(lambda row: (row.userid, row['avg(rating)'])).collect()"
   ]
  },
  {
   "cell_type": "code",
   "metadata": {},
   "outputs": [],
   "source": [
    "user_avg[:3]"
   ]
  },
  {
   "cell_type": "code",
   "metadata": {},
   "outputs": [],
   "source": [
    "avg_ratings = np.array([v for k,v in sorted(user_avg)])\n",
    "avg_ratings[:10]"
   ]
  },
  {
   "cell_type": "markdown",
   "metadata": {},
   "outputs": [],
   "source": [
    "#2 Посчитайте меру близости Пирсона выданного вам пользователя со всеми остальными пользователями. Обратите внимание, что корреляция Пирсона считается только на пересечении, то есть вклад вносят только фильмы, оцененные совместно (I<sub>a</sub>, I<sub>u</sub> — множества оцененных пользователями `a` и `u` фильмов). Корреляция с константой (ситуация, когда у пользователя все оценки одинаковые) равна нулю.\n",
    "\n",
    "Формат: `ID пользователя; корреляция Пирсона`.\n",
    "\n",
    "<img width=\"350px\" src=\"http://data.newprolab.com/public-newprolab-com/laba08_pearson.png\">"
   ]
  },
  {
   "cell_type": "code",
   "metadata": {},
   "outputs": [],
   "source": [
    "df_pivot_ratings = df_ratings.groupBy(\"movieid\").pivot(\"userid\", range(1, num_users + 1)).sum(\"rating\")\\\n",
    "    .coalesce(1).cache()"
   ]
  },
  {
   "cell_type": "code",
   "metadata": {},
   "outputs": [],
   "source": [
    "df_pivot_rows = df_ratings.groupBy(\"userid\").pivot(\"movieid\", range(1, num_movies + 1)).sum(\"rating\").cache()"
   ]
  },
  {
   "cell_type": "code",
   "metadata": {},
   "outputs": [],
   "source": [
    "target_row = df_pivot_rows.rdd.filter(lambda row: row.userid == target_userid).collect()[0]\n",
    "target_values =[v for k,v in sorted(target_row.asDict().items()) if k != 'userid']"
   ]
  },
  {
   "cell_type": "code",
   "metadata": {},
   "outputs": [],
   "source": [
    "len(target_values)"
   ]
  },
  {
   "cell_type": "code",
   "metadata": {},
   "outputs": [],
   "source": [
    "target_values[:10]"
   ]
  },
  {
   "cell_type": "code",
   "metadata": {},
   "outputs": [],
   "source": [
    "br_target_values = sc.broadcast(target_values)\n",
    "br_avg_ratings = sc.broadcast(avg_ratings)"
   ]
  },
  {
   "cell_type": "code",
   "metadata": {},
   "outputs": [],
   "source": [
    "len(br_avg_ratings.value)"
   ]
  },
  {
   "cell_type": "code",
   "metadata": {},
   "outputs": [],
   "source": [
    "def pearson_byrows(row):\n",
    "    row_ = row.asDict()\n",
    "    userid = int(row_.pop('userid'))\n",
    "    uid = userid - 1\n",
    "    tid = target_userid - 1\n",
    "    user_values =[v for k,v in sorted(row_.items())]\n",
    "    ratings = [(user_values[i], br_target_values.value[i]) for i in range(len(br_target_values.value))\\\n",
    "               if user_values[i] is not None and br_target_values.value[i] is not None]\n",
    "    \n",
    "    data = [((v1 - br_avg_ratings.value[uid]),(v2 - br_avg_ratings.value[tid])) for v1, v2 in ratings]\n",
    "        \n",
    "    c = sum([v1*v2 for v1,v2 in data])\n",
    "    z1 = sum([v1 ** 2 for v1,v2 in data])\n",
    "    z2 = sum([v2 ** 2 for v1,v2 in data])\n",
    "    if c == 0:\n",
    "        return 0\n",
    "    return (userid, c / (math.sqrt(z1) * math.sqrt(z2)))"
   ]
  },
  {
   "cell_type": "code",
   "metadata": {},
   "outputs": [],
   "source": [
    "row1 = df_pivot_rows.rdd.take(1)[0]"
   ]
  },
  {
   "cell_type": "code",
   "metadata": {},
   "outputs": [],
   "source": [
    "pearson_byrows(row1)"
   ]
  },
  {
   "cell_type": "code",
   "metadata": {},
   "outputs": [],
   "source": [
    "df_pivot_rows.rdd.map(pearson_byrows).take(3)"
   ]
  },
  {
   "cell_type": "code",
   "metadata": {},
   "outputs": [],
   "source": [
    "pearson_t = df_pivot_rows.rdd.map(pearson_byrows).collect()"
   ]
  },
  {
   "cell_type": "code",
   "metadata": {},
   "outputs": [],
   "source": [
    "pearson = [v for k,v in sorted(pearson_t)]"
   ]
  },
  {
   "cell_type": "code",
   "metadata": {},
   "outputs": [],
   "source": [
    "pearson[0]"
   ]
  },
  {
   "cell_type": "code",
   "metadata": {},
   "outputs": [],
   "source": [
    "df_pivot_ratings.corr(str(1), str(target_userid), method='pearson')"
   ]
  },
  {
   "cell_type": "code",
   "metadata": {},
   "outputs": [],
   "source": [
    "len(pearson)"
   ]
  },
  {
   "cell_type": "markdown",
   "metadata": {},
   "outputs": [],
   "source": [
    "#3. Посчитайте поправочный коэффициент для корреляции Пирсона на нехватку данных:\n",
    "\n",
    "<img width=\"150px\" src=\"http://data.newprolab.com/public-newprolab-com/laba08_reg_coef.png\">"
   ]
  },
  {
   "cell_type": "code",
   "metadata": {},
   "outputs": [],
   "source": [
    "target_user_movies = set(df_ratings\\\n",
    "    .filter(df_ratings.userid==target_userid)\\\n",
    "    .select('movieid')\\\n",
    "    .rdd.map(lambda row: row.movieid)\\\n",
    "    .collect())"
   ]
  },
  {
   "cell_type": "code",
   "metadata": {},
   "outputs": [],
   "source": [
    "len(target_user_movies)"
   ]
  },
  {
   "cell_type": "code",
   "metadata": {},
   "outputs": [],
   "source": [
    "coef = df_ratings.groupby('userid')\\\n",
    "    .agg(F.collect_list(df_ratings.movieid).alias('movieids'))\\\n",
    "    .rdd.map(lambda row: (row.userid, min(1, len(set(row.movieids) & target_user_movies) / 50)))\\\n",
    "    .collect()"
   ]
  },
  {
   "cell_type": "code",
   "metadata": {},
   "outputs": [],
   "source": [
    "coef = sorted(coef)\n",
    "coef[:3]"
   ]
  },
  {
   "cell_type": "markdown",
   "metadata": {},
   "outputs": [],
   "source": [
    "#4. Найдите 30 ближайших пользователей-соседей данного пользователя (`pearson_neighbours`), используя поправленную корреляцию Пирсона: \n",
    "\n",
    "<img width=\"500px\" src=\"http://data.newprolab.com/public-newprolab-com/laba08_pearson_reg_coef.png\">"
   ]
  },
  {
   "cell_type": "code",
   "metadata": {},
   "outputs": [],
   "source": [
    "corr_pearson = [coef[i][1] * pearson[i] for i in range(len(pearson))]\n",
    "corr_pearson[:3]"
   ]
  },
  {
   "cell_type": "code",
   "metadata": {},
   "outputs": [],
   "source": [
    "top30 =[(k,v) for k,v in sorted(zip(corr_pearson, get_userid_iter()), reverse=True)[:31] if v != target_userid]"
   ]
  },
  {
   "cell_type": "code",
   "metadata": {},
   "outputs": [],
   "source": [
    "top30userids = {v for k,v in top30}"
   ]
  },
  {
   "cell_type": "code",
   "metadata": {},
   "outputs": [],
   "source": [
    "' '.join([str(x) for x in top30userids])"
   ]
  },
  {
   "cell_type": "markdown",
   "metadata": {},
   "outputs": [],
   "source": [
    "#5. Для всех фильмов найдите прогноз оценки по формуле ниже. Здесь *N(a)* — множество пользователей-соседей, *s(a,u)* — мера близости пользователей из предыдущих пунктов, *|s(a,u)|* — модуль меры близости. \n",
    "\n",
    "<img width=\"250px\" src=\"http://data.newprolab.com/public-newprolab-com/laba08_user_user_cf.png\">\n"
   ]
  },
  {
   "cell_type": "code",
   "metadata": {},
   "outputs": [],
   "source": [
    "target_user_avg_rating = avg_ratings[target_userid - 1]\n",
    "target_user_avg_rating"
   ]
  },
  {
   "cell_type": "code",
   "metadata": {},
   "outputs": [],
   "source": [
    "# отбираем только рейтинги для топ 30, по которым полное совпадение с чекером\n",
    "df_pivot_top = df_ratings.rdd.filter(lambda row: row.userid in top30userids)\\\n",
    "    .toDF().groupBy(\"movieid\").pivot(\"userid\", list(top30userids)).sum(\"rating\")\\\n",
    "    .cache()"
   ]
  },
  {
   "cell_type": "code",
   "metadata": {},
   "outputs": [],
   "source": [
    "def predict_rating_row(row):\n",
    "    row_ = row.asDict()\n",
    "    movieid = int(row_.pop('movieid'))\n",
    "    ratings = [(int(k),v) for k,v in row_.items() if v is not None]\n",
    "    if len(ratings) == 0:\n",
    "        return target_user_avg_rating\n",
    "    c = 0\n",
    "    z = 0\n",
    "    for userid, rating in ratings:\n",
    "        uid = userid - 1 # так как нумерация пользователей и фильмов с 1\n",
    "        sau = corr_pearson[uid]\n",
    "        rui = rating\n",
    "        ru = avg_ratings[uid]\n",
    "        c += sau * (rui - ru)\n",
    "        z += abs(sau)\n",
    "    return (target_user_avg_rating + c / z, movieid)"
   ]
  },
  {
   "cell_type": "code",
   "metadata": {},
   "outputs": [],
   "source": [
    "row = df_pivot_top.rdd.take(1)[0]"
   ]
  },
  {
   "cell_type": "code",
   "metadata": {},
   "outputs": [],
   "source": [
    "row"
   ]
  },
  {
   "cell_type": "code",
   "metadata": {},
   "outputs": [],
   "source": [
    "predict_rating_row(row)"
   ]
  },
  {
   "cell_type": "code",
   "metadata": {},
   "outputs": [],
   "source": [
    "predicted_ratings = df_pivot_top.rdd.map(predict_rating_row).collect()"
   ]
  },
  {
   "cell_type": "code",
   "metadata": {},
   "outputs": [],
   "source": [
    "predicted_ratings[:3]"
   ]
  },
  {
   "cell_type": "code",
   "metadata": {},
   "outputs": [],
   "source": [
    "import pandas as pd"
   ]
  },
  {
   "cell_type": "code",
   "metadata": {},
   "outputs": [],
   "source": [
    "df_predicted = pd.DataFrame(predicted_ratings, columns=['prating', 'movieid'])"
   ]
  },
  {
   "cell_type": "code",
   "metadata": {},
   "outputs": [],
   "source": [
    "df_predicted.sort_values(['prating', 'movieid'], ascending=[False, True], inplace=True)"
   ]
  },
  {
   "cell_type": "code",
   "metadata": {},
   "outputs": [],
   "source": [
    "df_predicted.head(n=10)"
   ]
  },
  {
   "cell_type": "code",
   "metadata": {},
   "outputs": [],
   "source": [
    "pearson_top10 = [int(v) for v in df_predicted['movieid'] if v not in target_user_movies][:10]\n",
    "sorted(pearson_top10)"
   ]
  },
  {
   "cell_type": "code",
   "metadata": {},
   "outputs": [],
   "source": [
    "lab8result = {\n",
    "    \"average_film_ratings\": average_film_ratings,\n",
    "    \"average_user_ratings\": average_user_ratings,\n",
    "    \"completeness\": completeness,\n",
    "    \"pearson_neighbours\": sorted(top30userids),\n",
    "    \"pearson_top10\": sorted(pearson_top10)\n",
    "}"
   ]
  },
  {
   "cell_type": "code",
   "metadata": {},
   "outputs": [],
   "source": [
    "with open('lab08.json', 'w') as fw:\n",
    "    fw.write(json.dumps(lab8result))"
   ]
  },
  {
   "cell_type": "code",
   "metadata": {
    "scrolled": false
   },
   "outputs": [],
   "source": [
    "!head lab08.json"
   ]
  },
  {
   "cell_type": "code",
   "metadata": {
    "collapsed": true
   },
   "outputs": [],
   "source": []
  },
  {
   "cell_type": "markdown",
   "metadata": {},
   "outputs": [],
   "source": [
    "### **Часть 3. Базовые предикторы:**"
   ]
  },
  {
   "cell_type": "markdown",
   "metadata": {},
   "outputs": [],
   "source": [
    "#### 1. Глобальное среднее 𝞵 (`average_rating`) по всему датасету. `Сумма всех оценок по всем фильмам / Количество всех оценок по всем фильмам.`"
   ]
  },
  {
   "cell_type": "code",
   "metadata": {},
   "outputs": [],
   "source": [
    "sum_all_ratings = df_ratings.select('rating')\\\n",
    "    .agg(F.sum(df_ratings.rating).alias('sum')).rdd.map(lambda row: row.sum).collect()[0]\n",
    "sum_all_ratings"
   ]
  },
  {
   "cell_type": "code",
   "metadata": {},
   "outputs": [],
   "source": [
    "num_all_ratings = df_ratings.count()\n",
    "num_all_ratings"
   ]
  },
  {
   "cell_type": "code",
   "metadata": {},
   "outputs": [],
   "source": [
    "average_rating = sum_all_ratings / num_all_ratings\n",
    "average_rating"
   ]
  },
  {
   "cell_type": "markdown",
   "metadata": {},
   "outputs": [],
   "source": [
    "#### 2. Базовый предиктор для каждого пользователя (суммирование по фильмам, оцененным данным пользователем). Здесь I<sub>a</sub> — множество фильмов, по которым у пользователя есть рейтинги, а |I<sub>a</sub>| — их количество.\n",
    "\n",
    "<img width=\"200px\" src=\"http://data.newprolab.com/public-newprolab-com/laba08s_base_u.png\">\n"
   ]
  },
  {
   "cell_type": "code",
   "metadata": {},
   "outputs": [],
   "source": [
    "def base_predict_user(row):\n",
    "    row_ = row.asDict()\n",
    "    userid = row_.pop('userid')\n",
    "    values = [v for v in row_.values() if v is not None]\n",
    "    return (userid, 1 / (len(values) + 10) * sum([rui - average_rating for rui in values]))"
   ]
  },
  {
   "cell_type": "code",
   "metadata": {},
   "outputs": [],
   "source": [
    "bp_users = df_pivot_rows.rdd.map(base_predict_user).collect()"
   ]
  },
  {
   "cell_type": "code",
   "metadata": {},
   "outputs": [],
   "source": [
    "bp_users = sorted(bp_users)\n",
    "bp_users[:3]"
   ]
  },
  {
   "cell_type": "markdown",
   "metadata": {},
   "outputs": [],
   "source": [
    "#### 3. Базовый предиктор для каждого фильма (суммирование по пользователям, поставившим оценку данному фильму). Здесь U<sub>i</sub> — множество пользователей, которые оценили данный фильм, а |U<sub>i</sub>| — их количество.\n",
    "\n",
    "<img width=\"250px\" src=\"http://data.newprolab.com/public-newprolab-com/laba08s_base_i.png\">\n"
   ]
  },
  {
   "cell_type": "code",
   "metadata": {},
   "outputs": [],
   "source": [
    "df_pivot_movies = df_ratings.groupBy(\"movieid\").pivot(\"userid\", range(1, num_users + 1)).sum(\"rating\").cache()"
   ]
  },
  {
   "cell_type": "code",
   "metadata": {},
   "outputs": [],
   "source": [
    "def base_predict_movie(row):\n",
    "    row_ = row.asDict()\n",
    "    movieid = row_.pop('movieid')\n",
    "    ratings = [(int(k), v) for k,v in row_.items() if v is not None]\n",
    "    return (movieid,\\\n",
    "            1 / (len(ratings) + 25) * sum([rui - bp_users[userid - 1][1] - average_rating for userid, rui in ratings]))"
   ]
  },
  {
   "cell_type": "code",
   "metadata": {},
   "outputs": [],
   "source": [
    "r = df_pivot_movies.take(1)[0]"
   ]
  },
  {
   "cell_type": "code",
   "metadata": {},
   "outputs": [],
   "source": [
    "base_predict_movie(r)"
   ]
  },
  {
   "cell_type": "code",
   "metadata": {},
   "outputs": [],
   "source": [
    "bp_movies = df_pivot_movies.rdd.map(base_predict_movie).collect()"
   ]
  },
  {
   "cell_type": "code",
   "metadata": {},
   "outputs": [],
   "source": [
    "bp_movies = sorted(bp_movies)\n",
    "bp_movies[:3]"
   ]
  },
  {
   "cell_type": "markdown",
   "metadata": {},
   "outputs": [],
   "source": [
    "#### 4. Базовый предиктор для каждого пользователя и каждого фильма:\n",
    "\n",
    "<img width=\"140px\" src=\"http://data.newprolab.com/public-newprolab-com/laba08s_base_ui.png\">\n"
   ]
  },
  {
   "cell_type": "code",
   "metadata": {},
   "outputs": [],
   "source": [
    "bp_users_movies = np.matrix([[average_rating + bu + bi for km, bu in bp_movies] for ku, bi in bp_users])"
   ]
  },
  {
   "cell_type": "code",
   "metadata": {},
   "outputs": [],
   "source": [
    "bp_users_movies.shape"
   ]
  },
  {
   "cell_type": "code",
   "metadata": {},
   "outputs": [],
   "source": [
    "bp_users_movies[:5,:5]"
   ]
  },
  {
   "cell_type": "markdown",
   "metadata": {},
   "outputs": [],
   "source": [
    "### **Часть 4. Item-item CF:**"
   ]
  },
  {
   "cell_type": "markdown",
   "metadata": {},
   "outputs": [],
   "source": [
    "#### 1. Вычесть из всех рейтингов r<sub>ui</sub> базовый предиктор b<sub>ui</sub> из пункта 4, часть 3 (для всей таблицы рейтингов). Если рейтинга нет, то можно поставить 0.\n"
   ]
  },
  {
   "cell_type": "code",
   "metadata": {},
   "outputs": [],
   "source": [
    "rui = np.matrix(\n",
    "    [v for k,v in sorted(df_pivot_rows.rdd.map(lambda row: (row.userid, \n",
    "        [v for k,v in sorted([(int(k), v) for k,v in row.asDict().items() if k != 'userid'])])\n",
    "    ).collect())])"
   ]
  },
  {
   "cell_type": "code",
   "metadata": {},
   "outputs": [],
   "source": [
    "rui.shape"
   ]
  },
  {
   "cell_type": "code",
   "metadata": {},
   "outputs": [],
   "source": [
    "blanks = rui == None"
   ]
  },
  {
   "cell_type": "code",
   "metadata": {},
   "outputs": [],
   "source": [
    "blanks"
   ]
  },
  {
   "cell_type": "code",
   "metadata": {},
   "outputs": [],
   "source": [
    "rui[rui == None] = 0"
   ]
  },
  {
   "cell_type": "code",
   "metadata": {},
   "outputs": [],
   "source": [
    "rui[:5,:5]"
   ]
  },
  {
   "cell_type": "code",
   "metadata": {},
   "outputs": [],
   "source": [
    "rui[1,1] == 0"
   ]
  },
  {
   "cell_type": "code",
   "metadata": {},
   "outputs": [],
   "source": [
    "cf = (rui - bp_users_movies).transpose()"
   ]
  },
  {
   "cell_type": "code",
   "metadata": {},
   "outputs": [],
   "source": [
    "cf[rui.transpose() == 0] = 0"
   ]
  },
  {
   "cell_type": "code",
   "metadata": {},
   "outputs": [],
   "source": [
    "cf.shape"
   ]
  },
  {
   "cell_type": "code",
   "metadata": {},
   "outputs": [],
   "source": [
    "cf[:5,:5]"
   ]
  },
  {
   "cell_type": "code",
   "metadata": {},
   "outputs": [],
   "source": [
    "def get_csr():\n",
    "    data = []\n",
    "    indices = []\n",
    "    indptr = [0]\n",
    "    for i in range(rui_.shape[0]):\n",
    "        ptr = 0\n",
    "        for j in range(rui_.shape[1]):\n",
    "            if rui_[i,j] == 0:\n",
    "                continue\n",
    "            data.append(cf_[i,j])\n",
    "            indices.append(j)\n",
    "            ptr += 1\n",
    "        indptr.append(ptr)"
   ]
  },
  {
   "cell_type": "code",
   "metadata": {},
   "outputs": [],
   "source": [
    "from scipy.sparse import csr_matrix"
   ]
  },
  {
   "cell_type": "code",
   "metadata": {},
   "outputs": [],
   "source": [
    "csr = csr_matrix(cf, dtype='float')"
   ]
  },
  {
   "cell_type": "markdown",
   "metadata": {},
   "outputs": [],
   "source": [
    "#### 2. Найдите попарные меры близости (косинус) для всех фильмов, используя очищенные оценки из пункта 1, часть 4. Суммирование идет по всем пользователям.\n",
    "\n",
    "<img width=\"350px\" src=\"http://data.newprolab.com/public-newprolab-com/laba08s_cosine_items.png\">"
   ]
  },
  {
   "cell_type": "code",
   "metadata": {},
   "outputs": [],
   "source": [
    "def custom_cossim(m1, m2):\n",
    "    c = cf[:,[m1,m2]].prod(axis=1).sum()\n",
    "    z1 = math.sqrt(cf[:,[m1,m1]].prod(axis=1).sum())\n",
    "    z2 = math.sqrt(cf[:,[m2,m2]].prod(axis=1).sum())\n",
    "    return c / (z1 * z2)"
   ]
  },
  {
   "cell_type": "code",
   "metadata": {},
   "outputs": [],
   "source": [
    "from sklearn.metrics.pairwise import cosine_similarity"
   ]
  },
  {
   "cell_type": "code",
   "metadata": {},
   "outputs": [],
   "source": [
    "cossim = cosine_similarity(csr, csr)"
   ]
  },
  {
   "cell_type": "code",
   "metadata": {},
   "outputs": [],
   "source": [
    "cossim.shape"
   ]
  },
  {
   "cell_type": "code",
   "metadata": {},
   "outputs": [],
   "source": [
    "df_cos = pd.DataFrame(cossim)"
   ]
  },
  {
   "cell_type": "code",
   "metadata": {},
   "outputs": [],
   "source": [
    "df_cos"
   ]
  },
  {
   "cell_type": "markdown",
   "metadata": {},
   "outputs": [],
   "source": [
    "#### 3. Для каждого фильма, по которому у данного пользователя не стоит рейтинг, найдите:"
   ]
  },
  {
   "cell_type": "markdown",
   "metadata": {},
   "outputs": [],
   "source": [
    "##### * [a] 30 ближайших фильмов-соседей для этого фильма (среди всех фильмов, а не фильмов, оценённых пользователем)."
   ]
  },
  {
   "cell_type": "code",
   "metadata": {},
   "outputs": [],
   "source": [
    "target_movies = set(range(1, num_movies + 1)) - target_user_movies "
   ]
  },
  {
   "cell_type": "code",
   "metadata": {},
   "outputs": [],
   "source": [
    "target_movies = list(target_movies)"
   ]
  },
  {
   "cell_type": "code",
   "metadata": {},
   "outputs": [],
   "source": [
    "len(target_user_movies )"
   ]
  },
  {
   "cell_type": "code",
   "metadata": {},
   "outputs": [],
   "source": [
    "len(target_movies)"
   ]
  },
  {
   "cell_type": "code",
   "metadata": {},
   "outputs": [],
   "source": [
    "def get_movie_recs(movieid):\n",
    "    mid = movieid - 1\n",
    "    recs = [v for k,v in sorted(zip(cossim[mid,:], range(1, num_movies + 1)), reverse=True)[:31] if v != movieid]\n",
    "    return recs"
   ]
  },
  {
   "cell_type": "code",
   "metadata": {},
   "outputs": [],
   "source": [
    "sorted(zip(cossim[0,:], range(1, num_movies + 1)), reverse=True)[:5]"
   ]
  },
  {
   "cell_type": "code",
   "metadata": {},
   "outputs": [],
   "source": [
    "len(cossim[1,:])"
   ]
  },
  {
   "cell_type": "code",
   "metadata": {},
   "outputs": [],
   "source": [
    "' '.join([str(x) for x in get_movie_recs(5)])"
   ]
  },
  {
   "cell_type": "code",
   "metadata": {},
   "outputs": [],
   "source": [
    "target_movies_rec = []\n",
    "for movieid in target_movies:\n",
    "    target_movies_rec.append(get_movie_recs(movieid))"
   ]
  },
  {
   "cell_type": "code",
   "metadata": {},
   "outputs": [],
   "source": [
    "[' '.join([str(m) for m in recs]) for recs in target_movies_rec[:3]]"
   ]
  },
  {
   "cell_type": "markdown",
   "metadata": {},
   "outputs": [],
   "source": [
    "##### * [b] прогноз оценки пользователя по формуле (базовый предиктор из пункта 4, часть 3).  Здесь *S(i)*- множество фильмов-соседей для фильма *i*, по которым у данного пользователя есть оценка.\n",
    "<img width=\"300px\" src=\"http://data.newprolab.com/public-newprolab-com/laba08s_item_item_cf.png\">\n",
    "\n",
    "     Заметим, что суммирование идет только по тем фильмам-соседям, которые оценил пользователь."
   ]
  },
  {
   "cell_type": "code",
   "metadata": {},
   "outputs": [],
   "source": [
    "def calc_target_rating(movieid, filter_neg=False):\n",
    "    mid = movieid - 1\n",
    "    uid = target_userid - 1\n",
    "    bui = bp_users_movies[uid, mid]\n",
    "    rec_id = target_movies.index(movieid)\n",
    "    movies_intersection = set(target_movies_rec[rec_id]) & target_user_movies\n",
    "    if len(movies_intersection) == 0:\n",
    "        return (bui, movieid)\n",
    "    c = 0\n",
    "    z = 0\n",
    "    for movieid_temp in movies_intersection:\n",
    "        tid = movieid_temp - 1\n",
    "        sij = cossim[mid, tid]\n",
    "        if filter_neg and sij < 0:\n",
    "            continue\n",
    "        ruj = rui[uid, tid]\n",
    "        buj = bp_users_movies[uid, tid]\n",
    "        c += sij * (ruj - buj)\n",
    "        z += abs(sij)\n",
    "    if c == 0 or z == 0:\n",
    "        return (bui, movieid)\n",
    "    return (bui + c / z, movieid)"
   ]
  },
  {
   "cell_type": "code",
   "metadata": {},
   "outputs": [],
   "source": [
    "target_predicts = [calc_target_rating(movieid) for movieid in target_movies]"
   ]
  },
  {
   "cell_type": "code",
   "metadata": {},
   "outputs": [],
   "source": [
    "target_predicts[:3]"
   ]
  },
  {
   "cell_type": "markdown",
   "metadata": {},
   "outputs": [],
   "source": [
    "#### 4. Рекомендуйте пользователю 10 фильмов (`predicators_top10`) с самыми высокими оценками из пункта 3, часть 4."
   ]
  },
  {
   "cell_type": "code",
   "metadata": {},
   "outputs": [],
   "source": [
    "top_movies = sorted(target_predicts, reverse=True)[:10]\n",
    "top_movies"
   ]
  },
  {
   "cell_type": "code",
   "metadata": {
    "scrolled": true
   },
   "outputs": [],
   "source": [
    "predicators_top10 = [v for k,v in top_movies]\n",
    "predicators_top10"
   ]
  },
  {
   "cell_type": "markdown",
   "metadata": {},
   "outputs": [],
   "source": [
    "#### 5. При подсчете прогноза по формуле из пункта 3, часть 4 отфильтруйте всех соседей с отрицательной близостью."
   ]
  },
  {
   "cell_type": "code",
   "metadata": {},
   "outputs": [],
   "source": [
    "target_predicts_pos = [calc_target_rating(movieid, True) for movieid in target_movies]"
   ]
  },
  {
   "cell_type": "code",
   "metadata": {},
   "outputs": [],
   "source": [
    "target_predicts_pos[:3]"
   ]
  },
  {
   "cell_type": "markdown",
   "metadata": {},
   "outputs": [],
   "source": [
    "#### 6. Рекомендуйте пользователю 10 фильмов (`predicators_positive_top10`) с самыми высокими оценками из пункта 5, часть 4."
   ]
  },
  {
   "cell_type": "code",
   "metadata": {},
   "outputs": [],
   "source": [
    "top_pos = sorted(target_predicts_pos,reverse=True)[:10]\n",
    "top_pos"
   ]
  },
  {
   "cell_type": "code",
   "metadata": {
    "scrolled": true
   },
   "outputs": [],
   "source": [
    "predicators_positive_top10 = [v for k,v in top_pos]\n",
    "predicators_positive_top10"
   ]
  },
  {
   "cell_type": "code",
   "metadata": {},
   "outputs": [],
   "source": [
    "lab8s_result = {\n",
    "    \"average_rating\": average_rating,\n",
    "    \"predicators_positive_top10\": predicators_positive_top10,\n",
    "    \"predicators_top10\": predicators_top10\n",
    "}"
   ]
  },
  {
   "cell_type": "code",
   "metadata": {},
   "outputs": [],
   "source": [
    "with open('lab08s.json', 'w') as fw:\n",
    "    fw.write(json.dumps(lab8s_result))"
   ]
  },
  {
   "cell_type": "code",
   "metadata": {
    "scrolled": false
   },
   "outputs": [],
   "source": [
    "!head lab08s.json"
   ]
  }
 ],
 "metadata": {
  "kernelspec": {
   "display_name": "Python 3",
   "language": "python",
   "name": "python3"
  },
  "language_info": {
   "codemirror_mode": {
    "name": "ipython",
    "version": 3
   },
   "file_extension": ".py",
   "mimetype": "text/x-python",
   "name": "python",
   "nbconvert_exporter": "python",
   "pygments_lexer": "ipython3",
   "version": "3.6.5"
  }
 },
 "nbformat": 4,
 "nbformat_minor": 2
}