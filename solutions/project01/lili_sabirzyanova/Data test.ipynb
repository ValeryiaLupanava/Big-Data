{
 "cells": [
  {
   "cell_type": "code",
   "execution_count": null,
   "metadata": {},
   "outputs": [],
   "source": [
    "import pandas as pd\n",
    "import numpy as np\n",
    "import pickle"
   ]
  },
  {
   "cell_type": "code",
   "execution_count": null,
   "metadata": {},
   "outputs": [],
   "source": [
    "# Готовые спарсенные данные\n",
    "df = pickle.load(open('pickle_data_test', 'rb'))"
   ]
  },
  {
   "cell_type": "code",
   "execution_count": null,
   "metadata": {},
   "outputs": [],
   "source": [
    "# делим на две выборки\n",
    "df_test =df[(df.gender == '-') & (df.age == '-')]\n",
    "df_train = df[(df.gender != '-') & (df.age != '-')]\n",
    "len(df_train), len(df_test)"
   ]
  },
  {
   "cell_type": "code",
   "execution_count": null,
   "metadata": {},
   "outputs": [],
   "source": [
    "# выделим таргеты\n",
    "gender = df_train['gender']\n",
    "age = df_train['age']\n",
    "df_train['ga'] = df_train['gender'] + df_train['age']"
   ]
  },
  {
   "cell_type": "code",
   "execution_count": null,
   "metadata": {},
   "outputs": [],
   "source": [
    "# уберем ненужные ячейки\n",
    "df_train= df_train[['uid','ga','all_words']]"
   ]
  },
  {
   "cell_type": "code",
   "execution_count": null,
   "metadata": {},
   "outputs": [],
   "source": [
    "# сделаем общий таргет через ohe\n",
    "df_train = pd.get_dummies(df_train, columns = ['ga']) \n",
    "target = df_train.drop(['uid', 'all_words'], axis=1)\n"
   ]
  },
  {
   "cell_type": "code",
   "execution_count": null,
   "metadata": {},
   "outputs": [],
   "source": [
    "# токенизатор\n",
    "def tokenize(text):\n",
    "    tokens = text.split(';') #так у меня разные источники объеденялись\n",
    "    res = []\n",
    "    for i in tokens:\n",
    "        if i.strip():\n",
    "            for j in i.split(' '):\n",
    "                if j.strip(): res.append(j.strip().lower())  \n",
    "    return res"
   ]
  },
  {
   "cell_type": "code",
   "execution_count": null,
   "metadata": {},
   "outputs": [],
   "source": [
    "# делаем большму матрицу tf idf\n",
    "from sklearn.feature_extraction.text import TfidfVectorizer\n",
    "\n",
    "tfidf = TfidfVectorizer(norm=None, tokenizer = tokenize, min_df=7)\n",
    "matrix = tfidf.fit_transform(df_train['all_words']).toarray()\n",
    "matrix.shape"
   ]
  },
  {
   "cell_type": "code",
   "execution_count": null,
   "metadata": {},
   "outputs": [],
   "source": [
    "#добавим слова в датафрейм\n",
    "words = [x[0] for x in sorted(tfidf.vocabulary_.items(), key=lambda x: x[1])]\n",
    "matrix = pd.DataFrame(matrix, columns=words)"
   ]
  },
  {
   "cell_type": "code",
   "execution_count": null,
   "metadata": {},
   "outputs": [],
   "source": [
    "# матрица для предсказания\n",
    "matrix_res = tfidf.transform(df_test['all_words']).toarray()\n",
    "matrix_res = pd.DataFrame(matrix_res, columns=words)\n",
    "matrix_res.shape"
   ]
  },
  {
   "cell_type": "code",
   "execution_count": null,
   "metadata": {},
   "outputs": [],
   "source": [
    "# ещё данные\n",
    "df1 = pickle.load(open('pickle_data_project', 'rb'))"
   ]
  },
  {
   "cell_type": "code",
   "execution_count": null,
   "metadata": {},
   "outputs": [],
   "source": [
    "# прицепим их\n",
    "matrix = pd.concat([matrix, df1_train], axis=1)\n",
    "matrix.shape"
   ]
  },
  {
   "cell_type": "code",
   "execution_count": null,
   "metadata": {},
   "outputs": [],
   "source": [
    "matrix_res = pd.concat([matrix_res, df1_test], axis=1)\n",
    "matrix_res.shape"
   ]
  },
  {
   "cell_type": "code",
   "execution_count": null,
   "metadata": {},
   "outputs": [],
   "source": [
    "# сохранимся\n",
    "import pickle\n",
    "pickle.dump(matrix, open('pickle_data_matrix', 'wb'), protocol=4)\n",
    "pickle.dump(matrix_res, open('pickle_data_matrix_res', 'wb'), protocol=4)"
   ]
  },
  {
   "cell_type": "code",
   "execution_count": null,
   "metadata": {},
   "outputs": [],
   "source": [
    "matrix = pickle.load(open('pickle_data_matrix', 'rb'))\n",
    "matrix_res = pickle.load(open('pickle_data_matrix_res', 'rb'))"
   ]
  },
  {
   "cell_type": "code",
   "execution_count": null,
   "metadata": {},
   "outputs": [],
   "source": [
    "#пробуем рандомфорест\n",
    "from sklearn.ensemble import RandomForestClassifier\n",
    "\n",
    "forest = RandomForestClassifier(n_estimators = 700, verbose=1,n_jobs=4)\n",
    "forest.fit(matrix, target)"
   ]
  },
  {
   "cell_type": "code",
   "execution_count": null,
   "metadata": {},
   "outputs": [],
   "source": [
    "# сохранимся\n",
    "import pickle\n",
    "pickle.dump(forest, open('pickle_gb_ft', 'wb'), protocol=4)"
   ]
  },
  {
   "cell_type": "code",
   "execution_count": null,
   "metadata": {},
   "outputs": [],
   "source": [
    "result = forest.predict(matrix_res)\n",
    "result_proba = forest.predict_proba(matrix_res)\n",
    "\n",
    "# дальше был вывод модели для финального файла. Но там были плохие результаты"
   ]
  },
  {
   "cell_type": "markdown",
   "metadata": {},
   "source": [
    "# feature importance"
   ]
  },
  {
   "cell_type": "code",
   "execution_count": null,
   "metadata": {},
   "outputs": [],
   "source": [
    "# посмотрим веса\n",
    "features_weights = np.array([i.feature_importances_ for i in forest.estimators_]).sum(axis=0)"
   ]
  },
  {
   "cell_type": "code",
   "execution_count": null,
   "metadata": {},
   "outputs": [],
   "source": [
    "# оставим все что важно\n",
    "features = pd.DataFrame(features_weights, index=matrix.columns, columns=['importance'])\n",
    "features.sort_values(by='importance', ascending=False, inplace=True)\n",
    "features_s = features[features['importance']>0]\n",
    "len(features_weights), len(features_s)"
   ]
  },
  {
   "cell_type": "code",
   "execution_count": null,
   "metadata": {},
   "outputs": [],
   "source": [
    "matrix_cut = matrix[features_s.index.tolist()]\n",
    "matrix_cut.shape"
   ]
  },
  {
   "cell_type": "code",
   "execution_count": null,
   "metadata": {},
   "outputs": [],
   "source": [
    "matrix_cut_res = matrix_res[features_s.index.tolist()]\n",
    "matrix_cut_res.shape"
   ]
  },
  {
   "cell_type": "code",
   "execution_count": null,
   "metadata": {},
   "outputs": [],
   "source": [
    "# сохранимся. Главное вовремя сохраниться.\n",
    "import pickle\n",
    "pickle.dump(matrix_cut, open('pickle_matrix_cut', 'wb'), protocol=4)\n",
    "pickle.dump(matrix_cut_res, open('pickle_matrix_cut_res', 'wb'), protocol=4)\n",
    "pickle.dump(target, open('pickle_matrix_target', 'wb'),protocol=4)"
   ]
  },
  {
   "cell_type": "code",
   "execution_count": null,
   "metadata": {},
   "outputs": [],
   "source": [
    "import pickle\n",
    "matrix_cut = pickle.load(open('pickle_matrix_cut', 'rb'))\n",
    "matrix_cut_res = pickle.load(open('pickle_matrix_cut_res', 'rb'))\n",
    "target = pickle.load(open('pickle_matrix_target', 'rb'))"
   ]
  },
  {
   "cell_type": "code",
   "execution_count": null,
   "metadata": {},
   "outputs": [],
   "source": [
    "# градиент буст на собранном таргете. Работал лучше рандом фореста\n",
    "from sklearn.ensemble import GradientBoostingClassifier\n",
    "from sklearn.multiclass import OneVsRestClassifier\n",
    "gb = OneVsRestClassifier(GradientBoostingClassifier(n_estimators = 800, verbose=1,), n_jobs=5, ) \n",
    "\n",
    "gb.fit(matrix_cut, target)"
   ]
  },
  {
   "cell_type": "code",
   "execution_count": null,
   "metadata": {},
   "outputs": [],
   "source": [
    "import pickle\n",
    "pickle.dump(gb, open('pickle_gb', 'wb'), protocol=4)"
   ]
  },
  {
   "cell_type": "markdown",
   "metadata": {},
   "source": [
    "# Devide gender and age"
   ]
  },
  {
   "cell_type": "code",
   "execution_count": null,
   "metadata": {},
   "outputs": [],
   "source": [
    "import pandas as pd"
   ]
  },
  {
   "cell_type": "code",
   "execution_count": null,
   "metadata": {},
   "outputs": [],
   "source": [
    "import pickle\n",
    "matrix_cut = pickle.load(open('pickle_matrix_cut', 'rb'))\n",
    "matrix_cut_res = pickle.load(open('pickle_matrix_cut_res', 'rb'))\n",
    "target = pickle.load(open('pickle_matrix_target', 'rb'))"
   ]
  },
  {
   "cell_type": "code",
   "execution_count": null,
   "metadata": {},
   "outputs": [],
   "source": [
    "# обучимся по полу. OVR лишний конечно же.\n",
    "from sklearn.ensemble import GradientBoostingClassifier\n",
    "from sklearn.multiclass import OneVsRestClassifier\n",
    "ovr1 = OneVsRestClassifier(GradientBoostingClassifier(n_estimators = 800, verbose=1,), n_jobs=4, ) \n",
    "\n",
    "ovr1.fit(matrix_cut, gender_number)\n",
    "import pickle\n",
    "pickle.dump(ovr1, open('ovr1.pckl', 'wb'), protocol=4)"
   ]
  },
  {
   "cell_type": "code",
   "execution_count": null,
   "metadata": {},
   "outputs": [],
   "source": [
    "# закодируем пол что бы потом по нему обучаться\n",
    "gender_number = [1 if x == 'M' else 0 for x in gender]\n",
    "matrix_cut['gender'] = gender_number"
   ]
  },
  {
   "cell_type": "code",
   "execution_count": null,
   "metadata": {
    "scrolled": true
   },
   "outputs": [],
   "source": [
    "# закодируем в ohe возраст\n",
    "age_dummies = pd.get_dummies(age, columns = ['age'])"
   ]
  },
  {
   "cell_type": "code",
   "execution_count": null,
   "metadata": {
    "scrolled": true
   },
   "outputs": [],
   "source": [
    "# обучимся по возрасту, зная пол\n",
    "from sklearn.ensemble import GradientBoostingClassifier\n",
    "from sklearn.multiclass import OneVsRestClassifier\n",
    "ovr2 = OneVsRestClassifier(GradientBoostingClassifier(n_estimators = 150, verbose=777, max_depth=4), n_jobs=5, ) \n",
    "\n",
    "ovr2.fit(matrix_cut, age_dummies)\n",
    "\n",
    "import pickle\n",
    "pickle.dump(ovr2, open('ovr2_with_gender2.pckl', 'wb'), protocol=4)"
   ]
  },
  {
   "cell_type": "code",
   "execution_count": null,
   "metadata": {},
   "outputs": [],
   "source": [
    "# делаем предсказания\n",
    "pred_gender = ovr1.predict(matrix_cut_res)\n",
    "pred_gender_proba = ovr1.predict_proba(matrix_cut_res)\n",
    "pred_gender_proba = [max(i) for i in pred_gender_proba]\n",
    "matrix_cut_res['gender'] = pred_gender\n",
    "pred_age = ovr2.predict_proba(matrix_cut_res)"
   ]
  },
  {
   "cell_type": "code",
   "execution_count": null,
   "metadata": {},
   "outputs": [],
   "source": [
    "# от форматируем всё как было. Выберем самый вероятный возраст.\n",
    "pred_age_done = [[max(row), age_dummies.columns[np.where(row==max(row))[0][0]]] for row in pred_age]\n",
    "proba = [item[0] for item in pred_age_done]\n",
    "age = [item[1] for item in pred_age_done]\n",
    "gender = ['M' if x == 1 else 'F' for x in pred_gender]"
   ]
  },
  {
   "cell_type": "code",
   "execution_count": null,
   "metadata": {},
   "outputs": [],
   "source": [
    "# соберем две вероятности в одну\n",
    "proba_test = []\n",
    "for i in range(len(proba)):\n",
    "    proba_test.append((proba[i] ** 1.7) * pred_gender_proba[i])"
   ]
  },
  {
   "cell_type": "code",
   "execution_count": null,
   "metadata": {},
   "outputs": [],
   "source": [
    "# выкладываем финальный датасет \n",
    "z = pd.DataFrame(df_test['uid'])\n",
    "z['gender'] = gender\n",
    "z['proba'] = proba_test\n",
    "z['age'] =age\n",
    "z.sort_values(by='proba', axis=0, ascending=False, inplace=True)\n",
    "z.set_index('uid', inplace=True)\n",
    "pickle.dump(z, open('pickle_final', 'wb'))"
   ]
  },
  {
   "cell_type": "code",
   "execution_count": null,
   "metadata": {},
   "outputs": [],
   "source": []
  }
 ],
 "metadata": {
  "kernelspec": {
   "display_name": "Python 3",
   "language": "python",
   "name": "python3"
  },
  "language_info": {
   "codemirror_mode": {
    "name": "ipython",
    "version": 3
   },
   "file_extension": ".py",
   "mimetype": "text/x-python",
   "name": "python",
   "nbconvert_exporter": "python",
   "pygments_lexer": "ipython3",
   "version": "3.6.5"
  }
 },
 "nbformat": 4,
 "nbformat_minor": 2
}
